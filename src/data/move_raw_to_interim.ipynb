{
 "cells": [
  {
   "cell_type": "markdown",
   "metadata": {
    "collapsed": true
   },
   "source": [
    ""
   ]
  },
  {
   "cell_type": "code",
   "execution_count": null,
   "metadata": {},
   "outputs": [],
   "source": [
    "import os\n",
    "import numpy as np\n",
    "import shutil\n",
    "import lxml.etree as etree"
   ]
  },
  {
   "cell_type": "code",
   "execution_count": 5,
   "metadata": {},
   "outputs": [
    {
     "name": "stdout",
     "output_type": "stream",
     "text": [
      "523\n587\n569\n"
     ]
    }
   ],
   "source": [
    "clinical_src_dir = os.getcwd() + \"/assn-mirna-luad/data/raw/clinical\"\n",
    "clinical_tgt_dir = os.getcwd() + \"/assn-mirna-luad/data/interim/clinical\"\n",
    "biospecimen_src_dir = os.getcwd() + \"/assn-mirna-luad/data/raw/biospecimen\"\n",
    "biospecimen_tgt_dir = os.getcwd() + \"/assn-mirna-luad/data/interim/biospecimen\"\n",
    "mirna_src_dir = os.getcwd() + \"/assn-mirna-luad/data/raw/miRNA\"\n",
    "mirna_tgt_dir = os.getcwd() + \"/assn-mirna-luad/data/interim/miRNA\"\n",
    "\n",
    "print len(os.listdir(clinical_src_dir))\n",
    "print len(os.listdir(biospecimen_src_dir))\n",
    "print len(os.listdir(mirna_src_dir))"
   ]
  },
  {
   "cell_type": "markdown",
   "metadata": {},
   "source": [
    "Move clinical xml data to /data/interim/clinical"
   ]
  },
  {
   "cell_type": "code",
   "execution_count": 3,
   "metadata": {},
   "outputs": [],
   "source": [
    "for f1 in os.listdir(clinical_src_dir):\n",
    "    if os.path.isdir(clinical_src_dir+\"/\"+f1):\n",
    "        for f2 in os.listdir(clinical_src_dir+\"/\"+f1):\n",
    "            if f2.endswith(\".xml\"):\n",
    "                shutil.copyfile(clinical_src_dir+\"/\"+f1+\"/\"+f2, clinical_tgt_dir+\"/\"+f2)"
   ]
  },
  {
   "cell_type": "markdown",
   "metadata": {},
   "source": [
    "Now process miRNA data. Since data files from GDC are not matched to samples, we have to match them with the provided submitter_ids.tsv file in /data/external by renaming file_ids to submitter_id"
   ]
  },
  {
   "cell_type": "code",
   "execution_count": 63,
   "metadata": {},
   "outputs": [],
   "source": [
    "import pandas\n",
    "\n",
    "submitter_ids = pandas.read_table(\"assn-mirna-luad/data/external/submitter_ids.tsv\")\n",
    "# submitter_ids.head()\n",
    "# print os.listdir(mirna_src_dir)\n",
    "# submitter_ids[submitter_ids[\"file_id\"].isin(os.listdir(mirna_src_dir))][\"cases_0_submitter_id\"]\n",
    "\n",
    "for f1 in os.listdir(mirna_src_dir):\n",
    "    if os.path.isdir(mirna_src_dir+\"/\"+f1):\n",
    "        for f2 in os.listdir(mirna_src_dir+\"/\"+f1):\n",
    "            if f2.startswith(\"mirnas.quantification\"):\n",
    "                f2_submitter_id = submitter_ids[submitter_ids.file_id==f1][\"cases_0_submitter_id\"].to_string().split()[1]\n",
    "                shutil.copyfile(mirna_src_dir+\"/\"+f1+\"/\"+f2, mirna_tgt_dir+\"/miRNA.\"+f2_submitter_id+'.tsv')"
   ]
  },
  {
   "cell_type": "markdown",
   "metadata": {},
   "source": [
    "BioSpecimen data"
   ]
  }
 ],
 "metadata": {
  "kernelspec": {
   "display_name": "Python 2",
   "language": "python",
   "name": "python2"
  },
  "language_info": {
   "codemirror_mode": {
    "name": "ipython",
    "version": 2.0
   },
   "file_extension": ".py",
   "mimetype": "text/x-python",
   "name": "python",
   "nbconvert_exporter": "python",
   "pygments_lexer": "ipython2",
   "version": "2.7.6"
  }
 },
 "nbformat": 4,
 "nbformat_minor": 0
}