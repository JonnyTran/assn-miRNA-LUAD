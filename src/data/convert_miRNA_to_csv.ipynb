{
 "cells": [
  {
   "cell_type": "markdown",
   "metadata": {
    "collapsed": true
   },
   "source": [
    "We combine individual tsv file from /data/interim/miRNA/ to one big csv file and store in /data/processed/miRNA/"
   ]
  },
  {
   "cell_type": "code",
   "execution_count": 5,
   "metadata": {},
   "outputs": [],
   "source": [
    "import os\n",
    "import csv\n",
    "import pandas"
   ]
  },
  {
   "cell_type": "code",
   "execution_count": 2,
   "metadata": {},
   "outputs": [],
   "source": [
    "mirna_src_dir = os.getcwd() + \"/assn-mirna-luad/data/interim/miRNA/\"\n",
    "mirna_tgt_dir = os.getcwd() + \"/assn-mirna-luad/data/processed/miRNA/\""
   ]
  },
  {
   "cell_type": "code",
   "execution_count": 21,
   "metadata": {},
   "outputs": [],
   "source": [
    "test_file = mirna_src_dir+\"miRNA.TCGA-05-4384.tsv\"\n",
    "df = pandas.read_table(test_file)\n",
    "headers = ['patient_barcode',] + df['miRNA_ID'].tolist()\n",
    "\n",
    "csv_file = open(mirna_tgt_dir + 'miRNA.csv', 'w')\n",
    "csvwriter = csv.writer(csv_file)\n",
    "csvwriter.writerow(headers)\n",
    "\n",
    "for f1 in os.listdir(mirna_src_dir):\n",
    "    patient_barcode = f1.split('.')[1]\n",
    "    df = pandas.read_table(mirna_src_dir+f1)\n",
    "    mirna_read_count = df['read_count'].tolist()\n",
    "    csvwriter.writerow([patient_barcode,] + mirna_read_count)"
   ]
  }
 ],
 "metadata": {
  "kernelspec": {
   "display_name": "Python 2",
   "language": "python",
   "name": "python2"
  },
  "language_info": {
   "codemirror_mode": {
    "name": "ipython",
    "version": 2.0
   },
   "file_extension": ".py",
   "mimetype": "text/x-python",
   "name": "python",
   "nbconvert_exporter": "python",
   "pygments_lexer": "ipython2",
   "version": "2.7.6"
  }
 },
 "nbformat": 4,
 "nbformat_minor": 0
}