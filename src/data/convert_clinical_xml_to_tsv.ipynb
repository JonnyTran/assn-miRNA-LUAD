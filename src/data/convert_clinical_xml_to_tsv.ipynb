{
 "cells": [
  {
   "cell_type": "markdown",
   "metadata": {
    "collapsed": true
   },
   "source": [
    "Here we work to extract relevant clinical information from XML tree-like data"
   ]
  },
  {
   "cell_type": "code",
   "execution_count": 1,
   "metadata": {},
   "outputs": [],
   "source": [
    "import os\n",
    "import xml.etree.ElementTree as ET\n",
    "import csv"
   ]
  },
  {
   "cell_type": "code",
   "execution_count": 2,
   "metadata": {},
   "outputs": [
    {
     "ename": "ParseError",
     "evalue": "not well-formed (invalid token): line 1, column 0",
     "traceback": [
      "\u001b[0;36m  File \u001b[0;32m\"<string>\"\u001b[0;36m, line \u001b[0;32munknown\u001b[0m\n\u001b[0;31mParseError\u001b[0m\u001b[0;31m:\u001b[0m not well-formed (invalid token): line 1, column 0\n"
     ],
     "output_type": "error"
    }
   ],
   "source": [
    "clinical_src_dir = os.getcwd() + \"/assn-mirna-luad/data/interim/clinical/\"\n",
    "clinical_tgt_dir = os.getcwd() + \"/assn-mirna-luad/data/processed/clinical/\"\n",
    "\n",
    "luad=\"http://tcga.nci/bcr/xml/clinical/luad/2.7\"\n",
    "shared=\"http://tcga.nci/bcr/xml/shared/2.7\"\n",
    "clin_shared=\"http://tcga.nci/bcr/xml/clinical/shared/2.7\"\n",
    "admin=\"http://tcga.nci/bcr/xml/administration/2.7\"\n",
    "shared_stage=\"http://tcga.nci/bcr/xml/clinical/shared/stage/2.7\"\n",
    "lung_shared=\"http://tcga.nci/bcr/xml/clinical/shared/lung/2.7\"\n",
    "    \n",
    "csv_data = open(clinical_tgt_dir+'clinical.csv', 'w')\n",
    "csvwriter = csv.writer(csv_data)    \n",
    "csvwriter.writerow(('patient_barcode', 'diagnosis', 'histological_type', 'pathologic_stage', 'pathologic_T', 'pathologic_N', 'pathologic_M'))\n",
    "\n",
    "pass\n",
    "for file in os.listdir(clinical_src_dir):\n",
    "    tree = ET.parse(clinical_src_dir+file)\n",
    "    root = tree.getroot()\n",
    "    \n",
    "    for tcga_bcr in root.iter('{%s}tcga_bcr' % luad):\n",
    "        patient = tcga_bcr.find('{%s}patient' % luad)\n",
    "        histological_type = patient.find('{%s}histological_type' % shared).text\n",
    "        patient_barcode = patient.find('{%s}bcr_patient_barcode' % shared).text\n",
    "        diagnosis = patient.find('{%s}diagnosis' % lung_shared).text\n",
    "        \n",
    "        stage_event = patient.find('{%s}stage_event' % shared_stage)\n",
    "        pathologic_stage = stage_event.find('{%s}pathologic_stage' % shared_stage).text\n",
    "        \n",
    "        tnm_categories = stage_event.find('{%s}tnm_categories' % shared_stage)\n",
    "        pathologic_categories = tnm_categories.find('{%s}pathologic_categories' % shared_stage)\n",
    "        pathologic_T = pathologic_categories.find('{%s}pathologic_T' % shared_stage).text\n",
    "        pathologic_N = pathologic_categories.find('{%s}pathologic_N' % shared_stage).text\n",
    "        pathologic_M = pathologic_categories.find('{%s}pathologic_M' % shared_stage).text\n",
    "                \n",
    "        if patient_barcode:\n",
    "            row = patient_barcode, diagnosis, histological_type, pathologic_stage, pathologic_T, pathologic_N, pathologic_M\n",
    "            # print row\n",
    "            csvwriter.writerow(row)\n",
    "        else:\n",
    "            print patient_barcode, diagnosis, histological_type, pathologic_stage, pathologic_T, pathologic_N, pathologic_M"
   ]
  }
 ],
 "metadata": {
  "kernelspec": {
   "display_name": "Python 2",
   "language": "python",
   "name": "python2"
  },
  "language_info": {
   "codemirror_mode": {
    "name": "ipython",
    "version": 2.0
   },
   "file_extension": ".py",
   "mimetype": "text/x-python",
   "name": "python",
   "nbconvert_exporter": "python",
   "pygments_lexer": "ipython2",
   "version": "2.7.6"
  }
 },
 "nbformat": 4,
 "nbformat_minor": 0
}