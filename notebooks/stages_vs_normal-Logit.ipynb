{
 "cells": [
  {
   "cell_type": "markdown",
   "metadata": {
    "collapsed": false
   },
   "source": [
    "## Finding differentialy expressed miRNA's between LUAD stages I, II, III, IV vs normal using Logit regression"
   ]
  },
  {
   "cell_type": "code",
   "execution_count": null,
   "metadata": {},
   "outputs": [],
   "source": [
    "import os\n",
    "import pandas\n",
    "from definitions import ROOT_DIR\n",
    "\n",
    "mirna_tumor_df = pandas.read_csv(os.path.join(ROOT_DIR, \"data/processed/miRNA/tumor_miRNA.csv\"))\n",
    "mirna_normal_df = pandas.read_csv(os.path.join(ROOT_DIR, \"data/processed/miRNA/normal_miRNA.csv\"))\n",
    "clinical_df = pandas.read_csv(os.path.join(ROOT_DIR, \"data/processed/clinical/clinical.csv\"))\n",
    "validated_miRNA_csv = pandas.read_csv(os.path.join(ROOT_DIR, 'data/external/validated_luad_miRNAs_miRCancer.csv'))\n",
    "\n",
    "print \"mirna_tumor_df.shape\", mirna_tumor_df.shape, ', nulls:', mirna_tumor_df.isnull().sum().sum()\n",
    "print \"mirna_normal_df.shape\", mirna_normal_df.shape, ', nulls:', mirna_normal_df.isnull().sum().sum()\n",
    "print 'validated_miRNAs.shape', validated_miRNA_csv.shape\n",
    " \n",
    "X_normal = pandas.merge(clinical_df[['patient_barcode', 'pathologic_stage']], mirna_normal_df, on='patient_barcode')\n",
    "X_normal['pathologic_stage'] = 'normal'\n",
    "X_tumor = pandas.merge(clinical_df[['patient_barcode', 'pathologic_stage']], mirna_tumor_df, on='patient_barcode')\n",
    "\n",
    "# Map stage IA to stage I, IB to I, etc. ...\n",
    "pathologic_stage_map = {'Stage IA': 'Stage I', 'Stage IB': 'Stage I', \n",
    "                        'Stage IIA': 'Stage II', 'Stage IIB': 'Stage II', \n",
    "                        'Stage IIIA': 'Stage III', 'Stage IIIB': 'Stage III'}\n",
    "\n",
    "X_tumor.replace({'pathologic_stage': pathologic_stage_map}, inplace=True)\n",
    "\n",
    "print X_normal['pathologic_stage'].value_counts().sort_index(axis=0)\n",
    "print X_tumor['pathologic_stage'].value_counts().sort_index(axis=0)"
   ]
  },
  {
   "cell_type": "markdown",
   "metadata": {},
   "source": [
    "## We now create data matrixes from tumor vs normal samples\n",
    "\n",
    "- We do not normalize the miRNA expression values because we are using Read Per Kilobase Million Mapped"
   ]
  },
  {
   "cell_type": "code",
   "execution_count": null,
   "metadata": {},
   "outputs": [],
   "source": [
    "X = pandas.concat([X_normal, X_tumor]).dropna(subset=['pathologic_stage'])\n",
    "Y = X['pathologic_stage']\n",
    "\n",
    "X_normal_vs_I = X[X['pathologic_stage'].isin(['normal', 'Stage I'])]\n",
    "X_normal_vs_II = X[X['pathologic_stage'].isin(['normal', 'Stage II'])]\n",
    "X_normal_vs_III = X[X['pathologic_stage'].isin(['normal', 'Stage III'])]\n",
    "X_normal_vs_IV = X[X['pathologic_stage'].isin(['normal', 'Stage IV'])]\n",
    "X_I_vs_II = X[X['pathologic_stage'].isin(['Stage I', 'Stage II'])]\n",
    "X_II_vs_III = X[X['pathologic_stage'].isin(['Stage II', 'Stage III'])]\n",
    "X_III_vs_IV = X[X['pathologic_stage'].isin(['Stage III', 'Stage IV'])]\n",
    "\n",
    "Y_normal_vs_I = X_normal_vs_I['pathologic_stage']\n",
    "Y_normal_vs_II = X_normal_vs_II['pathologic_stage']\n",
    "Y_normal_vs_III = X_normal_vs_III['pathologic_stage']\n",
    "Y_normal_vs_IV = X_normal_vs_IV['pathologic_stage']\n",
    "Y_I_vs_II = X_I_vs_II['pathologic_stage']\n",
    "Y_II_vs_III = X_II_vs_III['pathologic_stage']\n",
    "Y_III_vs_IV = X_III_vs_IV['pathologic_stage']\n",
    "\n",
    "X_normal_vs_I.__delitem__('patient_barcode')\n",
    "X_normal_vs_I.__delitem__('pathologic_stage')\n",
    "X_normal_vs_II.__delitem__('patient_barcode')\n",
    "X_normal_vs_II.__delitem__('pathologic_stage')\n",
    "X_normal_vs_III.__delitem__('patient_barcode')\n",
    "X_normal_vs_III.__delitem__('pathologic_stage')\n",
    "X_normal_vs_IV.__delitem__('patient_barcode')\n",
    "X_normal_vs_IV.__delitem__('pathologic_stage')\n",
    "X_I_vs_II.__delitem__('patient_barcode')\n",
    "X_I_vs_II.__delitem__('pathologic_stage')\n",
    "X_II_vs_III.__delitem__('patient_barcode')\n",
    "X_II_vs_III.__delitem__('pathologic_stage')\n",
    "X_III_vs_IV.__delitem__('patient_barcode')\n",
    "X_III_vs_IV.__delitem__('pathologic_stage')\n",
    "\n",
    "X.__delitem__('patient_barcode')\n",
    "X.__delitem__('pathologic_stage')\n",
    "\n",
    "print 'miRNA null values', X.isnull().sum().sum()\n",
    "print 'Y null values', Y.isnull().sum()\n",
    "\n",
    "print \"X.shape\", X.shape\n",
    "print \"Y.shape\", Y.shape\n",
    "\n",
    "mirna_list = X.columns.values\n",
    "validated_miRNAs = set(validated_miRNA_csv['miRNA'].tolist())"
   ]
  },
  {
   "cell_type": "markdown",
   "metadata": {},
   "source": [
    "### Logistic regression hyper-parameter selection for \"C\""
   ]
  },
  {
   "cell_type": "code",
   "execution_count": 4,
   "metadata": {},
   "outputs": [
    {
     "ename": "NameError",
     "evalue": "name 'np' is not defined",
     "traceback": [
      "\u001b[0;31m\u001b[0m",
      "\u001b[0;31mNameError\u001b[0mTraceback (most recent call last)",
      "\u001b[0;32m<ipython-input-4-98f0ad14782c>\u001b[0m in \u001b[0;36m<module>\u001b[0;34m()\u001b[0m\n\u001b[1;32m      2\u001b[0m \u001b[0;32mfrom\u001b[0m \u001b[0mmatplotlib\u001b[0m \u001b[0;32mimport\u001b[0m \u001b[0mpyplot\u001b[0m \u001b[0;32mas\u001b[0m \u001b[0mplt\u001b[0m\u001b[0;34m\u001b[0m\u001b[0m\n\u001b[1;32m      3\u001b[0m \u001b[0;34m\u001b[0m\u001b[0m\n\u001b[0;32m----> 4\u001b[0;31m \u001b[0mcs\u001b[0m \u001b[0;34m=\u001b[0m \u001b[0ml1_min_c\u001b[0m\u001b[0;34m(\u001b[0m\u001b[0mX\u001b[0m\u001b[0;34m,\u001b[0m \u001b[0mY\u001b[0m\u001b[0;34m,\u001b[0m \u001b[0mloss\u001b[0m\u001b[0;34m=\u001b[0m\u001b[0;34m'log'\u001b[0m\u001b[0;34m)\u001b[0m \u001b[0;34m*\u001b[0m \u001b[0mnp\u001b[0m\u001b[0;34m.\u001b[0m\u001b[0mlogspace\u001b[0m\u001b[0;34m(\u001b[0m\u001b[0;36m0\u001b[0m\u001b[0;34m,\u001b[0m \u001b[0;36m1\u001b[0m\u001b[0;34m)\u001b[0m\u001b[0;34m\u001b[0m\u001b[0m\n\u001b[0m\u001b[1;32m      5\u001b[0m \u001b[0mclf\u001b[0m \u001b[0;34m=\u001b[0m \u001b[0mlinear_model\u001b[0m\u001b[0;34m.\u001b[0m\u001b[0mLogisticRegression\u001b[0m\u001b[0;34m(\u001b[0m\u001b[0mC\u001b[0m\u001b[0;34m=\u001b[0m\u001b[0;36m0.1\u001b[0m\u001b[0;34m,\u001b[0m \u001b[0mpenalty\u001b[0m\u001b[0;34m=\u001b[0m\u001b[0;34m'l1'\u001b[0m\u001b[0;34m,\u001b[0m \u001b[0mfit_intercept\u001b[0m\u001b[0;34m=\u001b[0m\u001b[0mFalse\u001b[0m\u001b[0;34m)\u001b[0m\u001b[0;34m\u001b[0m\u001b[0m\n\u001b[1;32m      6\u001b[0m \u001b[0mcoefs_\u001b[0m \u001b[0;34m=\u001b[0m \u001b[0;34m[\u001b[0m\u001b[0;34m]\u001b[0m\u001b[0;34m\u001b[0m\u001b[0m\n",
      "\u001b[0;31mNameError\u001b[0m: name 'np' is not defined"
     ],
     "output_type": "error"
    }
   ],
   "source": [
    "from sklearn.svm import l1_min_c\n",
    "from matplotlib import pyplot as plt\n",
    "\n",
    "cs = l1_min_c(X, Y, loss='log') * np.logspace(0, 1)\n",
    "clf = linear_model.LogisticRegression(C=0.1, penalty='l1', fit_intercept=False)\n",
    "coefs_ = []\n",
    "for c in cs:\n",
    "    clf.set_params(C=c)\n",
    "    clf.fit(X, Y)\n",
    "    coefs_.append(clf.coef_.ravel().copy())\n",
    "\n",
    "coefs_ = np.array(coefs_)\n",
    "plt.plot(cs, coefs_)\n",
    "ymin, ymax = plt.ylim()\n",
    "plt.xlabel('C')\n",
    "plt.ylabel('Coefficients')\n",
    "plt.title('Logistic Regression Path')\n",
    "plt.axis('tight')\n",
    "plt.show()"
   ]
  },
  {
   "cell_type": "code",
   "execution_count": 5,
   "metadata": {
    "collapsed": false
   },
   "outputs": [
    {
     "name": "stdout",
     "output_type": "stream",
     "text": [
      "mirna_list 1881\nvalidated_miRNAs 27\nnumber of validated miRNAs in list of all miRNAs 21\nStage I    277\nnormal      46\nName: pathologic_stage, dtype: int64\nStage II    121\nnormal       46\nName: pathologic_stage, dtype: int64\nStage III    84\nnormal       46\nName: pathologic_stage, dtype: int64\nnormal      46\nStage IV    24\nName: pathologic_stage, dtype: int64\n"
     ]
    }
   ],
   "source": [
    "print \"mirna_list\", len(mirna_list)\n",
    "print 'validated_miRNAs', len(validated_miRNAs)\n",
    "\n",
    "print \"number of validated miRNAs in list of all miRNAs\", len(validated_miRNAs & set(mirna_list))\n",
    "\n",
    "print Y_normal_vs_I.value_counts()\n",
    "print Y_normal_vs_II.value_counts()\n",
    "print Y_normal_vs_III.value_counts()\n",
    "print Y_normal_vs_IV.value_counts()"
   ]
  },
  {
   "cell_type": "markdown",
   "metadata": {},
   "source": [
    "## Perform classification for normal vs Stage I, Stage II, Stage III, and Stage IV\n"
   ]
  },
  {
   "cell_type": "code",
   "execution_count": 43,
   "metadata": {},
   "outputs": [
    {
     "name": "stdout",
     "output_type": "stream",
     "text": [
      "LogisticRegressionCV(Cs=[0.001, 0.01, 0.10000000000000001, 1.0, 10.0, 100.0],\n           class_weight=None, cv=3, dual=False, fit_intercept=False,\n           intercept_scaling=1.0, max_iter=100, multi_class='ovr',\n           n_jobs=1, penalty='l1', random_state=None, refit=True,\n           scoring=None, solver='liblinear', tol=0.0001, verbose=0)\n"
     ]
    },
    {
     "name": "stdout",
     "output_type": "stream",
     "text": [
      "LogisticRegressionCV(Cs=[0.001, 0.01, 0.10000000000000001, 1.0, 10.0, 100.0],\n           class_weight=None, cv=3, dual=False, fit_intercept=False,\n           intercept_scaling=1.0, max_iter=100, multi_class='ovr',\n           n_jobs=1, penalty='l1', random_state=None, refit=True,\n           scoring=None, solver='liblinear', tol=0.0001, verbose=0)\n"
     ]
    },
    {
     "name": "stdout",
     "output_type": "stream",
     "text": [
      "LogisticRegressionCV(Cs=[0.001, 0.01, 0.10000000000000001, 1.0, 10.0, 100.0],\n           class_weight=None, cv=3, dual=False, fit_intercept=False,\n           intercept_scaling=1.0, max_iter=100, multi_class='ovr',\n           n_jobs=1, penalty='l1', random_state=None, refit=True,\n           scoring=None, solver='liblinear', tol=0.0001, verbose=0)\nLogisticRegressionCV(Cs=[0.001, 0.01, 0.10000000000000001, 1.0, 10.0, 100.0],\n           class_weight=None, cv=3, dual=False, fit_intercept=False,\n           intercept_scaling=1.0, max_iter=100, multi_class='ovr',\n           n_jobs=1, penalty='l1', random_state=None, refit=True,\n           scoring=None, solver='liblinear', tol=0.0001, verbose=0)\n"
     ]
    },
    {
     "name": "stdout",
     "output_type": "stream",
     "text": [
      "LogisticRegressionCV(Cs=[0.001, 0.01, 0.10000000000000001, 1.0, 10.0, 100.0],\n           class_weight=None, cv=3, dual=False, fit_intercept=False,\n           intercept_scaling=1.0, max_iter=100, multi_class='ovr',\n           n_jobs=1, penalty='l1', random_state=None, refit=True,\n           scoring=None, solver='liblinear', tol=0.0001, verbose=0)\n"
     ]
    },
    {
     "name": "stdout",
     "output_type": "stream",
     "text": [
      "LogisticRegressionCV(Cs=[0.001, 0.01, 0.10000000000000001, 1.0, 10.0, 100.0],\n           class_weight=None, cv=3, dual=False, fit_intercept=False,\n           intercept_scaling=1.0, max_iter=100, multi_class='ovr',\n           n_jobs=1, penalty='l1', random_state=None, refit=True,\n           scoring=None, solver='liblinear', tol=0.0001, verbose=0)\n"
     ]
    },
    {
     "name": "stdout",
     "output_type": "stream",
     "text": [
      "LogisticRegressionCV(Cs=[0.001, 0.01, 0.10000000000000001, 1.0, 10.0, 100.0],\n           class_weight=None, cv=3, dual=False, fit_intercept=False,\n           intercept_scaling=1.0, max_iter=100, multi_class='ovr',\n           n_jobs=1, penalty='l1', random_state=None, refit=True,\n           scoring=None, solver='liblinear', tol=0.0001, verbose=0)\n"
     ]
    }
   ],
   "source": [
    "from sklearn.model_selection import train_test_split\n",
    "from sklearn import linear_model\n",
    "from sklearn import metrics\n",
    "import numpy as np\n",
    "\n",
    "X_normal_vs_I_train, X_normal_vs_I_test, Y_normal_vs_I_train, Y_normal_vs_I_test = \\\n",
    "    train_test_split(X_normal_vs_I, Y_normal_vs_I, test_size=0.2, random_state=np.random.randint(0, 10000))\n",
    "\n",
    "X_normal_vs_II_train, X_normal_vs_II_test, Y_normal_vs_II_train, Y_normal_vs_II_test = \\\n",
    "    train_test_split(X_normal_vs_II, Y_normal_vs_II, test_size=0.2, random_state=np.random.randint(0, 10000))\n",
    "\n",
    "X_normal_vs_III_train, X_normal_vs_III_test, Y_normal_vs_III_train, Y_normal_vs_III_test = \\\n",
    "    train_test_split(X_normal_vs_III, Y_normal_vs_III, test_size=0.2, random_state=np.random.randint(0, 10000))\n",
    "\n",
    "X_normal_vs_IV_train, X_normal_vs_IV_test, Y_normal_vs_IV_train, Y_normal_vs_IV_test = \\\n",
    "    train_test_split(X_normal_vs_IV, Y_normal_vs_IV, test_size=0.2, random_state=np.random.randint(0, 10000))\n",
    "\n",
    "\n",
    "X_I_vs_II_train, X_I_vs_II_test, Y_I_vs_II_train, Y_I_vs_II_test = \\\n",
    "    train_test_split(X_I_vs_II, Y_I_vs_II, test_size=0.2, random_state=np.random.randint(0, 10000))\n",
    "\n",
    "X_II_vs_III_train, X_II_vs_III_test, Y_II_vs_III_train, Y_II_vs_III_test = \\\n",
    "    train_test_split(X_II_vs_III, Y_II_vs_III, test_size=0.2, random_state=np.random.randint(0, 10000))\n",
    "\n",
    "X_III_vs_IV_train, X_III_vs_IV_test, Y_III_vs_IV_train, Y_III_vs_IV_test = \\\n",
    "    train_test_split(X_III_vs_IV, Y_III_vs_IV, test_size=0.2, random_state=np.random.randint(0, 10000))\n",
    "\n",
    "\n",
    "normal_vs_I =   linear_model.LogisticRegressionCV(Cs=list(np.power(10.0, np.arange(-3, 3))),\n",
    "                                                  cv=3,\n",
    "                                                  solver='liblinear',\n",
    "                                                  penalty='l1',\n",
    "                                                  fit_intercept=False)\n",
    "normal_vs_II =  linear_model.LogisticRegressionCV(Cs=list(np.power(10.0, np.arange(-3, 3))),\n",
    "                                                  cv=3,\n",
    "                                                  solver='liblinear',\n",
    "                                                  penalty='l1',\n",
    "                                                  fit_intercept=False)\n",
    "normal_vs_III = linear_model.LogisticRegressionCV(Cs=list(np.power(10.0, np.arange(-3, 3))),\n",
    "                                                  cv=3,\n",
    "                                                  solver='liblinear',\n",
    "                                                  penalty='l1',\n",
    "                                                  fit_intercept=False)\n",
    "normal_vs_IV =  linear_model.LogisticRegressionCV(Cs=list(np.power(10.0, np.arange(-3, 3))),\n",
    "                                                  cv=3,\n",
    "                                                  solver='liblinear',\n",
    "                                                  penalty='l1',\n",
    "                                                  fit_intercept=False)\n",
    "\n",
    "I_vs_II =  linear_model.LogisticRegressionCV(Cs=list(np.power(10.0, np.arange(-3, 3))),\n",
    "                                                  cv=3,\n",
    "                                                  solver='liblinear',\n",
    "                                                  penalty='l1',\n",
    "                                                  fit_intercept=False)\n",
    "\n",
    "II_vs_III =  linear_model.LogisticRegressionCV(Cs=list(np.power(10.0, np.arange(-3, 3))),\n",
    "                                                  cv=3,\n",
    "                                                  solver='liblinear',\n",
    "                                                  penalty='l1',\n",
    "                                                  fit_intercept=False)\n",
    "\n",
    "III_vs_IV =  linear_model.LogisticRegressionCV(Cs=list(np.power(10.0, np.arange(-3, 3))),\n",
    "                                                  cv=3,\n",
    "                                                  solver='liblinear',\n",
    "                                                  penalty='l1',\n",
    "                                                  fit_intercept=False)\n",
    "\n",
    "print normal_vs_I.fit(X_normal_vs_I_train, Y_normal_vs_I_train)\n",
    "print normal_vs_II.fit(X_normal_vs_II_train, Y_normal_vs_II_train)\n",
    "print normal_vs_III.fit(X_normal_vs_III_train, Y_normal_vs_III_train)\n",
    "print normal_vs_IV.fit(X_normal_vs_IV_train, Y_normal_vs_IV_train)\n",
    "print I_vs_II.fit(X_I_vs_II_train, Y_I_vs_II_train)\n",
    "print II_vs_III.fit(X_II_vs_III_train, Y_II_vs_III_train)\n",
    "print III_vs_IV.fit(X_III_vs_IV_train, Y_III_vs_IV_train)\n",
    "\n",
    "# print \"\\nClassification_report on training\"\n",
    "# print metrics.classification_report(y_train, model.predict(X_train), \n",
    "#                                     labels=['normal', 'Stage I', 'Stage II', 'Stage III', 'Stage IV'], \n",
    "#                                     target_names=['normal', 'Stage I', 'Stage II', 'Stage III', 'Stage IV'])\n",
    "# print \"classification_report on testing\"\n",
    "# print metrics.classification_report(y_test, model.predict(X_test), \n",
    "#                                     labels=['normal', 'Stage I', 'Stage II', 'Stage III', 'Stage IV'], \n",
    "#                                     target_names=['normal', 'Stage I', 'Stage II', 'Stage III', 'Stage IV'])\n",
    "# print metrics.confusion_matrix(y_test, model.predict(X_test), \n",
    "#                                labels=['normal', 'Stage I', 'Stage II', 'Stage III', 'Stage IV'])"
   ]
  },
  {
   "cell_type": "markdown",
   "metadata": {},
   "source": [
    "## Show number of candidate miRNAs, top miRNA's based on coefficient, and percentage of known miRNA"
   ]
  },
  {
   "cell_type": "code",
   "execution_count": 44,
   "metadata": {
    "collapsed": false
   },
   "outputs": [
    {
     "name": "stdout",
     "output_type": "stream",
     "text": [
      "\nnormal_vs_I\nNon-zero coef: 16\n    coefficient           mirna\n4      0.000195  hsa-mir-103a-2\n3      0.000179  hsa-mir-103a-1\n13     0.000124     hsa-mir-30a\n0      0.000100    hsa-let-7a-2\n2      0.000054     hsa-mir-100\n15     0.000035     hsa-mir-99b\n    coefficient         mirna\n8     -0.000527   hsa-mir-182\n14    -0.000223   hsa-mir-30d\n12    -0.000191    hsa-mir-22\n7     -0.000179  hsa-mir-148a\n5     -0.000093   hsa-mir-10a\n10    -0.000059  hsa-mir-203a\nPercentage of known NSCLC miRNAs: 0.0740740740741\nset(['hsa-mir-200c', 'hsa-mir-30a']) 2\n\nnormal_vs_II\nNon-zero coef: 147\n     coefficient         mirna\n131     0.006146   hsa-mir-598\n114     0.004475  hsa-mir-374b\n144     0.004009    hsa-mir-98\n120     0.002834   hsa-mir-425\n133     0.002512   hsa-mir-652\n31      0.002404   hsa-mir-139\n     coefficient          mirna\n119    -0.017449    hsa-mir-424\n121    -0.014281   hsa-mir-450b\n136    -0.009320   hsa-mir-891a\n83     -0.007911    hsa-mir-224\n112    -0.006960   hsa-mir-365a\n24     -0.005626  hsa-mir-1269a\nPercentage of known NSCLC miRNAs: 0.37037037037\nset(['hsa-mir-200b', 'hsa-mir-200c', 'hsa-mir-200a', 'hsa-mir-99a', 'hsa-mir-374a', 'hsa-mir-150', 'hsa-mir-145', 'hsa-mir-155', 'hsa-mir-141', 'hsa-mir-30a']) 10\n\nnormal_vs_III\nNon-zero coef: 21\n    coefficient         mirna\n2      0.000202  hsa-let-7a-3\n4      0.000168  hsa-let-7f-2\n0      0.000165  hsa-let-7a-1\n18     0.000155   hsa-mir-30d\n3      0.000132  hsa-let-7f-1\n10     0.000043   hsa-mir-143\n    coefficient         mirna\n14    -0.000829  hsa-mir-199b\n11    -0.000292  hsa-mir-148a\n12    -0.000290   hsa-mir-182\n13    -0.000241   hsa-mir-192\n16    -0.000123    hsa-mir-22\n5     -0.000069   hsa-mir-100\nPercentage of known NSCLC miRNAs: 0.0\nset([]) 0\n\nnormal_vs_IV\nNon-zero coef: 17\n    coefficient         mirna\n6      0.000204   hsa-mir-100\n3      0.000113    hsa-let-7b\n14     0.000102   hsa-mir-30a\n9      0.000060   hsa-mir-143\n16     0.000049   hsa-mir-99b\n0      0.000010  hsa-let-7a-1\n    coefficient         mirna\n8     -0.000457   hsa-mir-10b\n15    -0.000357   hsa-mir-375\n11    -0.000252   hsa-mir-182\n13    -0.000161    hsa-mir-22\n10    -0.000099  hsa-mir-148a\n7     -0.000056   hsa-mir-10a\nPercentage of known NSCLC miRNAs: 0.037037037037\nset(['hsa-mir-30a']) 1\n\nI_vs_II\nNon-zero coef: 72\n    coefficient          mirna\n14     0.000977    hsa-mir-134\n67     0.000802    hsa-mir-675\n61     0.000797   hsa-mir-378a\n44     0.000666  hsa-mir-29b-1\n29     0.000467   hsa-mir-200a\n65     0.000451    hsa-mir-508\n    coefficient          mirna\n50    -0.002348  hsa-mir-30c-1\n4     -0.001794     hsa-let-7g\n35    -0.000844    hsa-mir-215\n47    -0.000568   hsa-mir-3065\n63    -0.000551   hsa-mir-451a\n51    -0.000525  hsa-mir-30c-2\nPercentage of known NSCLC miRNAs: 0.259259259259\nset(['hsa-mir-200c', 'hsa-mir-200a', 'hsa-mir-374a', 'hsa-mir-145', 'hsa-mir-155', 'hsa-mir-141', 'hsa-mir-30a']) 7\n\nII_vs_III\nNon-zero coef: 164\n     coefficient          mirna\n114     0.085511     hsa-mir-31\n72      0.060228    hsa-mir-195\n138     0.056369  hsa-mir-4662a\n150     0.034177    hsa-mir-584\n132     0.028824    hsa-mir-424\n18      0.027992   hsa-mir-106a\n     coefficient          mirna\n147    -0.079921    hsa-mir-552\n69     -0.079833   hsa-mir-193b\n40     -0.049570    hsa-mir-144\n141    -0.048033  hsa-mir-486-2\n45     -0.037048   hsa-mir-148b\n154    -0.036771   hsa-mir-891a\nPercentage of known NSCLC miRNAs: 0.481481481481\nset(['hsa-mir-200b', 'hsa-mir-200c', 'hsa-mir-200a', 'hsa-mir-99a', 'hsa-mir-150', 'hsa-mir-374a', 'hsa-mir-429', 'hsa-mir-381', 'hsa-mir-145', 'hsa-mir-155', 'hsa-mir-141', 'hsa-mir-30a', 'hsa-mir-31']) 13\n\nIII_vs_IV\nNon-zero coef: 66\n    coefficient          mirna\n18     0.010594    hsa-mir-140\n50     0.006881  hsa-mir-29b-2\n55     0.004783    hsa-mir-338\n40     0.003339    hsa-mir-210\n20     0.003169    hsa-mir-142\n23     0.003110   hsa-mir-146b\n    coefficient         mirna\n56    -0.005669   hsa-mir-34a\n17    -0.004797  hsa-mir-1307\n16    -0.003646   hsa-mir-127\n42    -0.002867   hsa-mir-221\n27    -0.002007    hsa-mir-17\n15    -0.001886   hsa-mir-126\nPercentage of known NSCLC miRNAs: 0.185185185185\nset(['hsa-mir-200c', 'hsa-mir-30a', 'hsa-mir-145', 'hsa-mir-150', 'hsa-mir-141']) 5\n"
     ]
    }
   ],
   "source": [
    "from src.utils.validate_candidate_miRNAs import percent_candidate_in_validated\n",
    "results = []\n",
    "\n",
    "for model, name in zip([normal_vs_I, normal_vs_II, normal_vs_III, normal_vs_IV, I_vs_II, II_vs_III, III_vs_IV],\n",
    "                       ['normal_vs_I', 'normal_vs_II', 'normal_vs_III', 'normal_vs_IV', 'I_vs_II',\n",
    "                        'II_vs_III', 'III_vs_IV']):\n",
    "    print '\\n', name \n",
    "    non_zero_idx = np.nonzero(model.coef_.ravel())[0]\n",
    "    print \"Non-zero coef:\", non_zero_idx.size\n",
    "    df = pandas.DataFrame({\"mirna\": mirna_list[non_zero_idx],\n",
    "                           \"coefficient\": model.coef_.ravel()[non_zero_idx]})\n",
    "    print df.sort_values(by='coefficient', ascending=False).head(6)\n",
    "    print df.sort_values(by='coefficient', ascending=True).head(6)\n",
    "    \n",
    "    print \"Percentage of known NSCLC miRNAs:\", percent_candidate_in_validated(df['mirna'].tolist(), validated_miRNAs)\n",
    "    print set(df['mirna'].tolist()) & validated_miRNAs, len(set(df['mirna'].tolist()) & validated_miRNAs)\n",
    "    \n",
    "    results.append(df)"
   ]
  },
  {
   "cell_type": "code",
   "execution_count": 45,
   "metadata": {},
   "outputs": [],
   "source": [
    ""
   ]
  },
  {
   "cell_type": "code",
   "execution_count": 45,
   "metadata": {},
   "outputs": [
    {
     "name": "stdout",
     "output_type": "stream",
     "text": [
      "\nStage 1 - Stage 1  :  16\n\nStage 1 - Stage 2  :  16\n\nStage 1 - Stage 3  :  13\n\nStage 1 - Stage 4  :  11\n\nStage 1 - Stage 5  :  15\n\nStage 1 - Stage 6  :  16\n\nStage 1 - Stage 7  :  16\n\nStage 2 - Stage 1  :  16\n\nStage 2 - Stage 2  :  147\n\nStage 2 - Stage 3  :  21\n\nStage 2 - Stage 4  :  17\n\nStage 2 - Stage 5  :  68\n\nStage 2 - Stage 6  :  134\n\nStage 2 - Stage 7  :  65\n\nStage 3 - Stage 1  :  13\n\nStage 3 - Stage 2  :  21\n\nStage 3 - Stage 3  :  21\n\nStage 3 - Stage 4  :  15\n\nStage 3 - Stage 5  :  18\n\nStage 3 - Stage 6  :  21\n\nStage 3 - Stage 7  :  21\n\nStage 4 - Stage 1  :  11\n\nStage 4 - Stage 2  :  17\n\nStage 4 - Stage 3  :  15\n\nStage 4 - Stage 4  :  17\n\nStage 4 - Stage 5  :  14\n\nStage 4 - Stage 6  :  17\n\nStage 4 - Stage 7  :  17\n\nStage 5 - Stage 1  :  15\n\nStage 5 - Stage 2  :  68\n\nStage 5 - Stage 3  :  18\n\nStage 5 - Stage 4  :  14\n\nStage 5 - Stage 5  :  72\n\nStage 5 - Stage 6  :  72\n\nStage 5 - Stage 7  :  47\n\nStage 6 - Stage 1  :  16\n\nStage 6 - Stage 2  :  134\n\nStage 6 - Stage 3  :  21\n\nStage 6 - Stage 4  :  17\n\nStage 6 - Stage 5  :  72\n\nStage 6 - Stage 6  :  164\n\nStage 6 - Stage 7  :  66\n\nStage 7 - Stage 1  :  16\n\nStage 7 - Stage 2  :  65\n\nStage 7 - Stage 3  :  21\n\nStage 7 - Stage 4  :  17\n\nStage 7 - Stage 5  :  47\n\nStage 7 - Stage 6  :  66\n\nStage 7 - Stage 7  :  66\n"
     ]
    }
   ],
   "source": [
    "for i in range(len(results)):\n",
    "    for j in range(len(results)):\n",
    "        print '\\n', \"Stage \"+str(i+1)+' - Stage '+str(j+1), ' : ',len(set(results[i]['mirna'].tolist()) & set(results[j]['mirna'].tolist()))\n",
    "        # print set(results[i]['mirna'].tolist()) & set(results[j]['mirna'].tolist())"
   ]
  },
  {
   "cell_type": "code",
   "execution_count": 46,
   "metadata": {},
   "outputs": [
    {
     "name": "stdout",
     "output_type": "stream",
     "text": [
      "             precision    recall  f1-score   support\n\n     normal       0.83      1.00      0.91         5\n    Stage I       1.00      0.98      0.99        60\n\navg / total       0.99      0.98      0.99        65\n\n             precision    recall  f1-score   support\n\n     normal       1.00      1.00      1.00        12\n   Stage II       1.00      1.00      1.00        22\n\navg / total       1.00      1.00      1.00        34\n\n             precision    recall  f1-score   support\n\n     normal       0.83      1.00      0.91        10\n  Stage III       1.00      0.88      0.93        16\n\navg / total       0.94      0.92      0.92        26\n\n             precision    recall  f1-score   support\n\n     normal       1.00      0.90      0.95        10\n   Stage IV       0.80      1.00      0.89         4\n\navg / total       0.94      0.93      0.93        14\n\n             precision    recall  f1-score   support\n\n    Stage I       0.71      0.79      0.75        57\n   Stage II       0.29      0.22      0.25        23\n\navg / total       0.59      0.62      0.61        80\n\n             precision    recall  f1-score   support\n\n   Stage II       0.70      0.70      0.70        23\n  Stage III       0.61      0.61      0.61        18\n\navg / total       0.66      0.66      0.66        41\n\n             precision    recall  f1-score   support\n\n  Stage III       0.69      0.65      0.67        17\n   Stage IV       0.00      0.00      0.00         5\n\navg / total       0.53      0.50      0.52        22\n\n"
     ]
    }
   ],
   "source": [
    "# print normal_vs_I.fit(X_normal_vs_I, Y_normal_vs_I)\n",
    "# print normal_vs_II.fit(X_normal_vs_II, Y_normal_vs_II)\n",
    "# print normal_vs_III.fit(X_normal_vs_III, Y_normal_vs_III)\n",
    "# print normal_vs_IV.fit(X_normal_vs_IV, Y_normal_vs_IV)\n",
    "\n",
    "print metrics.classification_report(Y_normal_vs_I_test, normal_vs_I.predict(X_normal_vs_I_test), \n",
    "                                    labels=['normal', 'Stage I'], \n",
    "                                    target_names=['normal', 'Stage I']) \n",
    "print metrics.classification_report(Y_normal_vs_II_test, normal_vs_II.predict(X_normal_vs_II_test), \n",
    "                                    labels=['normal', 'Stage II'], \n",
    "                                    target_names=['normal', 'Stage II']) \n",
    "print metrics.classification_report(Y_normal_vs_III_test, normal_vs_III.predict(X_normal_vs_III_test), \n",
    "                                    labels=['normal', 'Stage III'], \n",
    "                                    target_names=['normal', 'Stage III']) \n",
    "print metrics.classification_report(Y_normal_vs_IV_test, normal_vs_IV.predict(X_normal_vs_IV_test), \n",
    "                                    labels=['normal', 'Stage IV'], \n",
    "                                    target_names=['normal', 'Stage IV'])\n",
    "print metrics.classification_report(Y_I_vs_II_test, I_vs_II.predict(X_I_vs_II_test), \n",
    "                                    labels=['Stage I', 'Stage II'], \n",
    "                                    target_names=['Stage I', 'Stage II'])\n",
    "print metrics.classification_report(Y_II_vs_III_test, II_vs_III.predict(X_II_vs_III_test), \n",
    "                                    labels=['Stage II', 'Stage III'], \n",
    "                                    target_names=['Stage II', 'Stage III'])\n",
    "print metrics.classification_report(Y_III_vs_IV_test, III_vs_IV.predict(X_III_vs_IV_test), \n",
    "                                    labels=['Stage III', 'Stage IV'], \n",
    "                                    target_names=['Stage III', 'Stage IV'])"
   ]
  },
  {
   "cell_type": "code",
   "execution_count": null,
   "metadata": {
    "collapsed": false
   },
   "outputs": [],
   "source": [
    "from matplotlib import pyplot as plt\n",
    "\n",
    "all_candidate_miRNAs = set(results[0]['mirna']) | set(results[1]['mirna']) | set(results[2]['mirna']) | \\\n",
    "                       set(results[3]['mirna']) | set(results[4]['mirna']) | set(results[5]['mirna']) | \\\n",
    "                                                                               set(results[6]['mirna'])\n",
    "sorted_candidate_miRNAs = []\n",
    "for miR in mirna_list:\n",
    "    if miR in all_candidate_miRNAs:\n",
    "        sorted_candidate_miRNAs.append(miR)\n",
    "print sorted_candidate_miRNAs.__len__()\n",
    "\n",
    "plt.figure(figsize=(33, 5))\n",
    "plt.xticks(range(sorted_candidate_miRNAs.__len__()), sorted_candidate_miRNAs, rotation='vertical', fontsize=6)\n",
    "\n",
    "for i in [0,1,2,3,4,5,6]:\n",
    "    x_indx = []\n",
    "    y_values = []\n",
    "    for x_str in results[i]['mirna']:\n",
    "        # print all_candidate_miRNAs.index(x_str)\n",
    "        x_indx.append(sorted_candidate_miRNAs.index(x_str))\n",
    "    if i in [0,1,2,3]:\n",
    "        for y_value in results[i]['coefficient']:\n",
    "            y_values.append(y_value)\n",
    "    else:\n",
    "        for y_value in results[i]['coefficient']:\n",
    "            y_values.append(-y_value)\n",
    "\n",
    "    if i in [0,1,2,3]:\n",
    "        plt.plot(x_indx, y_values, marker='.', linestyle='', alpha=0.5, label='normal vs Stage '+str(i+1))\n",
    "    else:\n",
    "        plt.plot(x_indx, y_values, marker='.', linestyle='', alpha=0.5, label='Stage '+ str(i-3) +' vs Stage '+str(i-2))\n",
    "\n",
    "plt.legend()\n",
    "plt.ylabel('Coefficient value')\n",
    "plt.xlabel('Candidate miRNAs selected by all')\n",
    "plt.title('Manhattan Plot of miRNAs between normal vs. Stage I, II, III, IV, Stage I vs II, II vs III, and III vs IV')\n",
    "plt.axis('auto')\n",
    "plt.grid(True)\n",
    "plt.show()"
   ]
  },
  {
   "cell_type": "code",
   "execution_count": 32,
   "metadata": {},
   "outputs": [],
   "source": [
    ""
   ]
  },
  {
   "cell_type": "code",
   "execution_count": null,
   "metadata": {},
   "outputs": [],
   "source": [
    ""
   ]
  }
 ],
 "metadata": {
  "kernelspec": {
   "display_name": "Python 2",
   "language": "python",
   "name": "python2"
  },
  "language_info": {
   "codemirror_mode": {
    "name": "ipython",
    "version": 2.0
   },
   "file_extension": ".py",
   "mimetype": "text/x-python",
   "name": "python",
   "nbconvert_exporter": "python",
   "pygments_lexer": "ipython2",
   "version": "2.7.6"
  }
 },
 "nbformat": 4,
 "nbformat_minor": 0
}