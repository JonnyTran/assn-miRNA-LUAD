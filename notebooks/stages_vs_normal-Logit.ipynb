{
 "cells": [
  {
   "cell_type": "markdown",
   "metadata": {
    "collapsed": false
   },
   "source": [
    "## We find differentialy expressed miRNA's between LUAD stages I, II, III, IV vs normal using Logit regression"
   ]
  },
  {
   "cell_type": "code",
   "execution_count": 31,
   "metadata": {},
   "outputs": [
    {
     "name": "stdout",
     "output_type": "stream",
     "text": [
      "mirna_tumor_df.shape (513, 1882) , nulls: 0\nmirna_normal_df.shape (46, 1882) , nulls: 0\nvalidated_miRNAs.shape (34, 2)\nnormal    46\nName: pathologic_stage, dtype: int64\nStage I      277\nStage II     121\nStage III     84\nStage IV      24\nName: pathologic_stage, dtype: int64\n"
     ]
    }
   ],
   "source": [
    "import os\n",
    "import pandas\n",
    "from definitions import ROOT_DIR\n",
    "\n",
    "mirna_tumor_df = pandas.read_csv(os.path.join(ROOT_DIR, \"data/processed/miRNA/tumor_miRNA.csv\"))\n",
    "mirna_normal_df = pandas.read_csv(os.path.join(ROOT_DIR, \"data/processed/miRNA/normal_miRNA.csv\"))\n",
    "clinical_df = pandas.read_csv(os.path.join(ROOT_DIR, \"data/processed/clinical/clinical.csv\"))\n",
    "validated_miRNA_csv = pandas.read_csv(os.path.join(ROOT_DIR, 'data/external/validated_luad_miRNAs_miRCancer.csv'))\n",
    "\n",
    "print \"mirna_tumor_df.shape\", mirna_tumor_df.shape, ', nulls:', mirna_tumor_df.isnull().sum().sum()\n",
    "print \"mirna_normal_df.shape\", mirna_normal_df.shape, ', nulls:', mirna_normal_df.isnull().sum().sum()\n",
    "print 'validated_miRNAs.shape', validated_miRNA_csv.shape\n",
    " \n",
    "X_normal = pandas.merge(clinical_df[['patient_barcode', 'pathologic_stage']], mirna_normal_df, on='patient_barcode')\n",
    "X_normal['pathologic_stage'] = 'normal'\n",
    "X_tumor = pandas.merge(clinical_df[['patient_barcode', 'pathologic_stage']], mirna_tumor_df, on='patient_barcode')\n",
    "\n",
    "# Map stage IA to stage I, IB to I, etc. ...\n",
    "pathologic_stage_map = {'Stage IA': 'Stage I', 'Stage IB': 'Stage I', \n",
    "                        'Stage IIA': 'Stage II', 'Stage IIB': 'Stage II', \n",
    "                        'Stage IIIA': 'Stage III', 'Stage IIIB': 'Stage III'}\n",
    "\n",
    "X_tumor.replace({'pathologic_stage': pathologic_stage_map}, inplace=True)\n",
    "\n",
    "print X_normal['pathologic_stage'].value_counts().sort_index(axis=0)\n",
    "print X_tumor['pathologic_stage'].value_counts().sort_index(axis=0)"
   ]
  },
  {
   "cell_type": "markdown",
   "metadata": {},
   "source": [
    "## We now create data matrixes from tumor vs normal samples\n",
    "\n",
    "- We do not normalize the miRNA expression values because we are using Read Per Kilobase Million Mapped"
   ]
  },
  {
   "cell_type": "code",
   "execution_count": 32,
   "metadata": {},
   "outputs": [
    {
     "name": "stdout",
     "output_type": "stream",
     "text": [
      "miRNA null values 0\nY null values 0\nX.shape (552, 1881)\nY.shape (552,)\n"
     ]
    }
   ],
   "source": [
    "X = pandas.concat([X_normal, X_tumor]).dropna(subset=['pathologic_stage'])\n",
    "Y = X['pathologic_stage']\n",
    "\n",
    "X_normal_vs_I = X[X['pathologic_stage'].isin(['normal', 'Stage I'])]\n",
    "X_normal_vs_II = X[X['pathologic_stage'].isin(['normal', 'Stage II'])]\n",
    "X_normal_vs_III = X[X['pathologic_stage'].isin(['normal', 'Stage III'])]\n",
    "X_normal_vs_IV = X[X['pathologic_stage'].isin(['normal', 'Stage IV'])]\n",
    "\n",
    "Y_normal_vs_I = X_normal_vs_I['pathologic_stage']\n",
    "Y_normal_vs_II = X_normal_vs_II['pathologic_stage']\n",
    "Y_normal_vs_III = X_normal_vs_III['pathologic_stage']\n",
    "Y_normal_vs_IV = X_normal_vs_IV['pathologic_stage']\n",
    "\n",
    "X_normal_vs_I.__delitem__('patient_barcode')\n",
    "X_normal_vs_I.__delitem__('pathologic_stage')\n",
    "X_normal_vs_II.__delitem__('patient_barcode')\n",
    "X_normal_vs_II.__delitem__('pathologic_stage')\n",
    "X_normal_vs_III.__delitem__('patient_barcode')\n",
    "X_normal_vs_III.__delitem__('pathologic_stage')\n",
    "X_normal_vs_IV.__delitem__('patient_barcode')\n",
    "X_normal_vs_IV.__delitem__('pathologic_stage')\n",
    "\n",
    "X.__delitem__('patient_barcode')\n",
    "X.__delitem__('pathologic_stage')\n",
    "\n",
    "print 'miRNA null values', X.isnull().sum().sum()\n",
    "print 'Y null values', Y.isnull().sum()\n",
    "\n",
    "print \"X.shape\", X.shape\n",
    "print \"Y.shape\", Y.shape\n",
    "\n",
    "mirna_list = X.columns.values\n",
    "validated_miRNAs = set(validated_miRNA_csv['miRNA'].tolist())"
   ]
  },
  {
   "cell_type": "code",
   "execution_count": 33,
   "metadata": {},
   "outputs": [],
   "source": [
    ""
   ]
  },
  {
   "cell_type": "code",
   "execution_count": 33,
   "metadata": {
    "collapsed": false
   },
   "outputs": [
    {
     "name": "stdout",
     "output_type": "stream",
     "text": [
      "mirna_list 1881\nvalidated_miRNAs 27\nnumber of validated miRNAs in list of all miRNAs 21\nStage I    277\nnormal      46\nName: pathologic_stage, dtype: int64\nStage II    121\nnormal       46\nName: pathologic_stage, dtype: int64\nStage III    84\nnormal       46\nName: pathologic_stage, dtype: int64\nnormal      46\nStage IV    24\nName: pathologic_stage, dtype: int64\n"
     ]
    }
   ],
   "source": [
    "print \"mirna_list\", len(mirna_list)\n",
    "print 'validated_miRNAs', len(validated_miRNAs)\n",
    "\n",
    "print \"number of validated miRNAs in list of all miRNAs\", len(validated_miRNAs & set(mirna_list))\n",
    "\n",
    "print Y_normal_vs_I.value_counts()\n",
    "print Y_normal_vs_II.value_counts()\n",
    "print Y_normal_vs_III.value_counts()\n",
    "print Y_normal_vs_IV.value_counts()"
   ]
  },
  {
   "cell_type": "markdown",
   "metadata": {},
   "source": [
    "## Perform classification for normal vs Stage I, Stage II, Stage III, and Stage IV\n"
   ]
  },
  {
   "cell_type": "code",
   "execution_count": 50,
   "metadata": {},
   "outputs": [
    {
     "name": "stdout",
     "output_type": "stream",
     "text": [
      "LogisticRegressionCV(Cs=[0.001, 0.01, 0.10000000000000001, 1.0, 10.0, 100.0, 1000.0, 10000.0, 100000.0, 1000000.0],\n           class_weight=None, cv=None, dual=False, fit_intercept=False,\n           intercept_scaling=1.0, max_iter=100, multi_class='ovr',\n           n_jobs=1, penalty='l1', random_state=None, refit=True,\n           scoring=None, solver='liblinear', tol=0.0001, verbose=0)\n"
     ]
    },
    {
     "name": "stdout",
     "output_type": "stream",
     "text": [
      "LogisticRegressionCV(Cs=[0.001, 0.01, 0.10000000000000001, 1.0, 10.0, 100.0, 1000.0, 10000.0, 100000.0, 1000000.0],\n           class_weight=None, cv=None, dual=False, fit_intercept=False,\n           intercept_scaling=1.0, max_iter=100, multi_class='ovr',\n           n_jobs=1, penalty='l1', random_state=None, refit=True,\n           scoring=None, solver='liblinear', tol=0.0001, verbose=0)\n"
     ]
    },
    {
     "name": "stdout",
     "output_type": "stream",
     "text": [
      "LogisticRegressionCV(Cs=[0.001, 0.01, 0.10000000000000001, 1.0, 10.0, 100.0, 1000.0, 10000.0, 100000.0, 1000000.0],\n           class_weight=None, cv=None, dual=False, fit_intercept=False,\n           intercept_scaling=1.0, max_iter=100, multi_class='ovr',\n           n_jobs=1, penalty='l1', random_state=None, refit=True,\n           scoring=None, solver='liblinear', tol=0.0001, verbose=0)\nLogisticRegressionCV(Cs=[0.001, 0.01, 0.10000000000000001, 1.0, 10.0, 100.0, 1000.0, 10000.0, 100000.0, 1000000.0],\n           class_weight=None, cv=None, dual=False, fit_intercept=False,\n           intercept_scaling=1.0, max_iter=100, multi_class='ovr',\n           n_jobs=1, penalty='l1', random_state=None, refit=True,\n           scoring=None, solver='liblinear', tol=0.0001, verbose=0)\n"
     ]
    }
   ],
   "source": [
    "from sklearn.model_selection import train_test_split\n",
    "from sklearn import linear_model\n",
    "from sklearn import metrics\n",
    "import numpy as np\n",
    "\n",
    "X_normal_vs_I_train, X_normal_vs_I_test, Y_normal_vs_I_train, Y_normal_vs_I_test = \\\n",
    "    train_test_split(X_normal_vs_I, Y_normal_vs_I, test_size=0.2, random_state=np.random.randint(0, 10000))\n",
    "\n",
    "X_normal_vs_II_train, X_normal_vs_II_test, Y_normal_vs_II_train, Y_normal_vs_II_test = \\\n",
    "    train_test_split(X_normal_vs_II, Y_normal_vs_II, test_size=0.2, random_state=np.random.randint(0, 10000))\n",
    "\n",
    "X_normal_vs_III_train, X_normal_vs_III_test, Y_normal_vs_III_train, Y_normal_vs_III_test = \\\n",
    "    train_test_split(X_normal_vs_III, Y_normal_vs_III, test_size=0.2, random_state=np.random.randint(0, 10000))\n",
    "\n",
    "X_normal_vs_IV_train, X_normal_vs_IV_test, Y_normal_vs_IV_train, Y_normal_vs_IV_test = \\\n",
    "    train_test_split(X_normal_vs_IV, Y_normal_vs_IV, test_size=0.2, random_state=np.random.randint(0, 10000))\n",
    "\n",
    "\n",
    "normal_vs_I =   linear_model.LogisticRegressionCV(Cs=list(np.power(10.0, np.arange(-3, 7))),\n",
    "                                                solver='liblinear',\n",
    "                                                penalty='l1', fit_intercept=False)\n",
    "normal_vs_II =  linear_model.LogisticRegressionCV(Cs=list(np.power(10.0, np.arange(-3, 7))),\n",
    "                                                 solver='liblinear',\n",
    "                                                 penalty='l1', fit_intercept=False)\n",
    "normal_vs_III = linear_model.LogisticRegressionCV(Cs=list(np.power(10.0, np.arange(-3, 7))),\n",
    "                                                  solver='liblinear',\n",
    "                                                  penalty='l1', fit_intercept=False)\n",
    "normal_vs_IV =  linear_model.LogisticRegressionCV(Cs=list(np.power(10.0, np.arange(-3, 7))),\n",
    "                                                 solver='liblinear',\n",
    "                                                 penalty='l1', fit_intercept=False)\n",
    "print normal_vs_I.fit(X_normal_vs_I_train, Y_normal_vs_I_train)\n",
    "print normal_vs_II.fit(X_normal_vs_II_train, Y_normal_vs_II_train)\n",
    "print normal_vs_III.fit(X_normal_vs_III_train, Y_normal_vs_III_train)\n",
    "print normal_vs_IV.fit(X_normal_vs_IV_train, Y_normal_vs_IV_train)\n",
    "\n",
    "# print \"\\nClassification_report on training\"\n",
    "# print metrics.classification_report(y_train, model.predict(X_train), \n",
    "#                                     labels=['normal', 'Stage I', 'Stage II', 'Stage III', 'Stage IV'], \n",
    "#                                     target_names=['normal', 'Stage I', 'Stage II', 'Stage III', 'Stage IV'])\n",
    "# print \"classification_report on testing\"\n",
    "# print metrics.classification_report(y_test, model.predict(X_test), \n",
    "#                                     labels=['normal', 'Stage I', 'Stage II', 'Stage III', 'Stage IV'], \n",
    "#                                     target_names=['normal', 'Stage I', 'Stage II', 'Stage III', 'Stage IV'])\n",
    "# print metrics.confusion_matrix(y_test, model.predict(X_test), \n",
    "#                                labels=['normal', 'Stage I', 'Stage II', 'Stage III', 'Stage IV'])"
   ]
  },
  {
   "cell_type": "markdown",
   "metadata": {},
   "source": [
    "## Show number of candidate miRNAs, top miRNA's based on coefficient, and percentage of known miRNA"
   ]
  },
  {
   "cell_type": "code",
   "execution_count": 51,
   "metadata": {
    "collapsed": false
   },
   "outputs": [
    {
     "name": "stdout",
     "output_type": "stream",
     "text": [
      "\nnormal_vs_I\nNon-zero coef: 19\n    coefficient           mirna\n16     0.000188     hsa-mir-30a\n6      0.000143  hsa-mir-103a-1\n7      0.000134  hsa-mir-103a-2\n12     0.000125    hsa-mir-200c\n4      0.000037    hsa-let-7f-2\n8      0.000028     hsa-mir-143\n    coefficient         mirna\n10    -0.000601   hsa-mir-182\n9     -0.000305  hsa-mir-148a\n17    -0.000236   hsa-mir-30d\n15    -0.000188    hsa-mir-22\n13    -0.000037  hsa-mir-203a\n11    -0.000010   hsa-mir-192\nPercentage of known NSCLC miRNAs: 0.0740740740741\nset(['hsa-mir-200c', 'hsa-mir-30a']) 2\n\nnormal_vs_II\nNon-zero coef: 208\n     coefficient           mirna\n185     0.049878     hsa-mir-598\n138     0.020687     hsa-mir-340\n165     0.017394    hsa-mir-4772\n35      0.016802  hsa-mir-133a-2\n97      0.016148   hsa-mir-218-1\n149     0.014156    hsa-mir-374b\n     coefficient           mirna\n160    -0.035235    hsa-mir-450b\n179    -0.023384    hsa-mir-5698\n103    -0.019050     hsa-mir-224\n163    -0.017893     hsa-mir-454\n78     -0.013887  hsa-mir-196a-2\n192    -0.012386     hsa-mir-7-1\nPercentage of known NSCLC miRNAs: 0.555555555556\nset(['hsa-mir-200b', 'hsa-mir-200c', 'hsa-mir-200a', 'hsa-mir-99a', 'hsa-mir-150', 'hsa-mir-374a', 'hsa-mir-429', 'hsa-mir-381', 'hsa-mir-214', 'hsa-mir-145', 'hsa-mir-155', 'hsa-mir-141', 'hsa-mir-511', 'hsa-mir-30a', 'hsa-mir-31']) 15\n\nnormal_vs_III\nNon-zero coef: 58\n    coefficient          mirna\n50     0.000918   hsa-mir-378a\n51     0.000899   hsa-mir-451a\n5      0.000737     hsa-let-7e\n4      0.000401     hsa-let-7d\n39     0.000357  hsa-mir-26a-2\n19     0.000197    hsa-mir-145\n    coefficient           mirna\n45    -0.004651    hsa-mir-3065\n27    -0.001955  hsa-mir-199a-1\n33    -0.001809     hsa-mir-210\n28    -0.001610  hsa-mir-199a-2\n29    -0.001325    hsa-mir-199b\n17    -0.001072     hsa-mir-142\nPercentage of known NSCLC miRNAs: 0.148148148148\nset(['hsa-mir-200c', 'hsa-mir-30a', 'hsa-mir-145', 'hsa-mir-141']) 4\n\nnormal_vs_IV\nNon-zero coef: 59\n    coefficient          mirna\n22     0.000863    hsa-mir-150\n27     0.000697    hsa-mir-192\n37     0.000310  hsa-mir-26a-2\n18     0.000257    hsa-mir-142\n5      0.000252     hsa-let-7d\n20     0.000230    hsa-mir-145\n    coefficient           mirna\n50    -0.002698     hsa-mir-379\n46    -0.002034     hsa-mir-338\n17    -0.001124     hsa-mir-141\n56    -0.000944     hsa-mir-9-3\n30    -0.000939  hsa-mir-199a-2\n55    -0.000709      hsa-mir-93\nPercentage of known NSCLC miRNAs: 0.222222222222\nset(['hsa-mir-200a', 'hsa-mir-99a', 'hsa-mir-150', 'hsa-mir-145', 'hsa-mir-141', 'hsa-mir-30a']) 6\n"
     ]
    }
   ],
   "source": [
    "from src.utils.validate_candidate_miRNAs import percent_candidate_in_validated\n",
    "results = []\n",
    "\n",
    "for model, name in zip([normal_vs_I, normal_vs_II, normal_vs_III, normal_vs_IV], \n",
    "                       ['normal_vs_I', 'normal_vs_II', 'normal_vs_III', 'normal_vs_IV']):\n",
    "    print '\\n', name \n",
    "    non_zero_idx = np.nonzero(model.coef_.ravel())[0]\n",
    "    print \"Non-zero coef:\", non_zero_idx.size\n",
    "    df = pandas.DataFrame({\"mirna\": mirna_list[non_zero_idx],\n",
    "                           \"coefficient\": model.coef_.ravel()[non_zero_idx]})\n",
    "    print df.sort_values(by='coefficient', ascending=False).head(6)\n",
    "    print df.sort_values(by='coefficient', ascending=True).head(6)\n",
    "    \n",
    "    print \"Percentage of known NSCLC miRNAs:\", percent_candidate_in_validated(df['mirna'].tolist(), validated_miRNAs)\n",
    "    print set(df['mirna'].tolist()) & validated_miRNAs, len(set(df['mirna'].tolist()) & validated_miRNAs)\n",
    "    \n",
    "    results.append(df)"
   ]
  },
  {
   "cell_type": "code",
   "execution_count": 52,
   "metadata": {},
   "outputs": [],
   "source": [
    ""
   ]
  },
  {
   "cell_type": "code",
   "execution_count": 52,
   "metadata": {},
   "outputs": [
    {
     "name": "stdout",
     "output_type": "stream",
     "text": [
      "\nStage 1 - Stage 1  :  19\n\nStage 1 - Stage 2  :  19\n\nStage 1 - Stage 3  :  19\n\nStage 1 - Stage 4  :  18\n\nStage 2 - Stage 1  :  19\n\nStage 2 - Stage 2  :  208\n\nStage 2 - Stage 3  :  58\n\nStage 2 - Stage 4  :  59\n\nStage 3 - Stage 1  :  19\n\nStage 3 - Stage 2  :  58\n\nStage 3 - Stage 3  :  58\n\nStage 3 - Stage 4  :  47\n\nStage 4 - Stage 1  :  18\n\nStage 4 - Stage 2  :  59\n\nStage 4 - Stage 3  :  47\n\nStage 4 - Stage 4  :  59\n"
     ]
    }
   ],
   "source": [
    "for i in range(len(results)):\n",
    "    for j in range(len(results)):\n",
    "        print '\\n', \"Stage \"+str(i+1)+' - Stage '+str(j+1), ' : ',len(set(results[i]['mirna'].tolist()) & set(results[j]['mirna'].tolist()))\n",
    "        # print set(results[i]['mirna'].tolist()) & set(results[j]['mirna'].tolist())"
   ]
  },
  {
   "cell_type": "code",
   "execution_count": 53,
   "metadata": {},
   "outputs": [
    {
     "name": "stdout",
     "output_type": "stream",
     "text": [
      "             precision    recall  f1-score   support\n\n     normal       0.91      1.00      0.95        10\n    Stage I       1.00      0.98      0.99        55\n\navg / total       0.99      0.98      0.98        65\n\n             precision    recall  f1-score   support\n\n     normal       0.89      1.00      0.94         8\n   Stage II       1.00      0.96      0.98        26\n\navg / total       0.97      0.97      0.97        34\n\n             precision    recall  f1-score   support\n\n     normal       0.83      1.00      0.91        10\n  Stage III       1.00      0.88      0.93        16\n\navg / total       0.94      0.92      0.92        26\n\n             precision    recall  f1-score   support\n\n     normal       1.00      1.00      1.00         9\n   Stage IV       1.00      1.00      1.00         5\n\navg / total       1.00      1.00      1.00        14\n\n"
     ]
    }
   ],
   "source": [
    "# print normal_vs_I.fit(X_normal_vs_I, Y_normal_vs_I)\n",
    "# print normal_vs_II.fit(X_normal_vs_II, Y_normal_vs_II)\n",
    "# print normal_vs_III.fit(X_normal_vs_III, Y_normal_vs_III)\n",
    "# print normal_vs_IV.fit(X_normal_vs_IV, Y_normal_vs_IV)\n",
    "\n",
    "print metrics.classification_report(Y_normal_vs_I_test, normal_vs_I.predict(X_normal_vs_I_test), \n",
    "                                    labels=['normal', 'Stage I'], \n",
    "                                    target_names=['normal', 'Stage I']) \n",
    "print metrics.classification_report(Y_normal_vs_II_test, normal_vs_II.predict(X_normal_vs_II_test), \n",
    "                                    labels=['normal', 'Stage II'], \n",
    "                                    target_names=['normal', 'Stage II']) \n",
    "print metrics.classification_report(Y_normal_vs_III_test, normal_vs_III.predict(X_normal_vs_III_test), \n",
    "                                    labels=['normal', 'Stage III'], \n",
    "                                    target_names=['normal', 'Stage III']) \n",
    "print metrics.classification_report(Y_normal_vs_IV_test, normal_vs_IV.predict(X_normal_vs_IV_test), \n",
    "                                    labels=['normal', 'Stage IV'], \n",
    "                                    target_names=['normal', 'Stage IV'])"
   ]
  },
  {
   "cell_type": "code",
   "execution_count": 54,
   "metadata": {
    "collapsed": false
   },
   "outputs": [
    {
     "name": "stdout",
     "output_type": "stream",
     "text": [
      "208\n"
     ]
    },
    {
     "data": {
      "image/png": "[encoded data removed]",
      "text/plain": [
       "<matplotlib.figure.Figure at 0x7f5e4ef9e2d0>"
      ]
     },
     "metadata": {},
     "output_type": "display_data"
    }
   ],
   "source": [
    "from matplotlib import pyplot as plt\n",
    "\n",
    "all_candidate_miRNAs = set(results[0]['mirna']) | set(results[1]['mirna']) | set(results[2]['mirna']) | set(results[3]['mirna'])\n",
    "sorted_candidate_miRNAs = []\n",
    "for miR in mirna_list:\n",
    "    if miR in all_candidate_miRNAs:\n",
    "        sorted_candidate_miRNAs.append(miR)\n",
    "print sorted_candidate_miRNAs.__len__()\n",
    "\n",
    "plt.figure(figsize=(33, 5))\n",
    "plt.xticks(range(sorted_candidate_miRNAs.__len__()), sorted_candidate_miRNAs, rotation='vertical', fontsize=6)\n",
    "\n",
    "for i in [0,1,2,3]:\n",
    "    x_indx = []\n",
    "    y_values = []\n",
    "    for x_str in results[i]['mirna']:\n",
    "        # print all_candidate_miRNAs.index(x_str)\n",
    "        x_indx.append(sorted_candidate_miRNAs.index(x_str))\n",
    "    for y_value in results[i]['coefficient']:\n",
    "        y_values.append(y_value)  \n",
    "        \n",
    "    # TODO add zeros values\n",
    "        \n",
    "    plt.plot(x_indx, y_values, marker='.', linestyle='', label='normal vs Stage '+str(i+1))\n",
    "\n",
    "plt.legend()\n",
    "plt.ylabel('Coefficient value')\n",
    "plt.xlabel('Candidate miRNAs selected by all')\n",
    "plt.title('Manhattan Plot of miRNAs between normal vs. Stage I, II, III, IV')\n",
    "plt.axis('auto')\n",
    "plt.grid(True)\n",
    "plt.show()"
   ]
  },
  {
   "cell_type": "code",
   "execution_count": 32,
   "metadata": {},
   "outputs": [],
   "source": [
    ""
   ]
  },
  {
   "cell_type": "code",
   "execution_count": null,
   "metadata": {},
   "outputs": [],
   "source": [
    ""
   ]
  }
 ],
 "metadata": {
  "kernelspec": {
   "display_name": "Python 2",
   "language": "python",
   "name": "python2"
  },
  "language_info": {
   "codemirror_mode": {
    "name": "ipython",
    "version": 2.0
   },
   "file_extension": ".py",
   "mimetype": "text/x-python",
   "name": "python",
   "nbconvert_exporter": "python",
   "pygments_lexer": "ipython2",
   "version": "2.7.6"
  }
 },
 "nbformat": 4,
 "nbformat_minor": 0
}