{
 "cells": [
  {
   "cell_type": "code",
   "execution_count": 1,
   "metadata": {},
   "outputs": [],
   "source": [
    "# Necessary imports\n",
    "%load_ext autoreload\n",
    "%autoreload 2\\\n",
    "    \n",
    "import os\n",
    "import sys\n",
    "nb_dir = os.path.split(os.getcwd())[0]\n",
    "if nb_dir not in sys.path:\n",
    "    sys.path.append(nb_dir)\n",
    "from definitions import ROOT_DIR"
   ]
  },
  {
   "cell_type": "code",
   "execution_count": 2,
   "metadata": {},
   "outputs": [],
   "source": [
    "import pandas as pd\n",
    "import numpy as np"
   ]
  },
  {
   "cell_type": "code",
   "execution_count": 3,
   "metadata": {},
   "outputs": [
    {
     "name": "stderr",
     "output_type": "stream",
     "text": [
      "/opt/anaconda3/envs/py27/lib/python2.7/site-packages/pandas/core/frame.py:3027: SettingWithCopyWarning: \n",
      "A value is trying to be set on a copy of a slice from a DataFrame\n",
      "\n",
      "See the caveats in the documentation: http://pandas.pydata.org/pandas-docs/stable/indexing.html#indexing-view-versus-copy\n",
      "  return super(DataFrame, self).rename(**kwargs)\n"
     ]
    },
    {
     "name": "stdout",
     "output_type": "stream",
     "text": [
      "('DRUGS', (357, 4))\n",
      "('PATIENTS', (504, 5))\n",
      "('MIR', (380, 1870))\n",
      "('GE', (552, 20472))\n"
     ]
    }
   ],
   "source": [
    "from src.features.multi_omics import MultiOmicsData\n",
    "\n",
    "lusc_data = MultiOmicsData(cancer_type=\"LUSC\", \n",
    "                           folder_path=ROOT_DIR+\"/data/tcga-assembler/LUSC/\", \n",
    "                           modalities=[\"GE\", \"MIR\"])"
   ]
  },
  {
   "cell_type": "code",
   "execution_count": 4,
   "metadata": {},
   "outputs": [],
   "source": [
    "centroids = pd.read_csv(ROOT_DIR+\"/data/external/wilkerson.scc/predictor.centroids.csv\")\n",
    "centroids.columns = [\"genes\", \"primitive\", \"classical\", \"secretory\", \"basal\"]\n",
    "centroids = centroids[centroids[\"genes\"].isin(lusc_data.GE.get_genes_list())]\n",
    "centroid_genes = centroids[\"genes\"]"
   ]
  },
  {
   "cell_type": "code",
   "execution_count": 5,
   "metadata": {},
   "outputs": [
    {
     "data": {
      "text/html": [
       "<div>\n",
       "<style scoped>\n",
       "    .dataframe tbody tr th:only-of-type {\n",
       "        vertical-align: middle;\n",
       "    }\n",
       "\n",
       "    .dataframe tbody tr th {\n",
       "        vertical-align: top;\n",
       "    }\n",
       "\n",
       "    .dataframe thead th {\n",
       "        text-align: right;\n",
       "    }\n",
       "</style>\n",
       "<table border=\"1\" class=\"dataframe\">\n",
       "  <thead>\n",
       "    <tr style=\"text-align: right;\">\n",
       "      <th>genes</th>\n",
       "      <th>MYL6B</th>\n",
       "      <th>PODXL2</th>\n",
       "      <th>HSF2</th>\n",
       "      <th>TTLL4</th>\n",
       "      <th>MARCKSL1</th>\n",
       "      <th>MDK</th>\n",
       "      <th>CHKA</th>\n",
       "      <th>TRIM28</th>\n",
       "      <th>STOM</th>\n",
       "      <th>CASP1</th>\n",
       "      <th>...</th>\n",
       "      <th>ALDH1A3</th>\n",
       "      <th>DSE</th>\n",
       "      <th>MMP10</th>\n",
       "      <th>VDR</th>\n",
       "      <th>CAPZB</th>\n",
       "      <th>FNBP1</th>\n",
       "      <th>ENPP4</th>\n",
       "      <th>SH2B3</th>\n",
       "      <th>DOCK10</th>\n",
       "      <th>SDC1</th>\n",
       "    </tr>\n",
       "  </thead>\n",
       "  <tbody>\n",
       "    <tr>\n",
       "      <th>primitive</th>\n",
       "      <td>0.539568</td>\n",
       "      <td>0.852272</td>\n",
       "      <td>0.293831</td>\n",
       "      <td>0.679557</td>\n",
       "      <td>1.015985</td>\n",
       "      <td>1.001421</td>\n",
       "      <td>0.513166</td>\n",
       "      <td>0.569403</td>\n",
       "      <td>-0.737997</td>\n",
       "      <td>-0.775559</td>\n",
       "      <td>...</td>\n",
       "      <td>-0.231312</td>\n",
       "      <td>-0.521502</td>\n",
       "      <td>-0.862938</td>\n",
       "      <td>-0.421701</td>\n",
       "      <td>-0.015213</td>\n",
       "      <td>-0.016889</td>\n",
       "      <td>0.232617</td>\n",
       "      <td>-0.178687</td>\n",
       "      <td>-0.121821</td>\n",
       "      <td>-0.764157</td>\n",
       "    </tr>\n",
       "    <tr>\n",
       "      <th>classical</th>\n",
       "      <td>-0.139755</td>\n",
       "      <td>-0.019997</td>\n",
       "      <td>0.060404</td>\n",
       "      <td>-0.089302</td>\n",
       "      <td>-0.306555</td>\n",
       "      <td>-0.019797</td>\n",
       "      <td>-0.150269</td>\n",
       "      <td>0.021242</td>\n",
       "      <td>-0.065057</td>\n",
       "      <td>-0.187048</td>\n",
       "      <td>...</td>\n",
       "      <td>-0.485903</td>\n",
       "      <td>-0.462036</td>\n",
       "      <td>-0.649346</td>\n",
       "      <td>-0.259443</td>\n",
       "      <td>-0.216407</td>\n",
       "      <td>-0.103185</td>\n",
       "      <td>-0.276022</td>\n",
       "      <td>-0.169656</td>\n",
       "      <td>-0.137791</td>\n",
       "      <td>0.337130</td>\n",
       "    </tr>\n",
       "    <tr>\n",
       "      <th>secretory</th>\n",
       "      <td>-0.084411</td>\n",
       "      <td>-0.104802</td>\n",
       "      <td>-0.131566</td>\n",
       "      <td>-0.044189</td>\n",
       "      <td>0.012595</td>\n",
       "      <td>-0.202898</td>\n",
       "      <td>0.235328</td>\n",
       "      <td>-0.264212</td>\n",
       "      <td>0.297794</td>\n",
       "      <td>0.305713</td>\n",
       "      <td>...</td>\n",
       "      <td>0.325191</td>\n",
       "      <td>0.487990</td>\n",
       "      <td>-0.974158</td>\n",
       "      <td>0.384095</td>\n",
       "      <td>0.180478</td>\n",
       "      <td>0.421356</td>\n",
       "      <td>0.482619</td>\n",
       "      <td>0.533466</td>\n",
       "      <td>0.569353</td>\n",
       "      <td>-0.998660</td>\n",
       "    </tr>\n",
       "    <tr>\n",
       "      <th>basal</th>\n",
       "      <td>-0.033551</td>\n",
       "      <td>-0.053003</td>\n",
       "      <td>-0.079130</td>\n",
       "      <td>-0.084657</td>\n",
       "      <td>0.097278</td>\n",
       "      <td>-0.222180</td>\n",
       "      <td>-0.136313</td>\n",
       "      <td>0.011287</td>\n",
       "      <td>0.043434</td>\n",
       "      <td>0.063549</td>\n",
       "      <td>...</td>\n",
       "      <td>0.905489</td>\n",
       "      <td>0.509466</td>\n",
       "      <td>2.926716</td>\n",
       "      <td>0.309637</td>\n",
       "      <td>0.216626</td>\n",
       "      <td>-0.185309</td>\n",
       "      <td>-0.147701</td>\n",
       "      <td>-0.030816</td>\n",
       "      <td>-0.093761</td>\n",
       "      <td>0.419894</td>\n",
       "    </tr>\n",
       "  </tbody>\n",
       "</table>\n",
       "<p>4 rows × 196 columns</p>\n",
       "</div>"
      ],
      "text/plain": [
       "genes         MYL6B    PODXL2      HSF2     TTLL4  MARCKSL1       MDK  \\\n",
       "primitive  0.539568  0.852272  0.293831  0.679557  1.015985  1.001421   \n",
       "classical -0.139755 -0.019997  0.060404 -0.089302 -0.306555 -0.019797   \n",
       "secretory -0.084411 -0.104802 -0.131566 -0.044189  0.012595 -0.202898   \n",
       "basal     -0.033551 -0.053003 -0.079130 -0.084657  0.097278 -0.222180   \n",
       "\n",
       "genes          CHKA    TRIM28      STOM     CASP1    ...      ALDH1A3  \\\n",
       "primitive  0.513166  0.569403 -0.737997 -0.775559    ...    -0.231312   \n",
       "classical -0.150269  0.021242 -0.065057 -0.187048    ...    -0.485903   \n",
       "secretory  0.235328 -0.264212  0.297794  0.305713    ...     0.325191   \n",
       "basal     -0.136313  0.011287  0.043434  0.063549    ...     0.905489   \n",
       "\n",
       "genes           DSE     MMP10       VDR     CAPZB     FNBP1     ENPP4  \\\n",
       "primitive -0.521502 -0.862938 -0.421701 -0.015213 -0.016889  0.232617   \n",
       "classical -0.462036 -0.649346 -0.259443 -0.216407 -0.103185 -0.276022   \n",
       "secretory  0.487990 -0.974158  0.384095  0.180478  0.421356  0.482619   \n",
       "basal      0.509466  2.926716  0.309637  0.216626 -0.185309 -0.147701   \n",
       "\n",
       "genes         SH2B3    DOCK10      SDC1  \n",
       "primitive -0.178687 -0.121821 -0.764157  \n",
       "classical -0.169656 -0.137791  0.337130  \n",
       "secretory  0.533466  0.569353 -0.998660  \n",
       "basal     -0.030816 -0.093761  0.419894  \n",
       "\n",
       "[4 rows x 196 columns]"
      ]
     },
     "execution_count": 5,
     "metadata": {},
     "output_type": "execute_result"
    }
   ],
   "source": [
    "centroids.index = centroids.genes\n",
    "centroids.drop(['genes'], axis=1, inplace=True)\n",
    "centroids = centroids.T\n",
    "centroids"
   ]
  },
  {
   "cell_type": "markdown",
   "metadata": {},
   "source": [
    "# Subsetting the GE data to only genes"
   ]
  },
  {
   "cell_type": "code",
   "execution_count": 8,
   "metadata": {},
   "outputs": [],
   "source": [
    "lusc_ge = lusc_data.GE.data[centroid_genes]\n",
    "\n",
    "\n",
    "# Subset the LUSC samples to only tumor samples\n",
    "lusc_ge = lusc_ge[lusc_ge.index.str.contains(\"-01A\")]"
   ]
  },
  {
   "cell_type": "code",
   "execution_count": 7,
   "metadata": {},
   "outputs": [],
   "source": [
    "from sklearn.preprocessing import MinMaxScaler\n",
    "\n",
    "scaler = MinMaxScaler(feature_range=(-np.max(np.abs(centroids.values)), np.max(np.abs(centroids.values))))\n",
    "# scaler = MinMaxScaler()\n",
    "# scaler.fit(centroids)"
   ]
  },
  {
   "cell_type": "markdown",
   "metadata": {},
   "source": [
    "# Classify LUSC patients based on cluster centroids obtained from Wilkenson, et. al\n",
    "\n",
    "TODO Read paper \"The molecular portraits of breast tumors are conserved across microarray platforms\" on how to do subtype prediction"
   ]
  },
  {
   "cell_type": "code",
   "execution_count": 9,
   "metadata": {},
   "outputs": [],
   "source": [
    "from sklearn.cluster import KMeans\n",
    "kmeans = KMeans(n_clusters=4)"
   ]
  },
  {
   "cell_type": "code",
   "execution_count": 10,
   "metadata": {},
   "outputs": [],
   "source": [
    "kmeans.cluster_centers_ = centroids.values"
   ]
  },
  {
   "cell_type": "code",
   "execution_count": 11,
   "metadata": {},
   "outputs": [
    {
     "data": {
      "text/plain": [
       "Secretory     40\n",
       "Primitive     23\n",
       "Classical    221\n",
       "Basal        212\n",
       "Name: subtype, dtype: int64"
      ]
     },
     "execution_count": 11,
     "metadata": {},
     "output_type": "execute_result"
    }
   ],
   "source": [
    "lusc_subtypes_map = {0: 'Primitive', 1: 'Classical', 2: 'Secretory', 3: 'Basal'}\n",
    "\n",
    "lusc_subtypes_pred = pd.DataFrame(kmeans.predict(scaler.fit_transform(lusc_ge)), index=lusc_ge.index)\n",
    "lusc_subtypes_pred.columns = [\"subtype\"]\n",
    "lusc_subtypes_pred.replace({\"subtype\": lusc_subtypes_map}, inplace=True)\n",
    "lusc_subtypes_pred[\"subtype\"].value_counts(sort=False, normalize=False)"
   ]
  },
  {
   "cell_type": "markdown",
   "metadata": {},
   "source": [
    "# Assign predicted subtypes to LUSC patients samples"
   ]
  },
  {
   "cell_type": "code",
   "execution_count": 12,
   "metadata": {},
   "outputs": [],
   "source": [
    "lusc_subtypes_pred[\"patient_barcode\"] = lusc_subtypes_pred.index.str[:-4]\n",
    "\n",
    "lusc_data.add_subtypes_to_patients_clinical(dict(zip(lusc_subtypes_pred[\"patient_barcode\"], lusc_subtypes_pred[\"subtype\"])))"
   ]
  },
  {
   "cell_type": "code",
   "execution_count": 13,
   "metadata": {},
   "outputs": [
    {
     "name": "stdout",
     "output_type": "stream",
     "text": [
      "(29, 20472) (29, 1)\n"
     ]
    }
   ],
   "source": [
    "X, y = lusc_data.load_data(multi_omics=[\"GE\"], \n",
    "#                            target=[\"ajcc_pathologic_tumor_stage\"], \n",
    "                           target=[\"predicted_subtype\"], \n",
    "                           predicted_subtypes=[\"Primitive\"], \n",
    "#                            pathologic_stages=['Stage I', 'Stage II', 'Stage III', 'Stage IV']\n",
    "                          )\n",
    "print X[\"GE\"].shape , y.shape"
   ]
  },
  {
   "cell_type": "markdown",
   "metadata": {},
   "source": [
    "# Putative Associations"
   ]
  },
  {
   "cell_type": "code",
   "execution_count": 14,
   "metadata": {},
   "outputs": [
    {
     "name": "stdout",
     "output_type": "stream",
     "text": [
      "(1097064, 2)\n",
      "(532659, 2)\n",
      "(603489, 2)\n"
     ]
    }
   ],
   "source": [
    "from src.data.make_dataset import Target_Scan\n",
    "target_scan = Target_Scan(mirna_list=lusc_data.MIR.get_genes_list(), gene_symbols=lusc_data.GE.get_genes_list())\n",
    "\n",
    "# Load miRanda putative miRNA-target associations\n",
    "miRanda_df = pd.read_table(os.path.join(ROOT_DIR, 'data/external/miRanda_hg19_predictions_S_C_aug2010.txt'), delimiter='\\t')\n",
    "miRanda_df = miRanda_df[['mirna_name',  'gene_symbol']]\n",
    "\n",
    "miRanda_df['mirna_name'] = miRanda_df['mirna_name'].str.lower()\n",
    "miRanda_df['mirna_name'] = miRanda_df['mirna_name'].str.replace(\"*\", \"\")\n",
    "miRanda_df['mirna_name'] = miRanda_df['mirna_name'].str.replace(\"-3p.*|-5p.*\", \"\")\n",
    "print miRanda_df.shape\n",
    "\n",
    "miRanda_df.columns = [\"MiRBase ID\", \"Gene Symbol\"]\n",
    "miRanda_df = miRanda_df[miRanda_df['MiRBase ID'].isin(lusc_data.MIR.get_genes_list()) & miRanda_df['Gene Symbol'].isin(lusc_data.GE.get_genes_list())].dropna().drop_duplicates()\n",
    "print miRanda_df.shape\n",
    "\n",
    "# Union TargetScan and MiRanDa miRNA-target associations\n",
    "targetScan_df = target_scan.get_miRNA_target_interaction_context()\n",
    "putative_assocs = pd.concat([targetScan_df, miRanda_df]).dropna().drop_duplicates()\n",
    "print putative_assocs.shape"
   ]
  },
  {
   "cell_type": "markdown",
   "metadata": {},
   "source": [
    "# Run MDSN dysregulation analyses"
   ]
  },
  {
   "cell_type": "code",
   "execution_count": null,
   "metadata": {},
   "outputs": [
    {
     "name": "stdout",
     "output_type": "stream",
     "text": [
      "n_A 28\n",
      "n_B 154\n"
     ]
    }
   ],
   "source": [
    "from src.models.miRNA_target_network import miRNATargetNetwork as miRNATargetNet\n",
    "import warnings\n",
    "warnings.filterwarnings('ignore')\n",
    "\n",
    "A, _ = lusc_data.load_data(multi_omics=[\"MIR\", \"GE\"], predicted_subtypes=[\"Secretory\"])\n",
    "B, _ = lusc_data.load_data(multi_omics=[\"MIR\", \"GE\"], predicted_subtypes=[\"Classical\"])\n",
    "network_subtype_sc = miRNATargetNet(miRNAs=lusc_data.MIR.get_genes_list(), targets=lusc_data.GE.get_genes_list())\n",
    "print network_subtype_sc.fit(tag=\"Secretory-Classical\", p_threshold=0.01, n_jobs=8,\n",
    "            miRNA_A=A[\"MIR\"],\n",
    "            gene_A=A[\"GE\"],\n",
    "            miRNA_B=B[\"MIR\"],\n",
    "            gene_B=B[\"GE\"],\n",
    "            putative_assocs=putative_assocs)\n",
    "\n",
    "A, _ = lusc_data.load_data(multi_omics=[\"MIR\", \"GE\"], predicted_subtypes=[\"Classical\"])\n",
    "B, _ = lusc_data.load_data(multi_omics=[\"MIR\", \"GE\"], predicted_subtypes=[\"Basal\"])\n",
    "network_subtype_cb = miRNATargetNet(miRNAs=lusc_data.MIR.get_genes_list(), targets=lusc_data.GE.get_genes_list())\n",
    "print network_subtype_cb.fit(tag=\"Classical-Basal\", p_threshold=0.01, n_jobs=8,\n",
    "            miRNA_A=A[\"MIR\"],\n",
    "            gene_A=A[\"GE\"],\n",
    "            miRNA_B=B[\"MIR\"],\n",
    "            gene_B=B[\"GE\"],\n",
    "            putative_assocs=putative_assocs)\n",
    "\n",
    "A, _ = lusc_data.load_data(multi_omics=[\"MIR\", \"GE\"], predicted_subtypes=[\"Secretory\"])\n",
    "B, _ = lusc_data.load_data(multi_omics=[\"MIR\", \"GE\"], predicted_subtypes=[\"Basal\"])\n",
    "network_subtype_sb = miRNATargetNet(miRNAs=lusc_data.MIR.get_genes_list(), targets=lusc_data.GE.get_genes_list())\n",
    "print network_subtype_sb.fit(tag=\"Secretory-Basal\", p_threshold=0.01, n_jobs=8,\n",
    "            miRNA_A=A[\"MIR\"],\n",
    "            gene_A=A[\"GE\"],\n",
    "            miRNA_B=B[\"MIR\"],\n",
    "            gene_B=B[\"GE\"],\n",
    "            putative_assocs=putative_assocs)"
   ]
  },
  {
   "cell_type": "code",
   "execution_count": null,
   "metadata": {},
   "outputs": [],
   "source": [
    "network_norm_tumor = miRNATargetNet(miRNAs=lusc_data.MIR.get_genes_list(), targets=lusc_data.GE.get_genes_list())\n",
    "A, _ = lusc_data.load_data(multi_omics=[\"MIR\", \"GE\"], pathologic_stages=[\"Normal\"])\n",
    "B, _ = lusc_data.load_data(multi_omics=[\"MIR\", \"GE\"], pathologic_stages=[\"Stage I\", \"Stage II\", \"Stage III\", \"Stage IV\"])\n",
    "print network_norm_tumor.fit(tag=\"Secretory-Basal\", p_threshold=0.01, n_jobs=8,\n",
    "            miRNA_A=A[\"MIR\"],\n",
    "            gene_A=A[\"GE\"],\n",
    "            miRNA_B=B[\"MIR\"],\n",
    "            gene_B=B[\"GE\"],\n",
    "            putative_assocs=putative_assocs)"
   ]
  },
  {
   "cell_type": "code",
   "execution_count": null,
   "metadata": {},
   "outputs": [],
   "source": []
  },
  {
   "cell_type": "markdown",
   "metadata": {},
   "source": [
    "# Combine subtypes dysregulation networks into one"
   ]
  },
  {
   "cell_type": "code",
   "execution_count": 60,
   "metadata": {},
   "outputs": [
    {
     "data": {
      "text/plain": [
       "<networkx.classes.digraph.DiGraph at 0x7fd86d6a4c50>"
      ]
     },
     "execution_count": 60,
     "metadata": {},
     "output_type": "execute_result"
    }
   ],
   "source": [
    "import networkx as nx\n",
    "\n",
    "def relabel_mapping(node):\n",
    "    # HACK: This function is used to relabel target nodes in the miRNA-target bipartite graph such that target nodes\n",
    "    # in each distinct bipartite graphs have different names\n",
    "    if \"hsa-\" in node:\n",
    "        return node\n",
    "    else:\n",
    "        return node+\"_\"+str(np.random.randint(1000)) # a random number, so each run gives a \"probably\" different relabeling\n",
    "    \n",
    "nx.relabel_nodes(network_subtype_sc.B, relabel_mapping, copy=False)\n",
    "nx.relabel_nodes(network_subtype_cb.B, relabel_mapping, copy=False)\n",
    "nx.relabel_nodes(network_subtype_sb.B, relabel_mapping, copy=False)"
   ]
  },
  {
   "cell_type": "code",
   "execution_count": 62,
   "metadata": {},
   "outputs": [],
   "source": [
    "network_subtypes = nx.compose_all([network_subtype_sc.B, network_subtype_cb.B, network_subtype_sb.B])\n",
    "\n",
    "network_subtypes_combined = miRNATargetNet(miRNAs=lusc_data.MIR.get_genes_list(), targets=lusc_data.GE.get_genes_list())\n",
    "network_subtypes_combined.B = network_subtypes\n",
    "\n",
    "# sorted(network_subtypes.nodes())"
   ]
  },
  {
   "cell_type": "code",
   "execution_count": 70,
   "metadata": {},
   "outputs": [
    {
     "name": "stdout",
     "output_type": "stream",
     "text": [
      "0\n",
      "0\n",
      "0\n",
      "0\n",
      "0\n"
     ]
    }
   ],
   "source": [
    "print len(network_subtype_sc.B.edges())\n",
    "print len(network_subtype_cb.B.edges())\n",
    "print len(network_subtype_sb.B.edges())\n",
    "print len(network_norm_tumor.B.edges())\n",
    "print len(network_subtypes_combined.B.edges())"
   ]
  },
  {
   "cell_type": "markdown",
   "metadata": {},
   "source": [
    "# Bipartite Graph Analysis"
   ]
  },
  {
   "cell_type": "code",
   "execution_count": 68,
   "metadata": {},
   "outputs": [
    {
     "name": "stdout",
     "output_type": "stream",
     "text": [
      "mirnas 0\n",
      "targets 0\n",
      "edges 0\n"
     ]
    }
   ],
   "source": [
    "import networkx as nx\n",
    "from networkx.algorithms import bipartite\n",
    "import copy\n",
    "\n",
    "# g = network_subtypes.to_undirected()\n",
    "g = copy.deepcopy(network_subtypes_combined.B.to_undirected())\n",
    "g.remove_nodes_from(list(nx.isolates(g)))\n",
    "\n",
    "\n",
    "miRNAs_nodes = set(n for n, d in g.nodes(data=True) if d['bipartite'] == 0)\n",
    "targets_nodes = set(g) - miRNAs_nodes\n",
    "print 'mirnas', len(miRNAs_nodes)\n",
    "print 'targets', len(targets_nodes)\n",
    "print 'edges',len(g.edges())"
   ]
  },
  {
   "cell_type": "code",
   "execution_count": null,
   "metadata": {},
   "outputs": [],
   "source": []
  }
 ],
 "metadata": {
  "kernelspec": {
   "display_name": "Python 2",
   "language": "python",
   "name": "python2"
  },
  "language_info": {
   "codemirror_mode": {
    "name": "ipython",
    "version": 2
   },
   "file_extension": ".py",
   "mimetype": "text/x-python",
   "name": "python",
   "nbconvert_exporter": "python",
   "pygments_lexer": "ipython2",
   "version": "2.7.14"
  }
 },
 "nbformat": 4,
 "nbformat_minor": 2
}
