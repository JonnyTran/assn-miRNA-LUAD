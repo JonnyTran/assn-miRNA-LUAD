{
 "cells": [
  {
   "cell_type": "code",
   "execution_count": 2,
   "metadata": {},
   "outputs": [],
   "source": [
    "# Necessary imports\n",
    "%load_ext autoreload\n",
    "%autoreload 2\\\n",
    "    \n",
    "import os\n",
    "import sys\n",
    "nb_dir = os.path.split(os.getcwd())[0]\n",
    "if nb_dir not in sys.path:\n",
    "    sys.path.append(nb_dir)\n",
    "from definitions import ROOT_DIR"
   ]
  },
  {
   "cell_type": "code",
   "execution_count": 3,
   "metadata": {},
   "outputs": [],
   "source": [
    "import pandas as pd\n",
    "import numpy as np"
   ]
  },
  {
   "cell_type": "code",
   "execution_count": 4,
   "metadata": {},
   "outputs": [
    {
     "name": "stderr",
     "output_type": "stream",
     "text": [
      "/opt/anaconda3/envs/py27/lib/python2.7/site-packages/pandas/core/frame.py:3027: SettingWithCopyWarning: \n",
      "A value is trying to be set on a copy of a slice from a DataFrame\n",
      "\n",
      "See the caveats in the documentation: http://pandas.pydata.org/pandas-docs/stable/indexing.html#indexing-view-versus-copy\n",
      "  return super(DataFrame, self).rename(**kwargs)\n"
     ]
    },
    {
     "name": "stdout",
     "output_type": "stream",
     "text": [
      "('DRUGS', (357, 4))\n",
      "('PATIENTS', (504, 5))\n",
      "('MIR', (380, 1870))\n",
      "('GE', (552, 20472))\n"
     ]
    }
   ],
   "source": [
    "from src.features.multi_omics import MultiOmicsData\n",
    "\n",
    "lusc_data = MultiOmicsData(cancer_type=\"LUSC\", \n",
    "                           folder_path=ROOT_DIR+\"/data/tcga-assembler/LUSC/\", \n",
    "                           modalities=[\"GE\", \"MIR\"])"
   ]
  },
  {
   "cell_type": "code",
   "execution_count": 5,
   "metadata": {},
   "outputs": [],
   "source": [
    "centroids = pd.read_csv(ROOT_DIR+\"/data/external/wilkerson.scc/predictor.centroids.csv\")\n",
    "centroids.columns = [\"genes\", \"primitive\", \"classical\", \"secretory\", \"basal\"]\n",
    "centroids = centroids[centroids[\"genes\"].isin(lusc_data.GE.get_genes_list())]\n",
    "centroid_genes = centroids[\"genes\"]"
   ]
  },
  {
   "cell_type": "code",
   "execution_count": 6,
   "metadata": {},
   "outputs": [
    {
     "data": {
      "text/html": [
       "<div>\n",
       "<style scoped>\n",
       "    .dataframe tbody tr th:only-of-type {\n",
       "        vertical-align: middle;\n",
       "    }\n",
       "\n",
       "    .dataframe tbody tr th {\n",
       "        vertical-align: top;\n",
       "    }\n",
       "\n",
       "    .dataframe thead th {\n",
       "        text-align: right;\n",
       "    }\n",
       "</style>\n",
       "<table border=\"1\" class=\"dataframe\">\n",
       "  <thead>\n",
       "    <tr style=\"text-align: right;\">\n",
       "      <th>genes</th>\n",
       "      <th>MYL6B</th>\n",
       "      <th>PODXL2</th>\n",
       "      <th>HSF2</th>\n",
       "      <th>TTLL4</th>\n",
       "      <th>MARCKSL1</th>\n",
       "      <th>MDK</th>\n",
       "      <th>CHKA</th>\n",
       "      <th>TRIM28</th>\n",
       "      <th>STOM</th>\n",
       "      <th>CASP1</th>\n",
       "      <th>...</th>\n",
       "      <th>ALDH1A3</th>\n",
       "      <th>DSE</th>\n",
       "      <th>MMP10</th>\n",
       "      <th>VDR</th>\n",
       "      <th>CAPZB</th>\n",
       "      <th>FNBP1</th>\n",
       "      <th>ENPP4</th>\n",
       "      <th>SH2B3</th>\n",
       "      <th>DOCK10</th>\n",
       "      <th>SDC1</th>\n",
       "    </tr>\n",
       "  </thead>\n",
       "  <tbody>\n",
       "    <tr>\n",
       "      <th>primitive</th>\n",
       "      <td>0.539568</td>\n",
       "      <td>0.852272</td>\n",
       "      <td>0.293831</td>\n",
       "      <td>0.679557</td>\n",
       "      <td>1.015985</td>\n",
       "      <td>1.001421</td>\n",
       "      <td>0.513166</td>\n",
       "      <td>0.569403</td>\n",
       "      <td>-0.737997</td>\n",
       "      <td>-0.775559</td>\n",
       "      <td>...</td>\n",
       "      <td>-0.231312</td>\n",
       "      <td>-0.521502</td>\n",
       "      <td>-0.862938</td>\n",
       "      <td>-0.421701</td>\n",
       "      <td>-0.015213</td>\n",
       "      <td>-0.016889</td>\n",
       "      <td>0.232617</td>\n",
       "      <td>-0.178687</td>\n",
       "      <td>-0.121821</td>\n",
       "      <td>-0.764157</td>\n",
       "    </tr>\n",
       "    <tr>\n",
       "      <th>classical</th>\n",
       "      <td>-0.139755</td>\n",
       "      <td>-0.019997</td>\n",
       "      <td>0.060404</td>\n",
       "      <td>-0.089302</td>\n",
       "      <td>-0.306555</td>\n",
       "      <td>-0.019797</td>\n",
       "      <td>-0.150269</td>\n",
       "      <td>0.021242</td>\n",
       "      <td>-0.065057</td>\n",
       "      <td>-0.187048</td>\n",
       "      <td>...</td>\n",
       "      <td>-0.485903</td>\n",
       "      <td>-0.462036</td>\n",
       "      <td>-0.649346</td>\n",
       "      <td>-0.259443</td>\n",
       "      <td>-0.216407</td>\n",
       "      <td>-0.103185</td>\n",
       "      <td>-0.276022</td>\n",
       "      <td>-0.169656</td>\n",
       "      <td>-0.137791</td>\n",
       "      <td>0.337130</td>\n",
       "    </tr>\n",
       "    <tr>\n",
       "      <th>secretory</th>\n",
       "      <td>-0.084411</td>\n",
       "      <td>-0.104802</td>\n",
       "      <td>-0.131566</td>\n",
       "      <td>-0.044189</td>\n",
       "      <td>0.012595</td>\n",
       "      <td>-0.202898</td>\n",
       "      <td>0.235328</td>\n",
       "      <td>-0.264212</td>\n",
       "      <td>0.297794</td>\n",
       "      <td>0.305713</td>\n",
       "      <td>...</td>\n",
       "      <td>0.325191</td>\n",
       "      <td>0.487990</td>\n",
       "      <td>-0.974158</td>\n",
       "      <td>0.384095</td>\n",
       "      <td>0.180478</td>\n",
       "      <td>0.421356</td>\n",
       "      <td>0.482619</td>\n",
       "      <td>0.533466</td>\n",
       "      <td>0.569353</td>\n",
       "      <td>-0.998660</td>\n",
       "    </tr>\n",
       "    <tr>\n",
       "      <th>basal</th>\n",
       "      <td>-0.033551</td>\n",
       "      <td>-0.053003</td>\n",
       "      <td>-0.079130</td>\n",
       "      <td>-0.084657</td>\n",
       "      <td>0.097278</td>\n",
       "      <td>-0.222180</td>\n",
       "      <td>-0.136313</td>\n",
       "      <td>0.011287</td>\n",
       "      <td>0.043434</td>\n",
       "      <td>0.063549</td>\n",
       "      <td>...</td>\n",
       "      <td>0.905489</td>\n",
       "      <td>0.509466</td>\n",
       "      <td>2.926716</td>\n",
       "      <td>0.309637</td>\n",
       "      <td>0.216626</td>\n",
       "      <td>-0.185309</td>\n",
       "      <td>-0.147701</td>\n",
       "      <td>-0.030816</td>\n",
       "      <td>-0.093761</td>\n",
       "      <td>0.419894</td>\n",
       "    </tr>\n",
       "  </tbody>\n",
       "</table>\n",
       "<p>4 rows × 196 columns</p>\n",
       "</div>"
      ],
      "text/plain": [
       "genes         MYL6B    PODXL2      HSF2     TTLL4  MARCKSL1       MDK  \\\n",
       "primitive  0.539568  0.852272  0.293831  0.679557  1.015985  1.001421   \n",
       "classical -0.139755 -0.019997  0.060404 -0.089302 -0.306555 -0.019797   \n",
       "secretory -0.084411 -0.104802 -0.131566 -0.044189  0.012595 -0.202898   \n",
       "basal     -0.033551 -0.053003 -0.079130 -0.084657  0.097278 -0.222180   \n",
       "\n",
       "genes          CHKA    TRIM28      STOM     CASP1    ...      ALDH1A3  \\\n",
       "primitive  0.513166  0.569403 -0.737997 -0.775559    ...    -0.231312   \n",
       "classical -0.150269  0.021242 -0.065057 -0.187048    ...    -0.485903   \n",
       "secretory  0.235328 -0.264212  0.297794  0.305713    ...     0.325191   \n",
       "basal     -0.136313  0.011287  0.043434  0.063549    ...     0.905489   \n",
       "\n",
       "genes           DSE     MMP10       VDR     CAPZB     FNBP1     ENPP4  \\\n",
       "primitive -0.521502 -0.862938 -0.421701 -0.015213 -0.016889  0.232617   \n",
       "classical -0.462036 -0.649346 -0.259443 -0.216407 -0.103185 -0.276022   \n",
       "secretory  0.487990 -0.974158  0.384095  0.180478  0.421356  0.482619   \n",
       "basal      0.509466  2.926716  0.309637  0.216626 -0.185309 -0.147701   \n",
       "\n",
       "genes         SH2B3    DOCK10      SDC1  \n",
       "primitive -0.178687 -0.121821 -0.764157  \n",
       "classical -0.169656 -0.137791  0.337130  \n",
       "secretory  0.533466  0.569353 -0.998660  \n",
       "basal     -0.030816 -0.093761  0.419894  \n",
       "\n",
       "[4 rows x 196 columns]"
      ]
     },
     "execution_count": 6,
     "metadata": {},
     "output_type": "execute_result"
    }
   ],
   "source": [
    "centroids.index = centroids.genes\n",
    "centroids.drop(['genes'], axis=1, inplace=True)\n",
    "centroids = centroids.T\n",
    "centroids"
   ]
  },
  {
   "cell_type": "markdown",
   "metadata": {},
   "source": [
    "# Subsetting the GE data to only genes"
   ]
  },
  {
   "cell_type": "code",
   "execution_count": 7,
   "metadata": {},
   "outputs": [],
   "source": [
    "lusc_ge = lusc_data.GE.data[centroid_genes]\n",
    "\n",
    "\n",
    "# Subset the LUSC samples to only tumor samples\n",
    "lusc_ge = lusc_ge[lusc_ge.index.str.contains(\"-01A\")]"
   ]
  },
  {
   "cell_type": "code",
   "execution_count": 8,
   "metadata": {},
   "outputs": [],
   "source": [
    "from sklearn.preprocessing import MinMaxScaler\n",
    "\n",
    "scaler = MinMaxScaler(feature_range=(-np.max(np.abs(centroids.values)), np.max(np.abs(centroids.values))))\n",
    "# scaler = MinMaxScaler()\n",
    "# scaler.fit(centroids)"
   ]
  },
  {
   "cell_type": "markdown",
   "metadata": {},
   "source": [
    "# Classify LUSC patients based on cluster centroids obtained from Wilkenson, et. al\n",
    "\n",
    "TODO Read paper \"The molecular portraits of breast tumors are conserved across microarray platforms\" on how to do subtype prediction"
   ]
  },
  {
   "cell_type": "code",
   "execution_count": 9,
   "metadata": {},
   "outputs": [],
   "source": [
    "from sklearn.cluster import KMeans\n",
    "kmeans = KMeans(n_clusters=4)"
   ]
  },
  {
   "cell_type": "code",
   "execution_count": 10,
   "metadata": {},
   "outputs": [],
   "source": [
    "kmeans.cluster_centers_ = centroids.values"
   ]
  },
  {
   "cell_type": "code",
   "execution_count": 11,
   "metadata": {},
   "outputs": [
    {
     "data": {
      "text/plain": [
       "Secretory     40\n",
       "Primitive     23\n",
       "Classical    221\n",
       "Basal        212\n",
       "Name: subtype, dtype: int64"
      ]
     },
     "execution_count": 11,
     "metadata": {},
     "output_type": "execute_result"
    }
   ],
   "source": [
    "lusc_subtypes_map = {0: 'Primitive', 1: 'Classical', 2: 'Secretory', 3: 'Basal'}\n",
    "\n",
    "lusc_subtypes_pred = pd.DataFrame(kmeans.predict(scaler.fit_transform(lusc_ge)), index=lusc_ge.index)\n",
    "lusc_subtypes_pred.columns = [\"subtype\"]\n",
    "lusc_subtypes_pred.replace({\"subtype\": lusc_subtypes_map}, inplace=True)\n",
    "lusc_subtypes_pred[\"subtype\"].value_counts(sort=False, normalize=False)"
   ]
  },
  {
   "cell_type": "markdown",
   "metadata": {},
   "source": [
    "# Assign predicted subtypes to LUSC patients samples"
   ]
  },
  {
   "cell_type": "code",
   "execution_count": 12,
   "metadata": {},
   "outputs": [],
   "source": [
    "lusc_subtypes_pred[\"patient_barcode\"] = lusc_subtypes_pred.index.str[:-4]\n",
    "\n",
    "lusc_data.add_subtypes_to_patients_clinical(dict(zip(lusc_subtypes_pred[\"patient_barcode\"], lusc_subtypes_pred[\"subtype\"])))"
   ]
  },
  {
   "cell_type": "code",
   "execution_count": 13,
   "metadata": {},
   "outputs": [
    {
     "name": "stdout",
     "output_type": "stream",
     "text": [
      "(29, 20472) (29, 1)\n"
     ]
    }
   ],
   "source": [
    "X, y = lusc_data.load_data(multi_omics=[\"GE\"], \n",
    "#                            target=[\"ajcc_pathologic_tumor_stage\"], \n",
    "                           target=[\"predicted_subtype\"], \n",
    "                           predicted_subtypes=[\"Primitive\"], \n",
    "#                            pathologic_stages=['Stage I', 'Stage II', 'Stage III', 'Stage IV']\n",
    "                          )\n",
    "print X[\"GE\"].shape , y.shape"
   ]
  },
  {
   "cell_type": "markdown",
   "metadata": {},
   "source": [
    "# Putative Associations"
   ]
  },
  {
   "cell_type": "code",
   "execution_count": 14,
   "metadata": {},
   "outputs": [
    {
     "name": "stdout",
     "output_type": "stream",
     "text": [
      "(1097064, 2)\n",
      "(532659, 2)\n",
      "(603489, 2)\n"
     ]
    }
   ],
   "source": [
    "from src.data.make_dataset import Target_Scan\n",
    "target_scan = Target_Scan(mirna_list=lusc_data.MIR.get_genes_list(), gene_symbols=lusc_data.GE.get_genes_list())\n",
    "\n",
    "# Load miRanda putative miRNA-target associations\n",
    "miRanda_df = pd.read_table(os.path.join(ROOT_DIR, 'data/external/miRanda_hg19_predictions_S_C_aug2010.txt'), delimiter='\\t')\n",
    "miRanda_df = miRanda_df[['mirna_name',  'gene_symbol']]\n",
    "\n",
    "miRanda_df['mirna_name'] = miRanda_df['mirna_name'].str.lower()\n",
    "miRanda_df['mirna_name'] = miRanda_df['mirna_name'].str.replace(\"*\", \"\")\n",
    "miRanda_df['mirna_name'] = miRanda_df['mirna_name'].str.replace(\"-3p.*|-5p.*\", \"\")\n",
    "print miRanda_df.shape\n",
    "\n",
    "miRanda_df.columns = [\"MiRBase ID\", \"Gene Symbol\"]\n",
    "miRanda_df = miRanda_df[miRanda_df['MiRBase ID'].isin(lusc_data.MIR.get_genes_list()) & miRanda_df['Gene Symbol'].isin(lusc_data.GE.get_genes_list())].dropna().drop_duplicates()\n",
    "print miRanda_df.shape\n",
    "\n",
    "# Union TargetScan and MiRanDa miRNA-target associations\n",
    "targetScan_df = target_scan.get_miRNA_target_interaction_context()\n",
    "putative_assocs = pd.concat([targetScan_df, miRanda_df]).dropna().drop_duplicates()\n",
    "print putative_assocs.shape"
   ]
  },
  {
   "cell_type": "markdown",
   "metadata": {},
   "source": [
    "# Run MDSN dysregulation analyses"
   ]
  },
  {
   "cell_type": "code",
   "execution_count": null,
   "metadata": {},
   "outputs": [],
   "source": [
    "from src.models.miRNA_target_network import miRNATargetNetwork as miRNATargetNet\n",
    "import warnings\n",
    "warnings.filterwarnings('ignore')\n",
    "\n",
    "A, _ = lusc_data.load_data(multi_omics=[\"MIR\", \"GE\"], predicted_subtypes=[\"Secretory\"])\n",
    "B, _ = lusc_data.load_data(multi_omics=[\"MIR\", \"GE\"], predicted_subtypes=[\"Classical\"])\n",
    "network_subtype_sc = miRNATargetNet(miRNAs=lusc_data.MIR.get_genes_list(), targets=lusc_data.GE.get_genes_list())\n",
    "print network_subtype_sc.fit(tag=\"Secretory-Classical\", p_threshold=0.01, n_jobs=8,\n",
    "            miRNA_A=A[\"MIR\"],\n",
    "            gene_A=A[\"GE\"],\n",
    "            miRNA_B=B[\"MIR\"],\n",
    "            gene_B=B[\"GE\"],\n",
    "            putative_assocs=putative_assocs)\n",
    "\n",
    "A, _ = lusc_data.load_data(multi_omics=[\"MIR\", \"GE\"], predicted_subtypes=[\"Classical\"])\n",
    "B, _ = lusc_data.load_data(multi_omics=[\"MIR\", \"GE\"], predicted_subtypes=[\"Basal\"])\n",
    "network_subtype_cb = miRNATargetNet(miRNAs=lusc_data.MIR.get_genes_list(), targets=lusc_data.GE.get_genes_list())\n",
    "print network_subtype_cb.fit(tag=\"Classical-Basal\", p_threshold=0.01, n_jobs=8,\n",
    "            miRNA_A=A[\"MIR\"],\n",
    "            gene_A=A[\"GE\"],\n",
    "            miRNA_B=B[\"MIR\"],\n",
    "            gene_B=B[\"GE\"],\n",
    "            putative_assocs=putative_assocs)\n",
    "\n",
    "A, _ = lusc_data.load_data(multi_omics=[\"MIR\", \"GE\"], predicted_subtypes=[\"Secretory\"])\n",
    "B, _ = lusc_data.load_data(multi_omics=[\"MIR\", \"GE\"], predicted_subtypes=[\"Basal\"])\n",
    "network_subtype_sb = miRNATargetNet(miRNAs=lusc_data.MIR.get_genes_list(), targets=lusc_data.GE.get_genes_list())\n",
    "print network_subtype_sb.fit(tag=\"Secretory-Basal\", p_threshold=0.01, n_jobs=8,\n",
    "            miRNA_A=A[\"MIR\"],\n",
    "            gene_A=A[\"GE\"],\n",
    "            miRNA_B=B[\"MIR\"],\n",
    "            gene_B=B[\"GE\"],\n",
    "            putative_assocs=putative_assocs)\n",
    "\n",
    "network_norm_tumor = miRNATargetNet(miRNAs=lusc_data.MIR.get_genes_list(), targets=lusc_data.GE.get_genes_list())\n",
    "A, _ = lusc_data.load_data(multi_omics=[\"MIR\", \"GE\"], pathologic_stages=[\"Normal\"])\n",
    "B, _ = lusc_data.load_data(multi_omics=[\"MIR\", \"GE\"], pathologic_stages=[\"Stage I\", \"Stage II\", \"Stage III\", \"Stage IV\"],\n",
    "                          )\n",
    "print network_norm_tumor.fit(tag=\"Secretory-Basal\", p_threshold=0.01, n_jobs=8,\n",
    "            miRNA_A=A[\"MIR\"],\n",
    "            gene_A=A[\"GE\"],\n",
    "            miRNA_B=B[\"MIR\"],\n",
    "            gene_B=B[\"GE\"],\n",
    "            putative_assocs=putative_assocs)"
   ]
  },
  {
   "cell_type": "code",
   "execution_count": 16,
   "metadata": {},
   "outputs": [
    {
     "name": "stdout",
     "output_type": "stream",
     "text": [
      "n_A 37\n",
      "n_B 333\n",
      "30953\n"
     ]
    }
   ],
   "source": []
  },
  {
   "cell_type": "code",
   "execution_count": 8,
   "metadata": {},
   "outputs": [],
   "source": [
    "# Write graph to file\n",
    "# import networkx as nx\n",
    "\n",
    "# nx.write_gml(network_subtype_ab.B, path=\"./network_subtype_ab_-2.gml\")\n",
    "# nx.write_gml(network_subtype_pb.B, path=\"./network_subtype_pb_-2.gml\")\n",
    "# nx.write_gml(network_subtype_ap.B, path=\"./network_subtype_ap_-2.gml\")\n",
    "\n",
    "# nx.write_gml(network_subtype_ac.B, path=\"./network_subtype_ac_-2.gml\")\n",
    "# nx.write_gml(network_subtype_pc.B, path=\"./network_subtype_pc_-2.gml\")\n",
    "# nx.write_gml(network_subtype_bc.B, path=\"./network_subtype_bc_-2.gml\")"
   ]
  },
  {
   "cell_type": "markdown",
   "metadata": {},
   "source": [
    "# Combine subtypes dysregulation networks into one"
   ]
  },
  {
   "cell_type": "code",
   "execution_count": 17,
   "metadata": {},
   "outputs": [
    {
     "data": {
      "text/plain": [
       "<networkx.classes.digraph.DiGraph at 0x7f35748f1e10>"
      ]
     },
     "execution_count": 17,
     "metadata": {},
     "output_type": "execute_result"
    }
   ],
   "source": [
    "import networkx as nx\n",
    "\n",
    "def relabel_mapping(node):\n",
    "    # HACK: This function is used to relabel target nodes in the miRNA-target bipartite graph such that target nodes\n",
    "    # in each distinct bipartite graphs have different names\n",
    "    if \"hsa-\" in node:\n",
    "        return node\n",
    "    else:\n",
    "        return node+\"_\"+str(np.random.randint(1000)) # a random number, so each run gives a \"probably\" different relabeling\n",
    "    \n",
    "nx.relabel_nodes(network_subtype_sc.B, relabel_mapping, copy=False)\n",
    "nx.relabel_nodes(network_subtype_cb.B, relabel_mapping, copy=False)\n",
    "nx.relabel_nodes(network_subtype_sb.B, relabel_mapping, copy=False)"
   ]
  },
  {
   "cell_type": "code",
   "execution_count": 18,
   "metadata": {},
   "outputs": [],
   "source": [
    "network_subtypes = nx.compose_all([network_subtype_sc.B, network_subtype_cb.B, network_subtype_sb.B])\n",
    "\n",
    "network_subtypes_combined = miRNATargetNet(miRNAs=lusc_data.MIR.get_genes_list(), targets=lusc_data.GE.get_genes_list())\n",
    "network_subtypes_combined.B = network_subtypes\n",
    "\n",
    "# sorted(network_subtypes.nodes())"
   ]
  },
  {
   "cell_type": "code",
   "execution_count": 19,
   "metadata": {},
   "outputs": [
    {
     "name": "stdout",
     "output_type": "stream",
     "text": [
      "21307\n",
      "14154\n",
      "17712\n",
      "30953\n",
      "53152\n"
     ]
    }
   ],
   "source": [
    "print len(network_subtype_sc.B.edges())\n",
    "print len(network_subtype_cb.B.edges())\n",
    "print len(network_subtype_sb.B.edges())\n",
    "print len(network_norm_tumor.B.edges())\n",
    "print len(network_subtypes_combined.B.edges())"
   ]
  },
  {
   "cell_type": "markdown",
   "metadata": {},
   "source": [
    "# Bipartite Graph Analysis"
   ]
  },
  {
   "cell_type": "code",
   "execution_count": 20,
   "metadata": {},
   "outputs": [
    {
     "name": "stdout",
     "output_type": "stream",
     "text": [
      "mirnas 254\n",
      "targets 23726\n",
      "edges 53152\n"
     ]
    }
   ],
   "source": [
    "import networkx as nx\n",
    "from networkx.algorithms import bipartite\n",
    "import copy\n",
    "\n",
    "# g = network_subtypes.to_undirected()\n",
    "g = copy.deepcopy(network_subtypes_combined.B.to_undirected())\n",
    "g.remove_nodes_from(list(nx.isolates(g)))\n",
    "\n",
    "\n",
    "miRNAs_nodes = set(n for n, d in g.nodes(data=True) if d['bipartite'] == 0)\n",
    "targets_nodes = set(g) - miRNAs_nodes\n",
    "print 'mirnas', len(miRNAs_nodes)\n",
    "print 'targets', len(targets_nodes)\n",
    "print 'edges',len(g.edges())"
   ]
  },
  {
   "cell_type": "code",
   "execution_count": 21,
   "metadata": {},
   "outputs": [
    {
     "name": "stdout",
     "output_type": "stream",
     "text": [
      "(254, 23726)\n"
     ]
    }
   ],
   "source": [
    "import scipy\n",
    "import scipy.sparse as sparse\n",
    "\n",
    "adj = bipartite.biadjacency_matrix(g, row_order=miRNAs_nodes, column_order=targets_nodes)\n",
    "print adj.shape\n",
    "cosine_adj = 1-scipy.spatial.distance.pdist(adj.toarray(), \"cosine\")"
   ]
  },
  {
   "cell_type": "markdown",
   "metadata": {},
   "source": [
    "## Testing approximate scale-free topology criterion by plotting log10(P(k)) v.s. log10(k). A straight line indicates scale-free topology"
   ]
  },
  {
   "cell_type": "code",
   "execution_count": 22,
   "metadata": {},
   "outputs": [
    {
     "data": {
      "text/plain": [
       "<Figure size 640x480 with 1 Axes>"
      ]
     },
     "metadata": {},
     "output_type": "display_data"
    }
   ],
   "source": [
    "import matplotlib.pyplot as plt\n",
    "k_power=1\n",
    "# cosine_adj_hist_dist = scipy.stats.gaussian_kde(np.power(cosine_adj, k_power))\n",
    "cosine_adj_hist = np.histogram(np.power(cosine_adj, k_power), bins=500)\n",
    "cosine_adj_hist_dist = scipy.stats.rv_histogram(cosine_adj_hist)\n",
    "\n",
    "plt.scatter(x=np.log10(np.power(cosine_adj, k_power)),\n",
    "            y=np.log10(cosine_adj_hist_dist.pdf(np.power(cosine_adj, k_power))), \n",
    "            marker='.')\n",
    "plt.xlabel(\"np.log10(k)\")\n",
    "plt.ylabel(\"np.log10(P(k))\")\n",
    "plt.show()"
   ]
  },
  {
   "cell_type": "code",
   "execution_count": 23,
   "metadata": {},
   "outputs": [
    {
     "name": "stdout",
     "output_type": "stream",
     "text": [
      "15081\n",
      "-0.16677151586966707 -2.7463578502393746 15081\n",
      "2.427016643277653 -1.8047841487802465 15081\n",
      "0.7627141148681206\n"
     ]
    }
   ],
   "source": [
    "k_power = 1\n",
    "c = np.log10(np.power(cosine_adj, k_power))\n",
    "d = np.log10(cosine_adj_hist_dist.pdf(np.power(cosine_adj, k_power)))\n",
    "\n",
    "d_ = d[np.where(c != -np.inf)]\n",
    "d_ = d_[np.where(d_ != -np.inf)]\n",
    "c_ = c[np.where(d != -np.inf)]\n",
    "c_ = c_[np.where(c_ != -np.inf)]\n",
    "\n",
    "print np.count_nonzero(~np.isnan(d_))\n",
    "print np.max(c_), np.min(c_), len(c_)\n",
    "print np.max(d_), np.min(d_), len(d_)\n",
    "print np.power(scipy.stats.pearsonr(c_, d_)[0], 2)"
   ]
  },
  {
   "cell_type": "markdown",
   "metadata": {},
   "source": [
    "## Graph Distribution of the Cosine Similarity Connections"
   ]
  },
  {
   "cell_type": "code",
   "execution_count": 24,
   "metadata": {},
   "outputs": [
    {
     "data": {
      "image/png": "[encoded data removed]",
      "text/plain": [
       "<Figure size 900x600 with 1 Axes>"
      ]
     },
     "metadata": {},
     "output_type": "display_data"
    }
   ],
   "source": [
    "from sklearn.neighbors.kde import KernelDensity\n",
    "kde = KernelDensity(kernel='gaussian', bandwidth=0.75).fit(np.array(cosine_adj)[:,np.newaxis])\n",
    "x_data = np.linspace(0., 1., 100)[:, np.newaxis]\n",
    "kde_samples = kde.score_samples(x_data)\n",
    "\n",
    "plt.figure(dpi=150)\n",
    "plt.scatter(x=x_data, y=kde_samples, c=\"black\")\n",
    "# plt.ylim(0, 200)\n",
    "# plt.xlim(0, 0.2)\n",
    "plt.ylabel(\"frequency\")\n",
    "plt.xlabel(\"cosine values\")\n",
    "plt.show()"
   ]
  },
  {
   "cell_type": "markdown",
   "metadata": {},
   "source": [
    "## Hard-thresholding"
   ]
  },
  {
   "cell_type": "code",
   "execution_count": 25,
   "metadata": {},
   "outputs": [
    {
     "data": {
      "image/png": "[encoded data removed]",
      "text/plain": [
       "<Figure size 900x600 with 1 Axes>"
      ]
     },
     "metadata": {},
     "output_type": "display_data"
    }
   ],
   "source": [
    "R_thresholds = np.linspace(0,1,100)\n",
    "r_sqrs = []\n",
    "k_power = 1\n",
    "    \n",
    "for threshold in R_thresholds:\n",
    "    samples = np.power(cosine_adj, k_power)\n",
    "    samples[(samples < threshold)] = 0\n",
    "#     samples = samples[(samples > threshold)]\n",
    "\n",
    "    cosine_adj_hist = np.histogram(samples, bins=100)\n",
    "    cosine_adj_hist_dist = scipy.stats.rv_histogram(cosine_adj_hist)\n",
    "    c = np.log10(samples)\n",
    "    d = np.log10(cosine_adj_hist_dist.pdf(samples))\n",
    "    \n",
    "    d_ = d[np.where(c != -np.inf)]\n",
    "    d_ = d_[np.where(d_ != -np.inf)]\n",
    "    c_ = c[np.where(d != -np.inf)]\n",
    "    c_ = c_[np.where(c_ != -np.inf)]\n",
    "    \n",
    "    r_sqr = scipy.stats.pearsonr(c_, d_)\n",
    "    r_sqr = r_sqr[0]*r_sqr[0]\n",
    "    r_sqrs.append(r_sqr)\n",
    "\n",
    "# print B[np.argmax(r_sqrs)]\n",
    "plt.figure(dpi=150)\n",
    "# plt.scatter(x=R_thresholds, y=r_sqrs, marker='.', c=\"black\")\n",
    "plt.plot(R_thresholds, r_sqrs, c=\"black\")\n",
    "plt.ylabel(\"R^2\")\n",
    "plt.xlabel(\"Cosine similarity thresholds\")\n",
    "plt.show()"
   ]
  },
  {
   "cell_type": "markdown",
   "metadata": {},
   "source": [
    "## Soft-thresholding"
   ]
  },
  {
   "cell_type": "code",
   "execution_count": 26,
   "metadata": {},
   "outputs": [
    {
     "data": {
      "image/png": "[encoded data removed]",
      "text/plain": [
       "<Figure size 900x600 with 1 Axes>"
      ]
     },
     "metadata": {},
     "output_type": "display_data"
    }
   ],
   "source": [
    "B = np.arange(1,15,0.25)\n",
    "r_sqrs = []\n",
    "\n",
    "for b in B:\n",
    "    k_power = b\n",
    "    samples = np.power(cosine_adj, k_power)\n",
    "    \n",
    "    cosine_adj_hist = np.histogram(samples, bins=200)\n",
    "    cosine_adj_hist_dist = scipy.stats.rv_histogram(cosine_adj_hist)\n",
    "    c = np.log10(samples)\n",
    "    d = np.log10(cosine_adj_hist_dist.pdf(samples))\n",
    "\n",
    "    d_ = d[np.where(c != -np.inf)]\n",
    "    d_ = d_[np.where(d_ != -np.inf)]\n",
    "    c_ = c[np.where(d != -np.inf)]\n",
    "    c_ = c_[np.where(c_ != -np.inf)]\n",
    "    \n",
    "    r_sqr = scipy.stats.pearsonr(c_, d_)\n",
    "    r_sqr = r_sqr[0]*r_sqr[0]\n",
    "    r_sqrs.append(r_sqr)\n",
    "\n",
    "# print B[np.argmax(r_sqrs)]\n",
    "plt.figure(dpi=150)\n",
    "plt.scatter(x=B, y=r_sqrs, marker='.', c=\"black\")\n",
    "plt.ylabel(\"R^2\")\n",
    "plt.xlabel(\"B power\")\n",
    "plt.show()"
   ]
  },
  {
   "cell_type": "code",
   "execution_count": 52,
   "metadata": {},
   "outputs": [
    {
     "name": "stdout",
     "output_type": "stream",
     "text": [
      "0.4\n"
     ]
    }
   ],
   "source": [
    "# threshold = np.percentile(np.power(cosine_adj,3), 60)\n",
    "threshold = 0.4\n",
    "print threshold"
   ]
  },
  {
   "cell_type": "code",
   "execution_count": 53,
   "metadata": {},
   "outputs": [
    {
     "name": "stdout",
     "output_type": "stream",
     "text": [
      "edges 27\n"
     ]
    }
   ],
   "source": [
    "k_power = 1\n",
    "cosine_adj_sq = scipy.spatial.distance.squareform(np.power(cosine_adj, k_power))\n",
    "cosine_adj_sq[np.where(cosine_adj_sq < threshold)] = 0\n",
    "m = nx.from_numpy_matrix(cosine_adj_sq, create_using=nx.Graph())\n",
    "m = nx.relabel_nodes(m, {index: miRNA for (index, miRNA) in enumerate(miRNAs_nodes)})\n",
    "print \"edges\", len(m.edges())"
   ]
  },
  {
   "cell_type": "code",
   "execution_count": 54,
   "metadata": {},
   "outputs": [
    {
     "name": "stdout",
     "output_type": "stream",
     "text": [
      "254\n",
      "non-isolate nodes 28\n"
     ]
    }
   ],
   "source": [
    "print len(set(m))\n",
    "m.remove_nodes_from(list(nx.isolates(m)))\n",
    "print \"non-isolate nodes\", len(set(m))\n",
    "layout = nx.spring_layout(m, \n",
    "                          weight='weight',\n",
    "                          k=10.1/np.sqrt(g.number_of_nodes()),\n",
    "                          iterations=50)"
   ]
  },
  {
   "cell_type": "code",
   "execution_count": 55,
   "metadata": {},
   "outputs": [],
   "source": [
    "from bokeh.models import ColumnDataSource\n",
    "\n",
    "nodes, nodes_coordinates = zip(*sorted(layout.items()))\n",
    "nodes_xs, nodes_ys = list(zip(*nodes_coordinates))\n",
    "nodes_source = ColumnDataSource(dict(x=nodes_xs, y=nodes_ys,\n",
    "                                     name=[n[4:] for n in nodes]))"
   ]
  },
  {
   "cell_type": "code",
   "execution_count": 56,
   "metadata": {},
   "outputs": [],
   "source": [
    "from bokeh.plotting import show, figure\n",
    "from bokeh.io import output_notebook\n",
    "from bokeh.layouts import widgetbox\n",
    "from bokeh.models import HoverTool, LabelSet\n",
    "from bokeh.models import Toggle, BoxAnnotation, CustomJS\n",
    "\n",
    "hover = HoverTool(tooltips=[('name', '@name')])\n",
    "plot = figure(plot_width=875, plot_height=700,\n",
    "              tools=['tap', hover, 'box_zoom', 'reset', 'pan'])\n",
    "r_circles = plot.circle('x', 'y', source=nodes_source, size=5,\n",
    "                        color='blue', level = 'overlay')\n",
    "hover.renderers.append(r_circles)\n",
    "\n",
    "plot.xgrid.grid_line_color = None\n",
    "plot.ygrid.grid_line_color = None\n",
    "\n",
    "# layout = bl([p], [toggle])\n",
    "# show(layout)"
   ]
  },
  {
   "cell_type": "code",
   "execution_count": 57,
   "metadata": {},
   "outputs": [],
   "source": [
    "def get_edges_specs(_network, _layout):\n",
    "    d = {'xs': [], 'ys': [], 'alphas': [], 'name': []}\n",
    "    weights = [data['weight'] for u, v, data in _network.edges(data=True)]\n",
    "    calc_alpha = lambda h: 0.1 + 0.9*h\n",
    "\n",
    "    for u, v, data in _network.edges(data=True):\n",
    "        d['xs'].append([_layout[u][0], _layout[v][0]])\n",
    "        d['ys'].append([_layout[u][1], _layout[v][1]])\n",
    "        d['alphas'].append(calc_alpha(data['weight']))\n",
    "        d['name'].append(str(u)+'<=>'+str(v))\n",
    "    return d\n",
    "\n",
    "lines_source = ColumnDataSource(get_edges_specs(m, layout))\n",
    "\n",
    "r_lines = plot.multi_line('xs', 'ys', line_width=1.5,\n",
    "                          alpha='alphas', color='black',\n",
    "                          source=lines_source)\n",
    "r_lines = plot.multi_line('xs', 'ys', line_width=1.5,\n",
    "                          alpha='alphas', color='black',\n",
    "                          source=lines_source)\n",
    "# show(plot)"
   ]
  },
  {
   "cell_type": "code",
   "execution_count": 58,
   "metadata": {},
   "outputs": [
    {
     "name": "stdout",
     "output_type": "stream",
     "text": [
      "[2 4 2 8 2 2 2 2 2 2] 10\n"
     ]
    }
   ],
   "source": [
    "centrality =\\\n",
    "    nx.algorithms.centrality.betweenness_centrality(m)\n",
    "# first element are nodes again\n",
    "_, nodes_centrality = zip(*sorted(centrality.items()))\n",
    "max_centrality = max(nodes_centrality)\n",
    "nodes_source.add([7 + 10 * t / max_centrality\n",
    "                  for t in nodes_centrality],\n",
    "                 'centrality')\n",
    "\n",
    "import community # python-louvain\n",
    "partition = community.best_partition(m, weight=\"weight\")\n",
    "p_, nodes_community = zip(*sorted(partition.items()))\n",
    "nodes_source.add(nodes_community, 'community')\n",
    "community_colors = ['#e41a1c','#377eb8','#4daf4a','#984ea3','#ff7f00','#ffff33','#a65628', '#b3cde3','#ccebc5','#decbe4','#fed9a6','#ffffcc','#e5d8bd','#fddaec','#1b9e77','#d95f02','#7570b3','#e7298a','#66a61e','#e6ab02','#a6761d','#666666']\n",
    "nodes_source.add([community_colors[t % len(community_colors)]\n",
    "                  for t in nodes_community],\n",
    "                 'community_color')\n",
    "\n",
    "print np.bincount(partition.values()), len(np.unique(partition.values()))"
   ]
  },
  {
   "cell_type": "code",
   "execution_count": 59,
   "metadata": {},
   "outputs": [
    {
     "data": {
      "text/html": [
       "\n",
       "    <div class=\"bk-root\">\n",
       "        <a href=\"https://bokeh.pydata.org\" target=\"_blank\" class=\"bk-logo bk-logo-small bk-logo-notebook\"></a>\n",
       "        <span id=\"e2b13235-7f59-4b76-ad5e-e62d4beb9fc6\">Loading BokehJS ...</span>\n",
       "    </div>"
      ]
     },
     "metadata": {},
     "output_type": "display_data"
    },
    {
     "data": {
      "application/javascript": [
       "\n",
       "(function(root) {\n",
       "  function now() {\n",
       "    return new Date();\n",
       "  }\n",
       "\n",
       "  var force = true;\n",
       "\n",
       "  if (typeof (root._bokeh_onload_callbacks) === \"undefined\" || force === true) {\n",
       "    root._bokeh_onload_callbacks = [];\n",
       "    root._bokeh_is_loading = undefined;\n",
       "  }\n",
       "\n",
       "  var JS_MIME_TYPE = 'application/javascript';\n",
       "  var HTML_MIME_TYPE = 'text/html';\n",
       "  var EXEC_MIME_TYPE = 'application/vnd.bokehjs_exec.v0+json';\n",
       "  var CLASS_NAME = 'output_bokeh rendered_html';\n",
       "\n",
       "  /**\n",
       "   * Render data to the DOM node\n",
       "   */\n",
       "  function render(props, node) {\n",
       "    var script = document.createElement(\"script\");\n",
       "    node.appendChild(script);\n",
       "  }\n",
       "\n",
       "  /**\n",
       "   * Handle when an output is cleared or removed\n",
       "   */\n",
       "  function handleClearOutput(event, handle) {\n",
       "    var cell = handle.cell;\n",
       "\n",
       "    var id = cell.output_area._bokeh_element_id;\n",
       "    var server_id = cell.output_area._bokeh_server_id;\n",
       "    // Clean up Bokeh references\n",
       "    if (id !== undefined) {\n",
       "      Bokeh.index[id].model.document.clear();\n",
       "      delete Bokeh.index[id];\n",
       "    }\n",
       "\n",
       "    if (server_id !== undefined) {\n",
       "      // Clean up Bokeh references\n",
       "      var cmd = \"from bokeh.io.state import curstate; print(curstate().uuid_to_server['\" + server_id + \"'].get_sessions()[0].document.roots[0]._id)\";\n",
       "      cell.notebook.kernel.execute(cmd, {\n",
       "        iopub: {\n",
       "          output: function(msg) {\n",
       "            var element_id = msg.content.text.trim();\n",
       "            Bokeh.index[element_id].model.document.clear();\n",
       "            delete Bokeh.index[element_id];\n",
       "          }\n",
       "        }\n",
       "      });\n",
       "      // Destroy server and session\n",
       "      var cmd = \"import bokeh.io.notebook as ion; ion.destroy_server('\" + server_id + \"')\";\n",
       "      cell.notebook.kernel.execute(cmd);\n",
       "    }\n",
       "  }\n",
       "\n",
       "  /**\n",
       "   * Handle when a new output is added\n",
       "   */\n",
       "  function handleAddOutput(event, handle) {\n",
       "    var output_area = handle.output_area;\n",
       "    var output = handle.output;\n",
       "\n",
       "    // limit handleAddOutput to display_data with EXEC_MIME_TYPE content only\n",
       "    if ((output.output_type != \"display_data\") || (!output.data.hasOwnProperty(EXEC_MIME_TYPE))) {\n",
       "      return\n",
       "    }\n",
       "\n",
       "    var toinsert = output_area.element.find(\".\" + CLASS_NAME.split(' ')[0]);\n",
       "\n",
       "    if (output.metadata[EXEC_MIME_TYPE][\"id\"] !== undefined) {\n",
       "      toinsert[0].firstChild.textContent = output.data[JS_MIME_TYPE];\n",
       "      // store reference to embed id on output_area\n",
       "      output_area._bokeh_element_id = output.metadata[EXEC_MIME_TYPE][\"id\"];\n",
       "    }\n",
       "    if (output.metadata[EXEC_MIME_TYPE][\"server_id\"] !== undefined) {\n",
       "      var bk_div = document.createElement(\"div\");\n",
       "      bk_div.innerHTML = output.data[HTML_MIME_TYPE];\n",
       "      var script_attrs = bk_div.children[0].attributes;\n",
       "      for (var i = 0; i < script_attrs.length; i++) {\n",
       "        toinsert[0].firstChild.setAttribute(script_attrs[i].name, script_attrs[i].value);\n",
       "      }\n",
       "      // store reference to server id on output_area\n",
       "      output_area._bokeh_server_id = output.metadata[EXEC_MIME_TYPE][\"server_id\"];\n",
       "    }\n",
       "  }\n",
       "\n",
       "  function register_renderer(events, OutputArea) {\n",
       "\n",
       "    function append_mime(data, metadata, element) {\n",
       "      // create a DOM node to render to\n",
       "      var toinsert = this.create_output_subarea(\n",
       "        metadata,\n",
       "        CLASS_NAME,\n",
       "        EXEC_MIME_TYPE\n",
       "      );\n",
       "      this.keyboard_manager.register_events(toinsert);\n",
       "      // Render to node\n",
       "      var props = {data: data, metadata: metadata[EXEC_MIME_TYPE]};\n",
       "      render(props, toinsert[0]);\n",
       "      element.append(toinsert);\n",
       "      return toinsert\n",
       "    }\n",
       "\n",
       "    /* Handle when an output is cleared or removed */\n",
       "    events.on('clear_output.CodeCell', handleClearOutput);\n",
       "    events.on('delete.Cell', handleClearOutput);\n",
       "\n",
       "    /* Handle when a new output is added */\n",
       "    events.on('output_added.OutputArea', handleAddOutput);\n",
       "\n",
       "    /**\n",
       "     * Register the mime type and append_mime function with output_area\n",
       "     */\n",
       "    OutputArea.prototype.register_mime_type(EXEC_MIME_TYPE, append_mime, {\n",
       "      /* Is output safe? */\n",
       "      safe: true,\n",
       "      /* Index of renderer in `output_area.display_order` */\n",
       "      index: 0\n",
       "    });\n",
       "  }\n",
       "\n",
       "  // register the mime type if in Jupyter Notebook environment and previously unregistered\n",
       "  if (root.Jupyter !== undefined) {\n",
       "    var events = require('base/js/events');\n",
       "    var OutputArea = require('notebook/js/outputarea').OutputArea;\n",
       "\n",
       "    if (OutputArea.prototype.mime_types().indexOf(EXEC_MIME_TYPE) == -1) {\n",
       "      register_renderer(events, OutputArea);\n",
       "    }\n",
       "  }\n",
       "\n",
       "  \n",
       "  if (typeof (root._bokeh_timeout) === \"undefined\" || force === true) {\n",
       "    root._bokeh_timeout = Date.now() + 5000;\n",
       "    root._bokeh_failed_load = false;\n",
       "  }\n",
       "\n",
       "  var NB_LOAD_WARNING = {'data': {'text/html':\n",
       "     \"<div style='background-color: #fdd'>\\n\"+\n",
       "     \"<p>\\n\"+\n",
       "     \"BokehJS does not appear to have successfully loaded. If loading BokehJS from CDN, this \\n\"+\n",
       "     \"may be due to a slow or bad network connection. Possible fixes:\\n\"+\n",
       "     \"</p>\\n\"+\n",
       "     \"<ul>\\n\"+\n",
       "     \"<li>re-rerun `output_notebook()` to attempt to load from CDN again, or</li>\\n\"+\n",
       "     \"<li>use INLINE resources instead, as so:</li>\\n\"+\n",
       "     \"</ul>\\n\"+\n",
       "     \"<code>\\n\"+\n",
       "     \"from bokeh.resources import INLINE\\n\"+\n",
       "     \"output_notebook(resources=INLINE)\\n\"+\n",
       "     \"</code>\\n\"+\n",
       "     \"</div>\"}};\n",
       "\n",
       "  function display_loaded() {\n",
       "    var el = document.getElementById(\"e2b13235-7f59-4b76-ad5e-e62d4beb9fc6\");\n",
       "    if (el != null) {\n",
       "      el.textContent = \"BokehJS is loading...\";\n",
       "    }\n",
       "    if (root.Bokeh !== undefined) {\n",
       "      if (el != null) {\n",
       "        el.textContent = \"BokehJS \" + root.Bokeh.version + \" successfully loaded.\";\n",
       "      }\n",
       "    } else if (Date.now() < root._bokeh_timeout) {\n",
       "      setTimeout(display_loaded, 100)\n",
       "    }\n",
       "  }\n",
       "\n",
       "\n",
       "  function run_callbacks() {\n",
       "    try {\n",
       "      root._bokeh_onload_callbacks.forEach(function(callback) { callback() });\n",
       "    }\n",
       "    finally {\n",
       "      delete root._bokeh_onload_callbacks\n",
       "    }\n",
       "    console.info(\"Bokeh: all callbacks have finished\");\n",
       "  }\n",
       "\n",
       "  function load_libs(js_urls, callback) {\n",
       "    root._bokeh_onload_callbacks.push(callback);\n",
       "    if (root._bokeh_is_loading > 0) {\n",
       "      console.log(\"Bokeh: BokehJS is being loaded, scheduling callback at\", now());\n",
       "      return null;\n",
       "    }\n",
       "    if (js_urls == null || js_urls.length === 0) {\n",
       "      run_callbacks();\n",
       "      return null;\n",
       "    }\n",
       "    console.log(\"Bokeh: BokehJS not loaded, scheduling load and callback at\", now());\n",
       "    root._bokeh_is_loading = js_urls.length;\n",
       "    for (var i = 0; i < js_urls.length; i++) {\n",
       "      var url = js_urls[i];\n",
       "      var s = document.createElement('script');\n",
       "      s.src = url;\n",
       "      s.async = false;\n",
       "      s.onreadystatechange = s.onload = function() {\n",
       "        root._bokeh_is_loading--;\n",
       "        if (root._bokeh_is_loading === 0) {\n",
       "          console.log(\"Bokeh: all BokehJS libraries loaded\");\n",
       "          run_callbacks()\n",
       "        }\n",
       "      };\n",
       "      s.onerror = function() {\n",
       "        console.warn(\"failed to load library \" + url);\n",
       "      };\n",
       "      console.log(\"Bokeh: injecting script tag for BokehJS library: \", url);\n",
       "      document.getElementsByTagName(\"head\")[0].appendChild(s);\n",
       "    }\n",
       "  };var element = document.getElementById(\"e2b13235-7f59-4b76-ad5e-e62d4beb9fc6\");\n",
       "  if (element == null) {\n",
       "    console.log(\"Bokeh: ERROR: autoload.js configured with elementid 'e2b13235-7f59-4b76-ad5e-e62d4beb9fc6' but no matching script tag was found. \")\n",
       "    return false;\n",
       "  }\n",
       "\n",
       "  var js_urls = [\"https://cdn.pydata.org/bokeh/release/bokeh-0.12.14.min.js\", \"https://cdn.pydata.org/bokeh/release/bokeh-widgets-0.12.14.min.js\", \"https://cdn.pydata.org/bokeh/release/bokeh-tables-0.12.14.min.js\", \"https://cdn.pydata.org/bokeh/release/bokeh-gl-0.12.14.min.js\"];\n",
       "\n",
       "  var inline_js = [\n",
       "    function(Bokeh) {\n",
       "      Bokeh.set_log_level(\"info\");\n",
       "    },\n",
       "    \n",
       "    function(Bokeh) {\n",
       "      \n",
       "    },\n",
       "    function(Bokeh) {\n",
       "      console.log(\"Bokeh: injecting CSS: https://cdn.pydata.org/bokeh/release/bokeh-0.12.14.min.css\");\n",
       "      Bokeh.embed.inject_css(\"https://cdn.pydata.org/bokeh/release/bokeh-0.12.14.min.css\");\n",
       "      console.log(\"Bokeh: injecting CSS: https://cdn.pydata.org/bokeh/release/bokeh-widgets-0.12.14.min.css\");\n",
       "      Bokeh.embed.inject_css(\"https://cdn.pydata.org/bokeh/release/bokeh-widgets-0.12.14.min.css\");\n",
       "      console.log(\"Bokeh: injecting CSS: https://cdn.pydata.org/bokeh/release/bokeh-tables-0.12.14.min.css\");\n",
       "      Bokeh.embed.inject_css(\"https://cdn.pydata.org/bokeh/release/bokeh-tables-0.12.14.min.css\");\n",
       "    }\n",
       "  ];\n",
       "\n",
       "  function run_inline_js() {\n",
       "    \n",
       "    if ((root.Bokeh !== undefined) || (force === true)) {\n",
       "      for (var i = 0; i < inline_js.length; i++) {\n",
       "        inline_js[i].call(root, root.Bokeh);\n",
       "      }if (force === true) {\n",
       "        display_loaded();\n",
       "      }} else if (Date.now() < root._bokeh_timeout) {\n",
       "      setTimeout(run_inline_js, 100);\n",
       "    } else if (!root._bokeh_failed_load) {\n",
       "      console.log(\"Bokeh: BokehJS failed to load within specified timeout.\");\n",
       "      root._bokeh_failed_load = true;\n",
       "    } else if (force !== true) {\n",
       "      var cell = $(document.getElementById(\"e2b13235-7f59-4b76-ad5e-e62d4beb9fc6\")).parents('.cell').data().cell;\n",
       "      cell.output_area.append_execute_result(NB_LOAD_WARNING)\n",
       "    }\n",
       "\n",
       "  }\n",
       "\n",
       "  if (root._bokeh_is_loading === 0) {\n",
       "    console.log(\"Bokeh: BokehJS loaded, going straight to plotting\");\n",
       "    run_inline_js();\n",
       "  } else {\n",
       "    load_libs(js_urls, function() {\n",
       "      console.log(\"Bokeh: BokehJS plotting callback run at\", now());\n",
       "      run_inline_js();\n",
       "    });\n",
       "  }\n",
       "}(window));"
      ],
      "application/vnd.bokehjs_load.v0+json": "\n(function(root) {\n  function now() {\n    return new Date();\n  }\n\n  var force = true;\n\n  if (typeof (root._bokeh_onload_callbacks) === \"undefined\" || force === true) {\n    root._bokeh_onload_callbacks = [];\n    root._bokeh_is_loading = undefined;\n  }\n\n  \n\n  \n  if (typeof (root._bokeh_timeout) === \"undefined\" || force === true) {\n    root._bokeh_timeout = Date.now() + 5000;\n    root._bokeh_failed_load = false;\n  }\n\n  var NB_LOAD_WARNING = {'data': {'text/html':\n     \"<div style='background-color: #fdd'>\\n\"+\n     \"<p>\\n\"+\n     \"BokehJS does not appear to have successfully loaded. If loading BokehJS from CDN, this \\n\"+\n     \"may be due to a slow or bad network connection. Possible fixes:\\n\"+\n     \"</p>\\n\"+\n     \"<ul>\\n\"+\n     \"<li>re-rerun `output_notebook()` to attempt to load from CDN again, or</li>\\n\"+\n     \"<li>use INLINE resources instead, as so:</li>\\n\"+\n     \"</ul>\\n\"+\n     \"<code>\\n\"+\n     \"from bokeh.resources import INLINE\\n\"+\n     \"output_notebook(resources=INLINE)\\n\"+\n     \"</code>\\n\"+\n     \"</div>\"}};\n\n  function display_loaded() {\n    var el = document.getElementById(\"e2b13235-7f59-4b76-ad5e-e62d4beb9fc6\");\n    if (el != null) {\n      el.textContent = \"BokehJS is loading...\";\n    }\n    if (root.Bokeh !== undefined) {\n      if (el != null) {\n        el.textContent = \"BokehJS \" + root.Bokeh.version + \" successfully loaded.\";\n      }\n    } else if (Date.now() < root._bokeh_timeout) {\n      setTimeout(display_loaded, 100)\n    }\n  }\n\n\n  function run_callbacks() {\n    try {\n      root._bokeh_onload_callbacks.forEach(function(callback) { callback() });\n    }\n    finally {\n      delete root._bokeh_onload_callbacks\n    }\n    console.info(\"Bokeh: all callbacks have finished\");\n  }\n\n  function load_libs(js_urls, callback) {\n    root._bokeh_onload_callbacks.push(callback);\n    if (root._bokeh_is_loading > 0) {\n      console.log(\"Bokeh: BokehJS is being loaded, scheduling callback at\", now());\n      return null;\n    }\n    if (js_urls == null || js_urls.length === 0) {\n      run_callbacks();\n      return null;\n    }\n    console.log(\"Bokeh: BokehJS not loaded, scheduling load and callback at\", now());\n    root._bokeh_is_loading = js_urls.length;\n    for (var i = 0; i < js_urls.length; i++) {\n      var url = js_urls[i];\n      var s = document.createElement('script');\n      s.src = url;\n      s.async = false;\n      s.onreadystatechange = s.onload = function() {\n        root._bokeh_is_loading--;\n        if (root._bokeh_is_loading === 0) {\n          console.log(\"Bokeh: all BokehJS libraries loaded\");\n          run_callbacks()\n        }\n      };\n      s.onerror = function() {\n        console.warn(\"failed to load library \" + url);\n      };\n      console.log(\"Bokeh: injecting script tag for BokehJS library: \", url);\n      document.getElementsByTagName(\"head\")[0].appendChild(s);\n    }\n  };var element = document.getElementById(\"e2b13235-7f59-4b76-ad5e-e62d4beb9fc6\");\n  if (element == null) {\n    console.log(\"Bokeh: ERROR: autoload.js configured with elementid 'e2b13235-7f59-4b76-ad5e-e62d4beb9fc6' but no matching script tag was found. \")\n    return false;\n  }\n\n  var js_urls = [\"https://cdn.pydata.org/bokeh/release/bokeh-0.12.14.min.js\", \"https://cdn.pydata.org/bokeh/release/bokeh-widgets-0.12.14.min.js\", \"https://cdn.pydata.org/bokeh/release/bokeh-tables-0.12.14.min.js\", \"https://cdn.pydata.org/bokeh/release/bokeh-gl-0.12.14.min.js\"];\n\n  var inline_js = [\n    function(Bokeh) {\n      Bokeh.set_log_level(\"info\");\n    },\n    \n    function(Bokeh) {\n      \n    },\n    function(Bokeh) {\n      console.log(\"Bokeh: injecting CSS: https://cdn.pydata.org/bokeh/release/bokeh-0.12.14.min.css\");\n      Bokeh.embed.inject_css(\"https://cdn.pydata.org/bokeh/release/bokeh-0.12.14.min.css\");\n      console.log(\"Bokeh: injecting CSS: https://cdn.pydata.org/bokeh/release/bokeh-widgets-0.12.14.min.css\");\n      Bokeh.embed.inject_css(\"https://cdn.pydata.org/bokeh/release/bokeh-widgets-0.12.14.min.css\");\n      console.log(\"Bokeh: injecting CSS: https://cdn.pydata.org/bokeh/release/bokeh-tables-0.12.14.min.css\");\n      Bokeh.embed.inject_css(\"https://cdn.pydata.org/bokeh/release/bokeh-tables-0.12.14.min.css\");\n    }\n  ];\n\n  function run_inline_js() {\n    \n    if ((root.Bokeh !== undefined) || (force === true)) {\n      for (var i = 0; i < inline_js.length; i++) {\n        inline_js[i].call(root, root.Bokeh);\n      }if (force === true) {\n        display_loaded();\n      }} else if (Date.now() < root._bokeh_timeout) {\n      setTimeout(run_inline_js, 100);\n    } else if (!root._bokeh_failed_load) {\n      console.log(\"Bokeh: BokehJS failed to load within specified timeout.\");\n      root._bokeh_failed_load = true;\n    } else if (force !== true) {\n      var cell = $(document.getElementById(\"e2b13235-7f59-4b76-ad5e-e62d4beb9fc6\")).parents('.cell').data().cell;\n      cell.output_area.append_execute_result(NB_LOAD_WARNING)\n    }\n\n  }\n\n  if (root._bokeh_is_loading === 0) {\n    console.log(\"Bokeh: BokehJS loaded, going straight to plotting\");\n    run_inline_js();\n  } else {\n    load_libs(js_urls, function() {\n      console.log(\"Bokeh: BokehJS plotting callback run at\", now());\n      run_inline_js();\n    });\n  }\n}(window));"
     },
     "metadata": {},
     "output_type": "display_data"
    },
    {
     "data": {
      "text/html": [
       "\n",
       "<div class=\"bk-root\">\n",
       "    <div class=\"bk-plotdiv\" id=\"7a845935-1978-44e1-b3f7-6a2c16e1b769\"></div>\n",
       "</div>"
      ]
     },
     "metadata": {},
     "output_type": "display_data"
    },
    {
     "data": {
      "application/javascript": [
       "(function(root) {\n",
       "  function embed_document(root) {\n",
       "    \n",
       "  var docs_json = {\"3e297c90-5e09-4f24-9baf-8a25325c14ea\":{\"roots\":{\"references\":[{\"attributes\":{},\"id\":\"af44a738-dc4b-4d46-8525-b4140d8492ea\",\"type\":\"LinearScale\"},{\"attributes\":{\"data_source\":{\"id\":\"a840d88b-4908-45a0-a716-53341bb3f54c\",\"type\":\"ColumnDataSource\"},\"glyph\":{\"id\":\"51dcf709-ce07-46e5-860c-05a7af743222\",\"type\":\"Circle\"},\"hover_glyph\":null,\"level\":\"overlay\",\"muted_glyph\":null,\"nonselection_glyph\":{\"id\":\"dac4d997-7dba-45cd-b497-c8ecf00af475\",\"type\":\"Circle\"},\"selection_glyph\":null,\"view\":{\"id\":\"b98c5eb5-0add-4cf4-a864-6bbc6cb54f63\",\"type\":\"CDSView\"}},\"id\":\"7759ee79-88d0-40f8-9a9e-303e75edaabe\",\"type\":\"GlyphRenderer\"},{\"attributes\":{\"formatter\":{\"id\":\"e3787cfe-e0ac-4631-b728-e35031cef497\",\"type\":\"BasicTickFormatter\"},\"plot\":{\"id\":\"84f1753d-1c42-44af-a1bb-4847d376d37a\",\"subtype\":\"Figure\",\"type\":\"Plot\"},\"ticker\":{\"id\":\"9f152cb9-3c8d-4e62-ae8d-ac2154e411b6\",\"type\":\"BasicTicker\"}},\"id\":\"6c3831a2-822f-49f1-a626-8533ff12036f\",\"type\":\"LinearAxis\"},{\"attributes\":{\"callback\":null},\"id\":\"137cb617-8248-4e14-b9fb-ee134c03ff20\",\"type\":\"TapTool\"},{\"attributes\":{\"callback\":null,\"column_names\":[\"y\",\"x\",\"name\",\"centrality\",\"community\",\"community_color\"],\"data\":{\"centrality\":[7.0,7.0,7.0,7.0,7.0,7.0,7.0,7.0,7.0,7.0,7.0,7.0,7.0,12.0,7.0,7.0,7.0,8.666666666666666,7.0,7.0,7.0,7.0,7.0,17.0,8.666666666666666,7.0,15.333333333333332,8.666666666666666],\"community\":[6,6,9,0,7,7,8,5,0,9,1,1,1,1,4,4,3,3,5,2,2,8,3,3,3,3,3,3],\"community_color\":[\"#a65628\",\"#a65628\",\"#decbe4\",\"#e41a1c\",\"#b3cde3\",\"#b3cde3\",\"#ccebc5\",\"#ffff33\",\"#e41a1c\",\"#decbe4\",\"#377eb8\",\"#377eb8\",\"#377eb8\",\"#377eb8\",\"#ff7f00\",\"#ff7f00\",\"#984ea3\",\"#984ea3\",\"#ffff33\",\"#4daf4a\",\"#4daf4a\",\"#ccebc5\",\"#984ea3\",\"#984ea3\",\"#984ea3\",\"#984ea3\",\"#984ea3\",\"#984ea3\"],\"name\":[\"mir-129-1\",\"mir-129-2\",\"mir-130b\",\"mir-17\",\"mir-181c\",\"mir-181d\",\"mir-195\",\"mir-200b\",\"mir-20a\",\"mir-301b\",\"mir-302a\",\"mir-302b\",\"mir-302c\",\"mir-302d\",\"mir-365a\",\"mir-365b\",\"mir-372\",\"mir-373\",\"mir-429\",\"mir-449a\",\"mir-449b\",\"mir-497\",\"mir-519d\",\"mir-520a\",\"mir-520b\",\"mir-520c\",\"mir-520d\",\"mir-520e\"],\"x\":[0.5701252783135957,0.5505394971964588,0.8407474179707729,0.12583564106326423,0.19217860635436915,0.22197806143849347,-0.6822604548715819,0.07695748112899228,0.11901088940689057,0.8126309461510834,-0.31302159465767465,-0.3714454725863057,-0.35522437473085416,-0.3412494579740006,-0.860248687618587,-0.8372134821426148,-0.055125720972686816,-0.034562981226821256,0.08772803010611525,0.5346660752279682,0.5060518861302277,-0.6544499111612694,0.02153449078345091,-0.015011953639278337,-0.019048249870218123,-0.04276813774162847,-0.041234475740985745,-0.03711934633717504],\"y\":[-0.13696704965063744,-0.1142952849935186,-0.5086786330001557,-0.9727132524720583,0.2865203340183854,0.28877162415067964,-0.30682421495825685,0.7680464255280014,-0.9999999999999999,-0.49056263815872647,0.23030059123652774,0.22593060133990925,0.1699672717142287,0.20467069868782747,0.3683409344139392,0.3581822110763248,-0.13826235590416255,-0.11750783200124514,0.7438680377745366,0.410989979274486,0.4204200891312173,-0.28923248045676414,-0.026459155712743983,-0.05982923342768277,-0.08443804136734626,-0.05935524173085979,-0.09366832216069201,-0.07721506235121434]}},\"id\":\"a840d88b-4908-45a0-a716-53341bb3f54c\",\"type\":\"ColumnDataSource\"},{\"attributes\":{\"data_source\":{\"id\":\"3512c54c-d5ec-4bbb-8b4b-db0cb956b46a\",\"type\":\"ColumnDataSource\"},\"glyph\":{\"id\":\"e069df5f-ea64-431a-bfbd-b9c645b79095\",\"type\":\"MultiLine\"},\"hover_glyph\":null,\"muted_glyph\":null,\"nonselection_glyph\":{\"id\":\"14581406-f854-45a6-a81e-38e7032ab2c3\",\"type\":\"MultiLine\"},\"selection_glyph\":null,\"view\":{\"id\":\"6d5b87c9-d4aa-49b4-b208-c8ec59f6dd9f\",\"type\":\"CDSView\"}},\"id\":\"9ed087b2-66bb-43ae-aae3-ac8f4943c51b\",\"type\":\"GlyphRenderer\"},{\"attributes\":{},\"id\":\"939c3878-b0f1-4d0d-88f7-87b754ef382d\",\"type\":\"BasicTickFormatter\"},{\"attributes\":{\"line_alpha\":{\"value\":0.1},\"line_color\":{\"value\":\"#1f77b4\"},\"line_width\":{\"value\":1.5},\"xs\":{\"field\":\"xs\"},\"ys\":{\"field\":\"ys\"}},\"id\":\"14581406-f854-45a6-a81e-38e7032ab2c3\",\"type\":\"MultiLine\"},{\"attributes\":{\"line_alpha\":{\"field\":\"alphas\"},\"line_width\":{\"value\":1.5},\"xs\":{\"field\":\"xs\"},\"ys\":{\"field\":\"ys\"}},\"id\":\"6ea0e4c8-3354-44ea-bf22-26133ae48247\",\"type\":\"MultiLine\"},{\"attributes\":{\"dimension\":1,\"grid_line_color\":{\"value\":null},\"plot\":{\"id\":\"84f1753d-1c42-44af-a1bb-4847d376d37a\",\"subtype\":\"Figure\",\"type\":\"Plot\"},\"ticker\":{\"id\":\"bd9c9536-9adb-4931-809c-8c1b25ed571a\",\"type\":\"BasicTicker\"}},\"id\":\"dd1357e7-0247-4eb0-a279-0b0a4ddcf6e2\",\"type\":\"Grid\"},{\"attributes\":{},\"id\":\"e3787cfe-e0ac-4631-b728-e35031cef497\",\"type\":\"BasicTickFormatter\"},{\"attributes\":{\"data_source\":{\"id\":\"3512c54c-d5ec-4bbb-8b4b-db0cb956b46a\",\"type\":\"ColumnDataSource\"},\"glyph\":{\"id\":\"6ea0e4c8-3354-44ea-bf22-26133ae48247\",\"type\":\"MultiLine\"},\"hover_glyph\":null,\"muted_glyph\":null,\"nonselection_glyph\":{\"id\":\"d5b26a0c-cb15-4d64-8110-5641f471af0d\",\"type\":\"MultiLine\"},\"selection_glyph\":null,\"view\":{\"id\":\"88a42a55-f5d6-42db-96be-36bbcb3098db\",\"type\":\"CDSView\"}},\"id\":\"00ad7205-5744-41a2-8610-499fc2ba5ab9\",\"type\":\"GlyphRenderer\"},{\"attributes\":{\"fill_alpha\":{\"value\":0.1},\"fill_color\":{\"value\":\"#1f77b4\"},\"line_alpha\":{\"value\":0.1},\"line_color\":{\"value\":\"#1f77b4\"},\"size\":{\"units\":\"screen\",\"value\":5},\"x\":{\"field\":\"x\"},\"y\":{\"field\":\"y\"}},\"id\":\"dac4d997-7dba-45cd-b497-c8ecf00af475\",\"type\":\"Circle\"},{\"attributes\":{\"source\":{\"id\":\"3512c54c-d5ec-4bbb-8b4b-db0cb956b46a\",\"type\":\"ColumnDataSource\"}},\"id\":\"88a42a55-f5d6-42db-96be-36bbcb3098db\",\"type\":\"CDSView\"},{\"attributes\":{},\"id\":\"a825e000-ebdc-4a81-9f16-5bb5f1ea5400\",\"type\":\"ResetTool\"},{\"attributes\":{\"below\":[{\"id\":\"6c3831a2-822f-49f1-a626-8533ff12036f\",\"type\":\"LinearAxis\"}],\"left\":[{\"id\":\"7a831dff-fc10-4652-a983-16c7bba6f517\",\"type\":\"LinearAxis\"}],\"plot_height\":700,\"plot_width\":875,\"renderers\":[{\"id\":\"6c3831a2-822f-49f1-a626-8533ff12036f\",\"type\":\"LinearAxis\"},{\"id\":\"545a2406-89fa-4c42-9f63-1241329f9e68\",\"type\":\"Grid\"},{\"id\":\"7a831dff-fc10-4652-a983-16c7bba6f517\",\"type\":\"LinearAxis\"},{\"id\":\"dd1357e7-0247-4eb0-a279-0b0a4ddcf6e2\",\"type\":\"Grid\"},{\"id\":\"95503c39-7c37-4485-9af4-2332e4f6bb48\",\"type\":\"BoxAnnotation\"},{\"id\":\"7759ee79-88d0-40f8-9a9e-303e75edaabe\",\"type\":\"GlyphRenderer\"},{\"id\":\"9ed087b2-66bb-43ae-aae3-ac8f4943c51b\",\"type\":\"GlyphRenderer\"},{\"id\":\"00ad7205-5744-41a2-8610-499fc2ba5ab9\",\"type\":\"GlyphRenderer\"},{\"id\":\"1e41eefd-49f9-479d-a74d-ec586fa08262\",\"type\":\"LabelSet\"}],\"title\":{\"id\":\"8e6e2783-2566-420a-bd8d-2a20e668c771\",\"type\":\"Title\"},\"toolbar\":{\"id\":\"4d56cb96-5bef-4118-a09d-a634a171e295\",\"type\":\"Toolbar\"},\"x_range\":{\"id\":\"3d9b8465-c2ca-4c29-9abb-4a51e43a60da\",\"type\":\"DataRange1d\"},\"x_scale\":{\"id\":\"f85a439f-e963-4409-b9e2-84cddd1d23bd\",\"type\":\"LinearScale\"},\"y_range\":{\"id\":\"be7390a2-6f69-4a0c-9ddc-5cb6972e9497\",\"type\":\"DataRange1d\"},\"y_scale\":{\"id\":\"af44a738-dc4b-4d46-8525-b4140d8492ea\",\"type\":\"LinearScale\"}},\"id\":\"84f1753d-1c42-44af-a1bb-4847d376d37a\",\"subtype\":\"Figure\",\"type\":\"Plot\"},{\"attributes\":{\"grid_line_color\":{\"value\":null},\"plot\":{\"id\":\"84f1753d-1c42-44af-a1bb-4847d376d37a\",\"subtype\":\"Figure\",\"type\":\"Plot\"},\"ticker\":{\"id\":\"9f152cb9-3c8d-4e62-ae8d-ac2154e411b6\",\"type\":\"BasicTicker\"}},\"id\":\"545a2406-89fa-4c42-9f63-1241329f9e68\",\"type\":\"Grid\"},{\"attributes\":{\"plot\":{\"id\":\"84f1753d-1c42-44af-a1bb-4847d376d37a\",\"subtype\":\"Figure\",\"type\":\"Plot\"},\"source\":{\"id\":\"a840d88b-4908-45a0-a716-53341bb3f54c\",\"type\":\"ColumnDataSource\"},\"text\":{\"field\":\"name\"},\"text_align\":\"center\",\"text_color\":{\"value\":\"navy\"},\"text_font_size\":{\"value\":\"8pt\"},\"x\":{\"field\":\"x\"},\"y\":{\"field\":\"y\"}},\"id\":\"1e41eefd-49f9-479d-a74d-ec586fa08262\",\"type\":\"LabelSet\"},{\"attributes\":{\"line_alpha\":{\"value\":0.1},\"line_color\":{\"value\":\"#1f77b4\"},\"line_width\":{\"value\":1.5},\"xs\":{\"field\":\"xs\"},\"ys\":{\"field\":\"ys\"}},\"id\":\"d5b26a0c-cb15-4d64-8110-5641f471af0d\",\"type\":\"MultiLine\"},{\"attributes\":{\"bottom_units\":\"screen\",\"fill_alpha\":{\"value\":0.5},\"fill_color\":{\"value\":\"lightgrey\"},\"left_units\":\"screen\",\"level\":\"overlay\",\"line_alpha\":{\"value\":1.0},\"line_color\":{\"value\":\"black\"},\"line_dash\":[4,4],\"line_width\":{\"value\":2},\"plot\":null,\"render_mode\":\"css\",\"right_units\":\"screen\",\"top_units\":\"screen\"},\"id\":\"95503c39-7c37-4485-9af4-2332e4f6bb48\",\"type\":\"BoxAnnotation\"},{\"attributes\":{\"plot\":null,\"text\":\"\"},\"id\":\"8e6e2783-2566-420a-bd8d-2a20e668c771\",\"type\":\"Title\"},{\"attributes\":{\"line_alpha\":{\"field\":\"alphas\"},\"line_width\":{\"value\":1.5},\"xs\":{\"field\":\"xs\"},\"ys\":{\"field\":\"ys\"}},\"id\":\"e069df5f-ea64-431a-bfbd-b9c645b79095\",\"type\":\"MultiLine\"},{\"attributes\":{\"callback\":null},\"id\":\"3d9b8465-c2ca-4c29-9abb-4a51e43a60da\",\"type\":\"DataRange1d\"},{\"attributes\":{\"callback\":null},\"id\":\"be7390a2-6f69-4a0c-9ddc-5cb6972e9497\",\"type\":\"DataRange1d\"},{\"attributes\":{\"overlay\":{\"id\":\"95503c39-7c37-4485-9af4-2332e4f6bb48\",\"type\":\"BoxAnnotation\"}},\"id\":\"2e4c6c76-117b-4a7d-8b8b-aa008c8b4620\",\"type\":\"BoxZoomTool\"},{\"attributes\":{},\"id\":\"f85a439f-e963-4409-b9e2-84cddd1d23bd\",\"type\":\"LinearScale\"},{\"attributes\":{},\"id\":\"bd9c9536-9adb-4931-809c-8c1b25ed571a\",\"type\":\"BasicTicker\"},{\"attributes\":{\"formatter\":{\"id\":\"939c3878-b0f1-4d0d-88f7-87b754ef382d\",\"type\":\"BasicTickFormatter\"},\"plot\":{\"id\":\"84f1753d-1c42-44af-a1bb-4847d376d37a\",\"subtype\":\"Figure\",\"type\":\"Plot\"},\"ticker\":{\"id\":\"bd9c9536-9adb-4931-809c-8c1b25ed571a\",\"type\":\"BasicTicker\"}},\"id\":\"7a831dff-fc10-4652-a983-16c7bba6f517\",\"type\":\"LinearAxis\"},{\"attributes\":{\"fill_color\":{\"field\":\"community_color\"},\"line_color\":{\"value\":\"blue\"},\"size\":{\"field\":\"centrality\",\"units\":\"screen\"},\"x\":{\"field\":\"x\"},\"y\":{\"field\":\"y\"}},\"id\":\"51dcf709-ce07-46e5-860c-05a7af743222\",\"type\":\"Circle\"},{\"attributes\":{\"callback\":null,\"renderers\":[{\"id\":\"7759ee79-88d0-40f8-9a9e-303e75edaabe\",\"type\":\"GlyphRenderer\"}],\"tooltips\":[[\"name\",\"@name\"]]},\"id\":\"82bde77a-3c83-4cbd-b84e-db2b2d7636c4\",\"type\":\"HoverTool\"},{\"attributes\":{\"source\":{\"id\":\"a840d88b-4908-45a0-a716-53341bb3f54c\",\"type\":\"ColumnDataSource\"}},\"id\":\"b98c5eb5-0add-4cf4-a864-6bbc6cb54f63\",\"type\":\"CDSView\"},{\"attributes\":{},\"id\":\"18058844-dd7d-4060-a964-ed051a7bc2fc\",\"type\":\"PanTool\"},{\"attributes\":{},\"id\":\"9f152cb9-3c8d-4e62-ae8d-ac2154e411b6\",\"type\":\"BasicTicker\"},{\"attributes\":{\"source\":{\"id\":\"3512c54c-d5ec-4bbb-8b4b-db0cb956b46a\",\"type\":\"ColumnDataSource\"}},\"id\":\"6d5b87c9-d4aa-49b4-b208-c8ec59f6dd9f\",\"type\":\"CDSView\"},{\"attributes\":{\"callback\":null,\"column_names\":[\"xs\",\"ys\",\"name\",\"alphas\"],\"data\":{\"alphas\":[0.500926783272892,0.5404708718272033,0.4778923275032334,0.5736011614784594,0.4781152984345717,0.5494843587168569,0.47767581130583536,0.4625302681711775,0.591921403222054,0.7130148476592999,0.6197872589266266,0.6654757263549306,0.6734468329198412,0.6163274908541202,0.5098291326354308,0.6978074656107454,0.6720628940118325,0.6392453806004533,0.46325465985395087,0.4612060335289516,0.9934544585848891,0.6388571721923365,0.4670413867632067,0.48191941115945613,0.4703280399090205,0.47932903940276994,0.6003514450832008],\"name\":[\"hsa-mir-373<=>hsa-mir-520b\",\"hsa-mir-373<=>hsa-mir-372\",\"hsa-mir-373<=>hsa-mir-520e\",\"hsa-mir-373<=>hsa-mir-520d\",\"hsa-mir-372<=>hsa-mir-520d\",\"hsa-mir-20a<=>hsa-mir-17\",\"hsa-mir-181c<=>hsa-mir-181d\",\"hsa-mir-520a<=>hsa-mir-519d\",\"hsa-mir-520a<=>hsa-mir-520c\",\"hsa-mir-520a<=>hsa-mir-520b\",\"hsa-mir-520a<=>hsa-mir-520e\",\"hsa-mir-520a<=>hsa-mir-520d\",\"hsa-mir-520c<=>hsa-mir-520b\",\"hsa-mir-520c<=>hsa-mir-520e\",\"hsa-mir-520c<=>hsa-mir-520d\",\"hsa-mir-520b<=>hsa-mir-520e\",\"hsa-mir-520b<=>hsa-mir-520d\",\"hsa-mir-520e<=>hsa-mir-520d\",\"hsa-mir-195<=>hsa-mir-497\",\"hsa-mir-302a<=>hsa-mir-302d\",\"hsa-mir-365a<=>hsa-mir-365b\",\"hsa-mir-200b<=>hsa-mir-429\",\"hsa-mir-449a<=>hsa-mir-449b\",\"hsa-mir-130b<=>hsa-mir-301b\",\"hsa-mir-129-1<=>hsa-mir-129-2\",\"hsa-mir-302d<=>hsa-mir-302c\",\"hsa-mir-302d<=>hsa-mir-302b\"],\"xs\":[[-0.034562981226821256,-0.019048249870218123],[-0.034562981226821256,-0.055125720972686816],[-0.034562981226821256,-0.03711934633717504],[-0.034562981226821256,-0.041234475740985745],[-0.055125720972686816,-0.041234475740985745],[0.11901088940689057,0.12583564106326423],[0.19217860635436915,0.22197806143849347],[-0.015011953639278337,0.02153449078345091],[-0.015011953639278337,-0.04276813774162847],[-0.015011953639278337,-0.019048249870218123],[-0.015011953639278337,-0.03711934633717504],[-0.015011953639278337,-0.041234475740985745],[-0.04276813774162847,-0.019048249870218123],[-0.04276813774162847,-0.03711934633717504],[-0.04276813774162847,-0.041234475740985745],[-0.019048249870218123,-0.03711934633717504],[-0.019048249870218123,-0.041234475740985745],[-0.03711934633717504,-0.041234475740985745],[-0.6822604548715819,-0.6544499111612694],[-0.31302159465767465,-0.3412494579740006],[-0.860248687618587,-0.8372134821426148],[0.07695748112899228,0.08772803010611525],[0.5346660752279682,0.5060518861302277],[0.8407474179707729,0.8126309461510834],[0.5701252783135957,0.5505394971964588],[-0.3412494579740006,-0.35522437473085416],[-0.3412494579740006,-0.3714454725863057]],\"ys\":[[-0.11750783200124514,-0.08443804136734626],[-0.11750783200124514,-0.13826235590416255],[-0.11750783200124514,-0.07721506235121434],[-0.11750783200124514,-0.09366832216069201],[-0.13826235590416255,-0.09366832216069201],[-0.9999999999999999,-0.9727132524720583],[0.2865203340183854,0.28877162415067964],[-0.05982923342768277,-0.026459155712743983],[-0.05982923342768277,-0.05935524173085979],[-0.05982923342768277,-0.08443804136734626],[-0.05982923342768277,-0.07721506235121434],[-0.05982923342768277,-0.09366832216069201],[-0.05935524173085979,-0.08443804136734626],[-0.05935524173085979,-0.07721506235121434],[-0.05935524173085979,-0.09366832216069201],[-0.08443804136734626,-0.07721506235121434],[-0.08443804136734626,-0.09366832216069201],[-0.07721506235121434,-0.09366832216069201],[-0.30682421495825685,-0.28923248045676414],[0.23030059123652774,0.20467069868782747],[0.3683409344139392,0.3581822110763248],[0.7680464255280014,0.7438680377745366],[0.410989979274486,0.4204200891312173],[-0.5086786330001557,-0.49056263815872647],[-0.13696704965063744,-0.1142952849935186],[0.20467069868782747,0.1699672717142287],[0.20467069868782747,0.22593060133990925]]}},\"id\":\"3512c54c-d5ec-4bbb-8b4b-db0cb956b46a\",\"type\":\"ColumnDataSource\"},{\"attributes\":{\"active_drag\":\"auto\",\"active_inspect\":\"auto\",\"active_scroll\":\"auto\",\"active_tap\":\"auto\",\"tools\":[{\"id\":\"82bde77a-3c83-4cbd-b84e-db2b2d7636c4\",\"type\":\"HoverTool\"},{\"id\":\"137cb617-8248-4e14-b9fb-ee134c03ff20\",\"type\":\"TapTool\"},{\"id\":\"2e4c6c76-117b-4a7d-8b8b-aa008c8b4620\",\"type\":\"BoxZoomTool\"},{\"id\":\"a825e000-ebdc-4a81-9f16-5bb5f1ea5400\",\"type\":\"ResetTool\"},{\"id\":\"18058844-dd7d-4060-a964-ed051a7bc2fc\",\"type\":\"PanTool\"}]},\"id\":\"4d56cb96-5bef-4118-a09d-a634a171e295\",\"type\":\"Toolbar\"}],\"root_ids\":[\"84f1753d-1c42-44af-a1bb-4847d376d37a\"]},\"title\":\"Bokeh Application\",\"version\":\"0.12.14\"}};\n",
       "  var render_items = [{\"docid\":\"3e297c90-5e09-4f24-9baf-8a25325c14ea\",\"elementid\":\"7a845935-1978-44e1-b3f7-6a2c16e1b769\",\"modelid\":\"84f1753d-1c42-44af-a1bb-4847d376d37a\"}];\n",
       "  root.Bokeh.embed.embed_items_notebook(docs_json, render_items);\n",
       "\n",
       "  }\n",
       "  if (root.Bokeh !== undefined) {\n",
       "    embed_document(root);\n",
       "  } else {\n",
       "    var attempts = 0;\n",
       "    var timer = setInterval(function(root) {\n",
       "      if (root.Bokeh !== undefined) {\n",
       "        embed_document(root);\n",
       "        clearInterval(timer);\n",
       "      }\n",
       "      attempts++;\n",
       "      if (attempts > 100) {\n",
       "        console.log(\"Bokeh: ERROR: Unable to run BokehJS code because BokehJS library is missing\")\n",
       "        clearInterval(timer);\n",
       "      }\n",
       "    }, 10, root)\n",
       "  }\n",
       "})(window);"
      ],
      "application/vnd.bokehjs_exec.v0+json": ""
     },
     "metadata": {
      "application/vnd.bokehjs_exec.v0+json": {
       "id": "84f1753d-1c42-44af-a1bb-4847d376d37a"
      }
     },
     "output_type": "display_data"
    },
    {
     "data": {
      "text/html": [
       "\n",
       "<div class=\"bk-root\">\n",
       "    <div class=\"bk-plotdiv\" id=\"0ba77786-437d-4d1c-ada7-a5d434bd4b39\"></div>\n",
       "</div>"
      ]
     },
     "metadata": {},
     "output_type": "display_data"
    },
    {
     "data": {
      "application/javascript": [
       "(function(root) {\n",
       "  function embed_document(root) {\n",
       "    \n",
       "  var docs_json = {\"f02ccb4a-9976-479f-8f9b-3ea8d4953716\":{\"roots\":{\"references\":[{\"attributes\":{},\"id\":\"af44a738-dc4b-4d46-8525-b4140d8492ea\",\"type\":\"LinearScale\"},{\"attributes\":{\"data_source\":{\"id\":\"a840d88b-4908-45a0-a716-53341bb3f54c\",\"type\":\"ColumnDataSource\"},\"glyph\":{\"id\":\"51dcf709-ce07-46e5-860c-05a7af743222\",\"type\":\"Circle\"},\"hover_glyph\":null,\"level\":\"overlay\",\"muted_glyph\":null,\"nonselection_glyph\":{\"id\":\"dac4d997-7dba-45cd-b497-c8ecf00af475\",\"type\":\"Circle\"},\"selection_glyph\":null,\"view\":{\"id\":\"b98c5eb5-0add-4cf4-a864-6bbc6cb54f63\",\"type\":\"CDSView\"}},\"id\":\"7759ee79-88d0-40f8-9a9e-303e75edaabe\",\"type\":\"GlyphRenderer\"},{\"attributes\":{\"formatter\":{\"id\":\"e3787cfe-e0ac-4631-b728-e35031cef497\",\"type\":\"BasicTickFormatter\"},\"plot\":{\"id\":\"84f1753d-1c42-44af-a1bb-4847d376d37a\",\"subtype\":\"Figure\",\"type\":\"Plot\"},\"ticker\":{\"id\":\"9f152cb9-3c8d-4e62-ae8d-ac2154e411b6\",\"type\":\"BasicTicker\"}},\"id\":\"6c3831a2-822f-49f1-a626-8533ff12036f\",\"type\":\"LinearAxis\"},{\"attributes\":{\"callback\":null},\"id\":\"137cb617-8248-4e14-b9fb-ee134c03ff20\",\"type\":\"TapTool\"},{\"attributes\":{\"callback\":null,\"column_names\":[\"y\",\"x\",\"name\",\"centrality\",\"community\",\"community_color\"],\"data\":{\"centrality\":[7.0,7.0,7.0,7.0,7.0,7.0,7.0,7.0,7.0,7.0,7.0,7.0,7.0,12.0,7.0,7.0,7.0,8.666666666666666,7.0,7.0,7.0,7.0,7.0,17.0,8.666666666666666,7.0,15.333333333333332,8.666666666666666],\"community\":[6,6,9,0,7,7,8,5,0,9,1,1,1,1,4,4,3,3,5,2,2,8,3,3,3,3,3,3],\"community_color\":[\"#a65628\",\"#a65628\",\"#decbe4\",\"#e41a1c\",\"#b3cde3\",\"#b3cde3\",\"#ccebc5\",\"#ffff33\",\"#e41a1c\",\"#decbe4\",\"#377eb8\",\"#377eb8\",\"#377eb8\",\"#377eb8\",\"#ff7f00\",\"#ff7f00\",\"#984ea3\",\"#984ea3\",\"#ffff33\",\"#4daf4a\",\"#4daf4a\",\"#ccebc5\",\"#984ea3\",\"#984ea3\",\"#984ea3\",\"#984ea3\",\"#984ea3\",\"#984ea3\"],\"name\":[\"mir-129-1\",\"mir-129-2\",\"mir-130b\",\"mir-17\",\"mir-181c\",\"mir-181d\",\"mir-195\",\"mir-200b\",\"mir-20a\",\"mir-301b\",\"mir-302a\",\"mir-302b\",\"mir-302c\",\"mir-302d\",\"mir-365a\",\"mir-365b\",\"mir-372\",\"mir-373\",\"mir-429\",\"mir-449a\",\"mir-449b\",\"mir-497\",\"mir-519d\",\"mir-520a\",\"mir-520b\",\"mir-520c\",\"mir-520d\",\"mir-520e\"],\"x\":[0.5701252783135957,0.5505394971964588,0.8407474179707729,0.12583564106326423,0.19217860635436915,0.22197806143849347,-0.6822604548715819,0.07695748112899228,0.11901088940689057,0.8126309461510834,-0.31302159465767465,-0.3714454725863057,-0.35522437473085416,-0.3412494579740006,-0.860248687618587,-0.8372134821426148,-0.055125720972686816,-0.034562981226821256,0.08772803010611525,0.5346660752279682,0.5060518861302277,-0.6544499111612694,0.02153449078345091,-0.015011953639278337,-0.019048249870218123,-0.04276813774162847,-0.041234475740985745,-0.03711934633717504],\"y\":[-0.13696704965063744,-0.1142952849935186,-0.5086786330001557,-0.9727132524720583,0.2865203340183854,0.28877162415067964,-0.30682421495825685,0.7680464255280014,-0.9999999999999999,-0.49056263815872647,0.23030059123652774,0.22593060133990925,0.1699672717142287,0.20467069868782747,0.3683409344139392,0.3581822110763248,-0.13826235590416255,-0.11750783200124514,0.7438680377745366,0.410989979274486,0.4204200891312173,-0.28923248045676414,-0.026459155712743983,-0.05982923342768277,-0.08443804136734626,-0.05935524173085979,-0.09366832216069201,-0.07721506235121434]}},\"id\":\"a840d88b-4908-45a0-a716-53341bb3f54c\",\"type\":\"ColumnDataSource\"},{\"attributes\":{\"data_source\":{\"id\":\"3512c54c-d5ec-4bbb-8b4b-db0cb956b46a\",\"type\":\"ColumnDataSource\"},\"glyph\":{\"id\":\"e069df5f-ea64-431a-bfbd-b9c645b79095\",\"type\":\"MultiLine\"},\"hover_glyph\":null,\"muted_glyph\":null,\"nonselection_glyph\":{\"id\":\"14581406-f854-45a6-a81e-38e7032ab2c3\",\"type\":\"MultiLine\"},\"selection_glyph\":null,\"view\":{\"id\":\"6d5b87c9-d4aa-49b4-b208-c8ec59f6dd9f\",\"type\":\"CDSView\"}},\"id\":\"9ed087b2-66bb-43ae-aae3-ac8f4943c51b\",\"type\":\"GlyphRenderer\"},{\"attributes\":{\"source\":{\"id\":\"3512c54c-d5ec-4bbb-8b4b-db0cb956b46a\",\"type\":\"ColumnDataSource\"}},\"id\":\"6d5b87c9-d4aa-49b4-b208-c8ec59f6dd9f\",\"type\":\"CDSView\"},{\"attributes\":{\"line_alpha\":{\"value\":0.1},\"line_color\":{\"value\":\"#1f77b4\"},\"line_width\":{\"value\":1.5},\"xs\":{\"field\":\"xs\"},\"ys\":{\"field\":\"ys\"}},\"id\":\"14581406-f854-45a6-a81e-38e7032ab2c3\",\"type\":\"MultiLine\"},{\"attributes\":{\"line_alpha\":{\"field\":\"alphas\"},\"line_width\":{\"value\":1.5},\"xs\":{\"field\":\"xs\"},\"ys\":{\"field\":\"ys\"}},\"id\":\"6ea0e4c8-3354-44ea-bf22-26133ae48247\",\"type\":\"MultiLine\"},{\"attributes\":{\"dimension\":1,\"grid_line_color\":{\"value\":null},\"plot\":{\"id\":\"84f1753d-1c42-44af-a1bb-4847d376d37a\",\"subtype\":\"Figure\",\"type\":\"Plot\"},\"ticker\":{\"id\":\"bd9c9536-9adb-4931-809c-8c1b25ed571a\",\"type\":\"BasicTicker\"}},\"id\":\"dd1357e7-0247-4eb0-a279-0b0a4ddcf6e2\",\"type\":\"Grid\"},{\"attributes\":{},\"id\":\"e3787cfe-e0ac-4631-b728-e35031cef497\",\"type\":\"BasicTickFormatter\"},{\"attributes\":{},\"id\":\"939c3878-b0f1-4d0d-88f7-87b754ef382d\",\"type\":\"BasicTickFormatter\"},{\"attributes\":{\"data_source\":{\"id\":\"3512c54c-d5ec-4bbb-8b4b-db0cb956b46a\",\"type\":\"ColumnDataSource\"},\"glyph\":{\"id\":\"6ea0e4c8-3354-44ea-bf22-26133ae48247\",\"type\":\"MultiLine\"},\"hover_glyph\":null,\"muted_glyph\":null,\"nonselection_glyph\":{\"id\":\"d5b26a0c-cb15-4d64-8110-5641f471af0d\",\"type\":\"MultiLine\"},\"selection_glyph\":null,\"view\":{\"id\":\"88a42a55-f5d6-42db-96be-36bbcb3098db\",\"type\":\"CDSView\"}},\"id\":\"00ad7205-5744-41a2-8610-499fc2ba5ab9\",\"type\":\"GlyphRenderer\"},{\"attributes\":{\"fill_alpha\":{\"value\":0.1},\"fill_color\":{\"value\":\"#1f77b4\"},\"line_alpha\":{\"value\":0.1},\"line_color\":{\"value\":\"#1f77b4\"},\"size\":{\"units\":\"screen\",\"value\":5},\"x\":{\"field\":\"x\"},\"y\":{\"field\":\"y\"}},\"id\":\"dac4d997-7dba-45cd-b497-c8ecf00af475\",\"type\":\"Circle\"},{\"attributes\":{\"source\":{\"id\":\"3512c54c-d5ec-4bbb-8b4b-db0cb956b46a\",\"type\":\"ColumnDataSource\"}},\"id\":\"88a42a55-f5d6-42db-96be-36bbcb3098db\",\"type\":\"CDSView\"},{\"attributes\":{},\"id\":\"a825e000-ebdc-4a81-9f16-5bb5f1ea5400\",\"type\":\"ResetTool\"},{\"attributes\":{\"below\":[{\"id\":\"6c3831a2-822f-49f1-a626-8533ff12036f\",\"type\":\"LinearAxis\"}],\"left\":[{\"id\":\"7a831dff-fc10-4652-a983-16c7bba6f517\",\"type\":\"LinearAxis\"}],\"plot_height\":700,\"plot_width\":875,\"renderers\":[{\"id\":\"6c3831a2-822f-49f1-a626-8533ff12036f\",\"type\":\"LinearAxis\"},{\"id\":\"545a2406-89fa-4c42-9f63-1241329f9e68\",\"type\":\"Grid\"},{\"id\":\"7a831dff-fc10-4652-a983-16c7bba6f517\",\"type\":\"LinearAxis\"},{\"id\":\"dd1357e7-0247-4eb0-a279-0b0a4ddcf6e2\",\"type\":\"Grid\"},{\"id\":\"95503c39-7c37-4485-9af4-2332e4f6bb48\",\"type\":\"BoxAnnotation\"},{\"id\":\"7759ee79-88d0-40f8-9a9e-303e75edaabe\",\"type\":\"GlyphRenderer\"},{\"id\":\"9ed087b2-66bb-43ae-aae3-ac8f4943c51b\",\"type\":\"GlyphRenderer\"},{\"id\":\"00ad7205-5744-41a2-8610-499fc2ba5ab9\",\"type\":\"GlyphRenderer\"},{\"id\":\"1e41eefd-49f9-479d-a74d-ec586fa08262\",\"type\":\"LabelSet\"}],\"title\":{\"id\":\"8e6e2783-2566-420a-bd8d-2a20e668c771\",\"type\":\"Title\"},\"toolbar\":{\"id\":\"4d56cb96-5bef-4118-a09d-a634a171e295\",\"type\":\"Toolbar\"},\"x_range\":{\"id\":\"3d9b8465-c2ca-4c29-9abb-4a51e43a60da\",\"type\":\"DataRange1d\"},\"x_scale\":{\"id\":\"f85a439f-e963-4409-b9e2-84cddd1d23bd\",\"type\":\"LinearScale\"},\"y_range\":{\"id\":\"be7390a2-6f69-4a0c-9ddc-5cb6972e9497\",\"type\":\"DataRange1d\"},\"y_scale\":{\"id\":\"af44a738-dc4b-4d46-8525-b4140d8492ea\",\"type\":\"LinearScale\"}},\"id\":\"84f1753d-1c42-44af-a1bb-4847d376d37a\",\"subtype\":\"Figure\",\"type\":\"Plot\"},{\"attributes\":{\"grid_line_color\":{\"value\":null},\"plot\":{\"id\":\"84f1753d-1c42-44af-a1bb-4847d376d37a\",\"subtype\":\"Figure\",\"type\":\"Plot\"},\"ticker\":{\"id\":\"9f152cb9-3c8d-4e62-ae8d-ac2154e411b6\",\"type\":\"BasicTicker\"}},\"id\":\"545a2406-89fa-4c42-9f63-1241329f9e68\",\"type\":\"Grid\"},{\"attributes\":{\"plot\":{\"id\":\"84f1753d-1c42-44af-a1bb-4847d376d37a\",\"subtype\":\"Figure\",\"type\":\"Plot\"},\"source\":{\"id\":\"a840d88b-4908-45a0-a716-53341bb3f54c\",\"type\":\"ColumnDataSource\"},\"text\":{\"field\":\"name\"},\"text_align\":\"center\",\"text_color\":{\"value\":\"navy\"},\"text_font_size\":{\"value\":\"8pt\"},\"x\":{\"field\":\"x\"},\"y\":{\"field\":\"y\"}},\"id\":\"1e41eefd-49f9-479d-a74d-ec586fa08262\",\"type\":\"LabelSet\"},{\"attributes\":{\"line_alpha\":{\"value\":0.1},\"line_color\":{\"value\":\"#1f77b4\"},\"line_width\":{\"value\":1.5},\"xs\":{\"field\":\"xs\"},\"ys\":{\"field\":\"ys\"}},\"id\":\"d5b26a0c-cb15-4d64-8110-5641f471af0d\",\"type\":\"MultiLine\"},{\"attributes\":{\"bottom_units\":\"screen\",\"fill_alpha\":{\"value\":0.5},\"fill_color\":{\"value\":\"lightgrey\"},\"left_units\":\"screen\",\"level\":\"overlay\",\"line_alpha\":{\"value\":1.0},\"line_color\":{\"value\":\"black\"},\"line_dash\":[4,4],\"line_width\":{\"value\":2},\"plot\":null,\"render_mode\":\"css\",\"right_units\":\"screen\",\"top_units\":\"screen\"},\"id\":\"95503c39-7c37-4485-9af4-2332e4f6bb48\",\"type\":\"BoxAnnotation\"},{\"attributes\":{\"plot\":null,\"text\":\"\"},\"id\":\"8e6e2783-2566-420a-bd8d-2a20e668c771\",\"type\":\"Title\"},{\"attributes\":{\"line_alpha\":{\"field\":\"alphas\"},\"line_width\":{\"value\":1.5},\"xs\":{\"field\":\"xs\"},\"ys\":{\"field\":\"ys\"}},\"id\":\"e069df5f-ea64-431a-bfbd-b9c645b79095\",\"type\":\"MultiLine\"},{\"attributes\":{\"args\":{\"labels\":{\"id\":\"1e41eefd-49f9-479d-a74d-ec586fa08262\",\"type\":\"LabelSet\"},\"toggle\":{\"id\":\"ae410f7f-f88c-4284-a7a2-f721c36b8929\",\"type\":\"Toggle\"}},\"code\":\"if (toggle.active) {\\n    labels.visible = true;\\n    console.log('enabling box');\\n}\\nelse {\\n    labels.visible = false;\\n    console.log('disabling box');\\n}\\n\"},\"id\":\"94aeefaf-671d-4d89-abf9-00f2afbd30e5\",\"type\":\"CustomJS\"},{\"attributes\":{\"callback\":null},\"id\":\"3d9b8465-c2ca-4c29-9abb-4a51e43a60da\",\"type\":\"DataRange1d\"},{\"attributes\":{\"callback\":null},\"id\":\"be7390a2-6f69-4a0c-9ddc-5cb6972e9497\",\"type\":\"DataRange1d\"},{\"attributes\":{\"overlay\":{\"id\":\"95503c39-7c37-4485-9af4-2332e4f6bb48\",\"type\":\"BoxAnnotation\"}},\"id\":\"2e4c6c76-117b-4a7d-8b8b-aa008c8b4620\",\"type\":\"BoxZoomTool\"},{\"attributes\":{},\"id\":\"f85a439f-e963-4409-b9e2-84cddd1d23bd\",\"type\":\"LinearScale\"},{\"attributes\":{\"button_type\":\"success\",\"callback\":{\"id\":\"94aeefaf-671d-4d89-abf9-00f2afbd30e5\",\"type\":\"CustomJS\"},\"icon\":null,\"label\":\"Toggle miRNA label\"},\"id\":\"ae410f7f-f88c-4284-a7a2-f721c36b8929\",\"type\":\"Toggle\"},{\"attributes\":{},\"id\":\"bd9c9536-9adb-4931-809c-8c1b25ed571a\",\"type\":\"BasicTicker\"},{\"attributes\":{\"formatter\":{\"id\":\"939c3878-b0f1-4d0d-88f7-87b754ef382d\",\"type\":\"BasicTickFormatter\"},\"plot\":{\"id\":\"84f1753d-1c42-44af-a1bb-4847d376d37a\",\"subtype\":\"Figure\",\"type\":\"Plot\"},\"ticker\":{\"id\":\"bd9c9536-9adb-4931-809c-8c1b25ed571a\",\"type\":\"BasicTicker\"}},\"id\":\"7a831dff-fc10-4652-a983-16c7bba6f517\",\"type\":\"LinearAxis\"},{\"attributes\":{\"fill_color\":{\"field\":\"community_color\"},\"line_color\":{\"value\":\"blue\"},\"size\":{\"field\":\"centrality\",\"units\":\"screen\"},\"x\":{\"field\":\"x\"},\"y\":{\"field\":\"y\"}},\"id\":\"51dcf709-ce07-46e5-860c-05a7af743222\",\"type\":\"Circle\"},{\"attributes\":{\"callback\":null,\"renderers\":[{\"id\":\"7759ee79-88d0-40f8-9a9e-303e75edaabe\",\"type\":\"GlyphRenderer\"}],\"tooltips\":[[\"name\",\"@name\"]]},\"id\":\"82bde77a-3c83-4cbd-b84e-db2b2d7636c4\",\"type\":\"HoverTool\"},{\"attributes\":{\"source\":{\"id\":\"a840d88b-4908-45a0-a716-53341bb3f54c\",\"type\":\"ColumnDataSource\"}},\"id\":\"b98c5eb5-0add-4cf4-a864-6bbc6cb54f63\",\"type\":\"CDSView\"},{\"attributes\":{},\"id\":\"18058844-dd7d-4060-a964-ed051a7bc2fc\",\"type\":\"PanTool\"},{\"attributes\":{},\"id\":\"9f152cb9-3c8d-4e62-ae8d-ac2154e411b6\",\"type\":\"BasicTicker\"},{\"attributes\":{\"callback\":null,\"column_names\":[\"xs\",\"ys\",\"name\",\"alphas\"],\"data\":{\"alphas\":[0.500926783272892,0.5404708718272033,0.4778923275032334,0.5736011614784594,0.4781152984345717,0.5494843587168569,0.47767581130583536,0.4625302681711775,0.591921403222054,0.7130148476592999,0.6197872589266266,0.6654757263549306,0.6734468329198412,0.6163274908541202,0.5098291326354308,0.6978074656107454,0.6720628940118325,0.6392453806004533,0.46325465985395087,0.4612060335289516,0.9934544585848891,0.6388571721923365,0.4670413867632067,0.48191941115945613,0.4703280399090205,0.47932903940276994,0.6003514450832008],\"name\":[\"hsa-mir-373<=>hsa-mir-520b\",\"hsa-mir-373<=>hsa-mir-372\",\"hsa-mir-373<=>hsa-mir-520e\",\"hsa-mir-373<=>hsa-mir-520d\",\"hsa-mir-372<=>hsa-mir-520d\",\"hsa-mir-20a<=>hsa-mir-17\",\"hsa-mir-181c<=>hsa-mir-181d\",\"hsa-mir-520a<=>hsa-mir-519d\",\"hsa-mir-520a<=>hsa-mir-520c\",\"hsa-mir-520a<=>hsa-mir-520b\",\"hsa-mir-520a<=>hsa-mir-520e\",\"hsa-mir-520a<=>hsa-mir-520d\",\"hsa-mir-520c<=>hsa-mir-520b\",\"hsa-mir-520c<=>hsa-mir-520e\",\"hsa-mir-520c<=>hsa-mir-520d\",\"hsa-mir-520b<=>hsa-mir-520e\",\"hsa-mir-520b<=>hsa-mir-520d\",\"hsa-mir-520e<=>hsa-mir-520d\",\"hsa-mir-195<=>hsa-mir-497\",\"hsa-mir-302a<=>hsa-mir-302d\",\"hsa-mir-365a<=>hsa-mir-365b\",\"hsa-mir-200b<=>hsa-mir-429\",\"hsa-mir-449a<=>hsa-mir-449b\",\"hsa-mir-130b<=>hsa-mir-301b\",\"hsa-mir-129-1<=>hsa-mir-129-2\",\"hsa-mir-302d<=>hsa-mir-302c\",\"hsa-mir-302d<=>hsa-mir-302b\"],\"xs\":[[-0.034562981226821256,-0.019048249870218123],[-0.034562981226821256,-0.055125720972686816],[-0.034562981226821256,-0.03711934633717504],[-0.034562981226821256,-0.041234475740985745],[-0.055125720972686816,-0.041234475740985745],[0.11901088940689057,0.12583564106326423],[0.19217860635436915,0.22197806143849347],[-0.015011953639278337,0.02153449078345091],[-0.015011953639278337,-0.04276813774162847],[-0.015011953639278337,-0.019048249870218123],[-0.015011953639278337,-0.03711934633717504],[-0.015011953639278337,-0.041234475740985745],[-0.04276813774162847,-0.019048249870218123],[-0.04276813774162847,-0.03711934633717504],[-0.04276813774162847,-0.041234475740985745],[-0.019048249870218123,-0.03711934633717504],[-0.019048249870218123,-0.041234475740985745],[-0.03711934633717504,-0.041234475740985745],[-0.6822604548715819,-0.6544499111612694],[-0.31302159465767465,-0.3412494579740006],[-0.860248687618587,-0.8372134821426148],[0.07695748112899228,0.08772803010611525],[0.5346660752279682,0.5060518861302277],[0.8407474179707729,0.8126309461510834],[0.5701252783135957,0.5505394971964588],[-0.3412494579740006,-0.35522437473085416],[-0.3412494579740006,-0.3714454725863057]],\"ys\":[[-0.11750783200124514,-0.08443804136734626],[-0.11750783200124514,-0.13826235590416255],[-0.11750783200124514,-0.07721506235121434],[-0.11750783200124514,-0.09366832216069201],[-0.13826235590416255,-0.09366832216069201],[-0.9999999999999999,-0.9727132524720583],[0.2865203340183854,0.28877162415067964],[-0.05982923342768277,-0.026459155712743983],[-0.05982923342768277,-0.05935524173085979],[-0.05982923342768277,-0.08443804136734626],[-0.05982923342768277,-0.07721506235121434],[-0.05982923342768277,-0.09366832216069201],[-0.05935524173085979,-0.08443804136734626],[-0.05935524173085979,-0.07721506235121434],[-0.05935524173085979,-0.09366832216069201],[-0.08443804136734626,-0.07721506235121434],[-0.08443804136734626,-0.09366832216069201],[-0.07721506235121434,-0.09366832216069201],[-0.30682421495825685,-0.28923248045676414],[0.23030059123652774,0.20467069868782747],[0.3683409344139392,0.3581822110763248],[0.7680464255280014,0.7438680377745366],[0.410989979274486,0.4204200891312173],[-0.5086786330001557,-0.49056263815872647],[-0.13696704965063744,-0.1142952849935186],[0.20467069868782747,0.1699672717142287],[0.20467069868782747,0.22593060133990925]]}},\"id\":\"3512c54c-d5ec-4bbb-8b4b-db0cb956b46a\",\"type\":\"ColumnDataSource\"},{\"attributes\":{\"active_drag\":\"auto\",\"active_inspect\":\"auto\",\"active_scroll\":\"auto\",\"active_tap\":\"auto\",\"tools\":[{\"id\":\"82bde77a-3c83-4cbd-b84e-db2b2d7636c4\",\"type\":\"HoverTool\"},{\"id\":\"137cb617-8248-4e14-b9fb-ee134c03ff20\",\"type\":\"TapTool\"},{\"id\":\"2e4c6c76-117b-4a7d-8b8b-aa008c8b4620\",\"type\":\"BoxZoomTool\"},{\"id\":\"a825e000-ebdc-4a81-9f16-5bb5f1ea5400\",\"type\":\"ResetTool\"},{\"id\":\"18058844-dd7d-4060-a964-ed051a7bc2fc\",\"type\":\"PanTool\"}]},\"id\":\"4d56cb96-5bef-4118-a09d-a634a171e295\",\"type\":\"Toolbar\"}],\"root_ids\":[\"ae410f7f-f88c-4284-a7a2-f721c36b8929\"]},\"title\":\"Bokeh Application\",\"version\":\"0.12.14\"}};\n",
       "  var render_items = [{\"docid\":\"f02ccb4a-9976-479f-8f9b-3ea8d4953716\",\"elementid\":\"0ba77786-437d-4d1c-ada7-a5d434bd4b39\",\"modelid\":\"ae410f7f-f88c-4284-a7a2-f721c36b8929\"}];\n",
       "  root.Bokeh.embed.embed_items_notebook(docs_json, render_items);\n",
       "\n",
       "  }\n",
       "  if (root.Bokeh !== undefined) {\n",
       "    embed_document(root);\n",
       "  } else {\n",
       "    var attempts = 0;\n",
       "    var timer = setInterval(function(root) {\n",
       "      if (root.Bokeh !== undefined) {\n",
       "        embed_document(root);\n",
       "        clearInterval(timer);\n",
       "      }\n",
       "      attempts++;\n",
       "      if (attempts > 100) {\n",
       "        console.log(\"Bokeh: ERROR: Unable to run BokehJS code because BokehJS library is missing\")\n",
       "        clearInterval(timer);\n",
       "      }\n",
       "    }, 10, root)\n",
       "  }\n",
       "})(window);"
      ],
      "application/vnd.bokehjs_exec.v0+json": ""
     },
     "metadata": {
      "application/vnd.bokehjs_exec.v0+json": {
       "id": "ae410f7f-f88c-4284-a7a2-f721c36b8929"
      }
     },
     "output_type": "display_data"
    }
   ],
   "source": [
    "from bokeh.io import output_notebook, show\n",
    "output_notebook()\n",
    "\n",
    "r_circles.glyph.size = 'centrality'\n",
    "r_circles.glyph.fill_color = 'community_color'\n",
    "\n",
    "proc_labels = LabelSet(x='x', y='y', text=\"name\", \n",
    "                       text_font_size=\"8pt\", text_color=\"navy\",\n",
    "                       source=nodes_source, text_align='center')\n",
    "\n",
    "plot.add_layout(proc_labels)\n",
    "\n",
    "code = '''\\\n",
    "if toggle.active\n",
    "    labels.visible = true\n",
    "    console.log 'enabling box'\n",
    "else\n",
    "    labels.visible = false\n",
    "    console.log 'disabling box'\n",
    "'''\n",
    "callback = CustomJS.from_coffeescript(code=code, args={})\n",
    "toggle = Toggle(label=\"Toggle miRNA label\", button_type=\"success\", callback=callback)\n",
    "callback.args = {'toggle': toggle, 'labels': proc_labels}\n",
    "\n",
    "show(plot)\n",
    "show(toggle)"
   ]
  },
  {
   "cell_type": "markdown",
   "metadata": {},
   "source": [
    "## Multi-clusters analysis with rand index"
   ]
  },
  {
   "cell_type": "code",
   "execution_count": 38,
   "metadata": {
    "scrolled": true
   },
   "outputs": [
    {
     "name": "stdout",
     "output_type": "stream",
     "text": [
      "mirnas 240\n",
      "targets 9728\n",
      "edges 30953\n",
      "edges after threshold: 12118\n",
      "mirnas 247\n",
      "targets 8649\n",
      "edges 21307\n",
      "edges after threshold: 8612\n",
      "mirnas 250\n",
      "targets 7109\n",
      "edges 14154\n",
      "edges after threshold: 7336\n",
      "mirnas 247\n",
      "targets 7987\n",
      "edges 17712\n",
      "edges after threshold: 7091\n",
      "mirnas 254\n",
      "targets 23726\n",
      "edges 53152\n",
      "edges after threshold: 8724\n"
     ]
    }
   ],
   "source": [
    "tn_partition = network_norm_tumor.get_miRNA_community_assgn(threshold=0.01, power=1)\n",
    "\n",
    "sc_partition = network_subtype_sc.get_miRNA_community_assgn(threshold=0.01, power=1)\n",
    "cb_partition = network_subtype_cb.get_miRNA_community_assgn(threshold=0.01, power=1)\n",
    "sb_partition = network_subtype_sb.get_miRNA_community_assgn(threshold=0.01, power=1)\n",
    "\n",
    "com_partition = network_subtypes_combined.get_miRNA_community_assgn(threshold=0.01, power=1)"
   ]
  },
  {
   "cell_type": "code",
   "execution_count": 41,
   "metadata": {},
   "outputs": [
    {
     "name": "stdout",
     "output_type": "stream",
     "text": [
      "[[1.0, 0.20830336183638057, 0.40470674652522154, 0.3378349085281755, 0.17908038808211152, 0.5338895396011247], [0.20830336183638057, 1.0, 0.2440418491746635, 0.3411845575729617, 0.2492620271422415, 0.5006857430140123], [0.40470674652522154, 0.24404184917466354, 1.0, 0.45756743703177366, 0.19744004254314682, 0.5558842985000889], [0.3378349085281755, 0.3411845575729617, 0.45756743703177377, 1.0, 0.24078717307453115, 0.5346783478835199], [0.17908038808211155, 0.24926202714224144, 0.19744004254314684, 0.24078717307453115, 1.0, 0.5240372408504572], [0.5338895396011247, 0.5006857430140121, 0.5558842985000889, 0.5346783478835199, 0.5240372408504573, 1.0]]\n"
     ]
    }
   ],
   "source": [
    "from sklearn import metrics\n",
    "from src.models.miRNA_target_network import miRNATargetNetwork\n",
    "\n",
    "partitions = {\"Secretory vs Classical\":miRNATargetNetwork.group_assg_list(sc_partition, lusc_data.MIR.get_genes_list()),\n",
    "             \"Classical vs Basal\":miRNATargetNetwork.group_assg_list(cb_partition, lusc_data.MIR.get_genes_list()),\n",
    "             \"Secretory vs Basal\":miRNATargetNetwork.group_assg_list(sb_partition, lusc_data.MIR.get_genes_list()),\n",
    "             \"combined\":miRNATargetNetwork.group_assg_list(com_partition, lusc_data.MIR.get_genes_list()),\n",
    "             \"tumor vs normal\":miRNATargetNetwork.group_assg_list(tn_partition, lusc_data.MIR.get_genes_list()),\n",
    "             \"miRNA family\":target_scan.get_miRNA_family_group_assg()}\n",
    "# keys = partitions.keys()\n",
    "keys = ['Secretory vs Classical', 'Classical vs Basal', 'Secretory vs Basal',\n",
    "        \"combined\", 'tumor vs normal', 'miRNA family']\n",
    "\n",
    "m = []\n",
    "for p in keys:\n",
    "    n = []\n",
    "    for q in keys:\n",
    "        n.append(miRNATargetNetwork.cluster_similarity(partitions[p], partitions[q], metric=\"nmi\"))\n",
    "    m.append(n)\n",
    "#         if p < q:\n",
    "#             print p,\"vs\", q,\"\\t\", miRNATargetNetwork.cluster_similarity(partitions[p], partitions[q], metric=\"rand\")\n",
    "print m\n",
    "m = np.asarray(m)"
   ]
  },
  {
   "cell_type": "code",
   "execution_count": 42,
   "metadata": {
    "scrolled": true
   },
   "outputs": [
    {
     "data": {
      "image/png": "[encoded data removed]",
      "text/plain": [
       "<Figure size 900x600 with 2 Axes>"
      ]
     },
     "metadata": {},
     "output_type": "display_data"
    }
   ],
   "source": [
    "def plot_confusion_matrix(cm, classes,\n",
    "                          normalize=False,\n",
    "                          title='miRNA clusters similarity between different subtype dysregulation analyses',\n",
    "                          cmap=plt.cm.Greys):\n",
    "    plt.imshow(cm, interpolation='nearest', cmap=cmap)\n",
    "#     plt.title(title)\n",
    "    plt.colorbar()\n",
    "    tick_marks = np.arange(len(classes))\n",
    "    plt.xticks(tick_marks, classes, rotation=90)\n",
    "    plt.yticks(tick_marks, classes)\n",
    "    plt.tight_layout()\n",
    "\n",
    "plt.figure(dpi=150)\n",
    "plot_confusion_matrix(m, keys)\n",
    "plt.show()"
   ]
  },
  {
   "cell_type": "markdown",
   "metadata": {},
   "source": [
    "# \n",
    "# \n",
    "# \n",
    "# Prepare samples for Classification task"
   ]
  },
  {
   "cell_type": "code",
   "execution_count": 1,
   "metadata": {
    "scrolled": false
   },
   "outputs": [
    {
     "ename": "NameError",
     "evalue": "name 'lusc_data' is not defined",
     "output_type": "error",
     "traceback": [
      "\u001b[0;31m---------------------------------------------------------------------------\u001b[0m",
      "\u001b[0;31mNameError\u001b[0m                                 Traceback (most recent call last)",
      "\u001b[0;32m<ipython-input-1-de1a0523a193>\u001b[0m in \u001b[0;36m<module>\u001b[0;34m()\u001b[0m\n\u001b[1;32m      4\u001b[0m \u001b[0;31m# X_normal, _ = lusc_data.load_data(multi_omics=[\"MIR\"], target=[\"ajcc_pathologic_tumor_stage\"],\u001b[0m\u001b[0;34m\u001b[0m\u001b[0;34m\u001b[0m\u001b[0m\n\u001b[1;32m      5\u001b[0m \u001b[0;31m#                                   pathologic_stages=[\"Normal\"])\u001b[0m\u001b[0;34m\u001b[0m\u001b[0;34m\u001b[0m\u001b[0m\n\u001b[0;32m----> 6\u001b[0;31m \u001b[0mX\u001b[0m\u001b[0;34m,\u001b[0m \u001b[0my\u001b[0m \u001b[0;34m=\u001b[0m \u001b[0mlusc_data\u001b[0m\u001b[0;34m.\u001b[0m\u001b[0mload_data\u001b[0m\u001b[0;34m(\u001b[0m\u001b[0mmulti_omics\u001b[0m\u001b[0;34m=\u001b[0m\u001b[0;34m[\u001b[0m\u001b[0;34m\"MIR\"\u001b[0m\u001b[0;34m]\u001b[0m\u001b[0;34m,\u001b[0m \u001b[0mtarget\u001b[0m\u001b[0;34m=\u001b[0m\u001b[0;34m[\u001b[0m\u001b[0;34m\"ajcc_pathologic_tumor_stage\"\u001b[0m\u001b[0;34m]\u001b[0m\u001b[0;34m)\u001b[0m\u001b[0;34m\u001b[0m\u001b[0m\n\u001b[0m\u001b[1;32m      7\u001b[0m \u001b[0;31m#                            samples_barcode=X_normal[\"MIR\"].index)\u001b[0m\u001b[0;34m\u001b[0m\u001b[0;34m\u001b[0m\u001b[0m\n\u001b[1;32m      8\u001b[0m \u001b[0mX\u001b[0m \u001b[0;34m=\u001b[0m \u001b[0mX\u001b[0m\u001b[0;34m[\u001b[0m\u001b[0;34m\"MIR\"\u001b[0m\u001b[0;34m]\u001b[0m\u001b[0;34m\u001b[0m\u001b[0m\n",
      "\u001b[0;31mNameError\u001b[0m: name 'lusc_data' is not defined"
     ]
    }
   ],
   "source": [
    "from sklearn.model_selection import train_test_split\n",
    "\n",
    "\n",
    "# X_normal, _ = lusc_data.load_data(multi_omics=[\"MIR\"], target=[\"ajcc_pathologic_tumor_stage\"], \n",
    "#                                   pathologic_stages=[\"Normal\"])\n",
    "X, y = lusc_data.load_data(multi_omics=[\"MIR\"], target=[\"ajcc_pathologic_tumor_stage\"])\n",
    "#                            samples_barcode=X_normal[\"MIR\"].index)\n",
    "X = X[\"MIR\"]\n",
    "stage_label_mapping = {'Normal': -1, 'Stage I': 1, 'Stage II': 1, 'Stage III': 1, 'Stage IV': 1}\n",
    "y[\"ajcc_pathologic_tumor_stage\"] = y[\"ajcc_pathologic_tumor_stage\"].replace(stage_label_mapping)\n",
    "\n",
    "\n",
    "X_multi, y_multi = lusc_data.load_data(multi_omics=[\"MIR\"], target=[\"ajcc_pathologic_tumor_stage\"])\n",
    "X_multi = X_multi[\"MIR\"]\n",
    "stage_label_mapping = {'Normal': 0, 'Stage I': 1, 'Stage II': 2, 'Stage III': 3, 'Stage IV': 4}\n",
    "y_multi[\"ajcc_pathologic_tumor_stage\"] = y_multi[\"ajcc_pathologic_tumor_stage\"].replace(stage_label_mapping)\n",
    "\n",
    "\n",
    "X_train, X_test, Y_train, Y_test = \\\n",
    "    train_test_split(X, y, test_size=0.2, random_state=np.random.randint(0, 10000), stratify=y)\n",
    "\n",
    "X_multi_train, X_multi_test, Y_multi_train, Y_multi_test = \\\n",
    "    train_test_split(X_multi, y_multi, test_size=0.2, random_state=np.random.randint(0, 10000), stratify=y_multi)\n",
    "\n",
    "print \"X\", X.shape\n",
    "print \"y\", y.shape\n",
    "print \"X_multi\", X_multi.shape\n",
    "print \"y_multi\", y_multi.shape\n",
    "print y[\"ajcc_pathologic_tumor_stage\"].value_counts()\n",
    "print y_multi[\"ajcc_pathologic_tumor_stage\"].value_counts()"
   ]
  },
  {
   "cell_type": "code",
   "execution_count": null,
   "metadata": {
    "scrolled": true
   },
   "outputs": [],
   "source": [
    "from src.models.group_lasso_spams import SPAMSClassifier\n",
    "import spams\n",
    "\n",
    "myfloat = np.float\n",
    "param = {'numThreads': -1, 'verbose': True,\n",
    "         'it0': 10, 'max_it': 1000,\n",
    "         'L0': 0.1, 'tol': 1e-3, 'intercept': False,\n",
    "         'pos': False}\n",
    "param['lambda1'] = 0.5\n",
    "param['lambda2'] = 0.5\n",
    "param['lambda3'] = 0.5\n",
    "\n",
    "X_train = np.asfortranarray(X_train, dtype=myfloat)\n",
    "Y_train = np.asfortranarray(Y_train, dtype=myfloat)\n",
    "Y_train = np.reshape(Y_train, [Y_train.shape[0], 1])\n",
    "X_multi_train = np.asfortranarray(X_multi_train, dtype=myfloat)\n",
    "Y_multi_train = np.asfortranarray(Y_multi_train, dtype=myfloat)\n",
    "Y_multi_train = np.reshape(Y_multi_train, [Y_multi_train.shape[0], 1])\n",
    "\n",
    "# L1 Lasso\n",
    "l1_lasso_param = param.copy()\n",
    "l1_lasso_param['loss'] = 'weighted-logistic'\n",
    "l1_lasso_param['regul'] = 'l1'\n",
    "l1_lasso = SPAMSClassifier()\n",
    "l1_lasso.fit(X_train, Y_train, groups=None, params=l1_lasso_param)\n",
    "\n",
    "# Group Lasso L2\n",
    "# group_l2_param = param.copy()\n",
    "# group_l2_param['loss'] = 'weighted-logistic'\n",
    "# group_l2_param['regul'] = 'group-lasso-l2'\n",
    "# group_l2 = SPAMSClassifier()\n",
    "# group_l2.fit(X_train, Y_train, groups=network.get_miRNA_cluster_assgn(), params=group_l2_param)\n",
    "\n",
    "# Elastic Net\n",
    "elastic_net_param = param.copy()\n",
    "elastic_net_param['loss'] = 'weighted-logistic'\n",
    "elastic_net_param['regul'] = 'elastic-net'\n",
    "elastic_net = SPAMSClassifier()\n",
    "elastic_net.fit(X_train, Y_train, groups=None, params=elastic_net_param)\n",
    "\n",
    "# Sparse Group Lasso\n",
    "sparse_group_l2_param = param.copy()\n",
    "sparse_group_l2_param['loss'] = 'logistic'\n",
    "sparse_group_l2_param['regul'] = 'sparse-group-lasso-l2'\n",
    "sparse_group_l2_param['lambda1'] = 0.2\n",
    "sparse_group_l2 = SPAMSClassifier()\n",
    "sparse_group_l2.fit(X_train, Y_train, groups=partitions[\"combined\"], params=sparse_group_l2_param)\n",
    "\n",
    "# Multi Logistic\n",
    "multi_task_l1l2_param = param.copy()\n",
    "multi_task_l1l2_param['loss'] = 'multi-logistic'\n",
    "multi_task_l1l2_param['regul'] = 'l1l2'\n",
    "multi_task_l1l2_param['max_it'] = 200\n",
    "multi_task_l1l2_param['lambda1'] = 0.5\n",
    "multi_task_l1l2 = SPAMSClassifier()\n",
    "multi_task_l1l2.fit(X_multi_train, Y_multi_train, groups=None, params=multi_task_l1l2_param)"
   ]
  },
  {
   "cell_type": "code",
   "execution_count": null,
   "metadata": {},
   "outputs": [],
   "source": []
  }
 ],
 "metadata": {
  "kernelspec": {
   "display_name": "Python 2",
   "language": "python",
   "name": "python2"
  },
  "language_info": {
   "codemirror_mode": {
    "name": "ipython",
    "version": 2
   },
   "file_extension": ".py",
   "mimetype": "text/x-python",
   "name": "python",
   "nbconvert_exporter": "python",
   "pygments_lexer": "ipython2",
   "version": "2.7.14"
  }
 },
 "nbformat": 4,
 "nbformat_minor": 2
}
