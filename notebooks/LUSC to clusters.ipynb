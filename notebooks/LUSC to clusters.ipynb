{
 "cells": [
  {
   "cell_type": "code",
   "execution_count": 1,
   "metadata": {},
   "outputs": [],
   "source": [
    "# Necessary imports\n",
    "%load_ext autoreload\n",
    "%autoreload 2\\\n",
    "    \n",
    "import os\n",
    "import sys\n",
    "nb_dir = os.path.split(os.getcwd())[0]\n",
    "if nb_dir not in sys.path:\n",
    "    sys.path.append(nb_dir)\n",
    "from definitions import ROOT_DIR"
   ]
  },
  {
   "cell_type": "code",
   "execution_count": 2,
   "metadata": {},
   "outputs": [],
   "source": [
    "import pandas as pd\n",
    "import numpy as np"
   ]
  },
  {
   "cell_type": "code",
   "execution_count": 3,
   "metadata": {},
   "outputs": [
    {
     "name": "stderr",
     "output_type": "stream",
     "text": [
      "/opt/anaconda3/envs/py27/lib/python2.7/site-packages/pandas/core/frame.py:3027: SettingWithCopyWarning: \n",
      "A value is trying to be set on a copy of a slice from a DataFrame\n",
      "\n",
      "See the caveats in the documentation: http://pandas.pydata.org/pandas-docs/stable/indexing.html#indexing-view-versus-copy\n",
      "  return super(DataFrame, self).rename(**kwargs)\n"
     ]
    },
    {
     "name": "stdout",
     "output_type": "stream",
     "text": [
      "('DRUGS', (357, 4))\n",
      "('PATIENTS', (504, 5))\n",
      "('MIR', (380, 1870))\n",
      "('GE', (552, 20472))\n"
     ]
    }
   ],
   "source": [
    "from src.features.multi_omics import MultiOmicsData\n",
    "\n",
    "lusc_data = MultiOmicsData(cancer_type=\"LUSC\", \n",
    "                           folder_path=ROOT_DIR+\"/data/tcga-assembler/LUSC/\", \n",
    "                           modalities=[\"GE\", \"MIR\"])"
   ]
  },
  {
   "cell_type": "code",
   "execution_count": 4,
   "metadata": {},
   "outputs": [],
   "source": [
    "centroids = pd.read_csv(ROOT_DIR+\"/data/external/wilkerson.scc/predictor.centroids.csv\")\n",
    "centroids.columns = [\"genes\", \"primitive\", \"classical\", \"secretory\", \"basal\"]\n",
    "centroids = centroids[centroids[\"genes\"].isin(lusc_data.GE.get_genes_list())]\n",
    "centroid_genes = centroids[\"genes\"]"
   ]
  },
  {
   "cell_type": "code",
   "execution_count": 5,
   "metadata": {},
   "outputs": [
    {
     "data": {
      "text/html": [
       "<div>\n",
       "<style scoped>\n",
       "    .dataframe tbody tr th:only-of-type {\n",
       "        vertical-align: middle;\n",
       "    }\n",
       "\n",
       "    .dataframe tbody tr th {\n",
       "        vertical-align: top;\n",
       "    }\n",
       "\n",
       "    .dataframe thead th {\n",
       "        text-align: right;\n",
       "    }\n",
       "</style>\n",
       "<table border=\"1\" class=\"dataframe\">\n",
       "  <thead>\n",
       "    <tr style=\"text-align: right;\">\n",
       "      <th>genes</th>\n",
       "      <th>MYL6B</th>\n",
       "      <th>PODXL2</th>\n",
       "      <th>HSF2</th>\n",
       "      <th>TTLL4</th>\n",
       "      <th>MARCKSL1</th>\n",
       "      <th>MDK</th>\n",
       "      <th>CHKA</th>\n",
       "      <th>TRIM28</th>\n",
       "      <th>STOM</th>\n",
       "      <th>CASP1</th>\n",
       "      <th>...</th>\n",
       "      <th>ALDH1A3</th>\n",
       "      <th>DSE</th>\n",
       "      <th>MMP10</th>\n",
       "      <th>VDR</th>\n",
       "      <th>CAPZB</th>\n",
       "      <th>FNBP1</th>\n",
       "      <th>ENPP4</th>\n",
       "      <th>SH2B3</th>\n",
       "      <th>DOCK10</th>\n",
       "      <th>SDC1</th>\n",
       "    </tr>\n",
       "  </thead>\n",
       "  <tbody>\n",
       "    <tr>\n",
       "      <th>primitive</th>\n",
       "      <td>0.539568</td>\n",
       "      <td>0.852272</td>\n",
       "      <td>0.293831</td>\n",
       "      <td>0.679557</td>\n",
       "      <td>1.015985</td>\n",
       "      <td>1.001421</td>\n",
       "      <td>0.513166</td>\n",
       "      <td>0.569403</td>\n",
       "      <td>-0.737997</td>\n",
       "      <td>-0.775559</td>\n",
       "      <td>...</td>\n",
       "      <td>-0.231312</td>\n",
       "      <td>-0.521502</td>\n",
       "      <td>-0.862938</td>\n",
       "      <td>-0.421701</td>\n",
       "      <td>-0.015213</td>\n",
       "      <td>-0.016889</td>\n",
       "      <td>0.232617</td>\n",
       "      <td>-0.178687</td>\n",
       "      <td>-0.121821</td>\n",
       "      <td>-0.764157</td>\n",
       "    </tr>\n",
       "    <tr>\n",
       "      <th>classical</th>\n",
       "      <td>-0.139755</td>\n",
       "      <td>-0.019997</td>\n",
       "      <td>0.060404</td>\n",
       "      <td>-0.089302</td>\n",
       "      <td>-0.306555</td>\n",
       "      <td>-0.019797</td>\n",
       "      <td>-0.150269</td>\n",
       "      <td>0.021242</td>\n",
       "      <td>-0.065057</td>\n",
       "      <td>-0.187048</td>\n",
       "      <td>...</td>\n",
       "      <td>-0.485903</td>\n",
       "      <td>-0.462036</td>\n",
       "      <td>-0.649346</td>\n",
       "      <td>-0.259443</td>\n",
       "      <td>-0.216407</td>\n",
       "      <td>-0.103185</td>\n",
       "      <td>-0.276022</td>\n",
       "      <td>-0.169656</td>\n",
       "      <td>-0.137791</td>\n",
       "      <td>0.337130</td>\n",
       "    </tr>\n",
       "    <tr>\n",
       "      <th>secretory</th>\n",
       "      <td>-0.084411</td>\n",
       "      <td>-0.104802</td>\n",
       "      <td>-0.131566</td>\n",
       "      <td>-0.044189</td>\n",
       "      <td>0.012595</td>\n",
       "      <td>-0.202898</td>\n",
       "      <td>0.235328</td>\n",
       "      <td>-0.264212</td>\n",
       "      <td>0.297794</td>\n",
       "      <td>0.305713</td>\n",
       "      <td>...</td>\n",
       "      <td>0.325191</td>\n",
       "      <td>0.487990</td>\n",
       "      <td>-0.974158</td>\n",
       "      <td>0.384095</td>\n",
       "      <td>0.180478</td>\n",
       "      <td>0.421356</td>\n",
       "      <td>0.482619</td>\n",
       "      <td>0.533466</td>\n",
       "      <td>0.569353</td>\n",
       "      <td>-0.998660</td>\n",
       "    </tr>\n",
       "    <tr>\n",
       "      <th>basal</th>\n",
       "      <td>-0.033551</td>\n",
       "      <td>-0.053003</td>\n",
       "      <td>-0.079130</td>\n",
       "      <td>-0.084657</td>\n",
       "      <td>0.097278</td>\n",
       "      <td>-0.222180</td>\n",
       "      <td>-0.136313</td>\n",
       "      <td>0.011287</td>\n",
       "      <td>0.043434</td>\n",
       "      <td>0.063549</td>\n",
       "      <td>...</td>\n",
       "      <td>0.905489</td>\n",
       "      <td>0.509466</td>\n",
       "      <td>2.926716</td>\n",
       "      <td>0.309637</td>\n",
       "      <td>0.216626</td>\n",
       "      <td>-0.185309</td>\n",
       "      <td>-0.147701</td>\n",
       "      <td>-0.030816</td>\n",
       "      <td>-0.093761</td>\n",
       "      <td>0.419894</td>\n",
       "    </tr>\n",
       "  </tbody>\n",
       "</table>\n",
       "<p>4 rows × 196 columns</p>\n",
       "</div>"
      ],
      "text/plain": [
       "genes         MYL6B    PODXL2      HSF2     TTLL4  MARCKSL1       MDK  \\\n",
       "primitive  0.539568  0.852272  0.293831  0.679557  1.015985  1.001421   \n",
       "classical -0.139755 -0.019997  0.060404 -0.089302 -0.306555 -0.019797   \n",
       "secretory -0.084411 -0.104802 -0.131566 -0.044189  0.012595 -0.202898   \n",
       "basal     -0.033551 -0.053003 -0.079130 -0.084657  0.097278 -0.222180   \n",
       "\n",
       "genes          CHKA    TRIM28      STOM     CASP1    ...      ALDH1A3  \\\n",
       "primitive  0.513166  0.569403 -0.737997 -0.775559    ...    -0.231312   \n",
       "classical -0.150269  0.021242 -0.065057 -0.187048    ...    -0.485903   \n",
       "secretory  0.235328 -0.264212  0.297794  0.305713    ...     0.325191   \n",
       "basal     -0.136313  0.011287  0.043434  0.063549    ...     0.905489   \n",
       "\n",
       "genes           DSE     MMP10       VDR     CAPZB     FNBP1     ENPP4  \\\n",
       "primitive -0.521502 -0.862938 -0.421701 -0.015213 -0.016889  0.232617   \n",
       "classical -0.462036 -0.649346 -0.259443 -0.216407 -0.103185 -0.276022   \n",
       "secretory  0.487990 -0.974158  0.384095  0.180478  0.421356  0.482619   \n",
       "basal      0.509466  2.926716  0.309637  0.216626 -0.185309 -0.147701   \n",
       "\n",
       "genes         SH2B3    DOCK10      SDC1  \n",
       "primitive -0.178687 -0.121821 -0.764157  \n",
       "classical -0.169656 -0.137791  0.337130  \n",
       "secretory  0.533466  0.569353 -0.998660  \n",
       "basal     -0.030816 -0.093761  0.419894  \n",
       "\n",
       "[4 rows x 196 columns]"
      ]
     },
     "execution_count": 5,
     "metadata": {},
     "output_type": "execute_result"
    }
   ],
   "source": [
    "centroids.index = centroids.genes\n",
    "centroids.drop(['genes'], axis=1, inplace=True)\n",
    "centroids = centroids.T\n",
    "centroids"
   ]
  },
  {
   "cell_type": "markdown",
   "metadata": {},
   "source": [
    "# Subsetting the GE data to only genes"
   ]
  },
  {
   "cell_type": "code",
   "execution_count": 6,
   "metadata": {},
   "outputs": [],
   "source": [
    "lusc_ge = lusc_data.GE.data[centroid_genes]\n",
    "\n",
    "\n",
    "# Subset the LUSC samples to only tumor samples\n",
    "lusc_ge = lusc_ge[lusc_ge.index.str.contains(\"-01A\")]"
   ]
  },
  {
   "cell_type": "code",
   "execution_count": 7,
   "metadata": {},
   "outputs": [],
   "source": [
    "from sklearn.preprocessing import MinMaxScaler\n",
    "\n",
    "scaler = MinMaxScaler(feature_range=(-np.max(np.abs(centroids.values)), np.max(np.abs(centroids.values))))\n",
    "# scaler = MinMaxScaler()\n",
    "# scaler.fit(centroids)"
   ]
  },
  {
   "cell_type": "markdown",
   "metadata": {},
   "source": [
    "# Classify LUSC patients based on cluster centroids obtained from Wilkenson, et. al\n",
    "\n",
    "TODO Read paper \"The molecular portraits of breast tumors are conserved across microarray platforms\" on how to do subtype prediction"
   ]
  },
  {
   "cell_type": "code",
   "execution_count": 8,
   "metadata": {},
   "outputs": [],
   "source": [
    "from sklearn.cluster import KMeans\n",
    "kmeans = KMeans(n_clusters=4)"
   ]
  },
  {
   "cell_type": "code",
   "execution_count": 9,
   "metadata": {},
   "outputs": [],
   "source": [
    "kmeans.cluster_centers_ = centroids.values"
   ]
  },
  {
   "cell_type": "code",
   "execution_count": 10,
   "metadata": {},
   "outputs": [
    {
     "data": {
      "text/plain": [
       "Secretory     40\n",
       "Primitive     23\n",
       "Classical    221\n",
       "Basal        212\n",
       "Name: subtype, dtype: int64"
      ]
     },
     "execution_count": 10,
     "metadata": {},
     "output_type": "execute_result"
    }
   ],
   "source": [
    "lusc_subtypes_map = {0: 'Primitive', 1: 'Classical', 2: 'Secretory', 3: 'Basal'}\n",
    "\n",
    "lusc_subtypes_pred = pd.DataFrame(kmeans.predict(scaler.fit_transform(lusc_ge)), index=lusc_ge.index)\n",
    "lusc_subtypes_pred.columns = [\"subtype\"]\n",
    "lusc_subtypes_pred.replace({\"subtype\": lusc_subtypes_map}, inplace=True)\n",
    "lusc_subtypes_pred[\"subtype\"].value_counts(sort=False, normalize=False)"
   ]
  },
  {
   "cell_type": "markdown",
   "metadata": {},
   "source": [
    "# Assign predicted subtypes to LUSC patients samples"
   ]
  },
  {
   "cell_type": "code",
   "execution_count": 11,
   "metadata": {},
   "outputs": [],
   "source": [
    "lusc_subtypes_pred[\"patient_barcode\"] = lusc_subtypes_pred.index.str[:-4]\n",
    "\n",
    "lusc_data.add_subtypes_to_patients_clinical(dict(zip(lusc_subtypes_pred[\"patient_barcode\"], lusc_subtypes_pred[\"subtype\"])))"
   ]
  },
  {
   "cell_type": "code",
   "execution_count": 15,
   "metadata": {},
   "outputs": [
    {
     "name": "stdout",
     "output_type": "stream",
     "text": [
      "(234, 20472) (234, 1)\n"
     ]
    }
   ],
   "source": [
    "X, y = lusc_data.load_data(multi_omics=[\"GE\"], \n",
    "#                            target=[\"ajcc_pathologic_tumor_stage\"], \n",
    "                           target=[\"predicted_subtype\"], \n",
    "                           predicted_subtypes=[\"Basal\"], \n",
    "#                            pathologic_stages=['Stage I', 'Stage II', 'Stage III', 'Stage IV']\n",
    "                          )\n",
    "print X[\"GE\"].shape , y.shape"
   ]
  },
  {
   "cell_type": "markdown",
   "metadata": {},
   "source": [
    "# Putative Associations"
   ]
  },
  {
   "cell_type": "code",
   "execution_count": 16,
   "metadata": {},
   "outputs": [
    {
     "name": "stdout",
     "output_type": "stream",
     "text": [
      "(1097064, 2)\n",
      "(532659, 2)\n",
      "(603489, 2)\n"
     ]
    }
   ],
   "source": [
    "from src.data.make_dataset import Target_Scan\n",
    "target_scan = Target_Scan(mirna_list=lusc_data.MIR.get_genes_list(), gene_symbols=lusc_data.GE.get_genes_list())\n",
    "\n",
    "# Load miRanda putative miRNA-target associations\n",
    "miRanda_df = pd.read_table(os.path.join(ROOT_DIR, 'data/external/miRanda_hg19_predictions_S_C_aug2010.txt'), delimiter='\\t')\n",
    "miRanda_df = miRanda_df[['mirna_name',  'gene_symbol']]\n",
    "\n",
    "miRanda_df['mirna_name'] = miRanda_df['mirna_name'].str.lower()\n",
    "miRanda_df['mirna_name'] = miRanda_df['mirna_name'].str.replace(\"*\", \"\")\n",
    "miRanda_df['mirna_name'] = miRanda_df['mirna_name'].str.replace(\"-3p.*|-5p.*\", \"\")\n",
    "print miRanda_df.shape\n",
    "\n",
    "miRanda_df.columns = [\"MiRBase ID\", \"Gene Symbol\"]\n",
    "miRanda_df = miRanda_df[miRanda_df['MiRBase ID'].isin(lusc_data.MIR.get_genes_list()) & miRanda_df['Gene Symbol'].isin(lusc_data.GE.get_genes_list())].dropna().drop_duplicates()\n",
    "print miRanda_df.shape\n",
    "\n",
    "# Union TargetScan and MiRanDa miRNA-target associations\n",
    "targetScan_df = target_scan.get_miRNA_target_interaction_context()\n",
    "putative_assocs = pd.concat([targetScan_df, miRanda_df]).dropna().drop_duplicates()\n",
    "print putative_assocs.shape"
   ]
  },
  {
   "cell_type": "code",
   "execution_count": 52,
   "metadata": {},
   "outputs": [
    {
     "name": "stdout",
     "output_type": "stream",
     "text": [
      "38282640\n",
      "(38282640, 2)\n"
     ]
    }
   ],
   "source": [
    "all_mirna_gene_assc = []\n",
    "for m in lusc_data.MIR.get_genes_list():\n",
    "    for t in lusc_data.GE.get_genes_list():\n",
    "        all_mirna_gene_assc.append((m, t))\n",
    "print len(all_mirna_gene_assc)\n",
    "all_mirna_gene_assc = pd.DataFrame(all_mirna_gene_assc, columns=[\"MiRBase ID\", \"Gene Symbol\"])\n",
    "print all_mirna_gene_assc.shape"
   ]
  },
  {
   "cell_type": "markdown",
   "metadata": {},
   "source": [
    "# Run MDSN dysregulation analyses"
   ]
  },
  {
   "cell_type": "code",
   "execution_count": null,
   "metadata": {},
   "outputs": [
    {
     "name": "stdout",
     "output_type": "stream",
     "text": [
      "n_A 28\n",
      "n_B 154\n"
     ]
    }
   ],
   "source": [
    "from src.models.miRNA_target_network import miRNATargetNetwork as miRNATargetNet\n",
    "import warnings\n",
    "warnings.filterwarnings('ignore')\n",
    "\n",
    "A, _ = lusc_data.load_data(multi_omics=[\"MIR\", \"GE\"], predicted_subtypes=[\"Secretory\"])\n",
    "B, _ = lusc_data.load_data(multi_omics=[\"MIR\", \"GE\"], predicted_subtypes=[\"Classical\"])\n",
    "network_subtype_sc = miRNATargetNet(miRNAs=lusc_data.MIR.get_genes_list(), targets=lusc_data.GE.get_genes_list())\n",
    "print network_subtype_sc.fit(tag=\"Secretory-Classical\", p_threshold=0.01, n_jobs=8,\n",
    "            miRNA_A=A[\"MIR\"],\n",
    "            gene_A=A[\"GE\"],\n",
    "            miRNA_B=B[\"MIR\"],\n",
    "            gene_B=B[\"GE\"],\n",
    "            putative_assocs=all_mirna_gene_assc)\n",
    "\n",
    "A, _ = lusc_data.load_data(multi_omics=[\"MIR\", \"GE\"], predicted_subtypes=[\"Classical\"])\n",
    "B, _ = lusc_data.load_data(multi_omics=[\"MIR\", \"GE\"], predicted_subtypes=[\"Basal\"])\n",
    "network_subtype_cb = miRNATargetNet(miRNAs=lusc_data.MIR.get_genes_list(), targets=lusc_data.GE.get_genes_list())\n",
    "print network_subtype_cb.fit(tag=\"Classical-Basal\", p_threshold=0.01, n_jobs=8,\n",
    "            miRNA_A=A[\"MIR\"],\n",
    "            gene_A=A[\"GE\"],\n",
    "            miRNA_B=B[\"MIR\"],\n",
    "            gene_B=B[\"GE\"],\n",
    "            putative_assocs=all_mirna_gene_assc)\n",
    "\n",
    "A, _ = lusc_data.load_data(multi_omics=[\"MIR\", \"GE\"], predicted_subtypes=[\"Secretory\"])\n",
    "B, _ = lusc_data.load_data(multi_omics=[\"MIR\", \"GE\"], predicted_subtypes=[\"Basal\"])\n",
    "network_subtype_sb = miRNATargetNet(miRNAs=lusc_data.MIR.get_genes_list(), targets=lusc_data.GE.get_genes_list())\n",
    "print network_subtype_sb.fit(tag=\"Secretory-Basal\", p_threshold=0.01, n_jobs=8,\n",
    "            miRNA_A=A[\"MIR\"],\n",
    "            gene_A=A[\"GE\"],\n",
    "            miRNA_B=B[\"MIR\"],\n",
    "            gene_B=B[\"GE\"],\n",
    "            putative_assocs=all_mirna_gene_assc)\n",
    "\n",
    "A, _ = lusc_data.load_data(multi_omics=[\"MIR\", \"GE\"], predicted_subtypes=[\"Secretory\"])\n",
    "B, _ = lusc_data.load_data(multi_omics=[\"MIR\", \"GE\"], predicted_subtypes=[\"Primitive\"])\n",
    "network_subtype_sp = miRNATargetNet(miRNAs=lusc_data.MIR.get_genes_list(), targets=lusc_data.GE.get_genes_list())\n",
    "print network_subtype_sp.fit(tag=\"Secretory-Primitive\", p_threshold=0.01, n_jobs=8,\n",
    "            miRNA_A=A[\"MIR\"],\n",
    "            gene_A=A[\"GE\"],\n",
    "            miRNA_B=B[\"MIR\"],\n",
    "            gene_B=B[\"GE\"],\n",
    "            putative_assocs=all_mirna_gene_assc)\n",
    "\n",
    "A, _ = lusc_data.load_data(multi_omics=[\"MIR\", \"GE\"], predicted_subtypes=[\"Classical\"])\n",
    "B, _ = lusc_data.load_data(multi_omics=[\"MIR\", \"GE\"], predicted_subtypes=[\"Primitive\"])\n",
    "network_subtype_cp = miRNATargetNet(miRNAs=lusc_data.MIR.get_genes_list(), targets=lusc_data.GE.get_genes_list())\n",
    "print network_subtype_cp.fit(tag=\"Classical-Primitive\", p_threshold=0.01, n_jobs=8,\n",
    "            miRNA_A=A[\"MIR\"],\n",
    "            gene_A=A[\"GE\"],\n",
    "            miRNA_B=B[\"MIR\"],\n",
    "            gene_B=B[\"GE\"],\n",
    "            putative_assocs=all_mirna_gene_assc)\n",
    "\n",
    "A, _ = lusc_data.load_data(multi_omics=[\"MIR\", \"GE\"], predicted_subtypes=[\"Basal\"])\n",
    "B, _ = lusc_data.load_data(multi_omics=[\"MIR\", \"GE\"], predicted_subtypes=[\"Primitive\"])\n",
    "network_subtype_bp = miRNATargetNet(miRNAs=lusc_data.MIR.get_genes_list(), targets=lusc_data.GE.get_genes_list())\n",
    "print network_subtype_bp.fit(tag=\"Basal-Primitive\", p_threshold=0.01, n_jobs=8,\n",
    "            miRNA_A=A[\"MIR\"],\n",
    "            gene_A=A[\"GE\"],\n",
    "            miRNA_B=B[\"MIR\"],\n",
    "            gene_B=B[\"GE\"],\n",
    "            putative_assocs=all_mirna_gene_assc)\n",
    "\n",
    "network_norm_tumor = miRNATargetNet(miRNAs=lusc_data.MIR.get_genes_list(), targets=lusc_data.GE.get_genes_list())\n",
    "A, _ = lusc_data.load_data(multi_omics=[\"MIR\", \"GE\"], pathologic_stages=[\"Normal\"])\n",
    "B, _ = lusc_data.load_data(multi_omics=[\"MIR\", \"GE\"], pathologic_stages=[\"Stage I\"],\n",
    "                          )\n",
    "print network_norm_tumor.fit(tag=\"Normal-tumor\", p_threshold=0.01, n_jobs=8,\n",
    "            miRNA_A=A[\"MIR\"],\n",
    "            gene_A=A[\"GE\"],\n",
    "            miRNA_B=B[\"MIR\"],\n",
    "            gene_B=B[\"GE\"],\n",
    "            putative_assocs=all_mirna_gene_assc)"
   ]
  },
  {
   "cell_type": "code",
   "execution_count": 19,
   "metadata": {},
   "outputs": [],
   "source": [
    "# Write graph to file\n",
    "import networkx as nx\n",
    "\n",
    "nx.write_gml(network_subtype_sc.B, path=\"./LUSC/network_subtype_sc_-2_t.gml\")\n",
    "nx.write_gml(network_subtype_cb.B, path=\"./LUSC/network_subtype_cb_-2_t.gml\")\n",
    "nx.write_gml(network_subtype_sb.B, path=\"./LUSC/network_subtype_sb_-2_t.gml\")\n",
    "nx.write_gml(network_subtype_sp.B, path=\"./LUSC/network_subtype_sp_-2_t.gml\")\n",
    "nx.write_gml(network_subtype_cp.B, path=\"./LUSC/network_subtype_cp_-2_t.gml\")\n",
    "nx.write_gml(network_subtype_bp.B, path=\"./LUSC/network_subtype_bp_-2_t.gml\")"
   ]
  },
  {
   "cell_type": "markdown",
   "metadata": {},
   "source": [
    "# Combine subtypes dysregulation networks into one"
   ]
  },
  {
   "cell_type": "code",
   "execution_count": null,
   "metadata": {},
   "outputs": [],
   "source": [
    "import networkx as nx\n",
    "\n",
    "def relabel_mapping(node):\n",
    "    # HACK: This function is used to relabel target nodes in the miRNA-target bipartite graph such that target nodes\n",
    "    # in each distinct bipartite graphs have different names\n",
    "    if \"hsa-\" in node:\n",
    "        return node\n",
    "    else:\n",
    "        return node+\"_\"+str(np.random.randint(1000)) # a random number, so each run gives a \"probably\" different relabeling\n",
    "    \n",
    "nx.relabel_nodes(network_subtype_sc.B, relabel_mapping, copy=False)\n",
    "nx.relabel_nodes(network_subtype_cb.B, relabel_mapping, copy=False)\n",
    "nx.relabel_nodes(network_subtype_sb.B, relabel_mapping, copy=False)\n",
    "nx.relabel_nodes(network_subtype_sp.B, relabel_mapping, copy=False)\n",
    "nx.relabel_nodes(network_subtype_cp.B, relabel_mapping, copy=False)\n",
    "nx.relabel_nodes(network_subtype_bp.B, relabel_mapping, copy=False)"
   ]
  },
  {
   "cell_type": "code",
   "execution_count": 21,
   "metadata": {},
   "outputs": [],
   "source": [
    "network_subtypes = nx.compose_all([network_subtype_sc.B, network_subtype_cb.B, network_subtype_sb.B,\n",
    "                                  network_subtype_sp.B, network_subtype_cp.B, network_subtype_bp.B])\n",
    "\n",
    "network_subtypes_combined = miRNATargetNet(miRNAs=lusc_data.MIR.get_genes_list(), targets=lusc_data.GE.get_genes_list())\n",
    "network_subtypes_combined.B = network_subtypes\n",
    "\n",
    "# sorted(network_subtypes.nodes())"
   ]
  },
  {
   "cell_type": "code",
   "execution_count": 22,
   "metadata": {},
   "outputs": [
    {
     "name": "stdout",
     "output_type": "stream",
     "text": [
      "21307\n",
      "14154\n",
      "17712\n",
      "13976\n",
      "21301\n",
      "19074\n",
      "28892\n",
      "107494\n"
     ]
    }
   ],
   "source": [
    "print len(network_subtype_sc.B.edges())\n",
    "print len(network_subtype_cb.B.edges())\n",
    "print len(network_subtype_sb.B.edges())\n",
    "print len(network_subtype_sp.B.edges())\n",
    "print len(network_subtype_cp.B.edges())\n",
    "print len(network_subtype_bp.B.edges())\n",
    "print len(network_norm_tumor.B.edges())\n",
    "print len(network_subtypes_combined.B.edges())"
   ]
  },
  {
   "cell_type": "markdown",
   "metadata": {},
   "source": [
    "# Bipartite Graph Analysis"
   ]
  },
  {
   "cell_type": "code",
   "execution_count": 23,
   "metadata": {},
   "outputs": [
    {
     "name": "stdout",
     "output_type": "stream",
     "text": [
      "mirnas 256\n",
      "targets 46906\n",
      "edges 107494\n"
     ]
    }
   ],
   "source": [
    "import networkx as nx\n",
    "from networkx.algorithms import bipartite\n",
    "import copy\n",
    "\n",
    "# g = network_subtypes.to_undirected()\n",
    "g = copy.deepcopy(network_subtypes_combined.B.to_undirected())\n",
    "g.remove_nodes_from(list(nx.isolates(g)))\n",
    "\n",
    "\n",
    "miRNAs_nodes = set(n for n, d in g.nodes(data=True) if d['bipartite'] == 0)\n",
    "targets_nodes = set(g) - miRNAs_nodes\n",
    "print 'mirnas', len(miRNAs_nodes)\n",
    "print 'targets', len(targets_nodes)\n",
    "print 'edges',len(g.edges())"
   ]
  },
  {
   "cell_type": "code",
   "execution_count": 24,
   "metadata": {},
   "outputs": [
    {
     "name": "stdout",
     "output_type": "stream",
     "text": [
      "(256, 46906)\n"
     ]
    }
   ],
   "source": [
    "import scipy\n",
    "import scipy.sparse as sparse\n",
    "\n",
    "adj = bipartite.biadjacency_matrix(g, row_order=miRNAs_nodes, column_order=targets_nodes)\n",
    "print adj.shape\n",
    "cosine_adj = 1-scipy.spatial.distance.pdist(adj.toarray(), \"cosine\")"
   ]
  },
  {
   "cell_type": "markdown",
   "metadata": {},
   "source": [
    "## Testing approximate scale-free topology criterion by plotting log10(P(k)) v.s. log10(k). A straight line indicates scale-free topology"
   ]
  },
  {
   "cell_type": "code",
   "execution_count": 25,
   "metadata": {},
   "outputs": [
    {
     "data": {
      "text/plain": [
       "<Figure size 640x480 with 1 Axes>"
      ]
     },
     "metadata": {},
     "output_type": "display_data"
    }
   ],
   "source": [
    "import matplotlib.pyplot as plt\n",
    "k_power=1\n",
    "# cosine_adj_hist_dist = scipy.stats.gaussian_kde(np.power(cosine_adj, k_power))\n",
    "cosine_adj_hist = np.histogram(np.power(cosine_adj, k_power), bins=500)\n",
    "cosine_adj_hist_dist = scipy.stats.rv_histogram(cosine_adj_hist)\n",
    "\n",
    "plt.scatter(x=np.log10(np.power(cosine_adj, k_power)),\n",
    "            y=np.log10(cosine_adj_hist_dist.pdf(np.power(cosine_adj, k_power))), \n",
    "            marker='.')\n",
    "plt.xlabel(\"np.log10(k)\")\n",
    "plt.ylabel(\"np.log10(P(k))\")\n",
    "plt.show()"
   ]
  },
  {
   "cell_type": "code",
   "execution_count": 26,
   "metadata": {},
   "outputs": [
    {
     "name": "stdout",
     "output_type": "stream",
     "text": [
      "18807\n",
      "-0.14763337435233226 -2.9496579513534624 18807\n",
      "2.3439658897143474 -1.8125529750326799 18807\n",
      "0.8696461575288602\n"
     ]
    }
   ],
   "source": [
    "k_power = 1\n",
    "c = np.log10(np.power(cosine_adj, k_power))\n",
    "d = np.log10(cosine_adj_hist_dist.pdf(np.power(cosine_adj, k_power)))\n",
    "\n",
    "d_ = d[np.where(c != -np.inf)]\n",
    "d_ = d_[np.where(d_ != -np.inf)]\n",
    "c_ = c[np.where(d != -np.inf)]\n",
    "c_ = c_[np.where(c_ != -np.inf)]\n",
    "\n",
    "print np.count_nonzero(~np.isnan(d_))\n",
    "print np.max(c_), np.min(c_), len(c_)\n",
    "print np.max(d_), np.min(d_), len(d_)\n",
    "print np.power(scipy.stats.pearsonr(c_, d_)[0], 2)"
   ]
  },
  {
   "cell_type": "markdown",
   "metadata": {},
   "source": [
    "## Graph Distribution of the Cosine Similarity Connections"
   ]
  },
  {
   "cell_type": "code",
   "execution_count": 27,
   "metadata": {},
   "outputs": [
    {
     "data": {
      "image/png": "[encoded data removed]",
      "text/plain": [
       "<Figure size 900x600 with 1 Axes>"
      ]
     },
     "metadata": {},
     "output_type": "display_data"
    }
   ],
   "source": [
    "from sklearn.neighbors.kde import KernelDensity\n",
    "kde = KernelDensity(kernel='gaussian', bandwidth=0.75).fit(np.array(cosine_adj)[:,np.newaxis])\n",
    "x_data = np.linspace(0., 1., 100)[:, np.newaxis]\n",
    "kde_samples = kde.score_samples(x_data)\n",
    "\n",
    "plt.figure(dpi=150)\n",
    "plt.scatter(x=x_data, y=kde_samples, c=\"black\")\n",
    "# plt.ylim(0, 200)\n",
    "# plt.xlim(0, 0.2)\n",
    "plt.ylabel(\"frequency\")\n",
    "plt.xlabel(\"cosine values\")\n",
    "plt.show()"
   ]
  },
  {
   "cell_type": "markdown",
   "metadata": {},
   "source": [
    "## Hard-thresholding"
   ]
  },
  {
   "cell_type": "code",
   "execution_count": 28,
   "metadata": {},
   "outputs": [
    {
     "data": {
      "image/png": "[encoded data removed]",
      "text/plain": [
       "<Figure size 900x600 with 1 Axes>"
      ]
     },
     "metadata": {},
     "output_type": "display_data"
    }
   ],
   "source": [
    "R_thresholds = np.linspace(0,1,100)\n",
    "r_sqrs = []\n",
    "k_power = 1\n",
    "    \n",
    "for threshold in R_thresholds:\n",
    "    samples = np.power(cosine_adj, k_power)\n",
    "    samples[(samples < threshold)] = 0\n",
    "#     samples = samples[(samples > threshold)]\n",
    "\n",
    "    cosine_adj_hist = np.histogram(samples, bins=100)\n",
    "    cosine_adj_hist_dist = scipy.stats.rv_histogram(cosine_adj_hist)\n",
    "    c = np.log10(samples)\n",
    "    d = np.log10(cosine_adj_hist_dist.pdf(samples))\n",
    "    \n",
    "    d_ = d[np.where(c != -np.inf)]\n",
    "    d_ = d_[np.where(d_ != -np.inf)]\n",
    "    c_ = c[np.where(d != -np.inf)]\n",
    "    c_ = c_[np.where(c_ != -np.inf)]\n",
    "    \n",
    "    r_sqr = scipy.stats.pearsonr(c_, d_)\n",
    "    r_sqr = r_sqr[0]*r_sqr[0]\n",
    "    r_sqrs.append(r_sqr)\n",
    "\n",
    "# print B[np.argmax(r_sqrs)]\n",
    "plt.figure(dpi=150)\n",
    "# plt.scatter(x=R_thresholds, y=r_sqrs, marker='.', c=\"black\")\n",
    "plt.plot(R_thresholds, r_sqrs, c=\"black\")\n",
    "plt.ylabel(\"R^2\")\n",
    "plt.xlabel(\"Cosine similarity thresholds\")\n",
    "plt.show()"
   ]
  },
  {
   "cell_type": "markdown",
   "metadata": {},
   "source": [
    "## Soft-thresholding"
   ]
  },
  {
   "cell_type": "code",
   "execution_count": 29,
   "metadata": {},
   "outputs": [
    {
     "data": {
      "image/png": "[encoded data removed]",
      "text/plain": [
       "<Figure size 900x600 with 1 Axes>"
      ]
     },
     "metadata": {},
     "output_type": "display_data"
    }
   ],
   "source": [
    "B = np.arange(1,15,0.25)\n",
    "r_sqrs = []\n",
    "\n",
    "for b in B:\n",
    "    k_power = b\n",
    "    samples = np.power(cosine_adj, k_power)\n",
    "    \n",
    "    cosine_adj_hist = np.histogram(samples, bins=200)\n",
    "    cosine_adj_hist_dist = scipy.stats.rv_histogram(cosine_adj_hist)\n",
    "    c = np.log10(samples)\n",
    "    d = np.log10(cosine_adj_hist_dist.pdf(samples))\n",
    "\n",
    "    d_ = d[np.where(c != -np.inf)]\n",
    "    d_ = d_[np.where(d_ != -np.inf)]\n",
    "    c_ = c[np.where(d != -np.inf)]\n",
    "    c_ = c_[np.where(c_ != -np.inf)]\n",
    "    \n",
    "    r_sqr = scipy.stats.pearsonr(c_, d_)\n",
    "    r_sqr = r_sqr[0]*r_sqr[0]\n",
    "    r_sqrs.append(r_sqr)\n",
    "\n",
    "# print B[np.argmax(r_sqrs)]\n",
    "plt.figure(dpi=150)\n",
    "plt.scatter(x=B, y=r_sqrs, marker='.', c=\"black\")\n",
    "plt.ylabel(\"R^2\")\n",
    "plt.xlabel(\"B power\")\n",
    "plt.show()"
   ]
  },
  {
   "cell_type": "code",
   "execution_count": 30,
   "metadata": {},
   "outputs": [
    {
     "name": "stdout",
     "output_type": "stream",
     "text": [
      "0.4\n"
     ]
    }
   ],
   "source": [
    "# threshold = np.percentile(np.power(cosine_adj,3), 60)\n",
    "threshold = 0.4\n",
    "print threshold"
   ]
  },
  {
   "cell_type": "code",
   "execution_count": 31,
   "metadata": {},
   "outputs": [
    {
     "name": "stdout",
     "output_type": "stream",
     "text": [
      "edges 31\n"
     ]
    }
   ],
   "source": [
    "k_power = 1\n",
    "cosine_adj_sq = scipy.spatial.distance.squareform(np.power(cosine_adj, k_power))\n",
    "cosine_adj_sq[np.where(cosine_adj_sq < threshold)] = 0\n",
    "m = nx.from_numpy_matrix(cosine_adj_sq, create_using=nx.Graph())\n",
    "m = nx.relabel_nodes(m, {index: miRNA for (index, miRNA) in enumerate(miRNAs_nodes)})\n",
    "print \"edges\", len(m.edges())"
   ]
  },
  {
   "cell_type": "code",
   "execution_count": 32,
   "metadata": {},
   "outputs": [
    {
     "name": "stdout",
     "output_type": "stream",
     "text": [
      "256\n",
      "non-isolate nodes 29\n"
     ]
    }
   ],
   "source": [
    "print len(set(m))\n",
    "m.remove_nodes_from(list(nx.isolates(m)))\n",
    "print \"non-isolate nodes\", len(set(m))\n",
    "layout = nx.spring_layout(m, \n",
    "                          weight='weight',\n",
    "                          k=10.1/np.sqrt(g.number_of_nodes()),\n",
    "                          iterations=50)"
   ]
  },
  {
   "cell_type": "code",
   "execution_count": 33,
   "metadata": {},
   "outputs": [],
   "source": [
    "from bokeh.models import ColumnDataSource\n",
    "\n",
    "nodes, nodes_coordinates = zip(*sorted(layout.items()))\n",
    "nodes_xs, nodes_ys = list(zip(*nodes_coordinates))\n",
    "nodes_source = ColumnDataSource(dict(x=nodes_xs, y=nodes_ys,\n",
    "                                     name=[n[4:] for n in nodes]))"
   ]
  },
  {
   "cell_type": "code",
   "execution_count": 34,
   "metadata": {},
   "outputs": [],
   "source": [
    "from bokeh.plotting import show, figure\n",
    "from bokeh.io import output_notebook\n",
    "from bokeh.layouts import widgetbox\n",
    "from bokeh.models import HoverTool, LabelSet\n",
    "from bokeh.models import Toggle, BoxAnnotation, CustomJS\n",
    "\n",
    "hover = HoverTool(tooltips=[('name', '@name')])\n",
    "plot = figure(plot_width=875, plot_height=700,\n",
    "              tools=['tap', hover, 'box_zoom', 'reset', 'pan'])\n",
    "r_circles = plot.circle('x', 'y', source=nodes_source, size=5,\n",
    "                        color='blue', level = 'overlay')\n",
    "hover.renderers.append(r_circles)\n",
    "\n",
    "plot.xgrid.grid_line_color = None\n",
    "plot.ygrid.grid_line_color = None\n",
    "\n",
    "# layout = bl([p], [toggle])\n",
    "# show(layout)"
   ]
  },
  {
   "cell_type": "code",
   "execution_count": 35,
   "metadata": {},
   "outputs": [],
   "source": [
    "def get_edges_specs(_network, _layout):\n",
    "    d = {'xs': [], 'ys': [], 'alphas': [], 'name': []}\n",
    "    weights = [data['weight'] for u, v, data in _network.edges(data=True)]\n",
    "    calc_alpha = lambda h: 0.1 + 0.9*h\n",
    "\n",
    "    for u, v, data in _network.edges(data=True):\n",
    "        d['xs'].append([_layout[u][0], _layout[v][0]])\n",
    "        d['ys'].append([_layout[u][1], _layout[v][1]])\n",
    "        d['alphas'].append(calc_alpha(data['weight']))\n",
    "        d['name'].append(str(u)+'<=>'+str(v))\n",
    "    return d\n",
    "\n",
    "lines_source = ColumnDataSource(get_edges_specs(m, layout))\n",
    "\n",
    "r_lines = plot.multi_line('xs', 'ys', line_width=1.5,\n",
    "                          alpha='alphas', color='black',\n",
    "                          source=lines_source)\n",
    "r_lines = plot.multi_line('xs', 'ys', line_width=1.5,\n",
    "                          alpha='alphas', color='black',\n",
    "                          source=lines_source)\n",
    "# show(plot)"
   ]
  },
  {
   "cell_type": "code",
   "execution_count": 36,
   "metadata": {},
   "outputs": [
    {
     "name": "stdout",
     "output_type": "stream",
     "text": [
      "[2 4 2 7 2 2 2 2 2 2 2] 11\n"
     ]
    }
   ],
   "source": [
    "centrality =\\\n",
    "    nx.algorithms.centrality.betweenness_centrality(m)\n",
    "# first element are nodes again\n",
    "_, nodes_centrality = zip(*sorted(centrality.items()))\n",
    "max_centrality = max(nodes_centrality)\n",
    "nodes_source.add([7 + 10 * t / max_centrality\n",
    "                  for t in nodes_centrality],\n",
    "                 'centrality')\n",
    "\n",
    "import community # python-louvain\n",
    "partition = community.best_partition(m, weight=\"weight\")\n",
    "p_, nodes_community = zip(*sorted(partition.items()))\n",
    "nodes_source.add(nodes_community, 'community')\n",
    "community_colors = ['#e41a1c','#377eb8','#4daf4a','#984ea3','#ff7f00','#ffff33','#a65628', '#b3cde3','#ccebc5','#decbe4','#fed9a6','#ffffcc','#e5d8bd','#fddaec','#1b9e77','#d95f02','#7570b3','#e7298a','#66a61e','#e6ab02','#a6761d','#666666']\n",
    "nodes_source.add([community_colors[t % len(community_colors)]\n",
    "                  for t in nodes_community],\n",
    "                 'community_color')\n",
    "\n",
    "print np.bincount(partition.values()), len(np.unique(partition.values()))"
   ]
  },
  {
   "cell_type": "code",
   "execution_count": 37,
   "metadata": {},
   "outputs": [
    {
     "data": {
      "text/html": [
       "\n",
       "    <div class=\"bk-root\">\n",
       "        <a href=\"https://bokeh.pydata.org\" target=\"_blank\" class=\"bk-logo bk-logo-small bk-logo-notebook\"></a>\n",
       "        <span id=\"1615cb07-520e-4ccf-b34d-68a9782b5998\">Loading BokehJS ...</span>\n",
       "    </div>"
      ]
     },
     "metadata": {},
     "output_type": "display_data"
    },
    {
     "data": {
      "application/javascript": [
       "\n",
       "(function(root) {\n",
       "  function now() {\n",
       "    return new Date();\n",
       "  }\n",
       "\n",
       "  var force = true;\n",
       "\n",
       "  if (typeof (root._bokeh_onload_callbacks) === \"undefined\" || force === true) {\n",
       "    root._bokeh_onload_callbacks = [];\n",
       "    root._bokeh_is_loading = undefined;\n",
       "  }\n",
       "\n",
       "  var JS_MIME_TYPE = 'application/javascript';\n",
       "  var HTML_MIME_TYPE = 'text/html';\n",
       "  var EXEC_MIME_TYPE = 'application/vnd.bokehjs_exec.v0+json';\n",
       "  var CLASS_NAME = 'output_bokeh rendered_html';\n",
       "\n",
       "  /**\n",
       "   * Render data to the DOM node\n",
       "   */\n",
       "  function render(props, node) {\n",
       "    var script = document.createElement(\"script\");\n",
       "    node.appendChild(script);\n",
       "  }\n",
       "\n",
       "  /**\n",
       "   * Handle when an output is cleared or removed\n",
       "   */\n",
       "  function handleClearOutput(event, handle) {\n",
       "    var cell = handle.cell;\n",
       "\n",
       "    var id = cell.output_area._bokeh_element_id;\n",
       "    var server_id = cell.output_area._bokeh_server_id;\n",
       "    // Clean up Bokeh references\n",
       "    if (id !== undefined) {\n",
       "      Bokeh.index[id].model.document.clear();\n",
       "      delete Bokeh.index[id];\n",
       "    }\n",
       "\n",
       "    if (server_id !== undefined) {\n",
       "      // Clean up Bokeh references\n",
       "      var cmd = \"from bokeh.io.state import curstate; print(curstate().uuid_to_server['\" + server_id + \"'].get_sessions()[0].document.roots[0]._id)\";\n",
       "      cell.notebook.kernel.execute(cmd, {\n",
       "        iopub: {\n",
       "          output: function(msg) {\n",
       "            var element_id = msg.content.text.trim();\n",
       "            Bokeh.index[element_id].model.document.clear();\n",
       "            delete Bokeh.index[element_id];\n",
       "          }\n",
       "        }\n",
       "      });\n",
       "      // Destroy server and session\n",
       "      var cmd = \"import bokeh.io.notebook as ion; ion.destroy_server('\" + server_id + \"')\";\n",
       "      cell.notebook.kernel.execute(cmd);\n",
       "    }\n",
       "  }\n",
       "\n",
       "  /**\n",
       "   * Handle when a new output is added\n",
       "   */\n",
       "  function handleAddOutput(event, handle) {\n",
       "    var output_area = handle.output_area;\n",
       "    var output = handle.output;\n",
       "\n",
       "    // limit handleAddOutput to display_data with EXEC_MIME_TYPE content only\n",
       "    if ((output.output_type != \"display_data\") || (!output.data.hasOwnProperty(EXEC_MIME_TYPE))) {\n",
       "      return\n",
       "    }\n",
       "\n",
       "    var toinsert = output_area.element.find(\".\" + CLASS_NAME.split(' ')[0]);\n",
       "\n",
       "    if (output.metadata[EXEC_MIME_TYPE][\"id\"] !== undefined) {\n",
       "      toinsert[0].firstChild.textContent = output.data[JS_MIME_TYPE];\n",
       "      // store reference to embed id on output_area\n",
       "      output_area._bokeh_element_id = output.metadata[EXEC_MIME_TYPE][\"id\"];\n",
       "    }\n",
       "    if (output.metadata[EXEC_MIME_TYPE][\"server_id\"] !== undefined) {\n",
       "      var bk_div = document.createElement(\"div\");\n",
       "      bk_div.innerHTML = output.data[HTML_MIME_TYPE];\n",
       "      var script_attrs = bk_div.children[0].attributes;\n",
       "      for (var i = 0; i < script_attrs.length; i++) {\n",
       "        toinsert[0].firstChild.setAttribute(script_attrs[i].name, script_attrs[i].value);\n",
       "      }\n",
       "      // store reference to server id on output_area\n",
       "      output_area._bokeh_server_id = output.metadata[EXEC_MIME_TYPE][\"server_id\"];\n",
       "    }\n",
       "  }\n",
       "\n",
       "  function register_renderer(events, OutputArea) {\n",
       "\n",
       "    function append_mime(data, metadata, element) {\n",
       "      // create a DOM node to render to\n",
       "      var toinsert = this.create_output_subarea(\n",
       "        metadata,\n",
       "        CLASS_NAME,\n",
       "        EXEC_MIME_TYPE\n",
       "      );\n",
       "      this.keyboard_manager.register_events(toinsert);\n",
       "      // Render to node\n",
       "      var props = {data: data, metadata: metadata[EXEC_MIME_TYPE]};\n",
       "      render(props, toinsert[0]);\n",
       "      element.append(toinsert);\n",
       "      return toinsert\n",
       "    }\n",
       "\n",
       "    /* Handle when an output is cleared or removed */\n",
       "    events.on('clear_output.CodeCell', handleClearOutput);\n",
       "    events.on('delete.Cell', handleClearOutput);\n",
       "\n",
       "    /* Handle when a new output is added */\n",
       "    events.on('output_added.OutputArea', handleAddOutput);\n",
       "\n",
       "    /**\n",
       "     * Register the mime type and append_mime function with output_area\n",
       "     */\n",
       "    OutputArea.prototype.register_mime_type(EXEC_MIME_TYPE, append_mime, {\n",
       "      /* Is output safe? */\n",
       "      safe: true,\n",
       "      /* Index of renderer in `output_area.display_order` */\n",
       "      index: 0\n",
       "    });\n",
       "  }\n",
       "\n",
       "  // register the mime type if in Jupyter Notebook environment and previously unregistered\n",
       "  if (root.Jupyter !== undefined) {\n",
       "    var events = require('base/js/events');\n",
       "    var OutputArea = require('notebook/js/outputarea').OutputArea;\n",
       "\n",
       "    if (OutputArea.prototype.mime_types().indexOf(EXEC_MIME_TYPE) == -1) {\n",
       "      register_renderer(events, OutputArea);\n",
       "    }\n",
       "  }\n",
       "\n",
       "  \n",
       "  if (typeof (root._bokeh_timeout) === \"undefined\" || force === true) {\n",
       "    root._bokeh_timeout = Date.now() + 5000;\n",
       "    root._bokeh_failed_load = false;\n",
       "  }\n",
       "\n",
       "  var NB_LOAD_WARNING = {'data': {'text/html':\n",
       "     \"<div style='background-color: #fdd'>\\n\"+\n",
       "     \"<p>\\n\"+\n",
       "     \"BokehJS does not appear to have successfully loaded. If loading BokehJS from CDN, this \\n\"+\n",
       "     \"may be due to a slow or bad network connection. Possible fixes:\\n\"+\n",
       "     \"</p>\\n\"+\n",
       "     \"<ul>\\n\"+\n",
       "     \"<li>re-rerun `output_notebook()` to attempt to load from CDN again, or</li>\\n\"+\n",
       "     \"<li>use INLINE resources instead, as so:</li>\\n\"+\n",
       "     \"</ul>\\n\"+\n",
       "     \"<code>\\n\"+\n",
       "     \"from bokeh.resources import INLINE\\n\"+\n",
       "     \"output_notebook(resources=INLINE)\\n\"+\n",
       "     \"</code>\\n\"+\n",
       "     \"</div>\"}};\n",
       "\n",
       "  function display_loaded() {\n",
       "    var el = document.getElementById(\"1615cb07-520e-4ccf-b34d-68a9782b5998\");\n",
       "    if (el != null) {\n",
       "      el.textContent = \"BokehJS is loading...\";\n",
       "    }\n",
       "    if (root.Bokeh !== undefined) {\n",
       "      if (el != null) {\n",
       "        el.textContent = \"BokehJS \" + root.Bokeh.version + \" successfully loaded.\";\n",
       "      }\n",
       "    } else if (Date.now() < root._bokeh_timeout) {\n",
       "      setTimeout(display_loaded, 100)\n",
       "    }\n",
       "  }\n",
       "\n",
       "\n",
       "  function run_callbacks() {\n",
       "    try {\n",
       "      root._bokeh_onload_callbacks.forEach(function(callback) { callback() });\n",
       "    }\n",
       "    finally {\n",
       "      delete root._bokeh_onload_callbacks\n",
       "    }\n",
       "    console.info(\"Bokeh: all callbacks have finished\");\n",
       "  }\n",
       "\n",
       "  function load_libs(js_urls, callback) {\n",
       "    root._bokeh_onload_callbacks.push(callback);\n",
       "    if (root._bokeh_is_loading > 0) {\n",
       "      console.log(\"Bokeh: BokehJS is being loaded, scheduling callback at\", now());\n",
       "      return null;\n",
       "    }\n",
       "    if (js_urls == null || js_urls.length === 0) {\n",
       "      run_callbacks();\n",
       "      return null;\n",
       "    }\n",
       "    console.log(\"Bokeh: BokehJS not loaded, scheduling load and callback at\", now());\n",
       "    root._bokeh_is_loading = js_urls.length;\n",
       "    for (var i = 0; i < js_urls.length; i++) {\n",
       "      var url = js_urls[i];\n",
       "      var s = document.createElement('script');\n",
       "      s.src = url;\n",
       "      s.async = false;\n",
       "      s.onreadystatechange = s.onload = function() {\n",
       "        root._bokeh_is_loading--;\n",
       "        if (root._bokeh_is_loading === 0) {\n",
       "          console.log(\"Bokeh: all BokehJS libraries loaded\");\n",
       "          run_callbacks()\n",
       "        }\n",
       "      };\n",
       "      s.onerror = function() {\n",
       "        console.warn(\"failed to load library \" + url);\n",
       "      };\n",
       "      console.log(\"Bokeh: injecting script tag for BokehJS library: \", url);\n",
       "      document.getElementsByTagName(\"head\")[0].appendChild(s);\n",
       "    }\n",
       "  };var element = document.getElementById(\"1615cb07-520e-4ccf-b34d-68a9782b5998\");\n",
       "  if (element == null) {\n",
       "    console.log(\"Bokeh: ERROR: autoload.js configured with elementid '1615cb07-520e-4ccf-b34d-68a9782b5998' but no matching script tag was found. \")\n",
       "    return false;\n",
       "  }\n",
       "\n",
       "  var js_urls = [\"https://cdn.pydata.org/bokeh/release/bokeh-0.12.14.min.js\", \"https://cdn.pydata.org/bokeh/release/bokeh-widgets-0.12.14.min.js\", \"https://cdn.pydata.org/bokeh/release/bokeh-tables-0.12.14.min.js\", \"https://cdn.pydata.org/bokeh/release/bokeh-gl-0.12.14.min.js\"];\n",
       "\n",
       "  var inline_js = [\n",
       "    function(Bokeh) {\n",
       "      Bokeh.set_log_level(\"info\");\n",
       "    },\n",
       "    \n",
       "    function(Bokeh) {\n",
       "      \n",
       "    },\n",
       "    function(Bokeh) {\n",
       "      console.log(\"Bokeh: injecting CSS: https://cdn.pydata.org/bokeh/release/bokeh-0.12.14.min.css\");\n",
       "      Bokeh.embed.inject_css(\"https://cdn.pydata.org/bokeh/release/bokeh-0.12.14.min.css\");\n",
       "      console.log(\"Bokeh: injecting CSS: https://cdn.pydata.org/bokeh/release/bokeh-widgets-0.12.14.min.css\");\n",
       "      Bokeh.embed.inject_css(\"https://cdn.pydata.org/bokeh/release/bokeh-widgets-0.12.14.min.css\");\n",
       "      console.log(\"Bokeh: injecting CSS: https://cdn.pydata.org/bokeh/release/bokeh-tables-0.12.14.min.css\");\n",
       "      Bokeh.embed.inject_css(\"https://cdn.pydata.org/bokeh/release/bokeh-tables-0.12.14.min.css\");\n",
       "    }\n",
       "  ];\n",
       "\n",
       "  function run_inline_js() {\n",
       "    \n",
       "    if ((root.Bokeh !== undefined) || (force === true)) {\n",
       "      for (var i = 0; i < inline_js.length; i++) {\n",
       "        inline_js[i].call(root, root.Bokeh);\n",
       "      }if (force === true) {\n",
       "        display_loaded();\n",
       "      }} else if (Date.now() < root._bokeh_timeout) {\n",
       "      setTimeout(run_inline_js, 100);\n",
       "    } else if (!root._bokeh_failed_load) {\n",
       "      console.log(\"Bokeh: BokehJS failed to load within specified timeout.\");\n",
       "      root._bokeh_failed_load = true;\n",
       "    } else if (force !== true) {\n",
       "      var cell = $(document.getElementById(\"1615cb07-520e-4ccf-b34d-68a9782b5998\")).parents('.cell').data().cell;\n",
       "      cell.output_area.append_execute_result(NB_LOAD_WARNING)\n",
       "    }\n",
       "\n",
       "  }\n",
       "\n",
       "  if (root._bokeh_is_loading === 0) {\n",
       "    console.log(\"Bokeh: BokehJS loaded, going straight to plotting\");\n",
       "    run_inline_js();\n",
       "  } else {\n",
       "    load_libs(js_urls, function() {\n",
       "      console.log(\"Bokeh: BokehJS plotting callback run at\", now());\n",
       "      run_inline_js();\n",
       "    });\n",
       "  }\n",
       "}(window));"
      ],
      "application/vnd.bokehjs_load.v0+json": "\n(function(root) {\n  function now() {\n    return new Date();\n  }\n\n  var force = true;\n\n  if (typeof (root._bokeh_onload_callbacks) === \"undefined\" || force === true) {\n    root._bokeh_onload_callbacks = [];\n    root._bokeh_is_loading = undefined;\n  }\n\n  \n\n  \n  if (typeof (root._bokeh_timeout) === \"undefined\" || force === true) {\n    root._bokeh_timeout = Date.now() + 5000;\n    root._bokeh_failed_load = false;\n  }\n\n  var NB_LOAD_WARNING = {'data': {'text/html':\n     \"<div style='background-color: #fdd'>\\n\"+\n     \"<p>\\n\"+\n     \"BokehJS does not appear to have successfully loaded. If loading BokehJS from CDN, this \\n\"+\n     \"may be due to a slow or bad network connection. Possible fixes:\\n\"+\n     \"</p>\\n\"+\n     \"<ul>\\n\"+\n     \"<li>re-rerun `output_notebook()` to attempt to load from CDN again, or</li>\\n\"+\n     \"<li>use INLINE resources instead, as so:</li>\\n\"+\n     \"</ul>\\n\"+\n     \"<code>\\n\"+\n     \"from bokeh.resources import INLINE\\n\"+\n     \"output_notebook(resources=INLINE)\\n\"+\n     \"</code>\\n\"+\n     \"</div>\"}};\n\n  function display_loaded() {\n    var el = document.getElementById(\"1615cb07-520e-4ccf-b34d-68a9782b5998\");\n    if (el != null) {\n      el.textContent = \"BokehJS is loading...\";\n    }\n    if (root.Bokeh !== undefined) {\n      if (el != null) {\n        el.textContent = \"BokehJS \" + root.Bokeh.version + \" successfully loaded.\";\n      }\n    } else if (Date.now() < root._bokeh_timeout) {\n      setTimeout(display_loaded, 100)\n    }\n  }\n\n\n  function run_callbacks() {\n    try {\n      root._bokeh_onload_callbacks.forEach(function(callback) { callback() });\n    }\n    finally {\n      delete root._bokeh_onload_callbacks\n    }\n    console.info(\"Bokeh: all callbacks have finished\");\n  }\n\n  function load_libs(js_urls, callback) {\n    root._bokeh_onload_callbacks.push(callback);\n    if (root._bokeh_is_loading > 0) {\n      console.log(\"Bokeh: BokehJS is being loaded, scheduling callback at\", now());\n      return null;\n    }\n    if (js_urls == null || js_urls.length === 0) {\n      run_callbacks();\n      return null;\n    }\n    console.log(\"Bokeh: BokehJS not loaded, scheduling load and callback at\", now());\n    root._bokeh_is_loading = js_urls.length;\n    for (var i = 0; i < js_urls.length; i++) {\n      var url = js_urls[i];\n      var s = document.createElement('script');\n      s.src = url;\n      s.async = false;\n      s.onreadystatechange = s.onload = function() {\n        root._bokeh_is_loading--;\n        if (root._bokeh_is_loading === 0) {\n          console.log(\"Bokeh: all BokehJS libraries loaded\");\n          run_callbacks()\n        }\n      };\n      s.onerror = function() {\n        console.warn(\"failed to load library \" + url);\n      };\n      console.log(\"Bokeh: injecting script tag for BokehJS library: \", url);\n      document.getElementsByTagName(\"head\")[0].appendChild(s);\n    }\n  };var element = document.getElementById(\"1615cb07-520e-4ccf-b34d-68a9782b5998\");\n  if (element == null) {\n    console.log(\"Bokeh: ERROR: autoload.js configured with elementid '1615cb07-520e-4ccf-b34d-68a9782b5998' but no matching script tag was found. \")\n    return false;\n  }\n\n  var js_urls = [\"https://cdn.pydata.org/bokeh/release/bokeh-0.12.14.min.js\", \"https://cdn.pydata.org/bokeh/release/bokeh-widgets-0.12.14.min.js\", \"https://cdn.pydata.org/bokeh/release/bokeh-tables-0.12.14.min.js\", \"https://cdn.pydata.org/bokeh/release/bokeh-gl-0.12.14.min.js\"];\n\n  var inline_js = [\n    function(Bokeh) {\n      Bokeh.set_log_level(\"info\");\n    },\n    \n    function(Bokeh) {\n      \n    },\n    function(Bokeh) {\n      console.log(\"Bokeh: injecting CSS: https://cdn.pydata.org/bokeh/release/bokeh-0.12.14.min.css\");\n      Bokeh.embed.inject_css(\"https://cdn.pydata.org/bokeh/release/bokeh-0.12.14.min.css\");\n      console.log(\"Bokeh: injecting CSS: https://cdn.pydata.org/bokeh/release/bokeh-widgets-0.12.14.min.css\");\n      Bokeh.embed.inject_css(\"https://cdn.pydata.org/bokeh/release/bokeh-widgets-0.12.14.min.css\");\n      console.log(\"Bokeh: injecting CSS: https://cdn.pydata.org/bokeh/release/bokeh-tables-0.12.14.min.css\");\n      Bokeh.embed.inject_css(\"https://cdn.pydata.org/bokeh/release/bokeh-tables-0.12.14.min.css\");\n    }\n  ];\n\n  function run_inline_js() {\n    \n    if ((root.Bokeh !== undefined) || (force === true)) {\n      for (var i = 0; i < inline_js.length; i++) {\n        inline_js[i].call(root, root.Bokeh);\n      }if (force === true) {\n        display_loaded();\n      }} else if (Date.now() < root._bokeh_timeout) {\n      setTimeout(run_inline_js, 100);\n    } else if (!root._bokeh_failed_load) {\n      console.log(\"Bokeh: BokehJS failed to load within specified timeout.\");\n      root._bokeh_failed_load = true;\n    } else if (force !== true) {\n      var cell = $(document.getElementById(\"1615cb07-520e-4ccf-b34d-68a9782b5998\")).parents('.cell').data().cell;\n      cell.output_area.append_execute_result(NB_LOAD_WARNING)\n    }\n\n  }\n\n  if (root._bokeh_is_loading === 0) {\n    console.log(\"Bokeh: BokehJS loaded, going straight to plotting\");\n    run_inline_js();\n  } else {\n    load_libs(js_urls, function() {\n      console.log(\"Bokeh: BokehJS plotting callback run at\", now());\n      run_inline_js();\n    });\n  }\n}(window));"
     },
     "metadata": {},
     "output_type": "display_data"
    },
    {
     "data": {
      "text/html": [
       "\n",
       "<div class=\"bk-root\">\n",
       "    <div class=\"bk-plotdiv\" id=\"0fb06d2b-76ae-4d75-aa4f-2b44b2f32b81\"></div>\n",
       "</div>"
      ]
     },
     "metadata": {},
     "output_type": "display_data"
    },
    {
     "data": {
      "application/javascript": [
       "(function(root) {\n",
       "  function embed_document(root) {\n",
       "    \n",
       "  var docs_json = {\"65a055ed-eb71-4fc5-b3f5-5597784233ea\":{\"roots\":{\"references\":[{\"attributes\":{\"plot\":{\"id\":\"a68c25a3-4e1b-4a54-975c-467e248e7499\",\"subtype\":\"Figure\",\"type\":\"Plot\"},\"source\":{\"id\":\"e05905d8-86c0-4757-b8ab-ea8fdcc3bea3\",\"type\":\"ColumnDataSource\"},\"text\":{\"field\":\"name\"},\"text_align\":\"center\",\"text_color\":{\"value\":\"navy\"},\"text_font_size\":{\"value\":\"8pt\"},\"x\":{\"field\":\"x\"},\"y\":{\"field\":\"y\"}},\"id\":\"b7aae6f2-19e0-4387-8e37-d9ffda33c65a\",\"type\":\"LabelSet\"},{\"attributes\":{},\"id\":\"211736b1-e613-4113-9eca-5ee5b193d64b\",\"type\":\"LinearScale\"},{\"attributes\":{\"fill_color\":{\"field\":\"community_color\"},\"line_color\":{\"value\":\"blue\"},\"size\":{\"field\":\"centrality\",\"units\":\"screen\"},\"x\":{\"field\":\"x\"},\"y\":{\"field\":\"y\"}},\"id\":\"d01eeba1-9585-48cc-a7cc-7284334413d3\",\"type\":\"Circle\"},{\"attributes\":{\"formatter\":{\"id\":\"bd72837d-de17-41e5-a21f-cd80c848ce4f\",\"type\":\"BasicTickFormatter\"},\"plot\":{\"id\":\"a68c25a3-4e1b-4a54-975c-467e248e7499\",\"subtype\":\"Figure\",\"type\":\"Plot\"},\"ticker\":{\"id\":\"287b7559-c255-485a-b6d0-bc5fcd9d6a5b\",\"type\":\"BasicTicker\"}},\"id\":\"34c5e5dc-7ca3-4830-8c98-b911ae4b1bf3\",\"type\":\"LinearAxis\"},{\"attributes\":{\"overlay\":{\"id\":\"007b82b6-df8b-49cd-adcf-3eaeaeb5d454\",\"type\":\"BoxAnnotation\"}},\"id\":\"8e5470c5-35ac-4437-94ab-3ff19d848975\",\"type\":\"BoxZoomTool\"},{\"attributes\":{\"line_alpha\":{\"field\":\"alphas\"},\"line_width\":{\"value\":1.5},\"xs\":{\"field\":\"xs\"},\"ys\":{\"field\":\"ys\"}},\"id\":\"fffdd4ae-13e4-4bd8-9877-aa17b38ba988\",\"type\":\"MultiLine\"},{\"attributes\":{},\"id\":\"bd72837d-de17-41e5-a21f-cd80c848ce4f\",\"type\":\"BasicTickFormatter\"},{\"attributes\":{\"callback\":null,\"column_names\":[\"xs\",\"ys\",\"name\",\"alphas\"],\"data\":{\"alphas\":[0.4803843197300758,0.5051355539829933,0.5447799175780274,0.5257568128174711,0.5952235304444325,0.5212949083776425,0.4814678796884966,0.6604957465112457,0.5274443311164696,0.7261119433875457,0.656607522854828,0.6884615384615385,0.6235064622757662,0.6899493475161352,0.655206048367056,0.5654168414617441,0.7190432000129465,0.6896602206560791,0.6713468450716559,0.48999983405056824,0.6533629884521022,0.5557186548459117,0.6330913279969049,0.9953963892475506,0.6918409778670754,0.4882450529003146,0.7155421417578843,0.6254131560680961,0.7406327477562782,0.6272433334850025,0.48682107216634574],\"name\":[\"hsa-mir-373<=>hsa-mir-520a\",\"hsa-mir-373<=>hsa-mir-520e\",\"hsa-mir-373<=>hsa-mir-372\",\"hsa-mir-373<=>hsa-mir-520b\",\"hsa-mir-373<=>hsa-mir-520d\",\"hsa-mir-372<=>hsa-mir-520d\",\"hsa-mir-29c<=>hsa-mir-29a\",\"hsa-mir-20a<=>hsa-mir-17\",\"hsa-mir-181c<=>hsa-mir-181d\",\"hsa-mir-520a<=>hsa-mir-520b\",\"hsa-mir-520a<=>hsa-mir-520e\",\"hsa-mir-520a<=>hsa-mir-520d\",\"hsa-mir-520a<=>hsa-mir-520c\",\"hsa-mir-520c<=>hsa-mir-520b\",\"hsa-mir-520c<=>hsa-mir-520e\",\"hsa-mir-520c<=>hsa-mir-520d\",\"hsa-mir-520b<=>hsa-mir-520e\",\"hsa-mir-520b<=>hsa-mir-520d\",\"hsa-mir-520e<=>hsa-mir-520d\",\"hsa-mir-195<=>hsa-mir-497\",\"hsa-mir-302a<=>hsa-mir-302d\",\"hsa-mir-302a<=>hsa-mir-302c\",\"hsa-mir-302a<=>hsa-mir-302b\",\"hsa-mir-365a<=>hsa-mir-365b\",\"hsa-mir-200b<=>hsa-mir-429\",\"hsa-mir-130b<=>hsa-mir-301b\",\"hsa-mir-129-1<=>hsa-mir-129-2\",\"hsa-mir-302d<=>hsa-mir-302c\",\"hsa-mir-302d<=>hsa-mir-302b\",\"hsa-mir-302b<=>hsa-mir-302c\",\"hsa-mir-222<=>hsa-mir-221\"],\"xs\":[[-0.17609093785238344,-0.11882096117921065],[-0.17609093785238344,-0.14454452702529869],[-0.17609093785238344,-0.22055309730034164],[-0.17609093785238344,-0.13393007399665688],[-0.17609093785238344,-0.163092079680025],[-0.22055309730034164,-0.163092079680025],[-0.12628327423062888,-0.16298721149002618],[0.214903569316352,0.22033393827477343],[0.9732262378700054,1.0],[-0.11882096117921065,-0.13393007399665688],[-0.11882096117921065,-0.14454452702529869],[-0.11882096117921065,-0.163092079680025],[-0.11882096117921065,-0.11161682421224571],[-0.11161682421224571,-0.13393007399665688],[-0.11161682421224571,-0.14454452702529869],[-0.11161682421224571,-0.163092079680025],[-0.13393007399665688,-0.14454452702529869],[-0.13393007399665688,-0.163092079680025],[-0.14454452702529869,-0.163092079680025],[0.14494732816337202,0.1598951696398206],[0.20920562011888275,0.17537629860560333],[0.20920562011888275,0.2150033978764677],[0.20920562011888275,0.18196134673259168],[-0.7841592895465826,-0.7595026929636932],[0.8338505064943709,0.8121287884159145],[-0.7412320667825661,-0.7914859787184229],[0.42825885788229257,0.44512924429234096],[0.17537629860560333,0.2150033978764677],[0.17537629860560333,0.18196134673259168],[0.18196134673259168,0.2150033978764677],[-0.7915309891355409,-0.7883902995691648]],\"ys\":[[0.09001611834455149,0.07031304576029691],[0.09001611834455149,0.04183442183173309],[0.09001611834455149,0.0838815262132273],[0.09001611834455149,0.08476392210467205],[0.09001611834455149,0.06401788126809768],[0.0838815262132273,0.06401788126809768],[-0.6552890265698955,-0.6801016927151753],[0.5581376125730919,0.6001586569496975],[0.18496591296292522,0.15194798787173133],[0.07031304576029691,0.08476392210467205],[0.07031304576029691,0.04183442183173309],[0.07031304576029691,0.06401788126809768],[0.07031304576029691,0.04419440011069108],[0.04419440011069108,0.08476392210467205],[0.04419440011069108,0.04183442183173309],[0.04419440011069108,0.06401788126809768],[0.08476392210467205,0.04183442183173309],[0.08476392210467205,0.06401788126809768],[0.04183442183173309,0.06401788126809768],[-0.8731023561440642,-0.9212299178362655],[-0.22472588291664283,-0.2145204653851763],[-0.22472588291664283,-0.1887967103752634],[-0.22472588291664283,-0.18392055089523784],[-0.8549890126116437,-0.8772120561698658],[0.7000225799870093,0.7313570193469022],[0.20470452642157985,0.21063352296236826],[0.24039757838079706,0.2739880446984328],[-0.2145204653851763,-0.1887967103752634],[-0.2145204653851763,-0.18392055089523784],[-0.18392055089523784,-0.1887967103752634],[0.6911789727527203,0.6473739410787046]]}},\"id\":\"37770eca-3396-484d-b2f1-8aeb5a35297c\",\"type\":\"ColumnDataSource\"},{\"attributes\":{\"line_alpha\":{\"value\":0.1},\"line_color\":{\"value\":\"#1f77b4\"},\"line_width\":{\"value\":1.5},\"xs\":{\"field\":\"xs\"},\"ys\":{\"field\":\"ys\"}},\"id\":\"f3cf5116-51ba-40ce-830b-a0b1f4d34eef\",\"type\":\"MultiLine\"},{\"attributes\":{\"line_alpha\":{\"value\":0.1},\"line_color\":{\"value\":\"#1f77b4\"},\"line_width\":{\"value\":1.5},\"xs\":{\"field\":\"xs\"},\"ys\":{\"field\":\"ys\"}},\"id\":\"3d69125d-93ef-422b-9c34-90afc6979083\",\"type\":\"MultiLine\"},{\"attributes\":{\"formatter\":{\"id\":\"5b342d80-f65a-4c6f-a3b4-a4a2de3ef0fd\",\"type\":\"BasicTickFormatter\"},\"plot\":{\"id\":\"a68c25a3-4e1b-4a54-975c-467e248e7499\",\"subtype\":\"Figure\",\"type\":\"Plot\"},\"ticker\":{\"id\":\"19dfdef6-c477-48b8-a9ff-16026db3a5d7\",\"type\":\"BasicTicker\"}},\"id\":\"2df73711-2e1c-4337-9808-2fe7f6f059b6\",\"type\":\"LinearAxis\"},{\"attributes\":{\"callback\":null,\"column_names\":[\"y\",\"x\",\"name\",\"centrality\",\"community\",\"community_color\"],\"data\":{\"centrality\":[7.0,7.0,7.0,7.0,7.0,7.0,7.0,7.0,7.0,7.0,7.0,7.0,7.0,7.0,7.0,7.0,7.0,7.0,7.0,7.0,7.0,12.454545454545453,7.0,7.0,7.909090909090909,7.909090909090909,7.0,17.0,7.909090909090909],\"community\":[6,6,10,0,8,8,9,5,0,2,2,7,7,10,1,1,1,1,4,4,3,3,5,9,3,3,3,3,3],\"community_color\":[\"#a65628\",\"#a65628\",\"#fed9a6\",\"#e41a1c\",\"#ccebc5\",\"#ccebc5\",\"#decbe4\",\"#ffff33\",\"#e41a1c\",\"#4daf4a\",\"#4daf4a\",\"#b3cde3\",\"#b3cde3\",\"#fed9a6\",\"#377eb8\",\"#377eb8\",\"#377eb8\",\"#377eb8\",\"#ff7f00\",\"#ff7f00\",\"#984ea3\",\"#984ea3\",\"#ffff33\",\"#decbe4\",\"#984ea3\",\"#984ea3\",\"#984ea3\",\"#984ea3\",\"#984ea3\"],\"name\":[\"mir-129-1\",\"mir-129-2\",\"mir-130b\",\"mir-17\",\"mir-181c\",\"mir-181d\",\"mir-195\",\"mir-200b\",\"mir-20a\",\"mir-221\",\"mir-222\",\"mir-29a\",\"mir-29c\",\"mir-301b\",\"mir-302a\",\"mir-302b\",\"mir-302c\",\"mir-302d\",\"mir-365a\",\"mir-365b\",\"mir-372\",\"mir-373\",\"mir-429\",\"mir-497\",\"mir-520a\",\"mir-520b\",\"mir-520c\",\"mir-520d\",\"mir-520e\"],\"x\":[0.42825885788229257,0.44512924429234096,-0.7412320667825661,0.22033393827477343,0.9732262378700054,1.0,0.14494732816337202,0.8338505064943709,0.214903569316352,-0.7883902995691648,-0.7915309891355409,-0.16298721149002618,-0.12628327423062888,-0.7914859787184229,0.20920562011888275,0.18196134673259168,0.2150033978764677,0.17537629860560333,-0.7841592895465826,-0.7595026929636932,-0.22055309730034164,-0.17609093785238344,0.8121287884159145,0.1598951696398206,-0.11882096117921065,-0.13393007399665688,-0.11161682421224571,-0.163092079680025,-0.14454452702529869],\"y\":[0.24039757838079706,0.2739880446984328,0.20470452642157985,0.6001586569496975,0.18496591296292522,0.15194798787173133,-0.8731023561440642,0.7000225799870093,0.5581376125730919,0.6473739410787046,0.6911789727527203,-0.6801016927151753,-0.6552890265698955,0.21063352296236826,-0.22472588291664283,-0.18392055089523784,-0.1887967103752634,-0.2145204653851763,-0.8549890126116437,-0.8772120561698658,0.0838815262132273,0.09001611834455149,0.7313570193469022,-0.9212299178362655,0.07031304576029691,0.08476392210467205,0.04419440011069108,0.06401788126809768,0.04183442183173309]}},\"id\":\"e05905d8-86c0-4757-b8ab-ea8fdcc3bea3\",\"type\":\"ColumnDataSource\"},{\"attributes\":{\"grid_line_color\":{\"value\":null},\"plot\":{\"id\":\"a68c25a3-4e1b-4a54-975c-467e248e7499\",\"subtype\":\"Figure\",\"type\":\"Plot\"},\"ticker\":{\"id\":\"19dfdef6-c477-48b8-a9ff-16026db3a5d7\",\"type\":\"BasicTicker\"}},\"id\":\"c810d67a-efe1-4d61-9ac0-b215f5c6faf1\",\"type\":\"Grid\"},{\"attributes\":{\"dimension\":1,\"grid_line_color\":{\"value\":null},\"plot\":{\"id\":\"a68c25a3-4e1b-4a54-975c-467e248e7499\",\"subtype\":\"Figure\",\"type\":\"Plot\"},\"ticker\":{\"id\":\"287b7559-c255-485a-b6d0-bc5fcd9d6a5b\",\"type\":\"BasicTicker\"}},\"id\":\"2bd6e7b0-d1ec-4d3e-981a-ab21012abfc9\",\"type\":\"Grid\"},{\"attributes\":{\"active_drag\":\"auto\",\"active_inspect\":\"auto\",\"active_scroll\":\"auto\",\"active_tap\":\"auto\",\"tools\":[{\"id\":\"b2b9502f-187d-461e-b5c6-8feee7cd1506\",\"type\":\"HoverTool\"},{\"id\":\"6e6be932-caa6-4fc1-9381-910adecdc081\",\"type\":\"TapTool\"},{\"id\":\"8e5470c5-35ac-4437-94ab-3ff19d848975\",\"type\":\"BoxZoomTool\"},{\"id\":\"11603b6a-0c5b-4a84-80c5-02b4c0c2f8e1\",\"type\":\"ResetTool\"},{\"id\":\"e4c88df0-f4b4-400f-979b-d3afa3a1dc4a\",\"type\":\"PanTool\"}]},\"id\":\"ac64238d-0462-4860-9c9f-9494a02af0ed\",\"type\":\"Toolbar\"},{\"attributes\":{},\"id\":\"11603b6a-0c5b-4a84-80c5-02b4c0c2f8e1\",\"type\":\"ResetTool\"},{\"attributes\":{\"callback\":null},\"id\":\"6e6be932-caa6-4fc1-9381-910adecdc081\",\"type\":\"TapTool\"},{\"attributes\":{\"data_source\":{\"id\":\"37770eca-3396-484d-b2f1-8aeb5a35297c\",\"type\":\"ColumnDataSource\"},\"glyph\":{\"id\":\"fffdd4ae-13e4-4bd8-9877-aa17b38ba988\",\"type\":\"MultiLine\"},\"hover_glyph\":null,\"muted_glyph\":null,\"nonselection_glyph\":{\"id\":\"f3cf5116-51ba-40ce-830b-a0b1f4d34eef\",\"type\":\"MultiLine\"},\"selection_glyph\":null,\"view\":{\"id\":\"977bd811-6802-4f34-a821-ce4698bac03c\",\"type\":\"CDSView\"}},\"id\":\"633a05ae-e6b7-42f8-8abf-55114d092c09\",\"type\":\"GlyphRenderer\"},{\"attributes\":{\"data_source\":{\"id\":\"37770eca-3396-484d-b2f1-8aeb5a35297c\",\"type\":\"ColumnDataSource\"},\"glyph\":{\"id\":\"5a678fb8-c708-4ee2-839e-2f7297cfc413\",\"type\":\"MultiLine\"},\"hover_glyph\":null,\"muted_glyph\":null,\"nonselection_glyph\":{\"id\":\"3d69125d-93ef-422b-9c34-90afc6979083\",\"type\":\"MultiLine\"},\"selection_glyph\":null,\"view\":{\"id\":\"bf7c95dd-1999-4b5d-82fe-f4b98ffcf593\",\"type\":\"CDSView\"}},\"id\":\"b9266889-37ed-46cd-8bff-4a0cc4d7f063\",\"type\":\"GlyphRenderer\"},{\"attributes\":{\"callback\":null,\"renderers\":[{\"id\":\"39a63ae9-8b2c-4716-bf6d-84de0388bf22\",\"type\":\"GlyphRenderer\"}],\"tooltips\":[[\"name\",\"@name\"]]},\"id\":\"b2b9502f-187d-461e-b5c6-8feee7cd1506\",\"type\":\"HoverTool\"},{\"attributes\":{\"bottom_units\":\"screen\",\"fill_alpha\":{\"value\":0.5},\"fill_color\":{\"value\":\"lightgrey\"},\"left_units\":\"screen\",\"level\":\"overlay\",\"line_alpha\":{\"value\":1.0},\"line_color\":{\"value\":\"black\"},\"line_dash\":[4,4],\"line_width\":{\"value\":2},\"plot\":null,\"render_mode\":\"css\",\"right_units\":\"screen\",\"top_units\":\"screen\"},\"id\":\"007b82b6-df8b-49cd-adcf-3eaeaeb5d454\",\"type\":\"BoxAnnotation\"},{\"attributes\":{\"callback\":null},\"id\":\"7b95f6df-78e1-45e6-9482-908a3596c654\",\"type\":\"DataRange1d\"},{\"attributes\":{},\"id\":\"287b7559-c255-485a-b6d0-bc5fcd9d6a5b\",\"type\":\"BasicTicker\"},{\"attributes\":{\"fill_alpha\":{\"value\":0.1},\"fill_color\":{\"value\":\"#1f77b4\"},\"line_alpha\":{\"value\":0.1},\"line_color\":{\"value\":\"#1f77b4\"},\"size\":{\"units\":\"screen\",\"value\":5},\"x\":{\"field\":\"x\"},\"y\":{\"field\":\"y\"}},\"id\":\"148d405d-d292-4870-9773-b154fe1ab1c8\",\"type\":\"Circle\"},{\"attributes\":{},\"id\":\"e4c88df0-f4b4-400f-979b-d3afa3a1dc4a\",\"type\":\"PanTool\"},{\"attributes\":{\"plot\":null,\"text\":\"\"},\"id\":\"3581ef49-89a0-4705-8603-7ab740a84c6a\",\"type\":\"Title\"},{\"attributes\":{\"data_source\":{\"id\":\"e05905d8-86c0-4757-b8ab-ea8fdcc3bea3\",\"type\":\"ColumnDataSource\"},\"glyph\":{\"id\":\"d01eeba1-9585-48cc-a7cc-7284334413d3\",\"type\":\"Circle\"},\"hover_glyph\":null,\"level\":\"overlay\",\"muted_glyph\":null,\"nonselection_glyph\":{\"id\":\"148d405d-d292-4870-9773-b154fe1ab1c8\",\"type\":\"Circle\"},\"selection_glyph\":null,\"view\":{\"id\":\"8af7dc6a-139e-48c4-ae4b-473dfc6c2421\",\"type\":\"CDSView\"}},\"id\":\"39a63ae9-8b2c-4716-bf6d-84de0388bf22\",\"type\":\"GlyphRenderer\"},{\"attributes\":{},\"id\":\"b9fbe0ee-77c5-48d3-b52a-7ee3678af73e\",\"type\":\"LinearScale\"},{\"attributes\":{},\"id\":\"5b342d80-f65a-4c6f-a3b4-a4a2de3ef0fd\",\"type\":\"BasicTickFormatter\"},{\"attributes\":{\"source\":{\"id\":\"37770eca-3396-484d-b2f1-8aeb5a35297c\",\"type\":\"ColumnDataSource\"}},\"id\":\"977bd811-6802-4f34-a821-ce4698bac03c\",\"type\":\"CDSView\"},{\"attributes\":{\"below\":[{\"id\":\"2df73711-2e1c-4337-9808-2fe7f6f059b6\",\"type\":\"LinearAxis\"}],\"left\":[{\"id\":\"34c5e5dc-7ca3-4830-8c98-b911ae4b1bf3\",\"type\":\"LinearAxis\"}],\"plot_height\":700,\"plot_width\":875,\"renderers\":[{\"id\":\"2df73711-2e1c-4337-9808-2fe7f6f059b6\",\"type\":\"LinearAxis\"},{\"id\":\"c810d67a-efe1-4d61-9ac0-b215f5c6faf1\",\"type\":\"Grid\"},{\"id\":\"34c5e5dc-7ca3-4830-8c98-b911ae4b1bf3\",\"type\":\"LinearAxis\"},{\"id\":\"2bd6e7b0-d1ec-4d3e-981a-ab21012abfc9\",\"type\":\"Grid\"},{\"id\":\"007b82b6-df8b-49cd-adcf-3eaeaeb5d454\",\"type\":\"BoxAnnotation\"},{\"id\":\"39a63ae9-8b2c-4716-bf6d-84de0388bf22\",\"type\":\"GlyphRenderer\"},{\"id\":\"b9266889-37ed-46cd-8bff-4a0cc4d7f063\",\"type\":\"GlyphRenderer\"},{\"id\":\"633a05ae-e6b7-42f8-8abf-55114d092c09\",\"type\":\"GlyphRenderer\"},{\"id\":\"b7aae6f2-19e0-4387-8e37-d9ffda33c65a\",\"type\":\"LabelSet\"}],\"title\":{\"id\":\"3581ef49-89a0-4705-8603-7ab740a84c6a\",\"type\":\"Title\"},\"toolbar\":{\"id\":\"ac64238d-0462-4860-9c9f-9494a02af0ed\",\"type\":\"Toolbar\"},\"x_range\":{\"id\":\"219ffe4e-1e96-4d21-bbcb-9ce8a2908f7c\",\"type\":\"DataRange1d\"},\"x_scale\":{\"id\":\"211736b1-e613-4113-9eca-5ee5b193d64b\",\"type\":\"LinearScale\"},\"y_range\":{\"id\":\"7b95f6df-78e1-45e6-9482-908a3596c654\",\"type\":\"DataRange1d\"},\"y_scale\":{\"id\":\"b9fbe0ee-77c5-48d3-b52a-7ee3678af73e\",\"type\":\"LinearScale\"}},\"id\":\"a68c25a3-4e1b-4a54-975c-467e248e7499\",\"subtype\":\"Figure\",\"type\":\"Plot\"},{\"attributes\":{\"line_alpha\":{\"field\":\"alphas\"},\"line_width\":{\"value\":1.5},\"xs\":{\"field\":\"xs\"},\"ys\":{\"field\":\"ys\"}},\"id\":\"5a678fb8-c708-4ee2-839e-2f7297cfc413\",\"type\":\"MultiLine\"},{\"attributes\":{\"callback\":null},\"id\":\"219ffe4e-1e96-4d21-bbcb-9ce8a2908f7c\",\"type\":\"DataRange1d\"},{\"attributes\":{\"source\":{\"id\":\"37770eca-3396-484d-b2f1-8aeb5a35297c\",\"type\":\"ColumnDataSource\"}},\"id\":\"bf7c95dd-1999-4b5d-82fe-f4b98ffcf593\",\"type\":\"CDSView\"},{\"attributes\":{\"source\":{\"id\":\"e05905d8-86c0-4757-b8ab-ea8fdcc3bea3\",\"type\":\"ColumnDataSource\"}},\"id\":\"8af7dc6a-139e-48c4-ae4b-473dfc6c2421\",\"type\":\"CDSView\"},{\"attributes\":{},\"id\":\"19dfdef6-c477-48b8-a9ff-16026db3a5d7\",\"type\":\"BasicTicker\"}],\"root_ids\":[\"a68c25a3-4e1b-4a54-975c-467e248e7499\"]},\"title\":\"Bokeh Application\",\"version\":\"0.12.14\"}};\n",
       "  var render_items = [{\"docid\":\"65a055ed-eb71-4fc5-b3f5-5597784233ea\",\"elementid\":\"0fb06d2b-76ae-4d75-aa4f-2b44b2f32b81\",\"modelid\":\"a68c25a3-4e1b-4a54-975c-467e248e7499\"}];\n",
       "  root.Bokeh.embed.embed_items_notebook(docs_json, render_items);\n",
       "\n",
       "  }\n",
       "  if (root.Bokeh !== undefined) {\n",
       "    embed_document(root);\n",
       "  } else {\n",
       "    var attempts = 0;\n",
       "    var timer = setInterval(function(root) {\n",
       "      if (root.Bokeh !== undefined) {\n",
       "        embed_document(root);\n",
       "        clearInterval(timer);\n",
       "      }\n",
       "      attempts++;\n",
       "      if (attempts > 100) {\n",
       "        console.log(\"Bokeh: ERROR: Unable to run BokehJS code because BokehJS library is missing\")\n",
       "        clearInterval(timer);\n",
       "      }\n",
       "    }, 10, root)\n",
       "  }\n",
       "})(window);"
      ],
      "application/vnd.bokehjs_exec.v0+json": ""
     },
     "metadata": {
      "application/vnd.bokehjs_exec.v0+json": {
       "id": "a68c25a3-4e1b-4a54-975c-467e248e7499"
      }
     },
     "output_type": "display_data"
    },
    {
     "data": {
      "text/html": [
       "\n",
       "<div class=\"bk-root\">\n",
       "    <div class=\"bk-plotdiv\" id=\"a5985960-ec49-4098-bf27-ecd761cbf012\"></div>\n",
       "</div>"
      ]
     },
     "metadata": {},
     "output_type": "display_data"
    },
    {
     "data": {
      "application/javascript": [
       "(function(root) {\n",
       "  function embed_document(root) {\n",
       "    \n",
       "  var docs_json = {\"844f03f3-40ca-4718-be88-acca3bac5022\":{\"roots\":{\"references\":[{\"attributes\":{\"plot\":{\"id\":\"a68c25a3-4e1b-4a54-975c-467e248e7499\",\"subtype\":\"Figure\",\"type\":\"Plot\"},\"source\":{\"id\":\"e05905d8-86c0-4757-b8ab-ea8fdcc3bea3\",\"type\":\"ColumnDataSource\"},\"text\":{\"field\":\"name\"},\"text_align\":\"center\",\"text_color\":{\"value\":\"navy\"},\"text_font_size\":{\"value\":\"8pt\"},\"x\":{\"field\":\"x\"},\"y\":{\"field\":\"y\"}},\"id\":\"b7aae6f2-19e0-4387-8e37-d9ffda33c65a\",\"type\":\"LabelSet\"},{\"attributes\":{},\"id\":\"211736b1-e613-4113-9eca-5ee5b193d64b\",\"type\":\"LinearScale\"},{\"attributes\":{\"fill_color\":{\"field\":\"community_color\"},\"line_color\":{\"value\":\"blue\"},\"size\":{\"field\":\"centrality\",\"units\":\"screen\"},\"x\":{\"field\":\"x\"},\"y\":{\"field\":\"y\"}},\"id\":\"d01eeba1-9585-48cc-a7cc-7284334413d3\",\"type\":\"Circle\"},{\"attributes\":{\"formatter\":{\"id\":\"bd72837d-de17-41e5-a21f-cd80c848ce4f\",\"type\":\"BasicTickFormatter\"},\"plot\":{\"id\":\"a68c25a3-4e1b-4a54-975c-467e248e7499\",\"subtype\":\"Figure\",\"type\":\"Plot\"},\"ticker\":{\"id\":\"287b7559-c255-485a-b6d0-bc5fcd9d6a5b\",\"type\":\"BasicTicker\"}},\"id\":\"34c5e5dc-7ca3-4830-8c98-b911ae4b1bf3\",\"type\":\"LinearAxis\"},{\"attributes\":{\"overlay\":{\"id\":\"007b82b6-df8b-49cd-adcf-3eaeaeb5d454\",\"type\":\"BoxAnnotation\"}},\"id\":\"8e5470c5-35ac-4437-94ab-3ff19d848975\",\"type\":\"BoxZoomTool\"},{\"attributes\":{\"line_alpha\":{\"field\":\"alphas\"},\"line_width\":{\"value\":1.5},\"xs\":{\"field\":\"xs\"},\"ys\":{\"field\":\"ys\"}},\"id\":\"fffdd4ae-13e4-4bd8-9877-aa17b38ba988\",\"type\":\"MultiLine\"},{\"attributes\":{},\"id\":\"bd72837d-de17-41e5-a21f-cd80c848ce4f\",\"type\":\"BasicTickFormatter\"},{\"attributes\":{\"callback\":null,\"column_names\":[\"xs\",\"ys\",\"name\",\"alphas\"],\"data\":{\"alphas\":[0.4803843197300758,0.5051355539829933,0.5447799175780274,0.5257568128174711,0.5952235304444325,0.5212949083776425,0.4814678796884966,0.6604957465112457,0.5274443311164696,0.7261119433875457,0.656607522854828,0.6884615384615385,0.6235064622757662,0.6899493475161352,0.655206048367056,0.5654168414617441,0.7190432000129465,0.6896602206560791,0.6713468450716559,0.48999983405056824,0.6533629884521022,0.5557186548459117,0.6330913279969049,0.9953963892475506,0.6918409778670754,0.4882450529003146,0.7155421417578843,0.6254131560680961,0.7406327477562782,0.6272433334850025,0.48682107216634574],\"name\":[\"hsa-mir-373<=>hsa-mir-520a\",\"hsa-mir-373<=>hsa-mir-520e\",\"hsa-mir-373<=>hsa-mir-372\",\"hsa-mir-373<=>hsa-mir-520b\",\"hsa-mir-373<=>hsa-mir-520d\",\"hsa-mir-372<=>hsa-mir-520d\",\"hsa-mir-29c<=>hsa-mir-29a\",\"hsa-mir-20a<=>hsa-mir-17\",\"hsa-mir-181c<=>hsa-mir-181d\",\"hsa-mir-520a<=>hsa-mir-520b\",\"hsa-mir-520a<=>hsa-mir-520e\",\"hsa-mir-520a<=>hsa-mir-520d\",\"hsa-mir-520a<=>hsa-mir-520c\",\"hsa-mir-520c<=>hsa-mir-520b\",\"hsa-mir-520c<=>hsa-mir-520e\",\"hsa-mir-520c<=>hsa-mir-520d\",\"hsa-mir-520b<=>hsa-mir-520e\",\"hsa-mir-520b<=>hsa-mir-520d\",\"hsa-mir-520e<=>hsa-mir-520d\",\"hsa-mir-195<=>hsa-mir-497\",\"hsa-mir-302a<=>hsa-mir-302d\",\"hsa-mir-302a<=>hsa-mir-302c\",\"hsa-mir-302a<=>hsa-mir-302b\",\"hsa-mir-365a<=>hsa-mir-365b\",\"hsa-mir-200b<=>hsa-mir-429\",\"hsa-mir-130b<=>hsa-mir-301b\",\"hsa-mir-129-1<=>hsa-mir-129-2\",\"hsa-mir-302d<=>hsa-mir-302c\",\"hsa-mir-302d<=>hsa-mir-302b\",\"hsa-mir-302b<=>hsa-mir-302c\",\"hsa-mir-222<=>hsa-mir-221\"],\"xs\":[[-0.17609093785238344,-0.11882096117921065],[-0.17609093785238344,-0.14454452702529869],[-0.17609093785238344,-0.22055309730034164],[-0.17609093785238344,-0.13393007399665688],[-0.17609093785238344,-0.163092079680025],[-0.22055309730034164,-0.163092079680025],[-0.12628327423062888,-0.16298721149002618],[0.214903569316352,0.22033393827477343],[0.9732262378700054,1.0],[-0.11882096117921065,-0.13393007399665688],[-0.11882096117921065,-0.14454452702529869],[-0.11882096117921065,-0.163092079680025],[-0.11882096117921065,-0.11161682421224571],[-0.11161682421224571,-0.13393007399665688],[-0.11161682421224571,-0.14454452702529869],[-0.11161682421224571,-0.163092079680025],[-0.13393007399665688,-0.14454452702529869],[-0.13393007399665688,-0.163092079680025],[-0.14454452702529869,-0.163092079680025],[0.14494732816337202,0.1598951696398206],[0.20920562011888275,0.17537629860560333],[0.20920562011888275,0.2150033978764677],[0.20920562011888275,0.18196134673259168],[-0.7841592895465826,-0.7595026929636932],[0.8338505064943709,0.8121287884159145],[-0.7412320667825661,-0.7914859787184229],[0.42825885788229257,0.44512924429234096],[0.17537629860560333,0.2150033978764677],[0.17537629860560333,0.18196134673259168],[0.18196134673259168,0.2150033978764677],[-0.7915309891355409,-0.7883902995691648]],\"ys\":[[0.09001611834455149,0.07031304576029691],[0.09001611834455149,0.04183442183173309],[0.09001611834455149,0.0838815262132273],[0.09001611834455149,0.08476392210467205],[0.09001611834455149,0.06401788126809768],[0.0838815262132273,0.06401788126809768],[-0.6552890265698955,-0.6801016927151753],[0.5581376125730919,0.6001586569496975],[0.18496591296292522,0.15194798787173133],[0.07031304576029691,0.08476392210467205],[0.07031304576029691,0.04183442183173309],[0.07031304576029691,0.06401788126809768],[0.07031304576029691,0.04419440011069108],[0.04419440011069108,0.08476392210467205],[0.04419440011069108,0.04183442183173309],[0.04419440011069108,0.06401788126809768],[0.08476392210467205,0.04183442183173309],[0.08476392210467205,0.06401788126809768],[0.04183442183173309,0.06401788126809768],[-0.8731023561440642,-0.9212299178362655],[-0.22472588291664283,-0.2145204653851763],[-0.22472588291664283,-0.1887967103752634],[-0.22472588291664283,-0.18392055089523784],[-0.8549890126116437,-0.8772120561698658],[0.7000225799870093,0.7313570193469022],[0.20470452642157985,0.21063352296236826],[0.24039757838079706,0.2739880446984328],[-0.2145204653851763,-0.1887967103752634],[-0.2145204653851763,-0.18392055089523784],[-0.18392055089523784,-0.1887967103752634],[0.6911789727527203,0.6473739410787046]]}},\"id\":\"37770eca-3396-484d-b2f1-8aeb5a35297c\",\"type\":\"ColumnDataSource\"},{\"attributes\":{\"button_type\":\"success\",\"callback\":{\"id\":\"af8cf678-9535-48ca-85e2-ffab8ec2e52f\",\"type\":\"CustomJS\"},\"icon\":null,\"label\":\"Toggle miRNA label\"},\"id\":\"c09d604e-c0f4-4285-8c36-14e2fff02f6c\",\"type\":\"Toggle\"},{\"attributes\":{\"line_alpha\":{\"value\":0.1},\"line_color\":{\"value\":\"#1f77b4\"},\"line_width\":{\"value\":1.5},\"xs\":{\"field\":\"xs\"},\"ys\":{\"field\":\"ys\"}},\"id\":\"f3cf5116-51ba-40ce-830b-a0b1f4d34eef\",\"type\":\"MultiLine\"},{\"attributes\":{\"line_alpha\":{\"value\":0.1},\"line_color\":{\"value\":\"#1f77b4\"},\"line_width\":{\"value\":1.5},\"xs\":{\"field\":\"xs\"},\"ys\":{\"field\":\"ys\"}},\"id\":\"3d69125d-93ef-422b-9c34-90afc6979083\",\"type\":\"MultiLine\"},{\"attributes\":{\"formatter\":{\"id\":\"5b342d80-f65a-4c6f-a3b4-a4a2de3ef0fd\",\"type\":\"BasicTickFormatter\"},\"plot\":{\"id\":\"a68c25a3-4e1b-4a54-975c-467e248e7499\",\"subtype\":\"Figure\",\"type\":\"Plot\"},\"ticker\":{\"id\":\"19dfdef6-c477-48b8-a9ff-16026db3a5d7\",\"type\":\"BasicTicker\"}},\"id\":\"2df73711-2e1c-4337-9808-2fe7f6f059b6\",\"type\":\"LinearAxis\"},{\"attributes\":{\"callback\":null,\"column_names\":[\"y\",\"x\",\"name\",\"centrality\",\"community\",\"community_color\"],\"data\":{\"centrality\":[7.0,7.0,7.0,7.0,7.0,7.0,7.0,7.0,7.0,7.0,7.0,7.0,7.0,7.0,7.0,7.0,7.0,7.0,7.0,7.0,7.0,12.454545454545453,7.0,7.0,7.909090909090909,7.909090909090909,7.0,17.0,7.909090909090909],\"community\":[6,6,10,0,8,8,9,5,0,2,2,7,7,10,1,1,1,1,4,4,3,3,5,9,3,3,3,3,3],\"community_color\":[\"#a65628\",\"#a65628\",\"#fed9a6\",\"#e41a1c\",\"#ccebc5\",\"#ccebc5\",\"#decbe4\",\"#ffff33\",\"#e41a1c\",\"#4daf4a\",\"#4daf4a\",\"#b3cde3\",\"#b3cde3\",\"#fed9a6\",\"#377eb8\",\"#377eb8\",\"#377eb8\",\"#377eb8\",\"#ff7f00\",\"#ff7f00\",\"#984ea3\",\"#984ea3\",\"#ffff33\",\"#decbe4\",\"#984ea3\",\"#984ea3\",\"#984ea3\",\"#984ea3\",\"#984ea3\"],\"name\":[\"mir-129-1\",\"mir-129-2\",\"mir-130b\",\"mir-17\",\"mir-181c\",\"mir-181d\",\"mir-195\",\"mir-200b\",\"mir-20a\",\"mir-221\",\"mir-222\",\"mir-29a\",\"mir-29c\",\"mir-301b\",\"mir-302a\",\"mir-302b\",\"mir-302c\",\"mir-302d\",\"mir-365a\",\"mir-365b\",\"mir-372\",\"mir-373\",\"mir-429\",\"mir-497\",\"mir-520a\",\"mir-520b\",\"mir-520c\",\"mir-520d\",\"mir-520e\"],\"x\":[0.42825885788229257,0.44512924429234096,-0.7412320667825661,0.22033393827477343,0.9732262378700054,1.0,0.14494732816337202,0.8338505064943709,0.214903569316352,-0.7883902995691648,-0.7915309891355409,-0.16298721149002618,-0.12628327423062888,-0.7914859787184229,0.20920562011888275,0.18196134673259168,0.2150033978764677,0.17537629860560333,-0.7841592895465826,-0.7595026929636932,-0.22055309730034164,-0.17609093785238344,0.8121287884159145,0.1598951696398206,-0.11882096117921065,-0.13393007399665688,-0.11161682421224571,-0.163092079680025,-0.14454452702529869],\"y\":[0.24039757838079706,0.2739880446984328,0.20470452642157985,0.6001586569496975,0.18496591296292522,0.15194798787173133,-0.8731023561440642,0.7000225799870093,0.5581376125730919,0.6473739410787046,0.6911789727527203,-0.6801016927151753,-0.6552890265698955,0.21063352296236826,-0.22472588291664283,-0.18392055089523784,-0.1887967103752634,-0.2145204653851763,-0.8549890126116437,-0.8772120561698658,0.0838815262132273,0.09001611834455149,0.7313570193469022,-0.9212299178362655,0.07031304576029691,0.08476392210467205,0.04419440011069108,0.06401788126809768,0.04183442183173309]}},\"id\":\"e05905d8-86c0-4757-b8ab-ea8fdcc3bea3\",\"type\":\"ColumnDataSource\"},{\"attributes\":{\"grid_line_color\":{\"value\":null},\"plot\":{\"id\":\"a68c25a3-4e1b-4a54-975c-467e248e7499\",\"subtype\":\"Figure\",\"type\":\"Plot\"},\"ticker\":{\"id\":\"19dfdef6-c477-48b8-a9ff-16026db3a5d7\",\"type\":\"BasicTicker\"}},\"id\":\"c810d67a-efe1-4d61-9ac0-b215f5c6faf1\",\"type\":\"Grid\"},{\"attributes\":{\"dimension\":1,\"grid_line_color\":{\"value\":null},\"plot\":{\"id\":\"a68c25a3-4e1b-4a54-975c-467e248e7499\",\"subtype\":\"Figure\",\"type\":\"Plot\"},\"ticker\":{\"id\":\"287b7559-c255-485a-b6d0-bc5fcd9d6a5b\",\"type\":\"BasicTicker\"}},\"id\":\"2bd6e7b0-d1ec-4d3e-981a-ab21012abfc9\",\"type\":\"Grid\"},{\"attributes\":{\"active_drag\":\"auto\",\"active_inspect\":\"auto\",\"active_scroll\":\"auto\",\"active_tap\":\"auto\",\"tools\":[{\"id\":\"b2b9502f-187d-461e-b5c6-8feee7cd1506\",\"type\":\"HoverTool\"},{\"id\":\"6e6be932-caa6-4fc1-9381-910adecdc081\",\"type\":\"TapTool\"},{\"id\":\"8e5470c5-35ac-4437-94ab-3ff19d848975\",\"type\":\"BoxZoomTool\"},{\"id\":\"11603b6a-0c5b-4a84-80c5-02b4c0c2f8e1\",\"type\":\"ResetTool\"},{\"id\":\"e4c88df0-f4b4-400f-979b-d3afa3a1dc4a\",\"type\":\"PanTool\"}]},\"id\":\"ac64238d-0462-4860-9c9f-9494a02af0ed\",\"type\":\"Toolbar\"},{\"attributes\":{},\"id\":\"11603b6a-0c5b-4a84-80c5-02b4c0c2f8e1\",\"type\":\"ResetTool\"},{\"attributes\":{\"callback\":null},\"id\":\"6e6be932-caa6-4fc1-9381-910adecdc081\",\"type\":\"TapTool\"},{\"attributes\":{\"args\":{\"labels\":{\"id\":\"b7aae6f2-19e0-4387-8e37-d9ffda33c65a\",\"type\":\"LabelSet\"},\"toggle\":{\"id\":\"c09d604e-c0f4-4285-8c36-14e2fff02f6c\",\"type\":\"Toggle\"}},\"code\":\"if (toggle.active) {\\n    labels.visible = true;\\n    console.log('enabling box');\\n}\\nelse {\\n    labels.visible = false;\\n    console.log('disabling box');\\n}\\n\"},\"id\":\"af8cf678-9535-48ca-85e2-ffab8ec2e52f\",\"type\":\"CustomJS\"},{\"attributes\":{\"data_source\":{\"id\":\"37770eca-3396-484d-b2f1-8aeb5a35297c\",\"type\":\"ColumnDataSource\"},\"glyph\":{\"id\":\"5a678fb8-c708-4ee2-839e-2f7297cfc413\",\"type\":\"MultiLine\"},\"hover_glyph\":null,\"muted_glyph\":null,\"nonselection_glyph\":{\"id\":\"3d69125d-93ef-422b-9c34-90afc6979083\",\"type\":\"MultiLine\"},\"selection_glyph\":null,\"view\":{\"id\":\"bf7c95dd-1999-4b5d-82fe-f4b98ffcf593\",\"type\":\"CDSView\"}},\"id\":\"b9266889-37ed-46cd-8bff-4a0cc4d7f063\",\"type\":\"GlyphRenderer\"},{\"attributes\":{},\"id\":\"287b7559-c255-485a-b6d0-bc5fcd9d6a5b\",\"type\":\"BasicTicker\"},{\"attributes\":{\"callback\":null,\"renderers\":[{\"id\":\"39a63ae9-8b2c-4716-bf6d-84de0388bf22\",\"type\":\"GlyphRenderer\"}],\"tooltips\":[[\"name\",\"@name\"]]},\"id\":\"b2b9502f-187d-461e-b5c6-8feee7cd1506\",\"type\":\"HoverTool\"},{\"attributes\":{\"bottom_units\":\"screen\",\"fill_alpha\":{\"value\":0.5},\"fill_color\":{\"value\":\"lightgrey\"},\"left_units\":\"screen\",\"level\":\"overlay\",\"line_alpha\":{\"value\":1.0},\"line_color\":{\"value\":\"black\"},\"line_dash\":[4,4],\"line_width\":{\"value\":2},\"plot\":null,\"render_mode\":\"css\",\"right_units\":\"screen\",\"top_units\":\"screen\"},\"id\":\"007b82b6-df8b-49cd-adcf-3eaeaeb5d454\",\"type\":\"BoxAnnotation\"},{\"attributes\":{\"callback\":null},\"id\":\"7b95f6df-78e1-45e6-9482-908a3596c654\",\"type\":\"DataRange1d\"},{\"attributes\":{\"fill_alpha\":{\"value\":0.1},\"fill_color\":{\"value\":\"#1f77b4\"},\"line_alpha\":{\"value\":0.1},\"line_color\":{\"value\":\"#1f77b4\"},\"size\":{\"units\":\"screen\",\"value\":5},\"x\":{\"field\":\"x\"},\"y\":{\"field\":\"y\"}},\"id\":\"148d405d-d292-4870-9773-b154fe1ab1c8\",\"type\":\"Circle\"},{\"attributes\":{},\"id\":\"e4c88df0-f4b4-400f-979b-d3afa3a1dc4a\",\"type\":\"PanTool\"},{\"attributes\":{\"plot\":null,\"text\":\"\"},\"id\":\"3581ef49-89a0-4705-8603-7ab740a84c6a\",\"type\":\"Title\"},{\"attributes\":{\"data_source\":{\"id\":\"e05905d8-86c0-4757-b8ab-ea8fdcc3bea3\",\"type\":\"ColumnDataSource\"},\"glyph\":{\"id\":\"d01eeba1-9585-48cc-a7cc-7284334413d3\",\"type\":\"Circle\"},\"hover_glyph\":null,\"level\":\"overlay\",\"muted_glyph\":null,\"nonselection_glyph\":{\"id\":\"148d405d-d292-4870-9773-b154fe1ab1c8\",\"type\":\"Circle\"},\"selection_glyph\":null,\"view\":{\"id\":\"8af7dc6a-139e-48c4-ae4b-473dfc6c2421\",\"type\":\"CDSView\"}},\"id\":\"39a63ae9-8b2c-4716-bf6d-84de0388bf22\",\"type\":\"GlyphRenderer\"},{\"attributes\":{},\"id\":\"b9fbe0ee-77c5-48d3-b52a-7ee3678af73e\",\"type\":\"LinearScale\"},{\"attributes\":{\"data_source\":{\"id\":\"37770eca-3396-484d-b2f1-8aeb5a35297c\",\"type\":\"ColumnDataSource\"},\"glyph\":{\"id\":\"fffdd4ae-13e4-4bd8-9877-aa17b38ba988\",\"type\":\"MultiLine\"},\"hover_glyph\":null,\"muted_glyph\":null,\"nonselection_glyph\":{\"id\":\"f3cf5116-51ba-40ce-830b-a0b1f4d34eef\",\"type\":\"MultiLine\"},\"selection_glyph\":null,\"view\":{\"id\":\"977bd811-6802-4f34-a821-ce4698bac03c\",\"type\":\"CDSView\"}},\"id\":\"633a05ae-e6b7-42f8-8abf-55114d092c09\",\"type\":\"GlyphRenderer\"},{\"attributes\":{},\"id\":\"5b342d80-f65a-4c6f-a3b4-a4a2de3ef0fd\",\"type\":\"BasicTickFormatter\"},{\"attributes\":{\"source\":{\"id\":\"37770eca-3396-484d-b2f1-8aeb5a35297c\",\"type\":\"ColumnDataSource\"}},\"id\":\"977bd811-6802-4f34-a821-ce4698bac03c\",\"type\":\"CDSView\"},{\"attributes\":{\"below\":[{\"id\":\"2df73711-2e1c-4337-9808-2fe7f6f059b6\",\"type\":\"LinearAxis\"}],\"left\":[{\"id\":\"34c5e5dc-7ca3-4830-8c98-b911ae4b1bf3\",\"type\":\"LinearAxis\"}],\"plot_height\":700,\"plot_width\":875,\"renderers\":[{\"id\":\"2df73711-2e1c-4337-9808-2fe7f6f059b6\",\"type\":\"LinearAxis\"},{\"id\":\"c810d67a-efe1-4d61-9ac0-b215f5c6faf1\",\"type\":\"Grid\"},{\"id\":\"34c5e5dc-7ca3-4830-8c98-b911ae4b1bf3\",\"type\":\"LinearAxis\"},{\"id\":\"2bd6e7b0-d1ec-4d3e-981a-ab21012abfc9\",\"type\":\"Grid\"},{\"id\":\"007b82b6-df8b-49cd-adcf-3eaeaeb5d454\",\"type\":\"BoxAnnotation\"},{\"id\":\"39a63ae9-8b2c-4716-bf6d-84de0388bf22\",\"type\":\"GlyphRenderer\"},{\"id\":\"b9266889-37ed-46cd-8bff-4a0cc4d7f063\",\"type\":\"GlyphRenderer\"},{\"id\":\"633a05ae-e6b7-42f8-8abf-55114d092c09\",\"type\":\"GlyphRenderer\"},{\"id\":\"b7aae6f2-19e0-4387-8e37-d9ffda33c65a\",\"type\":\"LabelSet\"}],\"title\":{\"id\":\"3581ef49-89a0-4705-8603-7ab740a84c6a\",\"type\":\"Title\"},\"toolbar\":{\"id\":\"ac64238d-0462-4860-9c9f-9494a02af0ed\",\"type\":\"Toolbar\"},\"x_range\":{\"id\":\"219ffe4e-1e96-4d21-bbcb-9ce8a2908f7c\",\"type\":\"DataRange1d\"},\"x_scale\":{\"id\":\"211736b1-e613-4113-9eca-5ee5b193d64b\",\"type\":\"LinearScale\"},\"y_range\":{\"id\":\"7b95f6df-78e1-45e6-9482-908a3596c654\",\"type\":\"DataRange1d\"},\"y_scale\":{\"id\":\"b9fbe0ee-77c5-48d3-b52a-7ee3678af73e\",\"type\":\"LinearScale\"}},\"id\":\"a68c25a3-4e1b-4a54-975c-467e248e7499\",\"subtype\":\"Figure\",\"type\":\"Plot\"},{\"attributes\":{\"line_alpha\":{\"field\":\"alphas\"},\"line_width\":{\"value\":1.5},\"xs\":{\"field\":\"xs\"},\"ys\":{\"field\":\"ys\"}},\"id\":\"5a678fb8-c708-4ee2-839e-2f7297cfc413\",\"type\":\"MultiLine\"},{\"attributes\":{\"callback\":null},\"id\":\"219ffe4e-1e96-4d21-bbcb-9ce8a2908f7c\",\"type\":\"DataRange1d\"},{\"attributes\":{\"source\":{\"id\":\"37770eca-3396-484d-b2f1-8aeb5a35297c\",\"type\":\"ColumnDataSource\"}},\"id\":\"bf7c95dd-1999-4b5d-82fe-f4b98ffcf593\",\"type\":\"CDSView\"},{\"attributes\":{\"source\":{\"id\":\"e05905d8-86c0-4757-b8ab-ea8fdcc3bea3\",\"type\":\"ColumnDataSource\"}},\"id\":\"8af7dc6a-139e-48c4-ae4b-473dfc6c2421\",\"type\":\"CDSView\"},{\"attributes\":{},\"id\":\"19dfdef6-c477-48b8-a9ff-16026db3a5d7\",\"type\":\"BasicTicker\"}],\"root_ids\":[\"c09d604e-c0f4-4285-8c36-14e2fff02f6c\"]},\"title\":\"Bokeh Application\",\"version\":\"0.12.14\"}};\n",
       "  var render_items = [{\"docid\":\"844f03f3-40ca-4718-be88-acca3bac5022\",\"elementid\":\"a5985960-ec49-4098-bf27-ecd761cbf012\",\"modelid\":\"c09d604e-c0f4-4285-8c36-14e2fff02f6c\"}];\n",
       "  root.Bokeh.embed.embed_items_notebook(docs_json, render_items);\n",
       "\n",
       "  }\n",
       "  if (root.Bokeh !== undefined) {\n",
       "    embed_document(root);\n",
       "  } else {\n",
       "    var attempts = 0;\n",
       "    var timer = setInterval(function(root) {\n",
       "      if (root.Bokeh !== undefined) {\n",
       "        embed_document(root);\n",
       "        clearInterval(timer);\n",
       "      }\n",
       "      attempts++;\n",
       "      if (attempts > 100) {\n",
       "        console.log(\"Bokeh: ERROR: Unable to run BokehJS code because BokehJS library is missing\")\n",
       "        clearInterval(timer);\n",
       "      }\n",
       "    }, 10, root)\n",
       "  }\n",
       "})(window);"
      ],
      "application/vnd.bokehjs_exec.v0+json": ""
     },
     "metadata": {
      "application/vnd.bokehjs_exec.v0+json": {
       "id": "c09d604e-c0f4-4285-8c36-14e2fff02f6c"
      }
     },
     "output_type": "display_data"
    }
   ],
   "source": [
    "from bokeh.io import output_notebook, show\n",
    "output_notebook()\n",
    "\n",
    "r_circles.glyph.size = 'centrality'\n",
    "r_circles.glyph.fill_color = 'community_color'\n",
    "\n",
    "proc_labels = LabelSet(x='x', y='y', text=\"name\", \n",
    "                       text_font_size=\"8pt\", text_color=\"navy\",\n",
    "                       source=nodes_source, text_align='center')\n",
    "\n",
    "plot.add_layout(proc_labels)\n",
    "\n",
    "code = '''\\\n",
    "if toggle.active\n",
    "    labels.visible = true\n",
    "    console.log 'enabling box'\n",
    "else\n",
    "    labels.visible = false\n",
    "    console.log 'disabling box'\n",
    "'''\n",
    "callback = CustomJS.from_coffeescript(code=code, args={})\n",
    "toggle = Toggle(label=\"Toggle miRNA label\", button_type=\"success\", callback=callback)\n",
    "callback.args = {'toggle': toggle, 'labels': proc_labels}\n",
    "\n",
    "show(plot)\n",
    "show(toggle)"
   ]
  },
  {
   "cell_type": "markdown",
   "metadata": {},
   "source": [
    "## Multi-clusters analysis with rand index"
   ]
  },
  {
   "cell_type": "code",
   "execution_count": 38,
   "metadata": {
    "scrolled": true
   },
   "outputs": [
    {
     "name": "stdout",
     "output_type": "stream",
     "text": [
      "mirnas 235\n",
      "targets 9392\n",
      "edges 28892\n",
      "edges after threshold: 11325\n",
      "mirnas 247\n",
      "targets 8649\n",
      "edges 21307\n",
      "edges after threshold: 8612\n",
      "mirnas 250\n",
      "targets 7109\n",
      "edges 14154\n",
      "edges after threshold: 7336\n",
      "mirnas 247\n",
      "targets 7987\n",
      "edges 17712\n",
      "edges after threshold: 7091\n",
      "mirnas 242\n",
      "targets 6794\n",
      "edges 13976\n",
      "edges after threshold: 5819\n",
      "mirnas 247\n",
      "targets 8424\n",
      "edges 21301\n",
      "edges after threshold: 7381\n",
      "mirnas 248\n",
      "targets 7999\n",
      "edges 19074\n",
      "edges after threshold: 6846\n",
      "mirnas 256\n",
      "targets 46906\n",
      "edges 107494\n",
      "edges after threshold: 8350\n"
     ]
    }
   ],
   "source": [
    "tn_partition = network_norm_tumor.get_miRNA_community_assgn(threshold=0.01, power=1)\n",
    "\n",
    "sc_partition = network_subtype_sc.get_miRNA_community_assgn(threshold=0.01, power=1)\n",
    "cb_partition = network_subtype_cb.get_miRNA_community_assgn(threshold=0.01, power=1)\n",
    "sb_partition = network_subtype_sb.get_miRNA_community_assgn(threshold=0.01, power=1)\n",
    "sp_partition = network_subtype_sp.get_miRNA_community_assgn(threshold=0.01, power=1)\n",
    "cp_partition = network_subtype_cp.get_miRNA_community_assgn(threshold=0.01, power=1)\n",
    "bp_partition = network_subtype_bp.get_miRNA_community_assgn(threshold=0.01, power=1)\n",
    "\n",
    "com_partition = network_subtypes_combined.get_miRNA_community_assgn(threshold=0.01, power=1)"
   ]
  },
  {
   "cell_type": "code",
   "execution_count": 39,
   "metadata": {},
   "outputs": [
    {
     "name": "stdout",
     "output_type": "stream",
     "text": [
      "[[1.0, 0.2370252421667425, 0.4422398441186664, 0.2235098041226937, 0.19399505545760928, 0.20013127985549511, 0.287495677907918, 0.19349079225828852, 0.5121716725405835], [0.2370252421667425, 1.0, 0.23651307969927907, 0.24639217306993655, 0.24467728380751322, 0.23875353023894344, 0.290980848561054, 0.24311682293743458, 0.504719425613527], [0.4422398441186664, 0.23651307969927907, 1.0, 0.26610326717931326, 0.1955916067014776, 0.18735657787566923, 0.313037309794171, 0.1705491472608447, 0.528427751869081], [0.2235098041226937, 0.24639217306993655, 0.26610326717931326, 1.0, 0.3483149798647212, 0.36684415832480816, 0.4371790673807312, 0.1988240032829028, 0.5131102750616091], [0.19399505545760926, 0.24467728380751322, 0.1955916067014776, 0.3483149798647212, 1.0, 0.5564558345937165, 0.482274801792817, 0.1785260419748345, 0.4853669519022005], [0.20013127985549514, 0.23875353023894338, 0.18735657787566923, 0.36684415832480816, 0.5564558345937165, 1.0, 0.4388270509565779, 0.1563314804589875, 0.4884583574573606], [0.287495677907918, 0.290980848561054, 0.313037309794171, 0.4371790673807312, 0.482274801792817, 0.4388270509565779, 1.0, 0.2491049339855893, 0.5299285957287618], [0.19349079225828858, 0.2431168229374346, 0.17054914726084472, 0.19882400328290276, 0.1785260419748345, 0.15633148045898745, 0.24910493398558928, 1.0, 0.5213932530461598], [0.5121716725405835, 0.504719425613527, 0.528427751869081, 0.5131102750616091, 0.48536695190220047, 0.4884583574573606, 0.5299285957287618, 0.5213932530461597, 1.0]]\n"
     ]
    }
   ],
   "source": [
    "from sklearn import metrics\n",
    "from src.models.miRNA_target_network import miRNATargetNetwork\n",
    "\n",
    "partitions = {\"Secretory vs Classical\":miRNATargetNetwork.group_assg_list(sc_partition, lusc_data.MIR.get_genes_list()),\n",
    "             \"Classical vs Basal\":miRNATargetNetwork.group_assg_list(cb_partition, lusc_data.MIR.get_genes_list()),\n",
    "             \"Secretory vs Basal\":miRNATargetNetwork.group_assg_list(sb_partition, lusc_data.MIR.get_genes_list()),\n",
    "             \"Secretory vs Primitive\":miRNATargetNetwork.group_assg_list(sp_partition, lusc_data.MIR.get_genes_list()),\n",
    "             \"Classical vs Primitive\":miRNATargetNetwork.group_assg_list(cp_partition, lusc_data.MIR.get_genes_list()),\n",
    "             \"Basal vs Primitive\":miRNATargetNetwork.group_assg_list(bp_partition, lusc_data.MIR.get_genes_list()),\n",
    "             \"combined\":miRNATargetNetwork.group_assg_list(com_partition, lusc_data.MIR.get_genes_list()),\n",
    "             \"tumor vs normal\":miRNATargetNetwork.group_assg_list(tn_partition, lusc_data.MIR.get_genes_list()),\n",
    "             \"miRNA family\":target_scan.get_miRNA_family_group_assg()}\n",
    "# keys = partitions.keys()\n",
    "keys = ['Secretory vs Classical', 'Classical vs Basal', 'Secretory vs Basal', 'Secretory vs Primitive', 'Classical vs Primitive',\n",
    "        'Basal vs Primitive', \"combined\", 'tumor vs normal', 'miRNA family']\n",
    "\n",
    "m = []\n",
    "for p in keys:\n",
    "    n = []\n",
    "    for q in keys:\n",
    "        n.append(miRNATargetNetwork.cluster_similarity(partitions[p], partitions[q], metric=\"nmi\"))\n",
    "    m.append(n)\n",
    "#         if p < q:\n",
    "#             print p,\"vs\", q,\"\\t\", miRNATargetNetwork.cluster_similarity(partitions[p], partitions[q], metric=\"rand\")\n",
    "print m\n",
    "m = np.asarray(m)"
   ]
  },
  {
   "cell_type": "code",
   "execution_count": 40,
   "metadata": {
    "scrolled": true
   },
   "outputs": [
    {
     "data": {
      "image/png": "[encoded data removed]",
      "text/plain": [
       "<Figure size 900x600 with 2 Axes>"
      ]
     },
     "metadata": {},
     "output_type": "display_data"
    }
   ],
   "source": [
    "def plot_confusion_matrix(cm, classes,\n",
    "                          normalize=False,\n",
    "                          title='miRNA clusters similarity between different subtype dysregulation analyses',\n",
    "                          cmap=plt.cm.Greys):\n",
    "    plt.imshow(cm, interpolation='nearest', cmap=cmap)\n",
    "#     plt.title(title)\n",
    "    plt.colorbar()\n",
    "    tick_marks = np.arange(len(classes))\n",
    "    plt.xticks(tick_marks, classes, rotation=90)\n",
    "    plt.yticks(tick_marks, classes)\n",
    "    plt.tight_layout()\n",
    "\n",
    "plt.figure(dpi=150)\n",
    "plot_confusion_matrix(m, keys)\n",
    "plt.show()"
   ]
  },
  {
   "cell_type": "markdown",
   "metadata": {},
   "source": [
    "# \n",
    "# \n",
    "# \n",
    "# Prepare samples for Classification task"
   ]
  },
  {
   "cell_type": "code",
   "execution_count": 43,
   "metadata": {
    "scrolled": false
   },
   "outputs": [
    {
     "name": "stdout",
     "output_type": "stream",
     "text": [
      "X (377, 1870)\n",
      "y (377, 1)\n",
      "X_multi (377, 1870)\n",
      "y_multi (377, 1)\n",
      " 1    333\n",
      "-1     44\n",
      "Name: ajcc_pathologic_tumor_stage, dtype: int64\n",
      "1    155\n",
      "2    125\n",
      "3     50\n",
      "0     44\n",
      "4      3\n",
      "Name: ajcc_pathologic_tumor_stage, dtype: int64\n"
     ]
    }
   ],
   "source": [
    "from sklearn.model_selection import train_test_split\n",
    "\n",
    "\n",
    "# X_normal, _ = lusc_data.load_data(multi_omics=[\"MIR\"], target=[\"ajcc_pathologic_tumor_stage\"], \n",
    "#                                   pathologic_stages=[\"Normal\"])\n",
    "X, y = lusc_data.load_data(multi_omics=[\"MIR\"], target=[\"ajcc_pathologic_tumor_stage\"])\n",
    "#                            samples_barcode=X_normal[\"MIR\"].index)\n",
    "X = X[\"MIR\"]\n",
    "stage_label_mapping = {'Normal': -1, 'Stage I': 1, 'Stage II': 1, 'Stage III': 1, 'Stage IV': 1}\n",
    "y[\"ajcc_pathologic_tumor_stage\"] = y[\"ajcc_pathologic_tumor_stage\"].replace(stage_label_mapping)\n",
    "\n",
    "\n",
    "X_multi, y_multi = lusc_data.load_data(multi_omics=[\"MIR\"], target=[\"ajcc_pathologic_tumor_stage\"])\n",
    "X_multi = X_multi[\"MIR\"]\n",
    "stage_label_mapping = {'Normal': 0, 'Stage I': 1, 'Stage II': 2, 'Stage III': 3, 'Stage IV': 4}\n",
    "y_multi[\"ajcc_pathologic_tumor_stage\"] = y_multi[\"ajcc_pathologic_tumor_stage\"].replace(stage_label_mapping)\n",
    "\n",
    "\n",
    "X_train, X_test, Y_train, Y_test = \\\n",
    "    train_test_split(X, y, test_size=0.2, random_state=np.random.randint(0, 10000), stratify=y)\n",
    "\n",
    "X_multi_train, X_multi_test, Y_multi_train, Y_multi_test = \\\n",
    "    train_test_split(X_multi, y_multi, test_size=0.2, random_state=np.random.randint(0, 10000), stratify=y_multi)\n",
    "\n",
    "print \"X\", X.shape\n",
    "print \"y\", y.shape\n",
    "print \"X_multi\", X_multi.shape\n",
    "print \"y_multi\", y_multi.shape\n",
    "print y[\"ajcc_pathologic_tumor_stage\"].value_counts()\n",
    "print y_multi[\"ajcc_pathologic_tumor_stage\"].value_counts()"
   ]
  },
  {
   "cell_type": "code",
   "execution_count": null,
   "metadata": {
    "scrolled": true
   },
   "outputs": [],
   "source": [
    "from src.models.group_lasso_spams import SPAMSClassifier\n",
    "import spams\n",
    "\n",
    "myfloat = np.float\n",
    "param = {'numThreads': -1, 'verbose': True,\n",
    "         'it0': 10, 'max_it': 1000,\n",
    "         'L0': 0.1, 'tol': 1e-3, 'intercept': False,\n",
    "         'pos': False}\n",
    "param['lambda1'] = 0.5\n",
    "param['lambda2'] = 0.5\n",
    "param['lambda3'] = 0.5\n",
    "\n",
    "X_train = np.asfortranarray(X_train, dtype=myfloat)\n",
    "Y_train = np.asfortranarray(Y_train, dtype=myfloat)\n",
    "Y_train = np.reshape(Y_train, [Y_train.shape[0], 1])\n",
    "X_multi_train = np.asfortranarray(X_multi_train, dtype=myfloat)\n",
    "Y_multi_train = np.asfortranarray(Y_multi_train, dtype=myfloat)\n",
    "Y_multi_train = np.reshape(Y_multi_train, [Y_multi_train.shape[0], 1])\n",
    "\n",
    "# L1 Lasso\n",
    "l1_lasso_param = param.copy()\n",
    "l1_lasso_param['loss'] = 'weighted-logistic'\n",
    "l1_lasso_param['regul'] = 'l1'\n",
    "l1_lasso = SPAMSClassifier()\n",
    "l1_lasso.fit(X_train, Y_train, groups=None, params=l1_lasso_param)\n",
    "\n",
    "# Group Lasso L2\n",
    "# group_l2_param = param.copy()\n",
    "# group_l2_param['loss'] = 'weighted-logistic'\n",
    "# group_l2_param['regul'] = 'group-lasso-l2'\n",
    "# group_l2 = SPAMSClassifier()\n",
    "# group_l2.fit(X_train, Y_train, groups=network.get_miRNA_cluster_assgn(), params=group_l2_param)\n",
    "\n",
    "# Elastic Net\n",
    "elastic_net_param = param.copy()\n",
    "elastic_net_param['loss'] = 'weighted-logistic'\n",
    "elastic_net_param['regul'] = 'elastic-net'\n",
    "elastic_net = SPAMSClassifier()\n",
    "elastic_net.fit(X_train, Y_train, groups=None, params=elastic_net_param)\n",
    "\n",
    "# Sparse Group Lasso\n",
    "sparse_group_l2_param = param.copy()\n",
    "sparse_group_l2_param['loss'] = 'logistic'\n",
    "sparse_group_l2_param['regul'] = 'sparse-group-lasso-l2'\n",
    "sparse_group_l2_param['lambda1'] = 0.2\n",
    "sparse_group_l2 = SPAMSClassifier()\n",
    "sparse_group_l2.fit(X_train, Y_train, groups=partitions[\"combined\"], params=sparse_group_l2_param)\n",
    "\n",
    "# Multi Logistic\n",
    "multi_task_l1l2_param = param.copy()\n",
    "multi_task_l1l2_param['loss'] = 'multi-logistic'\n",
    "multi_task_l1l2_param['regul'] = 'l1l2'\n",
    "multi_task_l1l2_param['max_it'] = 200\n",
    "multi_task_l1l2_param['lambda1'] = 0.5\n",
    "multi_task_l1l2 = SPAMSClassifier()\n",
    "multi_task_l1l2.fit(X_multi_train, Y_multi_train, groups=None, params=multi_task_l1l2_param)"
   ]
  },
  {
   "cell_type": "markdown",
   "metadata": {},
   "source": [
    "## PARSIMONY Logistic Regression with L1L2 & Overlapping Group LASSO regularizer"
   ]
  },
  {
   "cell_type": "code",
   "execution_count": 45,
   "metadata": {},
   "outputs": [
    {
     "name": "stdout",
     "output_type": "stream",
     "text": [
      "mirnas 256\n",
      "targets 46906\n",
      "edges 107494\n",
      "edges after threshold: 1988\n"
     ]
    },
    {
     "name": "stderr",
     "output_type": "stream",
     "text": [
      "/opt/anaconda3/envs/py27/lib/python2.7/site-packages/ipykernel_launcher.py:24: DeprecationWarning: Class \"ZerosStartVector\" is deprecated (use \"ZerosWeights\" instead).\n",
      "/opt/anaconda3/envs/py27/lib/python2.7/site-packages/ipykernel_launcher.py:24: DeprecationWarning: Function or method \"get_vector\" is deprecated (use \"get_weights\" instead).\n"
     ]
    },
    {
     "name": "stdout",
     "output_type": "stream",
     "text": [
      "Non-zero: 634\n"
     ]
    }
   ],
   "source": [
    "import parsimony.estimators as estimators\n",
    "import parsimony.algorithms as algorithms\n",
    "import parsimony.functions.nesterov.gl as gl\n",
    "import parsimony.utils.start_vectors as start_vectors\n",
    "from src.models.miRNA_target_network import miRNATargetNetwork\n",
    "\n",
    "# X, y = luad_data.load_data(multi_omics=[\"MIR\"], target=[\"ajcc_pathologic_tumor_stage\"])\n",
    "# X = X[\"MIR\"]\n",
    "\n",
    "# print X.shape, y.shape\n",
    "# X, y = tgca_luad.make_dataset(dataset='miRNA', normal_tumor='both', normal_matched=False, mirna_gene_matched=False,\n",
    "#                               pathologic_stages=['normal', 'Stage I', 'Stage II', 'Stage III', 'Stage IV'], \n",
    "#                               stage_label_mapping={'normal': -1, 'Stage I': 1, 'Stage II': 1, 'Stage III': 1, 'Stage IV': 1})\n",
    "\n",
    "# X_train, X_test, Y_train, Y_test = \\\n",
    "#     train_test_split(X, y, test_size=0.2, random_state=np.random.randint(0, 10000), stratify=y)\n",
    "\n",
    "groups_for_sgl = miRNATargetNetwork.list_of_groups(\n",
    "    network_subtypes_combined.get_miRNA_community_assgn(), lusc_data.MIR.get_genes_list())\n",
    "\n",
    "A = gl.linear_operator_from_groups(X_train.shape[1],\n",
    "                                   groups_for_sgl)\n",
    "\n",
    "beta = start_vectors.ZerosStartVector().get_vector(X_train.shape[1])\n",
    "\n",
    "logistic_L1L2GL = estimators.LogisticRegressionL1L2GL(l1=4.5, l2=0.0, gl=5.5, A=A,\n",
    "                                                      algorithm=algorithms.proximal.FISTA(),\n",
    "                                                      class_weight='auto',\n",
    "                                                      algorithm_params=dict(max_iter=1000),\n",
    "                                                      mean=False)\n",
    "logistic_L1L2GL.fit(X=X_train, y=Y_train, beta=beta)\n",
    "## Logistic Regression with L1L2 & Overlapping Group LASSO regularizer\n",
    "print 'Non-zero:', len(logistic_L1L2GL.beta.nonzero()[0])"
   ]
  },
  {
   "cell_type": "markdown",
   "metadata": {},
   "source": [
    "## OneVsRestClassifier"
   ]
  },
  {
   "cell_type": "code",
   "execution_count": 49,
   "metadata": {},
   "outputs": [
    {
     "name": "stderr",
     "output_type": "stream",
     "text": [
      "/home/jonny_admin/PycharmProjects/assn-miRNA-LUAD/src/models/group_lasso_spams.py:32: DeprecationWarning: Class \"ZerosStartVector\" is deprecated (use \"ZerosWeights\" instead).\n",
      "  beta = start_vectors.ZerosStartVector().get_vector(X.shape[1])\n",
      "/home/jonny_admin/PycharmProjects/assn-miRNA-LUAD/src/models/group_lasso_spams.py:32: DeprecationWarning: Function or method \"get_vector\" is deprecated (use \"get_weights\" instead).\n",
      "  beta = start_vectors.ZerosStartVector().get_vector(X.shape[1])\n",
      "/home/jonny_admin/PycharmProjects/assn-miRNA-LUAD/src/models/group_lasso_spams.py:32: DeprecationWarning: Class \"ZerosStartVector\" is deprecated (use \"ZerosWeights\" instead).\n",
      "  beta = start_vectors.ZerosStartVector().get_vector(X.shape[1])\n",
      "/home/jonny_admin/PycharmProjects/assn-miRNA-LUAD/src/models/group_lasso_spams.py:32: DeprecationWarning: Function or method \"get_vector\" is deprecated (use \"get_weights\" instead).\n",
      "  beta = start_vectors.ZerosStartVector().get_vector(X.shape[1])\n",
      "/home/jonny_admin/PycharmProjects/assn-miRNA-LUAD/src/models/group_lasso_spams.py:32: DeprecationWarning: Class \"ZerosStartVector\" is deprecated (use \"ZerosWeights\" instead).\n",
      "  beta = start_vectors.ZerosStartVector().get_vector(X.shape[1])\n",
      "/home/jonny_admin/PycharmProjects/assn-miRNA-LUAD/src/models/group_lasso_spams.py:32: DeprecationWarning: Function or method \"get_vector\" is deprecated (use \"get_weights\" instead).\n",
      "  beta = start_vectors.ZerosStartVector().get_vector(X.shape[1])\n",
      "/home/jonny_admin/PycharmProjects/assn-miRNA-LUAD/src/models/group_lasso_spams.py:32: DeprecationWarning: Class \"ZerosStartVector\" is deprecated (use \"ZerosWeights\" instead).\n",
      "  beta = start_vectors.ZerosStartVector().get_vector(X.shape[1])\n",
      "/home/jonny_admin/PycharmProjects/assn-miRNA-LUAD/src/models/group_lasso_spams.py:32: DeprecationWarning: Function or method \"get_vector\" is deprecated (use \"get_weights\" instead).\n",
      "  beta = start_vectors.ZerosStartVector().get_vector(X.shape[1])\n",
      "/home/jonny_admin/PycharmProjects/assn-miRNA-LUAD/src/models/group_lasso_spams.py:32: DeprecationWarning: Class \"ZerosStartVector\" is deprecated (use \"ZerosWeights\" instead).\n",
      "  beta = start_vectors.ZerosStartVector().get_vector(X.shape[1])\n",
      "/home/jonny_admin/PycharmProjects/assn-miRNA-LUAD/src/models/group_lasso_spams.py:32: DeprecationWarning: Function or method \"get_vector\" is deprecated (use \"get_weights\" instead).\n",
      "  beta = start_vectors.ZerosStartVector().get_vector(X.shape[1])\n"
     ]
    },
    {
     "data": {
      "text/plain": [
       "OneVsRestClassifier(estimator=LRSGLWrapper(A=None, gl=0, l1=2.5, l2=0.0, max_iter=1000),\n",
       "          n_jobs=1)"
      ]
     },
     "execution_count": 49,
     "metadata": {},
     "output_type": "execute_result"
    }
   ],
   "source": [
    "from sklearn.multiclass import OneVsRestClassifier\n",
    "from src.models.group_lasso_spams import LRSGLWrapper\n",
    "\n",
    "# lrsgl_one_vs_rest = OneVsRestClassifier(LRSGLWrapper(l1=2.5, l2=0.0, gl=5, A=A, max_iter=500))\n",
    "# lrsgl_one_vs_rest.fit(X=X_multi_train, y=Y_multi_train)\n",
    "\n",
    "lr_one_vs_rest = OneVsRestClassifier(LRSGLWrapper(l1=2.5, l2=0.0, gl=0, max_iter=1000))\n",
    "lr_one_vs_rest.fit(X=X_multi_train, y=Y_multi_train)"
   ]
  },
  {
   "cell_type": "code",
   "execution_count": 50,
   "metadata": {},
   "outputs": [
    {
     "name": "stdout",
     "output_type": "stream",
     "text": [
      "(301, 1870) (301, 5)\n",
      "(76, 1870) (76, 5)\n"
     ]
    },
    {
     "name": "stderr",
     "output_type": "stream",
     "text": [
      "/home/jonny_admin/PycharmProjects/assn-miRNA-LUAD/src/models/group_lasso_spams.py:32: DeprecationWarning: Class \"ZerosStartVector\" is deprecated (use \"ZerosWeights\" instead).\n",
      "  beta = start_vectors.ZerosStartVector().get_vector(X.shape[1])\n",
      "/home/jonny_admin/PycharmProjects/assn-miRNA-LUAD/src/models/group_lasso_spams.py:32: DeprecationWarning: Function or method \"get_vector\" is deprecated (use \"get_weights\" instead).\n",
      "  beta = start_vectors.ZerosStartVector().get_vector(X.shape[1])\n",
      "/home/jonny_admin/PycharmProjects/assn-miRNA-LUAD/src/models/group_lasso_spams.py:32: DeprecationWarning: Class \"ZerosStartVector\" is deprecated (use \"ZerosWeights\" instead).\n",
      "  beta = start_vectors.ZerosStartVector().get_vector(X.shape[1])\n",
      "/home/jonny_admin/PycharmProjects/assn-miRNA-LUAD/src/models/group_lasso_spams.py:32: DeprecationWarning: Function or method \"get_vector\" is deprecated (use \"get_weights\" instead).\n",
      "  beta = start_vectors.ZerosStartVector().get_vector(X.shape[1])\n",
      "/home/jonny_admin/PycharmProjects/assn-miRNA-LUAD/src/models/group_lasso_spams.py:32: DeprecationWarning: Class \"ZerosStartVector\" is deprecated (use \"ZerosWeights\" instead).\n",
      "  beta = start_vectors.ZerosStartVector().get_vector(X.shape[1])\n",
      "/home/jonny_admin/PycharmProjects/assn-miRNA-LUAD/src/models/group_lasso_spams.py:32: DeprecationWarning: Function or method \"get_vector\" is deprecated (use \"get_weights\" instead).\n",
      "  beta = start_vectors.ZerosStartVector().get_vector(X.shape[1])\n",
      "/home/jonny_admin/PycharmProjects/assn-miRNA-LUAD/src/models/group_lasso_spams.py:32: DeprecationWarning: Class \"ZerosStartVector\" is deprecated (use \"ZerosWeights\" instead).\n",
      "  beta = start_vectors.ZerosStartVector().get_vector(X.shape[1])\n",
      "/home/jonny_admin/PycharmProjects/assn-miRNA-LUAD/src/models/group_lasso_spams.py:32: DeprecationWarning: Function or method \"get_vector\" is deprecated (use \"get_weights\" instead).\n",
      "  beta = start_vectors.ZerosStartVector().get_vector(X.shape[1])\n",
      "/home/jonny_admin/PycharmProjects/assn-miRNA-LUAD/src/models/group_lasso_spams.py:32: DeprecationWarning: Class \"ZerosStartVector\" is deprecated (use \"ZerosWeights\" instead).\n",
      "  beta = start_vectors.ZerosStartVector().get_vector(X.shape[1])\n",
      "/home/jonny_admin/PycharmProjects/assn-miRNA-LUAD/src/models/group_lasso_spams.py:32: DeprecationWarning: Function or method \"get_vector\" is deprecated (use \"get_weights\" instead).\n",
      "  beta = start_vectors.ZerosStartVector().get_vector(X.shape[1])\n"
     ]
    },
    {
     "name": "stdout",
     "output_type": "stream",
     "text": [
      "ROC micro 0.815746191135734\n",
      "ROC macro 0.7038167596266269\n"
     ]
    },
    {
     "data": {
      "image/png": "[encoded data removed]",
      "text/plain": [
       "<Figure size 900x600 with 1 Axes>"
      ]
     },
     "metadata": {},
     "output_type": "display_data"
    }
   ],
   "source": [
    "from sklearn import metrics\n",
    "from sklearn.metrics import roc_curve, auc\n",
    "from sklearn.preprocessing import label_binarize\n",
    "from scipy import interp\n",
    "from itertools import cycle\n",
    "from sklearn.multiclass import OneVsRestClassifier\n",
    "\n",
    "# X, y = tgca_luad.make_dataset(dataset='miRNA', normal_tumor='both', normal_matched=False, mirna_gene_matched=False,\n",
    "#                               pathologic_stages=['normal', 'Stage I', 'Stage II', 'Stage III', 'Stage IV'],\n",
    "#                               stage_label_mapping={'normal': 0, 'Stage I': 1, 'Stage II': 2, 'Stage III': 3, 'Stage IV': 4})\n",
    "\n",
    "X, y = lusc_data.load_data(multi_omics=[\"MIR\"], target=[\"ajcc_pathologic_tumor_stage\"])\n",
    "X = X[\"MIR\"]\n",
    "stage_label_mapping = {'Normal': 0, 'Stage I': 1, 'Stage II': 2, 'Stage III': 3, 'Stage IV': 4}\n",
    "y[\"ajcc_pathologic_tumor_stage\"] = y[\"ajcc_pathologic_tumor_stage\"].replace(stage_label_mapping)\n",
    "\n",
    "y = label_binarize(y, classes=[0, 1, 2, 3, 4])\n",
    "n_classes = 5\n",
    "n_samples, n_features = X.shape\n",
    "X_train, X_test, y_train, y_test = train_test_split(X, y, test_size=0.2, stratify=y,\n",
    "                                                    random_state=0)\n",
    "print X_train.shape, y_train.shape\n",
    "print X_test.shape, y_test.shape\n",
    "\n",
    "def roc_auc_w_group():\n",
    "    colors = cycle(['darkorange', 'indigo', 'seagreen', 'gray', 'red', 'cyan'])\n",
    "    linestyles = cycle(['solid', 'dashed', 'dashdot', 'dotted'])\n",
    "    lw = 2\n",
    "\n",
    "    lr_ovr_with_sgl = OneVsRestClassifier(copy.deepcopy(LRSGLWrapper(l1=1.5, l2=0.0, gl=3.5, \n",
    "                                                       A=gl.linear_operator_from_groups(X_train.shape[1],\n",
    "                                                           groups_for_sgl), \n",
    "                                                       max_iter=1000)))\n",
    "    lr_ovr_with_sgl.fit(X_train, y_train)\n",
    "\n",
    "#     metrics.classification_report(y_test, lr_ovr_with_sgl.predict(X_test))\n",
    "\n",
    "    y_score = lr_ovr_with_sgl.predict_proba(X_test)\n",
    "\n",
    "    j = 0\n",
    "\n",
    "    fpr = dict()\n",
    "    tpr = dict()\n",
    "    roc_auc = dict()\n",
    "    for i in range(n_classes):\n",
    "        fpr[i], tpr[i], _ = roc_curve(y_test[:, i], y_score[:, i])\n",
    "        roc_auc[i] = auc(fpr[i], tpr[i])\n",
    "\n",
    "    # Compute micro-average ROC curve and ROC area\n",
    "    fpr[\"micro\"], tpr[\"micro\"], _ = roc_curve(y_test.ravel(), y_score.ravel())\n",
    "    roc_auc[\"micro\"] = auc(fpr[\"micro\"], tpr[\"micro\"])\n",
    "\n",
    "\n",
    "    # Compute macro-average ROC curve and ROC area\n",
    "\n",
    "    # First aggregate all false positive rates\n",
    "    all_fpr = np.unique(np.concatenate([fpr[i] for i in range(n_classes)]))\n",
    "\n",
    "    # Then interpolate all ROC curves at this points\n",
    "    mean_tpr = np.zeros_like(all_fpr)\n",
    "    for i in range(n_classes):\n",
    "        mean_tpr += interp(all_fpr, fpr[i], tpr[i])\n",
    "\n",
    "    # Finally average it and compute AUC\n",
    "    mean_tpr /= n_classes\n",
    "\n",
    "    fpr[\"macro\"] = all_fpr\n",
    "    tpr[\"macro\"] = mean_tpr\n",
    "    roc_auc[\"macro\"] = auc(fpr[\"macro\"], tpr[\"macro\"])\n",
    "\n",
    "    # Plot all ROC curves\n",
    "    plt.figure(dpi=150)\n",
    "    print 'ROC micro', roc_auc[\"micro\"]\n",
    "    print 'ROC macro', roc_auc[\"macro\"]\n",
    "\n",
    "    # colors = cycle(['aqua', 'darkorange', 'cornflowerblue'])\n",
    "    colors = cycle(['deeppink', 'darkorange', 'indigo', 'seagreen', 'gray', 'red', 'cyan'])\n",
    "    linestyles = cycle(['solid', 'dashdot', '--', 'dotted', ':'])\n",
    "    for i, color, linestyle in zip(range(n_classes), colors, linestyles):\n",
    "        if i == 0:\n",
    "            label = 'normal'\n",
    "        elif i==1:\n",
    "            label = 'stage I'\n",
    "        elif i==2:\n",
    "            label = 'stage II'\n",
    "        elif i==3:\n",
    "            label = 'stage III'\n",
    "        elif i==4:\n",
    "            label = 'stage IV'\n",
    "\n",
    "        plt.plot(fpr[i], tpr[i], color=color, lw=lw, linestyle=linestyle,\n",
    "                 label='{0} ROC (area={1:0.2f})'\n",
    "                 ''.format(label, roc_auc[i]))\n",
    "\n",
    "    plt.plot([0, 1], [0, 1], 'k--', lw=0.5)\n",
    "    plt.xlim([-0.02, 1.02])\n",
    "    plt.ylim([-0.02, 1.02])\n",
    "    plt.xlabel('False Positive Rate')\n",
    "    plt.ylabel('True Positive Rate')\n",
    "    # plt.title('Some extension of Receiver operating characteristic to multi-class')\n",
    "    plt.legend(loc=\"lower right\")\n",
    "    plt.show()\n",
    "    \n",
    "roc_auc_w_group()"
   ]
  },
  {
   "cell_type": "code",
   "execution_count": null,
   "metadata": {},
   "outputs": [],
   "source": []
  }
 ],
 "metadata": {
  "kernelspec": {
   "display_name": "Python 2",
   "language": "python",
   "name": "python2"
  },
  "language_info": {
   "codemirror_mode": {
    "name": "ipython",
    "version": 2
   },
   "file_extension": ".py",
   "mimetype": "text/x-python",
   "name": "python",
   "nbconvert_exporter": "python",
   "pygments_lexer": "ipython2",
   "version": "2.7.14"
  }
 },
 "nbformat": 4,
 "nbformat_minor": 2
}
