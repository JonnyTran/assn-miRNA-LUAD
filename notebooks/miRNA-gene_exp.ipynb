{
 "cells": [
  {
   "cell_type": "markdown",
   "metadata": {
    "collapsed": true
   },
   "source": [
    "## Finding differentialy expressed miRNA's between LUAD stages I, II, III, IV vs normal using Logit regression\n",
    "### Utilize Group Lasso with MISIM miRNA similarity data"
   ]
  },
  {
   "cell_type": "code",
   "execution_count": 1,
   "metadata": {},
   "outputs": [
    {
     "name": "stdout",
     "output_type": "stream",
     "text": [
      "The autoreload extension is already loaded. To reload it, use:\n  %reload_ext autoreload\n"
     ]
    }
   ],
   "source": [
    "# Necessary imports\n",
    "%load_ext autoreload\n",
    "%autoreload 2\\\n",
    "    \n",
    "import os\n",
    "import pandas\n",
    "import numpy as np\n",
    "import matplotlib.pyplot as plt\n",
    "\n",
    "from definitions import ROOT_DIR"
   ]
  },
  {
   "cell_type": "markdown",
   "metadata": {},
   "source": [
    "## Load normal and cancer miRNA expression data"
   ]
  },
  {
   "cell_type": "code",
   "execution_count": 2,
   "metadata": {},
   "outputs": [
    {
     "name": "stdout",
     "output_type": "stream",
     "text": [
      "mirna_tumor_df.shape (513, 1882) , nulls: 0\nmirna_normal_df.shape (46, 1882) , nulls: 0\nvalidated_miRNAs.shape (34, 2)\nnormal    46\nName: pathologic_stage, dtype: int64\nStage I      277\nStage II     121\nStage III     84\nStage IV      24\nName: pathologic_stage, dtype: int64\n"
     ]
    }
   ],
   "source": [
    "from definitions import ROOT_DIR\n",
    "\n",
    "# Load files into pandas data frames\n",
    "mirna_tumor_df = pandas.read_csv(os.path.join(ROOT_DIR, \"data/processed/miRNA/tumor_miRNA.csv\"))\n",
    "mirna_normal_df = pandas.read_csv(os.path.join(ROOT_DIR, \"data/processed/miRNA/normal_miRNA.csv\"))\n",
    "clinical_df = pandas.read_csv(os.path.join(ROOT_DIR, \"data/processed/clinical/clinical.csv\"))\n",
    "validated_miRNA_csv = pandas.read_csv(os.path.join(ROOT_DIR, 'data/external/validated_luad_miRNAs_miRCancer.csv'))\n",
    "\n",
    "# Print data frame shapes\n",
    "print \"mirna_tumor_df.shape\", mirna_tumor_df.shape, ', nulls:', mirna_tumor_df.isnull().sum().sum()\n",
    "print \"mirna_normal_df.shape\", mirna_normal_df.shape, ', nulls:', mirna_normal_df.isnull().sum().sum()\n",
    "print 'validated_miRNAs.shape', validated_miRNA_csv.shape\n",
    "\n",
    "# Merge normal and tumor miRNA expression profiles with clinical cancer stage data\n",
    "mirna_normal = pandas.merge(clinical_df[['patient_barcode', 'pathologic_stage']], mirna_normal_df, on='patient_barcode')\n",
    "mirna_normal['pathologic_stage'] = 'normal'\n",
    "mirna_tumor = pandas.merge(clinical_df[['patient_barcode', 'pathologic_stage']], mirna_tumor_df, on='patient_barcode')\n",
    "\n",
    "mirna_tumor.dropna(inplace=True)\n",
    "mirna_normal.dropna(inplace=True)\n",
    "\n",
    "# Map stage IA to stage I, IB to I, etc. ...\n",
    "pathologic_stage_map = {'Stage IA': 'Stage I', 'Stage IB': 'Stage I', \n",
    "                        'Stage IIA': 'Stage II', 'Stage IIB': 'Stage II', \n",
    "                        'Stage IIIA': 'Stage III', 'Stage IIIB': 'Stage III'}\n",
    "mirna_tumor.replace({'pathologic_stage': pathologic_stage_map}, inplace=True)\n",
    "\n",
    "# Store list of all miRNA's in miRNA expression data\n",
    "mirna_list = list(mirna_tumor.columns)[2:]\n",
    "\n",
    "# Print quick overview of data\n",
    "print mirna_normal['pathologic_stage'].value_counts().sort_index(axis=0)\n",
    "print mirna_tumor['pathologic_stage'].value_counts().sort_index(axis=0)"
   ]
  },
  {
   "cell_type": "markdown",
   "metadata": {},
   "source": [
    "## Load normal & cancer Gene Expression data"
   ]
  },
  {
   "cell_type": "code",
   "execution_count": 3,
   "metadata": {},
   "outputs": [
    {
     "name": "stdout",
     "output_type": "stream",
     "text": [
      "(20530, 517)\n(20530, 61)\n"
     ]
    }
   ],
   "source": [
    "gene_exp_tumor_df = pandas.read_table(os.path.join(ROOT_DIR, 'data/processed/gene_expression/tumor/READ__illuminahiseq_rnaseqv2__GeneExp.txt'), \n",
    "                                      header=0, delimiter='\\t')\n",
    "gene_exp_normal_df = pandas.read_table(os.path.join(ROOT_DIR, 'data/processed/gene_expression/normal/READ__illuminahiseq_rnaseqv2__GeneExp.txt'), \n",
    "                                      header=0, delimiter='\\t')\n",
    "\n",
    "gene_exp_tumor_df.rename(columns=lambda x: x[:12], inplace=True)\n",
    "gene_exp_normal_df.rename(columns=lambda x: x[:12], inplace=True)\n",
    "\n",
    "print gene_exp_tumor_df.shape\n",
    "print gene_exp_normal_df.shape"
   ]
  },
  {
   "cell_type": "markdown",
   "metadata": {},
   "source": [
    "## Reshape gene expression data frames to have shape (patients x gene expression) "
   ]
  },
  {
   "cell_type": "code",
   "execution_count": 4,
   "metadata": {
    "collapsed": false
   },
   "outputs": [
    {
     "name": "stdout",
     "output_type": "stream",
     "text": [
      "gene_symbols 20502\ngene_exp_tumor_patients 515\ngene_exp_normal_patients 59\n(515, 20503)\n(59, 20503)\n"
     ]
    }
   ],
   "source": [
    "# Remove entries with unknown Gene Symbol\n",
    "gene_exp_tumor_df = gene_exp_tumor_df[gene_exp_tumor_df.GeneSymbol != '?']\n",
    "gene_exp_normal_df = gene_exp_normal_df[gene_exp_normal_df.GeneSymbol != '?']\n",
    "\n",
    "# Get list of all gene_symbols\n",
    "gene_symbols = list(gene_exp_tumor_df['GeneSymbol'])\n",
    "# Get list of tumor and normal patient_barcode\n",
    "gene_exp_tumor_patient_barcodes = list(gene_exp_tumor_df.columns)[2:]\n",
    "gene_exp_normal_patient_barcodes = list(gene_exp_normal_df.columns)[2:]\n",
    "\n",
    "# Drop EntrezID column\n",
    "gene_exp_tumor = gene_exp_tumor_df.drop(['EntrezID', 'GeneSymbol'], axis=1)\n",
    "gene_exp_normal = gene_exp_normal_df.drop(['EntrezID', 'GeneSymbol'], axis=1)\n",
    "\n",
    "# Reshaping data frame to have columns for GeneSymbols, and rows of patients\n",
    "gene_exp_tumor = gene_exp_tumor.T\n",
    "gene_exp_normal = gene_exp_normal.T\n",
    "gene_exp_tumor.columns = gene_symbols\n",
    "gene_exp_normal.columns = gene_symbols\n",
    "\n",
    "# Add column for patients barcode\n",
    "gene_exp_tumor['patient_barcode'] = gene_exp_tumor.index\n",
    "gene_exp_normal['patient_barcode'] = gene_exp_normal.index\n",
    "\n",
    "print \"gene_symbols\", len(gene_symbols)\n",
    "print \"gene_exp_tumor_patients\", len(gene_exp_tumor_patient_barcodes)\n",
    "print \"gene_exp_normal_patients\", len(gene_exp_normal_patient_barcodes)\n",
    "\n",
    "print gene_exp_tumor.shape\n",
    "print gene_exp_normal.shape"
   ]
  },
  {
   "cell_type": "markdown",
   "metadata": {},
   "source": [
    "## Filter samples with matched Gene Expression data and miRNA data\n",
    "## More data preprocessing"
   ]
  },
  {
   "cell_type": "code",
   "execution_count": 5,
   "metadata": {
    "collapsed": true
   },
   "outputs": [
    {
     "name": "stdout",
     "output_type": "stream",
     "text": [
      "Stage I      275\nStage II     120\nStage III     84\nStage IV      24\nName: pathologic_stage, dtype: int64\nnormal    20\nName: pathologic_stage, dtype: int64\n"
     ]
    },
    {
     "name": "stderr",
     "output_type": "stream",
     "text": [
      "/opt/anaconda/lib/python2.7/site-packages/ipykernel/__main__.py:26: SettingWithCopyWarning: \nA value is trying to be set on a copy of a slice from a DataFrame\n\nSee the caveats in the documentation: http://pandas.pydata.org/pandas-docs/stable/indexing.html#indexing-view-versus-copy\n/opt/anaconda/lib/python2.7/site-packages/ipykernel/__main__.py:27: SettingWithCopyWarning: \nA value is trying to be set on a copy of a slice from a DataFrame\n\nSee the caveats in the documentation: http://pandas.pydata.org/pandas-docs/stable/indexing.html#indexing-view-versus-copy\n/opt/anaconda/lib/python2.7/site-packages/ipykernel/__main__.py:28: SettingWithCopyWarning: \nA value is trying to be set on a copy of a slice from a DataFrame\n\nSee the caveats in the documentation: http://pandas.pydata.org/pandas-docs/stable/indexing.html#indexing-view-versus-copy\n/opt/anaconda/lib/python2.7/site-packages/ipykernel/__main__.py:29: SettingWithCopyWarning: \nA value is trying to be set on a copy of a slice from a DataFrame\n\nSee the caveats in the documentation: http://pandas.pydata.org/pandas-docs/stable/indexing.html#indexing-view-versus-copy\n"
     ]
    },
    {
     "name": "stdout",
     "output_type": "stream",
     "text": [
      "merged_mirna_tumor (503, 1881) nulls: 0\nmerged_mirna_normal (20, 1881) nulls: 0\nmerged_gene_exp_tumor (503, 20484) nulls: 0\nmerged_gene_exp_normal (20, 20484) nulls: 0\n"
     ]
    }
   ],
   "source": [
    "# Merge normal and tumor miRNA expression profiles with clinical cancer stage data\n",
    "merged_tumor_patients = pandas.merge(gene_exp_tumor[['patient_barcode']], mirna_tumor, on='patient_barcode')[['patient_barcode', 'pathologic_stage']]\n",
    "merged_normal_patients = pandas.merge(gene_exp_normal[['patient_barcode']], mirna_normal, on='patient_barcode')[['patient_barcode', 'pathologic_stage']]\n",
    "\n",
    "# Print quick overview of data\n",
    "print merged_tumor_patients['pathologic_stage'].value_counts(dropna=False).sort_index(axis=0)\n",
    "print merged_normal_patients['pathologic_stage'].value_counts(dropna=False).sort_index(axis=0)\n",
    "\n",
    "# Drop NA\n",
    "merged_tumor_patients.dropna(inplace=True)\n",
    "merged_normal_patients.dropna(inplace=True)\n",
    "\n",
    "# Filter samples\n",
    "merged_mirna_tumor = mirna_tumor[mirna_tumor['patient_barcode'].isin(merged_tumor_patients['patient_barcode'])]\n",
    "merged_mirna_normal = mirna_normal[mirna_normal['patient_barcode'].isin(merged_normal_patients['patient_barcode'])]\n",
    "merged_gene_exp_tumor = gene_exp_tumor[gene_exp_tumor['patient_barcode'].isin(merged_tumor_patients['patient_barcode'])]\n",
    "merged_gene_exp_normal = gene_exp_normal[gene_exp_normal['patient_barcode'].isin(merged_normal_patients['patient_barcode'])]\n",
    "\n",
    "# Create label vector\n",
    "Y = pandas.concat([merged_mirna_tumor, merged_mirna_normal])['pathologic_stage']\n",
    "Y.replace({'pathologic_stage': {'Stage I': 'tumor', 'Stage II': 'tumor', 'Stage III': 'tumor', 'Stage IV': 'tumor'}}, inplace=True)\n",
    "n_tumor = merged_mirna_tumor.shape[0]\n",
    "n_normal = merged_mirna_normal.shape[0]\n",
    "\n",
    "# Drop categorical columns\n",
    "merged_mirna_tumor.drop(['patient_barcode', 'pathologic_stage'], 1, inplace=True)\n",
    "merged_mirna_normal.drop(['patient_barcode', 'pathologic_stage'], 1, inplace=True)\n",
    "merged_gene_exp_tumor.drop(['patient_barcode'], 1, inplace=True)\n",
    "merged_gene_exp_normal.drop(['patient_barcode'], 1, inplace=True)\n",
    "\n",
    "# Drop duplicate columns names (Gene symbols with same name)\n",
    "_, i = np.unique(merged_gene_exp_tumor.columns, return_index=True)\n",
    "merged_gene_exp_tumor = merged_gene_exp_tumor.iloc[:, i]\n",
    "merged_gene_exp_normal = merged_gene_exp_normal.iloc[:, i]\n",
    "\n",
    "print \"merged_mirna_tumor\", merged_mirna_tumor.shape, 'nulls:', merged_mirna_tumor.isnull().sum().sum()\n",
    "print \"merged_mirna_normal\", merged_mirna_normal.shape, 'nulls:', merged_mirna_normal.isnull().sum().sum()\n",
    "print \"merged_gene_exp_tumor\", merged_gene_exp_tumor.shape, 'nulls:', merged_gene_exp_tumor.isnull().sum().sum()\n",
    "print \"merged_gene_exp_normal\", merged_gene_exp_normal.shape, 'nulls:', merged_gene_exp_normal.isnull().sum().sum()"
   ]
  },
  {
   "cell_type": "markdown",
   "metadata": {},
   "source": [
    "## Univariate feature selection via FDR"
   ]
  },
  {
   "cell_type": "code",
   "execution_count": 7,
   "metadata": {
    "collapsed": true
   },
   "outputs": [
    {
     "ename": "NameError",
     "evalue": "name 'mirna_new' is not defined",
     "traceback": [
      "\u001b[0;31m\u001b[0m",
      "\u001b[0;31mNameError\u001b[0mTraceback (most recent call last)",
      "\u001b[0;32m<ipython-input-7-27301e62954b>\u001b[0m in \u001b[0;36m<module>\u001b[0;34m()\u001b[0m\n\u001b[1;32m      9\u001b[0m \u001b[0mgen_exp_new\u001b[0m \u001b[0;34m=\u001b[0m \u001b[0mgene_exp_filter\u001b[0m\u001b[0;34m.\u001b[0m\u001b[0mfit_transform\u001b[0m\u001b[0;34m(\u001b[0m\u001b[0mX\u001b[0m\u001b[0;34m=\u001b[0m\u001b[0mpandas\u001b[0m\u001b[0;34m.\u001b[0m\u001b[0mconcat\u001b[0m\u001b[0;34m(\u001b[0m\u001b[0;34m[\u001b[0m\u001b[0mgene_exp_tumor\u001b[0m\u001b[0;34m,\u001b[0m \u001b[0mgene_exp_normal\u001b[0m\u001b[0;34m]\u001b[0m\u001b[0;34m)\u001b[0m\u001b[0;34m,\u001b[0m \u001b[0my\u001b[0m\u001b[0;34m=\u001b[0m\u001b[0mY\u001b[0m\u001b[0;34m)\u001b[0m\u001b[0;34m\u001b[0m\u001b[0m\n\u001b[1;32m     10\u001b[0m \u001b[0;34m\u001b[0m\u001b[0m\n\u001b[0;32m---> 11\u001b[0;31m \u001b[0;32mprint\u001b[0m \u001b[0mmirna_new\u001b[0m\u001b[0;34m.\u001b[0m\u001b[0mshape\u001b[0m\u001b[0;34m\u001b[0m\u001b[0m\n\u001b[0m\u001b[1;32m     12\u001b[0m \u001b[0;32mprint\u001b[0m \u001b[0mgen_exp_new\u001b[0m\u001b[0;34m.\u001b[0m\u001b[0mshape\u001b[0m\u001b[0;34m\u001b[0m\u001b[0m\n\u001b[1;32m     13\u001b[0m \u001b[0;31m# mirna_tumor = mirna_tumor[mirna_tumor.columns[mirna_filter.get_support(indices=True)]]\u001b[0m\u001b[0;34m\u001b[0m\u001b[0;34m\u001b[0m\u001b[0m\n",
      "\u001b[0;31mNameError\u001b[0m: name 'mirna_new' is not defined"
     ],
     "output_type": "error"
    }
   ],
   "source": [
    "from sklearn.feature_selection import SelectFdr, f_classif\n",
    "\n",
    "# Select the p-values for an estimated false discovery rate\n",
    "# FDR \n",
    "# mirna_filter = SelectFdr(f_classif, alpha=0.01)\n",
    "# mirna_new = mirna_filter.fit_transform(X=pandas.concat([mirna_tumor, mirna_normal]), y=Y)\n",
    "\n",
    "gene_exp_filter = SelectFdr(f_classif, alpha=0.01)\n",
    "gen_exp_new = gene_exp_filter.fit_transform(X=pandas.concat([gene_exp_tumor, gene_exp_normal]), y=Y)\n",
    "\n",
    "print mirna_new.shape\n",
    "print gen_exp_new.shape\n",
    "# mirna_tumor = mirna_tumor[mirna_tumor.columns[mirna_filter.get_support(indices=True)]]\n",
    "# mirna_normal = mirna_normal[mirna_normal.columns[mirna_filter.get_support(indices=True)]]\n",
    "gene_exp_tumor = gene_exp_tumor[gene_exp_tumor.columns[gene_exp_filter.get_support(indices=True)]]\n",
    "gene_exp_normal = gene_exp_normal[gene_exp_normal.columns[gene_exp_filter.get_support(indices=True)]]"
   ]
  },
  {
   "cell_type": "markdown",
   "metadata": {},
   "source": [
    "## Loading TargetScan database for predicted miRNA-targets interactions"
   ]
  },
  {
   "cell_type": "code",
   "execution_count": 6,
   "metadata": {},
   "outputs": [
    {
     "name": "stdout",
     "output_type": "stream",
     "text": [
      "(185330, 2)\n"
     ]
    }
   ],
   "source": [
    "# Load data frame from file\n",
    "targetScan_df = pandas.read_table(os.path.join(ROOT_DIR, 'data/external/TargetScan_Predicted_Targets_Info_default_predictions.tsv'), delimiter='\\t')\n",
    "targetScan_family_df = pandas.read_table(os.path.join(ROOT_DIR, 'data/external/TargetScan_miR_Family_Info.txt'), delimiter='\\t')\n",
    "\n",
    "# Select only homo sapiens miRNA-target pairs\n",
    "targetScan_df = targetScan_df[targetScan_df[\"Species ID\"] == 9606][[\"miR Family\", \"Gene Symbol\"]]\n",
    "targetScan_family_df = targetScan_family_df[targetScan_family_df['Species ID'] == 9606][['miR family', 'MiRBase ID']]\n",
    "\n",
    "# Use miRBase ID names\n",
    "targetScan_family_df.rename(columns={'miR family': 'miR Family'}, inplace=True)\n",
    "targetScan_df = pandas.merge(targetScan_df, targetScan_family_df, how='inner', on=\"miR Family\")\n",
    "targetScan_df = targetScan_df[[\"MiRBase ID\", \"Gene Symbol\"]]\n",
    "\n",
    "# Standardize miRNA names\n",
    "targetScan_df['MiRBase ID'] = targetScan_df['MiRBase ID'].str.lower()\n",
    "targetScan_df['MiRBase ID'] = targetScan_df['MiRBase ID'].str.replace(\"-3p.*|-5p.*\", \"\")\n",
    "targetScan_df.drop_duplicates(inplace=True)\n",
    "\n",
    "# Filter miRNA-target pairs to only miRNA's included in miRNA expression data, same for gene targets\n",
    "targetScan_df = targetScan_df[targetScan_df['MiRBase ID'].isin(mirna_list) & targetScan_df['Gene Symbol'].isin(gene_symbols)]\n",
    "print targetScan_df.shape"
   ]
  },
  {
   "cell_type": "markdown",
   "metadata": {},
   "source": [
    "## Build miRNA-target relationship network to from putative predicted miRNA-target pairs"
   ]
  },
  {
   "cell_type": "code",
   "execution_count": 25,
   "metadata": {
    "collapsed": true
   },
   "outputs": [
    {
     "name": "stdout",
     "output_type": "stream",
     "text": [
      "n_A 503\nn_B 20\n"
     ]
    },
    {
     "name": "stderr",
     "output_type": "stream",
     "text": [
      "src/models/miRNA_target_network.py:49: RuntimeWarning: invalid value encountered in double_scalars\n  ((n_B - 1) * np.std(miRNAs_normal[m]) * np.std(targets_normal[t]))\n"
     ]
    },
    {
     "name": "stderr",
     "output_type": "stream",
     "text": [
      "src/models/miRNA_target_network.py:45: RuntimeWarning: invalid value encountered in double_scalars\n  ((n_A - 1) * np.std(miRNAs_tumor[m]) * np.std(targets_tumor[t]))\n"
     ]
    }
   ],
   "source": [
    "from src.models.miRNA_target_network import miRNATargetNetwork as miRNATargetNet\n",
    "import networkx as nx\n",
    "\n",
    "network = miRNATargetNet(dys_threshold=0.6)\n",
    "network.train(miRNAs_tumor=merged_mirna_tumor, targets_tumor=merged_gene_exp_tumor,\n",
    "              miRNAs_normal=merged_mirna_normal, targets_normal=merged_gene_exp_normal,\n",
    "              putative_assocs=targetScan_df)\n",
    "# print nx.bipartite.sets(network.B)"
   ]
  },
  {
   "cell_type": "code",
   "execution_count": 26,
   "metadata": {
    "collapsed": true
   },
   "outputs": [
    {
     "name": "stdout",
     "output_type": "stream",
     "text": [
      "1881\n20484\nedges 2301\n"
     ]
    }
   ],
   "source": [
    "# miRNAs_nodes, targets_nodes = nx.bipartite.sets(network.B)\n",
    "miRNAs_nodes = set(n for n, d in network.B.nodes(data=True) if d['bipartite']==0)\n",
    "targets_nodes = set(network.B) - miRNAs_nodes\n",
    "print miRNAs_nodes.__len__()\n",
    "print targets_nodes.__len__()\n",
    "\n",
    "edges = network.B.edges()\n",
    "miRNAs_nodes_degrees = nx.bipartite.degrees(network.B, miRNAs_nodes)[1]\n",
    "targets_nodes_degrees = nx.bipartite.degrees(network.B, targets_nodes)[1]\n",
    "\n",
    "print \"edges\", len(edges)\n",
    "# print \"miRNAs_nodes_degrees\", miRNAs_nodes_degrees\n",
    "# print \"targets_nodes_degrees\", targets_nodes_degrees"
   ]
  },
  {
   "cell_type": "markdown",
   "metadata": {},
   "source": [
    "## Assign miRNA's to groups from the miRNA-target bipartite graph obtained above\n",
    "The assumption used is that two miRNA's are in the same group, if they share the same target\n",
    "If a miRNA has overlapping groups, \"larger_groups_first\" param decides whether larger or smaller group takes priority"
   ]
  },
  {
   "cell_type": "code",
   "execution_count": 37,
   "metadata": {
    "collapsed": true
   },
   "outputs": [
    {
     "data": {
      "text/plain": [
       "[1,\n 2,\n 3,\n 426,\n 426,\n 426,\n 237,\n 4,\n 5,\n 412,\n 6,\n 7,\n 9,\n 11,\n 12,\n 13,\n 14,\n 15,\n 16,\n 17,\n 422,\n 385,\n 428,\n 406,\n 19,\n 20,\n 21,\n 22,\n 23,\n 24,\n 25,\n 26,\n 27,\n 28,\n 29,\n 30,\n 31,\n 32,\n 33,\n 34,\n 35,\n 36,\n 37,\n 38,\n 39,\n 40,\n 41,\n 43,\n 44,\n 45,\n 420,\n 46,\n 47,\n 48,\n 49,\n 50,\n 51,\n 52,\n 53,\n 54,\n 55,\n 56,\n 57,\n 58,\n 59,\n 60,\n 61,\n 63,\n 64,\n 66,\n 67,\n 68,\n 69,\n 70,\n 71,\n 72,\n 73,\n 74,\n 42,\n 75,\n 76,\n 77,\n 78,\n 79,\n 80,\n 81,\n 82,\n 83,\n 84,\n 409,\n 86,\n 87,\n 88,\n 89,\n 90,\n 91,\n 92,\n 93,\n 94,\n 95,\n 96,\n 97,\n 98,\n 99,\n 100,\n 101,\n 102,\n 103,\n 407,\n 104,\n 105,\n 106,\n 107,\n 108,\n 109,\n 110,\n 111,\n 112,\n 113,\n 114,\n 115,\n 117,\n 118,\n 119,\n 120,\n 121,\n 122,\n 123,\n 125,\n 126,\n 127,\n 128,\n 129,\n 131,\n 132,\n 133,\n 134,\n 136,\n 137,\n 138,\n 139,\n 140,\n 141,\n 142,\n 143,\n 144,\n 145,\n 146,\n 147,\n 148,\n 149,\n 150,\n 151,\n 152,\n 153,\n 154,\n 155,\n 156,\n 157,\n 158,\n 159,\n 160,\n 161,\n 162,\n 163,\n 165,\n 430,\n 355,\n 166,\n 167,\n 168,\n 169,\n 170,\n 171,\n 172,\n 394,\n 173,\n 174,\n 175,\n 176,\n 405,\n 18,\n 380,\n 178,\n 179,\n 406,\n 180,\n 414,\n 428,\n 181,\n 427,\n 313,\n 182,\n 183,\n 407,\n 184,\n 185,\n 187,\n 188,\n 189,\n 190,\n 424,\n 409,\n 324,\n 191,\n 192,\n 424,\n 193,\n 194,\n 195,\n 196,\n 197,\n 198,\n 62,\n 199,\n 430,\n 130,\n 200,\n 201,\n 422,\n 203,\n 204,\n 205,\n 206,\n 419,\n 356,\n 430,\n 207,\n 208,\n 385,\n 209,\n 428,\n 210,\n 211,\n 8,\n 422,\n 267,\n 212,\n 213,\n 374,\n 214,\n 345,\n 215,\n 216,\n 217,\n 218,\n 219,\n 220,\n 420,\n 406,\n 18,\n 221,\n 222,\n 223,\n 224,\n 225,\n 355,\n 226,\n 227,\n 228,\n 230,\n 231,\n 232,\n 233,\n 234,\n 415,\n 428,\n 235,\n 236,\n 329,\n 420,\n 429,\n 238,\n 239,\n 240,\n 135,\n 241,\n 242,\n 243,\n 244,\n 85,\n 245,\n 247,\n 427,\n 427,\n 430,\n 248,\n 85,\n 249,\n 250,\n 251,\n 254,\n 255,\n 256,\n 10,\n 319,\n 420,\n 246,\n 354,\n 337,\n 257,\n 258,\n 259,\n 260,\n 261,\n 425,\n 419,\n 426,\n 413,\n 262,\n 263,\n 264,\n 266,\n 268,\n 269,\n 430,\n 334,\n 276,\n 270,\n 273,\n 275,\n 361,\n 277,\n 278,\n 279,\n 280,\n 427,\n 430,\n 405,\n 164,\n 281,\n 282,\n 283,\n 285,\n 287,\n 344,\n 414,\n 288,\n 289,\n 290,\n 291,\n 430,\n 384,\n 292,\n 293,\n 295,\n 296,\n 297,\n 298,\n 272,\n 299,\n 300,\n 429,\n 430,\n 301,\n 302,\n 409,\n 429,\n 337,\n 303,\n 304,\n 305,\n 306,\n 307,\n 308,\n 310,\n 312,\n 314,\n 315,\n 316,\n 317,\n 320,\n 321,\n 323,\n 325,\n 326,\n 328,\n 330,\n 363,\n 331,\n 333,\n 336,\n 338,\n 339,\n 340,\n 341,\n 342,\n 343,\n 347,\n 348,\n 311,\n 349,\n 350,\n 352,\n 353,\n 357,\n 359,\n 362,\n 365,\n 366,\n 367,\n 368,\n 369,\n 370,\n 372,\n 373,\n 375,\n 376,\n 377,\n 378,\n 379,\n 382,\n 383,\n 386,\n 387,\n 388,\n 389,\n 390,\n 392,\n 395,\n 396,\n 398,\n 399,\n 400,\n 401,\n 402,\n 403,\n 404,\n 408,\n 410,\n 411,\n 416,\n 417,\n 421,\n 431,\n 432,\n 433,\n 434,\n 435,\n 436,\n 437,\n 438,\n 439,\n 440,\n 441,\n 442,\n 443,\n 444,\n 445,\n 446,\n 447,\n 448,\n 449,\n 450,\n 451,\n 452,\n 453,\n 454,\n 455,\n 456,\n 457,\n 458,\n 459,\n 460,\n 461,\n 430,\n 462,\n 463,\n 464,\n 465,\n 466,\n 467,\n 468,\n 469,\n 470,\n 471,\n 472,\n 473,\n 474,\n 475,\n 476,\n 477,\n 478,\n 479,\n 480,\n 481,\n 124,\n 482,\n 483,\n 484,\n 274,\n 485,\n 486,\n 355,\n 429,\n 487,\n 488,\n 116,\n 407,\n 489,\n 286,\n 490,\n 491,\n 492,\n 493,\n 494,\n 495,\n 496,\n 497,\n 498,\n 499,\n 500,\n 501,\n 502,\n 503,\n 504,\n 505,\n 506,\n 351,\n 507,\n 508,\n 509,\n 510,\n 428,\n 511,\n 512,\n 513,\n 514,\n 515,\n 516,\n 517,\n 518,\n 519,\n 520,\n 521,\n 522,\n 523,\n 524,\n 525,\n 526,\n 527,\n 528,\n 529,\n 530,\n 531,\n 532,\n 533,\n 534,\n 535,\n 536,\n 537,\n 538,\n 539,\n 540,\n 541,\n 542,\n 543,\n 544,\n 545,\n 546,\n 547,\n 548,\n 549,\n 550,\n 551,\n 552,\n 553,\n 554,\n 555,\n 556,\n 557,\n 558,\n 559,\n 560,\n 561,\n 562,\n 563,\n 564,\n 565,\n 566,\n 405,\n 567,\n 568,\n 569,\n 570,\n 355,\n 571,\n 572,\n 271,\n 573,\n 426,\n 423,\n 574,\n 418,\n 371,\n 407,\n 575,\n 576,\n 358,\n 577,\n 322,\n 384,\n 578,\n 384,\n 579,\n 580,\n 581,\n 177,\n 582,\n 583,\n 584,\n 585,\n 186,\n 586,\n 405,\n 253,\n 8,\n 587,\n 588,\n 589,\n 590,\n 591,\n 592,\n 593,\n 594,\n 595,\n 596,\n 597,\n 598,\n 599,\n 600,\n 601,\n 602,\n 603,\n 604,\n 605,\n 606,\n 607,\n 608,\n 609,\n 610,\n 611,\n 612,\n 613,\n 614,\n 615,\n 616,\n 617,\n 618,\n 619,\n 620,\n 621,\n 622,\n 623,\n 624,\n 625,\n 626,\n 627,\n 628,\n 629,\n 630,\n 631,\n 632,\n 633,\n 634,\n 253,\n 327,\n 229,\n 635,\n 346,\n 636,\n 391,\n 393,\n 429,\n 637,\n 638,\n 639,\n 640,\n 641,\n 642,\n 643,\n 644,\n 645,\n 646,\n 647,\n 648,\n 649,\n 650,\n 651,\n 652,\n 653,\n 654,\n 655,\n 656,\n 657,\n 658,\n 659,\n 660,\n 661,\n 662,\n 663,\n 664,\n 665,\n 666,\n 667,\n 668,\n 669,\n 670,\n 671,\n 672,\n 673,\n 674,\n 675,\n 676,\n 363,\n 677,\n 678,\n 679,\n 680,\n 681,\n 682,\n 683,\n 684,\n 685,\n 686,\n 687,\n 688,\n 689,\n 690,\n 691,\n 692,\n 309,\n 693,\n 694,\n 695,\n 425,\n 696,\n 697,\n 698,\n 699,\n 700,\n 701,\n 702,\n 703,\n 704,\n 705,\n 706,\n 707,\n 708,\n 709,\n 710,\n 711,\n 712,\n 713,\n 714,\n 715,\n 716,\n 717,\n 718,\n 719,\n 720,\n 721,\n 722,\n 723,\n 724,\n 725,\n 726,\n 727,\n 728,\n 729,\n 730,\n 731,\n 732,\n 733,\n 734,\n 735,\n 736,\n 737,\n 738,\n 739,\n 740,\n 741,\n 742,\n 743,\n 744,\n 745,\n 746,\n 747,\n 748,\n 749,\n 750,\n 751,\n 752,\n 753,\n 754,\n 755,\n 756,\n 757,\n 758,\n 759,\n 760,\n 761,\n 762,\n 763,\n 764,\n 765,\n 766,\n 767,\n 768,\n 769,\n 770,\n 771,\n 772,\n 773,\n 774,\n 775,\n 776,\n 777,\n 778,\n 779,\n 780,\n 781,\n 782,\n 783,\n 784,\n 785,\n 786,\n 787,\n 788,\n 789,\n 790,\n 791,\n 792,\n 793,\n 794,\n 795,\n 796,\n 797,\n 798,\n 799,\n 800,\n 801,\n 802,\n 803,\n 804,\n 805,\n 806,\n 807,\n 808,\n 809,\n 810,\n 811,\n 337,\n 812,\n 813,\n 814,\n 815,\n 816,\n 817,\n 818,\n 819,\n 820,\n 821,\n 822,\n 823,\n 824,\n 825,\n 826,\n 827,\n 828,\n 829,\n 830,\n 831,\n 832,\n 833,\n 834,\n 835,\n 836,\n 837,\n 838,\n 265,\n 839,\n 840,\n 841,\n 842,\n 843,\n 844,\n 845,\n 846,\n 847,\n 848,\n 849,\n 850,\n 851,\n 852,\n 853,\n 854,\n 855,\n 856,\n 857,\n 858,\n 859,\n 860,\n 861,\n 862,\n 863,\n 430,\n 864,\n 414,\n 865,\n 866,\n 867,\n 868,\n 869,\n 870,\n 871,\n 872,\n 873,\n 874,\n 875,\n 876,\n 877,\n 878,\n 879,\n 880,\n 881,\n 882,\n 883,\n 884,\n 885,\n 886,\n 887,\n 888,\n 889,\n 890,\n 891,\n 892,\n 893,\n 894,\n 895,\n 896,\n 897,\n 898,\n 899,\n 900,\n 901,\n 902,\n 903,\n 904,\n 905,\n 906,\n 907,\n 908,\n 909,\n 910,\n 911,\n 912,\n 913,\n 397,\n 914,\n 915,\n 916,\n 917,\n 918,\n 919,\n 920,\n 921,\n 922,\n 923,\n 924,\n 925,\n 926,\n 927,\n 928,\n 929,\n 930,\n 931,\n 932,\n 933,\n 934,\n 935,\n 936,\n 937,\n 938,\n 939,\n 940,\n 941,\n 942,\n 943,\n 944,\n 945,\n 946,\n 947,\n 948,\n 949,\n 950,\n 951,\n 952,\n 953,\n 954,\n ...]"
      ]
     },
     "execution_count": 37,
     "metadata": {},
     "output_type": "execute_result"
    }
   ],
   "source": [
    "network.get_miRNA_groups(mirna_list, smaller_groups=False)"
   ]
  },
  {
   "cell_type": "markdown",
   "metadata": {},
   "source": [
    "### Prepare samples for Classification task"
   ]
  },
  {
   "cell_type": "code",
   "execution_count": 60,
   "metadata": {
    "collapsed": true
   },
   "outputs": [
    {
     "name": "stdout",
     "output_type": "stream",
     "text": [
      "mirna_tumor + mirna_normal (552, 1881)\ny (552,)\n"
     ]
    },
    {
     "data": {
      "text/plain": [
       "1    277\n2    121\n3     84\n0     46\n4     24\nName: pathologic_stage, dtype: int64"
      ]
     },
     "execution_count": 60,
     "metadata": {},
     "output_type": "execute_result"
    }
   ],
   "source": [
    "X = pandas.concat([mirna_tumor, mirna_normal])\n",
    "y = X['pathologic_stage']\n",
    "\n",
    "X.drop(['patient_barcode'], 1, inplace=True)\n",
    "X.drop(['pathologic_stage'], 1, inplace=True)\n",
    "\n",
    "pathologic_stage_map = {'normal': 0, 'Stage I': 1, 'Stage II': 2, 'Stage III': 3, 'Stage IV': 4}\n",
    "y = y.replace(pathologic_stage_map)\n",
    "print \"mirna_tumor + mirna_normal\", X.shape\n",
    "print \"y\", y.shape\n",
    "\n",
    "y.value_counts()"
   ]
  },
  {
   "cell_type": "markdown",
   "metadata": {
    "collapsed": true
   },
   "source": [
    "## Create Classifiers"
   ]
  },
  {
   "cell_type": "code",
   "execution_count": 63,
   "metadata": {
    "collapsed": true
   },
   "outputs": [
    {
     "name": "stdout",
     "output_type": "stream",
     "text": [
      "X_train (524, 1881)\nY_train (524, 1) [ 0.  1.  2.  3.  4.]\n"
     ]
    },
    {
     "ename": "RuntimeError",
     "evalue": "fistaFlat : Argument sizes are not consistent",
     "traceback": [
      "\u001b[0;31m\u001b[0m",
      "\u001b[0;31mRuntimeError\u001b[0mTraceback (most recent call last)",
      "\u001b[0;32m<ipython-input-63-09fcf7eacd06>\u001b[0m in \u001b[0;36m<module>\u001b[0;34m()\u001b[0m\n\u001b[1;32m     22\u001b[0m \u001b[0;34m\u001b[0m\u001b[0m\n\u001b[1;32m     23\u001b[0m \u001b[0mgroup_l2\u001b[0m \u001b[0;34m=\u001b[0m \u001b[0mSPAMSClassifier\u001b[0m\u001b[0;34m(\u001b[0m\u001b[0;34m)\u001b[0m\u001b[0;34m\u001b[0m\u001b[0m\n\u001b[0;32m---> 24\u001b[0;31m \u001b[0mgroup_l2\u001b[0m\u001b[0;34m.\u001b[0m\u001b[0mfit\u001b[0m\u001b[0;34m(\u001b[0m\u001b[0mX_train\u001b[0m\u001b[0;34m,\u001b[0m \u001b[0mY_train\u001b[0m\u001b[0;34m,\u001b[0m \u001b[0mgroups\u001b[0m\u001b[0;34m=\u001b[0m\u001b[0mnetwork\u001b[0m\u001b[0;34m.\u001b[0m\u001b[0mget_miRNA_groups\u001b[0m\u001b[0;34m(\u001b[0m\u001b[0mmirna_list\u001b[0m\u001b[0;34m,\u001b[0m \u001b[0msmaller_groups\u001b[0m\u001b[0;34m=\u001b[0m\u001b[0mTrue\u001b[0m\u001b[0;34m)\u001b[0m\u001b[0;34m,\u001b[0m \u001b[0mparams\u001b[0m\u001b[0;34m=\u001b[0m\u001b[0mparam\u001b[0m\u001b[0;34m)\u001b[0m\u001b[0;34m\u001b[0m\u001b[0m\n\u001b[0m\u001b[1;32m     25\u001b[0m \u001b[0;34m\u001b[0m\u001b[0m\n\u001b[1;32m     26\u001b[0m \u001b[0mgroup_l2_large_groups\u001b[0m \u001b[0;34m=\u001b[0m \u001b[0mSPAMSClassifier\u001b[0m\u001b[0;34m(\u001b[0m\u001b[0;34m)\u001b[0m\u001b[0;34m\u001b[0m\u001b[0m\n",
      "\u001b[0;32m/home/jonny2/PycharmProjects/assn-miRNA-LUAD/src/models/group_lasso_spams.py\u001b[0m in \u001b[0;36mfit\u001b[0;34m(self, X, y, params, groups)\u001b[0m\n\u001b[1;32m     19\u001b[0m \u001b[0;34m\u001b[0m\u001b[0m\n\u001b[1;32m     20\u001b[0m         \u001b[0;32mif\u001b[0m \u001b[0mgroups\u001b[0m \u001b[0;34m!=\u001b[0m \u001b[0mNone\u001b[0m\u001b[0;34m:\u001b[0m\u001b[0;34m\u001b[0m\u001b[0m\n\u001b[0;32m---> 21\u001b[0;31m             \u001b[0mW\u001b[0m\u001b[0;34m,\u001b[0m \u001b[0moptim_info\u001b[0m \u001b[0;34m=\u001b[0m \u001b[0mspams\u001b[0m\u001b[0;34m.\u001b[0m\u001b[0mfistaFlat\u001b[0m\u001b[0;34m(\u001b[0m\u001b[0my\u001b[0m\u001b[0;34m,\u001b[0m \u001b[0mX\u001b[0m\u001b[0;34m,\u001b[0m \u001b[0mW0\u001b[0m\u001b[0;34m,\u001b[0m \u001b[0mTrue\u001b[0m\u001b[0;34m,\u001b[0m \u001b[0mgroups\u001b[0m\u001b[0;34m=\u001b[0m\u001b[0mnp\u001b[0m\u001b[0;34m.\u001b[0m\u001b[0marray\u001b[0m\u001b[0;34m(\u001b[0m\u001b[0mgroups\u001b[0m\u001b[0;34m,\u001b[0m \u001b[0mdtype\u001b[0m\u001b[0;34m=\u001b[0m\u001b[0mnp\u001b[0m\u001b[0;34m.\u001b[0m\u001b[0mint32\u001b[0m\u001b[0;34m)\u001b[0m\u001b[0;34m,\u001b[0m \u001b[0;34m**\u001b[0m\u001b[0mparams\u001b[0m\u001b[0;34m)\u001b[0m\u001b[0;34m\u001b[0m\u001b[0m\n\u001b[0m\u001b[1;32m     22\u001b[0m         \u001b[0;32melse\u001b[0m\u001b[0;34m:\u001b[0m\u001b[0;34m\u001b[0m\u001b[0m\n\u001b[1;32m     23\u001b[0m             \u001b[0mW\u001b[0m\u001b[0;34m,\u001b[0m \u001b[0moptim_info\u001b[0m \u001b[0;34m=\u001b[0m \u001b[0mspams\u001b[0m\u001b[0;34m.\u001b[0m\u001b[0mfistaFlat\u001b[0m\u001b[0;34m(\u001b[0m\u001b[0my\u001b[0m\u001b[0;34m,\u001b[0m \u001b[0mX\u001b[0m\u001b[0;34m,\u001b[0m \u001b[0mW0\u001b[0m\u001b[0;34m,\u001b[0m \u001b[0mTrue\u001b[0m\u001b[0;34m,\u001b[0m \u001b[0;34m**\u001b[0m\u001b[0mparams\u001b[0m\u001b[0;34m)\u001b[0m\u001b[0;34m\u001b[0m\u001b[0m\n",
      "\u001b[0;32m/opt/anaconda/lib/python2.7/site-packages/spams.pyc\u001b[0m in \u001b[0;36mfistaFlat\u001b[0;34m(Y, X, W0, return_optim_info, numThreads, max_it, L0, fixed_step, gamma, lambda1, delta, lambda2, lambda3, a, b, c, tol, it0, max_iter_backtracking, compute_gram, lin_admm, admm, intercept, resetflow, regul, loss, verbose, pos, clever, log, ista, subgrad, logName, is_inner_weights, inner_weights, size_group, groups, sqrt_step, transpose, linesearch_mode)\u001b[0m\n\u001b[1;32m   1115\u001b[0m         \u001b[0minner_weights\u001b[0m \u001b[0;34m=\u001b[0m \u001b[0mnp\u001b[0m\u001b[0;34m.\u001b[0m\u001b[0marray\u001b[0m\u001b[0;34m(\u001b[0m\u001b[0;34m[\u001b[0m\u001b[0;36m0.\u001b[0m\u001b[0;34m]\u001b[0m\u001b[0;34m,\u001b[0m\u001b[0mdtype\u001b[0m\u001b[0;34m=\u001b[0m\u001b[0mX\u001b[0m\u001b[0;34m.\u001b[0m\u001b[0mdtype\u001b[0m\u001b[0;34m)\u001b[0m\u001b[0;34m\u001b[0m\u001b[0m\n\u001b[1;32m   1116\u001b[0m     \u001b[0mW\u001b[0m \u001b[0;34m=\u001b[0m \u001b[0mnp\u001b[0m\u001b[0;34m.\u001b[0m\u001b[0mzeros\u001b[0m\u001b[0;34m(\u001b[0m\u001b[0;34m(\u001b[0m\u001b[0mW0\u001b[0m\u001b[0;34m.\u001b[0m\u001b[0mshape\u001b[0m\u001b[0;34m[\u001b[0m\u001b[0;36m0\u001b[0m\u001b[0;34m]\u001b[0m\u001b[0;34m,\u001b[0m\u001b[0mW0\u001b[0m\u001b[0;34m.\u001b[0m\u001b[0mshape\u001b[0m\u001b[0;34m[\u001b[0m\u001b[0;36m1\u001b[0m\u001b[0;34m]\u001b[0m\u001b[0;34m)\u001b[0m\u001b[0;34m,\u001b[0m\u001b[0mdtype\u001b[0m\u001b[0;34m=\u001b[0m\u001b[0mW0\u001b[0m\u001b[0;34m.\u001b[0m\u001b[0mdtype\u001b[0m\u001b[0;34m,\u001b[0m\u001b[0morder\u001b[0m\u001b[0;34m=\u001b[0m\u001b[0;34m\"FORTRAN\"\u001b[0m\u001b[0;34m)\u001b[0m\u001b[0;34m\u001b[0m\u001b[0m\n\u001b[0;32m-> 1117\u001b[0;31m     \u001b[0moptim_info\u001b[0m \u001b[0;34m=\u001b[0m \u001b[0mspams_wrap\u001b[0m\u001b[0;34m.\u001b[0m\u001b[0mfistaFlat\u001b[0m\u001b[0;34m(\u001b[0m\u001b[0mY\u001b[0m\u001b[0;34m,\u001b[0m\u001b[0mX\u001b[0m\u001b[0;34m,\u001b[0m\u001b[0mW0\u001b[0m\u001b[0;34m,\u001b[0m\u001b[0mW\u001b[0m\u001b[0;34m,\u001b[0m\u001b[0mgroups\u001b[0m\u001b[0;34m,\u001b[0m\u001b[0mnumThreads\u001b[0m \u001b[0;34m,\u001b[0m\u001b[0mmax_it\u001b[0m \u001b[0;34m,\u001b[0m\u001b[0mL0\u001b[0m\u001b[0;34m,\u001b[0m\u001b[0mfixed_step\u001b[0m\u001b[0;34m,\u001b[0m\u001b[0mgamma\u001b[0m\u001b[0;34m,\u001b[0m\u001b[0mlambda1\u001b[0m\u001b[0;34m,\u001b[0m\u001b[0mdelta\u001b[0m\u001b[0;34m,\u001b[0m\u001b[0mlambda2\u001b[0m\u001b[0;34m,\u001b[0m\u001b[0mlambda3\u001b[0m\u001b[0;34m,\u001b[0m\u001b[0ma\u001b[0m\u001b[0;34m,\u001b[0m\u001b[0mb\u001b[0m\u001b[0;34m,\u001b[0m\u001b[0mc\u001b[0m\u001b[0;34m,\u001b[0m\u001b[0mtol\u001b[0m\u001b[0;34m,\u001b[0m\u001b[0mit0\u001b[0m\u001b[0;34m,\u001b[0m\u001b[0mmax_iter_backtracking\u001b[0m\u001b[0;34m,\u001b[0m\u001b[0mcompute_gram\u001b[0m\u001b[0;34m,\u001b[0m\u001b[0mlin_admm\u001b[0m\u001b[0;34m,\u001b[0m\u001b[0madmm\u001b[0m\u001b[0;34m,\u001b[0m\u001b[0mintercept\u001b[0m\u001b[0;34m,\u001b[0m\u001b[0mresetflow\u001b[0m\u001b[0;34m,\u001b[0m\u001b[0mregul\u001b[0m\u001b[0;34m,\u001b[0m\u001b[0mloss\u001b[0m\u001b[0;34m,\u001b[0m\u001b[0mverbose\u001b[0m\u001b[0;34m,\u001b[0m\u001b[0mpos\u001b[0m\u001b[0;34m,\u001b[0m\u001b[0mclever\u001b[0m\u001b[0;34m,\u001b[0m\u001b[0mlog\u001b[0m\u001b[0;34m,\u001b[0m\u001b[0mista\u001b[0m\u001b[0;34m,\u001b[0m\u001b[0msubgrad\u001b[0m\u001b[0;34m,\u001b[0m\u001b[0mlogName\u001b[0m\u001b[0;34m,\u001b[0m\u001b[0mis_inner_weights\u001b[0m\u001b[0;34m,\u001b[0m\u001b[0minner_weights\u001b[0m\u001b[0;34m,\u001b[0m\u001b[0msize_group\u001b[0m\u001b[0;34m,\u001b[0m\u001b[0msqrt_step\u001b[0m\u001b[0;34m,\u001b[0m\u001b[0mtranspose\u001b[0m\u001b[0;34m,\u001b[0m\u001b[0mlinesearch_mode\u001b[0m\u001b[0;34m)\u001b[0m\u001b[0;34m\u001b[0m\u001b[0m\n\u001b[0m\u001b[1;32m   1118\u001b[0m     \u001b[0;32mif\u001b[0m \u001b[0mreturn_optim_info\u001b[0m\u001b[0;34m:\u001b[0m\u001b[0;34m\u001b[0m\u001b[0m\n\u001b[1;32m   1119\u001b[0m         \u001b[0;32mreturn\u001b[0m\u001b[0;34m(\u001b[0m\u001b[0mW\u001b[0m\u001b[0;34m,\u001b[0m\u001b[0moptim_info\u001b[0m\u001b[0;34m)\u001b[0m\u001b[0;34m\u001b[0m\u001b[0m\n",
      "\u001b[0;32m/opt/anaconda/lib/python2.7/site-packages/spams_wrap.pyc\u001b[0m in \u001b[0;36mfistaFlat\u001b[0;34m(*args)\u001b[0m\n\u001b[1;32m    398\u001b[0m         bool transpose, int linesearch_mode) -> Matrix<(float)>\n\u001b[1;32m    399\u001b[0m     \"\"\"\n\u001b[0;32m--> 400\u001b[0;31m   \u001b[0;32mreturn\u001b[0m \u001b[0m_spams_wrap\u001b[0m\u001b[0;34m.\u001b[0m\u001b[0mfistaFlat\u001b[0m\u001b[0;34m(\u001b[0m\u001b[0;34m*\u001b[0m\u001b[0margs\u001b[0m\u001b[0;34m)\u001b[0m\u001b[0;34m\u001b[0m\u001b[0m\n\u001b[0m\u001b[1;32m    401\u001b[0m \u001b[0;34m\u001b[0m\u001b[0m\n\u001b[1;32m    402\u001b[0m \u001b[0;32mdef\u001b[0m \u001b[0mfistaTree\u001b[0m\u001b[0;34m(\u001b[0m\u001b[0;34m*\u001b[0m\u001b[0margs\u001b[0m\u001b[0;34m)\u001b[0m\u001b[0;34m:\u001b[0m\u001b[0;34m\u001b[0m\u001b[0m\n",
      "\u001b[0;31mRuntimeError\u001b[0m: fistaFlat : Argument sizes are not consistent"
     ],
     "output_type": "error"
    }
   ],
   "source": [
    "from sklearn.model_selection import train_test_split\n",
    "from src.models.group_lasso_spams import SPAMSClassifier\n",
    "\n",
    "myfloat = np.float\n",
    "param = {'numThreads': -1, 'verbose': True,\n",
    "         'it0': 10, 'max_it': 300,\n",
    "         'L0': 0.1, 'tol': 1e-3, 'intercept': False,\n",
    "         'pos': False}\n",
    "param['loss'] = 'multi-logistic'\n",
    "param['regul'] = 'group-lasso-l2'\n",
    "param['lambda1'] = 0.5\n",
    "# param['lambda2'] = 0.5\n",
    "\n",
    "X_train, X_test, Y_train, Y_test = \\\n",
    "    train_test_split(X, y, test_size=0.05, random_state=np.random.randint(0, 10000), stratify=y)\n",
    "\n",
    "X_train = np.asfortranarray(X_train, dtype=myfloat)\n",
    "Y_train = np.asfortranarray(Y_train, dtype=myfloat)\n",
    "Y_train = np.reshape(Y_train, [Y_train.shape[0], 1])\n",
    "\n",
    "print \"X_train\", X_train.shape\n",
    "print \"Y_train\", Y_train.shape, np.unique(Y_train)\n",
    "\n",
    "group_l2 = SPAMSClassifier()\n",
    "group_l2.fit(X_train, Y_train, groups=network.get_miRNA_groups(mirna_list, smaller_groups=True), params=param)\n",
    "\n",
    "group_l2_large_groups = SPAMSClassifier()\n",
    "group_l2_large_groups.fit(X_train, Y_train, \n",
    "                          groups=network.get_miRNA_groups(mirna_list, smaller_groups=False),\n",
    "                          params=param)\n",
    "\n",
    "param['regul'] = 'l1'\n",
    "l1_lasso = SPAMSClassifier()\n",
    "l1_lasso.fit(X_train, Y_train, groups=None, params=param)\n",
    "\n",
    "param['regul'] = 'elastic-net'\n",
    "elastic_net = SPAMSClassifier()\n",
    "elastic_net.fit(X_train, Y_train, groups=None, params=param)\n",
    "\n",
    "param['regul'] = 'sparse-group-lasso-l2'\n",
    "sparse_group_l2 = SPAMSClassifier()\n",
    "sparse_group_l2.fit(X_train, Y_train, groups=network.get_miRNA_groups(mirna_list), params=param)\n",
    "\n",
    "sparse_group_l2_large_groups = SPAMSClassifier()\n",
    "sparse_group_l2_large_groups.fit(X_train, Y_train, groups=network.get_miRNA_groups(mirna_list, smaller_groups=False), params=param)"
   ]
  },
  {
   "cell_type": "code",
   "execution_count": 494,
   "metadata": {
    "collapsed": true
   },
   "outputs": [],
   "source": [
    ""
   ]
  },
  {
   "cell_type": "markdown",
   "metadata": {},
   "source": [
    "## Classification Report"
   ]
  },
  {
   "cell_type": "code",
   "execution_count": 54,
   "metadata": {
    "collapsed": true
   },
   "outputs": [
    {
     "name": "stdout",
     "output_type": "stream",
     "text": [
      "\ngroup-lasso-l2\nnon-zero 199\n             precision    recall  f1-score   support\n\n     normal       1.00      1.00      1.00         2\n     Stages       1.00      1.00      1.00        26\n\navg / total       1.00      1.00      1.00        28\n\n\ngroup_l2_large_groups\nnon-zero 219\n             precision    recall  f1-score   support\n\n     normal       1.00      1.00      1.00         2\n     Stages       1.00      1.00      1.00        26\n\navg / total       1.00      1.00      1.00        28\n\n\nl1_lasso\nnon-zero 181\n             precision    recall  f1-score   support\n\n     normal       1.00      1.00      1.00         2\n     Stages       1.00      1.00      1.00        26\n\navg / total       1.00      1.00      1.00        28\n\n\nelastic_net\nnon-zero 181\n             precision    recall  f1-score   support\n\n     normal       1.00      1.00      1.00         2\n     Stages       1.00      1.00      1.00        26\n\navg / total       1.00      1.00      1.00        28\n\n\nsparse-group-lasso-l2\nnon-zero 199\n             precision    recall  f1-score   support\n\n     normal       1.00      1.00      1.00         2\n     Stages       1.00      1.00      1.00        26\n\navg / total       1.00      1.00      1.00        28\n\n\nsparse_group_l2_large_groups\nnon-zero 219\n             precision    recall  f1-score   support\n\n     normal       1.00      1.00      1.00         2\n     Stages       1.00      1.00      1.00        26\n\navg / total       1.00      1.00      1.00        28\n\n"
     ]
    }
   ],
   "source": [
    "from sklearn import metrics\n",
    "\n",
    "for model, name in [(group_l2, 'group-lasso-l2'),\n",
    "                    (group_l2_large_groups, 'group_l2_large_groups'),\n",
    "                    (l1_lasso, 'l1_lasso'),\n",
    "                    (elastic_net, 'elastic_net'),\n",
    "                    (sparse_group_l2, 'sparse-group-lasso-l2'),\n",
    "                    (sparse_group_l2_large_groups, 'sparse_group_l2_large_groups')]:\n",
    "    print '\\n', name\n",
    "    print 'non-zero', model.get_selected_miRNAs(mirna_list).shape[0]\n",
    "\n",
    "    # print metrics.classification_report(Y_train, model.predict(X_train),\n",
    "    #                                 labels=[-1, 1],\n",
    "    #                                 target_names=['normal', 'Stages'])\n",
    "\n",
    "    print metrics.classification_report(Y_test, model.predict(X_test),\n",
    "                                    labels=[-1, 1],\n",
    "                                    target_names=['normal', 'Stages'])"
   ]
  },
  {
   "cell_type": "markdown",
   "metadata": {},
   "source": [
    "## Loading HMDD database for experimentally validated NSCLC miRNA"
   ]
  },
  {
   "cell_type": "code",
   "execution_count": 55,
   "metadata": {
    "collapsed": true
   },
   "outputs": [
    {
     "name": "stdout",
     "output_type": "stream",
     "text": [
      "HMDD_lung_neoplasm_miRNAs (157,)\nmiRCancer_luad_miRNAs 27\nmir2disease_nsclc_miRNAs (24,) ['hsa-let-7g' 'hsa-mir-372' 'hsa-mir-107' 'hsa-mir-21' 'hsa-mir-15a'\n 'hsa-mir-16' 'hsa-mir-185' 'hsa-mir-125b' 'hsa-mir-126' 'hsa-mir-100'\n 'hsa-mir-9' 'hsa-let-7a' 'hsa-let-7b' 'hsa-let-7d' 'hsa-mir-221'\n 'hsa-mir-137' 'hsa-mir-205' 'hsa-mir-96' 'hsa-mir-34a' 'hsa-mir-34b'\n 'hsa-mir-34c' 'hsa-mir-222' 'hsa-mir-182' 'hsa-mir-15b']\n"
     ]
    }
   ],
   "source": [
    "HMDD_df = pandas.read_table(os.path.join(ROOT_DIR, 'data/external/HMDD_miRNA-disease.txt'), delimiter='\\t', header=-1)\n",
    "HMDD_df = HMDD_df[HMDD_df[2] == \"Lung Neoplasms\"]\n",
    "HMDD_lung_neoplasm_miRNAs = HMDD_df[1].unique()\n",
    "print \"HMDD_lung_neoplasm_miRNAs\", HMDD_lung_neoplasm_miRNAs.shape\n",
    "\n",
    "miRCancer_luad_miRNA_df = pandas.read_csv(os.path.join(ROOT_DIR, 'data/external/validated_luad_miRNAs_miRCancer.csv'))\n",
    "miRCancer_luad_miRNAs = set(miRCancer_luad_miRNA_df['miRNA'].tolist())\n",
    "print \"miRCancer_luad_miRNAs\", len(miRCancer_luad_miRNAs)\n",
    "\n",
    "\n",
    "mir2disease_nsclc_miRNA_df = pandas.read_table(os.path.join(ROOT_DIR, 'data/external/mir2Disease_miRNA-Disease.txt'), delimiter='\\t', header=-1) \n",
    "mir2disease_nsclc_miRNA_df.columns = ['miRNA', 'disease', 'up_down', 'method', 'year', 'description'] \n",
    "mir2disease_nsclc_miRNA_df = mir2disease_nsclc_miRNA_df[(mir2disease_nsclc_miRNA_df['disease'] == 'non-small cell lung cancer (NSCLC)')]\n",
    "mir2disease_nsclc_miRNA_df['miRNA'] = mir2disease_nsclc_miRNA_df['miRNA'].str.lower()\n",
    "mir2disease_nsclc_miRNA_df['miRNA'] = mir2disease_nsclc_miRNA_df['miRNA'].str.replace(\"*\", \"\")\n",
    "mir2disease_nsclc_miRNA_df['miRNA'] = mir2disease_nsclc_miRNA_df['miRNA'].str.replace(\"-3p.*|-5p.*\", \"\")\n",
    "mir2disease_nsclc_miRNA_df.drop_duplicates(inplace=True)\n",
    "mir2disease_nsclc_miRNAs = mir2disease_nsclc_miRNA_df['miRNA'].unique()\n",
    "print \"mir2disease_nsclc_miRNAs\", mir2disease_nsclc_miRNAs.shape, mir2disease_nsclc_miRNAs"
   ]
  },
  {
   "cell_type": "markdown",
   "metadata": {},
   "source": [
    "## Compare models by recall rate"
   ]
  },
  {
   "cell_type": "code",
   "execution_count": 56,
   "metadata": {
    "collapsed": false
   },
   "outputs": [
    {
     "name": "stderr",
     "output_type": "stream",
     "text": [
      "/opt/anaconda/lib/python2.7/site-packages/ipykernel/__main__.py:16: FutureWarning: sort(columns=....) is deprecated, use sort_values(by=.....)\n"
     ]
    },
    {
     "data": {
      "text/html": [
       "<div>\n",
       "<table border=\"1\" class=\"dataframe\">\n",
       "  <thead>\n",
       "    <tr style=\"text-align: right;\">\n",
       "      <th></th>\n",
       "      <th>method</th>\n",
       "      <th>no_selected</th>\n",
       "      <th>recall_rate</th>\n",
       "      <th>precision_rate</th>\n",
       "    </tr>\n",
       "  </thead>\n",
       "  <tbody>\n",
       "    <tr>\n",
       "      <th>1</th>\n",
       "      <td>group_l2_large_groups</td>\n",
       "      <td>219</td>\n",
       "      <td>0.707006</td>\n",
       "      <td>0.506849</td>\n",
       "    </tr>\n",
       "    <tr>\n",
       "      <th>5</th>\n",
       "      <td>sparse_group_l2_large_groups</td>\n",
       "      <td>219</td>\n",
       "      <td>0.707006</td>\n",
       "      <td>0.506849</td>\n",
       "    </tr>\n",
       "    <tr>\n",
       "      <th>0</th>\n",
       "      <td>group-lasso-l2</td>\n",
       "      <td>199</td>\n",
       "      <td>0.675159</td>\n",
       "      <td>0.532663</td>\n",
       "    </tr>\n",
       "    <tr>\n",
       "      <th>4</th>\n",
       "      <td>sparse-group-lasso-l2</td>\n",
       "      <td>199</td>\n",
       "      <td>0.675159</td>\n",
       "      <td>0.532663</td>\n",
       "    </tr>\n",
       "    <tr>\n",
       "      <th>2</th>\n",
       "      <td>l1_lasso</td>\n",
       "      <td>181</td>\n",
       "      <td>0.636943</td>\n",
       "      <td>0.552486</td>\n",
       "    </tr>\n",
       "    <tr>\n",
       "      <th>3</th>\n",
       "      <td>elastic_net</td>\n",
       "      <td>181</td>\n",
       "      <td>0.636943</td>\n",
       "      <td>0.552486</td>\n",
       "    </tr>\n",
       "  </tbody>\n",
       "</table>\n",
       "</div>"
      ],
      "text/plain": [
       "<div>\n",
       "<table border=\"1\" class=\"dataframe\">\n",
       "  <thead>\n",
       "    <tr style=\"text-align: right;\">\n",
       "      <th></th>\n",
       "      <th>method</th>\n",
       "      <th>no_selected</th>\n",
       "      <th>recall_rate</th>\n",
       "      <th>precision_rate</th>\n",
       "    </tr>\n",
       "  </thead>\n",
       "  <tbody>\n",
       "    <tr>\n",
       "      <th>1</th>\n",
       "      <td>group_l2_large_groups</td>\n",
       "      <td>219</td>\n",
       "      <td>0.707006</td>\n",
       "      <td>0.506849</td>\n",
       "    </tr>\n",
       "    <tr>\n",
       "      <th>5</th>\n",
       "      <td>sparse_group_l2_large_groups</td>\n",
       "      <td>219</td>\n",
       "      <td>0.707006</td>\n",
       "      <td>0.506849</td>\n",
       "    </tr>\n",
       "    <tr>\n",
       "      <th>0</th>\n",
       "      <td>group-lasso-l2</td>\n",
       "      <td>199</td>\n",
       "      <td>0.675159</td>\n",
       "      <td>0.532663</td>\n",
       "    </tr>\n",
       "    <tr>\n",
       "      <th>4</th>\n",
       "      <td>sparse-group-lasso-l2</td>\n",
       "      <td>199</td>\n",
       "      <td>0.675159</td>\n",
       "      <td>0.532663</td>\n",
       "    </tr>\n",
       "    <tr>\n",
       "      <th>2</th>\n",
       "      <td>l1_lasso</td>\n",
       "      <td>181</td>\n",
       "      <td>0.636943</td>\n",
       "      <td>0.552486</td>\n",
       "    </tr>\n",
       "    <tr>\n",
       "      <th>3</th>\n",
       "      <td>elastic_net</td>\n",
       "      <td>181</td>\n",
       "      <td>0.636943</td>\n",
       "      <td>0.552486</td>\n",
       "    </tr>\n",
       "  </tbody>\n",
       "</table>\n",
       "</div>"
      ]
     },
     "execution_count": 56,
     "metadata": {},
     "output_type": "execute_result"
    }
   ],
   "source": [
    "from src.utils.validate_candidate_miRNAs import recall_rate, precision_rate\n",
    "    \n",
    "pandas.DataFrame([[name,\n",
    "                   model.get_selected_miRNAs(mirna_list)['miRNA'].shape[0], \n",
    "                   recall_rate(candidate_miRNAs=model.get_selected_miRNAs(mirna_list)['miRNA'].tolist(), \n",
    "                               validated_miRNAs=HMDD_lung_neoplasm_miRNAs), \n",
    "                   precision_rate(candidate_miRNAs=model.get_selected_miRNAs(mirna_list)['miRNA'].tolist(), \n",
    "                                  validated_miRNAs=HMDD_lung_neoplasm_miRNAs) ] \\\n",
    "                  for model, name in [(group_l2, 'group-lasso-l2'),\n",
    "                                      (group_l2_large_groups, 'group_l2_large_groups'),\n",
    "                                      (l1_lasso, 'l1_lasso'),\n",
    "                                      (elastic_net, 'elastic_net'),\n",
    "                                      (sparse_group_l2, 'sparse-group-lasso-l2'),\n",
    "                                      (sparse_group_l2_large_groups, 'sparse_group_l2_large_groups')]\n",
    "                  ], columns=['method', 'no_selected', 'recall_rate', 'precision_rate'])\\\n",
    "    .sort('recall_rate', ascending=False)"
   ]
  },
  {
   "cell_type": "markdown",
   "metadata": {},
   "source": [
    "## Check candidate miRNA's if validated"
   ]
  },
  {
   "cell_type": "code",
   "execution_count": 57,
   "metadata": {},
   "outputs": [
    {
     "data": {
      "text/html": [
       "<div>\n",
       "<table border=\"1\" class=\"dataframe\">\n",
       "  <thead>\n",
       "    <tr style=\"text-align: right;\">\n",
       "      <th></th>\n",
       "      <th>miRNA</th>\n",
       "      <th>coef</th>\n",
       "      <th>validated</th>\n",
       "      <th>groups</th>\n",
       "    </tr>\n",
       "  </thead>\n",
       "  <tbody>\n",
       "    <tr>\n",
       "      <th>53</th>\n",
       "      <td>hsa-mir-148a</td>\n",
       "      <td>0.000126</td>\n",
       "      <td>True</td>\n",
       "      <td>[]</td>\n",
       "    </tr>\n",
       "    <tr>\n",
       "      <th>70</th>\n",
       "      <td>hsa-mir-182</td>\n",
       "      <td>0.000095</td>\n",
       "      <td>True</td>\n",
       "      <td>[2, 2, 2, 2, 2, 2, 2, 3, 3, 3, 3, 4, 4, 4, 4, ...</td>\n",
       "    </tr>\n",
       "    <tr>\n",
       "      <th>104</th>\n",
       "      <td>hsa-mir-22</td>\n",
       "      <td>0.000081</td>\n",
       "      <td>True</td>\n",
       "      <td>[4, 4, 4, 6, 9]</td>\n",
       "    </tr>\n",
       "    <tr>\n",
       "      <th>128</th>\n",
       "      <td>hsa-mir-30a</td>\n",
       "      <td>-0.000073</td>\n",
       "      <td>True</td>\n",
       "      <td>[2, 3, 3, 3, 4, 4, 4, 5, 6, 10, 11]</td>\n",
       "    </tr>\n",
       "    <tr>\n",
       "      <th>21</th>\n",
       "      <td>hsa-mir-10a</td>\n",
       "      <td>0.000041</td>\n",
       "      <td>False</td>\n",
       "      <td>[5]</td>\n",
       "    </tr>\n",
       "    <tr>\n",
       "      <th>71</th>\n",
       "      <td>hsa-mir-183</td>\n",
       "      <td>0.000041</td>\n",
       "      <td>True</td>\n",
       "      <td>[2, 3, 4]</td>\n",
       "    </tr>\n",
       "    <tr>\n",
       "      <th>77</th>\n",
       "      <td>hsa-mir-192</td>\n",
       "      <td>0.000038</td>\n",
       "      <td>True</td>\n",
       "      <td>[2, 2, 2, 3, 3, 7]</td>\n",
       "    </tr>\n",
       "    <tr>\n",
       "      <th>133</th>\n",
       "      <td>hsa-mir-30e</td>\n",
       "      <td>0.000034</td>\n",
       "      <td>True</td>\n",
       "      <td>[3, 4, 11]</td>\n",
       "    </tr>\n",
       "    <tr>\n",
       "      <th>0</th>\n",
       "      <td>hsa-let-7a-1</td>\n",
       "      <td>-0.000032</td>\n",
       "      <td>True</td>\n",
       "      <td>[]</td>\n",
       "    </tr>\n",
       "    <tr>\n",
       "      <th>95</th>\n",
       "      <td>hsa-mir-203a</td>\n",
       "      <td>0.000032</td>\n",
       "      <td>False</td>\n",
       "      <td>[]</td>\n",
       "    </tr>\n",
       "    <tr>\n",
       "      <th>124</th>\n",
       "      <td>hsa-mir-29c</td>\n",
       "      <td>0.000032</td>\n",
       "      <td>True</td>\n",
       "      <td>[]</td>\n",
       "    </tr>\n",
       "    <tr>\n",
       "      <th>2</th>\n",
       "      <td>hsa-let-7a-3</td>\n",
       "      <td>-0.000031</td>\n",
       "      <td>True</td>\n",
       "      <td>[]</td>\n",
       "    </tr>\n",
       "    <tr>\n",
       "      <th>22</th>\n",
       "      <td>hsa-mir-10b</td>\n",
       "      <td>0.000027</td>\n",
       "      <td>True</td>\n",
       "      <td>[]</td>\n",
       "    </tr>\n",
       "    <tr>\n",
       "      <th>121</th>\n",
       "      <td>hsa-mir-29a</td>\n",
       "      <td>0.000027</td>\n",
       "      <td>True</td>\n",
       "      <td>[2, 2, 2, 2, 2, 3, 3, 4, 5, 6]</td>\n",
       "    </tr>\n",
       "    <tr>\n",
       "      <th>8</th>\n",
       "      <td>hsa-let-7f-2</td>\n",
       "      <td>-0.000025</td>\n",
       "      <td>True</td>\n",
       "      <td>[]</td>\n",
       "    </tr>\n",
       "    <tr>\n",
       "      <th>7</th>\n",
       "      <td>hsa-let-7f-1</td>\n",
       "      <td>-0.000024</td>\n",
       "      <td>True</td>\n",
       "      <td>[]</td>\n",
       "    </tr>\n",
       "    <tr>\n",
       "      <th>218</th>\n",
       "      <td>hsa-mir-99b</td>\n",
       "      <td>-0.000021</td>\n",
       "      <td>False</td>\n",
       "      <td>[]</td>\n",
       "    </tr>\n",
       "    <tr>\n",
       "      <th>14</th>\n",
       "      <td>hsa-mir-103a-1</td>\n",
       "      <td>-0.000021</td>\n",
       "      <td>True</td>\n",
       "      <td>[]</td>\n",
       "    </tr>\n",
       "    <tr>\n",
       "      <th>15</th>\n",
       "      <td>hsa-mir-103a-2</td>\n",
       "      <td>-0.000021</td>\n",
       "      <td>True</td>\n",
       "      <td>[]</td>\n",
       "    </tr>\n",
       "    <tr>\n",
       "      <th>132</th>\n",
       "      <td>hsa-mir-30d</td>\n",
       "      <td>0.000020</td>\n",
       "      <td>True</td>\n",
       "      <td>[5]</td>\n",
       "    </tr>\n",
       "  </tbody>\n",
       "</table>\n",
       "</div>"
      ],
      "text/plain": [
       "<div>\n",
       "<table border=\"1\" class=\"dataframe\">\n",
       "  <thead>\n",
       "    <tr style=\"text-align: right;\">\n",
       "      <th></th>\n",
       "      <th>miRNA</th>\n",
       "      <th>coef</th>\n",
       "      <th>validated</th>\n",
       "      <th>groups</th>\n",
       "    </tr>\n",
       "  </thead>\n",
       "  <tbody>\n",
       "    <tr>\n",
       "      <th>53</th>\n",
       "      <td>hsa-mir-148a</td>\n",
       "      <td>0.000126</td>\n",
       "      <td>True</td>\n",
       "      <td>[]</td>\n",
       "    </tr>\n",
       "    <tr>\n",
       "      <th>70</th>\n",
       "      <td>hsa-mir-182</td>\n",
       "      <td>0.000095</td>\n",
       "      <td>True</td>\n",
       "      <td>[2, 2, 2, 2, 2, 2, 2, 3, 3, 3, 3, 4, 4, 4, 4, ...</td>\n",
       "    </tr>\n",
       "    <tr>\n",
       "      <th>104</th>\n",
       "      <td>hsa-mir-22</td>\n",
       "      <td>0.000081</td>\n",
       "      <td>True</td>\n",
       "      <td>[4, 4, 4, 6, 9]</td>\n",
       "    </tr>\n",
       "    <tr>\n",
       "      <th>128</th>\n",
       "      <td>hsa-mir-30a</td>\n",
       "      <td>-0.000073</td>\n",
       "      <td>True</td>\n",
       "      <td>[2, 3, 3, 3, 4, 4, 4, 5, 6, 10, 11]</td>\n",
       "    </tr>\n",
       "    <tr>\n",
       "      <th>21</th>\n",
       "      <td>hsa-mir-10a</td>\n",
       "      <td>0.000041</td>\n",
       "      <td>False</td>\n",
       "      <td>[5]</td>\n",
       "    </tr>\n",
       "    <tr>\n",
       "      <th>71</th>\n",
       "      <td>hsa-mir-183</td>\n",
       "      <td>0.000041</td>\n",
       "      <td>True</td>\n",
       "      <td>[2, 3, 4]</td>\n",
       "    </tr>\n",
       "    <tr>\n",
       "      <th>77</th>\n",
       "      <td>hsa-mir-192</td>\n",
       "      <td>0.000038</td>\n",
       "      <td>True</td>\n",
       "      <td>[2, 2, 2, 3, 3, 7]</td>\n",
       "    </tr>\n",
       "    <tr>\n",
       "      <th>133</th>\n",
       "      <td>hsa-mir-30e</td>\n",
       "      <td>0.000034</td>\n",
       "      <td>True</td>\n",
       "      <td>[3, 4, 11]</td>\n",
       "    </tr>\n",
       "    <tr>\n",
       "      <th>0</th>\n",
       "      <td>hsa-let-7a-1</td>\n",
       "      <td>-0.000032</td>\n",
       "      <td>True</td>\n",
       "      <td>[]</td>\n",
       "    </tr>\n",
       "    <tr>\n",
       "      <th>95</th>\n",
       "      <td>hsa-mir-203a</td>\n",
       "      <td>0.000032</td>\n",
       "      <td>False</td>\n",
       "      <td>[]</td>\n",
       "    </tr>\n",
       "    <tr>\n",
       "      <th>124</th>\n",
       "      <td>hsa-mir-29c</td>\n",
       "      <td>0.000032</td>\n",
       "      <td>True</td>\n",
       "      <td>[]</td>\n",
       "    </tr>\n",
       "    <tr>\n",
       "      <th>2</th>\n",
       "      <td>hsa-let-7a-3</td>\n",
       "      <td>-0.000031</td>\n",
       "      <td>True</td>\n",
       "      <td>[]</td>\n",
       "    </tr>\n",
       "    <tr>\n",
       "      <th>22</th>\n",
       "      <td>hsa-mir-10b</td>\n",
       "      <td>0.000027</td>\n",
       "      <td>True</td>\n",
       "      <td>[]</td>\n",
       "    </tr>\n",
       "    <tr>\n",
       "      <th>121</th>\n",
       "      <td>hsa-mir-29a</td>\n",
       "      <td>0.000027</td>\n",
       "      <td>True</td>\n",
       "      <td>[2, 2, 2, 2, 2, 3, 3, 4, 5, 6]</td>\n",
       "    </tr>\n",
       "    <tr>\n",
       "      <th>8</th>\n",
       "      <td>hsa-let-7f-2</td>\n",
       "      <td>-0.000025</td>\n",
       "      <td>True</td>\n",
       "      <td>[]</td>\n",
       "    </tr>\n",
       "    <tr>\n",
       "      <th>7</th>\n",
       "      <td>hsa-let-7f-1</td>\n",
       "      <td>-0.000024</td>\n",
       "      <td>True</td>\n",
       "      <td>[]</td>\n",
       "    </tr>\n",
       "    <tr>\n",
       "      <th>218</th>\n",
       "      <td>hsa-mir-99b</td>\n",
       "      <td>-0.000021</td>\n",
       "      <td>False</td>\n",
       "      <td>[]</td>\n",
       "    </tr>\n",
       "    <tr>\n",
       "      <th>14</th>\n",
       "      <td>hsa-mir-103a-1</td>\n",
       "      <td>-0.000021</td>\n",
       "      <td>True</td>\n",
       "      <td>[]</td>\n",
       "    </tr>\n",
       "    <tr>\n",
       "      <th>15</th>\n",
       "      <td>hsa-mir-103a-2</td>\n",
       "      <td>-0.000021</td>\n",
       "      <td>True</td>\n",
       "      <td>[]</td>\n",
       "    </tr>\n",
       "    <tr>\n",
       "      <th>132</th>\n",
       "      <td>hsa-mir-30d</td>\n",
       "      <td>0.000020</td>\n",
       "      <td>True</td>\n",
       "      <td>[5]</td>\n",
       "    </tr>\n",
       "  </tbody>\n",
       "</table>\n",
       "</div>"
      ]
     },
     "execution_count": 57,
     "metadata": {},
     "output_type": "execute_result"
    }
   ],
   "source": [
    "candidate_miRNAs = group_l2_large_groups.get_selected_miRNAs(mirna_list)\n",
    "candidate_miRNAs['validated'] = candidate_miRNAs.apply(lambda row: row['miRNA'] in HMDD_lung_neoplasm_miRNAs, axis=1)\n",
    "candidate_miRNAs['groups'] = candidate_miRNAs.apply(lambda row: network.find_miRNA_groups(row['miRNA']), axis=1)\n",
    "candidate_miRNAs.head(20)"
   ]
  },
  {
   "cell_type": "code",
   "execution_count": 58,
   "metadata": {},
   "outputs": [
    {
     "data": {
      "text/html": [
       "<div>\n",
       "<table border=\"1\" class=\"dataframe\">\n",
       "  <thead>\n",
       "    <tr style=\"text-align: right;\">\n",
       "      <th></th>\n",
       "      <th>miRNA</th>\n",
       "      <th>coef</th>\n",
       "      <th>validated</th>\n",
       "      <th>groups</th>\n",
       "    </tr>\n",
       "  </thead>\n",
       "  <tbody>\n",
       "    <tr>\n",
       "      <th>50</th>\n",
       "      <td>hsa-mir-148a</td>\n",
       "      <td>0.000126</td>\n",
       "      <td>True</td>\n",
       "      <td>[]</td>\n",
       "    </tr>\n",
       "    <tr>\n",
       "      <th>67</th>\n",
       "      <td>hsa-mir-182</td>\n",
       "      <td>0.000095</td>\n",
       "      <td>True</td>\n",
       "      <td>[2, 2, 2, 2, 2, 2, 2, 3, 3, 3, 3, 4, 4, 4, 4, ...</td>\n",
       "    </tr>\n",
       "    <tr>\n",
       "      <th>98</th>\n",
       "      <td>hsa-mir-22</td>\n",
       "      <td>0.000081</td>\n",
       "      <td>True</td>\n",
       "      <td>[4, 4, 4, 6, 9]</td>\n",
       "    </tr>\n",
       "    <tr>\n",
       "      <th>121</th>\n",
       "      <td>hsa-mir-30a</td>\n",
       "      <td>-0.000073</td>\n",
       "      <td>True</td>\n",
       "      <td>[2, 3, 3, 3, 4, 4, 4, 5, 6, 10, 11]</td>\n",
       "    </tr>\n",
       "    <tr>\n",
       "      <th>20</th>\n",
       "      <td>hsa-mir-10a</td>\n",
       "      <td>0.000041</td>\n",
       "      <td>False</td>\n",
       "      <td>[5]</td>\n",
       "    </tr>\n",
       "    <tr>\n",
       "      <th>68</th>\n",
       "      <td>hsa-mir-183</td>\n",
       "      <td>0.000041</td>\n",
       "      <td>True</td>\n",
       "      <td>[2, 3, 4]</td>\n",
       "    </tr>\n",
       "    <tr>\n",
       "      <th>72</th>\n",
       "      <td>hsa-mir-192</td>\n",
       "      <td>0.000038</td>\n",
       "      <td>True</td>\n",
       "      <td>[2, 2, 2, 3, 3, 7]</td>\n",
       "    </tr>\n",
       "    <tr>\n",
       "      <th>126</th>\n",
       "      <td>hsa-mir-30e</td>\n",
       "      <td>0.000033</td>\n",
       "      <td>True</td>\n",
       "      <td>[3, 4, 11]</td>\n",
       "    </tr>\n",
       "    <tr>\n",
       "      <th>0</th>\n",
       "      <td>hsa-let-7a-1</td>\n",
       "      <td>-0.000032</td>\n",
       "      <td>True</td>\n",
       "      <td>[]</td>\n",
       "    </tr>\n",
       "    <tr>\n",
       "      <th>89</th>\n",
       "      <td>hsa-mir-203a</td>\n",
       "      <td>0.000032</td>\n",
       "      <td>False</td>\n",
       "      <td>[]</td>\n",
       "    </tr>\n",
       "    <tr>\n",
       "      <th>118</th>\n",
       "      <td>hsa-mir-29c</td>\n",
       "      <td>0.000032</td>\n",
       "      <td>True</td>\n",
       "      <td>[]</td>\n",
       "    </tr>\n",
       "    <tr>\n",
       "      <th>2</th>\n",
       "      <td>hsa-let-7a-3</td>\n",
       "      <td>-0.000031</td>\n",
       "      <td>True</td>\n",
       "      <td>[]</td>\n",
       "    </tr>\n",
       "    <tr>\n",
       "      <th>21</th>\n",
       "      <td>hsa-mir-10b</td>\n",
       "      <td>0.000027</td>\n",
       "      <td>True</td>\n",
       "      <td>[]</td>\n",
       "    </tr>\n",
       "    <tr>\n",
       "      <th>115</th>\n",
       "      <td>hsa-mir-29a</td>\n",
       "      <td>0.000027</td>\n",
       "      <td>True</td>\n",
       "      <td>[2, 2, 2, 2, 2, 3, 3, 4, 5, 6]</td>\n",
       "    </tr>\n",
       "    <tr>\n",
       "      <th>8</th>\n",
       "      <td>hsa-let-7f-2</td>\n",
       "      <td>-0.000025</td>\n",
       "      <td>True</td>\n",
       "      <td>[]</td>\n",
       "    </tr>\n",
       "    <tr>\n",
       "      <th>7</th>\n",
       "      <td>hsa-let-7f-1</td>\n",
       "      <td>-0.000024</td>\n",
       "      <td>True</td>\n",
       "      <td>[]</td>\n",
       "    </tr>\n",
       "    <tr>\n",
       "      <th>198</th>\n",
       "      <td>hsa-mir-99b</td>\n",
       "      <td>-0.000021</td>\n",
       "      <td>False</td>\n",
       "      <td>[]</td>\n",
       "    </tr>\n",
       "    <tr>\n",
       "      <th>14</th>\n",
       "      <td>hsa-mir-103a-1</td>\n",
       "      <td>-0.000021</td>\n",
       "      <td>True</td>\n",
       "      <td>[]</td>\n",
       "    </tr>\n",
       "    <tr>\n",
       "      <th>15</th>\n",
       "      <td>hsa-mir-103a-2</td>\n",
       "      <td>-0.000021</td>\n",
       "      <td>True</td>\n",
       "      <td>[]</td>\n",
       "    </tr>\n",
       "    <tr>\n",
       "      <th>125</th>\n",
       "      <td>hsa-mir-30d</td>\n",
       "      <td>0.000020</td>\n",
       "      <td>True</td>\n",
       "      <td>[5]</td>\n",
       "    </tr>\n",
       "  </tbody>\n",
       "</table>\n",
       "</div>"
      ],
      "text/plain": [
       "<div>\n",
       "<table border=\"1\" class=\"dataframe\">\n",
       "  <thead>\n",
       "    <tr style=\"text-align: right;\">\n",
       "      <th></th>\n",
       "      <th>miRNA</th>\n",
       "      <th>coef</th>\n",
       "      <th>validated</th>\n",
       "      <th>groups</th>\n",
       "    </tr>\n",
       "  </thead>\n",
       "  <tbody>\n",
       "    <tr>\n",
       "      <th>50</th>\n",
       "      <td>hsa-mir-148a</td>\n",
       "      <td>0.000126</td>\n",
       "      <td>True</td>\n",
       "      <td>[]</td>\n",
       "    </tr>\n",
       "    <tr>\n",
       "      <th>67</th>\n",
       "      <td>hsa-mir-182</td>\n",
       "      <td>0.000095</td>\n",
       "      <td>True</td>\n",
       "      <td>[2, 2, 2, 2, 2, 2, 2, 3, 3, 3, 3, 4, 4, 4, 4, ...</td>\n",
       "    </tr>\n",
       "    <tr>\n",
       "      <th>98</th>\n",
       "      <td>hsa-mir-22</td>\n",
       "      <td>0.000081</td>\n",
       "      <td>True</td>\n",
       "      <td>[4, 4, 4, 6, 9]</td>\n",
       "    </tr>\n",
       "    <tr>\n",
       "      <th>121</th>\n",
       "      <td>hsa-mir-30a</td>\n",
       "      <td>-0.000073</td>\n",
       "      <td>True</td>\n",
       "      <td>[2, 3, 3, 3, 4, 4, 4, 5, 6, 10, 11]</td>\n",
       "    </tr>\n",
       "    <tr>\n",
       "      <th>20</th>\n",
       "      <td>hsa-mir-10a</td>\n",
       "      <td>0.000041</td>\n",
       "      <td>False</td>\n",
       "      <td>[5]</td>\n",
       "    </tr>\n",
       "    <tr>\n",
       "      <th>68</th>\n",
       "      <td>hsa-mir-183</td>\n",
       "      <td>0.000041</td>\n",
       "      <td>True</td>\n",
       "      <td>[2, 3, 4]</td>\n",
       "    </tr>\n",
       "    <tr>\n",
       "      <th>72</th>\n",
       "      <td>hsa-mir-192</td>\n",
       "      <td>0.000038</td>\n",
       "      <td>True</td>\n",
       "      <td>[2, 2, 2, 3, 3, 7]</td>\n",
       "    </tr>\n",
       "    <tr>\n",
       "      <th>126</th>\n",
       "      <td>hsa-mir-30e</td>\n",
       "      <td>0.000033</td>\n",
       "      <td>True</td>\n",
       "      <td>[3, 4, 11]</td>\n",
       "    </tr>\n",
       "    <tr>\n",
       "      <th>0</th>\n",
       "      <td>hsa-let-7a-1</td>\n",
       "      <td>-0.000032</td>\n",
       "      <td>True</td>\n",
       "      <td>[]</td>\n",
       "    </tr>\n",
       "    <tr>\n",
       "      <th>89</th>\n",
       "      <td>hsa-mir-203a</td>\n",
       "      <td>0.000032</td>\n",
       "      <td>False</td>\n",
       "      <td>[]</td>\n",
       "    </tr>\n",
       "    <tr>\n",
       "      <th>118</th>\n",
       "      <td>hsa-mir-29c</td>\n",
       "      <td>0.000032</td>\n",
       "      <td>True</td>\n",
       "      <td>[]</td>\n",
       "    </tr>\n",
       "    <tr>\n",
       "      <th>2</th>\n",
       "      <td>hsa-let-7a-3</td>\n",
       "      <td>-0.000031</td>\n",
       "      <td>True</td>\n",
       "      <td>[]</td>\n",
       "    </tr>\n",
       "    <tr>\n",
       "      <th>21</th>\n",
       "      <td>hsa-mir-10b</td>\n",
       "      <td>0.000027</td>\n",
       "      <td>True</td>\n",
       "      <td>[]</td>\n",
       "    </tr>\n",
       "    <tr>\n",
       "      <th>115</th>\n",
       "      <td>hsa-mir-29a</td>\n",
       "      <td>0.000027</td>\n",
       "      <td>True</td>\n",
       "      <td>[2, 2, 2, 2, 2, 3, 3, 4, 5, 6]</td>\n",
       "    </tr>\n",
       "    <tr>\n",
       "      <th>8</th>\n",
       "      <td>hsa-let-7f-2</td>\n",
       "      <td>-0.000025</td>\n",
       "      <td>True</td>\n",
       "      <td>[]</td>\n",
       "    </tr>\n",
       "    <tr>\n",
       "      <th>7</th>\n",
       "      <td>hsa-let-7f-1</td>\n",
       "      <td>-0.000024</td>\n",
       "      <td>True</td>\n",
       "      <td>[]</td>\n",
       "    </tr>\n",
       "    <tr>\n",
       "      <th>198</th>\n",
       "      <td>hsa-mir-99b</td>\n",
       "      <td>-0.000021</td>\n",
       "      <td>False</td>\n",
       "      <td>[]</td>\n",
       "    </tr>\n",
       "    <tr>\n",
       "      <th>14</th>\n",
       "      <td>hsa-mir-103a-1</td>\n",
       "      <td>-0.000021</td>\n",
       "      <td>True</td>\n",
       "      <td>[]</td>\n",
       "    </tr>\n",
       "    <tr>\n",
       "      <th>15</th>\n",
       "      <td>hsa-mir-103a-2</td>\n",
       "      <td>-0.000021</td>\n",
       "      <td>True</td>\n",
       "      <td>[]</td>\n",
       "    </tr>\n",
       "    <tr>\n",
       "      <th>125</th>\n",
       "      <td>hsa-mir-30d</td>\n",
       "      <td>0.000020</td>\n",
       "      <td>True</td>\n",
       "      <td>[5]</td>\n",
       "    </tr>\n",
       "  </tbody>\n",
       "</table>\n",
       "</div>"
      ]
     },
     "execution_count": 58,
     "metadata": {},
     "output_type": "execute_result"
    }
   ],
   "source": [
    "candidate_miRNAs = group_l2.get_selected_miRNAs(mirna_list)\n",
    "candidate_miRNAs['validated'] = candidate_miRNAs.apply(lambda row: row['miRNA'] in HMDD_lung_neoplasm_miRNAs, axis=1)\n",
    "candidate_miRNAs['groups'] = candidate_miRNAs.apply(lambda row: network.find_miRNA_groups(row['miRNA']), axis=1)\n",
    "candidate_miRNAs.head(20)"
   ]
  },
  {
   "cell_type": "markdown",
   "metadata": {},
   "source": [
    "## Validate miRNA-target edges"
   ]
  },
  {
   "cell_type": "code",
   "execution_count": 212,
   "metadata": {
    "collapsed": true
   },
   "outputs": [
    {
     "name": "stdout",
     "output_type": "stream",
     "text": [
      "SPPL3 hsa-mir-369\n"
     ]
    },
    {
     "name": "stderr",
     "output_type": "stream",
     "text": [
      "[autoreload of _pytest.assertion failed: Traceback (most recent call last):\n  File \"/opt/anaconda/lib/python2.7/site-packages/IPython/extensions/autoreload.py\", line 247, in check\n    superreload(m, reload, self.old_objects)\nImportError: cannot import name util\n]\n[autoreload of py.test.cmdline failed: Traceback (most recent call last):\n  File \"/opt/anaconda/lib/python2.7/site-packages/IPython/extensions/autoreload.py\", line 247, in check\n    superreload(m, reload, self.old_objects)\nImportError: No module named cmdline\n]\n"
     ]
    },
    {
     "ename": "NameError",
     "evalue": "name 'miRecords_df' is not defined",
     "traceback": [
      "\u001b[0;31m\u001b[0m",
      "\u001b[0;31mNameError\u001b[0mTraceback (most recent call last)",
      "\u001b[0;32m<ipython-input-212-73141c8de670>\u001b[0m in \u001b[0;36m<module>\u001b[0;34m()\u001b[0m\n\u001b[1;32m      8\u001b[0m     \u001b[0;32melse\u001b[0m\u001b[0;34m:\u001b[0m\u001b[0;34m\u001b[0m\u001b[0m\n\u001b[1;32m      9\u001b[0m         validated_edges = pandas.concat([validated_edges,\n\u001b[0;32m---> 10\u001b[0;31m                                          miRecords_df[(miRecords_df[\"miRNA_mature_ID\"] == v2) &\n\u001b[0m\u001b[1;32m     11\u001b[0m                                                       (miRecords_df[\"Target gene_name\"] == v1)]])\n\u001b[1;32m     12\u001b[0m \u001b[0;34m\u001b[0m\u001b[0m\n",
      "\u001b[0;31mNameError\u001b[0m: name 'miRecords_df' is not defined"
     ],
     "output_type": "error"
    }
   ],
   "source": [
    "validated_edges = pandas.DataFrame()\n",
    "for (v1, v2) in edges:\n",
    "    print v1, v2\n",
    "    if network.B.node[v1]['bipartite'] == 0:  # if v1 is miRNA\n",
    "        validated_edges = pandas.concat([validated_edges,\n",
    "                                         miRecords_df[(miRecords_df[\"miRNA_mature_ID\"] == v1) &\n",
    "                                                      (miRecords_df[\"Target gene_name\"] == v2)]])\n",
    "    else:\n",
    "        validated_edges = pandas.concat([validated_edges,\n",
    "                                         miRecords_df[(miRecords_df[\"miRNA_mature_ID\"] == v2) &\n",
    "                                                      (miRecords_df[\"Target gene_name\"] == v1)]])\n",
    "\n",
    "print float(len(validated_edges))/float(len(edges))"
   ]
  },
  {
   "cell_type": "code",
   "execution_count": 114,
   "metadata": {
    "collapsed": true
   },
   "outputs": [
    {
     "data": {
      "image/png": "[encoded data removed]",
      "text/plain": [
       "<matplotlib.figure.Figure at 0x7fba80320290>"
      ]
     },
     "metadata": {},
     "output_type": "display_data"
    }
   ],
   "source": [
    "# plt.hist(miRNAs_nodes_degrees[1].values())\n",
    "plt.hist(targets_nodes_degrees[0].values(), bins=30)\n",
    "plt.ylabel('counts of nodes')\n",
    "plt.xlabel('number of degrees')\n",
    "plt.show()"
   ]
  },
  {
   "cell_type": "code",
   "execution_count": 35,
   "metadata": {
    "collapsed": true
   },
   "outputs": [],
   "source": [
    ""
   ]
  },
  {
   "cell_type": "code",
   "execution_count": 1,
   "metadata": {
    "collapsed": false
   },
   "outputs": [],
   "source": [
    ""
   ]
  },
  {
   "cell_type": "code",
   "execution_count": null,
   "metadata": {},
   "outputs": [],
   "source": [
    ""
   ]
  }
 ],
 "metadata": {
  "kernelspec": {
   "display_name": "Python 2",
   "language": "python",
   "name": "python2"
  },
  "language_info": {
   "codemirror_mode": {
    "name": "ipython",
    "version": 2.0
   },
   "file_extension": ".py",
   "mimetype": "text/x-python",
   "name": "python",
   "nbconvert_exporter": "python",
   "pygments_lexer": "ipython2",
   "version": "2.7.6"
  }
 },
 "nbformat": 4,
 "nbformat_minor": 0
}