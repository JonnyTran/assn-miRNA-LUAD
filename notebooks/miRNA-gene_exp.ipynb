{
 "cells": [
  {
   "cell_type": "markdown",
   "metadata": {
    "collapsed": true
   },
   "source": [
    "## Finding differentialy expressed miRNA's between LUAD stages I, II, III, IV vs normal using Logit regression\n",
    "### Utilize Group Lasso with MISIM miRNA similarity data"
   ]
  },
  {
   "cell_type": "code",
   "execution_count": 1,
   "metadata": {},
   "outputs": [
    {
     "name": "stdout",
     "output_type": "stream",
     "text": [
      "The autoreload extension is already loaded. To reload it, use:\n  %reload_ext autoreload\n"
     ]
    }
   ],
   "source": [
    "# Necessary imports\n",
    "%load_ext autoreload\n",
    "%autoreload 2\\\n",
    "    \n",
    "import os\n",
    "import pandas\n",
    "import numpy as np\n",
    "import matplotlib.pyplot as plt\n",
    "\n",
    "from definitions import ROOT_DIR"
   ]
  },
  {
   "cell_type": "markdown",
   "metadata": {},
   "source": [
    "## Load normal and cancer miRNA expression data"
   ]
  },
  {
   "cell_type": "code",
   "execution_count": 2,
   "metadata": {},
   "outputs": [
    {
     "name": "stdout",
     "output_type": "stream",
     "text": [
      "mirna_tumor_df.shape (513, 1882) , nulls: 0\nmirna_normal_df.shape (46, 1882) , nulls: 0\nvalidated_miRNAs.shape (34, 2)\nnormal    46\nName: pathologic_stage, dtype: int64\nStage I      277\nStage II     121\nStage III     84\nStage IV      24\nName: pathologic_stage, dtype: int64\n"
     ]
    }
   ],
   "source": [
    "from definitions import ROOT_DIR\n",
    "\n",
    "# Load files into pandas data frames\n",
    "mirna_tumor_df = pandas.read_csv(os.path.join(ROOT_DIR, \"data/processed/miRNA/tumor_miRNA.csv\"))\n",
    "mirna_normal_df = pandas.read_csv(os.path.join(ROOT_DIR, \"data/processed/miRNA/normal_miRNA.csv\"))\n",
    "clinical_df = pandas.read_csv(os.path.join(ROOT_DIR, \"data/processed/clinical/clinical.csv\"))\n",
    "validated_miRNA_csv = pandas.read_csv(os.path.join(ROOT_DIR, 'data/external/validated_luad_miRNAs_miRCancer.csv'))\n",
    "\n",
    "# Print data frame shapes\n",
    "print \"mirna_tumor_df.shape\", mirna_tumor_df.shape, ', nulls:', mirna_tumor_df.isnull().sum().sum()\n",
    "print \"mirna_normal_df.shape\", mirna_normal_df.shape, ', nulls:', mirna_normal_df.isnull().sum().sum()\n",
    "print 'validated_miRNAs.shape', validated_miRNA_csv.shape\n",
    "\n",
    "# Merge normal and tumor miRNA expression profiles with clinical cancer stage data\n",
    "mirna_normal = pandas.merge(clinical_df[['patient_barcode', 'pathologic_stage']], mirna_normal_df, on='patient_barcode')\n",
    "mirna_normal['pathologic_stage'] = 'normal'\n",
    "mirna_tumor = pandas.merge(clinical_df[['patient_barcode', 'pathologic_stage']], mirna_tumor_df, on='patient_barcode')\n",
    "\n",
    "mirna_tumor.dropna(inplace=True)\n",
    "mirna_normal.dropna(inplace=True)\n",
    "\n",
    "# Map stage IA to stage I, IB to I, etc. ...\n",
    "pathologic_stage_map = {'Stage IA': 'Stage I', 'Stage IB': 'Stage I', \n",
    "                        'Stage IIA': 'Stage II', 'Stage IIB': 'Stage II', \n",
    "                        'Stage IIIA': 'Stage III', 'Stage IIIB': 'Stage III'}\n",
    "mirna_tumor.replace({'pathologic_stage': pathologic_stage_map}, inplace=True)\n",
    "\n",
    "# Store list of all miRNA's in miRNA expression data\n",
    "mirna_list = list(mirna_tumor.columns)[2:]\n",
    "\n",
    "# Print quick overview of data\n",
    "print mirna_normal['pathologic_stage'].value_counts().sort_index(axis=0)\n",
    "print mirna_tumor['pathologic_stage'].value_counts().sort_index(axis=0)"
   ]
  },
  {
   "cell_type": "markdown",
   "metadata": {},
   "source": [
    "## Load normal & cancer Gene Expression data"
   ]
  },
  {
   "cell_type": "code",
   "execution_count": 3,
   "metadata": {},
   "outputs": [
    {
     "name": "stdout",
     "output_type": "stream",
     "text": [
      "(20530, 517)\n(20530, 61)\n"
     ]
    }
   ],
   "source": [
    "gene_exp_tumor_df = pandas.read_table(os.path.join(ROOT_DIR, 'data/processed/gene_expression/tumor/READ__illuminahiseq_rnaseqv2__GeneExp.txt'), \n",
    "                                      header=0, delimiter='\\t')\n",
    "gene_exp_normal_df = pandas.read_table(os.path.join(ROOT_DIR, 'data/processed/gene_expression/normal/READ__illuminahiseq_rnaseqv2__GeneExp.txt'), \n",
    "                                      header=0, delimiter='\\t')\n",
    "\n",
    "gene_exp_tumor_df.rename(columns=lambda x: x[:12], inplace=True)\n",
    "gene_exp_normal_df.rename(columns=lambda x: x[:12], inplace=True)\n",
    "\n",
    "print gene_exp_tumor_df.shape\n",
    "print gene_exp_normal_df.shape"
   ]
  },
  {
   "cell_type": "markdown",
   "metadata": {},
   "source": [
    "## Reshape gene expression data frames to have shape (patients x gene expression) "
   ]
  },
  {
   "cell_type": "code",
   "execution_count": 4,
   "metadata": {
    "collapsed": false
   },
   "outputs": [
    {
     "name": "stdout",
     "output_type": "stream",
     "text": [
      "gene_symbols 20502\ngene_exp_tumor_patients 515\ngene_exp_normal_patients 59\n(515, 20503)\n(59, 20503)\n"
     ]
    }
   ],
   "source": [
    "# Remove entries with unknown Gene Symbol\n",
    "gene_exp_tumor_df = gene_exp_tumor_df[gene_exp_tumor_df.GeneSymbol != '?']\n",
    "gene_exp_normal_df = gene_exp_normal_df[gene_exp_normal_df.GeneSymbol != '?']\n",
    "\n",
    "# Get list of all gene_symbols\n",
    "gene_symbols = list(gene_exp_tumor_df['GeneSymbol'])\n",
    "# Get list of tumor and normal patient_barcode\n",
    "gene_exp_tumor_patient_barcodes = list(gene_exp_tumor_df.columns)[2:]\n",
    "gene_exp_normal_patient_barcodes = list(gene_exp_normal_df.columns)[2:]\n",
    "\n",
    "# Drop EntrezID column\n",
    "gene_exp_tumor = gene_exp_tumor_df.drop(['EntrezID', 'GeneSymbol'], axis=1)\n",
    "gene_exp_normal = gene_exp_normal_df.drop(['EntrezID', 'GeneSymbol'], axis=1)\n",
    "\n",
    "# Reshaping data frame to have columns for GeneSymbols, and rows of patients\n",
    "gene_exp_tumor = gene_exp_tumor.T\n",
    "gene_exp_normal = gene_exp_normal.T\n",
    "gene_exp_tumor.columns = gene_symbols\n",
    "gene_exp_normal.columns = gene_symbols\n",
    "\n",
    "# Add column for patients barcode\n",
    "gene_exp_tumor['patient_barcode'] = gene_exp_tumor.index\n",
    "gene_exp_normal['patient_barcode'] = gene_exp_normal.index\n",
    "\n",
    "print \"gene_symbols\", len(gene_symbols)\n",
    "print \"gene_exp_tumor_patients\", len(gene_exp_tumor_patient_barcodes)\n",
    "print \"gene_exp_normal_patients\", len(gene_exp_normal_patient_barcodes)\n",
    "\n",
    "print gene_exp_tumor.shape\n",
    "print gene_exp_normal.shape"
   ]
  },
  {
   "cell_type": "markdown",
   "metadata": {},
   "source": [
    "## Filter samples with matched Gene Expression data and miRNA data\n",
    "## More data preprocessing"
   ]
  },
  {
   "cell_type": "code",
   "execution_count": 5,
   "metadata": {
    "collapsed": true
   },
   "outputs": [
    {
     "name": "stdout",
     "output_type": "stream",
     "text": [
      "Stage I      275\nStage II     120\nStage III     84\nStage IV      24\nName: pathologic_stage, dtype: int64\nnormal    20\nName: pathologic_stage, dtype: int64\n"
     ]
    },
    {
     "name": "stderr",
     "output_type": "stream",
     "text": [
      "/opt/anaconda/lib/python2.7/site-packages/ipykernel/__main__.py:26: SettingWithCopyWarning: \nA value is trying to be set on a copy of a slice from a DataFrame\n\nSee the caveats in the documentation: http://pandas.pydata.org/pandas-docs/stable/indexing.html#indexing-view-versus-copy\n/opt/anaconda/lib/python2.7/site-packages/ipykernel/__main__.py:27: SettingWithCopyWarning: \nA value is trying to be set on a copy of a slice from a DataFrame\n\nSee the caveats in the documentation: http://pandas.pydata.org/pandas-docs/stable/indexing.html#indexing-view-versus-copy\n/opt/anaconda/lib/python2.7/site-packages/ipykernel/__main__.py:28: SettingWithCopyWarning: \nA value is trying to be set on a copy of a slice from a DataFrame\n\nSee the caveats in the documentation: http://pandas.pydata.org/pandas-docs/stable/indexing.html#indexing-view-versus-copy\n"
     ]
    },
    {
     "name": "stderr",
     "output_type": "stream",
     "text": [
      "/opt/anaconda/lib/python2.7/site-packages/ipykernel/__main__.py:29: SettingWithCopyWarning: \nA value is trying to be set on a copy of a slice from a DataFrame\n\nSee the caveats in the documentation: http://pandas.pydata.org/pandas-docs/stable/indexing.html#indexing-view-versus-copy\n"
     ]
    },
    {
     "name": "stdout",
     "output_type": "stream",
     "text": [
      "merged_mirna_tumor (503, 1881) nulls: 0\nmerged_mirna_normal (20, 1881) nulls: 0\nmerged_gene_exp_tumor (503, 20484) nulls: 0\nmerged_gene_exp_normal (20, 20484) nulls: 0\n"
     ]
    }
   ],
   "source": [
    "# Merge normal and tumor miRNA expression profiles with clinical cancer stage data\n",
    "merged_tumor_patients = pandas.merge(gene_exp_tumor[['patient_barcode']], mirna_tumor, on='patient_barcode')[['patient_barcode', 'pathologic_stage']]\n",
    "merged_normal_patients = pandas.merge(gene_exp_normal[['patient_barcode']], mirna_normal, on='patient_barcode')[['patient_barcode', 'pathologic_stage']]\n",
    "\n",
    "# Print quick overview of data\n",
    "print merged_tumor_patients['pathologic_stage'].value_counts(dropna=False).sort_index(axis=0)\n",
    "print merged_normal_patients['pathologic_stage'].value_counts(dropna=False).sort_index(axis=0)\n",
    "\n",
    "# Drop NA\n",
    "merged_tumor_patients.dropna(inplace=True)\n",
    "merged_normal_patients.dropna(inplace=True)\n",
    "\n",
    "# Filter samples\n",
    "merged_mirna_tumor = mirna_tumor[mirna_tumor['patient_barcode'].isin(merged_tumor_patients['patient_barcode'])]\n",
    "merged_mirna_normal = mirna_normal[mirna_normal['patient_barcode'].isin(merged_normal_patients['patient_barcode'])]\n",
    "merged_gene_exp_tumor = gene_exp_tumor[gene_exp_tumor['patient_barcode'].isin(merged_tumor_patients['patient_barcode'])]\n",
    "merged_gene_exp_normal = gene_exp_normal[gene_exp_normal['patient_barcode'].isin(merged_normal_patients['patient_barcode'])]\n",
    "\n",
    "# Create label vector\n",
    "Y = pandas.concat([merged_mirna_tumor, merged_mirna_normal])['pathologic_stage']\n",
    "Y.replace({'pathologic_stage': {'Stage I': 'tumor', 'Stage II': 'tumor', 'Stage III': 'tumor', 'Stage IV': 'tumor'}}, inplace=True)\n",
    "n_tumor = merged_mirna_tumor.shape[0]\n",
    "n_normal = merged_mirna_normal.shape[0]\n",
    "\n",
    "# Drop categorical columns\n",
    "merged_mirna_tumor.drop(['patient_barcode', 'pathologic_stage'], 1, inplace=True)\n",
    "merged_mirna_normal.drop(['patient_barcode', 'pathologic_stage'], 1, inplace=True)\n",
    "merged_gene_exp_tumor.drop(['patient_barcode'], 1, inplace=True)\n",
    "merged_gene_exp_normal.drop(['patient_barcode'], 1, inplace=True)\n",
    "\n",
    "# Drop duplicate columns names (Gene symbols with same name)\n",
    "_, i = np.unique(merged_gene_exp_tumor.columns, return_index=True)\n",
    "merged_gene_exp_tumor = merged_gene_exp_tumor.iloc[:, i]\n",
    "merged_gene_exp_normal = merged_gene_exp_normal.iloc[:, i]\n",
    "\n",
    "print \"merged_mirna_tumor\", merged_mirna_tumor.shape, 'nulls:', merged_mirna_tumor.isnull().sum().sum()\n",
    "print \"merged_mirna_normal\", merged_mirna_normal.shape, 'nulls:', merged_mirna_normal.isnull().sum().sum()\n",
    "print \"merged_gene_exp_tumor\", merged_gene_exp_tumor.shape, 'nulls:', merged_gene_exp_tumor.isnull().sum().sum()\n",
    "print \"merged_gene_exp_normal\", merged_gene_exp_normal.shape, 'nulls:', merged_gene_exp_normal.isnull().sum().sum()"
   ]
  },
  {
   "cell_type": "markdown",
   "metadata": {},
   "source": [
    "## Univariate feature selection via FDR"
   ]
  },
  {
   "cell_type": "code",
   "execution_count": 150,
   "metadata": {
    "collapsed": true
   },
   "outputs": [
    {
     "ename": "ValueError",
     "evalue": "could not convert string to float: TCGA-91-6849",
     "traceback": [
      "\u001b[0;31m\u001b[0m",
      "\u001b[0;31mValueError\u001b[0mTraceback (most recent call last)",
      "\u001b[0;32m<ipython-input-150-27301e62954b>\u001b[0m in \u001b[0;36m<module>\u001b[0;34m()\u001b[0m\n\u001b[1;32m      7\u001b[0m \u001b[0;34m\u001b[0m\u001b[0m\n\u001b[1;32m      8\u001b[0m \u001b[0mgene_exp_filter\u001b[0m \u001b[0;34m=\u001b[0m \u001b[0mSelectFdr\u001b[0m\u001b[0;34m(\u001b[0m\u001b[0mf_classif\u001b[0m\u001b[0;34m,\u001b[0m \u001b[0malpha\u001b[0m\u001b[0;34m=\u001b[0m\u001b[0;36m0.01\u001b[0m\u001b[0;34m)\u001b[0m\u001b[0;34m\u001b[0m\u001b[0m\n\u001b[0;32m----> 9\u001b[0;31m \u001b[0mgen_exp_new\u001b[0m \u001b[0;34m=\u001b[0m \u001b[0mgene_exp_filter\u001b[0m\u001b[0;34m.\u001b[0m\u001b[0mfit_transform\u001b[0m\u001b[0;34m(\u001b[0m\u001b[0mX\u001b[0m\u001b[0;34m=\u001b[0m\u001b[0mpandas\u001b[0m\u001b[0;34m.\u001b[0m\u001b[0mconcat\u001b[0m\u001b[0;34m(\u001b[0m\u001b[0;34m[\u001b[0m\u001b[0mgene_exp_tumor\u001b[0m\u001b[0;34m,\u001b[0m \u001b[0mgene_exp_normal\u001b[0m\u001b[0;34m]\u001b[0m\u001b[0;34m)\u001b[0m\u001b[0;34m,\u001b[0m \u001b[0my\u001b[0m\u001b[0;34m=\u001b[0m\u001b[0mY\u001b[0m\u001b[0;34m)\u001b[0m\u001b[0;34m\u001b[0m\u001b[0m\n\u001b[0m\u001b[1;32m     10\u001b[0m \u001b[0;34m\u001b[0m\u001b[0m\n\u001b[1;32m     11\u001b[0m \u001b[0;32mprint\u001b[0m \u001b[0mmirna_new\u001b[0m\u001b[0;34m.\u001b[0m\u001b[0mshape\u001b[0m\u001b[0;34m\u001b[0m\u001b[0m\n",
      "\u001b[0;32m/opt/anaconda/lib/python2.7/site-packages/sklearn/base.pyc\u001b[0m in \u001b[0;36mfit_transform\u001b[0;34m(self, X, y, **fit_params)\u001b[0m\n\u001b[1;32m    495\u001b[0m         \u001b[0;32melse\u001b[0m\u001b[0;34m:\u001b[0m\u001b[0;34m\u001b[0m\u001b[0m\n\u001b[1;32m    496\u001b[0m             \u001b[0;31m# fit method of arity 2 (supervised transformation)\u001b[0m\u001b[0;34m\u001b[0m\u001b[0;34m\u001b[0m\u001b[0m\n\u001b[0;32m--> 497\u001b[0;31m             \u001b[0;32mreturn\u001b[0m \u001b[0mself\u001b[0m\u001b[0;34m.\u001b[0m\u001b[0mfit\u001b[0m\u001b[0;34m(\u001b[0m\u001b[0mX\u001b[0m\u001b[0;34m,\u001b[0m \u001b[0my\u001b[0m\u001b[0;34m,\u001b[0m \u001b[0;34m**\u001b[0m\u001b[0mfit_params\u001b[0m\u001b[0;34m)\u001b[0m\u001b[0;34m.\u001b[0m\u001b[0mtransform\u001b[0m\u001b[0;34m(\u001b[0m\u001b[0mX\u001b[0m\u001b[0;34m)\u001b[0m\u001b[0;34m\u001b[0m\u001b[0m\n\u001b[0m\u001b[1;32m    498\u001b[0m \u001b[0;34m\u001b[0m\u001b[0m\n\u001b[1;32m    499\u001b[0m \u001b[0;34m\u001b[0m\u001b[0m\n",
      "\u001b[0;32m/opt/anaconda/lib/python2.7/site-packages/sklearn/feature_selection/univariate_selection.pyc\u001b[0m in \u001b[0;36mfit\u001b[0;34m(self, X, y)\u001b[0m\n\u001b[1;32m    320\u001b[0m             \u001b[0mReturns\u001b[0m \u001b[0mself\u001b[0m\u001b[0;34m.\u001b[0m\u001b[0;34m\u001b[0m\u001b[0m\n\u001b[1;32m    321\u001b[0m         \"\"\"\n\u001b[0;32m--> 322\u001b[0;31m         \u001b[0mX\u001b[0m\u001b[0;34m,\u001b[0m \u001b[0my\u001b[0m \u001b[0;34m=\u001b[0m \u001b[0mcheck_X_y\u001b[0m\u001b[0;34m(\u001b[0m\u001b[0mX\u001b[0m\u001b[0;34m,\u001b[0m \u001b[0my\u001b[0m\u001b[0;34m,\u001b[0m \u001b[0;34m[\u001b[0m\u001b[0;34m'csr'\u001b[0m\u001b[0;34m,\u001b[0m \u001b[0;34m'csc'\u001b[0m\u001b[0;34m]\u001b[0m\u001b[0;34m)\u001b[0m\u001b[0;34m\u001b[0m\u001b[0m\n\u001b[0m\u001b[1;32m    323\u001b[0m \u001b[0;34m\u001b[0m\u001b[0m\n\u001b[1;32m    324\u001b[0m         \u001b[0;32mif\u001b[0m \u001b[0;32mnot\u001b[0m \u001b[0mcallable\u001b[0m\u001b[0;34m(\u001b[0m\u001b[0mself\u001b[0m\u001b[0;34m.\u001b[0m\u001b[0mscore_func\u001b[0m\u001b[0;34m)\u001b[0m\u001b[0;34m:\u001b[0m\u001b[0;34m\u001b[0m\u001b[0m\n",
      "\u001b[0;32m/opt/anaconda/lib/python2.7/site-packages/sklearn/utils/validation.pyc\u001b[0m in \u001b[0;36mcheck_X_y\u001b[0;34m(X, y, accept_sparse, dtype, order, copy, force_all_finite, ensure_2d, allow_nd, multi_output, ensure_min_samples, ensure_min_features, y_numeric, warn_on_dtype, estimator)\u001b[0m\n\u001b[1;32m    519\u001b[0m     X = check_array(X, accept_sparse, dtype, order, copy, force_all_finite,\n\u001b[1;32m    520\u001b[0m                     \u001b[0mensure_2d\u001b[0m\u001b[0;34m,\u001b[0m \u001b[0mallow_nd\u001b[0m\u001b[0;34m,\u001b[0m \u001b[0mensure_min_samples\u001b[0m\u001b[0;34m,\u001b[0m\u001b[0;34m\u001b[0m\u001b[0m\n\u001b[0;32m--> 521\u001b[0;31m                     ensure_min_features, warn_on_dtype, estimator)\n\u001b[0m\u001b[1;32m    522\u001b[0m     \u001b[0;32mif\u001b[0m \u001b[0mmulti_output\u001b[0m\u001b[0;34m:\u001b[0m\u001b[0;34m\u001b[0m\u001b[0m\n\u001b[1;32m    523\u001b[0m         y = check_array(y, 'csr', force_all_finite=True, ensure_2d=False,\n",
      "\u001b[0;32m/opt/anaconda/lib/python2.7/site-packages/sklearn/utils/validation.pyc\u001b[0m in \u001b[0;36mcheck_array\u001b[0;34m(array, accept_sparse, dtype, order, copy, force_all_finite, ensure_2d, allow_nd, ensure_min_samples, ensure_min_features, warn_on_dtype, estimator)\u001b[0m\n\u001b[1;32m    400\u001b[0m         \u001b[0;31m# make sure we actually converted to numeric:\u001b[0m\u001b[0;34m\u001b[0m\u001b[0;34m\u001b[0m\u001b[0m\n\u001b[1;32m    401\u001b[0m         \u001b[0;32mif\u001b[0m \u001b[0mdtype_numeric\u001b[0m \u001b[0;32mand\u001b[0m \u001b[0marray\u001b[0m\u001b[0;34m.\u001b[0m\u001b[0mdtype\u001b[0m\u001b[0;34m.\u001b[0m\u001b[0mkind\u001b[0m \u001b[0;34m==\u001b[0m \u001b[0;34m\"O\"\u001b[0m\u001b[0;34m:\u001b[0m\u001b[0;34m\u001b[0m\u001b[0m\n\u001b[0;32m--> 402\u001b[0;31m             \u001b[0marray\u001b[0m \u001b[0;34m=\u001b[0m \u001b[0marray\u001b[0m\u001b[0;34m.\u001b[0m\u001b[0mastype\u001b[0m\u001b[0;34m(\u001b[0m\u001b[0mnp\u001b[0m\u001b[0;34m.\u001b[0m\u001b[0mfloat64\u001b[0m\u001b[0;34m)\u001b[0m\u001b[0;34m\u001b[0m\u001b[0m\n\u001b[0m\u001b[1;32m    403\u001b[0m         \u001b[0;32mif\u001b[0m \u001b[0;32mnot\u001b[0m \u001b[0mallow_nd\u001b[0m \u001b[0;32mand\u001b[0m \u001b[0marray\u001b[0m\u001b[0;34m.\u001b[0m\u001b[0mndim\u001b[0m \u001b[0;34m>=\u001b[0m \u001b[0;36m3\u001b[0m\u001b[0;34m:\u001b[0m\u001b[0;34m\u001b[0m\u001b[0m\n\u001b[1;32m    404\u001b[0m             raise ValueError(\"Found array with dim %d. %s expected <= 2.\"\n",
      "\u001b[0;31mValueError\u001b[0m: could not convert string to float: TCGA-91-6849"
     ],
     "output_type": "error"
    }
   ],
   "source": [
    "from sklearn.feature_selection import SelectFdr, f_classif\n",
    "\n",
    "# Select the p-values for an estimated false discovery rate\n",
    "# FDR \n",
    "# mirna_filter = SelectFdr(f_classif, alpha=0.01)\n",
    "# mirna_new = mirna_filter.fit_transform(X=pandas.concat([mirna_tumor, mirna_normal]), y=Y)\n",
    "\n",
    "gene_exp_filter = SelectFdr(f_classif, alpha=0.01)\n",
    "gen_exp_new = gene_exp_filter.fit_transform(X=pandas.concat([gene_exp_tumor, gene_exp_normal]), y=Y)\n",
    "\n",
    "print mirna_new.shape\n",
    "print gen_exp_new.shape\n",
    "# mirna_tumor = mirna_tumor[mirna_tumor.columns[mirna_filter.get_support(indices=True)]]\n",
    "# mirna_normal = mirna_normal[mirna_normal.columns[mirna_filter.get_support(indices=True)]]\n",
    "gene_exp_tumor = gene_exp_tumor[gene_exp_tumor.columns[gene_exp_filter.get_support(indices=True)]]\n",
    "gene_exp_normal = gene_exp_normal[gene_exp_normal.columns[gene_exp_filter.get_support(indices=True)]]"
   ]
  },
  {
   "cell_type": "code",
   "execution_count": 6,
   "metadata": {},
   "outputs": [
    {
     "name": "stdout",
     "output_type": "stream",
     "text": [
      "mirna_tumor (506, 1883)\nmirna_normal (46, 1883)\ngene_tumor (515, 20486)\ngene_normal (59, 20486)\n"
     ]
    }
   ],
   "source": [
    "from src.data.make_dataset import TCGA_LUAD\n",
    "tgca_luad = TCGA_LUAD()"
   ]
  },
  {
   "cell_type": "code",
   "execution_count": 7,
   "metadata": {
    "collapsed": true
   },
   "outputs": [],
   "source": [
    ""
   ]
  },
  {
   "cell_type": "markdown",
   "metadata": {},
   "source": [
    "## Loading TargetScan database for predicted miRNA-targets interactions"
   ]
  },
  {
   "cell_type": "code",
   "execution_count": 7,
   "metadata": {},
   "outputs": [
    {
     "name": "stdout",
     "output_type": "stream",
     "text": [
      "(185330, 2)\n"
     ]
    }
   ],
   "source": [
    "# Load data frame from file\n",
    "targetScan_df = pandas.read_table(os.path.join(ROOT_DIR, 'data/external/TargetScan_Predicted_Targets_Info_default_predictions.tsv'), delimiter='\\t')\n",
    "targetScan_family_df = pandas.read_table(os.path.join(ROOT_DIR, 'data/external/TargetScan_miR_Family_Info.txt'), delimiter='\\t')\n",
    "\n",
    "# Select only homo sapiens miRNA-target pairs\n",
    "targetScan_df = targetScan_df[targetScan_df[\"Species ID\"] == 9606][[\"miR Family\", \"Gene Symbol\"]]\n",
    "targetScan_family_df = targetScan_family_df[targetScan_family_df['Species ID'] == 9606][['miR family', 'MiRBase ID']]\n",
    "\n",
    "# Use miRBase ID names\n",
    "targetScan_family_df.rename(columns={'miR family': 'miR Family'}, inplace=True)\n",
    "targetScan_df = pandas.merge(targetScan_df, targetScan_family_df, how='inner', on=\"miR Family\")\n",
    "targetScan_df = targetScan_df[[\"MiRBase ID\", \"Gene Symbol\"]]\n",
    "\n",
    "# Standardize miRNA names\n",
    "targetScan_df['MiRBase ID'] = targetScan_df['MiRBase ID'].str.lower()\n",
    "targetScan_df['MiRBase ID'] = targetScan_df['MiRBase ID'].str.replace(\"-3p.*|-5p.*\", \"\")\n",
    "targetScan_df.drop_duplicates(inplace=True)\n",
    "\n",
    "# Filter miRNA-target pairs to only miRNA's included in miRNA expression data, same for gene targets\n",
    "targetScan_df = targetScan_df[targetScan_df['MiRBase ID'].isin(mirna_list) & targetScan_df['Gene Symbol'].isin(gene_symbols)]\n",
    "print targetScan_df.shape"
   ]
  },
  {
   "cell_type": "markdown",
   "metadata": {},
   "source": [
    "## Build miRNA-target relationship network to from putative predicted miRNA-target pairs\n",
    "## Assign miRNA's to groups from the miRNA-target bipartite graph obtained above\n",
    "The assumption used is that two miRNA's are in the same group, if they share the same target\n",
    "If a miRNA has overlapping groups, \"larger_groups_first\" param decides whether larger or smaller group takes priority"
   ]
  },
  {
   "cell_type": "code",
   "execution_count": 17,
   "metadata": {
    "collapsed": true
   },
   "outputs": [
    {
     "data": {
      "text/plain": [
       "['hsa-let-7a-1',\n 'hsa-let-7a-2',\n 'hsa-let-7a-3',\n 'hsa-let-7b',\n 'hsa-let-7c',\n 'hsa-let-7d',\n 'hsa-let-7e',\n 'hsa-let-7f-1',\n 'hsa-let-7f-2',\n 'hsa-let-7g',\n 'hsa-let-7i',\n 'hsa-mir-100',\n 'hsa-mir-101-1',\n 'hsa-mir-101-2',\n 'hsa-mir-103a-1',\n 'hsa-mir-103a-2',\n 'hsa-mir-103b-1',\n 'hsa-mir-103b-2',\n 'hsa-mir-105-1',\n 'hsa-mir-105-2',\n 'hsa-mir-106a',\n 'hsa-mir-106b',\n 'hsa-mir-107',\n 'hsa-mir-10a',\n 'hsa-mir-10b',\n 'hsa-mir-1-1',\n 'hsa-mir-1178',\n 'hsa-mir-1179',\n 'hsa-mir-1180',\n 'hsa-mir-1181',\n 'hsa-mir-1182',\n 'hsa-mir-1183',\n 'hsa-mir-1184-1',\n 'hsa-mir-1184-2',\n 'hsa-mir-1184-3',\n 'hsa-mir-1185-1',\n 'hsa-mir-1185-2',\n 'hsa-mir-1193',\n 'hsa-mir-1197',\n 'hsa-mir-1199',\n 'hsa-mir-1-2',\n 'hsa-mir-1200',\n 'hsa-mir-1202',\n 'hsa-mir-1203',\n 'hsa-mir-1204',\n 'hsa-mir-1205',\n 'hsa-mir-1206',\n 'hsa-mir-1207',\n 'hsa-mir-1208',\n 'hsa-mir-122',\n 'hsa-mir-1224',\n 'hsa-mir-1225',\n 'hsa-mir-1226',\n 'hsa-mir-1227',\n 'hsa-mir-1228',\n 'hsa-mir-1229',\n 'hsa-mir-1231',\n 'hsa-mir-1233-1',\n 'hsa-mir-1233-2',\n 'hsa-mir-1234',\n 'hsa-mir-1236',\n 'hsa-mir-1237',\n 'hsa-mir-1238',\n 'hsa-mir-124-1',\n 'hsa-mir-124-2',\n 'hsa-mir-1243',\n 'hsa-mir-124-3',\n 'hsa-mir-1244-1',\n 'hsa-mir-1244-2',\n 'hsa-mir-1244-3',\n 'hsa-mir-1244-4',\n 'hsa-mir-1245a',\n 'hsa-mir-1245b',\n 'hsa-mir-1246',\n 'hsa-mir-1247',\n 'hsa-mir-1248',\n 'hsa-mir-1249',\n 'hsa-mir-1250',\n 'hsa-mir-1251',\n 'hsa-mir-1252',\n 'hsa-mir-1253',\n 'hsa-mir-1254-1',\n 'hsa-mir-1254-2',\n 'hsa-mir-1255a',\n 'hsa-mir-1255b-1',\n 'hsa-mir-1255b-2',\n 'hsa-mir-1256',\n 'hsa-mir-1257',\n 'hsa-mir-1258',\n 'hsa-mir-125a',\n 'hsa-mir-125b-1',\n 'hsa-mir-125b-2',\n 'hsa-mir-126',\n 'hsa-mir-1260a',\n 'hsa-mir-1260b',\n 'hsa-mir-1261',\n 'hsa-mir-1262',\n 'hsa-mir-1263',\n 'hsa-mir-1264',\n 'hsa-mir-1265',\n 'hsa-mir-1266',\n 'hsa-mir-1267',\n 'hsa-mir-1268a',\n 'hsa-mir-1268b',\n 'hsa-mir-1269a',\n 'hsa-mir-1269b',\n 'hsa-mir-127',\n 'hsa-mir-1270',\n 'hsa-mir-1271',\n 'hsa-mir-1272',\n 'hsa-mir-1273a',\n 'hsa-mir-1273c',\n 'hsa-mir-1273d',\n 'hsa-mir-1273e',\n 'hsa-mir-1273f',\n 'hsa-mir-1273g',\n 'hsa-mir-1273h',\n 'hsa-mir-1275',\n 'hsa-mir-1276',\n 'hsa-mir-1277',\n 'hsa-mir-1278',\n 'hsa-mir-1279',\n 'hsa-mir-1281',\n 'hsa-mir-128-1',\n 'hsa-mir-1282',\n 'hsa-mir-128-2',\n 'hsa-mir-1283-1',\n 'hsa-mir-1283-2',\n 'hsa-mir-1284',\n 'hsa-mir-1285-1',\n 'hsa-mir-1285-2',\n 'hsa-mir-1286',\n 'hsa-mir-1287',\n 'hsa-mir-1288',\n 'hsa-mir-1289-1',\n 'hsa-mir-1289-2',\n 'hsa-mir-1290',\n 'hsa-mir-1291',\n 'hsa-mir-129-1',\n 'hsa-mir-1292',\n 'hsa-mir-129-2',\n 'hsa-mir-1293',\n 'hsa-mir-1294',\n 'hsa-mir-1295a',\n 'hsa-mir-1295b',\n 'hsa-mir-1296',\n 'hsa-mir-1297',\n 'hsa-mir-1298',\n 'hsa-mir-1299',\n 'hsa-mir-1301',\n 'hsa-mir-1302-1',\n 'hsa-mir-1302-10',\n 'hsa-mir-1302-11',\n 'hsa-mir-1302-2',\n 'hsa-mir-1302-3',\n 'hsa-mir-1302-4',\n 'hsa-mir-1302-5',\n 'hsa-mir-1302-6',\n 'hsa-mir-1302-7',\n 'hsa-mir-1302-8',\n 'hsa-mir-1302-9',\n 'hsa-mir-1303',\n 'hsa-mir-1304',\n 'hsa-mir-1305',\n 'hsa-mir-1306',\n 'hsa-mir-1307',\n 'hsa-mir-130a',\n 'hsa-mir-130b',\n 'hsa-mir-132',\n 'hsa-mir-1321',\n 'hsa-mir-1322',\n 'hsa-mir-1323',\n 'hsa-mir-1324',\n 'hsa-mir-133a-1',\n 'hsa-mir-133a-2',\n 'hsa-mir-133b',\n 'hsa-mir-134',\n 'hsa-mir-1343',\n 'hsa-mir-135a-1',\n 'hsa-mir-135a-2',\n 'hsa-mir-135b',\n 'hsa-mir-136',\n 'hsa-mir-137',\n 'hsa-mir-138-1',\n 'hsa-mir-138-2',\n 'hsa-mir-139',\n 'hsa-mir-140',\n 'hsa-mir-141',\n 'hsa-mir-142',\n 'hsa-mir-143',\n 'hsa-mir-144',\n 'hsa-mir-145',\n 'hsa-mir-1468',\n 'hsa-mir-1469',\n 'hsa-mir-146a',\n 'hsa-mir-146b',\n 'hsa-mir-1470',\n 'hsa-mir-1471',\n 'hsa-mir-147a',\n 'hsa-mir-147b',\n 'hsa-mir-148a',\n 'hsa-mir-148b',\n 'hsa-mir-149',\n 'hsa-mir-150',\n 'hsa-mir-151a',\n 'hsa-mir-151b',\n 'hsa-mir-152',\n 'hsa-mir-153-1',\n 'hsa-mir-153-2',\n 'hsa-mir-1537',\n 'hsa-mir-1538',\n 'hsa-mir-1539',\n 'hsa-mir-154',\n 'hsa-mir-155',\n 'hsa-mir-1587',\n 'hsa-mir-15a',\n 'hsa-mir-15b',\n 'hsa-mir-16-1',\n 'hsa-mir-16-2',\n 'hsa-mir-17',\n 'hsa-mir-181a-1',\n 'hsa-mir-181a-2',\n 'hsa-mir-181b-1',\n 'hsa-mir-181b-2',\n 'hsa-mir-181c',\n 'hsa-mir-181d',\n 'hsa-mir-182',\n 'hsa-mir-1825',\n 'hsa-mir-1827',\n 'hsa-mir-183',\n 'hsa-mir-184',\n 'hsa-mir-185',\n 'hsa-mir-186',\n 'hsa-mir-187',\n 'hsa-mir-188',\n 'hsa-mir-18a',\n 'hsa-mir-18b',\n 'hsa-mir-1908',\n 'hsa-mir-1909',\n 'hsa-mir-190a',\n 'hsa-mir-190b',\n 'hsa-mir-191',\n 'hsa-mir-1910',\n 'hsa-mir-1911',\n 'hsa-mir-1912',\n 'hsa-mir-1913',\n 'hsa-mir-1914',\n 'hsa-mir-1915',\n 'hsa-mir-192',\n 'hsa-mir-193a',\n 'hsa-mir-193b',\n 'hsa-mir-194-1',\n 'hsa-mir-194-2',\n 'hsa-mir-195',\n 'hsa-mir-196a-1',\n 'hsa-mir-196a-2',\n 'hsa-mir-196b',\n 'hsa-mir-197',\n 'hsa-mir-1972-1',\n 'hsa-mir-1972-2',\n 'hsa-mir-1973',\n 'hsa-mir-1976',\n 'hsa-mir-198',\n 'hsa-mir-199a-1',\n 'hsa-mir-199a-2',\n 'hsa-mir-199b',\n 'hsa-mir-19a',\n 'hsa-mir-19b-1',\n 'hsa-mir-19b-2',\n 'hsa-mir-200a',\n 'hsa-mir-200b',\n 'hsa-mir-200c',\n 'hsa-mir-202',\n 'hsa-mir-203a',\n 'hsa-mir-203b',\n 'hsa-mir-204',\n 'hsa-mir-205',\n 'hsa-mir-2052',\n 'hsa-mir-2053',\n 'hsa-mir-2054',\n 'hsa-mir-206',\n 'hsa-mir-208a',\n 'hsa-mir-208b',\n 'hsa-mir-20a',\n 'hsa-mir-20b',\n 'hsa-mir-21',\n 'hsa-mir-210',\n 'hsa-mir-211',\n 'hsa-mir-2110',\n 'hsa-mir-2113',\n 'hsa-mir-2114',\n 'hsa-mir-2115',\n 'hsa-mir-2116',\n 'hsa-mir-2117',\n 'hsa-mir-212',\n 'hsa-mir-214',\n 'hsa-mir-215',\n 'hsa-mir-216a',\n 'hsa-mir-216b',\n 'hsa-mir-217',\n 'hsa-mir-218-1',\n 'hsa-mir-218-2',\n 'hsa-mir-219a-1',\n 'hsa-mir-219a-2',\n 'hsa-mir-219b',\n 'hsa-mir-22',\n 'hsa-mir-221',\n 'hsa-mir-222',\n 'hsa-mir-223',\n 'hsa-mir-224',\n 'hsa-mir-2276',\n 'hsa-mir-2277',\n 'hsa-mir-2278',\n 'hsa-mir-2355',\n 'hsa-mir-2392',\n 'hsa-mir-23a',\n 'hsa-mir-23b',\n 'hsa-mir-23c',\n 'hsa-mir-24-1',\n 'hsa-mir-24-2',\n 'hsa-mir-2467',\n 'hsa-mir-25',\n 'hsa-mir-2681',\n 'hsa-mir-2682',\n 'hsa-mir-26a-1',\n 'hsa-mir-26a-2',\n 'hsa-mir-26b',\n 'hsa-mir-27a',\n 'hsa-mir-27b',\n 'hsa-mir-28',\n 'hsa-mir-2861',\n 'hsa-mir-2909',\n 'hsa-mir-296',\n 'hsa-mir-297',\n 'hsa-mir-298',\n 'hsa-mir-299',\n 'hsa-mir-29a',\n 'hsa-mir-29b-1',\n 'hsa-mir-29b-2',\n 'hsa-mir-29c',\n 'hsa-mir-300',\n 'hsa-mir-301a',\n 'hsa-mir-301b',\n 'hsa-mir-302a',\n 'hsa-mir-302b',\n 'hsa-mir-302c',\n 'hsa-mir-302d',\n 'hsa-mir-302e',\n 'hsa-mir-302f',\n 'hsa-mir-3064',\n 'hsa-mir-3065',\n 'hsa-mir-3074',\n 'hsa-mir-30a',\n 'hsa-mir-30b',\n 'hsa-mir-30c-1',\n 'hsa-mir-30c-2',\n 'hsa-mir-30d',\n 'hsa-mir-30e',\n 'hsa-mir-31',\n 'hsa-mir-3115',\n 'hsa-mir-3116-1',\n 'hsa-mir-3116-2',\n 'hsa-mir-3117',\n 'hsa-mir-3118-1',\n 'hsa-mir-3118-2',\n 'hsa-mir-3118-3',\n 'hsa-mir-3118-4',\n 'hsa-mir-3119-1',\n 'hsa-mir-3119-2',\n 'hsa-mir-3120',\n 'hsa-mir-3121',\n 'hsa-mir-3122',\n 'hsa-mir-3123',\n 'hsa-mir-3124',\n 'hsa-mir-3125',\n 'hsa-mir-3126',\n 'hsa-mir-3127',\n 'hsa-mir-3128',\n 'hsa-mir-3129',\n 'hsa-mir-3130-1',\n 'hsa-mir-3130-2',\n 'hsa-mir-3131',\n 'hsa-mir-3132',\n 'hsa-mir-3133',\n 'hsa-mir-3134',\n 'hsa-mir-3135a',\n 'hsa-mir-3135b',\n 'hsa-mir-3136',\n 'hsa-mir-3137',\n 'hsa-mir-3138',\n 'hsa-mir-3139',\n 'hsa-mir-3140',\n 'hsa-mir-3141',\n 'hsa-mir-3142',\n 'hsa-mir-3143',\n 'hsa-mir-3144',\n 'hsa-mir-3145',\n 'hsa-mir-3146',\n 'hsa-mir-3147',\n 'hsa-mir-3148',\n 'hsa-mir-3149',\n 'hsa-mir-3150a',\n 'hsa-mir-3150b',\n 'hsa-mir-3151',\n 'hsa-mir-3152',\n 'hsa-mir-3153',\n 'hsa-mir-3154',\n 'hsa-mir-3155a',\n 'hsa-mir-3155b',\n 'hsa-mir-3156-1',\n 'hsa-mir-3156-2',\n 'hsa-mir-3156-3',\n 'hsa-mir-3157',\n 'hsa-mir-3158-1',\n 'hsa-mir-3158-2',\n 'hsa-mir-3159',\n 'hsa-mir-3160-1',\n 'hsa-mir-3160-2',\n 'hsa-mir-3161',\n 'hsa-mir-3162',\n 'hsa-mir-3163',\n 'hsa-mir-3164',\n 'hsa-mir-3165',\n 'hsa-mir-3166',\n 'hsa-mir-3167',\n 'hsa-mir-3168',\n 'hsa-mir-3169',\n 'hsa-mir-3170',\n 'hsa-mir-3171',\n 'hsa-mir-3173',\n 'hsa-mir-3174',\n 'hsa-mir-3175',\n 'hsa-mir-3176',\n 'hsa-mir-3177',\n 'hsa-mir-3178',\n 'hsa-mir-3179-1',\n 'hsa-mir-3179-2',\n 'hsa-mir-3179-3',\n 'hsa-mir-3179-4',\n 'hsa-mir-3180-1',\n 'hsa-mir-3180-2',\n 'hsa-mir-3180-3',\n 'hsa-mir-3180-4',\n 'hsa-mir-3180-5',\n 'hsa-mir-3181',\n 'hsa-mir-3182',\n 'hsa-mir-3183',\n 'hsa-mir-3184',\n 'hsa-mir-3185',\n 'hsa-mir-3186',\n 'hsa-mir-3187',\n 'hsa-mir-3188',\n 'hsa-mir-3189',\n 'hsa-mir-3190',\n 'hsa-mir-3191',\n 'hsa-mir-3192',\n 'hsa-mir-3193',\n 'hsa-mir-3194',\n 'hsa-mir-3195',\n 'hsa-mir-3196',\n 'hsa-mir-3197',\n 'hsa-mir-3198-1',\n 'hsa-mir-3198-2',\n 'hsa-mir-3199-1',\n 'hsa-mir-3199-2',\n 'hsa-mir-32',\n 'hsa-mir-3200',\n 'hsa-mir-3201',\n 'hsa-mir-3202-1',\n 'hsa-mir-3202-2',\n 'hsa-mir-320a',\n 'hsa-mir-320b-1',\n 'hsa-mir-320b-2',\n 'hsa-mir-320c-1',\n 'hsa-mir-320c-2',\n 'hsa-mir-320d-1',\n 'hsa-mir-320d-2',\n 'hsa-mir-320e',\n 'hsa-mir-323a',\n 'hsa-mir-323b',\n 'hsa-mir-324',\n 'hsa-mir-325',\n 'hsa-mir-326',\n 'hsa-mir-328',\n 'hsa-mir-329-1',\n 'hsa-mir-329-2',\n 'hsa-mir-330',\n 'hsa-mir-331',\n 'hsa-mir-335',\n 'hsa-mir-337',\n 'hsa-mir-338',\n 'hsa-mir-339',\n 'hsa-mir-33a',\n 'hsa-mir-33b',\n 'hsa-mir-340',\n 'hsa-mir-342',\n 'hsa-mir-345',\n 'hsa-mir-346',\n 'hsa-mir-34a',\n 'hsa-mir-34b',\n 'hsa-mir-34c',\n 'hsa-mir-3529',\n 'hsa-mir-3591',\n 'hsa-mir-3605',\n 'hsa-mir-3606',\n 'hsa-mir-3607',\n 'hsa-mir-3609',\n 'hsa-mir-361',\n 'hsa-mir-3610',\n 'hsa-mir-3611',\n 'hsa-mir-3612',\n 'hsa-mir-3613',\n 'hsa-mir-3614',\n 'hsa-mir-3615',\n 'hsa-mir-3616',\n 'hsa-mir-3617',\n 'hsa-mir-3618',\n 'hsa-mir-3619',\n 'hsa-mir-362',\n 'hsa-mir-3620',\n 'hsa-mir-3621',\n 'hsa-mir-3622a',\n 'hsa-mir-3622b',\n 'hsa-mir-363',\n 'hsa-mir-3646',\n 'hsa-mir-3648-1',\n 'hsa-mir-3648-2',\n 'hsa-mir-3649',\n 'hsa-mir-3650',\n 'hsa-mir-3651',\n 'hsa-mir-3652',\n 'hsa-mir-3653',\n 'hsa-mir-3654',\n 'hsa-mir-3655',\n 'hsa-mir-3656',\n 'hsa-mir-3657',\n 'hsa-mir-3658',\n 'hsa-mir-3659',\n 'hsa-mir-365a',\n 'hsa-mir-365b',\n 'hsa-mir-3660',\n 'hsa-mir-3661',\n 'hsa-mir-3662',\n 'hsa-mir-3663',\n 'hsa-mir-3664',\n 'hsa-mir-3665',\n 'hsa-mir-3666',\n 'hsa-mir-3667',\n 'hsa-mir-3668',\n 'hsa-mir-367',\n 'hsa-mir-3670-1',\n 'hsa-mir-3670-2',\n 'hsa-mir-3670-3',\n 'hsa-mir-3670-4',\n 'hsa-mir-3671',\n 'hsa-mir-3672',\n 'hsa-mir-3674',\n 'hsa-mir-3675',\n 'hsa-mir-3677',\n 'hsa-mir-3678',\n 'hsa-mir-3679',\n 'hsa-mir-3680-1',\n 'hsa-mir-3680-2',\n 'hsa-mir-3681',\n 'hsa-mir-3682',\n 'hsa-mir-3683',\n 'hsa-mir-3684',\n 'hsa-mir-3685',\n 'hsa-mir-3686',\n 'hsa-mir-3687-1',\n 'hsa-mir-3687-2',\n 'hsa-mir-3688-1',\n 'hsa-mir-3688-2',\n 'hsa-mir-3689a',\n 'hsa-mir-3689b',\n 'hsa-mir-3689c',\n 'hsa-mir-3689d-1',\n 'hsa-mir-3689d-2',\n 'hsa-mir-3689e',\n 'hsa-mir-3689f',\n 'hsa-mir-369',\n 'hsa-mir-3690-1',\n 'hsa-mir-3690-2',\n 'hsa-mir-3691',\n 'hsa-mir-3692',\n 'hsa-mir-370',\n 'hsa-mir-3713',\n 'hsa-mir-3714',\n 'hsa-mir-371a',\n 'hsa-mir-371b',\n 'hsa-mir-372',\n 'hsa-mir-373',\n 'hsa-mir-374a',\n 'hsa-mir-374b',\n 'hsa-mir-374c',\n 'hsa-mir-375',\n 'hsa-mir-376a-1',\n 'hsa-mir-376a-2',\n 'hsa-mir-376b',\n 'hsa-mir-376c',\n 'hsa-mir-377',\n 'hsa-mir-378a',\n 'hsa-mir-378b',\n 'hsa-mir-378c',\n 'hsa-mir-378d-1',\n 'hsa-mir-378d-2',\n 'hsa-mir-378e',\n 'hsa-mir-378f',\n 'hsa-mir-378g',\n 'hsa-mir-378h',\n 'hsa-mir-378i',\n 'hsa-mir-378j',\n 'hsa-mir-379',\n 'hsa-mir-380',\n 'hsa-mir-381',\n 'hsa-mir-382',\n 'hsa-mir-383',\n 'hsa-mir-384',\n 'hsa-mir-3907',\n 'hsa-mir-3908',\n 'hsa-mir-3909',\n 'hsa-mir-3910-1',\n 'hsa-mir-3910-2',\n 'hsa-mir-3911',\n 'hsa-mir-3912',\n 'hsa-mir-3913-1',\n 'hsa-mir-3913-2',\n 'hsa-mir-3914-1',\n 'hsa-mir-3914-2',\n 'hsa-mir-3915',\n 'hsa-mir-3916',\n 'hsa-mir-3917',\n 'hsa-mir-3918',\n 'hsa-mir-3919',\n 'hsa-mir-3920',\n 'hsa-mir-3921',\n 'hsa-mir-3922',\n 'hsa-mir-3923',\n 'hsa-mir-3924',\n 'hsa-mir-3925',\n 'hsa-mir-3926-1',\n 'hsa-mir-3926-2',\n 'hsa-mir-3927',\n 'hsa-mir-3928',\n 'hsa-mir-3929',\n 'hsa-mir-3934',\n 'hsa-mir-3935',\n 'hsa-mir-3936',\n 'hsa-mir-3937',\n 'hsa-mir-3938',\n 'hsa-mir-3939',\n 'hsa-mir-3940',\n 'hsa-mir-3941',\n 'hsa-mir-3942',\n 'hsa-mir-3943',\n 'hsa-mir-3944',\n 'hsa-mir-3945',\n 'hsa-mir-3960',\n 'hsa-mir-3972',\n 'hsa-mir-3973',\n 'hsa-mir-3974',\n 'hsa-mir-3975',\n 'hsa-mir-3976',\n 'hsa-mir-3977',\n 'hsa-mir-3978',\n 'hsa-mir-409',\n 'hsa-mir-410',\n 'hsa-mir-411',\n 'hsa-mir-412',\n 'hsa-mir-421',\n 'hsa-mir-422a',\n 'hsa-mir-423',\n 'hsa-mir-424',\n 'hsa-mir-425',\n 'hsa-mir-4251',\n 'hsa-mir-4252',\n 'hsa-mir-4253',\n 'hsa-mir-4254',\n 'hsa-mir-4255',\n 'hsa-mir-4256',\n 'hsa-mir-4257',\n 'hsa-mir-4258',\n 'hsa-mir-4259',\n 'hsa-mir-4260',\n 'hsa-mir-4261',\n 'hsa-mir-4262',\n 'hsa-mir-4263',\n 'hsa-mir-4264',\n 'hsa-mir-4265',\n 'hsa-mir-4266',\n 'hsa-mir-4267',\n 'hsa-mir-4268',\n 'hsa-mir-4269',\n 'hsa-mir-4270',\n 'hsa-mir-4271',\n 'hsa-mir-4272',\n 'hsa-mir-4273',\n 'hsa-mir-4274',\n 'hsa-mir-4275',\n 'hsa-mir-4276',\n 'hsa-mir-4277',\n 'hsa-mir-4278',\n 'hsa-mir-4279',\n 'hsa-mir-4280',\n 'hsa-mir-4281',\n 'hsa-mir-4282',\n 'hsa-mir-4283-1',\n 'hsa-mir-4283-2',\n 'hsa-mir-4284',\n 'hsa-mir-4285',\n 'hsa-mir-4286',\n 'hsa-mir-4287',\n 'hsa-mir-4288',\n 'hsa-mir-4289',\n 'hsa-mir-429',\n 'hsa-mir-4290',\n 'hsa-mir-4291',\n 'hsa-mir-4292',\n 'hsa-mir-4293',\n 'hsa-mir-4294',\n 'hsa-mir-4295',\n 'hsa-mir-4296',\n 'hsa-mir-4297',\n 'hsa-mir-4298',\n 'hsa-mir-4299',\n 'hsa-mir-4300',\n 'hsa-mir-4301',\n 'hsa-mir-4302',\n 'hsa-mir-4303',\n 'hsa-mir-4304',\n 'hsa-mir-4305',\n 'hsa-mir-4306',\n 'hsa-mir-4307',\n 'hsa-mir-4308',\n 'hsa-mir-4309',\n 'hsa-mir-431',\n 'hsa-mir-4310',\n 'hsa-mir-4311',\n 'hsa-mir-4312',\n 'hsa-mir-4313',\n 'hsa-mir-4314',\n 'hsa-mir-4315-1',\n 'hsa-mir-4315-2',\n 'hsa-mir-4316',\n 'hsa-mir-4317',\n 'hsa-mir-4318',\n 'hsa-mir-4319',\n 'hsa-mir-432',\n 'hsa-mir-4320',\n 'hsa-mir-4321',\n 'hsa-mir-4322',\n 'hsa-mir-4323',\n 'hsa-mir-4324',\n 'hsa-mir-4325',\n 'hsa-mir-4326',\n 'hsa-mir-4327',\n 'hsa-mir-4328',\n 'hsa-mir-4329',\n 'hsa-mir-433',\n 'hsa-mir-4330',\n 'hsa-mir-4417',\n 'hsa-mir-4418',\n 'hsa-mir-4419a',\n 'hsa-mir-4419b',\n 'hsa-mir-4420',\n 'hsa-mir-4421',\n 'hsa-mir-4422',\n 'hsa-mir-4423',\n 'hsa-mir-4424',\n 'hsa-mir-4425',\n 'hsa-mir-4426',\n 'hsa-mir-4427',\n 'hsa-mir-4428',\n 'hsa-mir-4429',\n 'hsa-mir-4430',\n 'hsa-mir-4431',\n 'hsa-mir-4432',\n 'hsa-mir-4433a',\n 'hsa-mir-4433b',\n 'hsa-mir-4434',\n 'hsa-mir-4435-1',\n 'hsa-mir-4435-2',\n 'hsa-mir-4436a',\n 'hsa-mir-4436b-1',\n 'hsa-mir-4436b-2',\n 'hsa-mir-4437',\n 'hsa-mir-4438',\n 'hsa-mir-4439',\n 'hsa-mir-4440',\n 'hsa-mir-4441',\n 'hsa-mir-4442',\n 'hsa-mir-4443',\n 'hsa-mir-4444-1',\n 'hsa-mir-4444-2',\n 'hsa-mir-4445',\n 'hsa-mir-4446',\n 'hsa-mir-4447',\n 'hsa-mir-4448',\n 'hsa-mir-4449',\n 'hsa-mir-4450',\n 'hsa-mir-4451',\n 'hsa-mir-4452',\n 'hsa-mir-4453',\n 'hsa-mir-4454',\n 'hsa-mir-4455',\n 'hsa-mir-4456',\n 'hsa-mir-4457',\n 'hsa-mir-4458',\n 'hsa-mir-4459',\n 'hsa-mir-4460',\n 'hsa-mir-4461',\n 'hsa-mir-4462',\n 'hsa-mir-4463',\n 'hsa-mir-4464',\n 'hsa-mir-4465',\n 'hsa-mir-4466',\n 'hsa-mir-4467',\n 'hsa-mir-4468',\n 'hsa-mir-4469',\n 'hsa-mir-4470',\n 'hsa-mir-4471',\n 'hsa-mir-4472-1',\n 'hsa-mir-4472-2',\n 'hsa-mir-4473',\n 'hsa-mir-4474',\n 'hsa-mir-4475',\n 'hsa-mir-4476',\n 'hsa-mir-4477a',\n 'hsa-mir-4477b',\n 'hsa-mir-4478',\n 'hsa-mir-4479',\n 'hsa-mir-448',\n 'hsa-mir-4480',\n 'hsa-mir-4481',\n 'hsa-mir-4482',\n 'hsa-mir-4483',\n 'hsa-mir-4484',\n 'hsa-mir-4485',\n 'hsa-mir-4486',\n 'hsa-mir-4487',\n 'hsa-mir-4488',\n 'hsa-mir-4489',\n 'hsa-mir-4490',\n 'hsa-mir-4491',\n 'hsa-mir-4492',\n 'hsa-mir-4493',\n 'hsa-mir-4494',\n 'hsa-mir-4495',\n 'hsa-mir-4496',\n 'hsa-mir-4497',\n 'hsa-mir-4498',\n 'hsa-mir-4499',\n 'hsa-mir-449a',\n 'hsa-mir-449b',\n 'hsa-mir-449c',\n 'hsa-mir-4500',\n 'hsa-mir-4501',\n 'hsa-mir-4502',\n 'hsa-mir-4503',\n 'hsa-mir-4504',\n 'hsa-mir-4505',\n 'hsa-mir-4506',\n 'hsa-mir-4507',\n 'hsa-mir-4508',\n 'hsa-mir-4509-1',\n 'hsa-mir-4509-2',\n 'hsa-mir-4509-3',\n 'hsa-mir-450a-1',\n 'hsa-mir-450a-2',\n 'hsa-mir-450b',\n 'hsa-mir-4510',\n 'hsa-mir-4511',\n 'hsa-mir-4512',\n 'hsa-mir-4513',\n 'hsa-mir-4514',\n 'hsa-mir-4515',\n 'hsa-mir-4516',\n 'hsa-mir-4517',\n 'hsa-mir-4518',\n 'hsa-mir-4519',\n 'hsa-mir-451a',\n 'hsa-mir-451b',\n 'hsa-mir-452',\n 'hsa-mir-4520-1',\n 'hsa-mir-4520-2',\n 'hsa-mir-4521',\n 'hsa-mir-4522',\n 'hsa-mir-4523',\n 'hsa-mir-4524a',\n 'hsa-mir-4524b',\n 'hsa-mir-4525',\n 'hsa-mir-4526',\n 'hsa-mir-4527',\n 'hsa-mir-4528',\n 'hsa-mir-4529',\n 'hsa-mir-4530',\n 'hsa-mir-4531',\n 'hsa-mir-4532',\n 'hsa-mir-4533',\n 'hsa-mir-4534',\n 'hsa-mir-4535',\n 'hsa-mir-4536-1',\n 'hsa-mir-4536-2',\n 'hsa-mir-4537',\n 'hsa-mir-4538',\n 'hsa-mir-4539',\n 'hsa-mir-454',\n 'hsa-mir-4540',\n 'hsa-mir-455',\n 'hsa-mir-4632',\n 'hsa-mir-4633',\n 'hsa-mir-4634',\n 'hsa-mir-4635',\n 'hsa-mir-4636',\n 'hsa-mir-4637',\n 'hsa-mir-4638',\n 'hsa-mir-4639',\n 'hsa-mir-4640',\n 'hsa-mir-4641',\n 'hsa-mir-4642',\n 'hsa-mir-4643',\n 'hsa-mir-4644',\n 'hsa-mir-4645',\n 'hsa-mir-4646',\n 'hsa-mir-4647',\n 'hsa-mir-4648',\n 'hsa-mir-4649',\n 'hsa-mir-4650-1',\n 'hsa-mir-4650-2',\n 'hsa-mir-4651',\n 'hsa-mir-4652',\n 'hsa-mir-4653',\n 'hsa-mir-4654',\n 'hsa-mir-4655',\n 'hsa-mir-4656',\n 'hsa-mir-4657',\n 'hsa-mir-4658',\n 'hsa-mir-4659a',\n 'hsa-mir-4659b',\n 'hsa-mir-466',\n 'hsa-mir-4660',\n 'hsa-mir-4661',\n 'hsa-mir-4662a',\n 'hsa-mir-4662b',\n 'hsa-mir-4663',\n 'hsa-mir-4664',\n 'hsa-mir-4665',\n 'hsa-mir-4666a',\n 'hsa-mir-4666b',\n 'hsa-mir-4667',\n 'hsa-mir-4668',\n 'hsa-mir-4669',\n 'hsa-mir-4670',\n 'hsa-mir-4671',\n 'hsa-mir-4672',\n 'hsa-mir-4673',\n 'hsa-mir-4674',\n 'hsa-mir-4675',\n 'hsa-mir-4676',\n 'hsa-mir-4677',\n 'hsa-mir-4678',\n 'hsa-mir-4679-1',\n 'hsa-mir-4679-2',\n 'hsa-mir-4680',\n 'hsa-mir-4681',\n 'hsa-mir-4682',\n 'hsa-mir-4683',\n 'hsa-mir-4684',\n 'hsa-mir-4685',\n 'hsa-mir-4686',\n 'hsa-mir-4687',\n 'hsa-mir-4688',\n 'hsa-mir-4689',\n 'hsa-mir-4690',\n 'hsa-mir-4691',\n 'hsa-mir-4692',\n 'hsa-mir-4693',\n 'hsa-mir-4694',\n 'hsa-mir-4695',\n 'hsa-mir-4696',\n 'hsa-mir-4697',\n 'hsa-mir-4698',\n 'hsa-mir-4699',\n 'hsa-mir-4700',\n 'hsa-mir-4701',\n 'hsa-mir-4703',\n 'hsa-mir-4704',\n 'hsa-mir-4705',\n 'hsa-mir-4706',\n 'hsa-mir-4707',\n 'hsa-mir-4708',\n 'hsa-mir-4709',\n 'hsa-mir-4710',\n 'hsa-mir-4711',\n 'hsa-mir-4712',\n 'hsa-mir-4713',\n 'hsa-mir-4714',\n 'hsa-mir-4715',\n 'hsa-mir-4716',\n 'hsa-mir-4717',\n ...]"
      ]
     },
     "execution_count": 17,
     "metadata": {},
     "output_type": "execute_result"
    }
   ],
   "source": [
    "merged_mirna_tumor.columns.tolist()"
   ]
  },
  {
   "cell_type": "code",
   "execution_count": 18,
   "metadata": {
    "collapsed": true
   },
   "outputs": [
    {
     "name": "stdout",
     "output_type": "stream",
     "text": [
      "n_A 20\nn_B 275\n"
     ]
    },
    {
     "name": "stderr",
     "output_type": "stream",
     "text": [
      "src/models/miRNA_target_network.py:50: RuntimeWarning: invalid value encountered in double_scalars\n  ((n_A - 1) * np.std(miRNA_A[m]) * np.std(gene_A[t]))\n"
     ]
    },
    {
     "name": "stderr",
     "output_type": "stream",
     "text": [
      "src/models/miRNA_target_network.py:54: RuntimeWarning: invalid value encountered in double_scalars\n  ((n_B - 1) * np.std(miRNA_B[m]) * np.std(gene_B[t]))\n"
     ]
    },
    {
     "name": "stdout",
     "output_type": "stream",
     "text": [
      "2233\n"
     ]
    }
   ],
   "source": [
    "from src.models.miRNA_target_network import miRNATargetNetwork as miRNATargetNet\n",
    "import networkx as nx\n",
    "\n",
    "network = miRNATargetNet(miRNAs=merged_mirna_tumor.columns, targets=merged_gene_exp_tumor.columns, dys_threshold=0.7)\n",
    "\n",
    "print network.fit(tag=\"normal-StgI\",\n",
    "            miRNA_A=tgca_luad.make_dataset(dataset='miRNA', normal_tumor='normal',\n",
    "                                           normal_matched=False, mirna_gene_matched=True)[0],\n",
    "            gene_A=tgca_luad.make_dataset(dataset='gene', normal_tumor='normal',\n",
    "                                          normal_matched=False, mirna_gene_matched=True)[0],\n",
    "            miRNA_B=tgca_luad.make_dataset(dataset='miRNA', normal_tumor='tumor', pathologic_stages=['Stage I'],\n",
    "                                           normal_matched=False, mirna_gene_matched=True)[0],\n",
    "            gene_B=tgca_luad.make_dataset(dataset='gene', normal_tumor='tumor', pathologic_stages=['Stage I'],\n",
    "                                          normal_matched=False, mirna_gene_matched=True)[0],\n",
    "            putative_assocs=targetScan_df)"
   ]
  },
  {
   "cell_type": "code",
   "execution_count": 47,
   "metadata": {},
   "outputs": [
    {
     "name": "stdout",
     "output_type": "stream",
     "text": [
      "n_A 275\nn_B 120\n"
     ]
    },
    {
     "name": "stderr",
     "output_type": "stream",
     "text": [
      "src/models/miRNA_target_network.py:50: RuntimeWarning: invalid value encountered in double_scalars\n  ((n_A - 1) * np.std(miRNA_A[m]) * np.std(gene_A[t]))\nsrc/models/miRNA_target_network.py:54: RuntimeWarning: invalid value encountered in double_scalars\n  ((n_B - 1) * np.std(miRNA_B[m]) * np.std(gene_B[t]))\n"
     ]
    },
    {
     "data": {
      "text/plain": [
       "84"
      ]
     },
     "execution_count": 47,
     "metadata": {},
     "output_type": "execute_result"
    }
   ],
   "source": [
    "network.fit(tag=\"StgI-StgII\",\n",
    "            miRNA_A=tgca_luad.make_dataset(dataset='miRNA', normal_tumor='tumor', pathologic_stages=['Stage I'],\n",
    "                                           normal_matched=False, mirna_gene_matched=True)[0],\n",
    "            gene_A=tgca_luad.make_dataset(dataset='gene', normal_tumor='tumor', pathologic_stages=['Stage I'],\n",
    "                                          normal_matched=False, mirna_gene_matched=True)[0],\n",
    "            miRNA_B=tgca_luad.make_dataset(dataset='miRNA', normal_tumor='tumor', pathologic_stages=['Stage II'],\n",
    "                                           normal_matched=False, mirna_gene_matched=True)[0],\n",
    "            gene_B=tgca_luad.make_dataset(dataset='gene', normal_tumor='tumor', pathologic_stages=['Stage II'],\n",
    "                                          normal_matched=False, mirna_gene_matched=True)[0],\n",
    "            putative_assocs=targetScan_df)"
   ]
  },
  {
   "cell_type": "code",
   "execution_count": 117,
   "metadata": {},
   "outputs": [
    {
     "name": "stdout",
     "output_type": "stream",
     "text": [
      "n_A 120\nn_B 84\n"
     ]
    },
    {
     "data": {
      "text/plain": [
       "397"
      ]
     },
     "execution_count": 117,
     "metadata": {},
     "output_type": "execute_result"
    }
   ],
   "source": [
    "network.fit(tag=\"StgII-StgIII\",\n",
    "            miRNA_A=tgca_luad.make_dataset(dataset='miRNA', normal_tumor='tumor', pathologic_stages=['Stage II'],\n",
    "                                           normal_matched=False, mirna_gene_matched=True)[0],\n",
    "            gene_A=tgca_luad.make_dataset(dataset='gene', normal_tumor='tumor', pathologic_stages=['Stage II'],\n",
    "                                          normal_matched=False, mirna_gene_matched=True)[0],\n",
    "            miRNA_B=tgca_luad.make_dataset(dataset='miRNA', normal_tumor='tumor', pathologic_stages=['Stage III'],\n",
    "                                           normal_matched=False, mirna_gene_matched=True)[0],\n",
    "            gene_B=tgca_luad.make_dataset(dataset='gene', normal_tumor='tumor', pathologic_stages=['Stage III'],\n",
    "                                          normal_matched=False, mirna_gene_matched=True)[0],\n",
    "            putative_assocs=targetScan_df)"
   ]
  },
  {
   "cell_type": "code",
   "execution_count": 161,
   "metadata": {},
   "outputs": [
    {
     "name": "stdout",
     "output_type": "stream",
     "text": [
      "n_A 84\nn_B 24\n"
     ]
    },
    {
     "data": {
      "text/plain": [
       "20618"
      ]
     },
     "execution_count": 161,
     "metadata": {},
     "output_type": "execute_result"
    }
   ],
   "source": [
    "network.fit(tag=\"StgIII-StgIV\",\n",
    "            miRNA_A=tgca_luad.make_dataset(dataset='miRNA', normal_tumor='tumor', pathologic_stages=['Stage III'],\n",
    "                                           normal_matched=False, mirna_gene_matched=True)[0],\n",
    "            gene_A=tgca_luad.make_dataset(dataset='gene', normal_tumor='tumor', pathologic_stages=['Stage III'],\n",
    "                                          normal_matched=False, mirna_gene_matched=True)[0],\n",
    "            miRNA_B=tgca_luad.make_dataset(dataset='miRNA', normal_tumor='tumor', pathologic_stages=['Stage IV'],\n",
    "                                           normal_matched=False, mirna_gene_matched=True)[0],\n",
    "            gene_B=tgca_luad.make_dataset(dataset='gene', normal_tumor='tumor', pathologic_stages=['Stage IV'],\n",
    "                                          normal_matched=False, mirna_gene_matched=True)[0],\n",
    "            putative_assocs=targetScan_df)"
   ]
  },
  {
   "cell_type": "code",
   "execution_count": 50,
   "metadata": {
    "collapsed": true
   },
   "outputs": [
    {
     "data": {
      "text/plain": [
       "<src.models.miRNA_target_network.miRNATargetNetwork instance at 0x7ff3e9c95cb0>"
      ]
     },
     "execution_count": 50,
     "metadata": {},
     "output_type": "execute_result"
    }
   ],
   "source": [
    "network"
   ]
  },
  {
   "cell_type": "code",
   "execution_count": 13,
   "metadata": {
    "collapsed": true
   },
   "outputs": [
    {
     "name": "stdout",
     "output_type": "stream",
     "text": [
      "1881\n20484\nedges 2283\n"
     ]
    }
   ],
   "source": [
    "# miRNAs_nodes, targets_nodes = nx.bipartite.sets(network.B)\n",
    "miRNAs_nodes = set(n for n, d in network.B.nodes(data=True) if d['bipartite']==0)\n",
    "targets_nodes = set(network.B) - miRNAs_nodes\n",
    "print miRNAs_nodes.__len__()\n",
    "print targets_nodes.__len__()\n",
    "\n",
    "edges = network.B.edges()\n",
    "miRNAs_nodes_degrees = nx.bipartite.degrees(network.B, miRNAs_nodes)[1]\n",
    "targets_nodes_degrees = nx.bipartite.degrees(network.B, targets_nodes)[1]\n",
    "\n",
    "print \"edges\", len(edges)\n",
    "# print \"miRNAs_nodes_degrees\", miRNAs_nodes_degrees\n",
    "# print \"targets_nodes_degrees\", targets_nodes_degrees"
   ]
  },
  {
   "cell_type": "code",
   "execution_count": 14,
   "metadata": {
    "collapsed": true
   },
   "outputs": [],
   "source": [
    ""
   ]
  },
  {
   "cell_type": "markdown",
   "metadata": {},
   "source": [
    "### Prepare samples for Classification task"
   ]
  },
  {
   "cell_type": "code",
   "execution_count": 30,
   "metadata": {
    "collapsed": true
   },
   "outputs": [
    {
     "name": "stdout",
     "output_type": "stream",
     "text": [
      "X (92, 1881)\ny (92,)\n 1    46\n-1    46\nName: pathologic_stage, dtype: int64\n1    277\n2    121\n3     84\n0     46\n4     24\nName: pathologic_stage, dtype: int64\n"
     ]
    }
   ],
   "source": [
    "X, y = tgca_luad.make_dataset(dataset='miRNA', normal_tumor='both', normal_matched=True, mirna_gene_matched=False,\n",
    "                              pathologic_stages=['normal', 'Stage I', 'Stage II', 'Stage III', 'Stage IV'], \n",
    "                              label_mapping={'normal': -1, 'Stage I': 1, 'Stage II': 1, 'Stage III': 1, 'Stage IV': 1})\n",
    "\n",
    "X_multi, y_multi = tgca_luad.make_dataset(dataset='miRNA', normal_tumor='both', normal_matched=False, mirna_gene_matched=False,\n",
    "                              pathologic_stages=['normal', 'Stage I', 'Stage II', 'Stage III', 'Stage IV'], \n",
    "                                          label_mapping={'normal': 0, 'Stage I': 1, 'Stage II': 2, 'Stage III': 3, 'Stage IV': 4})\n",
    "\n",
    "print \"X\", X.shape\n",
    "print \"y\", y.shape\n",
    "\n",
    "print y.value_counts()\n",
    "print y_multi.value_counts()"
   ]
  },
  {
   "cell_type": "markdown",
   "metadata": {
    "collapsed": true
   },
   "source": [
    "## Create Classifiers"
   ]
  },
  {
   "cell_type": "code",
   "execution_count": 42,
   "metadata": {
    "collapsed": true
   },
   "outputs": [
    {
     "name": "stdout",
     "output_type": "stream",
     "text": [
      "FISTA Flat: {'loss': 'weighted-logistic', 'regul': 'group-lasso-l2', 'verbose': True, 'numThreads': -1, 'max_it': 1000, 'pos': False, 'intercept': False, 'it0': 10, 'L0': 0.1, 'tol': 0.001, 'lambda1': 0.5, 'lambda2': 0.5, 'lambda3': 0.5}\n"
     ]
    },
    {
     "name": "stdout",
     "output_type": "stream",
     "text": [
      "FISTA Flat: {'loss': 'weighted-logistic', 'regul': 'group-lasso-l2', 'verbose': True, 'numThreads': -1, 'max_it': 1000, 'pos': False, 'intercept': False, 'it0': 10, 'L0': 0.1, 'tol': 0.001, 'lambda1': 0.5, 'lambda2': 0.5, 'lambda3': 0.5}\n"
     ]
    },
    {
     "name": "stdout",
     "output_type": "stream",
     "text": [
      "FISTA Flat: {'loss': 'weighted-logistic', 'regul': 'l1', 'verbose': True, 'numThreads': -1, 'max_it': 1000, 'pos': False, 'intercept': False, 'it0': 10, 'L0': 0.1, 'tol': 0.001, 'lambda1': 0.5, 'lambda2': 0.5, 'lambda3': 0.5}\nFISTA Flat: {'loss': 'weighted-logistic', 'regul': 'elastic-net', 'verbose': True, 'numThreads': -1, 'max_it': 1000, 'pos': False, 'intercept': False, 'it0': 10, 'L0': 0.1, 'tol': 0.001, 'lambda1': 0.5, 'lambda2': 0.5, 'lambda3': 0.5}\nFISTA Flat: "
     ]
    },
    {
     "name": "stdout",
     "output_type": "stream",
     "text": [
      "{'loss': 'weighted-logistic', 'regul': 'sparse-group-lasso-l2', 'verbose': True, 'numThreads': -1, 'max_it': 1000, 'pos': False, 'intercept': False, 'it0': 10, 'L0': 0.1, 'tol': 0.001, 'lambda1': 0.2, 'lambda2': 0.5, 'lambda3': 0.5}\nFISTA Flat: {'loss': 'weighted-logistic', 'regul': 'sparse-group-lasso-l2', 'verbose': True, 'numThreads': -1, 'max_it': 1000, 'pos': False, 'intercept': False, 'it0': 10, 'L0': 0.1, 'tol': 0.001, 'lambda1': 0.2, 'lambda2': 0.5, 'lambda3': 0.5}\nFISTA Flat: {'loss': 'multi-logistic', 'regul': 'l1l2', 'verbose': True, 'numThreads': -1, 'max_it': 1000, 'pos': False, 'intercept': False, 'it0': 10, 'L0': 0.1, 'tol': 0.001, 'lambda1': 0.5, 'lambda2': 0.5, 'lambda3': 0.5}\n"
     ]
    },
    {
     "data": {
      "text/plain": [
       "array([[  8.29825634e-01],\n       [  4.66246373e-02],\n       [  9.43813935e-01],\n       [  1.00100000e+03]])"
      ]
     },
     "execution_count": 42,
     "metadata": {},
     "output_type": "execute_result"
    }
   ],
   "source": [
    "from sklearn.model_selection import train_test_split\n",
    "from src.models.group_lasso_spams import SPAMSClassifier\n",
    "import spams\n",
    "\n",
    "myfloat = np.float\n",
    "param = {'numThreads': -1, 'verbose': True,\n",
    "         'it0': 10, 'max_it': 1000,\n",
    "         'L0': 0.1, 'tol': 1e-3, 'intercept': False,\n",
    "         'pos': False}\n",
    "param['lambda1'] = 0.5\n",
    "param['lambda2'] = 0.5\n",
    "param['lambda3'] = 0.5\n",
    "\n",
    "X_train, X_test, Y_train, Y_test = \\\n",
    "    train_test_split(X, y, test_size=0.2, random_state=np.random.randint(0, 10000), stratify=y)\n",
    "\n",
    "X_multi_train, X_multi_test, Y_multi_train, Y_multi_test = \\\n",
    "    train_test_split(X_multi, y_multi, test_size=0.2, random_state=np.random.randint(0, 10000), stratify=y_multi)\n",
    "\n",
    "X_train = np.asfortranarray(X_train, dtype=myfloat)\n",
    "Y_train = np.asfortranarray(Y_train, dtype=myfloat)\n",
    "Y_train = np.reshape(Y_train, [Y_train.shape[0], 1])\n",
    "X_multi_train = np.asfortranarray(X_multi_train, dtype=myfloat)\n",
    "Y_multi_train = np.asfortranarray(Y_multi_train, dtype=myfloat)\n",
    "Y_multi_train = np.reshape(Y_multi_train, [Y_multi_train.shape[0], 1])\n",
    "\n",
    "# Group Lasso L2\n",
    "group_l2_param = param.copy()\n",
    "group_l2_param['loss'] = 'weighted-logistic'\n",
    "group_l2_param['regul'] = 'group-lasso-l2'\n",
    "group_l2 = SPAMSClassifier()\n",
    "group_l2.fit(X_train, Y_train, groups=network.get_miRNA_group_assgn(smaller_groups=True), params=group_l2_param)\n",
    "\n",
    "group_l2_large_groups = SPAMSClassifier()\n",
    "group_l2_large_groups.fit(X_train, Y_train, \n",
    "                          groups=network.get_miRNA_group_assgn(smaller_groups=False),\n",
    "                          params=group_l2_param)\n",
    "\n",
    "# L1 Lasso\n",
    "l1_lasso_param = param.copy()\n",
    "l1_lasso_param['loss'] = 'weighted-logistic'\n",
    "l1_lasso_param['regul'] = 'l1'\n",
    "l1_lasso = SPAMSClassifier()\n",
    "l1_lasso.fit(X_train, Y_train, groups=None, params=l1_lasso_param)\n",
    "\n",
    "# Elastic Net\n",
    "elastic_net_param = param.copy()\n",
    "elastic_net_param['loss'] = 'weighted-logistic'\n",
    "elastic_net_param['regul'] = 'elastic-net'\n",
    "elastic_net = SPAMSClassifier()\n",
    "elastic_net.fit(X_train, Y_train, groups=None, params=elastic_net_param)\n",
    "\n",
    "# Sparse Group Lasso\n",
    "sparse_group_l2_param = param.copy()\n",
    "sparse_group_l2_param['loss'] = 'weighted-logistic'\n",
    "sparse_group_l2_param['regul'] = 'sparse-group-lasso-l2'\n",
    "sparse_group_l2_param['lambda1'] = 0.2\n",
    "sparse_group_l2 = SPAMSClassifier()\n",
    "sparse_group_l2.fit(X_train, Y_train, groups=network.get_miRNA_group_assgn(), params=sparse_group_l2_param)\n",
    "\n",
    "sparse_group_l2_large_groups = SPAMSClassifier()\n",
    "sparse_group_l2_large_groups.fit(X_train, Y_train, groups=network.get_miRNA_group_assgn(smaller_groups=False), params=sparse_group_l2_param)\n",
    "\n",
    "# Multi Logistic\n",
    "multi_group_l2_param = param.copy()\n",
    "multi_group_l2_param['loss'] = 'multi-logistic'\n",
    "multi_group_l2_param['regul'] = 'l1l2'\n",
    "multi_group_l2 = SPAMSClassifier()\n",
    "multi_group_l2.fit(X_multi_train, Y_multi_train, groups=network.get_miRNA_group_assgn(smaller_groups=True), params=multi_group_l2_param)"
   ]
  },
  {
   "cell_type": "markdown",
   "metadata": {},
   "source": [
    "## Logistic Regression with L1L2 & Overlapping Group LASSO regularizer"
   ]
  },
  {
   "cell_type": "code",
   "execution_count": 43,
   "metadata": {
    "collapsed": true
   },
   "outputs": [
    {
     "name": "stdout",
     "output_type": "stream",
     "text": [
      "Non-zero: 244\n"
     ]
    }
   ],
   "source": [
    "import parsimony.estimators as estimators\n",
    "import parsimony.algorithms as algorithms\n",
    "import parsimony.functions.nesterov.gl as gl\n",
    "import parsimony.utils.start_vectors as start_vectors\n",
    "# \n",
    "# X_train, X_test, Y_train, Y_test = \\\n",
    "#     train_test_split(X, y, test_size=0.2, random_state=np.random.randint(0, 10000), stratify=y)\n",
    "\n",
    "A = gl.linear_operator_from_groups(X_train.shape[1],\n",
    "                                   network.miRNA_groups_int\n",
    "                                   # weights=[2*1./len(g) for g in network.miRNA_groups_int]\n",
    "                                   )\n",
    "beta = start_vectors.ZerosStartVector().get_vector(X_train.shape[1])\n",
    "\n",
    "logistic_L1L2GL = estimators.LogisticRegressionL1L2GL(l1=3., l2=0.0, gl=3., A=A,\n",
    "                                                      algorithm=algorithms.proximal.FISTA(),\n",
    "                                                      class_weight='auto',\n",
    "                                                      algorithm_params=dict(max_iter=1000),\n",
    "                                                      mean=False)\n",
    "logistic_L1L2GL.fit(X=X_train, y=Y_train, beta=beta)\n",
    "\n",
    "print 'Non-zero:', len(logistic_L1L2GL.beta.nonzero()[0])"
   ]
  },
  {
   "cell_type": "code",
   "execution_count": 38,
   "metadata": {
    "collapsed": true
   },
   "outputs": [],
   "source": [
    "# [(label, percent[0]) for label, percent in zip(logistic_L1L2GL.predict(X_test), logistic_L1L2GL.predict_probability(X_test))]"
   ]
  },
  {
   "cell_type": "markdown",
   "metadata": {},
   "source": [
    "\n",
    "## Classification Report"
   ]
  },
  {
   "cell_type": "code",
   "execution_count": 44,
   "metadata": {
    "collapsed": true
   },
   "outputs": [
    {
     "name": "stdout",
     "output_type": "stream",
     "text": [
      "\nLogistic L1L2GL\n             precision    recall  f1-score   support\n\n       -1.0       1.00      1.00      1.00        36\n        1.0       1.00      1.00      1.00        37\n\navg / total       1.00      1.00      1.00        73\n\n             precision    recall  f1-score   support\n\n         -1       1.00      1.00      1.00        10\n          1       1.00      1.00      1.00         9\n\navg / total       1.00      1.00      1.00        19\n\n\nmulti-task group_small\n             precision    recall  f1-score   support\n\n        0.0       1.00      1.00      1.00        37\n        1.0       0.63      0.93      0.75       221\n        2.0       0.65      0.29      0.40        97\n        3.0       0.68      0.31      0.43        67\n        4.0       0.75      0.16      0.26        19\n\navg / total       0.68      0.67      0.62       441\n\n             precision    recall  f1-score   support\n\n          0       0.89      0.89      0.89         9\n          1       0.55      0.82      0.66        56\n          2       0.38      0.12      0.19        24\n          3       0.00      0.00      0.00        17\n          4       0.00      0.00      0.00         5\n\navg / total       0.43      0.51      0.44       111\n\n\ngroup_small\n             precision    recall  f1-score   support\n\n       -1.0       1.00      1.00      1.00        36\n        1.0       1.00      1.00      1.00        37\n\navg / total       1.00      1.00      1.00        73\n\n             precision    recall  f1-score   support\n\n         -1       1.00      1.00      1.00        10\n          1       1.00      1.00      1.00         9\n\navg / total       1.00      1.00      1.00        19\n\n\ngroup_large\n             precision    recall  f1-score   support\n\n       -1.0       1.00      1.00      1.00        36\n        1.0       1.00      1.00      1.00        37\n\navg / total       1.00      1.00      1.00        73\n\n             precision    recall  f1-score   support\n\n         -1       1.00      1.00      1.00        10\n          1       1.00      1.00      1.00         9\n\navg / total       1.00      1.00      1.00        19\n\n\nl1_lasso\n             precision    recall  f1-score   support\n\n       -1.0       1.00      1.00      1.00        36\n        1.0       1.00      1.00      1.00        37\n\navg / total       1.00      1.00      1.00        73\n\n             precision    recall  f1-score   support\n\n         -1       1.00      1.00      1.00        10\n          1       1.00      1.00      1.00         9\n\navg / total       1.00      1.00      1.00        19\n\n\nelastic_net\n             precision    recall  f1-score   support\n\n       -1.0       1.00      1.00      1.00        36\n        1.0       1.00      1.00      1.00        37\n\navg / total       1.00      1.00      1.00        73\n\n             precision    recall  f1-score   support\n\n         -1       1.00      1.00      1.00        10\n          1       1.00      1.00      1.00         9\n\navg / total       1.00      1.00      1.00        19\n\n\nsparse-group_small\n             precision    recall  f1-score   support\n\n       -1.0       1.00      1.00      1.00        36\n        1.0       1.00      1.00      1.00        37\n\navg / total       1.00      1.00      1.00        73\n\n             precision    recall  f1-score   support\n\n         -1       1.00      1.00      1.00        10\n          1       1.00      1.00      1.00         9\n\navg / total       1.00      1.00      1.00        19\n\n\nsparse_group_large\n             precision    recall  f1-score   support\n\n       -1.0       1.00      1.00      1.00        36\n        1.0       1.00      1.00      1.00        37\n\navg / total       1.00      1.00      1.00        73\n\n             precision    recall  f1-score   support\n\n         -1       1.00      1.00      1.00        10\n          1       1.00      1.00      1.00         9\n\navg / total       1.00      1.00      1.00        19\n\n"
     ]
    }
   ],
   "source": [
    "from sklearn import metrics\n",
    "\n",
    "for model, name in [(logistic_L1L2GL, 'Logistic L1L2GL'),\n",
    "                    (multi_group_l2, 'multi-task group_small'),\n",
    "                    (group_l2, 'group_small'),\n",
    "                    (group_l2_large_groups, 'group_large'),\n",
    "                    (l1_lasso, 'l1_lasso'),\n",
    "                    (elastic_net, 'elastic_net'),\n",
    "                    (sparse_group_l2, 'sparse-group_small'),\n",
    "                    (sparse_group_l2_large_groups, 'sparse_group_large')]:\n",
    "    print '\\n', name\n",
    "    if name is 'Logistic L1L2GL':\n",
    "        predicted = logistic_L1L2GL.predict(X_train)\n",
    "        np.place(predicted, predicted == 0., [-1])\n",
    "        print metrics.classification_report(Y_train, predicted)\n",
    "        predicted = logistic_L1L2GL.predict(X_test)\n",
    "        np.place(predicted, predicted == 0., [-1])\n",
    "        print metrics.classification_report(Y_test, predicted)\n",
    "    elif name is 'multi-task group_small':\n",
    "        print metrics.classification_report(Y_multi_train, model.predict(X_multi_train))\n",
    "        print metrics.classification_report(Y_multi_test, model.predict(X_multi_test))\n",
    "    else:\n",
    "        print metrics.classification_report(Y_train, model.predict(X_train))\n",
    "        print metrics.classification_report(Y_test, model.predict(X_test))"
   ]
  },
  {
   "cell_type": "markdown",
   "metadata": {},
   "source": [
    "## Loading HMDD database for experimentally validated NSCLC miRNA"
   ]
  },
  {
   "cell_type": "code",
   "execution_count": 40,
   "metadata": {
    "collapsed": true
   },
   "outputs": [
    {
     "name": "stdout",
     "output_type": "stream",
     "text": [
      "HMDD_lung_neoplasm_miRNAs (157,)\nmiRCancer_luad_miRNAs 27\nmir2disease_nsclc_miRNAs (24,)\n"
     ]
    }
   ],
   "source": [
    "HMDD_df = pandas.read_table(os.path.join(ROOT_DIR, 'data/external/HMDD_miRNA-disease.txt'), delimiter='\\t', header=-1)\n",
    "HMDD_df = HMDD_df[HMDD_df[2] == \"Lung Neoplasms\"]\n",
    "HMDD_lung_neoplasm_miRNAs = HMDD_df[1].unique()\n",
    "print \"HMDD_lung_neoplasm_miRNAs\", HMDD_lung_neoplasm_miRNAs.shape\n",
    "\n",
    "miRCancer_luad_miRNA_df = pandas.read_csv(os.path.join(ROOT_DIR, 'data/external/validated_luad_miRNAs_miRCancer.csv'))\n",
    "miRCancer_luad_miRNAs = set(miRCancer_luad_miRNA_df['miRNA'].tolist())\n",
    "print \"miRCancer_luad_miRNAs\", len(miRCancer_luad_miRNAs)\n",
    "\n",
    "\n",
    "mir2disease_nsclc_miRNA_df = pandas.read_table(os.path.join(ROOT_DIR, 'data/external/mir2Disease_miRNA-Disease.txt'), delimiter='\\t', header=-1) \n",
    "mir2disease_nsclc_miRNA_df.columns = ['miRNA', 'disease', 'up_down', 'method', 'year', 'description'] \n",
    "mir2disease_nsclc_miRNA_df = mir2disease_nsclc_miRNA_df[(mir2disease_nsclc_miRNA_df['disease'] == 'non-small cell lung cancer (NSCLC)')]\n",
    "mir2disease_nsclc_miRNA_df['miRNA'] = mir2disease_nsclc_miRNA_df['miRNA'].str.lower()\n",
    "mir2disease_nsclc_miRNA_df['miRNA'] = mir2disease_nsclc_miRNA_df['miRNA'].str.replace(\"*\", \"\")\n",
    "mir2disease_nsclc_miRNA_df['miRNA'] = mir2disease_nsclc_miRNA_df['miRNA'].str.replace(\"-3p.*|-5p.*\", \"\")\n",
    "mir2disease_nsclc_miRNA_df.drop_duplicates(inplace=True)\n",
    "mir2disease_nsclc_miRNAs = mir2disease_nsclc_miRNA_df['miRNA'].unique()\n",
    "print \"mir2disease_nsclc_miRNAs\", mir2disease_nsclc_miRNAs.shape\n",
    "\n",
    "validating_miRNAs = HMDD_lung_neoplasm_miRNAs"
   ]
  },
  {
   "cell_type": "markdown",
   "metadata": {},
   "source": [
    "## Compare models by recall rate"
   ]
  },
  {
   "cell_type": "code",
   "execution_count": 41,
   "metadata": {
    "collapsed": false
   },
   "outputs": [
    {
     "name": "stderr",
     "output_type": "stream",
     "text": [
      "src/models/group_lasso_spams.py:53: FutureWarning: sort is deprecated, use sort_values(inplace=True) for INPLACE sorting\n  selected_miRNAs['coef'].abs().sort(inplace=False, ascending=False).index)\n"
     ]
    },
    {
     "data": {
      "text/html": [
       "<div>\n",
       "<table border=\"1\" class=\"dataframe\">\n",
       "  <thead>\n",
       "    <tr style=\"text-align: right;\">\n",
       "      <th></th>\n",
       "      <th>method</th>\n",
       "      <th>no_selected</th>\n",
       "      <th>recall_rate</th>\n",
       "      <th>precision_rate</th>\n",
       "    </tr>\n",
       "  </thead>\n",
       "  <tbody>\n",
       "    <tr>\n",
       "      <th>0</th>\n",
       "      <td>Logistic L1L2GL</td>\n",
       "      <td>262</td>\n",
       "      <td>0.770701</td>\n",
       "      <td>0.461832</td>\n",
       "    </tr>\n",
       "    <tr>\n",
       "      <th>1</th>\n",
       "      <td>multi-task group_small</td>\n",
       "      <td>256</td>\n",
       "      <td>0.707006</td>\n",
       "      <td>0.433594</td>\n",
       "    </tr>\n",
       "    <tr>\n",
       "      <th>3</th>\n",
       "      <td>group_large</td>\n",
       "      <td>201</td>\n",
       "      <td>0.662420</td>\n",
       "      <td>0.517413</td>\n",
       "    </tr>\n",
       "    <tr>\n",
       "      <th>2</th>\n",
       "      <td>group_small</td>\n",
       "      <td>163</td>\n",
       "      <td>0.624204</td>\n",
       "      <td>0.601227</td>\n",
       "    </tr>\n",
       "    <tr>\n",
       "      <th>4</th>\n",
       "      <td>l1_lasso</td>\n",
       "      <td>149</td>\n",
       "      <td>0.585987</td>\n",
       "      <td>0.617450</td>\n",
       "    </tr>\n",
       "    <tr>\n",
       "      <th>5</th>\n",
       "      <td>elastic_net</td>\n",
       "      <td>149</td>\n",
       "      <td>0.585987</td>\n",
       "      <td>0.617450</td>\n",
       "    </tr>\n",
       "    <tr>\n",
       "      <th>6</th>\n",
       "      <td>sparse-group_small</td>\n",
       "      <td>123</td>\n",
       "      <td>0.528662</td>\n",
       "      <td>0.674797</td>\n",
       "    </tr>\n",
       "    <tr>\n",
       "      <th>7</th>\n",
       "      <td>sparse_group_large</td>\n",
       "      <td>122</td>\n",
       "      <td>0.522293</td>\n",
       "      <td>0.672131</td>\n",
       "    </tr>\n",
       "  </tbody>\n",
       "</table>\n",
       "</div>"
      ],
      "text/plain": [
       "<div>\n",
       "<table border=\"1\" class=\"dataframe\">\n",
       "  <thead>\n",
       "    <tr style=\"text-align: right;\">\n",
       "      <th></th>\n",
       "      <th>method</th>\n",
       "      <th>no_selected</th>\n",
       "      <th>recall_rate</th>\n",
       "      <th>precision_rate</th>\n",
       "    </tr>\n",
       "  </thead>\n",
       "  <tbody>\n",
       "    <tr>\n",
       "      <th>0</th>\n",
       "      <td>Logistic L1L2GL</td>\n",
       "      <td>262</td>\n",
       "      <td>0.770701</td>\n",
       "      <td>0.461832</td>\n",
       "    </tr>\n",
       "    <tr>\n",
       "      <th>1</th>\n",
       "      <td>multi-task group_small</td>\n",
       "      <td>256</td>\n",
       "      <td>0.707006</td>\n",
       "      <td>0.433594</td>\n",
       "    </tr>\n",
       "    <tr>\n",
       "      <th>3</th>\n",
       "      <td>group_large</td>\n",
       "      <td>201</td>\n",
       "      <td>0.662420</td>\n",
       "      <td>0.517413</td>\n",
       "    </tr>\n",
       "    <tr>\n",
       "      <th>2</th>\n",
       "      <td>group_small</td>\n",
       "      <td>163</td>\n",
       "      <td>0.624204</td>\n",
       "      <td>0.601227</td>\n",
       "    </tr>\n",
       "    <tr>\n",
       "      <th>4</th>\n",
       "      <td>l1_lasso</td>\n",
       "      <td>149</td>\n",
       "      <td>0.585987</td>\n",
       "      <td>0.617450</td>\n",
       "    </tr>\n",
       "    <tr>\n",
       "      <th>5</th>\n",
       "      <td>elastic_net</td>\n",
       "      <td>149</td>\n",
       "      <td>0.585987</td>\n",
       "      <td>0.617450</td>\n",
       "    </tr>\n",
       "    <tr>\n",
       "      <th>6</th>\n",
       "      <td>sparse-group_small</td>\n",
       "      <td>123</td>\n",
       "      <td>0.528662</td>\n",
       "      <td>0.674797</td>\n",
       "    </tr>\n",
       "    <tr>\n",
       "      <th>7</th>\n",
       "      <td>sparse_group_large</td>\n",
       "      <td>122</td>\n",
       "      <td>0.522293</td>\n",
       "      <td>0.672131</td>\n",
       "    </tr>\n",
       "  </tbody>\n",
       "</table>\n",
       "</div>"
      ]
     },
     "execution_count": 41,
     "metadata": {},
     "output_type": "execute_result"
    }
   ],
   "source": [
    "from src.utils.validate_candidate_miRNAs import recall_rate, precision_rate, get_miRNA_names\n",
    "\n",
    "models = []\n",
    "for model, name in [(logistic_L1L2GL, 'Logistic L1L2GL'),\n",
    "                    (multi_group_l2, 'multi-task group_small'),\n",
    "                    (group_l2, 'group_small'),\n",
    "                    (group_l2_large_groups, 'group_large'),\n",
    "                    (l1_lasso, 'l1_lasso'),\n",
    "                    (elastic_net, 'elastic_net'),\n",
    "                    (sparse_group_l2, 'sparse-group_small'),\n",
    "                    (sparse_group_l2_large_groups, 'sparse_group_large')]:\n",
    "    if name is 'Logistic L1L2GL':\n",
    "        models.append([name,\n",
    "                   len(model.beta.nonzero()[0]),\n",
    "                   recall_rate(candidate_miRNAs=get_miRNA_names(model.beta.nonzero()[0][:], mirna_list),\n",
    "                               validated_miRNAs=validating_miRNAs),\n",
    "                   precision_rate(candidate_miRNAs=get_miRNA_names(model.beta.nonzero()[0][:], mirna_list),\n",
    "                                  validated_miRNAs=validating_miRNAs) ])\n",
    "    else:\n",
    "        models.append([name,\n",
    "                   model.get_selected_miRNAs(mirna_list)['miRNA'].shape[0],\n",
    "                   recall_rate(candidate_miRNAs=model.get_selected_miRNAs(mirna_list)['miRNA'].tolist(),\n",
    "                               validated_miRNAs=validating_miRNAs),\n",
    "                   precision_rate(candidate_miRNAs=model.get_selected_miRNAs(mirna_list)['miRNA'].tolist(),\n",
    "                                  validated_miRNAs=validating_miRNAs) ])\n",
    "\n",
    "pandas.DataFrame(models, columns=['method', 'no_selected', 'recall_rate', 'precision_rate']).sort_values(by='recall_rate', ascending=False)\n",
    "# (group_l2_large_groups, 'group_l2_large_groups'),\n",
    "# (l1_lasso, 'l1_lasso'),\n",
    "# (elastic_net, 'elastic_net'),\n",
    "# (sparse_group_l2, 'sparse-group-lasso-l2'),\n",
    "# (sparse_group_l2_large_groups, 'sparse_group_l2_large_groups')"
   ]
  },
  {
   "cell_type": "markdown",
   "metadata": {},
   "source": [
    "## Check each candidate miRNA's if validated"
   ]
  },
  {
   "cell_type": "code",
   "execution_count": 180,
   "metadata": {},
   "outputs": [
    {
     "data": {
      "text/html": [
       "<div>\n",
       "<table border=\"1\" class=\"dataframe\">\n",
       "  <thead>\n",
       "    <tr style=\"text-align: right;\">\n",
       "      <th></th>\n",
       "      <th>miRNA</th>\n",
       "      <th>coef</th>\n",
       "      <th>validated</th>\n",
       "      <th>groups</th>\n",
       "    </tr>\n",
       "  </thead>\n",
       "  <tbody>\n",
       "    <tr>\n",
       "      <th>67</th>\n",
       "      <td>hsa-mir-22</td>\n",
       "      <td>0.000199</td>\n",
       "      <td>True</td>\n",
       "      <td>[6, 165, 245, 312, 347, 362, 363, 427, 775, 95...</td>\n",
       "    </tr>\n",
       "    <tr>\n",
       "      <th>37</th>\n",
       "      <td>hsa-mir-148a</td>\n",
       "      <td>0.000191</td>\n",
       "      <td>True</td>\n",
       "      <td>[81, 317, 343, 429, 547, 852, 1019, 1107, 1234...</td>\n",
       "    </tr>\n",
       "    <tr>\n",
       "      <th>47</th>\n",
       "      <td>hsa-mir-182</td>\n",
       "      <td>0.000162</td>\n",
       "      <td>True</td>\n",
       "      <td>[78, 132, 164, 326, 363, 390, 423, 492, 516, 5...</td>\n",
       "    </tr>\n",
       "    <tr>\n",
       "      <th>85</th>\n",
       "      <td>hsa-mir-30a</td>\n",
       "      <td>-0.000150</td>\n",
       "      <td>True</td>\n",
       "      <td>[35, 134, 153, 205, 297, 331, 349, 400, 401, 4...</td>\n",
       "    </tr>\n",
       "    <tr>\n",
       "      <th>61</th>\n",
       "      <td>hsa-mir-203a</td>\n",
       "      <td>0.000117</td>\n",
       "      <td>False</td>\n",
       "      <td>[189, 405, 413, 486, 540, 598, 697, 956, 986, ...</td>\n",
       "    </tr>\n",
       "    <tr>\n",
       "      <th>2</th>\n",
       "      <td>hsa-let-7a-3</td>\n",
       "      <td>-0.000098</td>\n",
       "      <td>True</td>\n",
       "      <td>[]</td>\n",
       "    </tr>\n",
       "    <tr>\n",
       "      <th>0</th>\n",
       "      <td>hsa-let-7a-1</td>\n",
       "      <td>-0.000098</td>\n",
       "      <td>True</td>\n",
       "      <td>[]</td>\n",
       "    </tr>\n",
       "    <tr>\n",
       "      <th>84</th>\n",
       "      <td>hsa-mir-29c</td>\n",
       "      <td>0.000094</td>\n",
       "      <td>True</td>\n",
       "      <td>[18, 27, 59, 216, 218, 282, 314, 416, 467, 519...</td>\n",
       "    </tr>\n",
       "    <tr>\n",
       "      <th>81</th>\n",
       "      <td>hsa-mir-29a</td>\n",
       "      <td>0.000093</td>\n",
       "      <td>True</td>\n",
       "      <td>[59, 96, 216, 218, 260, 282, 290, 304, 393, 41...</td>\n",
       "    </tr>\n",
       "    <tr>\n",
       "      <th>8</th>\n",
       "      <td>hsa-let-7f-2</td>\n",
       "      <td>-0.000087</td>\n",
       "      <td>True</td>\n",
       "      <td>[]</td>\n",
       "    </tr>\n",
       "    <tr>\n",
       "      <th>7</th>\n",
       "      <td>hsa-let-7f-1</td>\n",
       "      <td>-0.000087</td>\n",
       "      <td>True</td>\n",
       "      <td>[]</td>\n",
       "    </tr>\n",
       "    <tr>\n",
       "      <th>14</th>\n",
       "      <td>hsa-mir-103a-1</td>\n",
       "      <td>-0.000083</td>\n",
       "      <td>True</td>\n",
       "      <td>[]</td>\n",
       "    </tr>\n",
       "    <tr>\n",
       "      <th>15</th>\n",
       "      <td>hsa-mir-103a-2</td>\n",
       "      <td>-0.000082</td>\n",
       "      <td>True</td>\n",
       "      <td>[]</td>\n",
       "    </tr>\n",
       "    <tr>\n",
       "      <th>48</th>\n",
       "      <td>hsa-mir-183</td>\n",
       "      <td>0.000080</td>\n",
       "      <td>True</td>\n",
       "      <td>[3, 11, 25, 36, 157, 325, 348, 398, 450, 468, ...</td>\n",
       "    </tr>\n",
       "    <tr>\n",
       "      <th>3</th>\n",
       "      <td>hsa-let-7b</td>\n",
       "      <td>0.000073</td>\n",
       "      <td>True</td>\n",
       "      <td>[30, 86, 129, 144, 232, 247, 394, 485, 592, 63...</td>\n",
       "    </tr>\n",
       "    <tr>\n",
       "      <th>60</th>\n",
       "      <td>hsa-mir-200c</td>\n",
       "      <td>-0.000061</td>\n",
       "      <td>True</td>\n",
       "      <td>[23, 101, 110, 128, 136, 152, 243, 359, 437, 5...</td>\n",
       "    </tr>\n",
       "    <tr>\n",
       "      <th>124</th>\n",
       "      <td>hsa-mir-99b</td>\n",
       "      <td>-0.000056</td>\n",
       "      <td>False</td>\n",
       "      <td>[226, 831, 1989, 2880, 3235, 3489, 3614, 3785,...</td>\n",
       "    </tr>\n",
       "    <tr>\n",
       "      <th>90</th>\n",
       "      <td>hsa-mir-30e</td>\n",
       "      <td>0.000049</td>\n",
       "      <td>True</td>\n",
       "      <td>[79, 117, 136, 153, 233, 369, 401, 596, 606, 8...</td>\n",
       "    </tr>\n",
       "    <tr>\n",
       "      <th>89</th>\n",
       "      <td>hsa-mir-30d</td>\n",
       "      <td>0.000044</td>\n",
       "      <td>True</td>\n",
       "      <td>[35, 68, 79, 175, 192, 205, 233, 328, 346, 349...</td>\n",
       "    </tr>\n",
       "    <tr>\n",
       "      <th>1</th>\n",
       "      <td>hsa-let-7a-2</td>\n",
       "      <td>-0.000038</td>\n",
       "      <td>True</td>\n",
       "      <td>[]</td>\n",
       "    </tr>\n",
       "  </tbody>\n",
       "</table>\n",
       "</div>"
      ],
      "text/plain": [
       "<div>\n",
       "<table border=\"1\" class=\"dataframe\">\n",
       "  <thead>\n",
       "    <tr style=\"text-align: right;\">\n",
       "      <th></th>\n",
       "      <th>miRNA</th>\n",
       "      <th>coef</th>\n",
       "      <th>validated</th>\n",
       "      <th>groups</th>\n",
       "    </tr>\n",
       "  </thead>\n",
       "  <tbody>\n",
       "    <tr>\n",
       "      <th>67</th>\n",
       "      <td>hsa-mir-22</td>\n",
       "      <td>0.000199</td>\n",
       "      <td>True</td>\n",
       "      <td>[6, 165, 245, 312, 347, 362, 363, 427, 775, 95...</td>\n",
       "    </tr>\n",
       "    <tr>\n",
       "      <th>37</th>\n",
       "      <td>hsa-mir-148a</td>\n",
       "      <td>0.000191</td>\n",
       "      <td>True</td>\n",
       "      <td>[81, 317, 343, 429, 547, 852, 1019, 1107, 1234...</td>\n",
       "    </tr>\n",
       "    <tr>\n",
       "      <th>47</th>\n",
       "      <td>hsa-mir-182</td>\n",
       "      <td>0.000162</td>\n",
       "      <td>True</td>\n",
       "      <td>[78, 132, 164, 326, 363, 390, 423, 492, 516, 5...</td>\n",
       "    </tr>\n",
       "    <tr>\n",
       "      <th>85</th>\n",
       "      <td>hsa-mir-30a</td>\n",
       "      <td>-0.000150</td>\n",
       "      <td>True</td>\n",
       "      <td>[35, 134, 153, 205, 297, 331, 349, 400, 401, 4...</td>\n",
       "    </tr>\n",
       "    <tr>\n",
       "      <th>61</th>\n",
       "      <td>hsa-mir-203a</td>\n",
       "      <td>0.000117</td>\n",
       "      <td>False</td>\n",
       "      <td>[189, 405, 413, 486, 540, 598, 697, 956, 986, ...</td>\n",
       "    </tr>\n",
       "    <tr>\n",
       "      <th>2</th>\n",
       "      <td>hsa-let-7a-3</td>\n",
       "      <td>-0.000098</td>\n",
       "      <td>True</td>\n",
       "      <td>[]</td>\n",
       "    </tr>\n",
       "    <tr>\n",
       "      <th>0</th>\n",
       "      <td>hsa-let-7a-1</td>\n",
       "      <td>-0.000098</td>\n",
       "      <td>True</td>\n",
       "      <td>[]</td>\n",
       "    </tr>\n",
       "    <tr>\n",
       "      <th>84</th>\n",
       "      <td>hsa-mir-29c</td>\n",
       "      <td>0.000094</td>\n",
       "      <td>True</td>\n",
       "      <td>[18, 27, 59, 216, 218, 282, 314, 416, 467, 519...</td>\n",
       "    </tr>\n",
       "    <tr>\n",
       "      <th>81</th>\n",
       "      <td>hsa-mir-29a</td>\n",
       "      <td>0.000093</td>\n",
       "      <td>True</td>\n",
       "      <td>[59, 96, 216, 218, 260, 282, 290, 304, 393, 41...</td>\n",
       "    </tr>\n",
       "    <tr>\n",
       "      <th>8</th>\n",
       "      <td>hsa-let-7f-2</td>\n",
       "      <td>-0.000087</td>\n",
       "      <td>True</td>\n",
       "      <td>[]</td>\n",
       "    </tr>\n",
       "    <tr>\n",
       "      <th>7</th>\n",
       "      <td>hsa-let-7f-1</td>\n",
       "      <td>-0.000087</td>\n",
       "      <td>True</td>\n",
       "      <td>[]</td>\n",
       "    </tr>\n",
       "    <tr>\n",
       "      <th>14</th>\n",
       "      <td>hsa-mir-103a-1</td>\n",
       "      <td>-0.000083</td>\n",
       "      <td>True</td>\n",
       "      <td>[]</td>\n",
       "    </tr>\n",
       "    <tr>\n",
       "      <th>15</th>\n",
       "      <td>hsa-mir-103a-2</td>\n",
       "      <td>-0.000082</td>\n",
       "      <td>True</td>\n",
       "      <td>[]</td>\n",
       "    </tr>\n",
       "    <tr>\n",
       "      <th>48</th>\n",
       "      <td>hsa-mir-183</td>\n",
       "      <td>0.000080</td>\n",
       "      <td>True</td>\n",
       "      <td>[3, 11, 25, 36, 157, 325, 348, 398, 450, 468, ...</td>\n",
       "    </tr>\n",
       "    <tr>\n",
       "      <th>3</th>\n",
       "      <td>hsa-let-7b</td>\n",
       "      <td>0.000073</td>\n",
       "      <td>True</td>\n",
       "      <td>[30, 86, 129, 144, 232, 247, 394, 485, 592, 63...</td>\n",
       "    </tr>\n",
       "    <tr>\n",
       "      <th>60</th>\n",
       "      <td>hsa-mir-200c</td>\n",
       "      <td>-0.000061</td>\n",
       "      <td>True</td>\n",
       "      <td>[23, 101, 110, 128, 136, 152, 243, 359, 437, 5...</td>\n",
       "    </tr>\n",
       "    <tr>\n",
       "      <th>124</th>\n",
       "      <td>hsa-mir-99b</td>\n",
       "      <td>-0.000056</td>\n",
       "      <td>False</td>\n",
       "      <td>[226, 831, 1989, 2880, 3235, 3489, 3614, 3785,...</td>\n",
       "    </tr>\n",
       "    <tr>\n",
       "      <th>90</th>\n",
       "      <td>hsa-mir-30e</td>\n",
       "      <td>0.000049</td>\n",
       "      <td>True</td>\n",
       "      <td>[79, 117, 136, 153, 233, 369, 401, 596, 606, 8...</td>\n",
       "    </tr>\n",
       "    <tr>\n",
       "      <th>89</th>\n",
       "      <td>hsa-mir-30d</td>\n",
       "      <td>0.000044</td>\n",
       "      <td>True</td>\n",
       "      <td>[35, 68, 79, 175, 192, 205, 233, 328, 346, 349...</td>\n",
       "    </tr>\n",
       "    <tr>\n",
       "      <th>1</th>\n",
       "      <td>hsa-let-7a-2</td>\n",
       "      <td>-0.000038</td>\n",
       "      <td>True</td>\n",
       "      <td>[]</td>\n",
       "    </tr>\n",
       "  </tbody>\n",
       "</table>\n",
       "</div>"
      ]
     },
     "execution_count": 180,
     "metadata": {},
     "output_type": "execute_result"
    }
   ],
   "source": [
    "candidate_miRNAs = sparse_group_l2.get_selected_miRNAs(mirna_list)\n",
    "candidate_miRNAs['validated'] = candidate_miRNAs.apply(lambda row: row['miRNA'] in HMDD_lung_neoplasm_miRNAs, axis=1)\n",
    "candidate_miRNAs['groups'] = candidate_miRNAs.apply(lambda row: network.find_miRNA_groups(row['miRNA']), axis=1)\n",
    "candidate_miRNAs.head(20)"
   ]
  },
  {
   "cell_type": "code",
   "execution_count": 171,
   "metadata": {},
   "outputs": [
    {
     "name": "stderr",
     "output_type": "stream",
     "text": [
      "/opt/anaconda/lib/python2.7/site-packages/ipykernel/__main__.py:5: FutureWarning: sort is deprecated, use sort_values(inplace=True) for INPLACE sorting\n"
     ]
    },
    {
     "data": {
      "text/html": [
       "<div>\n",
       "<table border=\"1\" class=\"dataframe\">\n",
       "  <thead>\n",
       "    <tr style=\"text-align: right;\">\n",
       "      <th></th>\n",
       "      <th>miRNA</th>\n",
       "      <th>coef</th>\n",
       "      <th>validated</th>\n",
       "      <th>groups</th>\n",
       "    </tr>\n",
       "  </thead>\n",
       "  <tbody>\n",
       "    <tr>\n",
       "      <th>74</th>\n",
       "      <td>hsa-mir-148a</td>\n",
       "      <td>0.000232</td>\n",
       "      <td>True</td>\n",
       "      <td>[81, 317, 343, 429, 547, 852, 1019, 1107, 1234...</td>\n",
       "    </tr>\n",
       "    <tr>\n",
       "      <th>95</th>\n",
       "      <td>hsa-mir-182</td>\n",
       "      <td>0.000193</td>\n",
       "      <td>True</td>\n",
       "      <td>[78, 132, 164, 326, 363, 390, 423, 492, 516, 5...</td>\n",
       "    </tr>\n",
       "    <tr>\n",
       "      <th>145</th>\n",
       "      <td>hsa-mir-22</td>\n",
       "      <td>0.000162</td>\n",
       "      <td>True</td>\n",
       "      <td>[6, 165, 245, 312, 347, 362, 363, 427, 775, 95...</td>\n",
       "    </tr>\n",
       "    <tr>\n",
       "      <th>171</th>\n",
       "      <td>hsa-mir-30a</td>\n",
       "      <td>-0.000123</td>\n",
       "      <td>True</td>\n",
       "      <td>[35, 134, 153, 205, 297, 331, 349, 400, 401, 4...</td>\n",
       "    </tr>\n",
       "    <tr>\n",
       "      <th>21</th>\n",
       "      <td>hsa-mir-10a</td>\n",
       "      <td>0.000096</td>\n",
       "      <td>False</td>\n",
       "      <td>[63, 771, 926, 929, 1131, 1498, 1519, 1553, 15...</td>\n",
       "    </tr>\n",
       "    <tr>\n",
       "      <th>0</th>\n",
       "      <td>hsa-let-7a-1</td>\n",
       "      <td>-0.000085</td>\n",
       "      <td>True</td>\n",
       "      <td>[]</td>\n",
       "    </tr>\n",
       "    <tr>\n",
       "      <th>2</th>\n",
       "      <td>hsa-let-7a-3</td>\n",
       "      <td>-0.000085</td>\n",
       "      <td>True</td>\n",
       "      <td>[]</td>\n",
       "    </tr>\n",
       "    <tr>\n",
       "      <th>8</th>\n",
       "      <td>hsa-let-7f-2</td>\n",
       "      <td>-0.000081</td>\n",
       "      <td>True</td>\n",
       "      <td>[]</td>\n",
       "    </tr>\n",
       "    <tr>\n",
       "      <th>7</th>\n",
       "      <td>hsa-let-7f-1</td>\n",
       "      <td>-0.000080</td>\n",
       "      <td>True</td>\n",
       "      <td>[]</td>\n",
       "    </tr>\n",
       "    <tr>\n",
       "      <th>127</th>\n",
       "      <td>hsa-mir-203a</td>\n",
       "      <td>0.000079</td>\n",
       "      <td>False</td>\n",
       "      <td>[189, 405, 413, 486, 540, 598, 697, 956, 986, ...</td>\n",
       "    </tr>\n",
       "    <tr>\n",
       "      <th>96</th>\n",
       "      <td>hsa-mir-183</td>\n",
       "      <td>0.000079</td>\n",
       "      <td>True</td>\n",
       "      <td>[3, 11, 25, 36, 157, 325, 348, 398, 450, 468, ...</td>\n",
       "    </tr>\n",
       "    <tr>\n",
       "      <th>107</th>\n",
       "      <td>hsa-mir-192</td>\n",
       "      <td>0.000078</td>\n",
       "      <td>True</td>\n",
       "      <td>[419, 646, 667, 814, 1471, 1785, 1837, 1857, 2...</td>\n",
       "    </tr>\n",
       "    <tr>\n",
       "      <th>176</th>\n",
       "      <td>hsa-mir-30e</td>\n",
       "      <td>0.000066</td>\n",
       "      <td>True</td>\n",
       "      <td>[79, 117, 136, 153, 233, 369, 401, 596, 606, 8...</td>\n",
       "    </tr>\n",
       "    <tr>\n",
       "      <th>167</th>\n",
       "      <td>hsa-mir-29c</td>\n",
       "      <td>0.000065</td>\n",
       "      <td>True</td>\n",
       "      <td>[18, 27, 59, 216, 218, 282, 314, 416, 467, 519...</td>\n",
       "    </tr>\n",
       "    <tr>\n",
       "      <th>164</th>\n",
       "      <td>hsa-mir-29a</td>\n",
       "      <td>0.000058</td>\n",
       "      <td>True</td>\n",
       "      <td>[59, 96, 216, 218, 260, 282, 290, 304, 393, 41...</td>\n",
       "    </tr>\n",
       "    <tr>\n",
       "      <th>14</th>\n",
       "      <td>hsa-mir-103a-1</td>\n",
       "      <td>-0.000054</td>\n",
       "      <td>True</td>\n",
       "      <td>[]</td>\n",
       "    </tr>\n",
       "    <tr>\n",
       "      <th>15</th>\n",
       "      <td>hsa-mir-103a-2</td>\n",
       "      <td>-0.000053</td>\n",
       "      <td>True</td>\n",
       "      <td>[]</td>\n",
       "    </tr>\n",
       "    <tr>\n",
       "      <th>120</th>\n",
       "      <td>hsa-mir-199b</td>\n",
       "      <td>0.000044</td>\n",
       "      <td>True</td>\n",
       "      <td>[124, 265, 314, 326, 357, 370, 430, 525, 550, ...</td>\n",
       "    </tr>\n",
       "    <tr>\n",
       "      <th>3</th>\n",
       "      <td>hsa-let-7b</td>\n",
       "      <td>0.000043</td>\n",
       "      <td>True</td>\n",
       "      <td>[30, 86, 129, 144, 232, 247, 394, 485, 592, 63...</td>\n",
       "    </tr>\n",
       "    <tr>\n",
       "      <th>78</th>\n",
       "      <td>hsa-mir-151a</td>\n",
       "      <td>0.000040</td>\n",
       "      <td>False</td>\n",
       "      <td>[366, 1056, 1422, 1829, 4254, 4306, 4389, 4445...</td>\n",
       "    </tr>\n",
       "  </tbody>\n",
       "</table>\n",
       "</div>"
      ],
      "text/plain": [
       "<div>\n",
       "<table border=\"1\" class=\"dataframe\">\n",
       "  <thead>\n",
       "    <tr style=\"text-align: right;\">\n",
       "      <th></th>\n",
       "      <th>miRNA</th>\n",
       "      <th>coef</th>\n",
       "      <th>validated</th>\n",
       "      <th>groups</th>\n",
       "    </tr>\n",
       "  </thead>\n",
       "  <tbody>\n",
       "    <tr>\n",
       "      <th>74</th>\n",
       "      <td>hsa-mir-148a</td>\n",
       "      <td>0.000232</td>\n",
       "      <td>True</td>\n",
       "      <td>[81, 317, 343, 429, 547, 852, 1019, 1107, 1234...</td>\n",
       "    </tr>\n",
       "    <tr>\n",
       "      <th>95</th>\n",
       "      <td>hsa-mir-182</td>\n",
       "      <td>0.000193</td>\n",
       "      <td>True</td>\n",
       "      <td>[78, 132, 164, 326, 363, 390, 423, 492, 516, 5...</td>\n",
       "    </tr>\n",
       "    <tr>\n",
       "      <th>145</th>\n",
       "      <td>hsa-mir-22</td>\n",
       "      <td>0.000162</td>\n",
       "      <td>True</td>\n",
       "      <td>[6, 165, 245, 312, 347, 362, 363, 427, 775, 95...</td>\n",
       "    </tr>\n",
       "    <tr>\n",
       "      <th>171</th>\n",
       "      <td>hsa-mir-30a</td>\n",
       "      <td>-0.000123</td>\n",
       "      <td>True</td>\n",
       "      <td>[35, 134, 153, 205, 297, 331, 349, 400, 401, 4...</td>\n",
       "    </tr>\n",
       "    <tr>\n",
       "      <th>21</th>\n",
       "      <td>hsa-mir-10a</td>\n",
       "      <td>0.000096</td>\n",
       "      <td>False</td>\n",
       "      <td>[63, 771, 926, 929, 1131, 1498, 1519, 1553, 15...</td>\n",
       "    </tr>\n",
       "    <tr>\n",
       "      <th>0</th>\n",
       "      <td>hsa-let-7a-1</td>\n",
       "      <td>-0.000085</td>\n",
       "      <td>True</td>\n",
       "      <td>[]</td>\n",
       "    </tr>\n",
       "    <tr>\n",
       "      <th>2</th>\n",
       "      <td>hsa-let-7a-3</td>\n",
       "      <td>-0.000085</td>\n",
       "      <td>True</td>\n",
       "      <td>[]</td>\n",
       "    </tr>\n",
       "    <tr>\n",
       "      <th>8</th>\n",
       "      <td>hsa-let-7f-2</td>\n",
       "      <td>-0.000081</td>\n",
       "      <td>True</td>\n",
       "      <td>[]</td>\n",
       "    </tr>\n",
       "    <tr>\n",
       "      <th>7</th>\n",
       "      <td>hsa-let-7f-1</td>\n",
       "      <td>-0.000080</td>\n",
       "      <td>True</td>\n",
       "      <td>[]</td>\n",
       "    </tr>\n",
       "    <tr>\n",
       "      <th>127</th>\n",
       "      <td>hsa-mir-203a</td>\n",
       "      <td>0.000079</td>\n",
       "      <td>False</td>\n",
       "      <td>[189, 405, 413, 486, 540, 598, 697, 956, 986, ...</td>\n",
       "    </tr>\n",
       "    <tr>\n",
       "      <th>96</th>\n",
       "      <td>hsa-mir-183</td>\n",
       "      <td>0.000079</td>\n",
       "      <td>True</td>\n",
       "      <td>[3, 11, 25, 36, 157, 325, 348, 398, 450, 468, ...</td>\n",
       "    </tr>\n",
       "    <tr>\n",
       "      <th>107</th>\n",
       "      <td>hsa-mir-192</td>\n",
       "      <td>0.000078</td>\n",
       "      <td>True</td>\n",
       "      <td>[419, 646, 667, 814, 1471, 1785, 1837, 1857, 2...</td>\n",
       "    </tr>\n",
       "    <tr>\n",
       "      <th>176</th>\n",
       "      <td>hsa-mir-30e</td>\n",
       "      <td>0.000066</td>\n",
       "      <td>True</td>\n",
       "      <td>[79, 117, 136, 153, 233, 369, 401, 596, 606, 8...</td>\n",
       "    </tr>\n",
       "    <tr>\n",
       "      <th>167</th>\n",
       "      <td>hsa-mir-29c</td>\n",
       "      <td>0.000065</td>\n",
       "      <td>True</td>\n",
       "      <td>[18, 27, 59, 216, 218, 282, 314, 416, 467, 519...</td>\n",
       "    </tr>\n",
       "    <tr>\n",
       "      <th>164</th>\n",
       "      <td>hsa-mir-29a</td>\n",
       "      <td>0.000058</td>\n",
       "      <td>True</td>\n",
       "      <td>[59, 96, 216, 218, 260, 282, 290, 304, 393, 41...</td>\n",
       "    </tr>\n",
       "    <tr>\n",
       "      <th>14</th>\n",
       "      <td>hsa-mir-103a-1</td>\n",
       "      <td>-0.000054</td>\n",
       "      <td>True</td>\n",
       "      <td>[]</td>\n",
       "    </tr>\n",
       "    <tr>\n",
       "      <th>15</th>\n",
       "      <td>hsa-mir-103a-2</td>\n",
       "      <td>-0.000053</td>\n",
       "      <td>True</td>\n",
       "      <td>[]</td>\n",
       "    </tr>\n",
       "    <tr>\n",
       "      <th>120</th>\n",
       "      <td>hsa-mir-199b</td>\n",
       "      <td>0.000044</td>\n",
       "      <td>True</td>\n",
       "      <td>[124, 265, 314, 326, 357, 370, 430, 525, 550, ...</td>\n",
       "    </tr>\n",
       "    <tr>\n",
       "      <th>3</th>\n",
       "      <td>hsa-let-7b</td>\n",
       "      <td>0.000043</td>\n",
       "      <td>True</td>\n",
       "      <td>[30, 86, 129, 144, 232, 247, 394, 485, 592, 63...</td>\n",
       "    </tr>\n",
       "    <tr>\n",
       "      <th>78</th>\n",
       "      <td>hsa-mir-151a</td>\n",
       "      <td>0.000040</td>\n",
       "      <td>False</td>\n",
       "      <td>[366, 1056, 1422, 1829, 4254, 4306, 4389, 4445...</td>\n",
       "    </tr>\n",
       "  </tbody>\n",
       "</table>\n",
       "</div>"
      ]
     },
     "execution_count": 171,
     "metadata": {},
     "output_type": "execute_result"
    }
   ],
   "source": [
    "candidate_miRNAs = pandas.DataFrame([(mirna_list[m], logistic_L1L2GL.beta[m][0]) for m in logistic_L1L2GL.beta.nonzero()[0]])\n",
    "candidate_miRNAs.columns = ['miRNA', 'coef']\n",
    "candidate_miRNAs['validated'] = candidate_miRNAs.apply(lambda row: row['miRNA'] in HMDD_lung_neoplasm_miRNAs, axis=1)\n",
    "candidate_miRNAs['groups'] = candidate_miRNAs.apply(lambda row: network.find_miRNA_groups(row['miRNA']), axis=1)\n",
    "candidate_miRNAs.reindex(candidate_miRNAs.coef.abs().sort(inplace=False, ascending=False).index).head(20)"
   ]
  },
  {
   "cell_type": "markdown",
   "metadata": {},
   "source": [
    "## Validate miRNA-target edges"
   ]
  },
  {
   "cell_type": "code",
   "execution_count": 54,
   "metadata": {
    "collapsed": true
   },
   "outputs": [
    {
     "name": "stdout",
     "output_type": "stream",
     "text": [
      "ITGA4 hsa-mir-301b\n"
     ]
    },
    {
     "ename": "NameError",
     "evalue": "name 'miRecords_df' is not defined",
     "traceback": [
      "\u001b[0;31m\u001b[0m",
      "\u001b[0;31mNameError\u001b[0mTraceback (most recent call last)",
      "\u001b[0;32m<ipython-input-54-73141c8de670>\u001b[0m in \u001b[0;36m<module>\u001b[0;34m()\u001b[0m\n\u001b[1;32m      8\u001b[0m     \u001b[0;32melse\u001b[0m\u001b[0;34m:\u001b[0m\u001b[0;34m\u001b[0m\u001b[0m\n\u001b[1;32m      9\u001b[0m         validated_edges = pandas.concat([validated_edges,\n\u001b[0;32m---> 10\u001b[0;31m                                          miRecords_df[(miRecords_df[\"miRNA_mature_ID\"] == v2) &\n\u001b[0m\u001b[1;32m     11\u001b[0m                                                       (miRecords_df[\"Target gene_name\"] == v1)]])\n\u001b[1;32m     12\u001b[0m \u001b[0;34m\u001b[0m\u001b[0m\n",
      "\u001b[0;31mNameError\u001b[0m: name 'miRecords_df' is not defined"
     ],
     "output_type": "error"
    }
   ],
   "source": [
    "validated_edges = pandas.DataFrame()\n",
    "for (v1, v2) in edges:\n",
    "    print v1, v2\n",
    "    if network.B.node[v1]['bipartite'] == 0:  # if v1 is miRNA\n",
    "        validated_edges = pandas.concat([validated_edges,\n",
    "                                         miRecords_df[(miRecords_df[\"miRNA_mature_ID\"] == v1) &\n",
    "                                                      (miRecords_df[\"Target gene_name\"] == v2)]])\n",
    "    else:\n",
    "        validated_edges = pandas.concat([validated_edges,\n",
    "                                         miRecords_df[(miRecords_df[\"miRNA_mature_ID\"] == v2) &\n",
    "                                                      (miRecords_df[\"Target gene_name\"] == v1)]])\n",
    "\n",
    "print float(len(validated_edges))/float(len(edges))"
   ]
  },
  {
   "cell_type": "code",
   "execution_count": null,
   "metadata": {
    "collapsed": true
   },
   "outputs": [
    {
     "data": {
      "image/png": "[encoded data removed]",
      "text/plain": [
       "<matplotlib.figure.Figure at 0x7fba80320290>"
      ]
     },
     "metadata": {},
     "output_type": "display_data"
    }
   ],
   "source": [
    "# plt.hist(miRNAs_nodes_degrees[1].values())\n",
    "plt.hist(targets_nodes_degrees[0].values(), bins=30)\n",
    "plt.ylabel('counts of nodes')\n",
    "plt.xlabel('number of degrees')\n",
    "plt.show()"
   ]
  },
  {
   "cell_type": "code",
   "execution_count": null,
   "metadata": {
    "collapsed": true
   },
   "outputs": [],
   "source": [
    ""
   ]
  },
  {
   "cell_type": "code",
   "execution_count": null,
   "metadata": {
    "collapsed": false
   },
   "outputs": [],
   "source": [
    ""
   ]
  },
  {
   "cell_type": "code",
   "execution_count": null,
   "metadata": {},
   "outputs": [],
   "source": [
    ""
   ]
  }
 ],
 "metadata": {
  "kernelspec": {
   "display_name": "Python 2",
   "language": "python",
   "name": "python2"
  },
  "language_info": {
   "codemirror_mode": {
    "name": "ipython",
    "version": 2.0
   },
   "file_extension": ".py",
   "mimetype": "text/x-python",
   "name": "python",
   "nbconvert_exporter": "python",
   "pygments_lexer": "ipython2",
   "version": "2.7.6"
  }
 },
 "nbformat": 4,
 "nbformat_minor": 0
}