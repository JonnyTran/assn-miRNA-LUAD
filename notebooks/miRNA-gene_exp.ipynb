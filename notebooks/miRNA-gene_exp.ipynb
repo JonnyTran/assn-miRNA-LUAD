{
 "cells": [
  {
   "cell_type": "markdown",
   "metadata": {
    "collapsed": true
   },
   "source": [
    "## Finding differentialy expressed miRNA's between LUAD stages I, II, III, IV vs normal using Logit regression\n",
    "### Utilize Group Lasso with MISIM miRNA similarity data"
   ]
  },
  {
   "cell_type": "code",
   "execution_count": 53,
   "metadata": {},
   "outputs": [
    {
     "name": "stdout",
     "output_type": "stream",
     "text": [
      "The autoreload extension is already loaded. To reload it, use:\n  %reload_ext autoreload\n"
     ]
    }
   ],
   "source": [
    "# Necessary imports\n",
    "%load_ext autoreload\n",
    "%autoreload 2\\\n",
    "    \n",
    "import os\n",
    "import pandas\n",
    "import numpy as np\n",
    "import matplotlib.pyplot as plt\n",
    "\n",
    "from definitions import ROOT_DIR"
   ]
  },
  {
   "cell_type": "code",
   "execution_count": 51,
   "metadata": {},
   "outputs": [
    {
     "name": "stdout",
     "output_type": "stream",
     "text": [
      "mirna_tumor (506, 1883)\nmirna_normal (46, 1883)\ngene_tumor (515, 20486)\ngene_normal (59, 20486)\n"
     ]
    }
   ],
   "source": [
    "from src.data.make_dataset import TCGA_LUAD\n",
    "tgca_luad = TCGA_LUAD()"
   ]
  },
  {
   "cell_type": "markdown",
   "metadata": {},
   "source": [
    "## Univariate feature selection via FDR"
   ]
  },
  {
   "cell_type": "code",
   "execution_count": 150,
   "metadata": {
    "collapsed": true
   },
   "outputs": [
    {
     "ename": "ValueError",
     "evalue": "could not convert string to float: TCGA-91-6849",
     "traceback": [
      "\u001b[0;31m\u001b[0m",
      "\u001b[0;31mValueError\u001b[0mTraceback (most recent call last)",
      "\u001b[0;32m<ipython-input-150-27301e62954b>\u001b[0m in \u001b[0;36m<module>\u001b[0;34m()\u001b[0m\n\u001b[1;32m      7\u001b[0m \u001b[0;34m\u001b[0m\u001b[0m\n\u001b[1;32m      8\u001b[0m \u001b[0mgene_exp_filter\u001b[0m \u001b[0;34m=\u001b[0m \u001b[0mSelectFdr\u001b[0m\u001b[0;34m(\u001b[0m\u001b[0mf_classif\u001b[0m\u001b[0;34m,\u001b[0m \u001b[0malpha\u001b[0m\u001b[0;34m=\u001b[0m\u001b[0;36m0.01\u001b[0m\u001b[0;34m)\u001b[0m\u001b[0;34m\u001b[0m\u001b[0m\n\u001b[0;32m----> 9\u001b[0;31m \u001b[0mgen_exp_new\u001b[0m \u001b[0;34m=\u001b[0m \u001b[0mgene_exp_filter\u001b[0m\u001b[0;34m.\u001b[0m\u001b[0mfit_transform\u001b[0m\u001b[0;34m(\u001b[0m\u001b[0mX\u001b[0m\u001b[0;34m=\u001b[0m\u001b[0mpandas\u001b[0m\u001b[0;34m.\u001b[0m\u001b[0mconcat\u001b[0m\u001b[0;34m(\u001b[0m\u001b[0;34m[\u001b[0m\u001b[0mgene_exp_tumor\u001b[0m\u001b[0;34m,\u001b[0m \u001b[0mgene_exp_normal\u001b[0m\u001b[0;34m]\u001b[0m\u001b[0;34m)\u001b[0m\u001b[0;34m,\u001b[0m \u001b[0my\u001b[0m\u001b[0;34m=\u001b[0m\u001b[0mY\u001b[0m\u001b[0;34m)\u001b[0m\u001b[0;34m\u001b[0m\u001b[0m\n\u001b[0m\u001b[1;32m     10\u001b[0m \u001b[0;34m\u001b[0m\u001b[0m\n\u001b[1;32m     11\u001b[0m \u001b[0;32mprint\u001b[0m \u001b[0mmirna_new\u001b[0m\u001b[0;34m.\u001b[0m\u001b[0mshape\u001b[0m\u001b[0;34m\u001b[0m\u001b[0m\n",
      "\u001b[0;32m/opt/anaconda/lib/python2.7/site-packages/sklearn/base.pyc\u001b[0m in \u001b[0;36mfit_transform\u001b[0;34m(self, X, y, **fit_params)\u001b[0m\n\u001b[1;32m    495\u001b[0m         \u001b[0;32melse\u001b[0m\u001b[0;34m:\u001b[0m\u001b[0;34m\u001b[0m\u001b[0m\n\u001b[1;32m    496\u001b[0m             \u001b[0;31m# fit method of arity 2 (supervised transformation)\u001b[0m\u001b[0;34m\u001b[0m\u001b[0;34m\u001b[0m\u001b[0m\n\u001b[0;32m--> 497\u001b[0;31m             \u001b[0;32mreturn\u001b[0m \u001b[0mself\u001b[0m\u001b[0;34m.\u001b[0m\u001b[0mfit\u001b[0m\u001b[0;34m(\u001b[0m\u001b[0mX\u001b[0m\u001b[0;34m,\u001b[0m \u001b[0my\u001b[0m\u001b[0;34m,\u001b[0m \u001b[0;34m**\u001b[0m\u001b[0mfit_params\u001b[0m\u001b[0;34m)\u001b[0m\u001b[0;34m.\u001b[0m\u001b[0mtransform\u001b[0m\u001b[0;34m(\u001b[0m\u001b[0mX\u001b[0m\u001b[0;34m)\u001b[0m\u001b[0;34m\u001b[0m\u001b[0m\n\u001b[0m\u001b[1;32m    498\u001b[0m \u001b[0;34m\u001b[0m\u001b[0m\n\u001b[1;32m    499\u001b[0m \u001b[0;34m\u001b[0m\u001b[0m\n",
      "\u001b[0;32m/opt/anaconda/lib/python2.7/site-packages/sklearn/feature_selection/univariate_selection.pyc\u001b[0m in \u001b[0;36mfit\u001b[0;34m(self, X, y)\u001b[0m\n\u001b[1;32m    320\u001b[0m             \u001b[0mReturns\u001b[0m \u001b[0mself\u001b[0m\u001b[0;34m.\u001b[0m\u001b[0;34m\u001b[0m\u001b[0m\n\u001b[1;32m    321\u001b[0m         \"\"\"\n\u001b[0;32m--> 322\u001b[0;31m         \u001b[0mX\u001b[0m\u001b[0;34m,\u001b[0m \u001b[0my\u001b[0m \u001b[0;34m=\u001b[0m \u001b[0mcheck_X_y\u001b[0m\u001b[0;34m(\u001b[0m\u001b[0mX\u001b[0m\u001b[0;34m,\u001b[0m \u001b[0my\u001b[0m\u001b[0;34m,\u001b[0m \u001b[0;34m[\u001b[0m\u001b[0;34m'csr'\u001b[0m\u001b[0;34m,\u001b[0m \u001b[0;34m'csc'\u001b[0m\u001b[0;34m]\u001b[0m\u001b[0;34m)\u001b[0m\u001b[0;34m\u001b[0m\u001b[0m\n\u001b[0m\u001b[1;32m    323\u001b[0m \u001b[0;34m\u001b[0m\u001b[0m\n\u001b[1;32m    324\u001b[0m         \u001b[0;32mif\u001b[0m \u001b[0;32mnot\u001b[0m \u001b[0mcallable\u001b[0m\u001b[0;34m(\u001b[0m\u001b[0mself\u001b[0m\u001b[0;34m.\u001b[0m\u001b[0mscore_func\u001b[0m\u001b[0;34m)\u001b[0m\u001b[0;34m:\u001b[0m\u001b[0;34m\u001b[0m\u001b[0m\n",
      "\u001b[0;32m/opt/anaconda/lib/python2.7/site-packages/sklearn/utils/validation.pyc\u001b[0m in \u001b[0;36mcheck_X_y\u001b[0;34m(X, y, accept_sparse, dtype, order, copy, force_all_finite, ensure_2d, allow_nd, multi_output, ensure_min_samples, ensure_min_features, y_numeric, warn_on_dtype, estimator)\u001b[0m\n\u001b[1;32m    519\u001b[0m     X = check_array(X, accept_sparse, dtype, order, copy, force_all_finite,\n\u001b[1;32m    520\u001b[0m                     \u001b[0mensure_2d\u001b[0m\u001b[0;34m,\u001b[0m \u001b[0mallow_nd\u001b[0m\u001b[0;34m,\u001b[0m \u001b[0mensure_min_samples\u001b[0m\u001b[0;34m,\u001b[0m\u001b[0;34m\u001b[0m\u001b[0m\n\u001b[0;32m--> 521\u001b[0;31m                     ensure_min_features, warn_on_dtype, estimator)\n\u001b[0m\u001b[1;32m    522\u001b[0m     \u001b[0;32mif\u001b[0m \u001b[0mmulti_output\u001b[0m\u001b[0;34m:\u001b[0m\u001b[0;34m\u001b[0m\u001b[0m\n\u001b[1;32m    523\u001b[0m         y = check_array(y, 'csr', force_all_finite=True, ensure_2d=False,\n",
      "\u001b[0;32m/opt/anaconda/lib/python2.7/site-packages/sklearn/utils/validation.pyc\u001b[0m in \u001b[0;36mcheck_array\u001b[0;34m(array, accept_sparse, dtype, order, copy, force_all_finite, ensure_2d, allow_nd, ensure_min_samples, ensure_min_features, warn_on_dtype, estimator)\u001b[0m\n\u001b[1;32m    400\u001b[0m         \u001b[0;31m# make sure we actually converted to numeric:\u001b[0m\u001b[0;34m\u001b[0m\u001b[0;34m\u001b[0m\u001b[0m\n\u001b[1;32m    401\u001b[0m         \u001b[0;32mif\u001b[0m \u001b[0mdtype_numeric\u001b[0m \u001b[0;32mand\u001b[0m \u001b[0marray\u001b[0m\u001b[0;34m.\u001b[0m\u001b[0mdtype\u001b[0m\u001b[0;34m.\u001b[0m\u001b[0mkind\u001b[0m \u001b[0;34m==\u001b[0m \u001b[0;34m\"O\"\u001b[0m\u001b[0;34m:\u001b[0m\u001b[0;34m\u001b[0m\u001b[0m\n\u001b[0;32m--> 402\u001b[0;31m             \u001b[0marray\u001b[0m \u001b[0;34m=\u001b[0m \u001b[0marray\u001b[0m\u001b[0;34m.\u001b[0m\u001b[0mastype\u001b[0m\u001b[0;34m(\u001b[0m\u001b[0mnp\u001b[0m\u001b[0;34m.\u001b[0m\u001b[0mfloat64\u001b[0m\u001b[0;34m)\u001b[0m\u001b[0;34m\u001b[0m\u001b[0m\n\u001b[0m\u001b[1;32m    403\u001b[0m         \u001b[0;32mif\u001b[0m \u001b[0;32mnot\u001b[0m \u001b[0mallow_nd\u001b[0m \u001b[0;32mand\u001b[0m \u001b[0marray\u001b[0m\u001b[0;34m.\u001b[0m\u001b[0mndim\u001b[0m \u001b[0;34m>=\u001b[0m \u001b[0;36m3\u001b[0m\u001b[0;34m:\u001b[0m\u001b[0;34m\u001b[0m\u001b[0m\n\u001b[1;32m    404\u001b[0m             raise ValueError(\"Found array with dim %d. %s expected <= 2.\"\n",
      "\u001b[0;31mValueError\u001b[0m: could not convert string to float: TCGA-91-6849"
     ],
     "output_type": "error"
    }
   ],
   "source": [
    "from sklearn.feature_selection import SelectFdr, f_classif\n",
    "\n",
    "# Select the p-values for an estimated false discovery rate\n",
    "# FDR \n",
    "# mirna_filter = SelectFdr(f_classif, alpha=0.01)\n",
    "# mirna_new = mirna_filter.fit_transform(X=pandas.concat([mirna_tumor, mirna_normal]), y=Y)\n",
    "\n",
    "gene_exp_filter = SelectFdr(f_classif, alpha=0.01)\n",
    "gen_exp_new = gene_exp_filter.fit_transform(X=pandas.concat([gene_exp_tumor, gene_exp_normal]), y=Y)\n",
    "\n",
    "print mirna_new.shape\n",
    "print gen_exp_new.shape\n",
    "# mirna_tumor = mirna_tumor[mirna_tumor.columns[mirna_filter.get_support(indices=True)]]\n",
    "# mirna_normal = mirna_normal[mirna_normal.columns[mirna_filter.get_support(indices=True)]]\n",
    "gene_exp_tumor = gene_exp_tumor[gene_exp_tumor.columns[gene_exp_filter.get_support(indices=True)]]\n",
    "gene_exp_normal = gene_exp_normal[gene_exp_normal.columns[gene_exp_filter.get_support(indices=True)]]"
   ]
  },
  {
   "cell_type": "code",
   "execution_count": 52,
   "metadata": {},
   "outputs": [],
   "source": [
    ""
   ]
  },
  {
   "cell_type": "markdown",
   "metadata": {},
   "source": [
    "## Loading TargetScan database for predicted miRNA-targets interactions"
   ]
  },
  {
   "cell_type": "code",
   "execution_count": 54,
   "metadata": {},
   "outputs": [
    {
     "name": "stdout",
     "output_type": "stream",
     "text": [
      "(185330, 2)\n"
     ]
    }
   ],
   "source": [
    "# Load data frame from file\n",
    "targetScan_df = pandas.read_table(os.path.join(ROOT_DIR, 'data/external/TargetScan_Predicted_Targets_Info_default_predictions.tsv'), delimiter='\\t')\n",
    "targetScan_family_df = pandas.read_table(os.path.join(ROOT_DIR, 'data/external/TargetScan_miR_Family_Info.txt'), delimiter='\\t')\n",
    "\n",
    "# Select only homo sapiens miRNA-target pairs\n",
    "targetScan_df = targetScan_df[targetScan_df[\"Species ID\"] == 9606][[\"miR Family\", \"Gene Symbol\"]]\n",
    "targetScan_family_df = targetScan_family_df[targetScan_family_df['Species ID'] == 9606][['miR family', 'MiRBase ID']]\n",
    "\n",
    "# Use miRBase ID names\n",
    "targetScan_family_df.rename(columns={'miR family': 'miR Family'}, inplace=True)\n",
    "targetScan_df = pandas.merge(targetScan_df, targetScan_family_df, how='inner', on=\"miR Family\")\n",
    "targetScan_df = targetScan_df[[\"MiRBase ID\", \"Gene Symbol\"]]\n",
    "\n",
    "# Standardize miRNA names\n",
    "targetScan_df['MiRBase ID'] = targetScan_df['MiRBase ID'].str.lower()\n",
    "targetScan_df['MiRBase ID'] = targetScan_df['MiRBase ID'].str.replace(\"-3p.*|-5p.*\", \"\")\n",
    "targetScan_df.drop_duplicates(inplace=True)\n",
    "\n",
    "# Filter miRNA-target pairs to only miRNA's included in miRNA expression data, same for gene targets\n",
    "targetScan_df = targetScan_df[targetScan_df['MiRBase ID'].isin(tgca_luad.mirna_list) & targetScan_df['Gene Symbol'].isin(tgca_luad.gene_symbols)]\n",
    "print targetScan_df.shape"
   ]
  },
  {
   "cell_type": "markdown",
   "metadata": {},
   "source": [
    "## Build miRNA-target relationship network to from putative predicted miRNA-target pairs\n",
    "## Assign miRNA's to groups from the miRNA-target bipartite graph obtained above\n",
    "The assumption used is that two miRNA's are in the same group, if they share the same target\n",
    "If a miRNA has overlapping groups, \"larger_groups_first\" param decides whether larger or smaller group takes priority"
   ]
  },
  {
   "cell_type": "code",
   "execution_count": 242,
   "metadata": {
    "collapsed": true
   },
   "outputs": [
    {
     "name": "stdout",
     "output_type": "stream",
     "text": [
      "n_A 20\nn_B 275\n"
     ]
    },
    {
     "name": "stderr",
     "output_type": "stream",
     "text": [
      "src/models/miRNA_target_network.py:52: RuntimeWarning: invalid value encountered in double_scalars\n  \n"
     ]
    },
    {
     "name": "stderr",
     "output_type": "stream",
     "text": [
      "src/models/miRNA_target_network.py:56: RuntimeWarning: invalid value encountered in double_scalars\n  \n"
     ]
    },
    {
     "name": "stdout",
     "output_type": "stream",
     "text": [
      "27762\n"
     ]
    }
   ],
   "source": [
    "from src.models.miRNA_target_network import miRNATargetNetwork as miRNATargetNet\n",
    "import networkx as nx\n",
    "\n",
    "network = miRNATargetNet(miRNAs=tgca_luad.mirna_list, targets=tgca_luad.gene_symbols, dys_threshold=0.4)\n",
    "\n",
    "print network.fit(tag=\"normal-StgI\",\n",
    "            miRNA_A=tgca_luad.make_dataset(dataset='miRNA', normal_tumor='normal',\n",
    "                                           normal_matched=False, mirna_gene_matched=True)[0],\n",
    "            gene_A=tgca_luad.make_dataset(dataset='gene', normal_tumor='normal',\n",
    "                                          normal_matched=False, mirna_gene_matched=True)[0],\n",
    "            miRNA_B=tgca_luad.make_dataset(dataset='miRNA', normal_tumor='tumor', pathologic_stages=['Stage I'],\n",
    "                                           normal_matched=False, mirna_gene_matched=True)[0],\n",
    "            gene_B=tgca_luad.make_dataset(dataset='gene', normal_tumor='tumor', pathologic_stages=['Stage I'],\n",
    "                                          normal_matched=False, mirna_gene_matched=True)[0],\n",
    "            putative_assocs=targetScan_df)"
   ]
  },
  {
   "cell_type": "code",
   "execution_count": 244,
   "metadata": {},
   "outputs": [
    {
     "name": "stdout",
     "output_type": "stream",
     "text": [
      "n_A 275\nn_B 120\n"
     ]
    },
    {
     "data": {
      "text/plain": [
       "973"
      ]
     },
     "execution_count": 243,
     "metadata": {},
     "output_type": "execute_result"
    }
   ],
   "source": [
    "network.fit(tag=\"StgI-StgII\",\n",
    "            miRNA_A=tgca_luad.make_dataset(dataset='miRNA', normal_tumor='tumor', pathologic_stages=['Stage I'],\n",
    "                                           normal_matched=False, mirna_gene_matched=True)[0],\n",
    "            gene_A=tgca_luad.make_dataset(dataset='gene', normal_tumor='tumor', pathologic_stages=['Stage I'],\n",
    "                                          normal_matched=False, mirna_gene_matched=True)[0],\n",
    "            miRNA_B=tgca_luad.make_dataset(dataset='miRNA', normal_tumor='tumor', pathologic_stages=['Stage II'],\n",
    "                                           normal_matched=False, mirna_gene_matched=True)[0],\n",
    "            gene_B=tgca_luad.make_dataset(dataset='gene', normal_tumor='tumor', pathologic_stages=['Stage II'],\n",
    "                                          normal_matched=False, mirna_gene_matched=True)[0],\n",
    "            putative_assocs=targetScan_df)"
   ]
  },
  {
   "cell_type": "code",
   "execution_count": 249,
   "metadata": {
    "collapsed": true
   },
   "outputs": [
    {
     "name": "stdout",
     "output_type": "stream",
     "text": [
      "n_A 120\nn_B 84\n"
     ]
    },
    {
     "data": {
      "text/plain": [
       "2665"
      ]
     },
     "execution_count": 249,
     "metadata": {},
     "output_type": "execute_result"
    }
   ],
   "source": [
    "network.fit(tag=\"StgII-StgIII\",\n",
    "            miRNA_A=tgca_luad.make_dataset(dataset='miRNA', normal_tumor='tumor', pathologic_stages=['Stage II'],\n",
    "                                           normal_matched=False, mirna_gene_matched=True)[0],\n",
    "            gene_A=tgca_luad.make_dataset(dataset='gene', normal_tumor='tumor', pathologic_stages=['Stage II'],\n",
    "                                          normal_matched=False, mirna_gene_matched=True)[0],\n",
    "            miRNA_B=tgca_luad.make_dataset(dataset='miRNA', normal_tumor='tumor', pathologic_stages=['Stage III'],\n",
    "                                           normal_matched=False, mirna_gene_matched=True)[0],\n",
    "            gene_B=tgca_luad.make_dataset(dataset='gene', normal_tumor='tumor', pathologic_stages=['Stage III'],\n",
    "                                          normal_matched=False, mirna_gene_matched=True)[0],\n",
    "            putative_assocs=targetScan_df)"
   ]
  },
  {
   "cell_type": "code",
   "execution_count": 1,
   "metadata": {
    "collapsed": true
   },
   "outputs": [
    {
     "ename": "NameError",
     "evalue": "name 'network' is not defined",
     "traceback": [
      "\u001b[0;31m\u001b[0m",
      "\u001b[0;31mNameError\u001b[0mTraceback (most recent call last)",
      "\u001b[0;32m<ipython-input-1-d7ce523d8fd0>\u001b[0m in \u001b[0;36m<module>\u001b[0;34m()\u001b[0m\n\u001b[0;32m----> 1\u001b[0;31m network.fit(tag=\"StgIII-StgIV\",\n\u001b[0m\u001b[1;32m      2\u001b[0m             miRNA_A=tgca_luad.make_dataset(dataset='miRNA', normal_tumor='tumor', pathologic_stages=['Stage III'],\n\u001b[1;32m      3\u001b[0m                                            normal_matched=False, mirna_gene_matched=True)[0],\n\u001b[1;32m      4\u001b[0m             gene_A=tgca_luad.make_dataset(dataset='gene', normal_tumor='tumor', pathologic_stages=['Stage III'],\n\u001b[1;32m      5\u001b[0m                                           normal_matched=False, mirna_gene_matched=True)[0],\n",
      "\u001b[0;31mNameError\u001b[0m: name 'network' is not defined"
     ],
     "output_type": "error"
    }
   ],
   "source": [
    "network.fit(tag=\"StgIII-StgIV\",\n",
    "            miRNA_A=tgca_luad.make_dataset(dataset='miRNA', normal_tumor='tumor', pathologic_stages=['Stage III'],\n",
    "                                           normal_matched=False, mirna_gene_matched=True)[0],\n",
    "            gene_A=tgca_luad.make_dataset(dataset='gene', normal_tumor='tumor', pathologic_stages=['Stage III'],\n",
    "                                          normal_matched=False, mirna_gene_matched=True)[0],\n",
    "            miRNA_B=tgca_luad.make_dataset(dataset='miRNA', normal_tumor='tumor', pathologic_stages=['Stage IV'],\n",
    "                                           normal_matched=False, mirna_gene_matched=True)[0],\n",
    "            gene_B=tgca_luad.make_dataset(dataset='gene', normal_tumor='tumor', pathologic_stages=['Stage IV'],\n",
    "                                          normal_matched=False, mirna_gene_matched=True)[0],\n",
    "            putative_assocs=targetScan_df)"
   ]
  },
  {
   "cell_type": "code",
   "execution_count": 251,
   "metadata": {
    "collapsed": true
   },
   "outputs": [
    {
     "name": "stdout",
     "output_type": "stream",
     "text": [
      "normal_stgI_genes 6763\nstgI_StgII_genes 337\nstgII_StgIII_genes 1239\nstgIII_StgIV_genes 6567\nmiRNAs_in_MTDN 276\n"
     ]
    },
    {
     "name": "stdout",
     "output_type": "stream",
     "text": [
      "shape (276, 14906)\nsum assn matrix 46445.0\nall edges 46445\n"
     ]
    }
   ],
   "source": [
    "import networkx\n",
    "\n",
    "tags = ['normal-StgI', 'StgI-StgII', 'StgII-StgIII', 'StgIII-StgIV']\n",
    "\n",
    "normal_stgI_genes = np.unique([tup[1] for tup in network.B.edges(data=True) if tup[2]['tag'] == 'normal-StgI']).tolist()\n",
    "stgI_StgII_genes = np.unique([tup[1] for tup in network.B.edges(data=True) if tup[2]['tag'] == 'StgI-StgII']).tolist()\n",
    "stgII_StgIII_genes = np.unique([tup[1] for tup in network.B.edges(data=True) if tup[2]['tag'] == 'StgII-StgIII']).tolist()\n",
    "stgIII_StgIV_genes = np.unique([tup[1] for tup in network.B.edges(data=True) if tup[2]['tag'] == 'StgIII-StgIV']).tolist()\n",
    "miRNAs_in_MTDN = np.unique([tup[0] for tup in network.B.edges()])\n",
    "\n",
    "print 'normal_stgI_genes', len(normal_stgI_genes)\n",
    "print 'stgI_StgII_genes', len(stgI_StgII_genes)\n",
    "print 'stgII_StgIII_genes', len(stgII_StgIII_genes)\n",
    "print 'stgIII_StgIV_genes', len(stgIII_StgIV_genes)\n",
    "print 'miRNAs_in_MTDN', len(miRNAs_in_MTDN)\n",
    "\n",
    "normal_stgI_genes_names = [gene+'/normal-StgI' for gene in normal_stgI_genes]\n",
    "stgI_StgII_genes_names = [gene+'/StgI-StgII' for gene in stgI_StgII_genes]\n",
    "stgII_StgIII_genes = [gene+'/StgII-StgIII' for gene in stgII_StgIII_genes]\n",
    "stgIII_StgIV_genes = [gene+'/StgIII-StgIV' for gene in stgIII_StgIV_genes]\n",
    "\n",
    "miRNA_target_assn_matrix = pandas.DataFrame(columns=normal_stgI_genes_names +\n",
    "                                                    stgI_StgII_genes_names +\n",
    "                                                    stgII_StgIII_genes +\n",
    "                                                    stgIII_StgIV_genes)\n",
    "\n",
    "for miRNA in miRNAs_in_MTDN:\n",
    "    miRNA_target_assn_matrix.loc[miRNA] = 0\n",
    "\n",
    "for edge in network.B.edges(data=True):\n",
    "    miRNA_target_assn_matrix.loc[edge[0]][edge[1]+'/'+edge[2]['tag']] = 1\n",
    "      \n",
    "      \n",
    "print 'shape', miRNA_target_assn_matrix.shape\n",
    "print \"sum assn matrix\", miRNA_target_assn_matrix.sum(axis=0).sum()\n",
    "print \"all edges\", len(network.B.edges())\n",
    "# [i for i in networkx.common_neighbors(network.B, 'hsa-mir-29c', 'hsa-mir-29a')]"
   ]
  },
  {
   "cell_type": "code",
   "execution_count": 254,
   "metadata": {
    "collapsed": true
   },
   "outputs": [
    {
     "name": "stdout",
     "output_type": "stream",
     "text": [
      "[225  11   4   3   5   1   2   2   4   1   6   1   1   1   1   1   1   1\n   4   1]\n"
     ]
    }
   ],
   "source": [
    "from sklearn.cluster import AgglomerativeClustering\n",
    "\n",
    "mirna_cluster = AgglomerativeClustering(n_clusters=20, affinity='l1', linkage='complete').fit(miRNA_target_assn_matrix)\n",
    "print np.bincount(mirna_cluster.fit_predict(miRNA_target_assn_matrix))"
   ]
  },
  {
   "cell_type": "markdown",
   "metadata": {},
   "source": [
    "### Prepare samples for Classification task"
   ]
  },
  {
   "cell_type": "code",
   "execution_count": 286,
   "metadata": {
    "collapsed": true
   },
   "outputs": [
    {
     "name": "stdout",
     "output_type": "stream",
     "text": [
      "X (92, 1881)\ny (92,)\n 1    46\n-1    46\nName: pathologic_stage, dtype: int64\n1    277\n2    121\n3     84\n0     46\n4     24\nName: pathologic_stage, dtype: int64\n"
     ]
    }
   ],
   "source": [
    "X, y = tgca_luad.make_dataset(dataset='miRNA', normal_tumor='both', normal_matched=True, mirna_gene_matched=False,\n",
    "                              pathologic_stages=['normal', 'Stage I', 'Stage II', 'Stage III', 'Stage IV'], \n",
    "                              label_mapping={'normal': -1, 'Stage I': 1, 'Stage II': 1, 'Stage III': 1, 'Stage IV': 1})\n",
    "\n",
    "X_multi, y_multi = tgca_luad.make_dataset(dataset='miRNA', normal_tumor='both', normal_matched=False, mirna_gene_matched=False,\n",
    "                              pathologic_stages=['normal', 'Stage I', 'Stage II', 'Stage III', 'Stage IV'], \n",
    "                                          label_mapping={'normal': 0, 'Stage I': 1, 'Stage II': 2, 'Stage III': 3, 'Stage IV': 4})\n",
    "\n",
    "print \"X\", X.shape\n",
    "print \"y\", y.shape\n",
    "\n",
    "print y.value_counts()\n",
    "print y_multi.value_counts()"
   ]
  },
  {
   "cell_type": "markdown",
   "metadata": {
    "collapsed": true
   },
   "source": [
    "## Create Classifiers"
   ]
  },
  {
   "cell_type": "code",
   "execution_count": 288,
   "metadata": {
    "collapsed": true
   },
   "outputs": [],
   "source": [
    "from sklearn.model_selection import train_test_split\n",
    "from src.models.group_lasso_spams import SPAMSClassifier\n",
    "import spams\n",
    "\n",
    "myfloat = np.float\n",
    "param = {'numThreads': -1, 'verbose': True,\n",
    "         'it0': 10, 'max_it': 1000,\n",
    "         'L0': 0.1, 'tol': 1e-3, 'intercept': False,\n",
    "         'pos': False}\n",
    "param['lambda1'] = 0.5\n",
    "param['lambda2'] = 0.5\n",
    "param['lambda3'] = 0.5\n",
    "\n",
    "X_train, X_test, Y_train, Y_test = \\\n",
    "    train_test_split(X, y, test_size=0.2, random_state=np.random.randint(0, 10000), stratify=y)\n",
    "\n",
    "X_multi_train, X_multi_test, Y_multi_train, Y_multi_test = \\\n",
    "    train_test_split(X_multi, y_multi, test_size=0.2, random_state=np.random.randint(0, 10000), stratify=y_multi)\n",
    "\n",
    "X_train = np.asfortranarray(X_train, dtype=myfloat)\n",
    "Y_train = np.asfortranarray(Y_train, dtype=myfloat)\n",
    "Y_train = np.reshape(Y_train, [Y_train.shape[0], 1])\n",
    "X_multi_train = np.asfortranarray(X_multi_train, dtype=myfloat)\n",
    "Y_multi_train = np.asfortranarray(Y_multi_train, dtype=myfloat)\n",
    "Y_multi_train = np.reshape(Y_multi_train, [Y_multi_train.shape[0], 1])\n",
    "\n",
    "# Group Lasso L2\n",
    "group_l2_param = param.copy()\n",
    "group_l2_param['loss'] = 'weighted-logistic'\n",
    "group_l2_param['regul'] = 'group-lasso-l2'\n",
    "group_l2 = SPAMSClassifier()\n",
    "group_l2.fit(X_train, Y_train, groups=network.get_miRNA_cluster_assgn(), params=group_l2_param)\n",
    "\n",
    "# L1 Lasso\n",
    "l1_lasso_param = param.copy()\n",
    "l1_lasso_param['loss'] = 'weighted-logistic'\n",
    "l1_lasso_param['regul'] = 'l1'\n",
    "l1_lasso = SPAMSClassifier()\n",
    "l1_lasso.fit(X_train, Y_train, groups=None, params=l1_lasso_param)\n",
    "\n",
    "# Elastic Net\n",
    "elastic_net_param = param.copy()\n",
    "elastic_net_param['loss'] = 'weighted-logistic'\n",
    "elastic_net_param['regul'] = 'elastic-net'\n",
    "elastic_net = SPAMSClassifier()\n",
    "elastic_net.fit(X_train, Y_train, groups=None, params=elastic_net_param)\n",
    "\n",
    "# Sparse Group Lasso\n",
    "sparse_group_l2_param = param.copy()\n",
    "sparse_group_l2_param['loss'] = 'weighted-logistic'\n",
    "sparse_group_l2_param['regul'] = 'sparse-group-lasso-l2'\n",
    "sparse_group_l2_param['lambda1'] = 0.2\n",
    "sparse_group_l2 = SPAMSClassifier()\n",
    "sparse_group_l2.fit(X_train, Y_train, groups=network.get_miRNA_cluster_assgn(), params=sparse_group_l2_param)\n",
    "\n",
    "# Multi Logistic\n",
    "multi_group_l2_param = param.copy()\n",
    "multi_group_l2_param['loss'] = 'multi-logistic'\n",
    "multi_group_l2_param['regul'] = 'l1l2'\n",
    "multi_group_l2 = SPAMSClassifier()\n",
    "multi_group_l2.fit(X_multi_train, Y_multi_train, groups=network.get_miRNA_cluster_assgn(), params=multi_group_l2_param)"
   ]
  },
  {
   "cell_type": "markdown",
   "metadata": {},
   "source": [
    "## Logistic Regression with L1L2 & Overlapping Group LASSO regularizer"
   ]
  },
  {
   "cell_type": "code",
   "execution_count": 43,
   "metadata": {
    "collapsed": true
   },
   "outputs": [
    {
     "name": "stdout",
     "output_type": "stream",
     "text": [
      "Non-zero: 244\n"
     ]
    }
   ],
   "source": [
    "import parsimony.estimators as estimators\n",
    "import parsimony.algorithms as algorithms\n",
    "import parsimony.functions.nesterov.gl as gl\n",
    "import parsimony.utils.start_vectors as start_vectors\n",
    "# \n",
    "# X_train, X_test, Y_train, Y_test = \\\n",
    "#     train_test_split(X, y, test_size=0.2, random_state=np.random.randint(0, 10000), stratify=y)\n",
    "\n",
    "A = gl.linear_operator_from_groups(X_train.shape[1],\n",
    "                                   network.miRNA_groups_int\n",
    "                                   # weights=[2*1./len(g) for g in network.miRNA_groups_int]\n",
    "                                   )\n",
    "beta = start_vectors.ZerosStartVector().get_vector(X_train.shape[1])\n",
    "\n",
    "logistic_L1L2GL = estimators.LogisticRegressionL1L2GL(l1=3., l2=0.0, gl=3., A=A,\n",
    "                                                      algorithm=algorithms.proximal.FISTA(),\n",
    "                                                      class_weight='auto',\n",
    "                                                      algorithm_params=dict(max_iter=1000),\n",
    "                                                      mean=False)\n",
    "logistic_L1L2GL.fit(X=X_train, y=Y_train, beta=beta)\n",
    "\n",
    "print 'Non-zero:', len(logistic_L1L2GL.beta.nonzero()[0])"
   ]
  },
  {
   "cell_type": "code",
   "execution_count": 38,
   "metadata": {
    "collapsed": true
   },
   "outputs": [],
   "source": [
    "# [(label, percent[0]) for label, percent in zip(logistic_L1L2GL.predict(X_test), logistic_L1L2GL.predict_probability(X_test))]"
   ]
  },
  {
   "cell_type": "markdown",
   "metadata": {},
   "source": [
    "\n",
    "## Classification Report"
   ]
  },
  {
   "cell_type": "code",
   "execution_count": 44,
   "metadata": {
    "collapsed": true
   },
   "outputs": [
    {
     "name": "stdout",
     "output_type": "stream",
     "text": [
      "\nLogistic L1L2GL\n             precision    recall  f1-score   support\n\n       -1.0       1.00      1.00      1.00        36\n        1.0       1.00      1.00      1.00        37\n\navg / total       1.00      1.00      1.00        73\n\n             precision    recall  f1-score   support\n\n         -1       1.00      1.00      1.00        10\n          1       1.00      1.00      1.00         9\n\navg / total       1.00      1.00      1.00        19\n\n\nmulti-task group_small\n             precision    recall  f1-score   support\n\n        0.0       1.00      1.00      1.00        37\n        1.0       0.63      0.93      0.75       221\n        2.0       0.65      0.29      0.40        97\n        3.0       0.68      0.31      0.43        67\n        4.0       0.75      0.16      0.26        19\n\navg / total       0.68      0.67      0.62       441\n\n             precision    recall  f1-score   support\n\n          0       0.89      0.89      0.89         9\n          1       0.55      0.82      0.66        56\n          2       0.38      0.12      0.19        24\n          3       0.00      0.00      0.00        17\n          4       0.00      0.00      0.00         5\n\navg / total       0.43      0.51      0.44       111\n\n\ngroup_small\n             precision    recall  f1-score   support\n\n       -1.0       1.00      1.00      1.00        36\n        1.0       1.00      1.00      1.00        37\n\navg / total       1.00      1.00      1.00        73\n\n             precision    recall  f1-score   support\n\n         -1       1.00      1.00      1.00        10\n          1       1.00      1.00      1.00         9\n\navg / total       1.00      1.00      1.00        19\n\n\ngroup_large\n             precision    recall  f1-score   support\n\n       -1.0       1.00      1.00      1.00        36\n        1.0       1.00      1.00      1.00        37\n\navg / total       1.00      1.00      1.00        73\n\n             precision    recall  f1-score   support\n\n         -1       1.00      1.00      1.00        10\n          1       1.00      1.00      1.00         9\n\navg / total       1.00      1.00      1.00        19\n\n\nl1_lasso\n             precision    recall  f1-score   support\n\n       -1.0       1.00      1.00      1.00        36\n        1.0       1.00      1.00      1.00        37\n\navg / total       1.00      1.00      1.00        73\n\n             precision    recall  f1-score   support\n\n         -1       1.00      1.00      1.00        10\n          1       1.00      1.00      1.00         9\n\navg / total       1.00      1.00      1.00        19\n\n\nelastic_net\n             precision    recall  f1-score   support\n\n       -1.0       1.00      1.00      1.00        36\n        1.0       1.00      1.00      1.00        37\n\navg / total       1.00      1.00      1.00        73\n\n             precision    recall  f1-score   support\n\n         -1       1.00      1.00      1.00        10\n          1       1.00      1.00      1.00         9\n\navg / total       1.00      1.00      1.00        19\n\n\nsparse-group_small\n             precision    recall  f1-score   support\n\n       -1.0       1.00      1.00      1.00        36\n        1.0       1.00      1.00      1.00        37\n\navg / total       1.00      1.00      1.00        73\n\n             precision    recall  f1-score   support\n\n         -1       1.00      1.00      1.00        10\n          1       1.00      1.00      1.00         9\n\navg / total       1.00      1.00      1.00        19\n\n\nsparse_group_large\n             precision    recall  f1-score   support\n\n       -1.0       1.00      1.00      1.00        36\n        1.0       1.00      1.00      1.00        37\n\navg / total       1.00      1.00      1.00        73\n\n             precision    recall  f1-score   support\n\n         -1       1.00      1.00      1.00        10\n          1       1.00      1.00      1.00         9\n\navg / total       1.00      1.00      1.00        19\n\n"
     ]
    }
   ],
   "source": [
    "from sklearn import metrics\n",
    "\n",
    "for model, name in [(logistic_L1L2GL, 'Logistic L1L2GL'),\n",
    "                    (multi_group_l2, 'multi-task group_small'),\n",
    "                    (group_l2, 'group_small'),\n",
    "                    (group_l2_large_groups, 'group_large'),\n",
    "                    (l1_lasso, 'l1_lasso'),\n",
    "                    (elastic_net, 'elastic_net'),\n",
    "                    (sparse_group_l2, 'sparse-group_small'),\n",
    "                    (sparse_group_l2_large_groups, 'sparse_group_large')]:\n",
    "    print '\\n', name\n",
    "    if name is 'Logistic L1L2GL':\n",
    "        predicted = logistic_L1L2GL.predict(X_train)\n",
    "        np.place(predicted, predicted == 0., [-1])\n",
    "        print metrics.classification_report(Y_train, predicted)\n",
    "        predicted = logistic_L1L2GL.predict(X_test)\n",
    "        np.place(predicted, predicted == 0., [-1])\n",
    "        print metrics.classification_report(Y_test, predicted)\n",
    "    elif name is 'multi-task group_small':\n",
    "        print metrics.classification_report(Y_multi_train, model.predict(X_multi_train))\n",
    "        print metrics.classification_report(Y_multi_test, model.predict(X_multi_test))\n",
    "    else:\n",
    "        print metrics.classification_report(Y_train, model.predict(X_train))\n",
    "        print metrics.classification_report(Y_test, model.predict(X_test))"
   ]
  },
  {
   "cell_type": "markdown",
   "metadata": {},
   "source": [
    "## Loading HMDD database for experimentally validated NSCLC miRNA"
   ]
  },
  {
   "cell_type": "code",
   "execution_count": 40,
   "metadata": {
    "collapsed": true
   },
   "outputs": [
    {
     "name": "stdout",
     "output_type": "stream",
     "text": [
      "HMDD_lung_neoplasm_miRNAs (157,)\nmiRCancer_luad_miRNAs 27\nmir2disease_nsclc_miRNAs (24,)\n"
     ]
    }
   ],
   "source": [
    "HMDD_df = pandas.read_table(os.path.join(ROOT_DIR, 'data/external/HMDD_miRNA-disease.txt'), delimiter='\\t', header=-1)\n",
    "HMDD_df = HMDD_df[HMDD_df[2] == \"Lung Neoplasms\"]\n",
    "HMDD_lung_neoplasm_miRNAs = HMDD_df[1].unique()\n",
    "print \"HMDD_lung_neoplasm_miRNAs\", HMDD_lung_neoplasm_miRNAs.shape\n",
    "\n",
    "miRCancer_luad_miRNA_df = pandas.read_csv(os.path.join(ROOT_DIR, 'data/external/validated_luad_miRNAs_miRCancer.csv'))\n",
    "miRCancer_luad_miRNAs = set(miRCancer_luad_miRNA_df['miRNA'].tolist())\n",
    "print \"miRCancer_luad_miRNAs\", len(miRCancer_luad_miRNAs)\n",
    "\n",
    "\n",
    "mir2disease_nsclc_miRNA_df = pandas.read_table(os.path.join(ROOT_DIR, 'data/external/mir2Disease_miRNA-Disease.txt'), delimiter='\\t', header=-1) \n",
    "mir2disease_nsclc_miRNA_df.columns = ['miRNA', 'disease', 'up_down', 'method', 'year', 'description'] \n",
    "mir2disease_nsclc_miRNA_df = mir2disease_nsclc_miRNA_df[(mir2disease_nsclc_miRNA_df['disease'] == 'non-small cell lung cancer (NSCLC)')]\n",
    "mir2disease_nsclc_miRNA_df['miRNA'] = mir2disease_nsclc_miRNA_df['miRNA'].str.lower()\n",
    "mir2disease_nsclc_miRNA_df['miRNA'] = mir2disease_nsclc_miRNA_df['miRNA'].str.replace(\"*\", \"\")\n",
    "mir2disease_nsclc_miRNA_df['miRNA'] = mir2disease_nsclc_miRNA_df['miRNA'].str.replace(\"-3p.*|-5p.*\", \"\")\n",
    "mir2disease_nsclc_miRNA_df.drop_duplicates(inplace=True)\n",
    "mir2disease_nsclc_miRNAs = mir2disease_nsclc_miRNA_df['miRNA'].unique()\n",
    "print \"mir2disease_nsclc_miRNAs\", mir2disease_nsclc_miRNAs.shape\n",
    "\n",
    "validating_miRNAs = HMDD_lung_neoplasm_miRNAs"
   ]
  },
  {
   "cell_type": "markdown",
   "metadata": {},
   "source": [
    "## Compare models by recall rate"
   ]
  },
  {
   "cell_type": "code",
   "execution_count": 230,
   "metadata": {
    "collapsed": false
   },
   "outputs": [
    {
     "data": {
      "text/html": [
       "<div>\n",
       "<table border=\"1\" class=\"dataframe\">\n",
       "  <thead>\n",
       "    <tr style=\"text-align: right;\">\n",
       "      <th></th>\n",
       "      <th>method</th>\n",
       "      <th>no_selected</th>\n",
       "      <th>recall_rate</th>\n",
       "      <th>precision_rate</th>\n",
       "    </tr>\n",
       "  </thead>\n",
       "  <tbody>\n",
       "    <tr>\n",
       "      <th>1</th>\n",
       "      <td>multi-task group_small</td>\n",
       "      <td>264</td>\n",
       "      <td>0.588235</td>\n",
       "      <td>0.568182</td>\n",
       "    </tr>\n",
       "    <tr>\n",
       "      <th>3</th>\n",
       "      <td>group_large</td>\n",
       "      <td>194</td>\n",
       "      <td>0.545098</td>\n",
       "      <td>0.716495</td>\n",
       "    </tr>\n",
       "    <tr>\n",
       "      <th>0</th>\n",
       "      <td>Logistic L1L2GL</td>\n",
       "      <td>244</td>\n",
       "      <td>0.541176</td>\n",
       "      <td>0.565574</td>\n",
       "    </tr>\n",
       "    <tr>\n",
       "      <th>2</th>\n",
       "      <td>group_small</td>\n",
       "      <td>161</td>\n",
       "      <td>0.415686</td>\n",
       "      <td>0.658385</td>\n",
       "    </tr>\n",
       "    <tr>\n",
       "      <th>4</th>\n",
       "      <td>l1_lasso</td>\n",
       "      <td>149</td>\n",
       "      <td>0.368627</td>\n",
       "      <td>0.630872</td>\n",
       "    </tr>\n",
       "    <tr>\n",
       "      <th>5</th>\n",
       "      <td>elastic_net</td>\n",
       "      <td>149</td>\n",
       "      <td>0.368627</td>\n",
       "      <td>0.630872</td>\n",
       "    </tr>\n",
       "    <tr>\n",
       "      <th>7</th>\n",
       "      <td>sparse_group_large</td>\n",
       "      <td>137</td>\n",
       "      <td>0.356863</td>\n",
       "      <td>0.664234</td>\n",
       "    </tr>\n",
       "    <tr>\n",
       "      <th>6</th>\n",
       "      <td>sparse-group_small</td>\n",
       "      <td>135</td>\n",
       "      <td>0.349020</td>\n",
       "      <td>0.659259</td>\n",
       "    </tr>\n",
       "  </tbody>\n",
       "</table>\n",
       "</div>"
      ],
      "text/plain": [
       "<div>\n",
       "<table border=\"1\" class=\"dataframe\">\n",
       "  <thead>\n",
       "    <tr style=\"text-align: right;\">\n",
       "      <th></th>\n",
       "      <th>method</th>\n",
       "      <th>no_selected</th>\n",
       "      <th>recall_rate</th>\n",
       "      <th>precision_rate</th>\n",
       "    </tr>\n",
       "  </thead>\n",
       "  <tbody>\n",
       "    <tr>\n",
       "      <th>1</th>\n",
       "      <td>multi-task group_small</td>\n",
       "      <td>264</td>\n",
       "      <td>0.588235</td>\n",
       "      <td>0.568182</td>\n",
       "    </tr>\n",
       "    <tr>\n",
       "      <th>3</th>\n",
       "      <td>group_large</td>\n",
       "      <td>194</td>\n",
       "      <td>0.545098</td>\n",
       "      <td>0.716495</td>\n",
       "    </tr>\n",
       "    <tr>\n",
       "      <th>0</th>\n",
       "      <td>Logistic L1L2GL</td>\n",
       "      <td>244</td>\n",
       "      <td>0.541176</td>\n",
       "      <td>0.565574</td>\n",
       "    </tr>\n",
       "    <tr>\n",
       "      <th>2</th>\n",
       "      <td>group_small</td>\n",
       "      <td>161</td>\n",
       "      <td>0.415686</td>\n",
       "      <td>0.658385</td>\n",
       "    </tr>\n",
       "    <tr>\n",
       "      <th>4</th>\n",
       "      <td>l1_lasso</td>\n",
       "      <td>149</td>\n",
       "      <td>0.368627</td>\n",
       "      <td>0.630872</td>\n",
       "    </tr>\n",
       "    <tr>\n",
       "      <th>5</th>\n",
       "      <td>elastic_net</td>\n",
       "      <td>149</td>\n",
       "      <td>0.368627</td>\n",
       "      <td>0.630872</td>\n",
       "    </tr>\n",
       "    <tr>\n",
       "      <th>7</th>\n",
       "      <td>sparse_group_large</td>\n",
       "      <td>137</td>\n",
       "      <td>0.356863</td>\n",
       "      <td>0.664234</td>\n",
       "    </tr>\n",
       "    <tr>\n",
       "      <th>6</th>\n",
       "      <td>sparse-group_small</td>\n",
       "      <td>135</td>\n",
       "      <td>0.349020</td>\n",
       "      <td>0.659259</td>\n",
       "    </tr>\n",
       "  </tbody>\n",
       "</table>\n",
       "</div>"
      ]
     },
     "execution_count": 230,
     "metadata": {},
     "output_type": "execute_result"
    }
   ],
   "source": [
    "from src.utils.validate_candidate_miRNAs import recall_rate, precision_rate, get_miRNA_names\n",
    "\n",
    "models = []\n",
    "for model, name in [(logistic_L1L2GL, 'Logistic L1L2GL'),\n",
    "                    (multi_group_l2, 'multi-task group_small'),\n",
    "                    (group_l2, 'group_small'),\n",
    "                    (group_l2_large_groups, 'group_large'),\n",
    "                    (l1_lasso, 'l1_lasso'),\n",
    "                    (elastic_net, 'elastic_net'),\n",
    "                    (sparse_group_l2, 'sparse-group_small'),\n",
    "                    (sparse_group_l2_large_groups, 'sparse_group_large')]:\n",
    "    if name is 'Logistic L1L2GL':\n",
    "        models.append([name,\n",
    "                   len(model.beta.nonzero()[0]),\n",
    "                   recall_rate(candidate_miRNAs=get_miRNA_names(model.beta.nonzero()[0][:], mirna_list),\n",
    "                               validated_miRNAs=validating_miRNAs),\n",
    "                   precision_rate(candidate_miRNAs=get_miRNA_names(model.beta.nonzero()[0][:], mirna_list),\n",
    "                                  validated_miRNAs=validating_miRNAs) ])\n",
    "    else:\n",
    "        models.append([name,\n",
    "                   model.get_selected_miRNAs(mirna_list)['miRNA'].shape[0],\n",
    "                   recall_rate(candidate_miRNAs=model.get_selected_miRNAs(mirna_list)['miRNA'].tolist(),\n",
    "                               validated_miRNAs=validating_miRNAs),\n",
    "                   precision_rate(candidate_miRNAs=model.get_selected_miRNAs(mirna_list)['miRNA'].tolist(),\n",
    "                                  validated_miRNAs=validating_miRNAs) ])\n",
    "\n",
    "pandas.DataFrame(models, columns=['method', 'no_selected', 'recall_rate', 'precision_rate']).sort_values(by='recall_rate', ascending=False)\n",
    "# (group_l2_large_groups, 'group_l2_large_groups'),\n",
    "# (l1_lasso, 'l1_lasso'),\n",
    "# (elastic_net, 'elastic_net'),\n",
    "# (sparse_group_l2, 'sparse-group-lasso-l2'),\n",
    "# (sparse_group_l2_large_groups, 'sparse_group_l2_large_groups')"
   ]
  },
  {
   "cell_type": "markdown",
   "metadata": {},
   "source": [
    "## Check each candidate miRNA's if validated"
   ]
  },
  {
   "cell_type": "code",
   "execution_count": 180,
   "metadata": {},
   "outputs": [
    {
     "data": {
      "text/html": [
       "<div>\n",
       "<table border=\"1\" class=\"dataframe\">\n",
       "  <thead>\n",
       "    <tr style=\"text-align: right;\">\n",
       "      <th></th>\n",
       "      <th>miRNA</th>\n",
       "      <th>coef</th>\n",
       "      <th>validated</th>\n",
       "      <th>groups</th>\n",
       "    </tr>\n",
       "  </thead>\n",
       "  <tbody>\n",
       "    <tr>\n",
       "      <th>67</th>\n",
       "      <td>hsa-mir-22</td>\n",
       "      <td>0.000199</td>\n",
       "      <td>True</td>\n",
       "      <td>[6, 165, 245, 312, 347, 362, 363, 427, 775, 95...</td>\n",
       "    </tr>\n",
       "    <tr>\n",
       "      <th>37</th>\n",
       "      <td>hsa-mir-148a</td>\n",
       "      <td>0.000191</td>\n",
       "      <td>True</td>\n",
       "      <td>[81, 317, 343, 429, 547, 852, 1019, 1107, 1234...</td>\n",
       "    </tr>\n",
       "    <tr>\n",
       "      <th>47</th>\n",
       "      <td>hsa-mir-182</td>\n",
       "      <td>0.000162</td>\n",
       "      <td>True</td>\n",
       "      <td>[78, 132, 164, 326, 363, 390, 423, 492, 516, 5...</td>\n",
       "    </tr>\n",
       "    <tr>\n",
       "      <th>85</th>\n",
       "      <td>hsa-mir-30a</td>\n",
       "      <td>-0.000150</td>\n",
       "      <td>True</td>\n",
       "      <td>[35, 134, 153, 205, 297, 331, 349, 400, 401, 4...</td>\n",
       "    </tr>\n",
       "    <tr>\n",
       "      <th>61</th>\n",
       "      <td>hsa-mir-203a</td>\n",
       "      <td>0.000117</td>\n",
       "      <td>False</td>\n",
       "      <td>[189, 405, 413, 486, 540, 598, 697, 956, 986, ...</td>\n",
       "    </tr>\n",
       "    <tr>\n",
       "      <th>2</th>\n",
       "      <td>hsa-let-7a-3</td>\n",
       "      <td>-0.000098</td>\n",
       "      <td>True</td>\n",
       "      <td>[]</td>\n",
       "    </tr>\n",
       "    <tr>\n",
       "      <th>0</th>\n",
       "      <td>hsa-let-7a-1</td>\n",
       "      <td>-0.000098</td>\n",
       "      <td>True</td>\n",
       "      <td>[]</td>\n",
       "    </tr>\n",
       "    <tr>\n",
       "      <th>84</th>\n",
       "      <td>hsa-mir-29c</td>\n",
       "      <td>0.000094</td>\n",
       "      <td>True</td>\n",
       "      <td>[18, 27, 59, 216, 218, 282, 314, 416, 467, 519...</td>\n",
       "    </tr>\n",
       "    <tr>\n",
       "      <th>81</th>\n",
       "      <td>hsa-mir-29a</td>\n",
       "      <td>0.000093</td>\n",
       "      <td>True</td>\n",
       "      <td>[59, 96, 216, 218, 260, 282, 290, 304, 393, 41...</td>\n",
       "    </tr>\n",
       "    <tr>\n",
       "      <th>8</th>\n",
       "      <td>hsa-let-7f-2</td>\n",
       "      <td>-0.000087</td>\n",
       "      <td>True</td>\n",
       "      <td>[]</td>\n",
       "    </tr>\n",
       "    <tr>\n",
       "      <th>7</th>\n",
       "      <td>hsa-let-7f-1</td>\n",
       "      <td>-0.000087</td>\n",
       "      <td>True</td>\n",
       "      <td>[]</td>\n",
       "    </tr>\n",
       "    <tr>\n",
       "      <th>14</th>\n",
       "      <td>hsa-mir-103a-1</td>\n",
       "      <td>-0.000083</td>\n",
       "      <td>True</td>\n",
       "      <td>[]</td>\n",
       "    </tr>\n",
       "    <tr>\n",
       "      <th>15</th>\n",
       "      <td>hsa-mir-103a-2</td>\n",
       "      <td>-0.000082</td>\n",
       "      <td>True</td>\n",
       "      <td>[]</td>\n",
       "    </tr>\n",
       "    <tr>\n",
       "      <th>48</th>\n",
       "      <td>hsa-mir-183</td>\n",
       "      <td>0.000080</td>\n",
       "      <td>True</td>\n",
       "      <td>[3, 11, 25, 36, 157, 325, 348, 398, 450, 468, ...</td>\n",
       "    </tr>\n",
       "    <tr>\n",
       "      <th>3</th>\n",
       "      <td>hsa-let-7b</td>\n",
       "      <td>0.000073</td>\n",
       "      <td>True</td>\n",
       "      <td>[30, 86, 129, 144, 232, 247, 394, 485, 592, 63...</td>\n",
       "    </tr>\n",
       "    <tr>\n",
       "      <th>60</th>\n",
       "      <td>hsa-mir-200c</td>\n",
       "      <td>-0.000061</td>\n",
       "      <td>True</td>\n",
       "      <td>[23, 101, 110, 128, 136, 152, 243, 359, 437, 5...</td>\n",
       "    </tr>\n",
       "    <tr>\n",
       "      <th>124</th>\n",
       "      <td>hsa-mir-99b</td>\n",
       "      <td>-0.000056</td>\n",
       "      <td>False</td>\n",
       "      <td>[226, 831, 1989, 2880, 3235, 3489, 3614, 3785,...</td>\n",
       "    </tr>\n",
       "    <tr>\n",
       "      <th>90</th>\n",
       "      <td>hsa-mir-30e</td>\n",
       "      <td>0.000049</td>\n",
       "      <td>True</td>\n",
       "      <td>[79, 117, 136, 153, 233, 369, 401, 596, 606, 8...</td>\n",
       "    </tr>\n",
       "    <tr>\n",
       "      <th>89</th>\n",
       "      <td>hsa-mir-30d</td>\n",
       "      <td>0.000044</td>\n",
       "      <td>True</td>\n",
       "      <td>[35, 68, 79, 175, 192, 205, 233, 328, 346, 349...</td>\n",
       "    </tr>\n",
       "    <tr>\n",
       "      <th>1</th>\n",
       "      <td>hsa-let-7a-2</td>\n",
       "      <td>-0.000038</td>\n",
       "      <td>True</td>\n",
       "      <td>[]</td>\n",
       "    </tr>\n",
       "  </tbody>\n",
       "</table>\n",
       "</div>"
      ],
      "text/plain": [
       "<div>\n",
       "<table border=\"1\" class=\"dataframe\">\n",
       "  <thead>\n",
       "    <tr style=\"text-align: right;\">\n",
       "      <th></th>\n",
       "      <th>miRNA</th>\n",
       "      <th>coef</th>\n",
       "      <th>validated</th>\n",
       "      <th>groups</th>\n",
       "    </tr>\n",
       "  </thead>\n",
       "  <tbody>\n",
       "    <tr>\n",
       "      <th>67</th>\n",
       "      <td>hsa-mir-22</td>\n",
       "      <td>0.000199</td>\n",
       "      <td>True</td>\n",
       "      <td>[6, 165, 245, 312, 347, 362, 363, 427, 775, 95...</td>\n",
       "    </tr>\n",
       "    <tr>\n",
       "      <th>37</th>\n",
       "      <td>hsa-mir-148a</td>\n",
       "      <td>0.000191</td>\n",
       "      <td>True</td>\n",
       "      <td>[81, 317, 343, 429, 547, 852, 1019, 1107, 1234...</td>\n",
       "    </tr>\n",
       "    <tr>\n",
       "      <th>47</th>\n",
       "      <td>hsa-mir-182</td>\n",
       "      <td>0.000162</td>\n",
       "      <td>True</td>\n",
       "      <td>[78, 132, 164, 326, 363, 390, 423, 492, 516, 5...</td>\n",
       "    </tr>\n",
       "    <tr>\n",
       "      <th>85</th>\n",
       "      <td>hsa-mir-30a</td>\n",
       "      <td>-0.000150</td>\n",
       "      <td>True</td>\n",
       "      <td>[35, 134, 153, 205, 297, 331, 349, 400, 401, 4...</td>\n",
       "    </tr>\n",
       "    <tr>\n",
       "      <th>61</th>\n",
       "      <td>hsa-mir-203a</td>\n",
       "      <td>0.000117</td>\n",
       "      <td>False</td>\n",
       "      <td>[189, 405, 413, 486, 540, 598, 697, 956, 986, ...</td>\n",
       "    </tr>\n",
       "    <tr>\n",
       "      <th>2</th>\n",
       "      <td>hsa-let-7a-3</td>\n",
       "      <td>-0.000098</td>\n",
       "      <td>True</td>\n",
       "      <td>[]</td>\n",
       "    </tr>\n",
       "    <tr>\n",
       "      <th>0</th>\n",
       "      <td>hsa-let-7a-1</td>\n",
       "      <td>-0.000098</td>\n",
       "      <td>True</td>\n",
       "      <td>[]</td>\n",
       "    </tr>\n",
       "    <tr>\n",
       "      <th>84</th>\n",
       "      <td>hsa-mir-29c</td>\n",
       "      <td>0.000094</td>\n",
       "      <td>True</td>\n",
       "      <td>[18, 27, 59, 216, 218, 282, 314, 416, 467, 519...</td>\n",
       "    </tr>\n",
       "    <tr>\n",
       "      <th>81</th>\n",
       "      <td>hsa-mir-29a</td>\n",
       "      <td>0.000093</td>\n",
       "      <td>True</td>\n",
       "      <td>[59, 96, 216, 218, 260, 282, 290, 304, 393, 41...</td>\n",
       "    </tr>\n",
       "    <tr>\n",
       "      <th>8</th>\n",
       "      <td>hsa-let-7f-2</td>\n",
       "      <td>-0.000087</td>\n",
       "      <td>True</td>\n",
       "      <td>[]</td>\n",
       "    </tr>\n",
       "    <tr>\n",
       "      <th>7</th>\n",
       "      <td>hsa-let-7f-1</td>\n",
       "      <td>-0.000087</td>\n",
       "      <td>True</td>\n",
       "      <td>[]</td>\n",
       "    </tr>\n",
       "    <tr>\n",
       "      <th>14</th>\n",
       "      <td>hsa-mir-103a-1</td>\n",
       "      <td>-0.000083</td>\n",
       "      <td>True</td>\n",
       "      <td>[]</td>\n",
       "    </tr>\n",
       "    <tr>\n",
       "      <th>15</th>\n",
       "      <td>hsa-mir-103a-2</td>\n",
       "      <td>-0.000082</td>\n",
       "      <td>True</td>\n",
       "      <td>[]</td>\n",
       "    </tr>\n",
       "    <tr>\n",
       "      <th>48</th>\n",
       "      <td>hsa-mir-183</td>\n",
       "      <td>0.000080</td>\n",
       "      <td>True</td>\n",
       "      <td>[3, 11, 25, 36, 157, 325, 348, 398, 450, 468, ...</td>\n",
       "    </tr>\n",
       "    <tr>\n",
       "      <th>3</th>\n",
       "      <td>hsa-let-7b</td>\n",
       "      <td>0.000073</td>\n",
       "      <td>True</td>\n",
       "      <td>[30, 86, 129, 144, 232, 247, 394, 485, 592, 63...</td>\n",
       "    </tr>\n",
       "    <tr>\n",
       "      <th>60</th>\n",
       "      <td>hsa-mir-200c</td>\n",
       "      <td>-0.000061</td>\n",
       "      <td>True</td>\n",
       "      <td>[23, 101, 110, 128, 136, 152, 243, 359, 437, 5...</td>\n",
       "    </tr>\n",
       "    <tr>\n",
       "      <th>124</th>\n",
       "      <td>hsa-mir-99b</td>\n",
       "      <td>-0.000056</td>\n",
       "      <td>False</td>\n",
       "      <td>[226, 831, 1989, 2880, 3235, 3489, 3614, 3785,...</td>\n",
       "    </tr>\n",
       "    <tr>\n",
       "      <th>90</th>\n",
       "      <td>hsa-mir-30e</td>\n",
       "      <td>0.000049</td>\n",
       "      <td>True</td>\n",
       "      <td>[79, 117, 136, 153, 233, 369, 401, 596, 606, 8...</td>\n",
       "    </tr>\n",
       "    <tr>\n",
       "      <th>89</th>\n",
       "      <td>hsa-mir-30d</td>\n",
       "      <td>0.000044</td>\n",
       "      <td>True</td>\n",
       "      <td>[35, 68, 79, 175, 192, 205, 233, 328, 346, 349...</td>\n",
       "    </tr>\n",
       "    <tr>\n",
       "      <th>1</th>\n",
       "      <td>hsa-let-7a-2</td>\n",
       "      <td>-0.000038</td>\n",
       "      <td>True</td>\n",
       "      <td>[]</td>\n",
       "    </tr>\n",
       "  </tbody>\n",
       "</table>\n",
       "</div>"
      ]
     },
     "execution_count": 180,
     "metadata": {},
     "output_type": "execute_result"
    }
   ],
   "source": [
    "candidate_miRNAs = sparse_group_l2.get_selected_miRNAs(mirna_list)\n",
    "candidate_miRNAs['validated'] = candidate_miRNAs.apply(lambda row: row['miRNA'] in HMDD_lung_neoplasm_miRNAs, axis=1)\n",
    "candidate_miRNAs['groups'] = candidate_miRNAs.apply(lambda row: network.find_miRNA_groups(row['miRNA']), axis=1)\n",
    "candidate_miRNAs.head(20)"
   ]
  },
  {
   "cell_type": "code",
   "execution_count": 171,
   "metadata": {},
   "outputs": [
    {
     "name": "stderr",
     "output_type": "stream",
     "text": [
      "/opt/anaconda/lib/python2.7/site-packages/ipykernel/__main__.py:5: FutureWarning: sort is deprecated, use sort_values(inplace=True) for INPLACE sorting\n"
     ]
    },
    {
     "data": {
      "text/html": [
       "<div>\n",
       "<table border=\"1\" class=\"dataframe\">\n",
       "  <thead>\n",
       "    <tr style=\"text-align: right;\">\n",
       "      <th></th>\n",
       "      <th>miRNA</th>\n",
       "      <th>coef</th>\n",
       "      <th>validated</th>\n",
       "      <th>groups</th>\n",
       "    </tr>\n",
       "  </thead>\n",
       "  <tbody>\n",
       "    <tr>\n",
       "      <th>74</th>\n",
       "      <td>hsa-mir-148a</td>\n",
       "      <td>0.000232</td>\n",
       "      <td>True</td>\n",
       "      <td>[81, 317, 343, 429, 547, 852, 1019, 1107, 1234...</td>\n",
       "    </tr>\n",
       "    <tr>\n",
       "      <th>95</th>\n",
       "      <td>hsa-mir-182</td>\n",
       "      <td>0.000193</td>\n",
       "      <td>True</td>\n",
       "      <td>[78, 132, 164, 326, 363, 390, 423, 492, 516, 5...</td>\n",
       "    </tr>\n",
       "    <tr>\n",
       "      <th>145</th>\n",
       "      <td>hsa-mir-22</td>\n",
       "      <td>0.000162</td>\n",
       "      <td>True</td>\n",
       "      <td>[6, 165, 245, 312, 347, 362, 363, 427, 775, 95...</td>\n",
       "    </tr>\n",
       "    <tr>\n",
       "      <th>171</th>\n",
       "      <td>hsa-mir-30a</td>\n",
       "      <td>-0.000123</td>\n",
       "      <td>True</td>\n",
       "      <td>[35, 134, 153, 205, 297, 331, 349, 400, 401, 4...</td>\n",
       "    </tr>\n",
       "    <tr>\n",
       "      <th>21</th>\n",
       "      <td>hsa-mir-10a</td>\n",
       "      <td>0.000096</td>\n",
       "      <td>False</td>\n",
       "      <td>[63, 771, 926, 929, 1131, 1498, 1519, 1553, 15...</td>\n",
       "    </tr>\n",
       "    <tr>\n",
       "      <th>0</th>\n",
       "      <td>hsa-let-7a-1</td>\n",
       "      <td>-0.000085</td>\n",
       "      <td>True</td>\n",
       "      <td>[]</td>\n",
       "    </tr>\n",
       "    <tr>\n",
       "      <th>2</th>\n",
       "      <td>hsa-let-7a-3</td>\n",
       "      <td>-0.000085</td>\n",
       "      <td>True</td>\n",
       "      <td>[]</td>\n",
       "    </tr>\n",
       "    <tr>\n",
       "      <th>8</th>\n",
       "      <td>hsa-let-7f-2</td>\n",
       "      <td>-0.000081</td>\n",
       "      <td>True</td>\n",
       "      <td>[]</td>\n",
       "    </tr>\n",
       "    <tr>\n",
       "      <th>7</th>\n",
       "      <td>hsa-let-7f-1</td>\n",
       "      <td>-0.000080</td>\n",
       "      <td>True</td>\n",
       "      <td>[]</td>\n",
       "    </tr>\n",
       "    <tr>\n",
       "      <th>127</th>\n",
       "      <td>hsa-mir-203a</td>\n",
       "      <td>0.000079</td>\n",
       "      <td>False</td>\n",
       "      <td>[189, 405, 413, 486, 540, 598, 697, 956, 986, ...</td>\n",
       "    </tr>\n",
       "    <tr>\n",
       "      <th>96</th>\n",
       "      <td>hsa-mir-183</td>\n",
       "      <td>0.000079</td>\n",
       "      <td>True</td>\n",
       "      <td>[3, 11, 25, 36, 157, 325, 348, 398, 450, 468, ...</td>\n",
       "    </tr>\n",
       "    <tr>\n",
       "      <th>107</th>\n",
       "      <td>hsa-mir-192</td>\n",
       "      <td>0.000078</td>\n",
       "      <td>True</td>\n",
       "      <td>[419, 646, 667, 814, 1471, 1785, 1837, 1857, 2...</td>\n",
       "    </tr>\n",
       "    <tr>\n",
       "      <th>176</th>\n",
       "      <td>hsa-mir-30e</td>\n",
       "      <td>0.000066</td>\n",
       "      <td>True</td>\n",
       "      <td>[79, 117, 136, 153, 233, 369, 401, 596, 606, 8...</td>\n",
       "    </tr>\n",
       "    <tr>\n",
       "      <th>167</th>\n",
       "      <td>hsa-mir-29c</td>\n",
       "      <td>0.000065</td>\n",
       "      <td>True</td>\n",
       "      <td>[18, 27, 59, 216, 218, 282, 314, 416, 467, 519...</td>\n",
       "    </tr>\n",
       "    <tr>\n",
       "      <th>164</th>\n",
       "      <td>hsa-mir-29a</td>\n",
       "      <td>0.000058</td>\n",
       "      <td>True</td>\n",
       "      <td>[59, 96, 216, 218, 260, 282, 290, 304, 393, 41...</td>\n",
       "    </tr>\n",
       "    <tr>\n",
       "      <th>14</th>\n",
       "      <td>hsa-mir-103a-1</td>\n",
       "      <td>-0.000054</td>\n",
       "      <td>True</td>\n",
       "      <td>[]</td>\n",
       "    </tr>\n",
       "    <tr>\n",
       "      <th>15</th>\n",
       "      <td>hsa-mir-103a-2</td>\n",
       "      <td>-0.000053</td>\n",
       "      <td>True</td>\n",
       "      <td>[]</td>\n",
       "    </tr>\n",
       "    <tr>\n",
       "      <th>120</th>\n",
       "      <td>hsa-mir-199b</td>\n",
       "      <td>0.000044</td>\n",
       "      <td>True</td>\n",
       "      <td>[124, 265, 314, 326, 357, 370, 430, 525, 550, ...</td>\n",
       "    </tr>\n",
       "    <tr>\n",
       "      <th>3</th>\n",
       "      <td>hsa-let-7b</td>\n",
       "      <td>0.000043</td>\n",
       "      <td>True</td>\n",
       "      <td>[30, 86, 129, 144, 232, 247, 394, 485, 592, 63...</td>\n",
       "    </tr>\n",
       "    <tr>\n",
       "      <th>78</th>\n",
       "      <td>hsa-mir-151a</td>\n",
       "      <td>0.000040</td>\n",
       "      <td>False</td>\n",
       "      <td>[366, 1056, 1422, 1829, 4254, 4306, 4389, 4445...</td>\n",
       "    </tr>\n",
       "  </tbody>\n",
       "</table>\n",
       "</div>"
      ],
      "text/plain": [
       "<div>\n",
       "<table border=\"1\" class=\"dataframe\">\n",
       "  <thead>\n",
       "    <tr style=\"text-align: right;\">\n",
       "      <th></th>\n",
       "      <th>miRNA</th>\n",
       "      <th>coef</th>\n",
       "      <th>validated</th>\n",
       "      <th>groups</th>\n",
       "    </tr>\n",
       "  </thead>\n",
       "  <tbody>\n",
       "    <tr>\n",
       "      <th>74</th>\n",
       "      <td>hsa-mir-148a</td>\n",
       "      <td>0.000232</td>\n",
       "      <td>True</td>\n",
       "      <td>[81, 317, 343, 429, 547, 852, 1019, 1107, 1234...</td>\n",
       "    </tr>\n",
       "    <tr>\n",
       "      <th>95</th>\n",
       "      <td>hsa-mir-182</td>\n",
       "      <td>0.000193</td>\n",
       "      <td>True</td>\n",
       "      <td>[78, 132, 164, 326, 363, 390, 423, 492, 516, 5...</td>\n",
       "    </tr>\n",
       "    <tr>\n",
       "      <th>145</th>\n",
       "      <td>hsa-mir-22</td>\n",
       "      <td>0.000162</td>\n",
       "      <td>True</td>\n",
       "      <td>[6, 165, 245, 312, 347, 362, 363, 427, 775, 95...</td>\n",
       "    </tr>\n",
       "    <tr>\n",
       "      <th>171</th>\n",
       "      <td>hsa-mir-30a</td>\n",
       "      <td>-0.000123</td>\n",
       "      <td>True</td>\n",
       "      <td>[35, 134, 153, 205, 297, 331, 349, 400, 401, 4...</td>\n",
       "    </tr>\n",
       "    <tr>\n",
       "      <th>21</th>\n",
       "      <td>hsa-mir-10a</td>\n",
       "      <td>0.000096</td>\n",
       "      <td>False</td>\n",
       "      <td>[63, 771, 926, 929, 1131, 1498, 1519, 1553, 15...</td>\n",
       "    </tr>\n",
       "    <tr>\n",
       "      <th>0</th>\n",
       "      <td>hsa-let-7a-1</td>\n",
       "      <td>-0.000085</td>\n",
       "      <td>True</td>\n",
       "      <td>[]</td>\n",
       "    </tr>\n",
       "    <tr>\n",
       "      <th>2</th>\n",
       "      <td>hsa-let-7a-3</td>\n",
       "      <td>-0.000085</td>\n",
       "      <td>True</td>\n",
       "      <td>[]</td>\n",
       "    </tr>\n",
       "    <tr>\n",
       "      <th>8</th>\n",
       "      <td>hsa-let-7f-2</td>\n",
       "      <td>-0.000081</td>\n",
       "      <td>True</td>\n",
       "      <td>[]</td>\n",
       "    </tr>\n",
       "    <tr>\n",
       "      <th>7</th>\n",
       "      <td>hsa-let-7f-1</td>\n",
       "      <td>-0.000080</td>\n",
       "      <td>True</td>\n",
       "      <td>[]</td>\n",
       "    </tr>\n",
       "    <tr>\n",
       "      <th>127</th>\n",
       "      <td>hsa-mir-203a</td>\n",
       "      <td>0.000079</td>\n",
       "      <td>False</td>\n",
       "      <td>[189, 405, 413, 486, 540, 598, 697, 956, 986, ...</td>\n",
       "    </tr>\n",
       "    <tr>\n",
       "      <th>96</th>\n",
       "      <td>hsa-mir-183</td>\n",
       "      <td>0.000079</td>\n",
       "      <td>True</td>\n",
       "      <td>[3, 11, 25, 36, 157, 325, 348, 398, 450, 468, ...</td>\n",
       "    </tr>\n",
       "    <tr>\n",
       "      <th>107</th>\n",
       "      <td>hsa-mir-192</td>\n",
       "      <td>0.000078</td>\n",
       "      <td>True</td>\n",
       "      <td>[419, 646, 667, 814, 1471, 1785, 1837, 1857, 2...</td>\n",
       "    </tr>\n",
       "    <tr>\n",
       "      <th>176</th>\n",
       "      <td>hsa-mir-30e</td>\n",
       "      <td>0.000066</td>\n",
       "      <td>True</td>\n",
       "      <td>[79, 117, 136, 153, 233, 369, 401, 596, 606, 8...</td>\n",
       "    </tr>\n",
       "    <tr>\n",
       "      <th>167</th>\n",
       "      <td>hsa-mir-29c</td>\n",
       "      <td>0.000065</td>\n",
       "      <td>True</td>\n",
       "      <td>[18, 27, 59, 216, 218, 282, 314, 416, 467, 519...</td>\n",
       "    </tr>\n",
       "    <tr>\n",
       "      <th>164</th>\n",
       "      <td>hsa-mir-29a</td>\n",
       "      <td>0.000058</td>\n",
       "      <td>True</td>\n",
       "      <td>[59, 96, 216, 218, 260, 282, 290, 304, 393, 41...</td>\n",
       "    </tr>\n",
       "    <tr>\n",
       "      <th>14</th>\n",
       "      <td>hsa-mir-103a-1</td>\n",
       "      <td>-0.000054</td>\n",
       "      <td>True</td>\n",
       "      <td>[]</td>\n",
       "    </tr>\n",
       "    <tr>\n",
       "      <th>15</th>\n",
       "      <td>hsa-mir-103a-2</td>\n",
       "      <td>-0.000053</td>\n",
       "      <td>True</td>\n",
       "      <td>[]</td>\n",
       "    </tr>\n",
       "    <tr>\n",
       "      <th>120</th>\n",
       "      <td>hsa-mir-199b</td>\n",
       "      <td>0.000044</td>\n",
       "      <td>True</td>\n",
       "      <td>[124, 265, 314, 326, 357, 370, 430, 525, 550, ...</td>\n",
       "    </tr>\n",
       "    <tr>\n",
       "      <th>3</th>\n",
       "      <td>hsa-let-7b</td>\n",
       "      <td>0.000043</td>\n",
       "      <td>True</td>\n",
       "      <td>[30, 86, 129, 144, 232, 247, 394, 485, 592, 63...</td>\n",
       "    </tr>\n",
       "    <tr>\n",
       "      <th>78</th>\n",
       "      <td>hsa-mir-151a</td>\n",
       "      <td>0.000040</td>\n",
       "      <td>False</td>\n",
       "      <td>[366, 1056, 1422, 1829, 4254, 4306, 4389, 4445...</td>\n",
       "    </tr>\n",
       "  </tbody>\n",
       "</table>\n",
       "</div>"
      ]
     },
     "execution_count": 171,
     "metadata": {},
     "output_type": "execute_result"
    }
   ],
   "source": [
    "candidate_miRNAs = pandas.DataFrame([(mirna_list[m], logistic_L1L2GL.beta[m][0]) for m in logistic_L1L2GL.beta.nonzero()[0]])\n",
    "candidate_miRNAs.columns = ['miRNA', 'coef']\n",
    "candidate_miRNAs['validated'] = candidate_miRNAs.apply(lambda row: row['miRNA'] in HMDD_lung_neoplasm_miRNAs, axis=1)\n",
    "candidate_miRNAs['groups'] = candidate_miRNAs.apply(lambda row: network.find_miRNA_groups(row['miRNA']), axis=1)\n",
    "candidate_miRNAs.reindex(candidate_miRNAs.coef.abs().sort(inplace=False, ascending=False).index).head(20)"
   ]
  },
  {
   "cell_type": "markdown",
   "metadata": {},
   "source": [
    "## Validate miRNA-target edges"
   ]
  },
  {
   "cell_type": "code",
   "execution_count": 54,
   "metadata": {
    "collapsed": true
   },
   "outputs": [
    {
     "name": "stdout",
     "output_type": "stream",
     "text": [
      "ITGA4 hsa-mir-301b\n"
     ]
    },
    {
     "ename": "NameError",
     "evalue": "name 'miRecords_df' is not defined",
     "traceback": [
      "\u001b[0;31m\u001b[0m",
      "\u001b[0;31mNameError\u001b[0mTraceback (most recent call last)",
      "\u001b[0;32m<ipython-input-54-73141c8de670>\u001b[0m in \u001b[0;36m<module>\u001b[0;34m()\u001b[0m\n\u001b[1;32m      8\u001b[0m     \u001b[0;32melse\u001b[0m\u001b[0;34m:\u001b[0m\u001b[0;34m\u001b[0m\u001b[0m\n\u001b[1;32m      9\u001b[0m         validated_edges = pandas.concat([validated_edges,\n\u001b[0;32m---> 10\u001b[0;31m                                          miRecords_df[(miRecords_df[\"miRNA_mature_ID\"] == v2) &\n\u001b[0m\u001b[1;32m     11\u001b[0m                                                       (miRecords_df[\"Target gene_name\"] == v1)]])\n\u001b[1;32m     12\u001b[0m \u001b[0;34m\u001b[0m\u001b[0m\n",
      "\u001b[0;31mNameError\u001b[0m: name 'miRecords_df' is not defined"
     ],
     "output_type": "error"
    }
   ],
   "source": [
    "validated_edges = pandas.DataFrame()\n",
    "for (v1, v2) in edges:\n",
    "    print v1, v2\n",
    "    if network.B.node[v1]['bipartite'] == 0:  # if v1 is miRNA\n",
    "        validated_edges = pandas.concat([validated_edges,\n",
    "                                         miRecords_df[(miRecords_df[\"miRNA_mature_ID\"] == v1) &\n",
    "                                                      (miRecords_df[\"Target gene_name\"] == v2)]])\n",
    "    else:\n",
    "        validated_edges = pandas.concat([validated_edges,\n",
    "                                         miRecords_df[(miRecords_df[\"miRNA_mature_ID\"] == v2) &\n",
    "                                                      (miRecords_df[\"Target gene_name\"] == v1)]])\n",
    "\n",
    "print float(len(validated_edges))/float(len(edges))"
   ]
  },
  {
   "cell_type": "code",
   "execution_count": null,
   "metadata": {
    "collapsed": true
   },
   "outputs": [
    {
     "data": {
      "image/png": "[encoded data removed]",
      "text/plain": [
       "<matplotlib.figure.Figure at 0x7fba80320290>"
      ]
     },
     "metadata": {},
     "output_type": "display_data"
    }
   ],
   "source": [
    "# plt.hist(miRNAs_nodes_degrees[1].values())\n",
    "plt.hist(targets_nodes_degrees[0].values(), bins=30)\n",
    "plt.ylabel('counts of nodes')\n",
    "plt.xlabel('number of degrees')\n",
    "plt.show()"
   ]
  },
  {
   "cell_type": "code",
   "execution_count": null,
   "metadata": {},
   "outputs": [],
   "source": [
    ""
   ]
  }
 ],
 "metadata": {
  "kernelspec": {
   "display_name": "Python 2",
   "language": "python",
   "name": "python2"
  },
  "language_info": {
   "codemirror_mode": {
    "name": "ipython",
    "version": 2.0
   },
   "file_extension": ".py",
   "mimetype": "text/x-python",
   "name": "python",
   "nbconvert_exporter": "python",
   "pygments_lexer": "ipython2",
   "version": "2.7.6"
  }
 },
 "nbformat": 4,
 "nbformat_minor": 0
}