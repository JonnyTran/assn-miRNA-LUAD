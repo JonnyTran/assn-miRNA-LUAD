{
 "cells": [
  {
   "cell_type": "markdown",
   "metadata": {
    "collapsed": true
   },
   "source": [
    "## Finding differentialy expressed miRNA's between LUAD stages I, II, III, IV vs normal using Logit regression\n",
    "### Utilize Group Lasso with MISIM miRNA similarity data"
   ]
  },
  {
   "cell_type": "code",
   "execution_count": 23,
   "metadata": {},
   "outputs": [],
   "source": [
    "# Necessary imports\n",
    "\n",
    "import os\n",
    "import pandas\n",
    "import numpy as np\n",
    "\n",
    "from definitions import ROOT_DIR"
   ]
  },
  {
   "cell_type": "markdown",
   "metadata": {},
   "source": [
    "## Load normal and cancer miRNA expression data"
   ]
  },
  {
   "cell_type": "code",
   "execution_count": 24,
   "metadata": {},
   "outputs": [
    {
     "name": "stdout",
     "output_type": "stream",
     "text": [
      "mirna_tumor_df.shape (513, 1882) , nulls: 0\nmirna_normal_df.shape (46, 1882) , nulls: 0\nvalidated_miRNAs.shape (34, 2)\nnormal    46\nName: pathologic_stage, dtype: int64\nStage I      277\nStage II     121\nStage III     84\nStage IV      24\nName: pathologic_stage, dtype: int64\n"
     ]
    }
   ],
   "source": [
    "from definitions import ROOT_DIR\n",
    "\n",
    "# Load files into pandas data frames\n",
    "mirna_tumor_df = pandas.read_csv(os.path.join(ROOT_DIR, \"data/processed/miRNA/tumor_miRNA.csv\"))\n",
    "mirna_normal_df = pandas.read_csv(os.path.join(ROOT_DIR, \"data/processed/miRNA/normal_miRNA.csv\"))\n",
    "clinical_df = pandas.read_csv(os.path.join(ROOT_DIR, \"data/processed/clinical/clinical.csv\"))\n",
    "validated_miRNA_csv = pandas.read_csv(os.path.join(ROOT_DIR, 'data/external/validated_luad_miRNAs_miRCancer.csv'))\n",
    "\n",
    "# Print data frame shapes\n",
    "print \"mirna_tumor_df.shape\", mirna_tumor_df.shape, ', nulls:', mirna_tumor_df.isnull().sum().sum()\n",
    "print \"mirna_normal_df.shape\", mirna_normal_df.shape, ', nulls:', mirna_normal_df.isnull().sum().sum()\n",
    "print 'validated_miRNAs.shape', validated_miRNA_csv.shape\n",
    "\n",
    "# Merge normal and tumor miRNA expression profiles with clinical cancer stage data\n",
    "mirna_normal = pandas.merge(clinical_df[['patient_barcode', 'pathologic_stage']], mirna_normal_df, on='patient_barcode')\n",
    "mirna_normal['pathologic_stage'] = 'normal'\n",
    "mirna_tumor = pandas.merge(clinical_df[['patient_barcode', 'pathologic_stage']], mirna_tumor_df, on='patient_barcode')\n",
    "\n",
    "# Map stage IA to stage I, IB to I, etc. ...\n",
    "pathologic_stage_map = {'Stage IA': 'Stage I', 'Stage IB': 'Stage I', \n",
    "                        'Stage IIA': 'Stage II', 'Stage IIB': 'Stage II', \n",
    "                        'Stage IIIA': 'Stage III', 'Stage IIIB': 'Stage III'}\n",
    "mirna_tumor.replace({'pathologic_stage': pathologic_stage_map}, inplace=True)\n",
    "\n",
    "# Store list of all miRNA's in miRNA expression data\n",
    "mirna_list = list(mirna_tumor.columns)[2:]\n",
    "\n",
    "# Print quick overview of data\n",
    "print mirna_normal['pathologic_stage'].value_counts().sort_index(axis=0)\n",
    "print mirna_tumor['pathologic_stage'].value_counts().sort_index(axis=0)"
   ]
  },
  {
   "cell_type": "markdown",
   "metadata": {},
   "source": [
    "## Load normal & cancer Gene Expression data"
   ]
  },
  {
   "cell_type": "code",
   "execution_count": 26,
   "metadata": {},
   "outputs": [
    {
     "name": "stdout",
     "output_type": "stream",
     "text": [
      "(20530, 517)\n(20530, 61)\n"
     ]
    }
   ],
   "source": [
    "gene_exp_tumor_df = pandas.read_table(os.path.join(ROOT_DIR, 'data/processed/gene_expression/tumor/READ__illuminahiseq_rnaseqv2__GeneExp.txt'), \n",
    "                                      header=0, delimiter='\\t')\n",
    "gene_exp_normal_df = pandas.read_table(os.path.join(ROOT_DIR, 'data/processed/gene_expression/normal/READ__illuminahiseq_rnaseqv2__GeneExp.txt'), \n",
    "                                      header=0, delimiter='\\t')\n",
    "\n",
    "gene_exp_tumor_df.rename(columns=lambda x: x[:12], inplace=True)\n",
    "gene_exp_normal_df.rename(columns=lambda x: x[:12], inplace=True)\n",
    "\n",
    "print gene_exp_tumor_df.shape\n",
    "print gene_exp_normal_df.shape"
   ]
  },
  {
   "cell_type": "markdown",
   "metadata": {},
   "source": [
    "## Reshape gene expression data frames to have shape (patients x gene expression) "
   ]
  },
  {
   "cell_type": "code",
   "execution_count": 27,
   "metadata": {
    "collapsed": false
   },
   "outputs": [
    {
     "name": "stdout",
     "output_type": "stream",
     "text": [
      "515\n59\ngene_symbols 20502\ngene_exp_tumor_patients 515\ngene_exp_normal_patients 59\n(515, 20503)\n(59, 20503)\n"
     ]
    }
   ],
   "source": [
    "print len(list(gene_exp_tumor_df.columns))-2\n",
    "print len(list(gene_exp_normal_df.columns))-2\n",
    "\n",
    "# Remove entries with unknown Gene Symbol\n",
    "gene_exp_tumor_df = gene_exp_tumor_df[gene_exp_tumor_df.GeneSymbol != '?']\n",
    "gene_exp_normal_df = gene_exp_normal_df[gene_exp_normal_df.GeneSymbol != '?']\n",
    "\n",
    "# Get list of all gene_symbols\n",
    "gene_symbols = list(gene_exp_tumor_df['GeneSymbol'])\n",
    "# Get list of tumor and normal patient_barcode\n",
    "gene_exp_tumor_patient_barcodes = list(gene_exp_tumor_df.columns)[2:]\n",
    "gene_exp_normal_patient_barcodes = list(gene_exp_normal_df.columns)[2:]\n",
    "\n",
    "# Drop EntrezID column\n",
    "gene_exp_tumor = gene_exp_tumor_df.drop(['EntrezID', 'GeneSymbol'], axis=1)\n",
    "gene_exp_normal = gene_exp_normal_df.drop(['EntrezID', 'GeneSymbol'], axis=1)\n",
    "\n",
    "# Reshaping data frame to have columns for GeneSymbols, and rows of patients\n",
    "gene_exp_tumor = gene_exp_tumor.T\n",
    "gene_exp_normal = gene_exp_normal.T\n",
    "gene_exp_tumor.columns = gene_symbols\n",
    "gene_exp_normal.columns = gene_symbols\n",
    "\n",
    "# Add column for patients barcode\n",
    "gene_exp_tumor['patient_barcode'] = gene_exp_tumor.index\n",
    "gene_exp_normal['patient_barcode'] = gene_exp_normal.index\n",
    "\n",
    "print \"gene_symbols\", len(gene_symbols)\n",
    "print \"gene_exp_tumor_patients\", len(gene_exp_tumor_patient_barcodes)\n",
    "print \"gene_exp_normal_patients\", len(gene_exp_normal_patient_barcodes)\n",
    "\n",
    "print gene_exp_tumor.shape\n",
    "print gene_exp_normal.shape"
   ]
  },
  {
   "cell_type": "markdown",
   "metadata": {},
   "source": [
    "## Filter samples with matched Gene Expression data and miRNA data\n",
    "## More data preprocessing"
   ]
  },
  {
   "cell_type": "code",
   "execution_count": 28,
   "metadata": {},
   "outputs": [
    {
     "name": "stdout",
     "output_type": "stream",
     "text": [
      "NaN            7\nStage I      275\nStage II     120\nStage III     84\nStage IV      24\nName: pathologic_stage, dtype: int64\nnormal    20\nName: pathologic_stage, dtype: int64\n"
     ]
    },
    {
     "name": "stdout",
     "output_type": "stream",
     "text": [
      "mirna_tumor (503, 1881) 0\ngene_exp_tumor (503, 20502) 0\nmirna_normal (20, 1881) 0\ngene_exp_normal (20, 20502) 0\n"
     ]
    }
   ],
   "source": [
    "# Merge normal and tumor miRNA expression profiles with clinical cancer stage data\n",
    "merged_tumor_patients = pandas.merge(gene_exp_tumor[['patient_barcode']], mirna_tumor, on='patient_barcode')[['patient_barcode', 'pathologic_stage']]\n",
    "merged_normal_patients = pandas.merge(gene_exp_normal[['patient_barcode']], mirna_normal, on='patient_barcode')[['patient_barcode', 'pathologic_stage']]\n",
    "\n",
    "# Print quick overview of data\n",
    "print merged_tumor_patients['pathologic_stage'].value_counts(dropna=False).sort_index(axis=0)\n",
    "print merged_normal_patients['pathologic_stage'].value_counts(dropna=False).sort_index(axis=0)\n",
    "\n",
    "# Drop NA\n",
    "merged_tumor_patients.dropna(inplace=True)\n",
    "merged_normal_patients.dropna(inplace=True)\n",
    "\n",
    "# Filter samples\n",
    "mirna_tumor = mirna_tumor[mirna_tumor['patient_barcode'].isin(merged_tumor_patients['patient_barcode'])]\n",
    "gene_exp_tumor = gene_exp_tumor[gene_exp_tumor['patient_barcode'].isin(merged_tumor_patients['patient_barcode'])]\n",
    "mirna_normal = mirna_normal[mirna_normal['patient_barcode'].isin(merged_normal_patients['patient_barcode'])]\n",
    "gene_exp_normal = gene_exp_normal[gene_exp_normal['patient_barcode'].isin(merged_normal_patients['patient_barcode'])]\n",
    "\n",
    "# Create label vector\n",
    "Y = pandas.concat([mirna_tumor, mirna_normal])['pathologic_stage']\n",
    "n_tumor = mirna_tumor.shape[0]\n",
    "n_normal = mirna_normal.shape[0]\n",
    "\n",
    "# Drop categorical columns\n",
    "mirna_tumor.drop(['patient_barcode', 'pathologic_stage'], 1, inplace=True)\n",
    "gene_exp_tumor.drop(['patient_barcode'], 1, inplace=True)\n",
    "mirna_normal.drop(['patient_barcode', 'pathologic_stage'], 1, inplace=True)\n",
    "gene_exp_normal.drop(['patient_barcode'], 1, inplace=True)\n",
    "\n",
    "print \"mirna_tumor\", mirna_tumor.shape, mirna_tumor.isnull().sum().sum()\n",
    "print \"gene_exp_tumor\", gene_exp_tumor.shape, gene_exp_tumor.isnull().sum().sum()\n",
    "print \"mirna_normal\", mirna_normal.shape, mirna_normal.isnull().sum().sum()\n",
    "print \"gene_exp_normal\", gene_exp_normal.shape, gene_exp_normal.isnull().sum().sum()"
   ]
  },
  {
   "cell_type": "markdown",
   "metadata": {},
   "source": [
    "## Univariate feature selection via ANOVA test"
   ]
  },
  {
   "cell_type": "code",
   "execution_count": 41,
   "metadata": {
    "collapsed": false
   },
   "outputs": [
    {
     "name": "stdout",
     "output_type": "stream",
     "text": [
      "(523, 335)\n(523, 4284)\n"
     ]
    }
   ],
   "source": [
    "from sklearn.feature_selection import SelectFdr, f_classif\n",
    "\n",
    "mirna_filter = SelectFdr(f_classif, alpha=0.01)\n",
    "mirna_new = mirna_filter.fit_transform(X=pandas.concat([mirna_tumor, mirna_normal]), y=Y)\n",
    "\n",
    "gene_exp_filter = SelectFdr(f_classif, alpha=0.01)\n",
    "gen_exp_new = gene_exp_filter.fit_transform(X=pandas.concat([gene_exp_tumor, gene_exp_normal]), y=Y)\n",
    "\n",
    "print mirna_new.shape\n",
    "print gen_exp_new.shape\n",
    "\n",
    "mirna_tumor = mirna_tumor[mirna_filter.get_support(indices=True)]\n",
    "mirna_normal = mirna_normal[mirna_filter.get_support(indices=True)]\n",
    "gene_exp_tumor = gene_exp_tumor[gene_exp_filter.get_support(indices=True)]\n",
    "gene_exp_normal = gene_exp_normal[gene_exp_filter.get_support(indices=True)]"
   ]
  },
  {
   "cell_type": "markdown",
   "metadata": {},
   "source": [
    "## Build miRNA-target relationship network to identify \n",
    "## Xu et al. (xu2011prioritizing)"
   ]
  },
  {
   "cell_type": "code",
   "execution_count": 42,
   "metadata": {
    "collapsed": true
   },
   "outputs": [
    {
     "name": "stdout",
     "output_type": "stream",
     "text": [
      "n_A 503\nn_B 20\n"
     ]
    },
    {
     "ename": "ValueError",
     "evalue": "The truth value of a Series is ambiguous. Use a.empty, a.bool(), a.item(), a.any() or a.all().",
     "traceback": [
      "\u001b[0;31m\u001b[0m",
      "\u001b[0;31mValueError\u001b[0mTraceback (most recent call last)",
      "\u001b[0;32m<ipython-input-42-5e9de616c45d>\u001b[0m in \u001b[0;36m<module>\u001b[0;34m()\u001b[0m\n\u001b[1;32m      3\u001b[0m \u001b[0;34m\u001b[0m\u001b[0m\n\u001b[1;32m      4\u001b[0m \u001b[0mnetwork\u001b[0m \u001b[0;34m=\u001b[0m \u001b[0mmiRNATargetNetwork\u001b[0m\u001b[0;34m(\u001b[0m\u001b[0mthreshold\u001b[0m\u001b[0;34m=\u001b[0m\u001b[0;36m0.8\u001b[0m\u001b[0;34m)\u001b[0m\u001b[0;34m\u001b[0m\u001b[0m\n\u001b[0;32m----> 5\u001b[0;31m \u001b[0mnetwork\u001b[0m\u001b[0;34m.\u001b[0m\u001b[0mtrain\u001b[0m\u001b[0;34m(\u001b[0m\u001b[0mmiRNAs_A\u001b[0m\u001b[0;34m=\u001b[0m\u001b[0mmirna_tumor\u001b[0m\u001b[0;34m,\u001b[0m \u001b[0mtargets_A\u001b[0m\u001b[0;34m=\u001b[0m\u001b[0mgene_exp_tumor\u001b[0m\u001b[0;34m,\u001b[0m \u001b[0mmiRNAs_B\u001b[0m\u001b[0;34m=\u001b[0m\u001b[0mmirna_normal\u001b[0m\u001b[0;34m,\u001b[0m \u001b[0mtargets_B\u001b[0m\u001b[0;34m=\u001b[0m\u001b[0mgene_exp_normal\u001b[0m\u001b[0;34m)\u001b[0m\u001b[0;34m\u001b[0m\u001b[0m\n\u001b[0m\u001b[1;32m      6\u001b[0m \u001b[0;31m# print nx.bipartite.sets(network.B)\u001b[0m\u001b[0;34m\u001b[0m\u001b[0;34m\u001b[0m\u001b[0m\n",
      "\u001b[0;32m/home/jonny2/PycharmProjects/assn-miRNA-LUAD/src/models/miRNA_target_network.pyc\u001b[0m in \u001b[0;36mtrain\u001b[0;34m(self, miRNAs_A, targets_A, miRNAs_B, targets_B)\u001b[0m\n\u001b[1;32m     50\u001b[0m                 \u001b[0mdys\u001b[0m \u001b[0;34m=\u001b[0m \u001b[0mmiRNA_target_A_corr\u001b[0m \u001b[0;34m-\u001b[0m \u001b[0mmiRNA_target_B_corr\u001b[0m\u001b[0;34m\u001b[0m\u001b[0m\n\u001b[1;32m     51\u001b[0m                 \u001b[0;31m# print m, '<->', t, ':', dys\u001b[0m\u001b[0;34m\u001b[0m\u001b[0;34m\u001b[0m\u001b[0m\n\u001b[0;32m---> 52\u001b[0;31m                 \u001b[0;32mif\u001b[0m \u001b[0mnp\u001b[0m\u001b[0;34m.\u001b[0m\u001b[0mabs\u001b[0m\u001b[0;34m(\u001b[0m\u001b[0mdys\u001b[0m\u001b[0;34m)\u001b[0m \u001b[0;34m>=\u001b[0m \u001b[0mself\u001b[0m\u001b[0;34m.\u001b[0m\u001b[0mthreshold\u001b[0m\u001b[0;34m:\u001b[0m\u001b[0;34m\u001b[0m\u001b[0m\n\u001b[0m\u001b[1;32m     53\u001b[0m                     \u001b[0mself\u001b[0m\u001b[0;34m.\u001b[0m\u001b[0madd_edge\u001b[0m\u001b[0;34m(\u001b[0m\u001b[0mm\u001b[0m\u001b[0;34m,\u001b[0m \u001b[0mt\u001b[0m\u001b[0;34m,\u001b[0m \u001b[0mdys\u001b[0m\u001b[0;34m=\u001b[0m\u001b[0mdys\u001b[0m\u001b[0;34m)\u001b[0m\u001b[0;34m\u001b[0m\u001b[0m\n\u001b[1;32m     54\u001b[0m                     \u001b[0medge_count\u001b[0m \u001b[0;34m+=\u001b[0m \u001b[0;36m1\u001b[0m\u001b[0;34m\u001b[0m\u001b[0m\n",
      "\u001b[0;32m/opt/anaconda/lib/python2.7/site-packages/pandas/core/generic.pyc\u001b[0m in \u001b[0;36m__nonzero__\u001b[0;34m(self)\u001b[0m\n\u001b[1;32m    915\u001b[0m         raise ValueError(\"The truth value of a {0} is ambiguous. \"\n\u001b[1;32m    916\u001b[0m                          \u001b[0;34m\"Use a.empty, a.bool(), a.item(), a.any() or a.all().\"\u001b[0m\u001b[0;34m\u001b[0m\u001b[0m\n\u001b[0;32m--> 917\u001b[0;31m                          .format(self.__class__.__name__))\n\u001b[0m\u001b[1;32m    918\u001b[0m \u001b[0;34m\u001b[0m\u001b[0m\n\u001b[1;32m    919\u001b[0m     \u001b[0m__bool__\u001b[0m \u001b[0;34m=\u001b[0m \u001b[0m__nonzero__\u001b[0m\u001b[0;34m\u001b[0m\u001b[0m\n",
      "\u001b[0;31mValueError\u001b[0m: The truth value of a Series is ambiguous. Use a.empty, a.bool(), a.item(), a.any() or a.all()."
     ],
     "output_type": "error"
    }
   ],
   "source": [
    "from src.models.miRNA_target_network import miRNATargetNetwork\n",
    "import networkx as nx\n",
    "\n",
    "network = miRNATargetNetwork(threshold=0.8)\n",
    "network.train(miRNAs_A=mirna_tumor, targets_A=gene_exp_tumor, miRNAs_B=mirna_normal, targets_B=gene_exp_normal)\n",
    "# print nx.bipartite.sets(network.B)"
   ]
  },
  {
   "cell_type": "code",
   "execution_count": 1,
   "metadata": {
    "collapsed": false
   },
   "outputs": [],
   "source": [
    ""
   ]
  },
  {
   "cell_type": "markdown",
   "metadata": {},
   "source": [
    "## Loading miRecords experimentally validated miRNA-targets interactions"
   ]
  },
  {
   "cell_type": "code",
   "execution_count": 7,
   "metadata": {
    "collapsed": false
   },
   "outputs": [],
   "source": [
    "# Load data frame from file\n",
    "miRecords_df = pandas.read_table(os.path.join(ROOT_DIR, 'data/external/miRecords_version4.tsv'), delimiter='\\t')\n",
    "\n",
    "# Select only homo sapiens miRNA-target pairs\n",
    "miRecords_df = miRecords_df[(miRecords_df[\"miRNA_species\"] == \"Homo sapiens\") &\n",
    "                            (miRecords_df[\"Target gene_species_scientific\"] == \"Homo sapiens\")]\n",
    "miRecords_df = miRecords_df[[\"miRNA_mature_ID\", \"Target gene_name\"]]\n",
    "\n",
    "# Standardize miRNA and gene symbols\n",
    "miRecords_df['miRNA_mature_ID'] = miRecords_df['miRNA_mature_ID'].str.lower()\n",
    "miRecords_df['miRNA_mature_ID'] = miRecords_df['miRNA_mature_ID'].str.replace('*', '')\n",
    "miRecords_df['Target gene_name'] = miRecords_df['Target gene_name'].str.upper()\n",
    "\n",
    "# Filter miRNA-target pairs to only miRNA's included in miRNA expression data, same for gene targets \n",
    "miRecords_df = miRecords_df[miRecords_df[\"miRNA_mature_ID\"].isin(mirna_list) &\n",
    "                            miRecords_df[\"Target gene_name\"].isin(gene_symbols)]\n",
    "\n",
    "# miRecords_df"
   ]
  },
  {
   "cell_type": "code",
   "execution_count": 140,
   "metadata": {},
   "outputs": [],
   "source": [
    ""
   ]
  },
  {
   "cell_type": "code",
   "execution_count": 1,
   "metadata": {
    "collapsed": false
   },
   "outputs": [],
   "source": [
    ""
   ]
  },
  {
   "cell_type": "code",
   "execution_count": null,
   "metadata": {},
   "outputs": [],
   "source": [
    ""
   ]
  }
 ],
 "metadata": {
  "kernelspec": {
   "display_name": "Python 2",
   "language": "python",
   "name": "python2"
  },
  "language_info": {
   "codemirror_mode": {
    "name": "ipython",
    "version": 2.0
   },
   "file_extension": ".py",
   "mimetype": "text/x-python",
   "name": "python",
   "nbconvert_exporter": "python",
   "pygments_lexer": "ipython2",
   "version": "2.7.6"
  }
 },
 "nbformat": 4,
 "nbformat_minor": 0
}