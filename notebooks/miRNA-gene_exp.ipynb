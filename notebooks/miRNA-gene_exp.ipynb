{
 "cells": [
  {
   "cell_type": "markdown",
   "metadata": {
    "collapsed": true
   },
   "source": [
    "## Finding differentialy expressed miRNA's between LUAD stages I, II, III, IV vs normal using Logit regression\n",
    "### Utilize Group Lasso with MISIM miRNA similarity data"
   ]
  },
  {
   "cell_type": "code",
   "execution_count": 166,
   "metadata": {},
   "outputs": [],
   "source": [
    "# Necessary imports\n",
    "import os\n",
    "import pandas\n",
    "import numpy as np\n",
    "\n",
    "from definitions import ROOT_DIR"
   ]
  },
  {
   "cell_type": "markdown",
   "metadata": {},
   "source": [
    "## Load normal and cancer miRNA expression data"
   ]
  },
  {
   "cell_type": "code",
   "execution_count": 167,
   "metadata": {},
   "outputs": [
    {
     "name": "stdout",
     "output_type": "stream",
     "text": [
      "mirna_tumor_df.shape (513, 1882) , nulls: 0\nmirna_normal_df.shape (46, 1882) , nulls: 0\nvalidated_miRNAs.shape (34, 2)\nnormal    46\nName: pathologic_stage, dtype: int64\nStage I      277\nStage II     121\nStage III     84\nStage IV      24\nName: pathologic_stage, dtype: int64\n"
     ]
    }
   ],
   "source": [
    "from definitions import ROOT_DIR\n",
    "\n",
    "# Load files into pandas data frames\n",
    "mirna_tumor_df = pandas.read_csv(os.path.join(ROOT_DIR, \"data/processed/miRNA/tumor_miRNA.csv\"))\n",
    "mirna_normal_df = pandas.read_csv(os.path.join(ROOT_DIR, \"data/processed/miRNA/normal_miRNA.csv\"))\n",
    "clinical_df = pandas.read_csv(os.path.join(ROOT_DIR, \"data/processed/clinical/clinical.csv\"))\n",
    "validated_miRNA_csv = pandas.read_csv(os.path.join(ROOT_DIR, 'data/external/validated_luad_miRNAs_miRCancer.csv'))\n",
    "\n",
    "# Print data frame shapes\n",
    "print \"mirna_tumor_df.shape\", mirna_tumor_df.shape, ', nulls:', mirna_tumor_df.isnull().sum().sum()\n",
    "print \"mirna_normal_df.shape\", mirna_normal_df.shape, ', nulls:', mirna_normal_df.isnull().sum().sum()\n",
    "print 'validated_miRNAs.shape', validated_miRNA_csv.shape\n",
    "\n",
    "# Merge normal and tumor miRNA expression profiles with clinical cancer stage data\n",
    "mirna_normal = pandas.merge(clinical_df[['patient_barcode', 'pathologic_stage']], mirna_normal_df, on='patient_barcode')\n",
    "mirna_normal['pathologic_stage'] = 'normal'\n",
    "mirna_tumor = pandas.merge(clinical_df[['patient_barcode', 'pathologic_stage']], mirna_tumor_df, on='patient_barcode')\n",
    "\n",
    "# Map stage IA to stage I, IB to I, etc. ...\n",
    "pathologic_stage_map = {'Stage IA': 'Stage I', 'Stage IB': 'Stage I', \n",
    "                        'Stage IIA': 'Stage II', 'Stage IIB': 'Stage II', \n",
    "                        'Stage IIIA': 'Stage III', 'Stage IIIB': 'Stage III'}\n",
    "mirna_tumor.replace({'pathologic_stage': pathologic_stage_map}, inplace=True)\n",
    "\n",
    "# Store list of all miRNA's in miRNA expression data\n",
    "mirna_list = list(mirna_tumor.columns)[2:]\n",
    "\n",
    "# Print quick overview of data\n",
    "print mirna_normal['pathologic_stage'].value_counts().sort_index(axis=0)\n",
    "print mirna_tumor['pathologic_stage'].value_counts().sort_index(axis=0)"
   ]
  },
  {
   "cell_type": "markdown",
   "metadata": {},
   "source": [
    "## Load normal & cancer Gene Expression data"
   ]
  },
  {
   "cell_type": "code",
   "execution_count": 168,
   "metadata": {},
   "outputs": [
    {
     "name": "stdout",
     "output_type": "stream",
     "text": [
      "(20530, 517)\n(20530, 61)\n"
     ]
    }
   ],
   "source": [
    "gene_exp_tumor_df = pandas.read_table(os.path.join(ROOT_DIR, 'data/processed/gene_expression/tumor/READ__illuminahiseq_rnaseqv2__GeneExp.txt'), \n",
    "                                      header=0, delimiter='\\t')\n",
    "gene_exp_normal_df = pandas.read_table(os.path.join(ROOT_DIR, 'data/processed/gene_expression/normal/READ__illuminahiseq_rnaseqv2__GeneExp.txt'), \n",
    "                                      header=0, delimiter='\\t')\n",
    "\n",
    "gene_exp_tumor_df.rename(columns=lambda x: x[:12], inplace=True)\n",
    "gene_exp_normal_df.rename(columns=lambda x: x[:12], inplace=True)\n",
    "\n",
    "print gene_exp_tumor_df.shape\n",
    "print gene_exp_normal_df.shape"
   ]
  },
  {
   "cell_type": "markdown",
   "metadata": {},
   "source": [
    "## Reshape gene expression data frames to have shape (patients x gene expression) "
   ]
  },
  {
   "cell_type": "code",
   "execution_count": 169,
   "metadata": {
    "collapsed": false
   },
   "outputs": [
    {
     "name": "stdout",
     "output_type": "stream",
     "text": [
      "515\n59\ngene_symbols 20502\ngene_exp_tumor_patients 515\ngene_exp_normal_patients 59\n(515, 20503)\n(59, 20503)\n"
     ]
    }
   ],
   "source": [
    "print len(list(gene_exp_tumor_df.columns))-2\n",
    "print len(list(gene_exp_normal_df.columns))-2\n",
    "\n",
    "# Remove entries with unknown Gene Symbol\n",
    "gene_exp_tumor_df = gene_exp_tumor_df[gene_exp_tumor_df.GeneSymbol != '?']\n",
    "gene_exp_normal_df = gene_exp_normal_df[gene_exp_normal_df.GeneSymbol != '?']\n",
    "\n",
    "# Get list of all gene_symbols\n",
    "gene_symbols = list(gene_exp_tumor_df['GeneSymbol'])\n",
    "# Get list of tumor and normal patient_barcode\n",
    "gene_exp_tumor_patient_barcodes = list(gene_exp_tumor_df.columns)[2:]\n",
    "gene_exp_normal_patient_barcodes = list(gene_exp_normal_df.columns)[2:]\n",
    "\n",
    "# Drop EntrezID column\n",
    "gene_exp_tumor = gene_exp_tumor_df.drop(['EntrezID', 'GeneSymbol'], axis=1)\n",
    "gene_exp_normal = gene_exp_normal_df.drop(['EntrezID', 'GeneSymbol'], axis=1)\n",
    "\n",
    "# Reshaping data frame to have columns for GeneSymbols, and rows of patients\n",
    "gene_exp_tumor = gene_exp_tumor.T\n",
    "gene_exp_normal = gene_exp_normal.T\n",
    "gene_exp_tumor.columns = gene_symbols\n",
    "gene_exp_normal.columns = gene_symbols\n",
    "\n",
    "# Add column for patients barcode\n",
    "gene_exp_tumor['patient_barcode'] = gene_exp_tumor.index\n",
    "gene_exp_normal['patient_barcode'] = gene_exp_normal.index\n",
    "\n",
    "print \"gene_symbols\", len(gene_symbols)\n",
    "print \"gene_exp_tumor_patients\", len(gene_exp_tumor_patient_barcodes)\n",
    "print \"gene_exp_normal_patients\", len(gene_exp_normal_patient_barcodes)\n",
    "\n",
    "print gene_exp_tumor.shape\n",
    "print gene_exp_normal.shape"
   ]
  },
  {
   "cell_type": "code",
   "execution_count": 170,
   "metadata": {
    "collapsed": false
   },
   "outputs": [],
   "source": [
    ""
   ]
  },
  {
   "cell_type": "markdown",
   "metadata": {},
   "source": [
    "## Match Gene Expression data to miRNA data"
   ]
  },
  {
   "cell_type": "code",
   "execution_count": 170,
   "metadata": {},
   "outputs": [
    {
     "name": "stdout",
     "output_type": "stream",
     "text": [
      "normal    20\nName: pathologic_stage, dtype: int64\nStage I      275\nStage II     120\nStage III     84\nStage IV      24\nName: pathologic_stage, dtype: int64\n"
     ]
    }
   ],
   "source": [
    "# Merge normal and tumor miRNA expression profiles with clinical cancer stage data\n",
    "merged_normal_patients = pandas.merge(gene_exp_normal[['patient_barcode']], mirna_normal, on='patient_barcode')[['patient_barcode', 'pathologic_stage']]\n",
    "merged_tumor_patients = pandas.merge(gene_exp_tumor[['patient_barcode']], mirna_tumor, on='patient_barcode')[['patient_barcode', 'pathologic_stage']]\n",
    "\n",
    "# Print quick overview of data\n",
    "print merged_normal_patients['pathologic_stage'].value_counts().sort_index(axis=0)\n",
    "print merged_tumor_patients['pathologic_stage'].value_counts().sort_index(axis=0)"
   ]
  },
  {
   "cell_type": "markdown",
   "metadata": {},
   "source": [
    "## Build miRNA-target relationship network to identify \n",
    "## Xu et al. (xu2011prioritizing)"
   ]
  },
  {
   "cell_type": "code",
   "execution_count": 171,
   "metadata": {
    "collapsed": false
   },
   "outputs": [
    {
     "ename": "TypeError",
     "evalue": "Could not convert TCGA-53-7813TCGA-49-6745TCGA-44-A47GTCGA-55-7910TCGA-97-7547TCGA-L4-A4E6TCGA-67-4679TCGA-55-8094TCGA-91-6831TCGA-55-7724TCGA-78-7147TCGA-44-6778TCGA-55-8206TCGA-78-7540TCGA-44-5645TCGA-67-6215TCGA-99-AA5RTCGA-73-A9RSTCGA-MP-A4T4TCGA-97-7552TCGA-78-7153TCGA-93-A4JOTCGA-44-6146TCGA-93-A4JPTCGA-93-7348TCGA-MP-A4TCTCGA-80-5607TCGA-J2-8194TCGA-78-7166TCGA-73-7499TCGA-49-6761TCGA-97-A4M5TCGA-62-A46OTCGA-78-7535TCGA-67-3774TCGA-MP-A4TJTCGA-MP-A4TITCGA-55-8299TCGA-62-8397TCGA-55-1594TCGA-86-8359TCGA-55-6972TCGA-44-2668TCGA-55-7574TCGA-05-4420TCGA-64-1679TCGA-97-8176TCGA-62-A46RTCGA-91-6828TCGA-L4-A4E5TCGA-05-4410TCGA-50-5932TCGA-78-8660TCGA-44-6774TCGA-55-8097TCGA-05-4390TCGA-75-6207TCGA-55-7913TCGA-55-8511TCGA-44-8117TCGA-38-4626TCGA-75-7027TCGA-97-7554TCGA-97-8552TCGA-91-6836TCGA-95-7562TCGA-44-2662TCGA-NJ-A55ATCGA-44-6775TCGA-55-6969TCGA-55-A492TCGA-55-A491TCGA-73-4676TCGA-L9-A8F4TCGA-91-A4BDTCGA-L9-A444TCGA-78-7163TCGA-69-7763TCGA-NJ-A4YGTCGA-05-4249TCGA-55-A4DGTCGA-86-7713TCGA-86-7711TCGA-44-A479TCGA-55-6970TCGA-55-6982TCGA-95-8039TCGA-86-8280TCGA-NJ-A4YFTCGA-50-5941TCGA-49-6744TCGA-55-A4DFTCGA-64-5778TCGA-62-8394TCGA-93-8067TCGA-44-2666TCGA-L9-A743TCGA-64-5774TCGA-97-A4M0TCGA-49-AARQTCGA-97-7546TCGA-55-8616TCGA-78-7146TCGA-93-7347TCGA-69-7760TCGA-44-A47FTCGA-78-7145TCGA-44-6776TCGA-05-4424TCGA-55-6981TCGA-49-4514TCGA-86-8669TCGA-05-4397TCGA-44-3919TCGA-44-7667TCGA-69-7765TCGA-MP-A4SVTCGA-05-4389TCGA-75-7025TCGA-50-6591TCGA-78-7536TCGA-99-7458TCGA-55-A48XTCGA-44-4112TCGA-55-8301TCGA-05-4415TCGA-49-4486TCGA-55-1592TCGA-69-7978TCGA-73-7498TCGA-62-A46PTCGA-44-5644TCGA-05-4434TCGA-95-7567TCGA-97-8547TCGA-MN-A4N1TCGA-50-5072TCGA-49-AAQVTCGA-50-5936TCGA-62-A470TCGA-J2-A4ADTCGA-49-AAR2TCGA-MN-A4N4TCGA-97-8172TCGA-50-5930TCGA-62-A472TCGA-91-6829TCGA-78-7150TCGA-55-8620TCGA-44-7671TCGA-50-5068TCGA-95-7948TCGA-69-7974TCGA-MP-A4THTCGA-67-6217TCGA-67-6216TCGA-97-A4M3TCGA-05-4430TCGA-55-7903TCGA-05-4432TCGA-55-8614TCGA-67-3771TCGA-49-4487TCGA-05-4427TCGA-50-5055TCGA-50-6593TCGA-53-7624TCGA-55-7570TCGA-MP-A5C7TCGA-67-3770TCGA-50-5935TCGA-62-A46VTCGA-44-8119TCGA-49-4512TCGA-49-4494TCGA-50-5944TCGA-64-1680TCGA-38-4631TCGA-55-6984TCGA-55-7725TCGA-55-1596TCGA-69-7764TCGA-49-AAR3TCGA-95-7039TCGA-78-7154TCGA-38-7271TCGA-05-4405TCGA-69-7979TCGA-97-8179TCGA-69-7980TCGA-49-6742TCGA-J2-8192TCGA-95-8494TCGA-50-5933TCGA-55-A490TCGA-44-3398TCGA-62-A46STCGA-44-8120TCGA-75-5122TCGA-97-A4M2TCGA-78-7155TCGA-NJ-A7XGTCGA-44-A47ATCGA-35-5375TCGA-L9-A5IPTCGA-55-6971TCGA-38-4630TCGA-55-8508TCGA-38-4629TCGA-55-7576TCGA-55-6712TCGA-05-4250TCGA-55-7281TCGA-62-A46YTCGA-55-8621TCGA-MP-A4T9TCGA-78-7161TCGA-55-7283TCGA-49-4507TCGA-75-6211TCGA-50-6595TCGA-86-8671TCGA-73-4662TCGA-35-3615TCGA-53-7626TCGA-05-5423TCGA-55-7911TCGA-86-7701TCGA-MP-A4T8TCGA-75-7031TCGA-55-7727TCGA-86-7955TCGA-35-4123TCGA-91-6849TCGA-44-5643TCGA-75-5147TCGA-97-7938TCGA-64-5815TCGA-05-4396TCGA-05-5425TCGA-78-7220TCGA-55-8089TCGA-69-7761TCGA-75-5146TCGA-55-8208TCGA-44-6144TCGA-NJ-A55OTCGA-86-8281TCGA-53-A4EZTCGA-38-4632TCGA-O1-A52JTCGA-05-4402TCGA-95-A4VNTCGA-86-A456TCGA-38-6178TCGA-49-AAR0TCGA-91-8499TCGA-55-6978TCGA-78-7158TCGA-35-4122TCGA-55-8505TCGA-71-6725TCGA-86-8668TCGA-62-A46UTCGA-44-A47BTCGA-97-8175TCGA-78-7160TCGA-55-8204TCGA-55-6985TCGA-44-A4SSTCGA-69-8255TCGA-86-7714TCGA-05-4395TCGA-97-8177TCGA-55-6983TCGA-86-A4P8TCGA-MP-A4SYTCGA-50-5942TCGA-MN-A4N5TCGA-80-5611TCGA-55-6986TCGA-97-7941TCGA-55-8205TCGA-MP-A4TFTCGA-S2-AA1ATCGA-62-8395TCGA-MP-A4TATCGA-44-7662TCGA-44-7660TCGA-55-7815TCGA-78-7633TCGA-44-2661TCGA-86-8075TCGA-86-8674TCGA-86-8054TCGA-49-AARETCGA-86-8358TCGA-67-3773TCGA-55-A494TCGA-86-8056TCGA-91-7771TCGA-86-8055TCGA-05-4422TCGA-49-4501TCGA-78-7162TCGA-69-8453TCGA-55-6642TCGA-49-4510TCGA-55-8096TCGA-55-8510TCGA-62-A471TCGA-44-2659TCGA-MP-A4T7TCGA-49-4505TCGA-75-6203TCGA-50-7109TCGA-55-6980TCGA-75-5126TCGA-J2-A4AETCGA-67-3772TCGA-49-AAR9TCGA-50-5931TCGA-49-6767TCGA-05-5715TCGA-64-5775TCGA-50-5045TCGA-55-A493TCGA-38-4627TCGA-44-6148TCGA-78-7152TCGA-55-8514TCGA-44-A4SUTCGA-44-2655TCGA-44-7669TCGA-05-4425TCGA-99-8033TCGA-86-A4JFTCGA-78-8648TCGA-05-4403TCGA-55-8619TCGA-50-5946TCGA-50-5939TCGA-91-8496TCGA-95-A4VKTCGA-05-4382TCGA-05-4418TCGA-55-8207TCGA-95-7043TCGA-86-7953TCGA-49-AAROTCGA-91-6847TCGA-71-8520TCGA-05-4384TCGA-78-8640TCGA-55-A48YTCGA-91-6835TCGA-50-5044TCGA-73-4675TCGA-73-4659TCGA-95-7944TCGA-L9-A50WTCGA-97-7553TCGA-L9-A443TCGA-50-6597TCGA-50-6592TCGA-83-5908TCGA-69-8253TCGA-55-8615TCGA-69-7973TCGA-55-5899TCGA-75-5125TCGA-55-7816TCGA-55-7573TCGA-97-8174TCGA-NJ-A4YITCGA-86-8673TCGA-78-7539TCGA-64-1676TCGA-86-8074TCGA-49-4506TCGA-55-8302TCGA-86-A4P7TCGA-MP-A4TDTCGA-86-8278TCGA-86-8672TCGA-50-8457TCGA-NJ-A4YPTCGA-NJ-A4YQTCGA-78-7156TCGA-05-4426TCGA-97-A4LXTCGA-49-AARNTCGA-55-7284TCGA-MP-A4TETCGA-38-4628TCGA-91-6830TCGA-86-8585TCGA-55-8085TCGA-95-7947TCGA-97-7937TCGA-44-3396TCGA-44-6779TCGA-55-7726TCGA-91-6840TCGA-55-7995TCGA-55-8513TCGA-75-6205TCGA-91-A4BCTCGA-86-8076TCGA-64-5781TCGA-4B-A93VTCGA-50-6590TCGA-50-8459TCGA-55-6987TCGA-05-5428TCGA-86-8073TCGA-93-A4JQTCGA-50-5051TCGA-64-1681TCGA-44-6147TCGA-75-6212TCGA-64-1677TCGA-80-5608TCGA-MP-A4TKTCGA-99-8025TCGA-62-8399TCGA-55-7907TCGA-69-8254TCGA-55-7728TCGA-55-A57BTCGA-50-6673TCGA-44-7670TCGA-86-7954TCGA-55-1595TCGA-05-5420TCGA-49-4488TCGA-50-5049TCGA-44-2656TCGA-05-4398TCGA-44-6145TCGA-55-8090TCGA-55-8203TCGA-55-8506TCGA-05-4244TCGA-91-6848TCGA-49-4490TCGA-05-5429TCGA-49-AARRTCGA-55-8092TCGA-86-8279TCGA-49-AAR4TCGA-93-A4JNTCGA-78-7167TCGA-78-8662TCGA-78-7159TCGA-49-6743TCGA-86-6562TCGA-64-5779TCGA-62-8398TCGA-95-A4VPTCGA-50-8460TCGA-55-7994TCGA-44-6777TCGA-99-8032TCGA-44-3918TCGA-78-8655TCGA-75-6206TCGA-44-2657TCGA-86-A4D0TCGA-55-8512TCGA-78-7542TCGA-44-2665TCGA-78-7143TCGA-05-4433TCGA-55-8087TCGA-L9-A7SVTCGA-J2-A4AGTCGA-44-7659TCGA-NJ-A55RTCGA-38-A44FTCGA-97-8171TCGA-38-4625TCGA-55-7227TCGA-64-1678TCGA-55-6968TCGA-55-6543TCGA-99-8028TCGA-55-8091TCGA-91-8497TCGA-55-A48ZTCGA-75-7030TCGA-75-6214TCGA-78-7149TCGA-05-4417TCGA-97-A4M7TCGA-MP-A4SWTCGA-62-8402TCGA-97-A4M1TCGA-55-8507TCGA-55-7914TCGA-69-A59KTCGA-44-7672TCGA-50-6594TCGA-78-7148TCGA-MP-A4T2TCGA-55-6979TCGA-78-7537TCGA-50-5066TCGA-73-4658TCGA-44-7661TCGA-86-6851TCGA-MP-A4T6TCGA-97-A4M6 to numeric",
     "traceback": [
      "\u001b[0;31m\u001b[0m",
      "\u001b[0;31mTypeError\u001b[0mTraceback (most recent call last)",
      "\u001b[0;32m<ipython-input-171-6cf35abeb7f9>\u001b[0m in \u001b[0;36m<module>\u001b[0;34m()\u001b[0m\n\u001b[1;32m      3\u001b[0m \u001b[0;34m\u001b[0m\u001b[0m\n\u001b[1;32m      4\u001b[0m \u001b[0mnetwork\u001b[0m \u001b[0;34m=\u001b[0m \u001b[0mmiRNATargetNetwork\u001b[0m\u001b[0;34m(\u001b[0m\u001b[0mthreshold\u001b[0m\u001b[0;34m=\u001b[0m\u001b[0;36m0.6\u001b[0m\u001b[0;34m)\u001b[0m\u001b[0;34m\u001b[0m\u001b[0m\n\u001b[0;32m----> 5\u001b[0;31m \u001b[0mnetwork\u001b[0m\u001b[0;34m.\u001b[0m\u001b[0mtrain\u001b[0m\u001b[0;34m(\u001b[0m\u001b[0mmiRNAs_A\u001b[0m\u001b[0;34m=\u001b[0m\u001b[0mmirna_tumor\u001b[0m\u001b[0;34m,\u001b[0m \u001b[0mtargets_A\u001b[0m\u001b[0;34m=\u001b[0m\u001b[0mgene_exp_tumor\u001b[0m\u001b[0;34m,\u001b[0m \u001b[0mmiRNAs_B\u001b[0m\u001b[0;34m=\u001b[0m\u001b[0mmirna_normal\u001b[0m\u001b[0;34m,\u001b[0m \u001b[0mtargets_B\u001b[0m\u001b[0;34m=\u001b[0m\u001b[0mgene_exp_normal\u001b[0m\u001b[0;34m)\u001b[0m\u001b[0;34m\u001b[0m\u001b[0m\n\u001b[0m\u001b[1;32m      6\u001b[0m \u001b[0;32mprint\u001b[0m \u001b[0mnx\u001b[0m\u001b[0;34m.\u001b[0m\u001b[0mbipartite\u001b[0m\u001b[0;34m.\u001b[0m\u001b[0msets\u001b[0m\u001b[0;34m(\u001b[0m\u001b[0mnetwork\u001b[0m\u001b[0;34m.\u001b[0m\u001b[0mB\u001b[0m\u001b[0;34m)\u001b[0m\u001b[0;34m\u001b[0m\u001b[0m\n",
      "\u001b[0;32m/home/jonny2/PycharmProjects/assn-miRNA-LUAD/src/models/miRNA_target_network.py\u001b[0m in \u001b[0;36mtrain\u001b[0;34m(self, miRNAs_A, targets_A, miRNAs_B, targets_B)\u001b[0m\n\u001b[1;32m     34\u001b[0m         \u001b[0;32mfor\u001b[0m \u001b[0mm\u001b[0m \u001b[0;32min\u001b[0m \u001b[0mmiRNAs\u001b[0m\u001b[0;34m:\u001b[0m\u001b[0;34m\u001b[0m\u001b[0m\n\u001b[1;32m     35\u001b[0m             \u001b[0;32mfor\u001b[0m \u001b[0mt\u001b[0m \u001b[0;32min\u001b[0m \u001b[0mtargets\u001b[0m\u001b[0;34m:\u001b[0m\u001b[0;34m\u001b[0m\u001b[0m\n\u001b[0;32m---> 36\u001b[0;31m                 \u001b[0mdys\u001b[0m \u001b[0;34m=\u001b[0m \u001b[0mnp\u001b[0m\u001b[0;34m.\u001b[0m\u001b[0mdot\u001b[0m\u001b[0;34m(\u001b[0m\u001b[0;34m(\u001b[0m\u001b[0mmiRNAs_A\u001b[0m\u001b[0;34m[\u001b[0m\u001b[0mm\u001b[0m\u001b[0;34m]\u001b[0m\u001b[0;34m-\u001b[0m\u001b[0mnp\u001b[0m\u001b[0;34m.\u001b[0m\u001b[0mmean\u001b[0m\u001b[0;34m(\u001b[0m\u001b[0mmiRNAs_A\u001b[0m\u001b[0;34m[\u001b[0m\u001b[0mm\u001b[0m\u001b[0;34m]\u001b[0m\u001b[0;34m)\u001b[0m\u001b[0;34m)\u001b[0m\u001b[0;34m,\u001b[0m \u001b[0;34m(\u001b[0m\u001b[0mtargets_A\u001b[0m\u001b[0;34m[\u001b[0m\u001b[0mt\u001b[0m\u001b[0;34m]\u001b[0m\u001b[0;34m-\u001b[0m\u001b[0mnp\u001b[0m\u001b[0;34m.\u001b[0m\u001b[0mmean\u001b[0m\u001b[0;34m(\u001b[0m\u001b[0mtargets_A\u001b[0m\u001b[0;34m[\u001b[0m\u001b[0mt\u001b[0m\u001b[0;34m]\u001b[0m\u001b[0;34m)\u001b[0m\u001b[0;34m)\u001b[0m\u001b[0;34m)\u001b[0m\u001b[0;34m/\u001b[0m\u001b[0;34m(\u001b[0m\u001b[0;34m(\u001b[0m\u001b[0mn_A\u001b[0m\u001b[0;34m-\u001b[0m\u001b[0;36m1\u001b[0m\u001b[0;34m)\u001b[0m\u001b[0;34m*\u001b[0m\u001b[0mnp\u001b[0m\u001b[0;34m.\u001b[0m\u001b[0mstd\u001b[0m\u001b[0;34m(\u001b[0m\u001b[0mmiRNAs_A\u001b[0m\u001b[0;34m[\u001b[0m\u001b[0mm\u001b[0m\u001b[0;34m]\u001b[0m\u001b[0;34m)\u001b[0m\u001b[0;34m*\u001b[0m\u001b[0mnp\u001b[0m\u001b[0;34m.\u001b[0m\u001b[0mstd\u001b[0m\u001b[0;34m(\u001b[0m\u001b[0mtargets_A\u001b[0m\u001b[0;34m[\u001b[0m\u001b[0mt\u001b[0m\u001b[0;34m]\u001b[0m\u001b[0;34m)\u001b[0m\u001b[0;34m)\u001b[0m\u001b[0;31m \u001b[0m\u001b[0;31m\\\u001b[0m\u001b[0;34m\u001b[0m\u001b[0m\n\u001b[0m\u001b[1;32m     37\u001b[0m                       \u001b[0;34m-\u001b[0m \u001b[0mnp\u001b[0m\u001b[0;34m.\u001b[0m\u001b[0mdot\u001b[0m\u001b[0;34m(\u001b[0m\u001b[0;34m(\u001b[0m\u001b[0mmiRNAs_B\u001b[0m\u001b[0;34m[\u001b[0m\u001b[0mm\u001b[0m\u001b[0;34m]\u001b[0m\u001b[0;34m-\u001b[0m\u001b[0mnp\u001b[0m\u001b[0;34m.\u001b[0m\u001b[0mmean\u001b[0m\u001b[0;34m(\u001b[0m\u001b[0mmiRNAs_B\u001b[0m\u001b[0;34m[\u001b[0m\u001b[0mm\u001b[0m\u001b[0;34m]\u001b[0m\u001b[0;34m)\u001b[0m\u001b[0;34m)\u001b[0m\u001b[0;34m,\u001b[0m \u001b[0;34m(\u001b[0m\u001b[0mtargets_B\u001b[0m\u001b[0;34m[\u001b[0m\u001b[0mt\u001b[0m\u001b[0;34m]\u001b[0m\u001b[0;34m-\u001b[0m\u001b[0mnp\u001b[0m\u001b[0;34m.\u001b[0m\u001b[0mmean\u001b[0m\u001b[0;34m(\u001b[0m\u001b[0mtargets_B\u001b[0m\u001b[0;34m[\u001b[0m\u001b[0mt\u001b[0m\u001b[0;34m]\u001b[0m\u001b[0;34m)\u001b[0m\u001b[0;34m)\u001b[0m\u001b[0;34m)\u001b[0m\u001b[0;34m/\u001b[0m\u001b[0;34m(\u001b[0m\u001b[0;34m(\u001b[0m\u001b[0mn_B\u001b[0m\u001b[0;34m-\u001b[0m\u001b[0;36m1\u001b[0m\u001b[0;34m)\u001b[0m\u001b[0;34m*\u001b[0m\u001b[0mnp\u001b[0m\u001b[0;34m.\u001b[0m\u001b[0mstd\u001b[0m\u001b[0;34m(\u001b[0m\u001b[0mmiRNAs_B\u001b[0m\u001b[0;34m[\u001b[0m\u001b[0mm\u001b[0m\u001b[0;34m]\u001b[0m\u001b[0;34m)\u001b[0m\u001b[0;34m*\u001b[0m\u001b[0mnp\u001b[0m\u001b[0;34m.\u001b[0m\u001b[0mstd\u001b[0m\u001b[0;34m(\u001b[0m\u001b[0mtargets_B\u001b[0m\u001b[0;34m[\u001b[0m\u001b[0mt\u001b[0m\u001b[0;34m]\u001b[0m\u001b[0;34m)\u001b[0m\u001b[0;34m)\u001b[0m\u001b[0;34m\u001b[0m\u001b[0m\n\u001b[1;32m     38\u001b[0m                 \u001b[0;32mprint\u001b[0m \u001b[0mm\u001b[0m\u001b[0;34m,\u001b[0m \u001b[0;34m'-'\u001b[0m\u001b[0;34m,\u001b[0m \u001b[0mt\u001b[0m\u001b[0;34m,\u001b[0m\u001b[0;34m':'\u001b[0m\u001b[0;34m,\u001b[0m\u001b[0mdys\u001b[0m\u001b[0;34m\u001b[0m\u001b[0m\n",
      "\u001b[0;32m/opt/anaconda/lib/python2.7/site-packages/numpy/core/fromnumeric.pyc\u001b[0m in \u001b[0;36mmean\u001b[0;34m(a, axis, dtype, out, keepdims)\u001b[0m\n\u001b[1;32m   2935\u001b[0m         \u001b[0;32mtry\u001b[0m\u001b[0;34m:\u001b[0m\u001b[0;34m\u001b[0m\u001b[0m\n\u001b[1;32m   2936\u001b[0m             \u001b[0mmean\u001b[0m \u001b[0;34m=\u001b[0m \u001b[0ma\u001b[0m\u001b[0;34m.\u001b[0m\u001b[0mmean\u001b[0m\u001b[0;34m\u001b[0m\u001b[0m\n\u001b[0;32m-> 2937\u001b[0;31m             \u001b[0;32mreturn\u001b[0m \u001b[0mmean\u001b[0m\u001b[0;34m(\u001b[0m\u001b[0maxis\u001b[0m\u001b[0;34m=\u001b[0m\u001b[0maxis\u001b[0m\u001b[0;34m,\u001b[0m \u001b[0mdtype\u001b[0m\u001b[0;34m=\u001b[0m\u001b[0mdtype\u001b[0m\u001b[0;34m,\u001b[0m \u001b[0mout\u001b[0m\u001b[0;34m=\u001b[0m\u001b[0mout\u001b[0m\u001b[0;34m,\u001b[0m \u001b[0;34m**\u001b[0m\u001b[0mkwargs\u001b[0m\u001b[0;34m)\u001b[0m\u001b[0;34m\u001b[0m\u001b[0m\n\u001b[0m\u001b[1;32m   2938\u001b[0m         \u001b[0;32mexcept\u001b[0m \u001b[0mAttributeError\u001b[0m\u001b[0;34m:\u001b[0m\u001b[0;34m\u001b[0m\u001b[0m\n\u001b[1;32m   2939\u001b[0m             \u001b[0;32mpass\u001b[0m\u001b[0;34m\u001b[0m\u001b[0m\n",
      "\u001b[0;32m/opt/anaconda/lib/python2.7/site-packages/pandas/core/generic.pyc\u001b[0m in \u001b[0;36mstat_func\u001b[0;34m(self, axis, skipna, level, numeric_only, **kwargs)\u001b[0m\n\u001b[1;32m   5630\u001b[0m                                       skipna=skipna)\n\u001b[1;32m   5631\u001b[0m         return self._reduce(f, name, axis=axis, skipna=skipna,\n\u001b[0;32m-> 5632\u001b[0;31m                             numeric_only=numeric_only)\n\u001b[0m\u001b[1;32m   5633\u001b[0m \u001b[0;34m\u001b[0m\u001b[0m\n\u001b[1;32m   5634\u001b[0m     \u001b[0;32mreturn\u001b[0m \u001b[0mset_function_name\u001b[0m\u001b[0;34m(\u001b[0m\u001b[0mstat_func\u001b[0m\u001b[0;34m,\u001b[0m \u001b[0mname\u001b[0m\u001b[0;34m,\u001b[0m \u001b[0mcls\u001b[0m\u001b[0;34m)\u001b[0m\u001b[0;34m\u001b[0m\u001b[0m\n",
      "\u001b[0;32m/opt/anaconda/lib/python2.7/site-packages/pandas/core/series.pyc\u001b[0m in \u001b[0;36m_reduce\u001b[0;34m(self, op, name, axis, skipna, numeric_only, filter_type, **kwds)\u001b[0m\n\u001b[1;32m   2318\u001b[0m                                           'numeric_only.'.format(name))\n\u001b[1;32m   2319\u001b[0m             \u001b[0;32mwith\u001b[0m \u001b[0mnp\u001b[0m\u001b[0;34m.\u001b[0m\u001b[0merrstate\u001b[0m\u001b[0;34m(\u001b[0m\u001b[0mall\u001b[0m\u001b[0;34m=\u001b[0m\u001b[0;34m'ignore'\u001b[0m\u001b[0;34m)\u001b[0m\u001b[0;34m:\u001b[0m\u001b[0;34m\u001b[0m\u001b[0m\n\u001b[0;32m-> 2320\u001b[0;31m                 \u001b[0;32mreturn\u001b[0m \u001b[0mop\u001b[0m\u001b[0;34m(\u001b[0m\u001b[0mdelegate\u001b[0m\u001b[0;34m,\u001b[0m \u001b[0mskipna\u001b[0m\u001b[0;34m=\u001b[0m\u001b[0mskipna\u001b[0m\u001b[0;34m,\u001b[0m \u001b[0;34m**\u001b[0m\u001b[0mkwds\u001b[0m\u001b[0;34m)\u001b[0m\u001b[0;34m\u001b[0m\u001b[0m\n\u001b[0m\u001b[1;32m   2321\u001b[0m \u001b[0;34m\u001b[0m\u001b[0m\n\u001b[1;32m   2322\u001b[0m         return delegate._reduce(op=op, name=name, axis=axis, skipna=skipna,\n",
      "\u001b[0;32m/opt/anaconda/lib/python2.7/site-packages/pandas/core/nanops.pyc\u001b[0m in \u001b[0;36m_f\u001b[0;34m(*args, **kwargs)\u001b[0m\n\u001b[1;32m     48\u001b[0m             \u001b[0;32mtry\u001b[0m\u001b[0;34m:\u001b[0m\u001b[0;34m\u001b[0m\u001b[0m\n\u001b[1;32m     49\u001b[0m                 \u001b[0;32mwith\u001b[0m \u001b[0mnp\u001b[0m\u001b[0;34m.\u001b[0m\u001b[0merrstate\u001b[0m\u001b[0;34m(\u001b[0m\u001b[0minvalid\u001b[0m\u001b[0;34m=\u001b[0m\u001b[0;34m'ignore'\u001b[0m\u001b[0;34m)\u001b[0m\u001b[0;34m:\u001b[0m\u001b[0;34m\u001b[0m\u001b[0m\n\u001b[0;32m---> 50\u001b[0;31m                     \u001b[0;32mreturn\u001b[0m \u001b[0mf\u001b[0m\u001b[0;34m(\u001b[0m\u001b[0;34m*\u001b[0m\u001b[0margs\u001b[0m\u001b[0;34m,\u001b[0m \u001b[0;34m**\u001b[0m\u001b[0mkwargs\u001b[0m\u001b[0;34m)\u001b[0m\u001b[0;34m\u001b[0m\u001b[0m\n\u001b[0m\u001b[1;32m     51\u001b[0m             \u001b[0;32mexcept\u001b[0m \u001b[0mValueError\u001b[0m \u001b[0;32mas\u001b[0m \u001b[0me\u001b[0m\u001b[0;34m:\u001b[0m\u001b[0;34m\u001b[0m\u001b[0m\n\u001b[1;32m     52\u001b[0m                 \u001b[0;31m# we want to transform an object array\u001b[0m\u001b[0;34m\u001b[0m\u001b[0;34m\u001b[0m\u001b[0m\n",
      "\u001b[0;32m/opt/anaconda/lib/python2.7/site-packages/pandas/core/nanops.pyc\u001b[0m in \u001b[0;36mf\u001b[0;34m(values, axis, skipna, **kwds)\u001b[0m\n\u001b[1;32m    107\u001b[0m             \u001b[0;32mexcept\u001b[0m \u001b[0mException\u001b[0m\u001b[0;34m:\u001b[0m\u001b[0;34m\u001b[0m\u001b[0m\n\u001b[1;32m    108\u001b[0m                 \u001b[0;32mtry\u001b[0m\u001b[0;34m:\u001b[0m\u001b[0;34m\u001b[0m\u001b[0m\n\u001b[0;32m--> 109\u001b[0;31m                     \u001b[0mresult\u001b[0m \u001b[0;34m=\u001b[0m \u001b[0malt\u001b[0m\u001b[0;34m(\u001b[0m\u001b[0mvalues\u001b[0m\u001b[0;34m,\u001b[0m \u001b[0maxis\u001b[0m\u001b[0;34m=\u001b[0m\u001b[0maxis\u001b[0m\u001b[0;34m,\u001b[0m \u001b[0mskipna\u001b[0m\u001b[0;34m=\u001b[0m\u001b[0mskipna\u001b[0m\u001b[0;34m,\u001b[0m \u001b[0;34m**\u001b[0m\u001b[0mkwds\u001b[0m\u001b[0;34m)\u001b[0m\u001b[0;34m\u001b[0m\u001b[0m\n\u001b[0m\u001b[1;32m    110\u001b[0m                 \u001b[0;32mexcept\u001b[0m \u001b[0mValueError\u001b[0m \u001b[0;32mas\u001b[0m \u001b[0me\u001b[0m\u001b[0;34m:\u001b[0m\u001b[0;34m\u001b[0m\u001b[0m\n\u001b[1;32m    111\u001b[0m                     \u001b[0;31m# we want to transform an object array\u001b[0m\u001b[0;34m\u001b[0m\u001b[0;34m\u001b[0m\u001b[0m\n",
      "\u001b[0;32m/opt/anaconda/lib/python2.7/site-packages/pandas/core/nanops.pyc\u001b[0m in \u001b[0;36mnanmean\u001b[0;34m(values, axis, skipna)\u001b[0m\n\u001b[1;32m    297\u001b[0m         \u001b[0mdtype_count\u001b[0m \u001b[0;34m=\u001b[0m \u001b[0mdtype\u001b[0m\u001b[0;34m\u001b[0m\u001b[0m\n\u001b[1;32m    298\u001b[0m     \u001b[0mcount\u001b[0m \u001b[0;34m=\u001b[0m \u001b[0m_get_counts\u001b[0m\u001b[0;34m(\u001b[0m\u001b[0mmask\u001b[0m\u001b[0;34m,\u001b[0m \u001b[0maxis\u001b[0m\u001b[0;34m,\u001b[0m \u001b[0mdtype\u001b[0m\u001b[0;34m=\u001b[0m\u001b[0mdtype_count\u001b[0m\u001b[0;34m)\u001b[0m\u001b[0;34m\u001b[0m\u001b[0m\n\u001b[0;32m--> 299\u001b[0;31m     \u001b[0mthe_sum\u001b[0m \u001b[0;34m=\u001b[0m \u001b[0m_ensure_numeric\u001b[0m\u001b[0;34m(\u001b[0m\u001b[0mvalues\u001b[0m\u001b[0;34m.\u001b[0m\u001b[0msum\u001b[0m\u001b[0;34m(\u001b[0m\u001b[0maxis\u001b[0m\u001b[0;34m,\u001b[0m \u001b[0mdtype\u001b[0m\u001b[0;34m=\u001b[0m\u001b[0mdtype_sum\u001b[0m\u001b[0;34m)\u001b[0m\u001b[0;34m)\u001b[0m\u001b[0;34m\u001b[0m\u001b[0m\n\u001b[0m\u001b[1;32m    300\u001b[0m \u001b[0;34m\u001b[0m\u001b[0m\n\u001b[1;32m    301\u001b[0m     \u001b[0;32mif\u001b[0m \u001b[0maxis\u001b[0m \u001b[0;32mis\u001b[0m \u001b[0;32mnot\u001b[0m \u001b[0mNone\u001b[0m \u001b[0;32mand\u001b[0m \u001b[0mgetattr\u001b[0m\u001b[0;34m(\u001b[0m\u001b[0mthe_sum\u001b[0m\u001b[0;34m,\u001b[0m \u001b[0;34m'ndim'\u001b[0m\u001b[0;34m,\u001b[0m \u001b[0mFalse\u001b[0m\u001b[0;34m)\u001b[0m\u001b[0;34m:\u001b[0m\u001b[0;34m\u001b[0m\u001b[0m\n",
      "\u001b[0;32m/opt/anaconda/lib/python2.7/site-packages/pandas/core/nanops.pyc\u001b[0m in \u001b[0;36m_ensure_numeric\u001b[0;34m(x)\u001b[0m\n\u001b[1;32m    755\u001b[0m                 \u001b[0mx\u001b[0m \u001b[0;34m=\u001b[0m \u001b[0mcomplex\u001b[0m\u001b[0;34m(\u001b[0m\u001b[0mx\u001b[0m\u001b[0;34m)\u001b[0m\u001b[0;34m\u001b[0m\u001b[0m\n\u001b[1;32m    756\u001b[0m             \u001b[0;32mexcept\u001b[0m \u001b[0mException\u001b[0m\u001b[0;34m:\u001b[0m\u001b[0;34m\u001b[0m\u001b[0m\n\u001b[0;32m--> 757\u001b[0;31m                 \u001b[0;32mraise\u001b[0m \u001b[0mTypeError\u001b[0m\u001b[0;34m(\u001b[0m\u001b[0;34m'Could not convert %s to numeric'\u001b[0m \u001b[0;34m%\u001b[0m \u001b[0mstr\u001b[0m\u001b[0;34m(\u001b[0m\u001b[0mx\u001b[0m\u001b[0;34m)\u001b[0m\u001b[0;34m)\u001b[0m\u001b[0;34m\u001b[0m\u001b[0m\n\u001b[0m\u001b[1;32m    758\u001b[0m     \u001b[0;32mreturn\u001b[0m \u001b[0mx\u001b[0m\u001b[0;34m\u001b[0m\u001b[0m\n\u001b[1;32m    759\u001b[0m \u001b[0;34m\u001b[0m\u001b[0m\n",
      "\u001b[0;31mTypeError\u001b[0m: Could not convert TCGA-53-7813TCGA-49-6745TCGA-44-A47GTCGA-55-7910TCGA-97-7547TCGA-L4-A4E6TCGA-67-4679TCGA-55-8094TCGA-91-6831TCGA-55-7724TCGA-78-7147TCGA-44-6778TCGA-55-8206TCGA-78-7540TCGA-44-5645TCGA-67-6215TCGA-99-AA5RTCGA-73-A9RSTCGA-MP-A4T4TCGA-97-7552TCGA-78-7153TCGA-93-A4JOTCGA-44-6146TCGA-93-A4JPTCGA-93-7348TCGA-MP-A4TCTCGA-80-5607TCGA-J2-8194TCGA-78-7166TCGA-73-7499TCGA-49-6761TCGA-97-A4M5TCGA-62-A46OTCGA-78-7535TCGA-67-3774TCGA-MP-A4TJTCGA-MP-A4TITCGA-55-8299TCGA-62-8397TCGA-55-1594TCGA-86-8359TCGA-55-6972TCGA-44-2668TCGA-55-7574TCGA-05-4420TCGA-64-1679TCGA-97-8176TCGA-62-A46RTCGA-91-6828TCGA-L4-A4E5TCGA-05-4410TCGA-50-5932TCGA-78-8660TCGA-44-6774TCGA-55-8097TCGA-05-4390TCGA-75-6207TCGA-55-7913TCGA-55-8511TCGA-44-8117TCGA-38-4626TCGA-75-7027TCGA-97-7554TCGA-97-8552TCGA-91-6836TCGA-95-7562TCGA-44-2662TCGA-NJ-A55ATCGA-44-6775TCGA-55-6969TCGA-55-A492TCGA-55-A491TCGA-73-4676TCGA-L9-A8F4TCGA-91-A4BDTCGA-L9-A444TCGA-78-7163TCGA-69-7763TCGA-NJ-A4YGTCGA-05-4249TCGA-55-A4DGTCGA-86-7713TCGA-86-7711TCGA-44-A479TCGA-55-6970TCGA-55-6982TCGA-95-8039TCGA-86-8280TCGA-NJ-A4YFTCGA-50-5941TCGA-49-6744TCGA-55-A4DFTCGA-64-5778TCGA-62-8394TCGA-93-8067TCGA-44-2666TCGA-L9-A743TCGA-64-5774TCGA-97-A4M0TCGA-49-AARQTCGA-97-7546TCGA-55-8616TCGA-78-7146TCGA-93-7347TCGA-69-7760TCGA-44-A47FTCGA-78-7145TCGA-44-6776TCGA-05-4424TCGA-55-6981TCGA-49-4514TCGA-86-8669TCGA-05-4397TCGA-44-3919TCGA-44-7667TCGA-69-7765TCGA-MP-A4SVTCGA-05-4389TCGA-75-7025TCGA-50-6591TCGA-78-7536TCGA-99-7458TCGA-55-A48XTCGA-44-4112TCGA-55-8301TCGA-05-4415TCGA-49-4486TCGA-55-1592TCGA-69-7978TCGA-73-7498TCGA-62-A46PTCGA-44-5644TCGA-05-4434TCGA-95-7567TCGA-97-8547TCGA-MN-A4N1TCGA-50-5072TCGA-49-AAQVTCGA-50-5936TCGA-62-A470TCGA-J2-A4ADTCGA-49-AAR2TCGA-MN-A4N4TCGA-97-8172TCGA-50-5930TCGA-62-A472TCGA-91-6829TCGA-78-7150TCGA-55-8620TCGA-44-7671TCGA-50-5068TCGA-95-7948TCGA-69-7974TCGA-MP-A4THTCGA-67-6217TCGA-67-6216TCGA-97-A4M3TCGA-05-4430TCGA-55-7903TCGA-05-4432TCGA-55-8614TCGA-67-3771TCGA-49-4487TCGA-05-4427TCGA-50-5055TCGA-50-6593TCGA-53-7624TCGA-55-7570TCGA-MP-A5C7TCGA-67-3770TCGA-50-5935TCGA-62-A46VTCGA-44-8119TCGA-49-4512TCGA-49-4494TCGA-50-5944TCGA-64-1680TCGA-38-4631TCGA-55-6984TCGA-55-7725TCGA-55-1596TCGA-69-7764TCGA-49-AAR3TCGA-95-7039TCGA-78-7154TCGA-38-7271TCGA-05-4405TCGA-69-7979TCGA-97-8179TCGA-69-7980TCGA-49-6742TCGA-J2-8192TCGA-95-8494TCGA-50-5933TCGA-55-A490TCGA-44-3398TCGA-62-A46STCGA-44-8120TCGA-75-5122TCGA-97-A4M2TCGA-78-7155TCGA-NJ-A7XGTCGA-44-A47ATCGA-35-5375TCGA-L9-A5IPTCGA-55-6971TCGA-38-4630TCGA-55-8508TCGA-38-4629TCGA-55-7576TCGA-55-6712TCGA-05-4250TCGA-55-7281TCGA-62-A46YTCGA-55-8621TCGA-MP-A4T9TCGA-78-7161TCGA-55-7283TCGA-49-4507TCGA-75-6211TCGA-50-6595TCGA-86-8671TCGA-73-4662TCGA-35-3615TCGA-53-7626TCGA-05-5423TCGA-55-7911TCGA-86-7701TCGA-MP-A4T8TCGA-75-7031TCGA-55-7727TCGA-86-7955TCGA-35-4123TCGA-91-6849TCGA-44-5643TCGA-75-5147TCGA-97-7938TCGA-64-5815TCGA-05-4396TCGA-05-5425TCGA-78-7220TCGA-55-8089TCGA-69-7761TCGA-75-5146TCGA-55-8208TCGA-44-6144TCGA-NJ-A55OTCGA-86-8281TCGA-53-A4EZTCGA-38-4632TCGA-O1-A52JTCGA-05-4402TCGA-95-A4VNTCGA-86-A456TCGA-38-6178TCGA-49-AAR0TCGA-91-8499TCGA-55-6978TCGA-78-7158TCGA-35-4122TCGA-55-8505TCGA-71-6725TCGA-86-8668TCGA-62-A46UTCGA-44-A47BTCGA-97-8175TCGA-78-7160TCGA-55-8204TCGA-55-6985TCGA-44-A4SSTCGA-69-8255TCGA-86-7714TCGA-05-4395TCGA-97-8177TCGA-55-6983TCGA-86-A4P8TCGA-MP-A4SYTCGA-50-5942TCGA-MN-A4N5TCGA-80-5611TCGA-55-6986TCGA-97-7941TCGA-55-8205TCGA-MP-A4TFTCGA-S2-AA1ATCGA-62-8395TCGA-MP-A4TATCGA-44-7662TCGA-44-7660TCGA-55-7815TCGA-78-7633TCGA-44-2661TCGA-86-8075TCGA-86-8674TCGA-86-8054TCGA-49-AARETCGA-86-8358TCGA-67-3773TCGA-55-A494TCGA-86-8056TCGA-91-7771TCGA-86-8055TCGA-05-4422TCGA-49-4501TCGA-78-7162TCGA-69-8453TCGA-55-6642TCGA-49-4510TCGA-55-8096TCGA-55-8510TCGA-62-A471TCGA-44-2659TCGA-MP-A4T7TCGA-49-4505TCGA-75-6203TCGA-50-7109TCGA-55-6980TCGA-75-5126TCGA-J2-A4AETCGA-67-3772TCGA-49-AAR9TCGA-50-5931TCGA-49-6767TCGA-05-5715TCGA-64-5775TCGA-50-5045TCGA-55-A493TCGA-38-4627TCGA-44-6148TCGA-78-7152TCGA-55-8514TCGA-44-A4SUTCGA-44-2655TCGA-44-7669TCGA-05-4425TCGA-99-8033TCGA-86-A4JFTCGA-78-8648TCGA-05-4403TCGA-55-8619TCGA-50-5946TCGA-50-5939TCGA-91-8496TCGA-95-A4VKTCGA-05-4382TCGA-05-4418TCGA-55-8207TCGA-95-7043TCGA-86-7953TCGA-49-AAROTCGA-91-6847TCGA-71-8520TCGA-05-4384TCGA-78-8640TCGA-55-A48YTCGA-91-6835TCGA-50-5044TCGA-73-4675TCGA-73-4659TCGA-95-7944TCGA-L9-A50WTCGA-97-7553TCGA-L9-A443TCGA-50-6597TCGA-50-6592TCGA-83-5908TCGA-69-8253TCGA-55-8615TCGA-69-7973TCGA-55-5899TCGA-75-5125TCGA-55-7816TCGA-55-7573TCGA-97-8174TCGA-NJ-A4YITCGA-86-8673TCGA-78-7539TCGA-64-1676TCGA-86-8074TCGA-49-4506TCGA-55-8302TCGA-86-A4P7TCGA-MP-A4TDTCGA-86-8278TCGA-86-8672TCGA-50-8457TCGA-NJ-A4YPTCGA-NJ-A4YQTCGA-78-7156TCGA-05-4426TCGA-97-A4LXTCGA-49-AARNTCGA-55-7284TCGA-MP-A4TETCGA-38-4628TCGA-91-6830TCGA-86-8585TCGA-55-8085TCGA-95-7947TCGA-97-7937TCGA-44-3396TCGA-44-6779TCGA-55-7726TCGA-91-6840TCGA-55-7995TCGA-55-8513TCGA-75-6205TCGA-91-A4BCTCGA-86-8076TCGA-64-5781TCGA-4B-A93VTCGA-50-6590TCGA-50-8459TCGA-55-6987TCGA-05-5428TCGA-86-8073TCGA-93-A4JQTCGA-50-5051TCGA-64-1681TCGA-44-6147TCGA-75-6212TCGA-64-1677TCGA-80-5608TCGA-MP-A4TKTCGA-99-8025TCGA-62-8399TCGA-55-7907TCGA-69-8254TCGA-55-7728TCGA-55-A57BTCGA-50-6673TCGA-44-7670TCGA-86-7954TCGA-55-1595TCGA-05-5420TCGA-49-4488TCGA-50-5049TCGA-44-2656TCGA-05-4398TCGA-44-6145TCGA-55-8090TCGA-55-8203TCGA-55-8506TCGA-05-4244TCGA-91-6848TCGA-49-4490TCGA-05-5429TCGA-49-AARRTCGA-55-8092TCGA-86-8279TCGA-49-AAR4TCGA-93-A4JNTCGA-78-7167TCGA-78-8662TCGA-78-7159TCGA-49-6743TCGA-86-6562TCGA-64-5779TCGA-62-8398TCGA-95-A4VPTCGA-50-8460TCGA-55-7994TCGA-44-6777TCGA-99-8032TCGA-44-3918TCGA-78-8655TCGA-75-6206TCGA-44-2657TCGA-86-A4D0TCGA-55-8512TCGA-78-7542TCGA-44-2665TCGA-78-7143TCGA-05-4433TCGA-55-8087TCGA-L9-A7SVTCGA-J2-A4AGTCGA-44-7659TCGA-NJ-A55RTCGA-38-A44FTCGA-97-8171TCGA-38-4625TCGA-55-7227TCGA-64-1678TCGA-55-6968TCGA-55-6543TCGA-99-8028TCGA-55-8091TCGA-91-8497TCGA-55-A48ZTCGA-75-7030TCGA-75-6214TCGA-78-7149TCGA-05-4417TCGA-97-A4M7TCGA-MP-A4SWTCGA-62-8402TCGA-97-A4M1TCGA-55-8507TCGA-55-7914TCGA-69-A59KTCGA-44-7672TCGA-50-6594TCGA-78-7148TCGA-MP-A4T2TCGA-55-6979TCGA-78-7537TCGA-50-5066TCGA-73-4658TCGA-44-7661TCGA-86-6851TCGA-MP-A4T6TCGA-97-A4M6 to numeric"
     ],
     "output_type": "error"
    }
   ],
   "source": [
    "from src.models.miRNA_target_network import miRNATargetNetwork\n",
    "import networkx as nx\n",
    "\n",
    "network = miRNATargetNetwork(threshold=0.6)\n",
    "network.train(miRNAs_A=mirna_tumor, targets_A=gene_exp_tumor, miRNAs_B=mirna_normal, targets_B=gene_exp_normal)\n",
    "print nx.bipartite.sets(network.B)"
   ]
  },
  {
   "cell_type": "code",
   "execution_count": 173,
   "metadata": {
    "collapsed": true
   },
   "outputs": [
    {
     "data": {
      "text/plain": [
       "(set(),\n {'MTVR2',\n  'ATRX',\n  'LOC441204',\n  'TCOF1',\n  'NSRP1',\n  'LOC441208',\n  'SPPL3',\n  'OPA3',\n  'OPA1',\n  'hsa-mir-4707',\n  'hsa-mir-4706',\n  'hsa-mir-4705',\n  'hsa-mir-4704',\n  'hsa-mir-4703',\n  'hsa-mir-4701',\n  'hsa-mir-4700',\n  'ITGA1',\n  'ITGA2',\n  'ITGA3',\n  'ITGA4',\n  'ITGA5',\n  'hsa-mir-4709',\n  'hsa-mir-4708',\n  'TRHR',\n  'LOC100132288',\n  'UFSP1',\n  'UFSP2',\n  'FAM212B',\n  'FAM212A',\n  'CHST9',\n  'CHST8',\n  'CHST1',\n  'CHST3',\n  'CHST2',\n  'CHST5',\n  'CHST4',\n  'CHST7',\n  'CHST6',\n  'ITGAX',\n  'BCL2A1',\n  'ITGAV',\n  'PREP',\n  'ITGAL',\n  'ITGAM',\n  'ITGAD',\n  'SPR',\n  'IGF2R',\n  'SLC36A4',\n  'SLC36A3',\n  'CKS1B',\n  'SLC36A1',\n  'C14orf119',\n  'ART1',\n  'ART3',\n  'ART5',\n  'ART4',\n  'hsa-mir-3168',\n  'hsa-mir-3169',\n  'hsa-mir-3166',\n  'hsa-mir-3167',\n  'hsa-mir-3164',\n  'hsa-mir-3165',\n  'hsa-mir-3162',\n  'hsa-mir-3163',\n  'hsa-mir-3161',\n  'MGC57346',\n  'CRTAM',\n  'CADPS2',\n  'RLF',\n  'CRTAP',\n  'MDH1',\n  'HPYR1',\n  'CPEB4',\n  'CPEB1',\n  'CPEB3',\n  'SBSPON',\n  'SRBD1',\n  'ABAT',\n  'hsa-mir-450a-1',\n  'hsa-mir-450a-2',\n  'POU5F1B',\n  'PHOX2A',\n  'PHOX2B',\n  'UPK2',\n  'CFH',\n  'CFI',\n  'ANKFY1',\n  'CFB',\n  'CFP',\n  'AAAS',\n  'SIDT1',\n  'SIDT2',\n  'PISRT1',\n  'LOC283070',\n  'SAGE1',\n  'hsa-mir-4436a',\n  'AAGAB',\n  'C4orf19',\n  'C4orf17',\n  'NBEAP1',\n  'ABCE1',\n  'hsa-mir-194-1',\n  'hsa-mir-194-2',\n  'hsa-mir-513c',\n  'hsa-mir-513b',\n  'MSL3P1',\n  'C15orf26',\n  'C15orf27',\n  'ZNF117',\n  'ZNF114',\n  'ZNF112',\n  'SEZ6L',\n  'ITGA8',\n  'ITGA9',\n  'PRKAR2A',\n  'PRKAR2B',\n  'MAGT1',\n  'TMEM200B',\n  'ITGA2B',\n  'PHACTR4',\n  'PHACTR1',\n  'NLGN3',\n  'PHACTR3',\n  'NUP107',\n  'KRTAP2-2',\n  'KRTAP2-1',\n  'KRTAP2-4',\n  'ITGA6',\n  'ITGA7',\n  'SBF1P1',\n  'VMP1',\n  'NR1D1',\n  'NR1D2',\n  'LOC100132287',\n  'MLANA',\n  'OGFR',\n  'PTCH2',\n  'PTCH1',\n  'TIMM44',\n  'RAD9B',\n  'RAD9A',\n  'ERGIC2',\n  'ERGIC3',\n  'ERGIC1',\n  'B3GAT3',\n  'B3GAT2',\n  'B3GAT1',\n  'CALM2',\n  'CALM3',\n  'TTC30B',\n  'SPG20',\n  'GSDMA',\n  'GSDMB',\n  'GSDMC',\n  'GSDMD',\n  'UPK1A',\n  'UPK1B',\n  'DLGAP2',\n  'DLGAP3',\n  'DLGAP1',\n  'DLGAP4',\n  'DLGAP5',\n  'CYP27B1',\n  'OIP5',\n  'FBXL19',\n  'PTPN18',\n  'PTPN13',\n  'PTPN12',\n  'PTPN11',\n  'PTPN14',\n  'LYAR',\n  'C2orf81',\n  'C2orf80',\n  'DMRTB1',\n  'C2orf82',\n  'SNORA84',\n  'C2orf88',\n  'MSMP',\n  'MZB1',\n  'CDK2',\n  'HLA-DQB1',\n  'MSMB',\n  'HLA-DQB2',\n  'CDK7',\n  'FOXS1',\n  'CDK9',\n  'MCHR2',\n  'hsa-mir-3179-4',\n  'hsa-mir-3179-1',\n  'hsa-mir-3179-3',\n  'hsa-mir-3179-2',\n  'CAMKK2',\n  'CAMKK1',\n  'LOC84856',\n  'LOC441046',\n  'LOC100128640',\n  'RPL36AL',\n  'CHMP7',\n  'CHMP6',\n  'CHMP5',\n  'OR52N4',\n  'OR52N5',\n  'OR52N2',\n  'OR52N1',\n  'LY6G6C',\n  'HOXA13',\n  'LY6G6E',\n  'HOXA11',\n  'HOXA10',\n  'GALNTL5',\n  'GALNTL6',\n  'hsa-mir-448',\n  'KRTAP11-1',\n  'TDG',\n  'HN1',\n  'LOC729467',\n  'ENTPD6',\n  'TBX2',\n  'LRRC27',\n  'LRRC26',\n  'LRRC25',\n  'LRRC24',\n  'LRRC23',\n  'MPDU1',\n  'LRRC20',\n  'LRRC29',\n  'LRRC28',\n  'GCNT4',\n  'GCNT7',\n  'GCNT1',\n  'GCNT3',\n  'GCNT2',\n  'LPCAT4',\n  'LPCAT2',\n  'LPCAT3',\n  'LPCAT1',\n  'TAGLN',\n  'CCDC178',\n  'DLEC1',\n  'ALPP',\n  'CCDC170',\n  'CCDC171',\n  'CCDC172',\n  'CCDC173',\n  'CCDC174',\n  'CCDC176',\n  'CCDC177',\n  'PDK1',\n  'PDK3',\n  'PDK2',\n  'EBP',\n  'PDK4',\n  'LNPEP',\n  'ALPI',\n  'SEC61A1',\n  'SEC61A2',\n  'ALPL',\n  'PECR',\n  'HAS2-AS1',\n  'LOC96610',\n  'DDIT3',\n  'DDIT4',\n  'RIIAD1',\n  'OR5R1',\n  'GOLGA8G',\n  'GOLGA8F',\n  'GOLGA8A',\n  'GOLGA8B',\n  'CT45A1',\n  'CT45A3',\n  'CT45A2',\n  'CT45A5',\n  'CT45A4',\n  'CT45A6',\n  'VMO1',\n  'ATP5C1',\n  'LINC00320',\n  'NPC2',\n  'NPC1',\n  'LINC00323',\n  'LINC00324',\n  'C3orf58',\n  'RAB3GAP2',\n  'BHLHA15',\n  'RAB3GAP1',\n  'C3orf52',\n  'DAG1',\n  'ETHE1',\n  'RER1',\n  'KDM1A',\n  'KDM1B',\n  'hsa-mir-508',\n  'SLC36A2',\n  'OR1S1',\n  'OR1S2',\n  'FCER1G',\n  'BTG4',\n  'BTG3',\n  'BTG2',\n  'BTG1',\n  'SRD5A3',\n  'SRD5A2',\n  'SRD5A1',\n  'GGA1',\n  'GGA3',\n  'GGA2',\n  'FHOD1',\n  'FHOD3',\n  'C4orf6',\n  'GJC2',\n  'C4orf3',\n  'GJC1',\n  'PSMB9',\n  'PSMB8',\n  'PSMB7',\n  'PSMB6',\n  'PSMB5',\n  'ARTN',\n  'PSMB3',\n  'PSMB2',\n  'PSMB1',\n  'LMBR1L',\n  'PNMA1',\n  'TDGF1',\n  'SNORD115-16',\n  'SNORD115-17',\n  'SNORD115-10',\n  'LTN1',\n  'TRIML2',\n  'C9orf142',\n  'TRIML1',\n  'NACC2',\n  'VPS13D',\n  'NACC1',\n  'VPS13A',\n  'SH3KBP1',\n  'VPS13C',\n  'VPS13B',\n  'BEX5',\n  'BEX4',\n  'BEX2',\n  'BEX1',\n  'TMEM160',\n  'TMEM163',\n  'TMEM165',\n  'TMEM164',\n  'EVI2A',\n  'TMEM168',\n  'EVI2B',\n  'FOXN1',\n  'FOXN2',\n  'FOXN3',\n  'NICN1',\n  'COL14A1',\n  'IFFO1',\n  'TAP2',\n  'SNAP91',\n  'C11orf31',\n  'C11orf30',\n  'LOC284276',\n  'MACROD2',\n  'MACROD1',\n  'SEP15',\n  'LOC255167',\n  'KRR1',\n  'FAM64A',\n  'LOC100130015',\n  'FAM92A1',\n  'C8orf48',\n  'C8orf46',\n  'C8orf44',\n  'TP53I3',\n  'MB',\n  'SLC18A3',\n  'SLC18A2',\n  'SLC18A1',\n  'RALBP1',\n  'B3GALT5-AS1',\n  'ZNF831',\n  'ZNF830',\n  'ZNF835',\n  'ZNF837',\n  'ZNF836',\n  'ZNF839',\n  'LRIF1',\n  'FAM91A1',\n  'hsa-mir-3910-2',\n  'hsa-mir-3910-1',\n  'SUGCT',\n  'hsa-mir-2861',\n  'CPEB2',\n  'TSPY3',\n  'TSPY2',\n  'TSPY1',\n  'RAB33A',\n  'SLC17A9',\n  'RAB33B',\n  'SLC17A4',\n  'SLC17A5',\n  'SLC17A6',\n  'SLC17A7',\n  'SLC17A1',\n  'SLC17A2',\n  'SLC17A3',\n  'C16orf58',\n  'C16orf59',\n  'C16orf52',\n  'C16orf54',\n  'ITCH',\n  'CHMP4A',\n  'CHMP4B',\n  'CHMP4C',\n  'COBLL1',\n  'TMEM255B',\n  'TMEM255A',\n  'ST5',\n  'ST7',\n  'ZNF304',\n  'STH',\n  'ZNF302',\n  'ZNF300',\n  'STS',\n  'HOXB13',\n  'hsa-mir-4419b',\n  'hsa-mir-4419a',\n  'TP53TG1',\n  'PPP3CA',\n  'PPP3CB',\n  'PPP3CC',\n  'LIF',\n  'RPL12',\n  'NPY6R',\n  'RPL18',\n  'ADRA2A',\n  'ADRA2B',\n  'ADRA2C',\n  'TEX26',\n  'TEX28',\n  'TEX29',\n  'SYT8',\n  'SYT9',\n  'MTCH2',\n  'MTCH1',\n  'SYT1',\n  'SYT2',\n  'SYT3',\n  'SYT4',\n  'SYT5',\n  'SYT6',\n  'SYT7',\n  'TIAL1',\n  'FUBP3',\n  'FUBP1',\n  'SCHIP1',\n  'CTBP1-AS2',\n  'MARCO',\n  'SAP30',\n  'NBL1',\n  'HSFX2',\n  'HSFX1',\n  'DRC7',\n  'DRC1',\n  'C1orf53',\n  'C1orf52',\n  'C1orf50',\n  'C1orf56',\n  'C1orf54',\n  'MARC1',\n  'MARC2',\n  'LOC100128023',\n  'SMPD4',\n  'SMPD1',\n  'SMPD3',\n  'SMPD2',\n  'BRIP1',\n  'PDE11A',\n  'TTC28',\n  'TTC29',\n  'TTC24',\n  'TTC25',\n  'TTC26',\n  'TTC27',\n  'PATL2',\n  'TTC22',\n  'PATL1',\n  'hsa-mir-320b-1',\n  'hsa-mir-320b-2',\n  'ENO1',\n  'NPY2R',\n  'ENO3',\n  'LOC728613',\n  'CFD',\n  'OBSCN',\n  'SRRD',\n  'MIR31HG',\n  'MCL1',\n  'SORBS1',\n  'SORBS3',\n  'SORBS2',\n  'ODC1',\n  'IL18RAP',\n  'EOMES',\n  'hsa-mir-4424',\n  'PDSS2',\n  'CGB2',\n  'FKBP14',\n  'FKBP15',\n  'UBE2J1',\n  'FKBP10',\n  'FKBP11',\n  'FBXO10',\n  'FBXO11',\n  'FBXO16',\n  'FBXO17',\n  'FBXO15',\n  'SFTA3',\n  'SFTA2',\n  'SNORD48',\n  'CNGB1',\n  'KIAA2013',\n  'CNGB3',\n  'SNORD47',\n  'BCLAF1',\n  'SNORD44',\n  'PLA2G6',\n  'PLA2G7',\n  'PLA2G5',\n  'PLA2G3',\n  'GDPGP1',\n  'KRTAP1-1',\n  'KRTAP1-3',\n  'KRTAP1-5',\n  'CCDC70',\n  'CCDC71',\n  'CCDC78',\n  'CCDC79',\n  'HIST3H2BB',\n  'SNORD4B',\n  'SNORD4A',\n  'GHITM',\n  'LOC100127888',\n  'CSHL1',\n  'FKBP1B',\n  'FKBP1A',\n  'MAP10',\n  'LGALS9C',\n  'LGALS9B',\n  'UNC50',\n  'NKAIN4',\n  'NKAIN3',\n  'NKAIN2',\n  'NKAIN1',\n  'MAP1A',\n  'MAP1B',\n  'IGSF9B',\n  'UNC5B',\n  'UNC5C',\n  'VGF',\n  'UNC5A',\n  'UNC5D',\n  'MAP1S',\n  'CCP110',\n  'ANKRD19P',\n  'hsa-mir-8071-1',\n  'hsa-mir-8071-2',\n  'hsa-mir-7852',\n  'hsa-mir-7853',\n  'hsa-mir-7850',\n  'hsa-mir-7851',\n  'hsa-mir-7856',\n  'hsa-mir-7854',\n  'hsa-mir-7855',\n  'RPL18A',\n  'EHMT1-IT1',\n  'CLEC18A',\n  'CLEC18C',\n  'CLEC18B',\n  'MFSD11',\n  'SDR42E1',\n  'ALOX12B',\n  'EPB41L1',\n  'PPCDC',\n  'EPB41L3',\n  'EPB41L2',\n  'EPB41L5',\n  'ACSS3',\n  'ACSS2',\n  'ACSS1',\n  'KIDINS220',\n  'PCOLCE2',\n  'DFNA5',\n  'MAGEH1',\n  'WNT3',\n  'WNT2',\n  'WNT1',\n  'LRRN4',\n  'AGXT',\n  'WNT6',\n  'LRRN1',\n  'WNT4',\n  'HOXA11-AS',\n  'RNF175',\n  'RNF170',\n  'hsa-mir-6819',\n  'hsa-mir-6818',\n  'ZBTB7A',\n  'ZBTB7C',\n  'ZBTB7B',\n  'hsa-mir-6811',\n  'hsa-mir-6810',\n  'hsa-mir-6813',\n  'hsa-mir-6812',\n  'hsa-mir-6815',\n  'hsa-mir-6814',\n  'hsa-mir-6817',\n  'hsa-mir-6816',\n  'PCNP',\n  'PCNT',\n  'PCNX',\n  'UTY',\n  'LOC92659',\n  'PACRG',\n  'PCAT4',\n  'DNPH1',\n  'UFD1L',\n  'ILF3',\n  'ILF2',\n  'hsa-mir-1973',\n  'LOC100271722',\n  'BOK',\n  'BOC',\n  'GAGE8',\n  'DENND2A',\n  'LOC100133920',\n  'DENND2D',\n  'GAGE1',\n  'PPT1',\n  'PPT2',\n  'GAGE4',\n  'INPP4A',\n  'DEFB125',\n  'SAFB',\n  'TRNP1',\n  'YBX3P1',\n  'PPP1R26',\n  'PPP1R27',\n  'PPP1R21',\n  'NGLY1',\n  'LMX1A',\n  'ZCCHC24',\n  'LMX1B',\n  'OR6V1',\n  'MRGPRF',\n  'ETV3L',\n  'KCP',\n  'CNR1',\n  'GBX2',\n  'GBX1',\n  'CNR2',\n  'GNL3L',\n  'LOC606724',\n  'OTULIN',\n  'TGS1',\n  'ANKS1B',\n  'ANKS1A',\n  'ADAM10',\n  'ADAM11',\n  'ADAM12',\n  'ADAM15',\n  'ADAM17',\n  'ADAM18',\n  'ADAM19',\n  'MEPE',\n  'HAGH',\n  'G3BP1',\n  'OPALIN',\n  'U2AF1L4',\n  'NDEL1',\n  'SHANK3',\n  'SHANK2',\n  'SHANK1',\n  'PLAC8L1',\n  'PCSK9',\n  'PCSK2',\n  'hsa-mir-675',\n  'hsa-mir-676',\n  'PCSK1',\n  'PCSK6',\n  'hsa-mir-671',\n  'PCSK4',\n  'PCSK5',\n  'SP140L',\n  'LOC153328',\n  'TC2N',\n  'PLTP',\n  'FKBP9P1',\n  'DPYSL4',\n  'SETBP1',\n  'SAMSN1',\n  'FAM151B',\n  'FAM151A',\n  'SNORD91B',\n  'SNORD91A',\n  'PAXIP1',\n  'VPRBP',\n  'RPL13AP6',\n  'RPL13AP3',\n  'USE1',\n  'CNRIP1',\n  'LOC642929',\n  'CYP1B1-AS1',\n  'CDC34',\n  'CDC37',\n  'OR2T34',\n  'OR2T35',\n  'OR2T33',\n  'SPIN2A',\n  'SPIN2B',\n  'PGLS',\n  'UNKL',\n  'MRPL42P5',\n  'CCDC42B',\n  'DIAPH2',\n  'VPS25',\n  'DYNC1I1',\n  'VPS28',\n  'DYNC1I2',\n  'TAS2R50',\n  'SKA3',\n  'SKA2',\n  'GRID2IP',\n  'PCDH20',\n  'C6orf89',\n  'PPP1R13B',\n  'PPP1R13L',\n  'TMC5',\n  'LOC100128239',\n  'WNT10A',\n  'WNT10B',\n  'HSP90B3P',\n  'COX6A2',\n  'DMC1',\n  'OR4A47',\n  'PYY',\n  'TM4SF18',\n  'TM4SF19',\n  'POU3F3',\n  'POU3F2',\n  'POU3F1',\n  'LAMB1',\n  'LAMB3',\n  'LAMB2',\n  'CYSLTR2',\n  'LAMB4',\n  'CYSLTR1',\n  'MPHOSPH9',\n  'MPHOSPH8',\n  'SNORD115-1',\n  'MPHOSPH6',\n  'ASTN2',\n  'ASTN1',\n  'RSPH9',\n  'MGA',\n  'LOC729156',\n  'MGP',\n  'ADSS',\n  'SAMD4A',\n  'ADSL',\n  'SAMD4B',\n  'GAS2L1',\n  'GAS2L3',\n  'GAS2L2',\n  'HPGDS',\n  'LOC646498',\n  'UOX',\n  'HN1L',\n  'ZW10',\n  'RSRC1',\n  'RSRC2',\n  'CPN2',\n  'CPN1',\n  'TP73-AS1',\n  'PYY2',\n  'CDADC1',\n  'hsa-mir-5692c-2',\n  'hsa-mir-5692c-1',\n  'GABBR1',\n  'NLGN2',\n  'OR2K2',\n  'ARHGAP44',\n  'CASQ1',\n  'CASQ2',\n  'NLGN1',\n  'TNNT1',\n  'CDC42EP3',\n  'CDC42EP2',\n  'CDC42EP1',\n  'CDC42EP5',\n  'CDC42EP4',\n  'GPRC6A',\n  'TBKBP1',\n  'ABI2',\n  'ABI3',\n  'ABI1',\n  'SLC22A4',\n  'TESC',\n  'OTP',\n  'PITPNC1',\n  'KRT39',\n  'KRT38',\n  'KRT31',\n  'KRT32',\n  'KRT35',\n  'KRT34',\n  'KRT37',\n  'KRT36',\n  'IL21',\n  'IL20',\n  'IL22',\n  'IL25',\n  'IL24',\n  'IL27',\n  'IL26',\n  'TIMP1',\n  'SMARCB1',\n  'CLINT1',\n  'AHRR',\n  'hsa-mir-3687-1',\n  'hsa-mir-3687-2',\n  'ADCY4',\n  'ADCY5',\n  'ADCY6',\n  'ADCY7',\n  'ADCY1',\n  'ADCY2',\n  'ADCY3',\n  'hsa-mir-6724-2',\n  'hsa-mir-6724-3',\n  'hsa-mir-6724-1',\n  'ADCY8',\n  'ADCY9',\n  'hsa-mir-6724-4',\n  'NUCKS1',\n  'DDI2',\n  'DDI1',\n  'XRCC1',\n  'XRCC3',\n  'XRCC2',\n  'XRCC5',\n  'XRCC4',\n  'XRCC6',\n  'MEIS3',\n  'MEIS2',\n  'MEIS1',\n  'PCDHAC2',\n  'PCDHAC1',\n  'CTLA4',\n  'ESPNL',\n  'OR5AN1',\n  'ESPNP',\n  'DDX60',\n  'LOC100144604',\n  'LOC100144603',\n  'hsa-mir-1343',\n  'H2AFY2',\n  'ADCY10',\n  'OPN1MW',\n  'KCNA7',\n  'KCNA4',\n  'KCNA5',\n  'KCNA2',\n  'KCNA3',\n  'KCNA1',\n  'OPTN',\n  'BHMT',\n  'OPTC',\n  'MCCC2',\n  'LOC348840',\n  'hsa-mir-196b',\n  'hsa-mir-4260',\n  'hsa-mir-4261',\n  'hsa-mir-4262',\n  'hsa-mir-4263',\n  'hsa-mir-4264',\n  'hsa-mir-4265',\n  'hsa-mir-4266',\n  'hsa-mir-4267',\n  'hsa-mir-4268',\n  'hsa-mir-4269',\n  'ZDHHC3',\n  'PLA2G2A',\n  'PLA2G2C',\n  'PLA2G2E',\n  'PLA2G2D',\n  'PLA2G2F',\n  'OR8J3',\n  'OR8J1',\n  'CYFIP1',\n  'CYFIP2',\n  'LOC151658',\n  'GUSBP4',\n  'GUSBP1',\n  'GUSBP3',\n  'GUSBP2',\n  'LHPP',\n  'LOC284749',\n  'NUP188',\n  'SETMAR',\n  'GLT8D2',\n  'GLT8D1',\n  'LOC100216001',\n  'OR2C3',\n  'OR2C1',\n  'REG1A',\n  'REG1B',\n  'MRGPRD',\n  'MRGPRE',\n  'OSR2',\n  'MRGPRG',\n  'REG1P',\n  'HES1',\n  'HES2',\n  'BPNT1',\n  'BCL9',\n  'BCL6',\n  'BCL3',\n  'BCL2',\n  'NPEPL1',\n  'CLMN',\n  'CLMP',\n  'MTM1',\n  'SERPINB9',\n  'CSNK1G3',\n  'CSNK1G1',\n  'SERPINB1',\n  'SERPINB3',\n  'SERPINB2',\n  'SERPINB5',\n  'SERPINB4',\n  'SERPINB7',\n  'SERPINB6',\n  'FAM76B',\n  'FAM76A',\n  'EXD3',\n  'EXD2',\n  'EXD1',\n  'ELP6',\n  'ELP5',\n  'ELP4',\n  'ELP3',\n  'ELP2',\n  'SPRYD3',\n  'SPRYD4',\n  'KLHDC9',\n  'KLHDC4',\n  'KLHDC2',\n  'KLHDC3',\n  'KLHDC1',\n  'ASXL1',\n  'RNASET2',\n  'ASXL3',\n  'ASXL2',\n  'HDDC2',\n  'HDDC3',\n  'ZNF252P-AS1',\n  'hsa-mir-7106',\n  'hsa-mir-7107',\n  'hsa-mir-7108',\n  'hsa-mir-7109',\n  'DONSON',\n  'SPATA13',\n  'SPATA12',\n  'SPATA17',\n  'SPATA16',\n  'COL18A1-AS1',\n  'SPATA18',\n  'hsa-mir-208b',\n  'hsa-mir-208a',\n  'VCP',\n  'CEP170P1',\n  'TRIM53AP',\n  'HLA-J',\n  'CROCCP2',\n  'RINL',\n  'HFE',\n  'GPR144',\n  'GPR146',\n  'LOC154449',\n  'GPR141',\n  'GPR142',\n  'GPR143',\n  'HLA-L',\n  'GPR148',\n  'GPR149',\n  'HLA-C',\n  'TRAK2',\n  'CITED2',\n  'CITED1',\n  'SLC7A4',\n  'CITED4',\n  ...})"
      ]
     },
     "execution_count": 173,
     "metadata": {},
     "output_type": "execute_result"
    }
   ],
   "source": [
    "nx.bipartite.sets(network.B)"
   ]
  },
  {
   "cell_type": "markdown",
   "metadata": {},
   "source": [
    "## Loading miRecords experimentally validated miRNA-targets interactions"
   ]
  },
  {
   "cell_type": "code",
   "execution_count": 157,
   "metadata": {
    "collapsed": false
   },
   "outputs": [],
   "source": [
    "# Load data frame from file\n",
    "miRecords_df = pandas.read_table(os.path.join(ROOT_DIR, 'data/external/miRecords_version4.tsv'), delimiter='\\t')\n",
    "\n",
    "# Select only homo sapiens miRNA-target pairs\n",
    "miRecords_df = miRecords_df[(miRecords_df[\"miRNA_species\"] == \"Homo sapiens\") &\n",
    "                            (miRecords_df[\"Target gene_species_scientific\"] == \"Homo sapiens\")]\n",
    "miRecords_df = miRecords_df[[\"miRNA_mature_ID\", \"Target gene_name\"]]\n",
    "\n",
    "# Standardize miRNA and gene symbols\n",
    "miRecords_df['miRNA_mature_ID'] = miRecords_df['miRNA_mature_ID'].str.lower()\n",
    "miRecords_df['miRNA_mature_ID'] = miRecords_df['miRNA_mature_ID'].str.replace('*', '')\n",
    "miRecords_df['Target gene_name'] = miRecords_df['Target gene_name'].str.upper()\n",
    "\n",
    "# Filter miRNA-target pairs to only miRNA's included in miRNA expression data, same for gene targets \n",
    "miRecords_df = miRecords_df[miRecords_df[\"miRNA_mature_ID\"].isin(mirna_list) &\n",
    "                            miRecords_df[\"Target gene_name\"].isin(gene_symbols)]\n",
    "\n",
    "# miRecords_df"
   ]
  },
  {
   "cell_type": "code",
   "execution_count": 140,
   "metadata": {},
   "outputs": [],
   "source": [
    ""
   ]
  },
  {
   "cell_type": "code",
   "execution_count": 1,
   "metadata": {
    "collapsed": false
   },
   "outputs": [],
   "source": [
    ""
   ]
  },
  {
   "cell_type": "code",
   "execution_count": null,
   "metadata": {},
   "outputs": [],
   "source": [
    ""
   ]
  }
 ],
 "metadata": {
  "kernelspec": {
   "display_name": "Python 2",
   "language": "python",
   "name": "python2"
  },
  "language_info": {
   "codemirror_mode": {
    "name": "ipython",
    "version": 2.0
   },
   "file_extension": ".py",
   "mimetype": "text/x-python",
   "name": "python",
   "nbconvert_exporter": "python",
   "pygments_lexer": "ipython2",
   "version": "2.7.6"
  }
 },
 "nbformat": 4,
 "nbformat_minor": 0
}