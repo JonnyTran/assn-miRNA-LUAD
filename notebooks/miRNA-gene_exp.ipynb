{
 "cells": [
  {
   "cell_type": "markdown",
   "metadata": {
    "collapsed": true
   },
   "source": [
    "## Finding differentialy expressed miRNA's between LUAD stages I, II, III, IV vs normal using Logit regression\n",
    "### Utilize Group Lasso with MISIM miRNA similarity data"
   ]
  },
  {
   "cell_type": "code",
   "execution_count": 166,
   "metadata": {},
   "outputs": [],
   "source": [
    "# Necessary imports\n",
    "import os\n",
    "import pandas\n",
    "import numpy as np\n",
    "\n",
    "from definitions import ROOT_DIR"
   ]
  },
  {
   "cell_type": "markdown",
   "metadata": {},
   "source": [
    "## Load normal and cancer miRNA expression data"
   ]
  },
  {
   "cell_type": "code",
   "execution_count": 197,
   "metadata": {},
   "outputs": [
    {
     "name": "stdout",
     "output_type": "stream",
     "text": [
      "mirna_tumor_df.shape (513, 1882) , nulls: 0\nmirna_normal_df.shape (46, 1882) , nulls: 0\nvalidated_miRNAs.shape (34, 2)\nnormal    46\nName: pathologic_stage, dtype: int64\nStage I      277\nStage II     121\nStage III     84\nStage IV      24\nName: pathologic_stage, dtype: int64\n"
     ]
    }
   ],
   "source": [
    "from definitions import ROOT_DIR\n",
    "\n",
    "# Load files into pandas data frames\n",
    "mirna_tumor_df = pandas.read_csv(os.path.join(ROOT_DIR, \"data/processed/miRNA/tumor_miRNA.csv\"))\n",
    "mirna_normal_df = pandas.read_csv(os.path.join(ROOT_DIR, \"data/processed/miRNA/normal_miRNA.csv\"))\n",
    "clinical_df = pandas.read_csv(os.path.join(ROOT_DIR, \"data/processed/clinical/clinical.csv\"))\n",
    "validated_miRNA_csv = pandas.read_csv(os.path.join(ROOT_DIR, 'data/external/validated_luad_miRNAs_miRCancer.csv'))\n",
    "\n",
    "# Print data frame shapes\n",
    "print \"mirna_tumor_df.shape\", mirna_tumor_df.shape, ', nulls:', mirna_tumor_df.isnull().sum().sum()\n",
    "print \"mirna_normal_df.shape\", mirna_normal_df.shape, ', nulls:', mirna_normal_df.isnull().sum().sum()\n",
    "print 'validated_miRNAs.shape', validated_miRNA_csv.shape\n",
    "\n",
    "# Merge normal and tumor miRNA expression profiles with clinical cancer stage data\n",
    "mirna_normal = pandas.merge(clinical_df[['patient_barcode', 'pathologic_stage']], mirna_normal_df, on='patient_barcode')\n",
    "mirna_normal['pathologic_stage'] = 'normal'\n",
    "mirna_tumor = pandas.merge(clinical_df[['patient_barcode', 'pathologic_stage']], mirna_tumor_df, on='patient_barcode')\n",
    "\n",
    "# Map stage IA to stage I, IB to I, etc. ...\n",
    "pathologic_stage_map = {'Stage IA': 'Stage I', 'Stage IB': 'Stage I', \n",
    "                        'Stage IIA': 'Stage II', 'Stage IIB': 'Stage II', \n",
    "                        'Stage IIIA': 'Stage III', 'Stage IIIB': 'Stage III'}\n",
    "mirna_tumor.replace({'pathologic_stage': pathologic_stage_map}, inplace=True)\n",
    "\n",
    "# Store list of all miRNA's in miRNA expression data\n",
    "mirna_list = list(mirna_tumor.columns)[2:]\n",
    "\n",
    "# Print quick overview of data\n",
    "print mirna_normal['pathologic_stage'].value_counts().sort_index(axis=0)\n",
    "print mirna_tumor['pathologic_stage'].value_counts().sort_index(axis=0)"
   ]
  },
  {
   "cell_type": "markdown",
   "metadata": {},
   "source": [
    "## Load normal & cancer Gene Expression data"
   ]
  },
  {
   "cell_type": "code",
   "execution_count": 199,
   "metadata": {},
   "outputs": [
    {
     "name": "stdout",
     "output_type": "stream",
     "text": [
      "(20530, 517)\n(20530, 61)\n"
     ]
    }
   ],
   "source": [
    "gene_exp_tumor_df = pandas.read_table(os.path.join(ROOT_DIR, 'data/processed/gene_expression/tumor/READ__illuminahiseq_rnaseqv2__GeneExp.txt'), \n",
    "                                      header=0, delimiter='\\t')\n",
    "gene_exp_normal_df = pandas.read_table(os.path.join(ROOT_DIR, 'data/processed/gene_expression/normal/READ__illuminahiseq_rnaseqv2__GeneExp.txt'), \n",
    "                                      header=0, delimiter='\\t')\n",
    "\n",
    "gene_exp_tumor_df.rename(columns=lambda x: x[:12], inplace=True)\n",
    "gene_exp_normal_df.rename(columns=lambda x: x[:12], inplace=True)\n",
    "\n",
    "print gene_exp_tumor_df.shape\n",
    "print gene_exp_normal_df.shape"
   ]
  },
  {
   "cell_type": "markdown",
   "metadata": {},
   "source": [
    "## Reshape gene expression data frames to have shape (patients x gene expression) "
   ]
  },
  {
   "cell_type": "code",
   "execution_count": 200,
   "metadata": {
    "collapsed": false
   },
   "outputs": [
    {
     "name": "stdout",
     "output_type": "stream",
     "text": [
      "515\n59\ngene_symbols 20502\ngene_exp_tumor_patients 515\ngene_exp_normal_patients 59\n(515, 20503)\n(59, 20503)\n"
     ]
    }
   ],
   "source": [
    "print len(list(gene_exp_tumor_df.columns))-2\n",
    "print len(list(gene_exp_normal_df.columns))-2\n",
    "\n",
    "# Remove entries with unknown Gene Symbol\n",
    "gene_exp_tumor_df = gene_exp_tumor_df[gene_exp_tumor_df.GeneSymbol != '?']\n",
    "gene_exp_normal_df = gene_exp_normal_df[gene_exp_normal_df.GeneSymbol != '?']\n",
    "\n",
    "# Get list of all gene_symbols\n",
    "gene_symbols = list(gene_exp_tumor_df['GeneSymbol'])\n",
    "# Get list of tumor and normal patient_barcode\n",
    "gene_exp_tumor_patient_barcodes = list(gene_exp_tumor_df.columns)[2:]\n",
    "gene_exp_normal_patient_barcodes = list(gene_exp_normal_df.columns)[2:]\n",
    "\n",
    "# Drop EntrezID column\n",
    "gene_exp_tumor = gene_exp_tumor_df.drop(['EntrezID', 'GeneSymbol'], axis=1)\n",
    "gene_exp_normal = gene_exp_normal_df.drop(['EntrezID', 'GeneSymbol'], axis=1)\n",
    "\n",
    "# Reshaping data frame to have columns for GeneSymbols, and rows of patients\n",
    "gene_exp_tumor = gene_exp_tumor.T\n",
    "gene_exp_normal = gene_exp_normal.T\n",
    "gene_exp_tumor.columns = gene_symbols\n",
    "gene_exp_normal.columns = gene_symbols\n",
    "\n",
    "# Add column for patients barcode\n",
    "gene_exp_tumor['patient_barcode'] = gene_exp_tumor.index\n",
    "gene_exp_normal['patient_barcode'] = gene_exp_normal.index\n",
    "\n",
    "print \"gene_symbols\", len(gene_symbols)\n",
    "print \"gene_exp_tumor_patients\", len(gene_exp_tumor_patient_barcodes)\n",
    "print \"gene_exp_normal_patients\", len(gene_exp_normal_patient_barcodes)\n",
    "\n",
    "print gene_exp_tumor.shape\n",
    "print gene_exp_normal.shape"
   ]
  },
  {
   "cell_type": "markdown",
   "metadata": {},
   "source": [
    "## Filter samples with matched Gene Expression data and miRNA data"
   ]
  },
  {
   "cell_type": "code",
   "execution_count": 201,
   "metadata": {},
   "outputs": [
    {
     "name": "stdout",
     "output_type": "stream",
     "text": [
      "Stage I      275\nStage II     120\nStage III     84\nStage IV      24\nName: pathologic_stage, dtype: int64\nnormal    20\nName: pathologic_stage, dtype: int64\n"
     ]
    },
    {
     "name": "stdout",
     "output_type": "stream",
     "text": [
      "mirna_tumor (510, 1881) 0\ngene_exp_tumor (510, 20503) 0\nmirna_normal (20, 1881) 0\ngene_exp_normal (20, 20503) 0\n"
     ]
    }
   ],
   "source": [
    "# Merge normal and tumor miRNA expression profiles with clinical cancer stage data\n",
    "merged_normal_patients = pandas.merge(gene_exp_normal[['patient_barcode']], mirna_normal, on='patient_barcode')\n",
    "merged_normal_patients = merged_normal_patients.fillna(merged_normal_patients.mean())[['patient_barcode', 'pathologic_stage']]\n",
    "merged_tumor_patients = pandas.merge(gene_exp_tumor[['patient_barcode']], mirna_tumor, on='patient_barcode')\n",
    "merged_tumor_patients = merged_tumor_patients.fillna(merged_tumor_patients.mean())[['patient_barcode', 'pathologic_stage']]\n",
    "\n",
    "# Print quick overview of data\n",
    "print merged_tumor_patients['pathologic_stage'].value_counts().sort_index(axis=0)\n",
    "print merged_normal_patients['pathologic_stage'].value_counts().sort_index(axis=0)\n",
    "\n",
    "mirna_tumor = mirna_tumor[mirna_tumor['patient_barcode'].isin(merged_tumor_patients['patient_barcode'])]\n",
    "gene_exp_tumor = gene_exp_tumor[gene_exp_tumor['patient_barcode'].isin(merged_tumor_patients['patient_barcode'])]\n",
    "mirna_normal = mirna_normal[mirna_normal['patient_barcode'].isin(merged_normal_patients['patient_barcode'])]\n",
    "gene_exp_normal = gene_exp_normal[gene_exp_normal['patient_barcode'].isin(merged_normal_patients['patient_barcode'])]\n",
    "\n",
    "mirna_tumor.drop(['patient_barcode', 'pathologic_stage'], 1, inplace=True)\n",
    "mirna_normal.drop(['patient_barcode', 'pathologic_stage'], 1, inplace=True)\n",
    "\n",
    "print \"mirna_tumor\", mirna_tumor.shape, mirna_tumor.isnull().sum().sum()\n",
    "print \"gene_exp_tumor\", gene_exp_tumor.shape, gene_exp_tumor.isnull().sum().sum()\n",
    "print \"mirna_normal\", mirna_normal.shape, mirna_normal.isnull().sum().sum()\n",
    "print \"gene_exp_normal\", gene_exp_normal.shape, gene_exp_normal.isnull().sum().sum()"
   ]
  },
  {
   "cell_type": "code",
   "execution_count": 170,
   "metadata": {
    "collapsed": false
   },
   "outputs": [],
   "source": [
    ""
   ]
  },
  {
   "cell_type": "markdown",
   "metadata": {},
   "source": [
    "## Build miRNA-target relationship network to identify \n",
    "## Xu et al. (xu2011prioritizing)"
   ]
  },
  {
   "cell_type": "code",
   "execution_count": 202,
   "metadata": {
    "collapsed": false
   },
   "outputs": [
    {
     "name": "stdout",
     "output_type": "stream",
     "text": [
      "hsa-let-7a-1 - A1BG : 0.168492661018\nhsa-let-7a-1 - A1CF : 0.0820435611878\nhsa-let-7a-1 - RBFOX1 : 0.0737117868996\nhsa-let-7a-1 - GGACT : -0.158622808191\nhsa-let-7a-1 - A2M : -0.187444159012\nhsa-let-7a-1 - A2ML1 : -0.154625311627\nhsa-let-7a-1 - A4GALT : 0.129128218449\nhsa-let-7a-1 - A4GNT : 0.0563189713128\nhsa-let-7a-1 - NPSR1-AS1 : -0.480084934229\nhsa-let-7a-1 - AAAS : 0.166864904934\nhsa-let-7a-1 - AACS : 0.134693860012\nhsa-let-7a-1 - AACSP1 : -0.611072632945\nhsa-let-7a-1 - AADAC : 0.34243666034\nhsa-let-7a-1 - AADACL2 : -0.123996523525\nhsa-let-7a-1 - AADACL3 : -0.601693319924\nhsa-let-7a-1 - AADACL4 : -0.118960790601\nhsa-let-7a-1 - AADAT : -0.0616701415646\nhsa-let-7a-1 - AAGAB : -0.0309940667089\nhsa-let-7a-1 - AAK1 : -0.0288625246876\nhsa-let-7a-1 - AAMP : 0.131710987029\nhsa-let-7a-1 - AANAT : 0.215920528789\nhsa-let-7a-1 - AARS : -0.0199947944412\nhsa-let-7a-1 - AARS2 : 0.127825331376\nhsa-let-7a-1 - AARSD1 : 0.0118823981682\nhsa-let-7a-1 - AASDH : -0.338598199802\nhsa-let-7a-1 - AASDHPPT : -0.368422902873\nhsa-let-7a-1 - AASS : 0.0731876186047\nhsa-let-7a-1 - AATF : 0.25378344391\nhsa-let-7a-1 - AATK : 0.452828549994\nhsa-let-7a-1 - ABAT : 0.250568093486\nhsa-let-7a-1 - ABCA1 : -0.00737313772832\nhsa-let-7a-1 - ABCA10 : 0.0541609906642\nhsa-let-7a-1 - ABCA11P : -0.143185502837\nhsa-let-7a-1 - ABCA12 : -0.0705591404838\nhsa-let-7a-1 - ABCA13 : 0.226717625104\nhsa-let-7a-1 - ABCA17P : -0.109616388989\nhsa-let-7a-1 - ABCA2 : 0.177735348969\nhsa-let-7a-1 - ABCA3 : 0.226123121291\nhsa-let-7a-1 - ABCA4 : -0.0804017613935\nhsa-let-7a-1 - ABCA5 : -0.028658001967\nhsa-let-7a-1 - ABCA6 : -0.0746926989309\nhsa-let-7a-1 - ABCA7 : 0.36822759369\nhsa-let-7a-1 - ABCA8 : -0.0723123625794\nhsa-let-7a-1 - ABCA9 : 0.0981716229376\nhsa-let-7a-1 - ABCB1 : 0.0670961411042\nhsa-let-7a-1 - ABCB10 : -0.176599607805"
     ]
    },
    {
     "name": "stdout",
     "output_type": "stream",
     "text": [
      "\nhsa-let-7a-1 - ABCB11 : 0.197995873912\nhsa-let-7a-1 - ABCB4 : -0.0931764058231\nhsa-let-7a-1 - ABCB5 : 0.234827235786\nhsa-let-7a-1 - ABCB6 : -0.219823578382\nhsa-let-7a-1 - ABCB7 : -0.201716198676\nhsa-let-7a-1 - ABCB8 : 0.149108023478\nhsa-let-7a-1 - ABCB9 : -0.0902450979418\nhsa-let-7a-1 - ABCC1 : 0.162896075662\nhsa-let-7a-1 - ABCC10 : 0.21396194755\nhsa-let-7a-1 - ABCC11 : 0.166793299203\nhsa-let-7a-1 - ABCC12 : -0.1269570194\nhsa-let-7a-1 - ABCC13 : -0.0614892446565\nhsa-let-7a-1 - ABCC2 : -0.280295537797\nhsa-let-7a-1 - ABCC3 : 0.206801875031\nhsa-let-7a-1 - ABCC4 : -0.098264440021\nhsa-let-7a-1 - ABCC5 : -0.14621505531\nhsa-let-7a-1 - ABCC6 : 0.31534001114\nhsa-let-7a-1 - ABCC6P1 : -0.0674811878891\nhsa-let-7a-1 - ABCC6P2 : -0.07290332712\nhsa-let-7a-1 - ABCC8 : 0.0811415709588\nhsa-let-7a-1 - ABCC9 : 0.000681059856238\nhsa-let-7a-1 - ABCD1 : 0.107618055198\nhsa-let-7a-1 - ABCD2 : -0.0818613251349\nhsa-let-7a-1 - ABCD3 : -0.0836719457331\nhsa-let-7a-1 - ABCD4 : -0.122998515033\nhsa-let-7a-1 - ABCE1 : 0.119603109098\nhsa-let-7a-1 - ABCF1 : 0.336940559927\nhsa-let-7a-1 - ABCF2 : 0.248191956032\nhsa-let-7a-1 - ABCF3 : 0.331975185266\nhsa-let-7a-1 - ABCG1 : -0.0350633368953\nhsa-let-7a-1 - ABCG2 : -0.61603100589\nhsa-let-7a-1 - ABCG4 : -0.428560050079\nhsa-let-7a-1 - ABCG5 : 0.0851952379629\nhsa-let-7a-1 - ABCG8 : 0.313076494027\nhsa-let-7a-1 - ABHD1 : 0.0760446429577\nhsa-let-7a-1 - ABHD10 : -0.191127965488\nhsa-let-7a-1 - ABHD11 : 0.402843830711\nhsa-let-7a-1 - ABHD12 : 0.404794335524\nhsa-let-7a-1 - ABHD12B : 0.256980484143\nhsa-let-7a-1 - ABHD13 : -0.325992198775\nhsa-let-7a-1 - ABHD14A : 0.187593395101\nhsa-let-7a-1 - ABHD14B : -0.0783277739789\nhsa-let-7a-1 - ABHD15 : 0.032246975104\nhsa-let-7a-1 - ABHD2 : 0.4251135352\nhsa-let-7a-1 - ABHD3 : -0.287318972275\nhsa-let-7a-1 - ABHD4 : -0.289611276218\nhsa-let-7a-1 - ABHD5 : 0.0911785413979\n"
     ]
    },
    {
     "name": "stdout",
     "output_type": "stream",
     "text": [
      "hsa-let-7a-1 - ABHD6 : -0.442826755005\nhsa-let-7a-1 - ABHD8 : 0.274259747345\nhsa-let-7a-1 - ABI1 : 0.0982713993068\nhsa-let-7a-1 - ABI2 : -0.0408000735034\nhsa-let-7a-1 - ABI3 : 0.316741326415\nhsa-let-7a-1 - ABI3BP : -0.379971522414\nhsa-let-7a-1 - ABL1 : 0.369639437252\nhsa-let-7a-1 - ABL2 : 0.0967228001572\nhsa-let-7a-1 - ABLIM1 : 0.0150659251174\nhsa-let-7a-1 - ABLIM2 : 0.0226804706151\nhsa-let-7a-1 - ABLIM3 : -0.340739314811\nhsa-let-7a-1 - ABO : 0.0835360572908\nhsa-let-7a-1 - AOC1 : -0.111982836188\nhsa-let-7a-1 - ABR : 0.376839202099\nhsa-let-7a-1 - ABRA : -0.225012825695\nhsa-let-7a-1 - ABT1 : -0.172973083269\nhsa-let-7a-1 - ABTB1 : 0.319735872488\nhsa-let-7a-1 - ABTB2 : 0.515631157695\nhsa-let-7a-1 - ACAA1 : 0.402131046885\nhsa-let-7a-1 - ACAA2 : 0.118285270512\nhsa-let-7a-1 - ACACA : 0.228921841593\nhsa-let-7a-1 - ACACB : -0.133620915257\nhsa-let-7a-1 - ACAD10 : 0.101798036176\nhsa-let-7a-1 - ACAD11 : 0.174158910008\nhsa-let-7a-1 - ACAD8 : -0.394238208277\nhsa-let-7a-1 - ACAD9 : 0.177853436629\nhsa-let-7a-1 - ACADL : 0.095118026947\nhsa-let-7a-1 - ACADM : -0.229659733222\nhsa-let-7a-1 - ACADS : 0.188890329445\nhsa-let-7a-1 - ACADSB : 0.163742226864\nhsa-let-7a-1 - ACADVL : 0.463139879401\nhsa-let-7a-1 - ACAN : -0.135478939596\nhsa-let-7a-1 - ACAP1 : -0.158855220987\nhsa-let-7a-1 - ACAP2 : -0.320390992731\nhsa-let-7a-1 - ACAP3 : 0.200841772129\nhsa-let-7a-1 - ACAT1 : -0.309519429061\nhsa-let-7a-1 - ACAT2 : 0.224535627359\nhsa-let-7a-1 - ACBD3 : 0.112574376399\nhsa-let-7a-1 - ACBD4 : 0.215124020948\nhsa-let-7a-1 - ACBD5 : -0.184787686061\nhsa-let-7a-1 - ACBD6 : 0.175824333603\nhsa-let-7a-1 - ACBD7 : -0.0755312590414\nhsa-let-7a-1 - ASIC2 : -0.11148166179\nhsa-let-7a-1 - ASIC1 : -0.0739601673788\nhsa-let-7a-1 - ASIC3 : 0.207291502226\nhsa-let-7a-1 - ASIC4 : -0.0575721141024\nhsa-let-7a-1 - ASIC5 : -0.788884844139\nhsa-let-7a-1 - ACCS : 0.151001628122\n"
     ]
    },
    {
     "name": "stdout",
     "output_type": "stream",
     "text": [
      "hsa-let-7a-1 - ACCSL : nan\nhsa-let-7a-1 - ACD : 0.0426707045269\nhsa-let-7a-1 - ACE : 0.402872968495\nhsa-let-7a-1 - ACE2 : -0.0528328235977\nhsa-let-7a-1 - ACER1 : 0.249871137394\nhsa-let-7a-1 - ACER2 : -0.161946109063\nhsa-let-7a-1 - ACER3 : 0.00729565704537\nhsa-let-7a-1 - ACHE : 0.0204525112434\nhsa-let-7a-1 - ACIN1 : 0.0344351698045\nhsa-let-7a-1 - ACLY : 0.037459787234\nhsa-let-7a-1 - ACMSD : 0.30526512273\nhsa-let-7a-1 - ACN9 : -0.234733114108\nhsa-let-7a-1 - ACO1 : -0.0051242547096\nhsa-let-7a-1 - ACO2 : 0.207267078505\nhsa-let-7a-1 - ACOT1 : -0.0323441624778\nhsa-let-7a-1 - ACOT11 : 0.0939763026268\nhsa-let-7a-1 - ACOT12 : nan\nhsa-let-7a-1 - ACOT13 : 0.0556626551496\nhsa-let-7a-1 - ACOT2 : 0.0352847514817\nhsa-let-7a-1 - ACOT4 : 0.172938108938\nhsa-let-7a-1 - ACOT6 : -0.225579987829\nhsa-let-7a-1 - ACOT7 : 0.391713073412\nhsa-let-7a-1 - ACOT8 : 0.3749951032\nhsa-let-7a-1 - ACOT9 : 0.152038278537\nhsa-let-7a-1 - ACOX1 : 0.500073442961\nhsa-let-7a-1 - ACOX2 : -0.0947498900207\nhsa-let-7a-1 - ACOX3 : 0.181201371941\nhsa-let-7a-1 - ACOXL : 0.0135432770738\nhsa-let-7a-1 - ACP1 : -0.18422406916\nhsa-let-7a-1 - ACP2 : 0.319752580646\nhsa-let-7a-1 - ACP5 : 0.417357350665\nhsa-let-7a-1 - ACP6 : 0.130187877836\nhsa-let-7a-1 - PXYLP1 : -0.15398029878\nhsa-let-7a-1 - ACPP : 0.328032117036\nhsa-let-7a-1 - ACPT : -0.0397207591188\nhsa-let-7a-1 - ACR : -0.56170223175\nhsa-let-7a-1 - ACRBP : 0.209456164068\nhsa-let-7a-1 - ACRC : 0.156827482451\nhsa-let-7a-1 - ACRV1 : -0.473339522786\nhsa-let-7a-1 - ACSBG1 : 0.0883258082927\nhsa-let-7a-1 - ACSBG2 : 0.197554271308\nhsa-let-7a-1 - ACSF2 : 0.274488661448\nhsa-let-7a-1 - ACSF3 : -0.0368075066718\nhsa-let-7a-1 - ACSL1 : 0.416302801363\nhsa-let-7a-1 - ACSL3 : 0.173896670047\nhsa-let-7a-1 - ACSL4 : -0.160143993116\nhsa-let-7a-1 - ACSL5 : 0.0723492643623\nhsa-let-7a-1 - ACSL6 : -0.264738248528"
     ]
    },
    {
     "name": "stdout",
     "output_type": "stream",
     "text": [
      "\nhsa-let-7a-1 - ACSM1 : 0.130710615003\nhsa-let-7a-1 - ACSM2A : 0.059177808238\nhsa-let-7a-1 - ACSM2B : -0.253358747795\nhsa-let-7a-1 - ACSM3 : -0.581931929452\nhsa-let-7a-1 - ACSM4 : 0.0717502700719\nhsa-let-7a-1 - ACSM5 : 0.104798499067\nhsa-let-7a-1 - ACSS1 : 0.0286462381782\nhsa-let-7a-1 - ACSS2 : 0.148010770214\nhsa-let-7a-1 - ACSS3 : -0.391217306214\nhsa-let-7a-1 - ACTA1 : -0.0152919685773\nhsa-let-7a-1 - ACTA2 : -0.427032891978\nhsa-let-7a-1 - ACTB : 0.224868460762\nhsa-let-7a-1 - ACTBL2 : 0.307097991579\nhsa-let-7a-1 - ACTC1 : 0.101138633759\nhsa-let-7a-1 - ACTG1 : 0.17664015752\nhsa-let-7a-1 - ACTG2 : -0.324490468182\nhsa-let-7a-1 - ACTL6A : -0.26971444827\nhsa-let-7a-1 - ACTL6B : -0.163181610796\nhsa-let-7a-1 - ACTL7A : -0.437413259053\nhsa-let-7a-1 - ACTL7B : 0.18180636323\nhsa-let-7a-1 - ACTL8 : 0.465467581586\nhsa-let-7a-1 - ACTL9 : nan\nhsa-let-7a-1 - ACTN1 : -0.0012198787234\nhsa-let-7a-1 - ACTN2 : 0.212821460582\nhsa-let-7a-1 - ACTN3 : 0.129864062797\nhsa-let-7a-1 - ACTN4 : 0.3558797387\nhsa-let-7a-1 - ACTR10 : -0.0410599353252\nhsa-let-7a-1 - ACTR1A : 0.199545512212\nhsa-let-7a-1 - ACTR1B : 0.000927262678649\nhsa-let-7a-1 - ACTR2 : -0.1733892958\nhsa-let-7a-1 - ACTR3 : -0.236117002115\nhsa-let-7a-1 - ACTR3B : -0.169754818683\nhsa-let-7a-1 - ACTR3C : -0.146611963941\nhsa-let-7a-1 - ACTR5 : -0.0328830692216\nhsa-let-7a-1 - ACTR6 : -0.237674244938\nhsa-let-7a-1 - ACTR8 : -0.487511287147\nhsa-let-7a-1 - ACTRT1 : nan\nhsa-let-7a-1 - ACTRT2 : -0.0195047322351\nhsa-let-7a-1 - ACVR1 : -0.23399792901\nhsa-let-7a-1 - ACVR1B : 0.561466110423\nhsa-let-7a-1 - ACVR1C : 0.240851052915\nhsa-let-7a-1 - ACVR2A : -0.522610733157\nhsa-let-7a-1 - ACVR2B : -0.0115329796927\nhsa-let-7a-1 - ACVRL1 : 0.178861899778\nhsa-let-7a-1 - ACY1 : -0.0020145484248\nhsa-let-7a-1 - ACY3 : -0.154465721984\nhsa-let-7a-1 - ACYP1 : 0.143073924214\nhsa-let-7a-1 - ACYP2 : "
     ]
    },
    {
     "name": "stdout",
     "output_type": "stream",
     "text": [
      "-0.0391526786058\nhsa-let-7a-1 - ADA : -0.0558232343811\nhsa-let-7a-1 - ADAD1 : -0.0368283566105\nhsa-let-7a-1 - ADAD2 : -0.314500373683\nhsa-let-7a-1 - ADAL : -0.19515264526\nhsa-let-7a-1 - ADAM10 : -0.266159280642\nhsa-let-7a-1 - ADAM11 : -0.149842367617\nhsa-let-7a-1 - ADAM12 : -0.214956726693\nhsa-let-7a-1 - ADAM15 : -0.178898050359\nhsa-let-7a-1 - ADAM17 : 0.171225677377\nhsa-let-7a-1 - ADAM18 : nan\nhsa-let-7a-1 - ADAM19 : -0.171639202945\nhsa-let-7a-1 - ADAM2 : nan\nhsa-let-7a-1 - ADAM20 : 0.220003227305\nhsa-let-7a-1 - ADAM21 : 0.122991354219\nhsa-let-7a-1 - ADAM21P1 : 0.475888031308\nhsa-let-7a-1 - ADAM22 : 0.067047858866\nhsa-let-7a-1 - ADAM23 : -0.38287662467\nhsa-let-7a-1 - ADAM28 : 0.0151523804462\nhsa-let-7a-1 - ADAM29 : 0.179672820349\nhsa-let-7a-1 - ADAM30 : 0.213208865511\nhsa-let-7a-1 - ADAM32 : -0.204195535375\nhsa-let-7a-1 - ADAM33 : 0.0417228672215\nhsa-let-7a-1 - ADAM3A : nan\nhsa-let-7a-1 - ADAM5 : nan\nhsa-let-7a-1 - ADAM6 : -0.241465925665\nhsa-let-7a-1 - ADAM7 : nan\nhsa-let-7a-1 - ADAM8 : 0.0558753696183\nhsa-let-7a-1 - ADAM9 : -0.213700947124\nhsa-let-7a-1 - ADAMDEC1 : -0.0661253673889\nhsa-let-7a-1 - ADAMTS1 : -0.190109174594\nhsa-let-7a-1 - ADAMTS10 : -0.130761661177\nhsa-let-7a-1 - ADAMTS12 : -0.350191353117\nhsa-let-7a-1 - ADAMTS13 : -0.0754796009908\nhsa-let-7a-1 - ADAMTS14 : -0.00166131718488\nhsa-let-7a-1 - ADAMTS15 : 0.110185423159\nhsa-let-7a-1 - ADAMTS16 : -0.109673957423\nhsa-let-7a-1 - ADAMTS17 : -0.110828267774\nhsa-let-7a-1 - ADAMTS18 : -0.33181636607\nhsa-let-7a-1 - ADAMTS19 : -0.0904266876056\nhsa-let-7a-1 - ADAMTS2 : -0.0758295520022\nhsa-let-7a-1 - ADAMTS20 : -0.291137291536\nhsa-let-7a-1 - ADAMTS3 : -0.0730112977415\nhsa-let-7a-1 - ADAMTS4 : 0.0654852901122\nhsa-let-7a-1 - ADAMTS5 : -0.547297875339\nhsa-let-7a-1 - ADAMTS6 : 0.0933618106744\nhsa-let-7a-1 - ADAMTS7 : -0.100219994192\nhsa-let-7a-1 - ADAMTS8 : 0.180173179653\nhsa-let-7a-1 - ADAMTS9 : 0.119189648116\nhsa-let-7a-1 - ADAMTSL1 : -0.150684184464"
     ]
    },
    {
     "name": "stdout",
     "output_type": "stream",
     "text": [
      "\nhsa-let-7a-1 - ADAMTSL2 : -0.0425481456091\nhsa-let-7a-1 - ADAMTSL3 : -0.192576679466\nhsa-let-7a-1 - ADAMTSL4 : 0.361133482793\nhsa-let-7a-1 - ADAMTSL5 : 0.525585666592\nhsa-let-7a-1 - ADAP1 : 0.373995905666\nhsa-let-7a-1 - ADAP2 : 0.129536088868\nhsa-let-7a-1 - ADAR : 0.101111953557\nhsa-let-7a-1 - ADARB1 : -0.0807565221638\nhsa-let-7a-1 - ADARB2 : 0.111975379689\nhsa-let-7a-1 - ADAT1 : -0.241310026557\nhsa-let-7a-1 - ADAT2 : -0.164584968287\nhsa-let-7a-1 - ADAT3 : 0.319811078159\nhsa-let-7a-1 - AZIN2 : -0.140754472387\nhsa-let-7a-1 - ADCK1 : -0.106655986853\nhsa-let-7a-1 - ADCK2 : 0.042809818048\nhsa-let-7a-1 - ADCK4 : 0.532375544389\nhsa-let-7a-1 - ADCK5 : 0.1563741647\nhsa-let-7a-1 - ADCY1 : -0.642465643726\nhsa-let-7a-1 - ADCY10 : -0.150901201421\nhsa-let-7a-1 - ADCY2 : -0.0476267100145\nhsa-let-7a-1 - ADCY3 : 0.169094278279\nhsa-let-7a-1 - ADCY4 : -0.135641588353\nhsa-let-7a-1 - ADCY5 : -0.106441877213\nhsa-let-7a-1 - ADCY6 : 0.0177190374922\nhsa-let-7a-1 - ADCY7 : -0.0943224380815\nhsa-let-7a-1 - ADCY8 : -0.155653587733\nhsa-let-7a-1 - ADCY9 : 0.332670205704\nhsa-let-7a-1 - ADCYAP1 : -0.49627173596\nhsa-let-7a-1 - ADCYAP1R1 : 0.113191682428\nhsa-let-7a-1 - ADD1 : 0.21839702556\nhsa-let-7a-1 - ADD2 : -0.263018817295\nhsa-let-7a-1 - ADD3 : -0.196964779522\nhsa-let-7a-1 - ADH1A : -0.349309274597\nhsa-let-7a-1 - ADH1B : -0.539834653349\nhsa-let-7a-1 - ADH1C : -0.142005523715\nhsa-let-7a-1 - ADH4 : -0.489793181009\nhsa-let-7a-1 - ADH5 : -0.32869985861\nhsa-let-7a-1 - ADH6 : 0.142349926872\nhsa-let-7a-1 - ADH7 : 0.200692577554\nhsa-let-7a-1 - ADHFE1 : 0.0445164142069\nhsa-let-7a-1 - ADI1 : -0.130507998809\nhsa-let-7a-1 - ADIG : nan\nhsa-let-7a-1 - ADIPOQ : -0.107592829551\nhsa-let-7a-1 - ADIPOR1 : 0.0575406664153\nhsa-let-7a-1 - ADIPOR2 : 0.158727198515\nhsa-let-7a-1 - ADK : 0.142779494287\nhsa-let-7a-1 - ADM : 0.185541419608\nhsa-let-7a-1 - ADM2"
     ]
    },
    {
     "name": "stdout",
     "output_type": "stream",
     "text": [
      " : -0.247855989365\nhsa-let-7a-1 - ADNP : -0.192699890432\nhsa-let-7a-1 - ADNP2 : 0.0928398060715\nhsa-let-7a-1 - ADO : -0.613756095493\nhsa-let-7a-1 - ADORA1 : 0.056747226557\nhsa-let-7a-1 - ADORA2A : 0.401418243326\nhsa-let-7a-1 - ADORA2B : 0.404903412077\nhsa-let-7a-1 - ADORA3 : 0.284072095575\nhsa-let-7a-1 - ADPGK : 0.0954904312897\nhsa-let-7a-1 - ADPRH : -0.0994339987167\nhsa-let-7a-1 - ADPRHL1 : 0.0477300130206\nhsa-let-7a-1 - ADPRHL2 : 0.369875121755\nhsa-let-7a-1 - ADRA1A : -0.0372252597754\nhsa-let-7a-1 - ADRA1B : 0.259735334282\nhsa-let-7a-1 - ADRA1D : 0.276078327512\nhsa-let-7a-1 - ADRA2A : -0.217414784416\nhsa-let-7a-1 - ADRA2B : -0.0970778116224\nhsa-let-7a-1 - ADRA2C : -0.0745511534\nhsa-let-7a-1 - ADRB1 : 0.455273996783\nhsa-let-7a-1 - ADRB2 : 0.123539831742\nhsa-let-7a-1 - ADRB3 : 0.144007368735\nhsa-let-7a-1 - ADRBK1 : -0.0467591766829\nhsa-let-7a-1 - ADRBK2 : 0.0930857159919\nhsa-let-7a-1 - ADRM1 : 0.270037992299\nhsa-let-7a-1 - ADSL : -0.125207112995\nhsa-let-7a-1 - ADSS : -0.0534256001494\nhsa-let-7a-1 - ADSSL1 : 0.130248306891\nhsa-let-7a-1 - AEBP1 : -0.233324095298\nhsa-let-7a-1 - AEBP2 : -0.113359392595\nhsa-let-7a-1 - AEN : 0.0534969725527\nhsa-let-7a-1 - AES : 0.206690291634\nhsa-let-7a-1 - AFAP1 : -0.290685792213\nhsa-let-7a-1 - AFAP1L1 : -0.158455163913\nhsa-let-7a-1 - AFAP1L2 : -0.5793988744\nhsa-let-7a-1 - AKR7A2P1 : -0.395533786262\nhsa-let-7a-1 - AFF1 : -0.150932564591\nhsa-let-7a-1 - AFF2 : -0.322150566906\nhsa-let-7a-1 - AFF3 : 0.00699933941515\nhsa-let-7a-1 - AFF4 : 0.097896082691\nhsa-let-7a-1 - AFG3L1P : 0.275142854271\nhsa-let-7a-1 - AFG3L2 : 0.4813028118\nhsa-let-7a-1 - AFM : nan\nhsa-let-7a-1 - AFMID : 0.00971718284685\nhsa-let-7a-1 - AFP : 0.0840543732165\nhsa-let-7a-1 - AFTPH : 0.0417599368418\nhsa-let-7a-1 - AGR2___C11orf96 : 0.323755595304\nhsa-let-7a-1 - AGA : 0.0192857339441\nhsa-let-7a-1 - AGAP1 : 0.114576016483\nhsa-let-7a-1 - AGAP11 : 0.119465300099\nhsa-let-7a-1 - AGAP2 : -0.0156838708723\n"
     ]
    },
    {
     "name": "stdout",
     "output_type": "stream",
     "text": [
      "hsa-let-7a-1 - AGAP3 : 0.499932760281\nhsa-let-7a-1 - AGAP4 : AGAP4    0.151736\nAGAP4    0.164651\ndtype: float64\n"
     ]
    },
    {
     "ename": "ValueError",
     "evalue": "The truth value of a Series is ambiguous. Use a.empty, a.bool(), a.item(), a.any() or a.all().",
     "traceback": [
      "\u001b[0;31m\u001b[0m",
      "\u001b[0;31mValueError\u001b[0mTraceback (most recent call last)",
      "\u001b[0;32m<ipython-input-202-6cf35abeb7f9>\u001b[0m in \u001b[0;36m<module>\u001b[0;34m()\u001b[0m\n\u001b[1;32m      3\u001b[0m \u001b[0;34m\u001b[0m\u001b[0m\n\u001b[1;32m      4\u001b[0m \u001b[0mnetwork\u001b[0m \u001b[0;34m=\u001b[0m \u001b[0mmiRNATargetNetwork\u001b[0m\u001b[0;34m(\u001b[0m\u001b[0mthreshold\u001b[0m\u001b[0;34m=\u001b[0m\u001b[0;36m0.6\u001b[0m\u001b[0;34m)\u001b[0m\u001b[0;34m\u001b[0m\u001b[0m\n\u001b[0;32m----> 5\u001b[0;31m \u001b[0mnetwork\u001b[0m\u001b[0;34m.\u001b[0m\u001b[0mtrain\u001b[0m\u001b[0;34m(\u001b[0m\u001b[0mmiRNAs_A\u001b[0m\u001b[0;34m=\u001b[0m\u001b[0mmirna_tumor\u001b[0m\u001b[0;34m,\u001b[0m \u001b[0mtargets_A\u001b[0m\u001b[0;34m=\u001b[0m\u001b[0mgene_exp_tumor\u001b[0m\u001b[0;34m,\u001b[0m \u001b[0mmiRNAs_B\u001b[0m\u001b[0;34m=\u001b[0m\u001b[0mmirna_normal\u001b[0m\u001b[0;34m,\u001b[0m \u001b[0mtargets_B\u001b[0m\u001b[0;34m=\u001b[0m\u001b[0mgene_exp_normal\u001b[0m\u001b[0;34m)\u001b[0m\u001b[0;34m\u001b[0m\u001b[0m\n\u001b[0m\u001b[1;32m      6\u001b[0m \u001b[0;32mprint\u001b[0m \u001b[0mnx\u001b[0m\u001b[0;34m.\u001b[0m\u001b[0mbipartite\u001b[0m\u001b[0;34m.\u001b[0m\u001b[0msets\u001b[0m\u001b[0;34m(\u001b[0m\u001b[0mnetwork\u001b[0m\u001b[0;34m.\u001b[0m\u001b[0mB\u001b[0m\u001b[0;34m)\u001b[0m\u001b[0;34m\u001b[0m\u001b[0m\n",
      "\u001b[0;32m/home/jonny2/PycharmProjects/assn-miRNA-LUAD/src/models/miRNA_target_network.py\u001b[0m in \u001b[0;36mtrain\u001b[0;34m(self, miRNAs_A, targets_A, miRNAs_B, targets_B)\u001b[0m\n\u001b[1;32m     37\u001b[0m                 \u001b[0mmiRNA_target_A_corr\u001b[0m \u001b[0;34m=\u001b[0m \u001b[0mnp\u001b[0m\u001b[0;34m.\u001b[0m\u001b[0mdot\u001b[0m\u001b[0;34m(\u001b[0m\u001b[0mmiRNAs_A\u001b[0m\u001b[0;34m[\u001b[0m\u001b[0mm\u001b[0m\u001b[0;34m]\u001b[0m \u001b[0;34m-\u001b[0m \u001b[0mnp\u001b[0m\u001b[0;34m.\u001b[0m\u001b[0mmean\u001b[0m\u001b[0;34m(\u001b[0m\u001b[0mmiRNAs_A\u001b[0m\u001b[0;34m[\u001b[0m\u001b[0mm\u001b[0m\u001b[0;34m]\u001b[0m\u001b[0;34m)\u001b[0m\u001b[0;34m,\u001b[0m \u001b[0mtargets_A\u001b[0m\u001b[0;34m[\u001b[0m\u001b[0mt\u001b[0m\u001b[0;34m]\u001b[0m \u001b[0;34m-\u001b[0m \u001b[0mnp\u001b[0m\u001b[0;34m.\u001b[0m\u001b[0mmean\u001b[0m\u001b[0;34m(\u001b[0m\u001b[0mtargets_A\u001b[0m\u001b[0;34m[\u001b[0m\u001b[0mt\u001b[0m\u001b[0;34m]\u001b[0m\u001b[0;34m)\u001b[0m\u001b[0;34m)\u001b[0m \u001b[0;34m/\u001b[0m\u001b[0;31m \u001b[0m\u001b[0;31m\\\u001b[0m\u001b[0;34m\u001b[0m\u001b[0m\n\u001b[1;32m     38\u001b[0m                       \u001b[0;34m(\u001b[0m\u001b[0;34m(\u001b[0m\u001b[0mn_A\u001b[0m \u001b[0;34m-\u001b[0m \u001b[0;36m1\u001b[0m\u001b[0;34m)\u001b[0m \u001b[0;34m*\u001b[0m \u001b[0mnp\u001b[0m\u001b[0;34m.\u001b[0m\u001b[0mstd\u001b[0m\u001b[0;34m(\u001b[0m\u001b[0mmiRNAs_A\u001b[0m\u001b[0;34m[\u001b[0m\u001b[0mm\u001b[0m\u001b[0;34m]\u001b[0m\u001b[0;34m)\u001b[0m \u001b[0;34m*\u001b[0m \u001b[0mnp\u001b[0m\u001b[0;34m.\u001b[0m\u001b[0mstd\u001b[0m\u001b[0;34m(\u001b[0m\u001b[0mtargets_A\u001b[0m\u001b[0;34m[\u001b[0m\u001b[0mt\u001b[0m\u001b[0;34m]\u001b[0m\u001b[0;34m)\u001b[0m\u001b[0;34m)\u001b[0m\u001b[0;34m\u001b[0m\u001b[0m\n\u001b[0;32m---> 39\u001b[0;31m                 \u001b[0mmiRNA_target_B_corr\u001b[0m \u001b[0;34m=\u001b[0m \u001b[0mnp\u001b[0m\u001b[0;34m.\u001b[0m\u001b[0mdot\u001b[0m\u001b[0;34m(\u001b[0m\u001b[0mmiRNAs_B\u001b[0m\u001b[0;34m[\u001b[0m\u001b[0mm\u001b[0m\u001b[0;34m]\u001b[0m \u001b[0;34m-\u001b[0m \u001b[0mnp\u001b[0m\u001b[0;34m.\u001b[0m\u001b[0mmean\u001b[0m\u001b[0;34m(\u001b[0m\u001b[0mmiRNAs_B\u001b[0m\u001b[0;34m[\u001b[0m\u001b[0mm\u001b[0m\u001b[0;34m]\u001b[0m\u001b[0;34m)\u001b[0m\u001b[0;34m,\u001b[0m \u001b[0mtargets_B\u001b[0m\u001b[0;34m[\u001b[0m\u001b[0mt\u001b[0m\u001b[0;34m]\u001b[0m \u001b[0;34m-\u001b[0m \u001b[0mnp\u001b[0m\u001b[0;34m.\u001b[0m\u001b[0mmean\u001b[0m\u001b[0;34m(\u001b[0m\u001b[0mtargets_B\u001b[0m\u001b[0;34m[\u001b[0m\u001b[0mt\u001b[0m\u001b[0;34m]\u001b[0m\u001b[0;34m)\u001b[0m\u001b[0;34m)\u001b[0m \u001b[0;34m/\u001b[0m\u001b[0;31m \u001b[0m\u001b[0;31m\\\u001b[0m\u001b[0;34m\u001b[0m\u001b[0m\n\u001b[0m\u001b[1;32m     40\u001b[0m                       \u001b[0;34m(\u001b[0m\u001b[0;34m(\u001b[0m\u001b[0mn_B\u001b[0m \u001b[0;34m-\u001b[0m \u001b[0;36m1\u001b[0m\u001b[0;34m)\u001b[0m \u001b[0;34m*\u001b[0m \u001b[0mnp\u001b[0m\u001b[0;34m.\u001b[0m\u001b[0mstd\u001b[0m\u001b[0;34m(\u001b[0m\u001b[0mmiRNAs_B\u001b[0m\u001b[0;34m[\u001b[0m\u001b[0mm\u001b[0m\u001b[0;34m]\u001b[0m\u001b[0;34m)\u001b[0m \u001b[0;34m*\u001b[0m \u001b[0mnp\u001b[0m\u001b[0;34m.\u001b[0m\u001b[0mstd\u001b[0m\u001b[0;34m(\u001b[0m\u001b[0mtargets_B\u001b[0m\u001b[0;34m[\u001b[0m\u001b[0mt\u001b[0m\u001b[0;34m]\u001b[0m\u001b[0;34m)\u001b[0m\u001b[0;34m)\u001b[0m\u001b[0;34m\u001b[0m\u001b[0m\n\u001b[1;32m     41\u001b[0m \u001b[0;34m\u001b[0m\u001b[0m\n",
      "\u001b[0;32m/opt/anaconda/lib/python2.7/site-packages/pandas/core/generic.pyc\u001b[0m in \u001b[0;36m__nonzero__\u001b[0;34m(self)\u001b[0m\n\u001b[1;32m    915\u001b[0m         raise ValueError(\"The truth value of a {0} is ambiguous. \"\n\u001b[1;32m    916\u001b[0m                          \u001b[0;34m\"Use a.empty, a.bool(), a.item(), a.any() or a.all().\"\u001b[0m\u001b[0;34m\u001b[0m\u001b[0m\n\u001b[0;32m--> 917\u001b[0;31m                          .format(self.__class__.__name__))\n\u001b[0m\u001b[1;32m    918\u001b[0m \u001b[0;34m\u001b[0m\u001b[0m\n\u001b[1;32m    919\u001b[0m     \u001b[0m__bool__\u001b[0m \u001b[0;34m=\u001b[0m \u001b[0m__nonzero__\u001b[0m\u001b[0;34m\u001b[0m\u001b[0m\n",
      "\u001b[0;31mValueError\u001b[0m: The truth value of a Series is ambiguous. Use a.empty, a.bool(), a.item(), a.any() or a.all()."
     ],
     "output_type": "error"
    }
   ],
   "source": [
    "from src.models.miRNA_target_network import miRNATargetNetwork\n",
    "import networkx as nx\n",
    "\n",
    "network = miRNATargetNetwork(threshold=0.6)\n",
    "network.train(miRNAs_A=mirna_tumor, targets_A=gene_exp_tumor, miRNAs_B=mirna_normal, targets_B=gene_exp_normal)\n",
    "print nx.bipartite.sets(network.B)"
   ]
  },
  {
   "cell_type": "code",
   "execution_count": null,
   "metadata": {},
   "outputs": [],
   "source": [
    ""
   ]
  },
  {
   "cell_type": "markdown",
   "metadata": {},
   "source": [
    "## Loading miRecords experimentally validated miRNA-targets interactions"
   ]
  },
  {
   "cell_type": "code",
   "execution_count": 157,
   "metadata": {
    "collapsed": false
   },
   "outputs": [],
   "source": [
    "# Load data frame from file\n",
    "miRecords_df = pandas.read_table(os.path.join(ROOT_DIR, 'data/external/miRecords_version4.tsv'), delimiter='\\t')\n",
    "\n",
    "# Select only homo sapiens miRNA-target pairs\n",
    "miRecords_df = miRecords_df[(miRecords_df[\"miRNA_species\"] == \"Homo sapiens\") &\n",
    "                            (miRecords_df[\"Target gene_species_scientific\"] == \"Homo sapiens\")]\n",
    "miRecords_df = miRecords_df[[\"miRNA_mature_ID\", \"Target gene_name\"]]\n",
    "\n",
    "# Standardize miRNA and gene symbols\n",
    "miRecords_df['miRNA_mature_ID'] = miRecords_df['miRNA_mature_ID'].str.lower()\n",
    "miRecords_df['miRNA_mature_ID'] = miRecords_df['miRNA_mature_ID'].str.replace('*', '')\n",
    "miRecords_df['Target gene_name'] = miRecords_df['Target gene_name'].str.upper()\n",
    "\n",
    "# Filter miRNA-target pairs to only miRNA's included in miRNA expression data, same for gene targets \n",
    "miRecords_df = miRecords_df[miRecords_df[\"miRNA_mature_ID\"].isin(mirna_list) &\n",
    "                            miRecords_df[\"Target gene_name\"].isin(gene_symbols)]\n",
    "\n",
    "# miRecords_df"
   ]
  },
  {
   "cell_type": "code",
   "execution_count": 140,
   "metadata": {},
   "outputs": [],
   "source": [
    ""
   ]
  },
  {
   "cell_type": "code",
   "execution_count": 1,
   "metadata": {
    "collapsed": false
   },
   "outputs": [],
   "source": [
    ""
   ]
  },
  {
   "cell_type": "code",
   "execution_count": null,
   "metadata": {},
   "outputs": [],
   "source": [
    ""
   ]
  }
 ],
 "metadata": {
  "kernelspec": {
   "display_name": "Python 2",
   "language": "python",
   "name": "python2"
  },
  "language_info": {
   "codemirror_mode": {
    "name": "ipython",
    "version": 2.0
   },
   "file_extension": ".py",
   "mimetype": "text/x-python",
   "name": "python",
   "nbconvert_exporter": "python",
   "pygments_lexer": "ipython2",
   "version": "2.7.6"
  }
 },
 "nbformat": 4,
 "nbformat_minor": 0
}