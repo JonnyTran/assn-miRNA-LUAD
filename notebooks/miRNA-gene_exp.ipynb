{
 "cells": [
  {
   "cell_type": "markdown",
   "metadata": {
    "collapsed": true
   },
   "source": [
    "## Finding differentialy expressed miRNA's between LUAD stages I, II, III, IV vs normal using Logit regression\n",
    "### Utilize Group Lasso with MISIM miRNA similarity data"
   ]
  },
  {
   "cell_type": "code",
   "execution_count": 1,
   "metadata": {},
   "outputs": [
    {
     "name": "stdout",
     "output_type": "stream",
     "text": [
      "The autoreload extension is already loaded. To reload it, use:\n  %reload_ext autoreload\n"
     ]
    }
   ],
   "source": [
    "# Necessary imports\n",
    "%load_ext autoreload\n",
    "%autoreload 2\\\n",
    "    \n",
    "import os\n",
    "import pandas\n",
    "import numpy as np\n",
    "import matplotlib.pyplot as plt\n",
    "\n",
    "from definitions import ROOT_DIR"
   ]
  },
  {
   "cell_type": "code",
   "execution_count": 2,
   "metadata": {},
   "outputs": [
    {
     "name": "stdout",
     "output_type": "stream",
     "text": [
      "mirna_tumor (506, 1883)\nmirna_normal (46, 1883)\ngene_tumor (515, 20486)\ngene_normal (59, 20486)\n"
     ]
    }
   ],
   "source": [
    "from src.data.make_dataset import TCGA_LUAD\n",
    "tgca_luad = TCGA_LUAD()"
   ]
  },
  {
   "cell_type": "markdown",
   "metadata": {},
   "source": [
    "## Univariate feature selection via FDR"
   ]
  },
  {
   "cell_type": "code",
   "execution_count": 150,
   "metadata": {
    "collapsed": true
   },
   "outputs": [
    {
     "ename": "ValueError",
     "evalue": "could not convert string to float: TCGA-91-6849",
     "traceback": [
      "\u001b[0;31m\u001b[0m",
      "\u001b[0;31mValueError\u001b[0mTraceback (most recent call last)",
      "\u001b[0;32m<ipython-input-150-27301e62954b>\u001b[0m in \u001b[0;36m<module>\u001b[0;34m()\u001b[0m\n\u001b[1;32m      7\u001b[0m \u001b[0;34m\u001b[0m\u001b[0m\n\u001b[1;32m      8\u001b[0m \u001b[0mgene_exp_filter\u001b[0m \u001b[0;34m=\u001b[0m \u001b[0mSelectFdr\u001b[0m\u001b[0;34m(\u001b[0m\u001b[0mf_classif\u001b[0m\u001b[0;34m,\u001b[0m \u001b[0malpha\u001b[0m\u001b[0;34m=\u001b[0m\u001b[0;36m0.01\u001b[0m\u001b[0;34m)\u001b[0m\u001b[0;34m\u001b[0m\u001b[0m\n\u001b[0;32m----> 9\u001b[0;31m \u001b[0mgen_exp_new\u001b[0m \u001b[0;34m=\u001b[0m \u001b[0mgene_exp_filter\u001b[0m\u001b[0;34m.\u001b[0m\u001b[0mfit_transform\u001b[0m\u001b[0;34m(\u001b[0m\u001b[0mX\u001b[0m\u001b[0;34m=\u001b[0m\u001b[0mpandas\u001b[0m\u001b[0;34m.\u001b[0m\u001b[0mconcat\u001b[0m\u001b[0;34m(\u001b[0m\u001b[0;34m[\u001b[0m\u001b[0mgene_exp_tumor\u001b[0m\u001b[0;34m,\u001b[0m \u001b[0mgene_exp_normal\u001b[0m\u001b[0;34m]\u001b[0m\u001b[0;34m)\u001b[0m\u001b[0;34m,\u001b[0m \u001b[0my\u001b[0m\u001b[0;34m=\u001b[0m\u001b[0mY\u001b[0m\u001b[0;34m)\u001b[0m\u001b[0;34m\u001b[0m\u001b[0m\n\u001b[0m\u001b[1;32m     10\u001b[0m \u001b[0;34m\u001b[0m\u001b[0m\n\u001b[1;32m     11\u001b[0m \u001b[0;32mprint\u001b[0m \u001b[0mmirna_new\u001b[0m\u001b[0;34m.\u001b[0m\u001b[0mshape\u001b[0m\u001b[0;34m\u001b[0m\u001b[0m\n",
      "\u001b[0;32m/opt/anaconda/lib/python2.7/site-packages/sklearn/base.pyc\u001b[0m in \u001b[0;36mfit_transform\u001b[0;34m(self, X, y, **fit_params)\u001b[0m\n\u001b[1;32m    495\u001b[0m         \u001b[0;32melse\u001b[0m\u001b[0;34m:\u001b[0m\u001b[0;34m\u001b[0m\u001b[0m\n\u001b[1;32m    496\u001b[0m             \u001b[0;31m# fit method of arity 2 (supervised transformation)\u001b[0m\u001b[0;34m\u001b[0m\u001b[0;34m\u001b[0m\u001b[0m\n\u001b[0;32m--> 497\u001b[0;31m             \u001b[0;32mreturn\u001b[0m \u001b[0mself\u001b[0m\u001b[0;34m.\u001b[0m\u001b[0mfit\u001b[0m\u001b[0;34m(\u001b[0m\u001b[0mX\u001b[0m\u001b[0;34m,\u001b[0m \u001b[0my\u001b[0m\u001b[0;34m,\u001b[0m \u001b[0;34m**\u001b[0m\u001b[0mfit_params\u001b[0m\u001b[0;34m)\u001b[0m\u001b[0;34m.\u001b[0m\u001b[0mtransform\u001b[0m\u001b[0;34m(\u001b[0m\u001b[0mX\u001b[0m\u001b[0;34m)\u001b[0m\u001b[0;34m\u001b[0m\u001b[0m\n\u001b[0m\u001b[1;32m    498\u001b[0m \u001b[0;34m\u001b[0m\u001b[0m\n\u001b[1;32m    499\u001b[0m \u001b[0;34m\u001b[0m\u001b[0m\n",
      "\u001b[0;32m/opt/anaconda/lib/python2.7/site-packages/sklearn/feature_selection/univariate_selection.pyc\u001b[0m in \u001b[0;36mfit\u001b[0;34m(self, X, y)\u001b[0m\n\u001b[1;32m    320\u001b[0m             \u001b[0mReturns\u001b[0m \u001b[0mself\u001b[0m\u001b[0;34m.\u001b[0m\u001b[0;34m\u001b[0m\u001b[0m\n\u001b[1;32m    321\u001b[0m         \"\"\"\n\u001b[0;32m--> 322\u001b[0;31m         \u001b[0mX\u001b[0m\u001b[0;34m,\u001b[0m \u001b[0my\u001b[0m \u001b[0;34m=\u001b[0m \u001b[0mcheck_X_y\u001b[0m\u001b[0;34m(\u001b[0m\u001b[0mX\u001b[0m\u001b[0;34m,\u001b[0m \u001b[0my\u001b[0m\u001b[0;34m,\u001b[0m \u001b[0;34m[\u001b[0m\u001b[0;34m'csr'\u001b[0m\u001b[0;34m,\u001b[0m \u001b[0;34m'csc'\u001b[0m\u001b[0;34m]\u001b[0m\u001b[0;34m)\u001b[0m\u001b[0;34m\u001b[0m\u001b[0m\n\u001b[0m\u001b[1;32m    323\u001b[0m \u001b[0;34m\u001b[0m\u001b[0m\n\u001b[1;32m    324\u001b[0m         \u001b[0;32mif\u001b[0m \u001b[0;32mnot\u001b[0m \u001b[0mcallable\u001b[0m\u001b[0;34m(\u001b[0m\u001b[0mself\u001b[0m\u001b[0;34m.\u001b[0m\u001b[0mscore_func\u001b[0m\u001b[0;34m)\u001b[0m\u001b[0;34m:\u001b[0m\u001b[0;34m\u001b[0m\u001b[0m\n",
      "\u001b[0;32m/opt/anaconda/lib/python2.7/site-packages/sklearn/utils/validation.pyc\u001b[0m in \u001b[0;36mcheck_X_y\u001b[0;34m(X, y, accept_sparse, dtype, order, copy, force_all_finite, ensure_2d, allow_nd, multi_output, ensure_min_samples, ensure_min_features, y_numeric, warn_on_dtype, estimator)\u001b[0m\n\u001b[1;32m    519\u001b[0m     X = check_array(X, accept_sparse, dtype, order, copy, force_all_finite,\n\u001b[1;32m    520\u001b[0m                     \u001b[0mensure_2d\u001b[0m\u001b[0;34m,\u001b[0m \u001b[0mallow_nd\u001b[0m\u001b[0;34m,\u001b[0m \u001b[0mensure_min_samples\u001b[0m\u001b[0;34m,\u001b[0m\u001b[0;34m\u001b[0m\u001b[0m\n\u001b[0;32m--> 521\u001b[0;31m                     ensure_min_features, warn_on_dtype, estimator)\n\u001b[0m\u001b[1;32m    522\u001b[0m     \u001b[0;32mif\u001b[0m \u001b[0mmulti_output\u001b[0m\u001b[0;34m:\u001b[0m\u001b[0;34m\u001b[0m\u001b[0m\n\u001b[1;32m    523\u001b[0m         y = check_array(y, 'csr', force_all_finite=True, ensure_2d=False,\n",
      "\u001b[0;32m/opt/anaconda/lib/python2.7/site-packages/sklearn/utils/validation.pyc\u001b[0m in \u001b[0;36mcheck_array\u001b[0;34m(array, accept_sparse, dtype, order, copy, force_all_finite, ensure_2d, allow_nd, ensure_min_samples, ensure_min_features, warn_on_dtype, estimator)\u001b[0m\n\u001b[1;32m    400\u001b[0m         \u001b[0;31m# make sure we actually converted to numeric:\u001b[0m\u001b[0;34m\u001b[0m\u001b[0;34m\u001b[0m\u001b[0m\n\u001b[1;32m    401\u001b[0m         \u001b[0;32mif\u001b[0m \u001b[0mdtype_numeric\u001b[0m \u001b[0;32mand\u001b[0m \u001b[0marray\u001b[0m\u001b[0;34m.\u001b[0m\u001b[0mdtype\u001b[0m\u001b[0;34m.\u001b[0m\u001b[0mkind\u001b[0m \u001b[0;34m==\u001b[0m \u001b[0;34m\"O\"\u001b[0m\u001b[0;34m:\u001b[0m\u001b[0;34m\u001b[0m\u001b[0m\n\u001b[0;32m--> 402\u001b[0;31m             \u001b[0marray\u001b[0m \u001b[0;34m=\u001b[0m \u001b[0marray\u001b[0m\u001b[0;34m.\u001b[0m\u001b[0mastype\u001b[0m\u001b[0;34m(\u001b[0m\u001b[0mnp\u001b[0m\u001b[0;34m.\u001b[0m\u001b[0mfloat64\u001b[0m\u001b[0;34m)\u001b[0m\u001b[0;34m\u001b[0m\u001b[0m\n\u001b[0m\u001b[1;32m    403\u001b[0m         \u001b[0;32mif\u001b[0m \u001b[0;32mnot\u001b[0m \u001b[0mallow_nd\u001b[0m \u001b[0;32mand\u001b[0m \u001b[0marray\u001b[0m\u001b[0;34m.\u001b[0m\u001b[0mndim\u001b[0m \u001b[0;34m>=\u001b[0m \u001b[0;36m3\u001b[0m\u001b[0;34m:\u001b[0m\u001b[0;34m\u001b[0m\u001b[0m\n\u001b[1;32m    404\u001b[0m             raise ValueError(\"Found array with dim %d. %s expected <= 2.\"\n",
      "\u001b[0;31mValueError\u001b[0m: could not convert string to float: TCGA-91-6849"
     ],
     "output_type": "error"
    }
   ],
   "source": [
    "from sklearn.feature_selection import SelectFdr, f_classif\n",
    "\n",
    "# Select the p-values for an estimated false discovery rate\n",
    "# FDR \n",
    "# mirna_filter = SelectFdr(f_classif, alpha=0.01)\n",
    "# mirna_new = mirna_filter.fit_transform(X=pandas.concat([mirna_tumor, mirna_normal]), y=Y)\n",
    "\n",
    "gene_exp_filter = SelectFdr(f_classif, alpha=0.01)\n",
    "gen_exp_new = gene_exp_filter.fit_transform(X=pandas.concat([gene_exp_tumor, gene_exp_normal]), y=Y)\n",
    "\n",
    "print mirna_new.shape\n",
    "print gen_exp_new.shape\n",
    "# mirna_tumor = mirna_tumor[mirna_tumor.columns[mirna_filter.get_support(indices=True)]]\n",
    "# mirna_normal = mirna_normal[mirna_normal.columns[mirna_filter.get_support(indices=True)]]\n",
    "gene_exp_tumor = gene_exp_tumor[gene_exp_tumor.columns[gene_exp_filter.get_support(indices=True)]]\n",
    "gene_exp_normal = gene_exp_normal[gene_exp_normal.columns[gene_exp_filter.get_support(indices=True)]]"
   ]
  },
  {
   "cell_type": "markdown",
   "metadata": {},
   "source": [
    "## Loading TargetScan database for predicted miRNA-targets interactions"
   ]
  },
  {
   "cell_type": "code",
   "execution_count": 3,
   "metadata": {},
   "outputs": [
    {
     "name": "stdout",
     "output_type": "stream",
     "text": [
      "(185330, 2)\n"
     ]
    }
   ],
   "source": [
    "# Load data frame from file\n",
    "targetScan_df = pandas.read_table(os.path.join(ROOT_DIR, 'data/external/TargetScan_Predicted_Targets_Info_default_predictions.tsv'), delimiter='\\t')\n",
    "targetScan_family_df = pandas.read_table(os.path.join(ROOT_DIR, 'data/external/TargetScan_miR_Family_Info.txt'), delimiter='\\t')\n",
    "\n",
    "# Select only homo sapiens miRNA-target pairs\n",
    "targetScan_df = targetScan_df[targetScan_df[\"Species ID\"] == 9606][[\"miR Family\", \"Gene Symbol\"]]\n",
    "targetScan_family_df = targetScan_family_df[targetScan_family_df['Species ID'] == 9606][['miR family', 'MiRBase ID']]\n",
    "\n",
    "# Use miRBase ID names\n",
    "targetScan_family_df.rename(columns={'miR family': 'miR Family'}, inplace=True)\n",
    "targetScan_df = pandas.merge(targetScan_df, targetScan_family_df, how='inner', on=\"miR Family\")\n",
    "targetScan_df = targetScan_df[[\"MiRBase ID\", \"Gene Symbol\"]]\n",
    "\n",
    "# Standardize miRNA names\n",
    "targetScan_df['MiRBase ID'] = targetScan_df['MiRBase ID'].str.lower()\n",
    "targetScan_df['MiRBase ID'] = targetScan_df['MiRBase ID'].str.replace(\"-3p.*|-5p.*\", \"\")\n",
    "targetScan_df.drop_duplicates(inplace=True)\n",
    "\n",
    "# Filter miRNA-target pairs to only miRNA's included in miRNA expression data, same for gene targets\n",
    "targetScan_df = targetScan_df[targetScan_df['MiRBase ID'].isin(tgca_luad.mirna_list) & targetScan_df['Gene Symbol'].isin(tgca_luad.gene_symbols)]\n",
    "print targetScan_df.shape"
   ]
  },
  {
   "cell_type": "markdown",
   "metadata": {},
   "source": [
    "## Loading miRanda database for predicted miRNA-targets interactions"
   ]
  },
  {
   "cell_type": "code",
   "execution_count": 4,
   "metadata": {},
   "outputs": [
    {
     "name": "stdout",
     "output_type": "stream",
     "text": [
      "(1097064, 2)\n"
     ]
    },
    {
     "name": "stdout",
     "output_type": "stream",
     "text": [
      "(544648, 2)\n"
     ]
    },
    {
     "name": "stdout",
     "output_type": "stream",
     "text": [
      "(640757, 2)\n"
     ]
    }
   ],
   "source": [
    "miRanda_df = pandas.read_table(os.path.join(ROOT_DIR, 'data/external/miRanda_hg19_predictions_S_C_aug2010.txt'), delimiter='\\t')\n",
    "miRanda_df = miRanda_df[['mirna_name',  'gene_symbol']]\n",
    "\n",
    "miRanda_df['mirna_name'] = miRanda_df['mirna_name'].str.lower()\n",
    "miRanda_df['mirna_name'] = miRanda_df['mirna_name'].str.replace(\"*\", \"\")\n",
    "miRanda_df['mirna_name'] = miRanda_df['mirna_name'].str.replace(\"-3p.*|-5p.*\", \"\")\n",
    "print miRanda_df.shape\n",
    "\n",
    "miRanda_df.columns = [\"MiRBase ID\", \"Gene Symbol\"]\n",
    "miRanda_df = miRanda_df[miRanda_df['MiRBase ID'].isin(tgca_luad.mirna_list) & miRanda_df['Gene Symbol'].isin(tgca_luad.gene_symbols)].dropna().drop_duplicates()\n",
    "print miRanda_df.shape\n",
    "putative_assocs = pandas.concat([targetScan_df, miRanda_df]).dropna().drop_duplicates()\n",
    "print putative_assocs.shape"
   ]
  },
  {
   "cell_type": "markdown",
   "metadata": {},
   "source": [
    "## Build miRNA-target relationship network to from putative predicted miRNA-target pairs\n",
    "## Assign miRNA's to groups from the miRNA-target bipartite graph obtained above\n",
    "The assumption used is that two miRNA's are in the same group, if they share the same target\n",
    "If a miRNA has overlapping groups, \"larger_groups_first\" param decides whether larger or smaller group takes priority"
   ]
  },
  {
   "cell_type": "code",
   "execution_count": 102,
   "metadata": {
    "collapsed": true
   },
   "outputs": [
    {
     "name": "stdout",
     "output_type": "stream",
     "text": [
      "n_A 20\nn_B 275\n"
     ]
    },
    {
     "name": "stderr",
     "output_type": "stream",
     "text": [
      "<string>:52: RuntimeWarning: invalid value encountered in double_scalars\n"
     ]
    },
    {
     "name": "stderr",
     "output_type": "stream",
     "text": [
      "<string>:52: RuntimeWarning: invalid value encountered in double_scalars\n"
     ]
    },
    {
     "name": "stderr",
     "output_type": "stream",
     "text": [
      "<string>:55: RuntimeWarning: invalid value encountered in double_scalars\n"
     ]
    },
    {
     "name": "stderr",
     "output_type": "stream",
     "text": [
      "<string>:52: RuntimeWarning: invalid value encountered in double_scalars\n"
     ]
    },
    {
     "name": "stderr",
     "output_type": "stream",
     "text": [
      "<string>:55: RuntimeWarning: invalid value encountered in double_scalars\n"
     ]
    },
    {
     "name": "stderr",
     "output_type": "stream",
     "text": [
      "<string>:52: RuntimeWarning: invalid value encountered in double_scalars\n"
     ]
    },
    {
     "name": "stderr",
     "output_type": "stream",
     "text": [
      "<string>:55: RuntimeWarning: invalid value encountered in double_scalars\n"
     ]
    },
    {
     "name": "stderr",
     "output_type": "stream",
     "text": [
      "<string>:55: RuntimeWarning: invalid value encountered in double_scalars\n"
     ]
    },
    {
     "name": "stderr",
     "output_type": "stream",
     "text": [
      "<string>:52: RuntimeWarning: invalid value encountered in double_scalars\n"
     ]
    },
    {
     "name": "stderr",
     "output_type": "stream",
     "text": [
      "<string>:55: RuntimeWarning: invalid value encountered in double_scalars\n"
     ]
    },
    {
     "name": "stderr",
     "output_type": "stream",
     "text": [
      "<string>:52: RuntimeWarning: invalid value encountered in double_scalars\n"
     ]
    },
    {
     "name": "stderr",
     "output_type": "stream",
     "text": [
      "<string>:55: RuntimeWarning: invalid value encountered in double_scalars\n"
     ]
    },
    {
     "name": "stderr",
     "output_type": "stream",
     "text": [
      "<string>:52: RuntimeWarning: invalid value encountered in double_scalars\n"
     ]
    },
    {
     "name": "stderr",
     "output_type": "stream",
     "text": [
      "<string>:55: RuntimeWarning: invalid value encountered in double_scalars\n"
     ]
    },
    {
     "name": "stdout",
     "output_type": "stream",
     "text": [
      "CPU times: user 9.47 s, sys: 1.26 s, total: 10.7 s\nWall time: 1min 40s\n"
     ]
    }
   ],
   "source": [
    "from src.models.miRNA_target_network import miRNATargetNetwork as miRNATargetNet\n",
    "import networkx as nx\n",
    "\n",
    "network = miRNATargetNet(miRNAs=tgca_luad.mirna_list, targets=tgca_luad.gene_symbols)\n",
    "\n",
    "network.fit(tag=\"normal-StgI\", dys_threshold=0.7, n_jobs=7,\n",
    "            miRNA_A=tgca_luad.make_dataset(dataset='miRNA', normal_tumor='normal',\n",
    "                                           normal_matched=False, mirna_gene_matched=True)[0],\n",
    "            gene_A=tgca_luad.make_dataset(dataset='gene', normal_tumor='normal',\n",
    "                                          normal_matched=False, mirna_gene_matched=True)[0],\n",
    "            miRNA_B=tgca_luad.make_dataset(dataset='miRNA', normal_tumor='tumor', pathologic_stages=['Stage I'],\n",
    "                                           normal_matched=False, mirna_gene_matched=True)[0],\n",
    "            gene_B=tgca_luad.make_dataset(dataset='gene', normal_tumor='tumor', pathologic_stages=['Stage I'],\n",
    "                                          normal_matched=False, mirna_gene_matched=True)[0],\n",
    "            putative_assocs=putative_assocs)"
   ]
  },
  {
   "cell_type": "code",
   "execution_count": 104,
   "metadata": {
    "collapsed": true
   },
   "outputs": [
    {
     "name": "stdout",
     "output_type": "stream",
     "text": [
      "n_A 275\n"
     ]
    },
    {
     "name": "stdout",
     "output_type": "stream",
     "text": [
      "n_B 120\n"
     ]
    },
    {
     "name": "stderr",
     "output_type": "stream",
     "text": [
      "<string>:52: RuntimeWarning: invalid value encountered in double_scalars\n"
     ]
    },
    {
     "name": "stderr",
     "output_type": "stream",
     "text": [
      "<string>:55: RuntimeWarning: invalid value encountered in double_scalars\n"
     ]
    },
    {
     "name": "stderr",
     "output_type": "stream",
     "text": [
      "<string>:52: RuntimeWarning: invalid value encountered in double_scalars\n"
     ]
    },
    {
     "name": "stderr",
     "output_type": "stream",
     "text": [
      "<string>:55: RuntimeWarning: invalid value encountered in double_scalars\n"
     ]
    },
    {
     "name": "stderr",
     "output_type": "stream",
     "text": [
      "<string>:52: RuntimeWarning: invalid value encountered in double_scalars\n"
     ]
    },
    {
     "name": "stderr",
     "output_type": "stream",
     "text": [
      "<string>:55: RuntimeWarning: invalid value encountered in double_scalars\n"
     ]
    },
    {
     "name": "stderr",
     "output_type": "stream",
     "text": [
      "<string>:52: RuntimeWarning: invalid value encountered in double_scalars\n"
     ]
    },
    {
     "name": "stderr",
     "output_type": "stream",
     "text": [
      "<string>:55: RuntimeWarning: invalid value encountered in double_scalars\n"
     ]
    },
    {
     "name": "stderr",
     "output_type": "stream",
     "text": [
      "<string>:52: RuntimeWarning: invalid value encountered in double_scalars\n"
     ]
    },
    {
     "name": "stderr",
     "output_type": "stream",
     "text": [
      "<string>:55: RuntimeWarning: invalid value encountered in double_scalars\n"
     ]
    },
    {
     "name": "stderr",
     "output_type": "stream",
     "text": [
      "<string>:52: RuntimeWarning: invalid value encountered in double_scalars\n"
     ]
    },
    {
     "name": "stderr",
     "output_type": "stream",
     "text": [
      "<string>:55: RuntimeWarning: invalid value encountered in double_scalars\n"
     ]
    },
    {
     "name": "stderr",
     "output_type": "stream",
     "text": [
      "<string>:52: RuntimeWarning: invalid value encountered in double_scalars\n"
     ]
    },
    {
     "name": "stderr",
     "output_type": "stream",
     "text": [
      "<string>:55: RuntimeWarning: invalid value encountered in double_scalars\n"
     ]
    },
    {
     "name": "stdout",
     "output_type": "stream",
     "text": [
      "CPU times: user 10.2 s, sys: 1.33 s, total: 11.5 s\nWall time: 1min 45s\n"
     ]
    },
    {
     "data": {
      "text/plain": [
       "1364"
      ]
     },
     "execution_count": 103,
     "metadata": {},
     "output_type": "execute_result"
    }
   ],
   "source": [
    "network.fit(tag=\"StgI-StgII\", dys_threshold=0.5, n_jobs=7,\n",
    "            miRNA_A=tgca_luad.make_dataset(dataset='miRNA', normal_tumor='tumor', pathologic_stages=['Stage I'],\n",
    "                                           normal_matched=False, mirna_gene_matched=True)[0],\n",
    "            gene_A=tgca_luad.make_dataset(dataset='gene', normal_tumor='tumor', pathologic_stages=['Stage I'],\n",
    "                                          normal_matched=False, mirna_gene_matched=True)[0],\n",
    "            miRNA_B=tgca_luad.make_dataset(dataset='miRNA', normal_tumor='tumor', pathologic_stages=['Stage II'],\n",
    "                                           normal_matched=False, mirna_gene_matched=True)[0],\n",
    "            gene_B=tgca_luad.make_dataset(dataset='gene', normal_tumor='tumor', pathologic_stages=['Stage II'],\n",
    "                                          normal_matched=False, mirna_gene_matched=True)[0],\n",
    "            putative_assocs=putative_assocs)"
   ]
  },
  {
   "cell_type": "code",
   "execution_count": 106,
   "metadata": {
    "collapsed": true
   },
   "outputs": [
    {
     "name": "stdout",
     "output_type": "stream",
     "text": [
      "n_A 120\nn_B 84\n"
     ]
    },
    {
     "name": "stderr",
     "output_type": "stream",
     "text": [
      "<string>:55: RuntimeWarning: invalid value encountered in double_scalars\n"
     ]
    },
    {
     "name": "stderr",
     "output_type": "stream",
     "text": [
      "<string>:52: RuntimeWarning: invalid value encountered in double_scalars\n"
     ]
    },
    {
     "name": "stderr",
     "output_type": "stream",
     "text": [
      "<string>:52: RuntimeWarning: invalid value encountered in double_scalars\n"
     ]
    },
    {
     "name": "stderr",
     "output_type": "stream",
     "text": [
      "<string>:55: RuntimeWarning: invalid value encountered in double_scalars\n"
     ]
    },
    {
     "name": "stderr",
     "output_type": "stream",
     "text": [
      "<string>:52: RuntimeWarning: invalid value encountered in double_scalars\n"
     ]
    },
    {
     "name": "stderr",
     "output_type": "stream",
     "text": [
      "<string>:55: RuntimeWarning: invalid value encountered in double_scalars\n"
     ]
    },
    {
     "name": "stderr",
     "output_type": "stream",
     "text": [
      "<string>:55: RuntimeWarning: invalid value encountered in double_scalars\n"
     ]
    },
    {
     "name": "stderr",
     "output_type": "stream",
     "text": [
      "<string>:52: RuntimeWarning: invalid value encountered in double_scalars\n"
     ]
    },
    {
     "name": "stderr",
     "output_type": "stream",
     "text": [
      "<string>:52: RuntimeWarning: invalid value encountered in double_scalars\n"
     ]
    },
    {
     "name": "stderr",
     "output_type": "stream",
     "text": [
      "<string>:55: RuntimeWarning: invalid value encountered in double_scalars\n"
     ]
    },
    {
     "data": {
      "text/plain": [
       "3635"
      ]
     },
     "execution_count": 105,
     "metadata": {},
     "output_type": "execute_result"
    }
   ],
   "source": [
    "network.fit(tag=\"StgII-StgIII\", dys_threshold=0.5,\n",
    "            miRNA_A=tgca_luad.make_dataset(dataset='miRNA', normal_tumor='tumor', pathologic_stages=['Stage II'],\n",
    "                                           normal_matched=False, mirna_gene_matched=True)[0],\n",
    "            gene_A=tgca_luad.make_dataset(dataset='gene', normal_tumor='tumor', pathologic_stages=['Stage II'],\n",
    "                                          normal_matched=False, mirna_gene_matched=True)[0],\n",
    "            miRNA_B=tgca_luad.make_dataset(dataset='miRNA', normal_tumor='tumor', pathologic_stages=['Stage III'],\n",
    "                                           normal_matched=False, mirna_gene_matched=True)[0],\n",
    "            gene_B=tgca_luad.make_dataset(dataset='gene', normal_tumor='tumor', pathologic_stages=['Stage III'],\n",
    "                                          normal_matched=False, mirna_gene_matched=True)[0],\n",
    "            putative_assocs=putative_assocs)"
   ]
  },
  {
   "cell_type": "code",
   "execution_count": 107,
   "metadata": {
    "collapsed": true
   },
   "outputs": [
    {
     "name": "stdout",
     "output_type": "stream",
     "text": [
      "n_A 84\nn_B 24\n"
     ]
    },
    {
     "name": "stderr",
     "output_type": "stream",
     "text": [
      "<string>:52: RuntimeWarning: invalid value encountered in double_scalars\n"
     ]
    },
    {
     "name": "stderr",
     "output_type": "stream",
     "text": [
      "<string>:55: RuntimeWarning: invalid value encountered in double_scalars\n"
     ]
    },
    {
     "name": "stderr",
     "output_type": "stream",
     "text": [
      "<string>:55: RuntimeWarning: invalid value encountered in double_scalars\n"
     ]
    },
    {
     "name": "stderr",
     "output_type": "stream",
     "text": [
      "<string>:52: RuntimeWarning: invalid value encountered in double_scalars\n"
     ]
    },
    {
     "name": "stderr",
     "output_type": "stream",
     "text": [
      "<string>:52: RuntimeWarning: invalid value encountered in double_scalars\n"
     ]
    },
    {
     "name": "stderr",
     "output_type": "stream",
     "text": [
      "<string>:55: RuntimeWarning: invalid value encountered in double_scalars\n"
     ]
    },
    {
     "name": "stderr",
     "output_type": "stream",
     "text": [
      "<string>:52: RuntimeWarning: invalid value encountered in double_scalars\n"
     ]
    },
    {
     "name": "stderr",
     "output_type": "stream",
     "text": [
      "<string>:55: RuntimeWarning: invalid value encountered in double_scalars\n"
     ]
    },
    {
     "name": "stderr",
     "output_type": "stream",
     "text": [
      "<string>:52: RuntimeWarning: invalid value encountered in double_scalars\n"
     ]
    },
    {
     "name": "stderr",
     "output_type": "stream",
     "text": [
      "<string>:55: RuntimeWarning: invalid value encountered in double_scalars\n"
     ]
    },
    {
     "data": {
      "text/plain": [
       "5904"
      ]
     },
     "execution_count": 107,
     "metadata": {},
     "output_type": "execute_result"
    }
   ],
   "source": [
    "network.fit(tag=\"StgIII-StgIV\", dys_threshold=0.8,\n",
    "            miRNA_A=tgca_luad.make_dataset(dataset='miRNA', normal_tumor='tumor', pathologic_stages=['Stage III'],\n",
    "                                           normal_matched=False, mirna_gene_matched=True)[0],\n",
    "            gene_A=tgca_luad.make_dataset(dataset='gene', normal_tumor='tumor', pathologic_stages=['Stage III'],\n",
    "                                          normal_matched=False, mirna_gene_matched=True)[0],\n",
    "            miRNA_B=tgca_luad.make_dataset(dataset='miRNA', normal_tumor='tumor', pathologic_stages=['Stage IV'],\n",
    "                                           normal_matched=False, mirna_gene_matched=True)[0],\n",
    "            gene_B=tgca_luad.make_dataset(dataset='gene', normal_tumor='tumor', pathologic_stages=['Stage IV'],\n",
    "                                          normal_matched=False, mirna_gene_matched=True)[0],\n",
    "            putative_assocs=putative_assocs)"
   ]
  },
  {
   "cell_type": "code",
   "execution_count": 108,
   "metadata": {},
   "outputs": [
    {
     "name": "stdout",
     "output_type": "stream",
     "text": [
      "miRNAs_in_MTDN 271\nnormal_stgI_genes 3677\nstgI_StgII_genes "
     ]
    },
    {
     "name": "stdout",
     "output_type": "stream",
     "text": [
      "485\nstgII_StgIII_genes 2225\nstgIII_StgIV_genes 1956\n"
     ]
    }
   ],
   "source": [
    "network.build_miRNA_features()"
   ]
  },
  {
   "cell_type": "code",
   "execution_count": 109,
   "metadata": {},
   "outputs": [
    {
     "name": "stdout",
     "output_type": "stream",
     "text": [
      "[  5   4 225   2   2   1  18   1   2   1   1   1   1   1   1   1   1   1\n   1   1]\n"
     ]
    }
   ],
   "source": [
    "from sklearn.cluster import AgglomerativeClustering\n",
    "\n",
    "mirna_cluster = AgglomerativeClustering(n_clusters=20, affinity='l1', linkage='complete').fit(\n",
    "    network.miRNA_target_assn_matrix)\n",
    "\n",
    "print np.bincount(mirna_cluster.labels_)"
   ]
  },
  {
   "cell_type": "code",
   "execution_count": 21,
   "metadata": {
    "collapsed": true
   },
   "outputs": [
    {
     "data": {
      "text/plain": [
       "hsa-mir-219a-2    0.000362\nhsa-mir-652       0.000362\nhsa-mir-126       0.000362\nhsa-mir-409       0.000362\nhsa-mir-188       0.000362\nhsa-mir-187       0.000362\nhsa-mir-551b      0.000362\nhsa-mir-378f      0.000362\nhsa-mir-487b      0.000362\nhsa-mir-210       0.000723\nhsa-mir-490       0.000723\nhsa-mir-23c       0.000723\nhsa-mir-1197      0.000723\nhsa-let-7e        0.000723\nhsa-mir-191       0.000723\nhsa-mir-708       0.001085\nhsa-mir-146a      0.001085\nhsa-mir-4644      0.001085\nhsa-mir-383       0.001085\nhsa-mir-6807      0.001085\nhsa-mir-378c      0.001085\nhsa-mir-151a      0.001085\nhsa-mir-4676      0.001447\nhsa-mir-155       0.001447\nhsa-mir-185       0.001447\nhsa-mir-99b       0.001447\nhsa-mir-1298      0.001447\nhsa-mir-6884      0.001447\nhsa-mir-99a       0.001447\nhsa-mir-133b      0.001808\n                    ...   \nhsa-mir-93        0.041514\nhsa-mir-92b       0.042490\nhsa-mir-493       0.043213\nhsa-mir-15b       0.044212\nhsa-mir-106b      0.045294\nhsa-mir-488       0.046049\nhsa-mir-302a      0.048829\nhsa-mir-873       0.051544\nhsa-mir-1271      0.051547\nhsa-mir-204       0.051742\nhsa-mir-130b      0.051909\nhsa-mir-410       0.056984\nhsa-mir-140       0.062039\nhsa-mir-372       0.064400\nhsa-mir-148b      0.065559\nhsa-let-7b        0.067282\nhsa-mir-520f      0.067854\nhsa-mir-330       0.067896\nhsa-mir-448       0.072567\nhsa-mir-217       0.078677\nhsa-mir-424       0.080636\nhsa-mir-449a      0.088842\nhsa-mir-520d      0.102329\nhsa-mir-520a      0.104861\nhsa-mir-520b      0.118709\nhsa-mir-520c      0.138302\nhsa-mir-519d      0.164758\nhsa-mir-520e      0.177879\nhsa-mir-216a      0.204538\nhsa-mir-526b      0.216698\ndtype: float64"
      ]
     },
     "execution_count": 21,
     "metadata": {},
     "output_type": "execute_result"
    }
   ],
   "source": [
    "network.miRNA_target_assn_matrix.sum(axis=1).sort_values()"
   ]
  },
  {
   "cell_type": "code",
   "execution_count": 110,
   "metadata": {
    "collapsed": true
   },
   "outputs": [
    {
     "name": "stdout",
     "output_type": "stream",
     "text": [
      "1881\n"
     ]
    },
    {
     "data": {
      "image/png": "[encoded data removed]",
      "text/plain": [
       "<matplotlib.figure.Figure at 0x7fa91fcc7150>"
      ]
     },
     "metadata": {},
     "output_type": "display_data"
    }
   ],
   "source": [
    "miRNAs_nodes = set(n for n, d in network.B.nodes(data=True) if d['bipartite'] == 0)\n",
    "targets_nodes = set(network.B) - miRNAs_nodes\n",
    "\n",
    "miRNA_nodes_degrees = nx.bipartite.degrees(network.B, miRNAs_nodes)[1]\n",
    "print len(miRNA_nodes_degrees)\n",
    "\n",
    "plt.figure()\n",
    "plt.hist(miRNA_nodes_degrees.values(), bins=40)\n",
    "plt.title('Distribution of miRNA out-degree')\n",
    "plt.ylabel('number of targets')\n",
    "plt.xlabel('number of miRNAs')\n",
    "plt.show()"
   ]
  },
  {
   "cell_type": "code",
   "execution_count": 112,
   "metadata": {},
   "outputs": [
    {
     "name": "stdout",
     "output_type": "stream",
     "text": [
      "20484\n"
     ]
    },
    {
     "data": {
      "image/png": "[encoded data removed]",
      "text/plain": [
       "<matplotlib.figure.Figure at 0x7fa91c4b87d0>"
      ]
     },
     "metadata": {},
     "output_type": "display_data"
    }
   ],
   "source": [
    "targets_nodes_degrees = nx.bipartite.degrees(network.B, targets_nodes)[1]\n",
    "print len(targets_nodes_degrees)\n",
    "\n",
    "plt.figure()\n",
    "plt.hist(targets_nodes_degrees.values(), bins=40)\n",
    "plt.title('Distribution of gene in-degree')\n",
    "plt.ylabel('number of miRNAs')\n",
    "plt.xlabel('number of targets')\n",
    "plt.show()"
   ]
  },
  {
   "cell_type": "code",
   "execution_count": 33,
   "metadata": {
    "collapsed": true
   },
   "outputs": [
    {
     "name": "stdout",
     "output_type": "stream",
     "text": [
      "[260, 7, 1, 1, 1]\n"
     ]
    },
    {
     "name": "stdout",
     "output_type": "stream",
     "text": [
      "[257, 5, 3, 2, 1, 1, 1]\n"
     ]
    },
    {
     "name": "stdout",
     "output_type": "stream",
     "text": [
      "[252, 5, 3, 2, 2, 2, 1, 1, 1, 1]\n"
     ]
    },
    {
     "name": "stdout",
     "output_type": "stream",
     "text": [
      "[249, 5, 3, 3, 2, 2, 1, 1, 1, 1, 1, 1]\n"
     ]
    },
    {
     "name": "stdout",
     "output_type": "stream",
     "text": [
      "[248, 3, 3, 3, 2, 2, 1, 1, 1, 1, 1, 1, 1, 1, 1]\n"
     ]
    },
    {
     "name": "stdout",
     "output_type": "stream",
     "text": [
      "[246, 3, 3, 2, 2, 2, 2, 1, 1, 1, 1, 1, 1, 1, 1, 1, 1]\n"
     ]
    },
    {
     "name": "stdout",
     "output_type": "stream",
     "text": [
      "[244, 3, 2, 2, 2, 2, 2, 1, 1, 1, 1, 1, 1, 1, 1, 1, 1, 1, 1, 1]\n"
     ]
    },
    {
     "data": {
      "image/png": "[encoded data removed]",
      "text/plain": [
       "<matplotlib.figure.Figure at 0x7fa918b50690>"
      ]
     },
     "metadata": {},
     "output_type": "display_data"
    }
   ],
   "source": [
    "n_clusters = [5, 7, 10, 12, 15, 17, 20]\n",
    "\n",
    "plt.figure()\n",
    "for n_cluster in n_clusters:\n",
    "    bin_count = network.run_miRNA_clustering(n_cluster=n_cluster, linkage='complete')\n",
    "    print sorted(bin_count, reverse=True)\n",
    "    plt.plot(range(1, len(bin_count)+1), sorted(bin_count, reverse=True))\n",
    "plt.ylabel('frequency')\n",
    "plt.xlabel('number of degrees')\n",
    "plt.ylim(0, 100)\n",
    "plt.show()"
   ]
  },
  {
   "cell_type": "code",
   "execution_count": 114,
   "metadata": {},
   "outputs": [
    {
     "data": {
      "text/plain": [
       "array([  2,   3, 253,   2,   2,   5,   1,   1,   1,   1])"
      ]
     },
     "execution_count": 114,
     "metadata": {},
     "output_type": "execute_result"
    }
   ],
   "source": [
    "network.run_miRNA_clustering(n_cluster=10, linkage='complete')"
   ]
  },
  {
   "cell_type": "markdown",
   "metadata": {},
   "source": [
    "## TarBase: Validated miRNA-target interactions"
   ]
  },
  {
   "cell_type": "code",
   "execution_count": 115,
   "metadata": {
    "collapsed": true
   },
   "outputs": [],
   "source": [
    "TarBase_df = pandas.read_table(os.path.join(ROOT_DIR, 'data/external/TarBase_Experiment_Valid_miRNA-Targets.csv'), delimiter='\\t')\n",
    "TarBase_df = TarBase_df[TarBase_df['species'] == 'Homo sapiens']\n",
    "TarBase_df = TarBase_df[TarBase_df['tissue'].isin(['Lung Cancerous Tissues', 'Lung'])]\n",
    "TarBase_df = TarBase_df[TarBase_df['category'] == 'Cancer/Malignant']\n",
    "TarBase_df['mirna'] = TarBase_df['mirna'].str.lower()\n",
    "TarBase_df['mirna'] = TarBase_df['mirna'].str.replace(\"-3p.*|-5p.*\", \"\")\n",
    "TarBase_df.drop_duplicates(inplace=True)\n",
    "\n",
    "TarBase_df = TarBase_df[['geneName', 'mirna']]\n",
    "# TarBase_df"
   ]
  },
  {
   "cell_type": "code",
   "execution_count": 116,
   "metadata": {
    "collapsed": true
   },
   "outputs": [],
   "source": [
    "for row in TarBase_df.iterrows():\n",
    "    if network.B.get_edge_data(row[1]['mirna'], row[1]['geneName']):\n",
    "        print row[1]['mirna'], row[1]['geneName'], network.B.get_edge_data(row[1]['mirna'], row[1]['geneName'])"
   ]
  },
  {
   "cell_type": "markdown",
   "metadata": {},
   "source": [
    "### Prepare samples for Classification task"
   ]
  },
  {
   "cell_type": "code",
   "execution_count": 120,
   "metadata": {
    "collapsed": true
   },
   "outputs": [
    {
     "name": "stdout",
     "output_type": "stream",
     "text": [
      "X (92, 1881)\ny (92,)\n 1    46\n-1    46\nName: pathologic_stage, dtype: int64\n1    277\n2    121\n3     84\n0     46\n4     24\nName: pathologic_stage, dtype: int64\n"
     ]
    }
   ],
   "source": [
    "from sklearn.model_selection import train_test_split\n",
    "\n",
    "X, y = tgca_luad.make_dataset(dataset='miRNA', normal_tumor='both', normal_matched=True, mirna_gene_matched=False,\n",
    "                              pathologic_stages=['normal', 'Stage I', 'Stage II', 'Stage III', 'Stage IV'], \n",
    "                              label_mapping={'normal': -1, 'Stage I': 1, 'Stage II': 1, 'Stage III': 1, 'Stage IV': 1})\n",
    "\n",
    "X_multi, y_multi = tgca_luad.make_dataset(dataset='miRNA', normal_tumor='both', normal_matched=False, mirna_gene_matched=False,\n",
    "                                          pathologic_stages=['normal', 'Stage I', 'Stage II', 'Stage III', 'Stage IV'],\n",
    "                                          label_mapping={'normal': 0, 'Stage I': 1, 'Stage II': 2, 'Stage III': 3, 'Stage IV': 4})\n",
    "\n",
    "X_train, X_test, Y_train, Y_test = \\\n",
    "    train_test_split(X, y, test_size=0.2, random_state=np.random.randint(0, 10000), stratify=y)\n",
    "\n",
    "X_multi_train, X_multi_test, Y_multi_train, Y_multi_test = \\\n",
    "    train_test_split(X_multi, y_multi, test_size=0.2, random_state=np.random.randint(0, 10000), stratify=y_multi)\n",
    "\n",
    "print \"X\", X.shape\n",
    "print \"y\", y.shape\n",
    "\n",
    "print y.value_counts()\n",
    "print y_multi.value_counts()"
   ]
  },
  {
   "cell_type": "markdown",
   "metadata": {
    "collapsed": true
   },
   "source": [
    "## Create Classifiers"
   ]
  },
  {
   "cell_type": "code",
   "execution_count": 121,
   "metadata": {
    "collapsed": true
   },
   "outputs": [
    {
     "name": "stdout",
     "output_type": "stream",
     "text": [
      "FISTA Flat: {'loss': 'weighted-logistic', 'regul': 'l1', 'verbose': True, 'numThreads': -1, 'max_it': 1000, 'pos': False, 'intercept': False, 'it0': 10, 'L0': 0.1, 'tol': 0.001, 'lambda1': 0.5, 'lambda2': 0.5, 'lambda3': 0.5}\nFISTA Flat: {'loss': 'weighted-logistic', 'regul': 'elastic-net', 'verbose': True, 'numThreads': -1, 'max_it': 1000, 'pos': False, 'intercept': False, 'it0': 10, 'L0': 0.1, 'tol': 0.001, 'lambda1': 0.5, 'lambda2': 0.5, 'lambda3': 0.5}\nFISTA Flat: {'loss': 'logistic', 'regul': 'sparse-group-lasso-l2', 'verbose': True, 'numThreads': -1, 'max_it': 1000, 'pos': False, 'intercept': False, 'it0': 10, 'L0': 0.1, 'tol': 0.001, 'lambda1': 0.2, 'lambda2': 0.5, 'lambda3': 0.5}\n"
     ]
    },
    {
     "name": "stdout",
     "output_type": "stream",
     "text": [
      "FISTA Flat: {'loss': 'multi-logistic', 'regul': 'l1l2', 'verbose': True, 'numThreads': -1, 'max_it': 1000, 'pos': False, 'intercept': False, 'it0': 10, 'L0': 0.1, 'tol': 0.001, 'lambda1': 0.5, 'lambda2': 0.5, 'lambda3': 0.5}\n"
     ]
    },
    {
     "data": {
      "text/plain": [
       "array([[  8.20720496e-01],\n       [  4.85602231e-02],\n       [  9.40832204e-01],\n       [  1.00100000e+03]])"
      ]
     },
     "execution_count": 121,
     "metadata": {},
     "output_type": "execute_result"
    }
   ],
   "source": [
    "from src.models.group_lasso_spams import SPAMSClassifier\n",
    "import spams\n",
    "\n",
    "myfloat = np.float\n",
    "param = {'numThreads': -1, 'verbose': True,\n",
    "         'it0': 10, 'max_it': 1000,\n",
    "         'L0': 0.1, 'tol': 1e-3, 'intercept': False,\n",
    "         'pos': False}\n",
    "param['lambda1'] = 0.5\n",
    "param['lambda2'] = 0.5\n",
    "param['lambda3'] = 0.5\n",
    "\n",
    "X_train, X_test, Y_train, Y_test = \\\n",
    "    train_test_split(X, y, test_size=0.2, random_state=np.random.randint(0, 10000), stratify=y)\n",
    "\n",
    "\n",
    "X_train = np.asfortranarray(X_train, dtype=myfloat)\n",
    "Y_train = np.asfortranarray(Y_train, dtype=myfloat)\n",
    "Y_train = np.reshape(Y_train, [Y_train.shape[0], 1])\n",
    "X_multi_train = np.asfortranarray(X_multi_train, dtype=myfloat)\n",
    "Y_multi_train = np.asfortranarray(Y_multi_train, dtype=myfloat)\n",
    "Y_multi_train = np.reshape(Y_multi_train, [Y_multi_train.shape[0], 1])\n",
    "\n",
    "# L1 Lasso\n",
    "l1_lasso_param = param.copy()\n",
    "l1_lasso_param['loss'] = 'weighted-logistic'\n",
    "l1_lasso_param['regul'] = 'l1'\n",
    "l1_lasso = SPAMSClassifier()\n",
    "l1_lasso.fit(X_train, Y_train, groups=None, params=l1_lasso_param)\n",
    "\n",
    "# Group Lasso L2\n",
    "# group_l2_param = param.copy()\n",
    "# group_l2_param['loss'] = 'weighted-logistic'\n",
    "# group_l2_param['regul'] = 'group-lasso-l2'\n",
    "# group_l2 = SPAMSClassifier()\n",
    "# group_l2.fit(X_train, Y_train, groups=network.get_miRNA_cluster_assgn(), params=group_l2_param)\n",
    "\n",
    "# Elastic Net\n",
    "elastic_net_param = param.copy()\n",
    "elastic_net_param['loss'] = 'weighted-logistic'\n",
    "elastic_net_param['regul'] = 'elastic-net'\n",
    "elastic_net = SPAMSClassifier()\n",
    "elastic_net.fit(X_train, Y_train, groups=None, params=elastic_net_param)\n",
    "\n",
    "# Sparse Group Lasso\n",
    "sparse_group_l2_param = param.copy()\n",
    "sparse_group_l2_param['loss'] = 'logistic'\n",
    "sparse_group_l2_param['regul'] = 'sparse-group-lasso-l2'\n",
    "sparse_group_l2_param['lambda1'] = 0.2\n",
    "sparse_group_l2 = SPAMSClassifier()\n",
    "sparse_group_l2.fit(X_train, Y_train, groups=network.get_miRNA_group_assgn(), params=sparse_group_l2_param)\n",
    "\n",
    "# Multi Logistic\n",
    "multi_task_l1l2_param = param.copy()\n",
    "multi_task_l1l2_param['loss'] = 'multi-logistic'\n",
    "multi_task_l1l2_param['regul'] = 'l1l2'\n",
    "multi_task_l1l2 = SPAMSClassifier()\n",
    "multi_task_l1l2.fit(X_multi_train, Y_multi_train, groups=None, params=multi_task_l1l2_param)"
   ]
  },
  {
   "cell_type": "markdown",
   "metadata": {},
   "source": [
    "## Logistic Regression with L1L2 & Overlapping Group LASSO regularizer"
   ]
  },
  {
   "cell_type": "code",
   "execution_count": 245,
   "metadata": {
    "collapsed": true
   },
   "outputs": [
    {
     "name": "stdout",
     "output_type": "stream",
     "text": [
      "Non-zero: 246\n"
     ]
    }
   ],
   "source": [
    "import parsimony.estimators as estimators\n",
    "import parsimony.algorithms as algorithms\n",
    "import parsimony.functions.nesterov.gl as gl\n",
    "import parsimony.utils.start_vectors as start_vectors\n",
    "# \n",
    "# X_train, X_test, Y_train, Y_test = \\\n",
    "#     train_test_split(X, y, test_size=0.2, random_state=np.random.randint(0, 10000), stratify=y)\n",
    "\n",
    "A = gl.linear_operator_from_groups(X_train.shape[1],\n",
    "                                   network.miRNA_clusters_int\n",
    "                                   # weights=[2*1./len(g) for g in network.miRNA_groups_int]\n",
    "                                   )\n",
    "beta = start_vectors.ZerosStartVector().get_vector(X_train.shape[1])\n",
    "\n",
    "logistic_L1L2GL = estimators.LogisticRegressionL1L2GL(l1=1.5, l2=0.0, gl=2.5, A=A,\n",
    "                                                      algorithm=algorithms.proximal.FISTA(),\n",
    "                                                      class_weight='auto',\n",
    "                                                      algorithm_params=dict(max_iter=1000),\n",
    "                                                      mean=False)\n",
    "logistic_L1L2GL.fit(X=X_train, y=Y_train, beta=beta)\n",
    "\n",
    "print 'Non-zero:', len(logistic_L1L2GL.beta.nonzero()[0])"
   ]
  },
  {
   "cell_type": "markdown",
   "metadata": {},
   "source": [
    "## Parameter selection"
   ]
  },
  {
   "cell_type": "code",
   "execution_count": 35,
   "metadata": {
    "collapsed": true
   },
   "outputs": [
    {
     "ename": "NameError",
     "evalue": "name 'metrics' is not defined",
     "traceback": [
      "\u001b[0;31m\u001b[0m",
      "\u001b[0;31mNameError\u001b[0mTraceback (most recent call last)",
      "\u001b[0;32m<ipython-input-35-719e70c3666e>\u001b[0m in \u001b[0;36m<module>\u001b[0;34m()\u001b[0m\n\u001b[1;32m     26\u001b[0m     \u001b[0;32mfor\u001b[0m \u001b[0mtrain\u001b[0m\u001b[0;34m,\u001b[0m \u001b[0mtest\u001b[0m \u001b[0;32min\u001b[0m \u001b[0mkf\u001b[0m\u001b[0;34m.\u001b[0m\u001b[0msplit\u001b[0m\u001b[0;34m(\u001b[0m\u001b[0mX\u001b[0m\u001b[0;34m,\u001b[0m \u001b[0my\u001b[0m\u001b[0;34m)\u001b[0m\u001b[0;34m:\u001b[0m\u001b[0;34m\u001b[0m\u001b[0m\n\u001b[1;32m     27\u001b[0m         \u001b[0mclf\u001b[0m\u001b[0;34m.\u001b[0m\u001b[0mfit\u001b[0m\u001b[0;34m(\u001b[0m\u001b[0mX\u001b[0m\u001b[0;34m[\u001b[0m\u001b[0mtrain\u001b[0m\u001b[0;34m]\u001b[0m\u001b[0;34m,\u001b[0m \u001b[0my\u001b[0m\u001b[0;34m[\u001b[0m\u001b[0mtrain\u001b[0m\u001b[0;34m]\u001b[0m\u001b[0;34m,\u001b[0m \u001b[0mbeta\u001b[0m\u001b[0;34m=\u001b[0m\u001b[0mstart_vectors\u001b[0m\u001b[0;34m.\u001b[0m\u001b[0mZerosStartVector\u001b[0m\u001b[0;34m(\u001b[0m\u001b[0;34m)\u001b[0m\u001b[0;34m.\u001b[0m\u001b[0mget_vector\u001b[0m\u001b[0;34m(\u001b[0m\u001b[0mX\u001b[0m\u001b[0;34m.\u001b[0m\u001b[0mshape\u001b[0m\u001b[0;34m[\u001b[0m\u001b[0;36m1\u001b[0m\u001b[0;34m]\u001b[0m\u001b[0;34m)\u001b[0m\u001b[0;34m)\u001b[0m\u001b[0;34m\u001b[0m\u001b[0m\n\u001b[0;32m---> 28\u001b[0;31m         \u001b[0mscore\u001b[0m \u001b[0;34m=\u001b[0m \u001b[0mmetrics\u001b[0m\u001b[0;34m.\u001b[0m\u001b[0mf1_score\u001b[0m\u001b[0;34m(\u001b[0m\u001b[0my_true\u001b[0m\u001b[0;34m=\u001b[0m\u001b[0my\u001b[0m\u001b[0;34m[\u001b[0m\u001b[0mtest\u001b[0m\u001b[0;34m]\u001b[0m\u001b[0;34m,\u001b[0m \u001b[0my_pred\u001b[0m\u001b[0;34m=\u001b[0m\u001b[0mclf\u001b[0m\u001b[0;34m.\u001b[0m\u001b[0mpredict\u001b[0m\u001b[0;34m(\u001b[0m\u001b[0mX\u001b[0m\u001b[0;34m[\u001b[0m\u001b[0mtest\u001b[0m\u001b[0;34m]\u001b[0m\u001b[0;34m)\u001b[0m\u001b[0;34m)\u001b[0m\u001b[0;34m\u001b[0m\u001b[0m\n\u001b[0m\u001b[1;32m     29\u001b[0m         \u001b[0mcv_mean\u001b[0m\u001b[0;34m.\u001b[0m\u001b[0mappend\u001b[0m\u001b[0;34m(\u001b[0m\u001b[0mscore\u001b[0m\u001b[0;34m)\u001b[0m\u001b[0;34m\u001b[0m\u001b[0m\n\u001b[1;32m     30\u001b[0m \u001b[0;34m\u001b[0m\u001b[0m\n",
      "\u001b[0;31mNameError\u001b[0m: name 'metrics' is not defined"
     ],
     "output_type": "error"
    }
   ],
   "source": [
    "from sklearn.model_selection import StratifiedKFold\n",
    "\n",
    "X, y = tgca_luad.make_dataset(dataset='miRNA', normal_tumor='both', normal_matched=False, mirna_gene_matched=False,\n",
    "                              pathologic_stages=['Stage I', 'Stage II', 'Stage III', 'Stage IV'],\n",
    "                              label_mapping={'normal': 0, 'Stage I': 0, 'Stage II': 1, 'Stage III': 1, 'Stage IV': 1})\n",
    "X = X.values\n",
    "y = y.values\n",
    "\n",
    "parameters = {'alpha': [0, 0.15, 0.35, 0.5, 0.65, 0.85, 1.0],\n",
    "              'lambda': [0, 0.5, 0.75, 1.0, 2., 3., 4.]}\n",
    "\n",
    "# parameters = {'l1': [0.05, 2, 3, 5, 10, 20, 30],\n",
    "#               'gl': [0.05, 2, 3, 5, 10, 20, 30]}\n",
    "\n",
    "kf = StratifiedKFold(n_splits=5, shuffle=True)\n",
    "\n",
    "l1_scores = []\n",
    "for alpha in parameters['alpha']:\n",
    "    clf = estimators.LogisticRegressionL1L2GL(l1=5*alpha, l2=0.0, gl=10.0*(1-alpha), A=A,\n",
    "                                               class_weight='auto',\n",
    "                                               algorithm=algorithms.proximal.FISTA(),\n",
    "                                               algorithm_params=dict(max_iter=1000),\n",
    "                                               mean=False)\n",
    "\n",
    "    cv_mean = []\n",
    "    for train, test in kf.split(X, y):\n",
    "        clf.fit(X[train], y[train], beta=start_vectors.ZerosStartVector().get_vector(X.shape[1]))\n",
    "        score = metrics.f1_score(y_true=y[test], y_pred=clf.predict(X[test]))\n",
    "        cv_mean.append(score)\n",
    "        \n",
    "    l1_scores.append(np.mean(cv_mean))\n",
    "\n",
    "gl_scores = []\n",
    "for lambd in parameters['lambda']:\n",
    "    clf = estimators.LogisticRegressionL1L2GL(l1=5*lambd, l2=0.0, gl=10*lambd, A=A,\n",
    "                                               class_weight='auto',\n",
    "                                               algorithm=algorithms.proximal.FISTA(),\n",
    "                                               algorithm_params=dict(max_iter=1000),\n",
    "                                               mean=False)\n",
    "\n",
    "    cv_mean = []\n",
    "    for train, test in kf.split(X, y):\n",
    "        clf.fit(X[train], y[train], beta=start_vectors.ZerosStartVector().get_vector(X.shape[1]))\n",
    "        score = metrics.f1_score(y_true=y[test], y_pred=clf.predict(X[test]))\n",
    "        cv_mean.append(score)\n",
    "\n",
    "    gl_scores.append(np.mean(cv_mean))"
   ]
  },
  {
   "cell_type": "code",
   "execution_count": 36,
   "metadata": {
    "collapsed": true
   },
   "outputs": [
    {
     "ename": "ValueError",
     "evalue": "x and y must have same first dimension, but have shapes (7,) and (0,)",
     "traceback": [
      "\u001b[0;31m\u001b[0m",
      "\u001b[0;31mValueError\u001b[0mTraceback (most recent call last)",
      "\u001b[0;32m<ipython-input-36-fd98ff77b2a5>\u001b[0m in \u001b[0;36m<module>\u001b[0;34m()\u001b[0m\n\u001b[1;32m      2\u001b[0m \u001b[0;34m\u001b[0m\u001b[0m\n\u001b[1;32m      3\u001b[0m \u001b[0mplt\u001b[0m\u001b[0;34m.\u001b[0m\u001b[0mfigure\u001b[0m\u001b[0;34m(\u001b[0m\u001b[0mfigsize\u001b[0m\u001b[0;34m=\u001b[0m\u001b[0;34m(\u001b[0m\u001b[0;36m8\u001b[0m\u001b[0;34m,\u001b[0m \u001b[0;36m6\u001b[0m\u001b[0;34m)\u001b[0m\u001b[0;34m,\u001b[0m \u001b[0mdpi\u001b[0m\u001b[0;34m=\u001b[0m\u001b[0;36m80\u001b[0m\u001b[0;34m)\u001b[0m\u001b[0;34m\u001b[0m\u001b[0m\n\u001b[0;32m----> 4\u001b[0;31m \u001b[0mplt\u001b[0m\u001b[0;34m.\u001b[0m\u001b[0mplot\u001b[0m\u001b[0;34m(\u001b[0m\u001b[0mparameters\u001b[0m\u001b[0;34m[\u001b[0m\u001b[0;34m'alpha'\u001b[0m\u001b[0;34m]\u001b[0m\u001b[0;34m,\u001b[0m \u001b[0ml1_scores\u001b[0m\u001b[0;34m,\u001b[0m \u001b[0;34m'o-'\u001b[0m\u001b[0;34m)\u001b[0m\u001b[0;34m\u001b[0m\u001b[0m\n\u001b[0m\u001b[1;32m      5\u001b[0m \u001b[0;34m\u001b[0m\u001b[0m\n\u001b[1;32m      6\u001b[0m \u001b[0mplt\u001b[0m\u001b[0;34m.\u001b[0m\u001b[0mxlabel\u001b[0m\u001b[0;34m(\u001b[0m\u001b[0;34m'alpha'\u001b[0m\u001b[0;34m)\u001b[0m\u001b[0;34m\u001b[0m\u001b[0m\n",
      "\u001b[0;32m/opt/anaconda/lib/python2.7/site-packages/matplotlib/pyplot.pyc\u001b[0m in \u001b[0;36mplot\u001b[0;34m(*args, **kwargs)\u001b[0m\n\u001b[1;32m   3316\u001b[0m                       mplDeprecation)\n\u001b[1;32m   3317\u001b[0m     \u001b[0;32mtry\u001b[0m\u001b[0;34m:\u001b[0m\u001b[0;34m\u001b[0m\u001b[0m\n\u001b[0;32m-> 3318\u001b[0;31m         \u001b[0mret\u001b[0m \u001b[0;34m=\u001b[0m \u001b[0max\u001b[0m\u001b[0;34m.\u001b[0m\u001b[0mplot\u001b[0m\u001b[0;34m(\u001b[0m\u001b[0;34m*\u001b[0m\u001b[0margs\u001b[0m\u001b[0;34m,\u001b[0m \u001b[0;34m**\u001b[0m\u001b[0mkwargs\u001b[0m\u001b[0;34m)\u001b[0m\u001b[0;34m\u001b[0m\u001b[0m\n\u001b[0m\u001b[1;32m   3319\u001b[0m     \u001b[0;32mfinally\u001b[0m\u001b[0;34m:\u001b[0m\u001b[0;34m\u001b[0m\u001b[0m\n\u001b[1;32m   3320\u001b[0m         \u001b[0max\u001b[0m\u001b[0;34m.\u001b[0m\u001b[0m_hold\u001b[0m \u001b[0;34m=\u001b[0m \u001b[0mwashold\u001b[0m\u001b[0;34m\u001b[0m\u001b[0m\n",
      "\u001b[0;32m/opt/anaconda/lib/python2.7/site-packages/matplotlib/__init__.pyc\u001b[0m in \u001b[0;36minner\u001b[0;34m(ax, *args, **kwargs)\u001b[0m\n\u001b[1;32m   1890\u001b[0m                     warnings.warn(msg % (label_namer, func.__name__),\n\u001b[1;32m   1891\u001b[0m                                   RuntimeWarning, stacklevel=2)\n\u001b[0;32m-> 1892\u001b[0;31m             \u001b[0;32mreturn\u001b[0m \u001b[0mfunc\u001b[0m\u001b[0;34m(\u001b[0m\u001b[0max\u001b[0m\u001b[0;34m,\u001b[0m \u001b[0;34m*\u001b[0m\u001b[0margs\u001b[0m\u001b[0;34m,\u001b[0m \u001b[0;34m**\u001b[0m\u001b[0mkwargs\u001b[0m\u001b[0;34m)\u001b[0m\u001b[0;34m\u001b[0m\u001b[0m\n\u001b[0m\u001b[1;32m   1893\u001b[0m         \u001b[0mpre_doc\u001b[0m \u001b[0;34m=\u001b[0m \u001b[0minner\u001b[0m\u001b[0;34m.\u001b[0m\u001b[0m__doc__\u001b[0m\u001b[0;34m\u001b[0m\u001b[0m\n\u001b[1;32m   1894\u001b[0m         \u001b[0;32mif\u001b[0m \u001b[0mpre_doc\u001b[0m \u001b[0;32mis\u001b[0m \u001b[0mNone\u001b[0m\u001b[0;34m:\u001b[0m\u001b[0;34m\u001b[0m\u001b[0m\n",
      "\u001b[0;32m/opt/anaconda/lib/python2.7/site-packages/matplotlib/axes/_axes.pyc\u001b[0m in \u001b[0;36mplot\u001b[0;34m(self, *args, **kwargs)\u001b[0m\n\u001b[1;32m   1404\u001b[0m         \u001b[0mkwargs\u001b[0m \u001b[0;34m=\u001b[0m \u001b[0mcbook\u001b[0m\u001b[0;34m.\u001b[0m\u001b[0mnormalize_kwargs\u001b[0m\u001b[0;34m(\u001b[0m\u001b[0mkwargs\u001b[0m\u001b[0;34m,\u001b[0m \u001b[0m_alias_map\u001b[0m\u001b[0;34m)\u001b[0m\u001b[0;34m\u001b[0m\u001b[0m\n\u001b[1;32m   1405\u001b[0m \u001b[0;34m\u001b[0m\u001b[0m\n\u001b[0;32m-> 1406\u001b[0;31m         \u001b[0;32mfor\u001b[0m \u001b[0mline\u001b[0m \u001b[0;32min\u001b[0m \u001b[0mself\u001b[0m\u001b[0;34m.\u001b[0m\u001b[0m_get_lines\u001b[0m\u001b[0;34m(\u001b[0m\u001b[0;34m*\u001b[0m\u001b[0margs\u001b[0m\u001b[0;34m,\u001b[0m \u001b[0;34m**\u001b[0m\u001b[0mkwargs\u001b[0m\u001b[0;34m)\u001b[0m\u001b[0;34m:\u001b[0m\u001b[0;34m\u001b[0m\u001b[0m\n\u001b[0m\u001b[1;32m   1407\u001b[0m             \u001b[0mself\u001b[0m\u001b[0;34m.\u001b[0m\u001b[0madd_line\u001b[0m\u001b[0;34m(\u001b[0m\u001b[0mline\u001b[0m\u001b[0;34m)\u001b[0m\u001b[0;34m\u001b[0m\u001b[0m\n\u001b[1;32m   1408\u001b[0m             \u001b[0mlines\u001b[0m\u001b[0;34m.\u001b[0m\u001b[0mappend\u001b[0m\u001b[0;34m(\u001b[0m\u001b[0mline\u001b[0m\u001b[0;34m)\u001b[0m\u001b[0;34m\u001b[0m\u001b[0m\n",
      "\u001b[0;32m/opt/anaconda/lib/python2.7/site-packages/matplotlib/axes/_base.pyc\u001b[0m in \u001b[0;36m_grab_next_args\u001b[0;34m(self, *args, **kwargs)\u001b[0m\n\u001b[1;32m    405\u001b[0m                 \u001b[0;32mreturn\u001b[0m\u001b[0;34m\u001b[0m\u001b[0m\n\u001b[1;32m    406\u001b[0m             \u001b[0;32mif\u001b[0m \u001b[0mlen\u001b[0m\u001b[0;34m(\u001b[0m\u001b[0mremaining\u001b[0m\u001b[0;34m)\u001b[0m \u001b[0;34m<=\u001b[0m \u001b[0;36m3\u001b[0m\u001b[0;34m:\u001b[0m\u001b[0;34m\u001b[0m\u001b[0m\n\u001b[0;32m--> 407\u001b[0;31m                 \u001b[0;32mfor\u001b[0m \u001b[0mseg\u001b[0m \u001b[0;32min\u001b[0m \u001b[0mself\u001b[0m\u001b[0;34m.\u001b[0m\u001b[0m_plot_args\u001b[0m\u001b[0;34m(\u001b[0m\u001b[0mremaining\u001b[0m\u001b[0;34m,\u001b[0m \u001b[0mkwargs\u001b[0m\u001b[0;34m)\u001b[0m\u001b[0;34m:\u001b[0m\u001b[0;34m\u001b[0m\u001b[0m\n\u001b[0m\u001b[1;32m    408\u001b[0m                     \u001b[0;32myield\u001b[0m \u001b[0mseg\u001b[0m\u001b[0;34m\u001b[0m\u001b[0m\n\u001b[1;32m    409\u001b[0m                 \u001b[0;32mreturn\u001b[0m\u001b[0;34m\u001b[0m\u001b[0m\n",
      "\u001b[0;32m/opt/anaconda/lib/python2.7/site-packages/matplotlib/axes/_base.pyc\u001b[0m in \u001b[0;36m_plot_args\u001b[0;34m(self, tup, kwargs)\u001b[0m\n\u001b[1;32m    383\u001b[0m             \u001b[0mx\u001b[0m\u001b[0;34m,\u001b[0m \u001b[0my\u001b[0m \u001b[0;34m=\u001b[0m \u001b[0mindex_of\u001b[0m\u001b[0;34m(\u001b[0m\u001b[0mtup\u001b[0m\u001b[0;34m[\u001b[0m\u001b[0;34m-\u001b[0m\u001b[0;36m1\u001b[0m\u001b[0;34m]\u001b[0m\u001b[0;34m)\u001b[0m\u001b[0;34m\u001b[0m\u001b[0m\n\u001b[1;32m    384\u001b[0m \u001b[0;34m\u001b[0m\u001b[0m\n\u001b[0;32m--> 385\u001b[0;31m         \u001b[0mx\u001b[0m\u001b[0;34m,\u001b[0m \u001b[0my\u001b[0m \u001b[0;34m=\u001b[0m \u001b[0mself\u001b[0m\u001b[0;34m.\u001b[0m\u001b[0m_xy_from_xy\u001b[0m\u001b[0;34m(\u001b[0m\u001b[0mx\u001b[0m\u001b[0;34m,\u001b[0m \u001b[0my\u001b[0m\u001b[0;34m)\u001b[0m\u001b[0;34m\u001b[0m\u001b[0m\n\u001b[0m\u001b[1;32m    386\u001b[0m \u001b[0;34m\u001b[0m\u001b[0m\n\u001b[1;32m    387\u001b[0m         \u001b[0;32mif\u001b[0m \u001b[0mself\u001b[0m\u001b[0;34m.\u001b[0m\u001b[0mcommand\u001b[0m \u001b[0;34m==\u001b[0m \u001b[0;34m'plot'\u001b[0m\u001b[0;34m:\u001b[0m\u001b[0;34m\u001b[0m\u001b[0m\n",
      "\u001b[0;32m/opt/anaconda/lib/python2.7/site-packages/matplotlib/axes/_base.pyc\u001b[0m in \u001b[0;36m_xy_from_xy\u001b[0;34m(self, x, y)\u001b[0m\n\u001b[1;32m    242\u001b[0m         \u001b[0;32mif\u001b[0m \u001b[0mx\u001b[0m\u001b[0;34m.\u001b[0m\u001b[0mshape\u001b[0m\u001b[0;34m[\u001b[0m\u001b[0;36m0\u001b[0m\u001b[0;34m]\u001b[0m \u001b[0;34m!=\u001b[0m \u001b[0my\u001b[0m\u001b[0;34m.\u001b[0m\u001b[0mshape\u001b[0m\u001b[0;34m[\u001b[0m\u001b[0;36m0\u001b[0m\u001b[0;34m]\u001b[0m\u001b[0;34m:\u001b[0m\u001b[0;34m\u001b[0m\u001b[0m\n\u001b[1;32m    243\u001b[0m             raise ValueError(\"x and y must have same first dimension, but \"\n\u001b[0;32m--> 244\u001b[0;31m                              \"have shapes {} and {}\".format(x.shape, y.shape))\n\u001b[0m\u001b[1;32m    245\u001b[0m         \u001b[0;32mif\u001b[0m \u001b[0mx\u001b[0m\u001b[0;34m.\u001b[0m\u001b[0mndim\u001b[0m \u001b[0;34m>\u001b[0m \u001b[0;36m2\u001b[0m \u001b[0;32mor\u001b[0m \u001b[0my\u001b[0m\u001b[0;34m.\u001b[0m\u001b[0mndim\u001b[0m \u001b[0;34m>\u001b[0m \u001b[0;36m2\u001b[0m\u001b[0;34m:\u001b[0m\u001b[0;34m\u001b[0m\u001b[0m\n\u001b[1;32m    246\u001b[0m             raise ValueError(\"x and y can be no greater than 2-D, but have \"\n",
      "\u001b[0;31mValueError\u001b[0m: x and y must have same first dimension, but have shapes (7,) and (0,)"
     ],
     "output_type": "error"
    }
   ],
   "source": [
    "from matplotlib import pyplot as plt\n",
    "\n",
    "plt.figure(figsize=(8, 6), dpi=80)\n",
    "plt.plot(parameters['alpha'], l1_scores, 'o-')\n",
    "\n",
    "plt.xlabel('alpha')\n",
    "plt.ylabel('f1-score, averaged on 5-fold cross validation')\n",
    "plt.title('')\n",
    "# plt.ylim(0, 1)\n",
    "plt.show()"
   ]
  },
  {
   "cell_type": "code",
   "execution_count": 210,
   "metadata": {
    "collapsed": true
   },
   "outputs": [
    {
     "data": {
      "image/png": "[encoded data removed]",
      "text/plain": [
       "<matplotlib.figure.Figure at 0x7f687301c590>"
      ]
     },
     "metadata": {},
     "output_type": "display_data"
    }
   ],
   "source": [
    "from matplotlib import pyplot as plt\n",
    "\n",
    "plt.figure(figsize=(8, 6), dpi=80)\n",
    "plt.plot(parameters['lambda'], gl_scores, 'o-')\n",
    "\n",
    "plt.xlabel('gl')\n",
    "plt.ylabel('f1-score, averaged on 5-fold cross validation')\n",
    "plt.title('')\n",
    "# plt.ylim(0,1)\n",
    "plt.show()"
   ]
  },
  {
   "cell_type": "markdown",
   "metadata": {},
   "source": [
    "\n",
    "## Classification Report"
   ]
  },
  {
   "cell_type": "code",
   "execution_count": 123,
   "metadata": {
    "collapsed": true
   },
   "outputs": [
    {
     "name": "stdout",
     "output_type": "stream",
     "text": [
      "\nLogistic L1L2GL\n             precision    recall  f1-score   support\n\n       -1.0       1.00      1.00      1.00        37\n        1.0       1.00      1.00      1.00        36\n\navg / total       1.00      1.00      1.00        73\n\n             precision    recall  f1-score   support\n\n         -1       1.00      0.89      0.94         9\n          1       0.91      1.00      0.95        10\n\navg / total       0.95      0.95      0.95        19\n\n\nmulti-task l1l2\n             precision    recall  f1-score   support\n\n        0.0       1.00      1.00      1.00        37\n        1.0       0.65      0.90      0.76       221\n        2.0       0.55      0.32      0.41        97\n        3.0       0.69      0.37      0.49        67\n        4.0       0.86      0.32      0.46        19\n\navg / total       0.68      0.68      0.65       441\n\n             precision    recall  f1-score   support\n\n          0       1.00      0.89      0.94         9\n          1       0.53      0.66      0.59        56\n          2       0.29      0.29      0.29        24\n          3       0.33      0.12      0.17        17\n          4       0.00      0.00      0.00         5\n\navg / total       0.46      0.49      0.46       111\n\n\nl1_lasso\n             precision    recall  f1-score   support\n\n       -1.0       1.00      1.00      1.00        37\n        1.0       1.00      1.00      1.00        36\n\navg / total       1.00      1.00      1.00        73\n\n             precision    recall  f1-score   support\n\n         -1       1.00      0.89      0.94         9\n          1       0.91      1.00      0.95        10\n\navg / total       0.95      0.95      0.95        19\n\n\nelastic_net\n             precision    recall  f1-score   support\n\n       -1.0       1.00      1.00      1.00        37\n        1.0       1.00      1.00      1.00        36\n\navg / total       1.00      1.00      1.00        73\n\n             precision    recall  f1-score   support\n\n         -1       1.00      0.89      0.94         9\n          1       0.91      1.00      0.95        10\n\navg / total       0.95      0.95      0.95        19\n\n"
     ]
    }
   ],
   "source": [
    "from sklearn import metrics\n",
    "\n",
    "for model, name in [\n",
    "                    (logistic_L1L2GL, 'Logistic L1L2GL'),\n",
    "                    (multi_task_l1l2, 'multi-task l1l2'),\n",
    "                    # (group_l2, 'group_small'),\n",
    "                    (l1_lasso, 'l1_lasso'),\n",
    "                    (elastic_net, 'elastic_net'),\n",
    "                    # (sparse_group_l2, 'sparse-group_small')\n",
    "                    ]:\n",
    "    print '\\n', name\n",
    "    if model is logistic_L1L2GL:\n",
    "        predicted = logistic_L1L2GL.predict(X_train)\n",
    "        np.place(predicted, predicted == 0., [-1])\n",
    "        print metrics.classification_report(Y_train, predicted)\n",
    "        predicted = logistic_L1L2GL.predict(X_test)\n",
    "        np.place(predicted, predicted == 0., [-1])\n",
    "        print metrics.classification_report(Y_test, predicted)\n",
    "    elif model.params['loss'] == 'multi-logistic':\n",
    "        print metrics.classification_report(Y_multi_train, model.predict(X_multi_train))\n",
    "        print metrics.classification_report(Y_multi_test, model.predict(X_multi_test))\n",
    "    else:\n",
    "        print metrics.classification_report(Y_train, model.predict(X_train))\n",
    "        print metrics.classification_report(Y_test, model.predict(X_test))"
   ]
  },
  {
   "cell_type": "markdown",
   "metadata": {},
   "source": [
    "## Cross validation metric"
   ]
  },
  {
   "cell_type": "code",
   "execution_count": 39,
   "metadata": {
    "collapsed": true
   },
   "outputs": [
    {
     "ename": "KeyboardInterrupt",
     "evalue": "",
     "traceback": [
      "\u001b[0;31m\u001b[0m",
      "\u001b[0;31mKeyboardInterrupt\u001b[0mTraceback (most recent call last)",
      "\u001b[0;32m<ipython-input-39-2a0b27f376e1>\u001b[0m in \u001b[0;36m<module>\u001b[0;34m()\u001b[0m\n\u001b[1;32m     14\u001b[0m \u001b[0mf1_loc_scores\u001b[0m \u001b[0;34m=\u001b[0m \u001b[0;34m[\u001b[0m\u001b[0;34m]\u001b[0m\u001b[0;34m\u001b[0m\u001b[0m\n\u001b[1;32m     15\u001b[0m \u001b[0;32mfor\u001b[0m \u001b[0mtrain_index\u001b[0m\u001b[0;34m,\u001b[0m \u001b[0mtest_index\u001b[0m \u001b[0;32min\u001b[0m \u001b[0mloo\u001b[0m\u001b[0;34m.\u001b[0m\u001b[0msplit\u001b[0m\u001b[0;34m(\u001b[0m\u001b[0mX\u001b[0m\u001b[0;34m,\u001b[0m \u001b[0my\u001b[0m\u001b[0;34m)\u001b[0m\u001b[0;34m:\u001b[0m\u001b[0;34m\u001b[0m\u001b[0m\n\u001b[0;32m---> 16\u001b[0;31m     \u001b[0mlogistic_L1L2GL\u001b[0m\u001b[0;34m.\u001b[0m\u001b[0mfit\u001b[0m\u001b[0;34m(\u001b[0m\u001b[0mX\u001b[0m\u001b[0;34m[\u001b[0m\u001b[0mtrain_index\u001b[0m\u001b[0;34m]\u001b[0m\u001b[0;34m,\u001b[0m \u001b[0my\u001b[0m\u001b[0;34m[\u001b[0m\u001b[0mtrain_index\u001b[0m\u001b[0;34m]\u001b[0m\u001b[0;34m)\u001b[0m\u001b[0;34m\u001b[0m\u001b[0m\n\u001b[0m\u001b[1;32m     17\u001b[0m     \u001b[0mscore\u001b[0m \u001b[0;34m=\u001b[0m \u001b[0mmetrics\u001b[0m\u001b[0;34m.\u001b[0m\u001b[0maccuracy_score\u001b[0m\u001b[0;34m(\u001b[0m\u001b[0my_true\u001b[0m\u001b[0;34m=\u001b[0m\u001b[0my\u001b[0m\u001b[0;34m[\u001b[0m\u001b[0mtest_index\u001b[0m\u001b[0;34m]\u001b[0m\u001b[0;34m,\u001b[0m \u001b[0my_pred\u001b[0m\u001b[0;34m=\u001b[0m\u001b[0mlogistic_L1L2GL\u001b[0m\u001b[0;34m.\u001b[0m\u001b[0mpredict\u001b[0m\u001b[0;34m(\u001b[0m\u001b[0mX\u001b[0m\u001b[0;34m[\u001b[0m\u001b[0mtest_index\u001b[0m\u001b[0;34m]\u001b[0m\u001b[0;34m)\u001b[0m\u001b[0;34m)\u001b[0m\u001b[0;34m\u001b[0m\u001b[0m\n\u001b[1;32m     18\u001b[0m     \u001b[0mf1_loc_scores\u001b[0m\u001b[0;34m.\u001b[0m\u001b[0mappend\u001b[0m\u001b[0;34m(\u001b[0m\u001b[0mscore\u001b[0m\u001b[0;34m)\u001b[0m\u001b[0;34m\u001b[0m\u001b[0m\n",
      "\u001b[0;32m/opt/anaconda/lib/python2.7/site-packages/parsimony/estimators.pyc\u001b[0m in \u001b[0;36mfit\u001b[0;34m(self, X, y, beta, sample_weight)\u001b[0m\n\u001b[1;32m   2218\u001b[0m \u001b[0;34m\u001b[0m\u001b[0m\n\u001b[1;32m   2219\u001b[0m         \u001b[0mfunction\u001b[0m\u001b[0;34m.\u001b[0m\u001b[0mset_params\u001b[0m\u001b[0;34m(\u001b[0m\u001b[0mmu\u001b[0m\u001b[0;34m=\u001b[0m\u001b[0mself\u001b[0m\u001b[0;34m.\u001b[0m\u001b[0mmu\u001b[0m\u001b[0;34m)\u001b[0m\u001b[0;34m\u001b[0m\u001b[0m\n\u001b[0;32m-> 2220\u001b[0;31m         \u001b[0mself\u001b[0m\u001b[0;34m.\u001b[0m\u001b[0mbeta\u001b[0m \u001b[0;34m=\u001b[0m \u001b[0mself\u001b[0m\u001b[0;34m.\u001b[0m\u001b[0malgorithm\u001b[0m\u001b[0;34m.\u001b[0m\u001b[0mrun\u001b[0m\u001b[0;34m(\u001b[0m\u001b[0mfunction\u001b[0m\u001b[0;34m,\u001b[0m \u001b[0mbeta\u001b[0m\u001b[0;34m)\u001b[0m\u001b[0;34m\u001b[0m\u001b[0m\n\u001b[0m\u001b[1;32m   2221\u001b[0m \u001b[0;34m\u001b[0m\u001b[0m\n\u001b[1;32m   2222\u001b[0m         \u001b[0;32mreturn\u001b[0m \u001b[0mself\u001b[0m\u001b[0;34m\u001b[0m\u001b[0m\n",
      "\u001b[0;32m/opt/anaconda/lib/python2.7/site-packages/parsimony/algorithms/bases.pyc\u001b[0m in \u001b[0;36mwrapper\u001b[0;34m(self, function, *args, **kwargs)\u001b[0m\n\u001b[1;32m     99\u001b[0m             \u001b[0mself\u001b[0m\u001b[0;34m.\u001b[0m\u001b[0minfo_reset\u001b[0m\u001b[0;34m(\u001b[0m\u001b[0;34m)\u001b[0m\u001b[0;34m\u001b[0m\u001b[0m\n\u001b[1;32m    100\u001b[0m \u001b[0;34m\u001b[0m\u001b[0m\n\u001b[0;32m--> 101\u001b[0;31m         \u001b[0;32mreturn\u001b[0m \u001b[0mf\u001b[0m\u001b[0;34m(\u001b[0m\u001b[0mself\u001b[0m\u001b[0;34m,\u001b[0m \u001b[0mfunction\u001b[0m\u001b[0;34m,\u001b[0m \u001b[0;34m*\u001b[0m\u001b[0margs\u001b[0m\u001b[0;34m,\u001b[0m \u001b[0;34m**\u001b[0m\u001b[0mkwargs\u001b[0m\u001b[0;34m)\u001b[0m\u001b[0;34m\u001b[0m\u001b[0m\n\u001b[0m\u001b[1;32m    102\u001b[0m \u001b[0;34m\u001b[0m\u001b[0m\n\u001b[1;32m    103\u001b[0m     \u001b[0;32mreturn\u001b[0m \u001b[0mwrapper\u001b[0m\u001b[0;34m\u001b[0m\u001b[0m\n",
      "\u001b[0;32m/opt/anaconda/lib/python2.7/site-packages/parsimony/algorithms/bases.pyc\u001b[0m in \u001b[0;36mwrapper\u001b[0;34m(self, function, *args, **kwargs)\u001b[0m\n\u001b[1;32m     79\u001b[0m         \u001b[0mBaseAlgorithm\u001b[0m\u001b[0;34m.\u001b[0m\u001b[0mcheck_compatibility\u001b[0m\u001b[0;34m(\u001b[0m\u001b[0mfunction\u001b[0m\u001b[0;34m,\u001b[0m \u001b[0mself\u001b[0m\u001b[0;34m.\u001b[0m\u001b[0mINTERFACES\u001b[0m\u001b[0;34m)\u001b[0m\u001b[0;34m\u001b[0m\u001b[0m\n\u001b[1;32m     80\u001b[0m \u001b[0;34m\u001b[0m\u001b[0m\n\u001b[0;32m---> 81\u001b[0;31m         \u001b[0;32mreturn\u001b[0m \u001b[0mf\u001b[0m\u001b[0;34m(\u001b[0m\u001b[0mself\u001b[0m\u001b[0;34m,\u001b[0m \u001b[0mfunction\u001b[0m\u001b[0;34m,\u001b[0m \u001b[0;34m*\u001b[0m\u001b[0margs\u001b[0m\u001b[0;34m,\u001b[0m \u001b[0;34m**\u001b[0m\u001b[0mkwargs\u001b[0m\u001b[0;34m)\u001b[0m\u001b[0;34m\u001b[0m\u001b[0m\n\u001b[0m\u001b[1;32m     82\u001b[0m \u001b[0;34m\u001b[0m\u001b[0m\n\u001b[1;32m     83\u001b[0m     \u001b[0;32mreturn\u001b[0m \u001b[0mwrapper\u001b[0m\u001b[0;34m\u001b[0m\u001b[0m\n",
      "\u001b[0;32m/opt/anaconda/lib/python2.7/site-packages/parsimony/algorithms/proximal.pyc\u001b[0m in \u001b[0;36mrun\u001b[0;34m(self, function, beta)\u001b[0m\n\u001b[1;32m    339\u001b[0m \u001b[0;34m\u001b[0m\u001b[0m\n\u001b[1;32m    340\u001b[0m             \u001b[0mbetaold\u001b[0m \u001b[0;34m=\u001b[0m \u001b[0mbetanew\u001b[0m\u001b[0;34m\u001b[0m\u001b[0m\n\u001b[0;32m--> 341\u001b[0;31m             betanew = function.prox(z - step * function.grad(z),\n\u001b[0m\u001b[1;32m    342\u001b[0m                                     \u001b[0mstep\u001b[0m\u001b[0;34m,\u001b[0m\u001b[0;34m\u001b[0m\u001b[0m\n\u001b[1;32m    343\u001b[0m                                     \u001b[0meps\u001b[0m\u001b[0;34m=\u001b[0m\u001b[0;36m1.0\u001b[0m \u001b[0;34m/\u001b[0m \u001b[0;34m(\u001b[0m\u001b[0mfloat\u001b[0m\u001b[0;34m(\u001b[0m\u001b[0mi\u001b[0m\u001b[0;34m)\u001b[0m \u001b[0;34m**\u001b[0m \u001b[0;34m(\u001b[0m\u001b[0;36m4.0\u001b[0m \u001b[0;34m+\u001b[0m \u001b[0mconsts\u001b[0m\u001b[0;34m.\u001b[0m\u001b[0mFLOAT_EPSILON\u001b[0m\u001b[0;34m)\u001b[0m\u001b[0;34m)\u001b[0m\u001b[0;34m,\u001b[0m\u001b[0;34m\u001b[0m\u001b[0m\n",
      "\u001b[0;32m/opt/anaconda/lib/python2.7/site-packages/parsimony/functions/combinedfunctions.pyc\u001b[0m in \u001b[0;36mgrad\u001b[0;34m(self, beta)\u001b[0m\n\u001b[1;32m   1163\u001b[0m         \u001b[0mFrom\u001b[0m \u001b[0mthe\u001b[0m \u001b[0minterface\u001b[0m \u001b[0;34m\"Gradient\"\u001b[0m\u001b[0;34m.\u001b[0m\u001b[0;34m\u001b[0m\u001b[0m\n\u001b[1;32m   1164\u001b[0m         \"\"\"\n\u001b[0;32m-> 1165\u001b[0;31m         \u001b[0;32mreturn\u001b[0m \u001b[0mself\u001b[0m\u001b[0;34m.\u001b[0m\u001b[0mrr\u001b[0m\u001b[0;34m.\u001b[0m\u001b[0mgrad\u001b[0m\u001b[0;34m(\u001b[0m\u001b[0mbeta\u001b[0m\u001b[0;34m)\u001b[0m\u001b[0;31m \u001b[0m\u001b[0;31m\\\u001b[0m\u001b[0;34m\u001b[0m\u001b[0m\n\u001b[0m\u001b[1;32m   1166\u001b[0m              \u001b[0;34m+\u001b[0m \u001b[0mself\u001b[0m\u001b[0;34m.\u001b[0m\u001b[0mgl\u001b[0m\u001b[0;34m.\u001b[0m\u001b[0mgrad\u001b[0m\u001b[0;34m(\u001b[0m\u001b[0mbeta\u001b[0m\u001b[0;34m)\u001b[0m\u001b[0;34m\u001b[0m\u001b[0m\n\u001b[1;32m   1167\u001b[0m \u001b[0;34m\u001b[0m\u001b[0m\n",
      "\u001b[0;32m/opt/anaconda/lib/python2.7/site-packages/parsimony/functions/losses.pyc\u001b[0m in \u001b[0;36mgrad\u001b[0;34m(self, beta)\u001b[0m\n\u001b[1;32m    626\u001b[0m         \u001b[0mpi\u001b[0m \u001b[0;34m=\u001b[0m \u001b[0mnp\u001b[0m\u001b[0;34m.\u001b[0m\u001b[0mreciprocal\u001b[0m\u001b[0;34m(\u001b[0m\u001b[0;36m1.0\u001b[0m \u001b[0;34m+\u001b[0m \u001b[0mnp\u001b[0m\u001b[0;34m.\u001b[0m\u001b[0mexp\u001b[0m\u001b[0;34m(\u001b[0m\u001b[0;34m-\u001b[0m\u001b[0mXbeta\u001b[0m\u001b[0;34m)\u001b[0m\u001b[0;34m)\u001b[0m\u001b[0;34m\u001b[0m\u001b[0m\n\u001b[1;32m    627\u001b[0m \u001b[0;34m\u001b[0m\u001b[0m\n\u001b[0;32m--> 628\u001b[0;31m         \u001b[0mgrad\u001b[0m \u001b[0;34m=\u001b[0m \u001b[0;34m-\u001b[0m\u001b[0mnp\u001b[0m\u001b[0;34m.\u001b[0m\u001b[0mdot\u001b[0m\u001b[0;34m(\u001b[0m\u001b[0mself\u001b[0m\u001b[0;34m.\u001b[0m\u001b[0mX\u001b[0m\u001b[0;34m.\u001b[0m\u001b[0mT\u001b[0m\u001b[0;34m,\u001b[0m \u001b[0mself\u001b[0m\u001b[0;34m.\u001b[0m\u001b[0mweights\u001b[0m \u001b[0;34m*\u001b[0m \u001b[0;34m(\u001b[0m\u001b[0mself\u001b[0m\u001b[0;34m.\u001b[0m\u001b[0my\u001b[0m \u001b[0;34m-\u001b[0m \u001b[0mpi\u001b[0m\u001b[0;34m)\u001b[0m\u001b[0;34m)\u001b[0m\u001b[0;34m\u001b[0m\u001b[0m\n\u001b[0m\u001b[1;32m    629\u001b[0m         \u001b[0;32mif\u001b[0m \u001b[0mself\u001b[0m\u001b[0;34m.\u001b[0m\u001b[0mmean\u001b[0m\u001b[0;34m:\u001b[0m\u001b[0;34m\u001b[0m\u001b[0m\n\u001b[1;32m    630\u001b[0m             \u001b[0mgrad\u001b[0m \u001b[0;34m*=\u001b[0m \u001b[0;36m1.0\u001b[0m \u001b[0;34m/\u001b[0m \u001b[0mfloat\u001b[0m\u001b[0;34m(\u001b[0m\u001b[0mself\u001b[0m\u001b[0;34m.\u001b[0m\u001b[0mX\u001b[0m\u001b[0;34m.\u001b[0m\u001b[0mshape\u001b[0m\u001b[0;34m[\u001b[0m\u001b[0;36m0\u001b[0m\u001b[0;34m]\u001b[0m\u001b[0;34m)\u001b[0m\u001b[0;34m\u001b[0m\u001b[0m\n",
      "\u001b[0;31mKeyboardInterrupt\u001b[0m: "
     ],
     "output_type": "error"
    }
   ],
   "source": [
    "from sklearn.model_selection import cross_val_score\n",
    "from sklearn.model_selection import LeaveOneOut\n",
    "from sklearn import metrics\n",
    "\n",
    "X, y = tgca_luad.make_dataset(dataset='miRNA', normal_tumor='both', normal_matched=False, mirna_gene_matched=False,\n",
    "                              pathologic_stages=['normal', 'Stage I', 'Stage II', 'Stage III', 'Stage IV'],\n",
    "                              label_mapping={'normal': 0, 'Stage I': 1, 'Stage II': 1, 'Stage III': 1, 'Stage IV': 1})\n",
    "X = X.values\n",
    "y = y.values\n",
    "# clf = svm.SVC(kernel='linear', C=1)\n",
    "\n",
    "# scores = cross_val_score(logistic_L1L2GL, X, y, cv=5)\n",
    "loo = LeaveOneOut()\n",
    "f1_loc_scores = []\n",
    "for train_index, test_index in loo.split(X, y):\n",
    "    logistic_L1L2GL.fit(X[train_index], y[train_index])\n",
    "    score = metrics.accuracy_score(y_true=y[test_index], y_pred=logistic_L1L2GL.predict(X[test_index]))\n",
    "    f1_loc_scores.append(score)\n",
    "print f1_loc_scores"
   ]
  },
  {
   "cell_type": "markdown",
   "metadata": {},
   "source": [
    "## Loading HMDD database for experimentally validated NSCLC miRNA"
   ]
  },
  {
   "cell_type": "code",
   "execution_count": 164,
   "metadata": {
    "collapsed": false
   },
   "outputs": [
    {
     "name": "stdout",
     "output_type": "stream",
     "text": [
      "HMDD_lung_neoplasm_miRNAs (157,)\nmiRCancer_luad_miRNAs 27\nmir2disease_nsclc_miRNAs (24,)\n"
     ]
    },
    {
     "name": "stdout",
     "output_type": "stream",
     "text": [
      "dbDEMC_luad_miRNAs 545\n"
     ]
    }
   ],
   "source": [
    "HMDD_df = pandas.read_table(os.path.join(ROOT_DIR, 'data/external/HMDD_miRNA-disease.txt'), delimiter='\\t', header=-1)\n",
    "HMDD_df = HMDD_df[HMDD_df[2] == \"Lung Neoplasms\"]\n",
    "HMDD_lung_neoplasm_miRNAs = HMDD_df[1].unique()\n",
    "print \"HMDD_lung_neoplasm_miRNAs\", HMDD_lung_neoplasm_miRNAs.shape\n",
    "\n",
    "miRCancer_luad_miRNA_df = pandas.read_csv(os.path.join(ROOT_DIR, 'data/external/validated_luad_miRNAs_miRCancer.csv'))\n",
    "miRCancer_luad_miRNAs = set(miRCancer_luad_miRNA_df['miRNA'].tolist())\n",
    "print \"miRCancer_luad_miRNAs\", len(miRCancer_luad_miRNAs)\n",
    "\n",
    "\n",
    "mir2disease_nsclc_miRNA_df = pandas.read_table(os.path.join(ROOT_DIR, 'data/external/mir2Disease_miRNA-Disease.txt'), delimiter='\\t', header=-1) \n",
    "mir2disease_nsclc_miRNA_df.columns = ['miRNA', 'disease', 'up_down', 'method', 'year', 'description'] \n",
    "mir2disease_nsclc_miRNA_df = mir2disease_nsclc_miRNA_df[(mir2disease_nsclc_miRNA_df['disease'] == 'non-small cell lung cancer (NSCLC)')]\n",
    "mir2disease_nsclc_miRNA_df['miRNA'] = mir2disease_nsclc_miRNA_df['miRNA'].str.lower()\n",
    "mir2disease_nsclc_miRNA_df['miRNA'] = mir2disease_nsclc_miRNA_df['miRNA'].str.replace(\"*\", \"\")\n",
    "mir2disease_nsclc_miRNA_df['miRNA'] = mir2disease_nsclc_miRNA_df['miRNA'].str.replace(\"-3p.*|-5p.*\", \"\")\n",
    "mir2disease_nsclc_miRNA_df.drop_duplicates(inplace=True)\n",
    "mir2disease_nsclc_miRNAs = mir2disease_nsclc_miRNA_df['miRNA'].unique()\n",
    "print \"mir2disease_nsclc_miRNAs\", mir2disease_nsclc_miRNAs.shape\n",
    "\n",
    "dbDEMC_df = pandas.read_table(os.path.join(ROOT_DIR, 'data/external/dbDEMC.txt'), delimiter='\\t')\n",
    "dbDEMC_df = dbDEMC_df[dbDEMC_df['Cancer Type'] == 'lung cancer']\n",
    "dbDEMC_df = dbDEMC_df[dbDEMC_df['Cancer Subtype'] == 'lung adenocarcinoma']\n",
    "dbDEMC_df['miRNA ID'] = dbDEMC_df['miRNA ID'].str.lower()\n",
    "dbDEMC_df['miRNA ID'] = dbDEMC_df['miRNA ID'].str.replace(\"*\", \"\")\n",
    "dbDEMC_df['miRNA ID'] = dbDEMC_df['miRNA ID'].str.replace(\"-3p.*|-5p.*\", \"\")\n",
    "dbDEMC_luad_miRNAs = dbDEMC_df['miRNA ID'].unique()\n",
    "print 'dbDEMC_luad_miRNAs', len(dbDEMC_df['miRNA ID'].unique())\n",
    "\n",
    "validating_miRNAs = HMDD_lung_neoplasm_miRNAs"
   ]
  },
  {
   "cell_type": "markdown",
   "metadata": {},
   "source": [
    "## Compare models by recall rate"
   ]
  },
  {
   "cell_type": "code",
   "execution_count": 246,
   "metadata": {
    "collapsed": false
   },
   "outputs": [
    {
     "data": {
      "text/html": [
       "<div>\n",
       "<table border=\"1\" class=\"dataframe\">\n",
       "  <thead>\n",
       "    <tr style=\"text-align: right;\">\n",
       "      <th></th>\n",
       "      <th>method</th>\n",
       "      <th>no_selected</th>\n",
       "      <th>recall_rate</th>\n",
       "      <th>precision_rate</th>\n",
       "    </tr>\n",
       "  </thead>\n",
       "  <tbody>\n",
       "    <tr>\n",
       "      <th>0</th>\n",
       "      <td>Logistic L1L2GL</td>\n",
       "      <td>246</td>\n",
       "      <td>0.770701</td>\n",
       "      <td>0.491870</td>\n",
       "    </tr>\n",
       "    <tr>\n",
       "      <th>1</th>\n",
       "      <td>multi-task l1l2</td>\n",
       "      <td>260</td>\n",
       "      <td>0.713376</td>\n",
       "      <td>0.430769</td>\n",
       "    </tr>\n",
       "    <tr>\n",
       "      <th>2</th>\n",
       "      <td>l1_lasso</td>\n",
       "      <td>129</td>\n",
       "      <td>0.522293</td>\n",
       "      <td>0.635659</td>\n",
       "    </tr>\n",
       "    <tr>\n",
       "      <th>3</th>\n",
       "      <td>elastic_net</td>\n",
       "      <td>129</td>\n",
       "      <td>0.522293</td>\n",
       "      <td>0.635659</td>\n",
       "    </tr>\n",
       "  </tbody>\n",
       "</table>\n",
       "</div>"
      ],
      "text/plain": [
       "<div>\n",
       "<table border=\"1\" class=\"dataframe\">\n",
       "  <thead>\n",
       "    <tr style=\"text-align: right;\">\n",
       "      <th></th>\n",
       "      <th>method</th>\n",
       "      <th>no_selected</th>\n",
       "      <th>recall_rate</th>\n",
       "      <th>precision_rate</th>\n",
       "    </tr>\n",
       "  </thead>\n",
       "  <tbody>\n",
       "    <tr>\n",
       "      <th>0</th>\n",
       "      <td>Logistic L1L2GL</td>\n",
       "      <td>246</td>\n",
       "      <td>0.770701</td>\n",
       "      <td>0.491870</td>\n",
       "    </tr>\n",
       "    <tr>\n",
       "      <th>1</th>\n",
       "      <td>multi-task l1l2</td>\n",
       "      <td>260</td>\n",
       "      <td>0.713376</td>\n",
       "      <td>0.430769</td>\n",
       "    </tr>\n",
       "    <tr>\n",
       "      <th>2</th>\n",
       "      <td>l1_lasso</td>\n",
       "      <td>129</td>\n",
       "      <td>0.522293</td>\n",
       "      <td>0.635659</td>\n",
       "    </tr>\n",
       "    <tr>\n",
       "      <th>3</th>\n",
       "      <td>elastic_net</td>\n",
       "      <td>129</td>\n",
       "      <td>0.522293</td>\n",
       "      <td>0.635659</td>\n",
       "    </tr>\n",
       "  </tbody>\n",
       "</table>\n",
       "</div>"
      ]
     },
     "execution_count": 246,
     "metadata": {},
     "output_type": "execute_result"
    }
   ],
   "source": [
    "from src.utils.validate_candidate_miRNAs import recall_rate, precision_rate, get_miRNA_names\n",
    "\n",
    "models = []\n",
    "for model, name in [\n",
    "                    (logistic_L1L2GL, 'Logistic L1L2GL'),\n",
    "                    (multi_task_l1l2, 'multi-task l1l2'),\n",
    "                    # (group_l2, 'group_small'),\n",
    "                    (l1_lasso, 'l1_lasso'),\n",
    "                    (elastic_net, 'elastic_net'),\n",
    "                    # (sparse_group_l2, 'sparse-group_small')\n",
    "                    ]:\n",
    "    if model is logistic_L1L2GL:\n",
    "        models.append([name,\n",
    "                   len(model.beta.nonzero()[0]),\n",
    "                   recall_rate(candidate_miRNAs=get_miRNA_names(model.beta.nonzero()[0][:275], tgca_luad.mirna_list),\n",
    "                               validated_miRNAs=validating_miRNAs),\n",
    "                   precision_rate(candidate_miRNAs=get_miRNA_names(model.beta.nonzero()[0][:275], tgca_luad.mirna_list),\n",
    "                                  validated_miRNAs=validating_miRNAs) ])\n",
    "    else:\n",
    "        models.append([name,\n",
    "                   model.get_selected_miRNAs(tgca_luad.mirna_list)['miRNA'].shape[0],\n",
    "                   recall_rate(candidate_miRNAs=model.get_selected_miRNAs(tgca_luad.mirna_list)['miRNA'].tolist(),\n",
    "                               validated_miRNAs=validating_miRNAs),\n",
    "                   precision_rate(candidate_miRNAs=model.get_selected_miRNAs(tgca_luad.mirna_list)['miRNA'].tolist(),\n",
    "                                  validated_miRNAs=validating_miRNAs) ])\n",
    "\n",
    "pandas.DataFrame(models, columns=['method', 'no_selected', 'recall_rate', 'precision_rate']).sort_values(by='recall_rate', ascending=False)\n",
    "# (group_l2_large_groups, 'group_l2_large_groups'),\n",
    "# (l1_lasso, 'l1_lasso'),\n",
    "# (elastic_net, 'elastic_net'),\n",
    "# (sparse_group_l2, 'sparse-group-lasso-l2'),\n",
    "# (sparse_group_l2_large_groups, 'sparse_group_l2_large_groups')"
   ]
  },
  {
   "cell_type": "markdown",
   "metadata": {},
   "source": [
    "## Check each candidate miRNA's if validated"
   ]
  },
  {
   "cell_type": "code",
   "execution_count": 38,
   "metadata": {
    "collapsed": true
   },
   "outputs": [
    {
     "data": {
      "text/html": [
       "<div>\n",
       "<table border=\"1\" class=\"dataframe\">\n",
       "  <thead>\n",
       "    <tr style=\"text-align: right;\">\n",
       "      <th></th>\n",
       "      <th>miRNA</th>\n",
       "      <th>coef</th>\n",
       "      <th>validated</th>\n",
       "    </tr>\n",
       "  </thead>\n",
       "  <tbody>\n",
       "    <tr>\n",
       "      <th>50</th>\n",
       "      <td>hsa-mir-148a</td>\n",
       "      <td>-0.000126</td>\n",
       "      <td>True</td>\n",
       "    </tr>\n",
       "    <tr>\n",
       "      <th>180</th>\n",
       "      <td>hsa-mir-451a</td>\n",
       "      <td>-0.000102</td>\n",
       "      <td>True</td>\n",
       "    </tr>\n",
       "    <tr>\n",
       "      <th>69</th>\n",
       "      <td>hsa-mir-182</td>\n",
       "      <td>-0.000089</td>\n",
       "      <td>True</td>\n",
       "    </tr>\n",
       "    <tr>\n",
       "      <th>160</th>\n",
       "      <td>hsa-mir-372</td>\n",
       "      <td>0.000086</td>\n",
       "      <td>False</td>\n",
       "    </tr>\n",
       "    <tr>\n",
       "      <th>27</th>\n",
       "      <td>hsa-mir-126</td>\n",
       "      <td>-0.000084</td>\n",
       "      <td>True</td>\n",
       "    </tr>\n",
       "    <tr>\n",
       "      <th>225</th>\n",
       "      <td>hsa-mir-582</td>\n",
       "      <td>0.000080</td>\n",
       "      <td>True</td>\n",
       "    </tr>\n",
       "    <tr>\n",
       "      <th>131</th>\n",
       "      <td>hsa-mir-30d</td>\n",
       "      <td>-0.000078</td>\n",
       "      <td>True</td>\n",
       "    </tr>\n",
       "    <tr>\n",
       "      <th>115</th>\n",
       "      <td>hsa-mir-25</td>\n",
       "      <td>-0.000078</td>\n",
       "      <td>True</td>\n",
       "    </tr>\n",
       "    <tr>\n",
       "      <th>92</th>\n",
       "      <td>hsa-mir-200a</td>\n",
       "      <td>-0.000078</td>\n",
       "      <td>True</td>\n",
       "    </tr>\n",
       "    <tr>\n",
       "      <th>44</th>\n",
       "      <td>hsa-mir-142</td>\n",
       "      <td>0.000076</td>\n",
       "      <td>True</td>\n",
       "    </tr>\n",
       "    <tr>\n",
       "      <th>127</th>\n",
       "      <td>hsa-mir-30a</td>\n",
       "      <td>0.000074</td>\n",
       "      <td>True</td>\n",
       "    </tr>\n",
       "    <tr>\n",
       "      <th>97</th>\n",
       "      <td>hsa-mir-205</td>\n",
       "      <td>0.000072</td>\n",
       "      <td>True</td>\n",
       "    </tr>\n",
       "    <tr>\n",
       "      <th>105</th>\n",
       "      <td>hsa-mir-22</td>\n",
       "      <td>-0.000065</td>\n",
       "      <td>True</td>\n",
       "    </tr>\n",
       "    <tr>\n",
       "      <th>70</th>\n",
       "      <td>hsa-mir-183</td>\n",
       "      <td>0.000063</td>\n",
       "      <td>True</td>\n",
       "    </tr>\n",
       "    <tr>\n",
       "      <th>144</th>\n",
       "      <td>hsa-mir-338</td>\n",
       "      <td>0.000060</td>\n",
       "      <td>True</td>\n",
       "    </tr>\n",
       "    <tr>\n",
       "      <th>121</th>\n",
       "      <td>hsa-mir-28</td>\n",
       "      <td>0.000056</td>\n",
       "      <td>True</td>\n",
       "    </tr>\n",
       "    <tr>\n",
       "      <th>54</th>\n",
       "      <td>hsa-mir-151a</td>\n",
       "      <td>-0.000054</td>\n",
       "      <td>True</td>\n",
       "    </tr>\n",
       "    <tr>\n",
       "      <th>8</th>\n",
       "      <td>hsa-let-7f-2</td>\n",
       "      <td>-0.000053</td>\n",
       "      <td>True</td>\n",
       "    </tr>\n",
       "    <tr>\n",
       "      <th>101</th>\n",
       "      <td>hsa-mir-210</td>\n",
       "      <td>0.000053</td>\n",
       "      <td>True</td>\n",
       "    </tr>\n",
       "    <tr>\n",
       "      <th>94</th>\n",
       "      <td>hsa-mir-200c</td>\n",
       "      <td>-0.000052</td>\n",
       "      <td>True</td>\n",
       "    </tr>\n",
       "  </tbody>\n",
       "</table>\n",
       "</div>"
      ],
      "text/plain": [
       "<div>\n",
       "<table border=\"1\" class=\"dataframe\">\n",
       "  <thead>\n",
       "    <tr style=\"text-align: right;\">\n",
       "      <th></th>\n",
       "      <th>miRNA</th>\n",
       "      <th>coef</th>\n",
       "      <th>validated</th>\n",
       "    </tr>\n",
       "  </thead>\n",
       "  <tbody>\n",
       "    <tr>\n",
       "      <th>50</th>\n",
       "      <td>hsa-mir-148a</td>\n",
       "      <td>-0.000126</td>\n",
       "      <td>True</td>\n",
       "    </tr>\n",
       "    <tr>\n",
       "      <th>180</th>\n",
       "      <td>hsa-mir-451a</td>\n",
       "      <td>-0.000102</td>\n",
       "      <td>True</td>\n",
       "    </tr>\n",
       "    <tr>\n",
       "      <th>69</th>\n",
       "      <td>hsa-mir-182</td>\n",
       "      <td>-0.000089</td>\n",
       "      <td>True</td>\n",
       "    </tr>\n",
       "    <tr>\n",
       "      <th>160</th>\n",
       "      <td>hsa-mir-372</td>\n",
       "      <td>0.000086</td>\n",
       "      <td>False</td>\n",
       "    </tr>\n",
       "    <tr>\n",
       "      <th>27</th>\n",
       "      <td>hsa-mir-126</td>\n",
       "      <td>-0.000084</td>\n",
       "      <td>True</td>\n",
       "    </tr>\n",
       "    <tr>\n",
       "      <th>225</th>\n",
       "      <td>hsa-mir-582</td>\n",
       "      <td>0.000080</td>\n",
       "      <td>True</td>\n",
       "    </tr>\n",
       "    <tr>\n",
       "      <th>131</th>\n",
       "      <td>hsa-mir-30d</td>\n",
       "      <td>-0.000078</td>\n",
       "      <td>True</td>\n",
       "    </tr>\n",
       "    <tr>\n",
       "      <th>115</th>\n",
       "      <td>hsa-mir-25</td>\n",
       "      <td>-0.000078</td>\n",
       "      <td>True</td>\n",
       "    </tr>\n",
       "    <tr>\n",
       "      <th>92</th>\n",
       "      <td>hsa-mir-200a</td>\n",
       "      <td>-0.000078</td>\n",
       "      <td>True</td>\n",
       "    </tr>\n",
       "    <tr>\n",
       "      <th>44</th>\n",
       "      <td>hsa-mir-142</td>\n",
       "      <td>0.000076</td>\n",
       "      <td>True</td>\n",
       "    </tr>\n",
       "    <tr>\n",
       "      <th>127</th>\n",
       "      <td>hsa-mir-30a</td>\n",
       "      <td>0.000074</td>\n",
       "      <td>True</td>\n",
       "    </tr>\n",
       "    <tr>\n",
       "      <th>97</th>\n",
       "      <td>hsa-mir-205</td>\n",
       "      <td>0.000072</td>\n",
       "      <td>True</td>\n",
       "    </tr>\n",
       "    <tr>\n",
       "      <th>105</th>\n",
       "      <td>hsa-mir-22</td>\n",
       "      <td>-0.000065</td>\n",
       "      <td>True</td>\n",
       "    </tr>\n",
       "    <tr>\n",
       "      <th>70</th>\n",
       "      <td>hsa-mir-183</td>\n",
       "      <td>0.000063</td>\n",
       "      <td>True</td>\n",
       "    </tr>\n",
       "    <tr>\n",
       "      <th>144</th>\n",
       "      <td>hsa-mir-338</td>\n",
       "      <td>0.000060</td>\n",
       "      <td>True</td>\n",
       "    </tr>\n",
       "    <tr>\n",
       "      <th>121</th>\n",
       "      <td>hsa-mir-28</td>\n",
       "      <td>0.000056</td>\n",
       "      <td>True</td>\n",
       "    </tr>\n",
       "    <tr>\n",
       "      <th>54</th>\n",
       "      <td>hsa-mir-151a</td>\n",
       "      <td>-0.000054</td>\n",
       "      <td>True</td>\n",
       "    </tr>\n",
       "    <tr>\n",
       "      <th>8</th>\n",
       "      <td>hsa-let-7f-2</td>\n",
       "      <td>-0.000053</td>\n",
       "      <td>True</td>\n",
       "    </tr>\n",
       "    <tr>\n",
       "      <th>101</th>\n",
       "      <td>hsa-mir-210</td>\n",
       "      <td>0.000053</td>\n",
       "      <td>True</td>\n",
       "    </tr>\n",
       "    <tr>\n",
       "      <th>94</th>\n",
       "      <td>hsa-mir-200c</td>\n",
       "      <td>-0.000052</td>\n",
       "      <td>True</td>\n",
       "    </tr>\n",
       "  </tbody>\n",
       "</table>\n",
       "</div>"
      ]
     },
     "execution_count": 38,
     "metadata": {},
     "output_type": "execute_result"
    }
   ],
   "source": [
    "candidate_miRNAs = multi_task_l1l2.get_selected_miRNAs(tgca_luad.mirna_list)\n",
    "candidate_miRNAs['validated'] = candidate_miRNAs.apply(lambda row: row['miRNA'] in validating_miRNAs, axis=1)\n",
    "# candidate_miRNAs['groups'] = candidate_miRNAs.apply(lambda row: network.find_miRNA_groups(row['miRNA']), axis=1)\n",
    "candidate_miRNAs.head(20)"
   ]
  },
  {
   "cell_type": "code",
   "execution_count": 157,
   "metadata": {
    "collapsed": true
   },
   "outputs": [
    {
     "name": "stderr",
     "output_type": "stream",
     "text": [
      "/opt/anaconda/lib/python2.7/site-packages/ipykernel/__main__.py:5: FutureWarning: sort is deprecated, use sort_values(inplace=True) for INPLACE sorting\n"
     ]
    },
    {
     "data": {
      "text/html": [
       "<div>\n",
       "<table border=\"1\" class=\"dataframe\">\n",
       "  <thead>\n",
       "    <tr style=\"text-align: right;\">\n",
       "      <th></th>\n",
       "      <th>miRNA</th>\n",
       "      <th>coef</th>\n",
       "      <th>validated</th>\n",
       "      <th>groups</th>\n",
       "    </tr>\n",
       "  </thead>\n",
       "  <tbody>\n",
       "    <tr>\n",
       "      <th>87</th>\n",
       "      <td>hsa-mir-203a</td>\n",
       "      <td>0.000195</td>\n",
       "      <td>True</td>\n",
       "      <td>[]</td>\n",
       "    </tr>\n",
       "    <tr>\n",
       "      <th>64</th>\n",
       "      <td>hsa-mir-182</td>\n",
       "      <td>0.000082</td>\n",
       "      <td>True</td>\n",
       "      <td>[]</td>\n",
       "    </tr>\n",
       "    <tr>\n",
       "      <th>48</th>\n",
       "      <td>hsa-mir-148a</td>\n",
       "      <td>0.000081</td>\n",
       "      <td>True</td>\n",
       "      <td>[]</td>\n",
       "    </tr>\n",
       "    <tr>\n",
       "      <th>15</th>\n",
       "      <td>hsa-mir-103a-2</td>\n",
       "      <td>-0.000070</td>\n",
       "      <td>True</td>\n",
       "      <td>[]</td>\n",
       "    </tr>\n",
       "    <tr>\n",
       "      <th>14</th>\n",
       "      <td>hsa-mir-103a-1</td>\n",
       "      <td>-0.000069</td>\n",
       "      <td>False</td>\n",
       "      <td>[]</td>\n",
       "    </tr>\n",
       "    <tr>\n",
       "      <th>90</th>\n",
       "      <td>hsa-mir-21</td>\n",
       "      <td>0.000065</td>\n",
       "      <td>True</td>\n",
       "      <td>[]</td>\n",
       "    </tr>\n",
       "    <tr>\n",
       "      <th>115</th>\n",
       "      <td>hsa-mir-29c</td>\n",
       "      <td>0.000061</td>\n",
       "      <td>True</td>\n",
       "      <td>[]</td>\n",
       "    </tr>\n",
       "    <tr>\n",
       "      <th>179</th>\n",
       "      <td>hsa-mir-99b</td>\n",
       "      <td>-0.000054</td>\n",
       "      <td>True</td>\n",
       "      <td>[]</td>\n",
       "    </tr>\n",
       "    <tr>\n",
       "      <th>122</th>\n",
       "      <td>hsa-mir-30e</td>\n",
       "      <td>0.000053</td>\n",
       "      <td>True</td>\n",
       "      <td>[]</td>\n",
       "    </tr>\n",
       "    <tr>\n",
       "      <th>65</th>\n",
       "      <td>hsa-mir-183</td>\n",
       "      <td>0.000050</td>\n",
       "      <td>True</td>\n",
       "      <td>[]</td>\n",
       "    </tr>\n",
       "    <tr>\n",
       "      <th>8</th>\n",
       "      <td>hsa-let-7f-2</td>\n",
       "      <td>-0.000045</td>\n",
       "      <td>True</td>\n",
       "      <td>[]</td>\n",
       "    </tr>\n",
       "    <tr>\n",
       "      <th>7</th>\n",
       "      <td>hsa-let-7f-1</td>\n",
       "      <td>-0.000044</td>\n",
       "      <td>True</td>\n",
       "      <td>[]</td>\n",
       "    </tr>\n",
       "    <tr>\n",
       "      <th>117</th>\n",
       "      <td>hsa-mir-30a</td>\n",
       "      <td>-0.000042</td>\n",
       "      <td>True</td>\n",
       "      <td>[]</td>\n",
       "    </tr>\n",
       "    <tr>\n",
       "      <th>43</th>\n",
       "      <td>hsa-mir-143</td>\n",
       "      <td>-0.000041</td>\n",
       "      <td>True</td>\n",
       "      <td>[]</td>\n",
       "    </tr>\n",
       "    <tr>\n",
       "      <th>3</th>\n",
       "      <td>hsa-let-7b</td>\n",
       "      <td>0.000037</td>\n",
       "      <td>True</td>\n",
       "      <td>[]</td>\n",
       "    </tr>\n",
       "    <tr>\n",
       "      <th>0</th>\n",
       "      <td>hsa-let-7a-1</td>\n",
       "      <td>-0.000034</td>\n",
       "      <td>False</td>\n",
       "      <td>[]</td>\n",
       "    </tr>\n",
       "    <tr>\n",
       "      <th>2</th>\n",
       "      <td>hsa-let-7a-3</td>\n",
       "      <td>-0.000034</td>\n",
       "      <td>False</td>\n",
       "      <td>[]</td>\n",
       "    </tr>\n",
       "    <tr>\n",
       "      <th>172</th>\n",
       "      <td>hsa-mir-92a-1</td>\n",
       "      <td>-0.000032</td>\n",
       "      <td>False</td>\n",
       "      <td>[]</td>\n",
       "    </tr>\n",
       "    <tr>\n",
       "      <th>173</th>\n",
       "      <td>hsa-mir-92a-2</td>\n",
       "      <td>-0.000031</td>\n",
       "      <td>False</td>\n",
       "      <td>[]</td>\n",
       "    </tr>\n",
       "    <tr>\n",
       "      <th>147</th>\n",
       "      <td>hsa-mir-451a</td>\n",
       "      <td>-0.000030</td>\n",
       "      <td>True</td>\n",
       "      <td>[]</td>\n",
       "    </tr>\n",
       "  </tbody>\n",
       "</table>\n",
       "</div>"
      ],
      "text/plain": [
       "<div>\n",
       "<table border=\"1\" class=\"dataframe\">\n",
       "  <thead>\n",
       "    <tr style=\"text-align: right;\">\n",
       "      <th></th>\n",
       "      <th>miRNA</th>\n",
       "      <th>coef</th>\n",
       "      <th>validated</th>\n",
       "      <th>groups</th>\n",
       "    </tr>\n",
       "  </thead>\n",
       "  <tbody>\n",
       "    <tr>\n",
       "      <th>87</th>\n",
       "      <td>hsa-mir-203a</td>\n",
       "      <td>0.000195</td>\n",
       "      <td>True</td>\n",
       "      <td>[]</td>\n",
       "    </tr>\n",
       "    <tr>\n",
       "      <th>64</th>\n",
       "      <td>hsa-mir-182</td>\n",
       "      <td>0.000082</td>\n",
       "      <td>True</td>\n",
       "      <td>[]</td>\n",
       "    </tr>\n",
       "    <tr>\n",
       "      <th>48</th>\n",
       "      <td>hsa-mir-148a</td>\n",
       "      <td>0.000081</td>\n",
       "      <td>True</td>\n",
       "      <td>[]</td>\n",
       "    </tr>\n",
       "    <tr>\n",
       "      <th>15</th>\n",
       "      <td>hsa-mir-103a-2</td>\n",
       "      <td>-0.000070</td>\n",
       "      <td>True</td>\n",
       "      <td>[]</td>\n",
       "    </tr>\n",
       "    <tr>\n",
       "      <th>14</th>\n",
       "      <td>hsa-mir-103a-1</td>\n",
       "      <td>-0.000069</td>\n",
       "      <td>False</td>\n",
       "      <td>[]</td>\n",
       "    </tr>\n",
       "    <tr>\n",
       "      <th>90</th>\n",
       "      <td>hsa-mir-21</td>\n",
       "      <td>0.000065</td>\n",
       "      <td>True</td>\n",
       "      <td>[]</td>\n",
       "    </tr>\n",
       "    <tr>\n",
       "      <th>115</th>\n",
       "      <td>hsa-mir-29c</td>\n",
       "      <td>0.000061</td>\n",
       "      <td>True</td>\n",
       "      <td>[]</td>\n",
       "    </tr>\n",
       "    <tr>\n",
       "      <th>179</th>\n",
       "      <td>hsa-mir-99b</td>\n",
       "      <td>-0.000054</td>\n",
       "      <td>True</td>\n",
       "      <td>[]</td>\n",
       "    </tr>\n",
       "    <tr>\n",
       "      <th>122</th>\n",
       "      <td>hsa-mir-30e</td>\n",
       "      <td>0.000053</td>\n",
       "      <td>True</td>\n",
       "      <td>[]</td>\n",
       "    </tr>\n",
       "    <tr>\n",
       "      <th>65</th>\n",
       "      <td>hsa-mir-183</td>\n",
       "      <td>0.000050</td>\n",
       "      <td>True</td>\n",
       "      <td>[]</td>\n",
       "    </tr>\n",
       "    <tr>\n",
       "      <th>8</th>\n",
       "      <td>hsa-let-7f-2</td>\n",
       "      <td>-0.000045</td>\n",
       "      <td>True</td>\n",
       "      <td>[]</td>\n",
       "    </tr>\n",
       "    <tr>\n",
       "      <th>7</th>\n",
       "      <td>hsa-let-7f-1</td>\n",
       "      <td>-0.000044</td>\n",
       "      <td>True</td>\n",
       "      <td>[]</td>\n",
       "    </tr>\n",
       "    <tr>\n",
       "      <th>117</th>\n",
       "      <td>hsa-mir-30a</td>\n",
       "      <td>-0.000042</td>\n",
       "      <td>True</td>\n",
       "      <td>[]</td>\n",
       "    </tr>\n",
       "    <tr>\n",
       "      <th>43</th>\n",
       "      <td>hsa-mir-143</td>\n",
       "      <td>-0.000041</td>\n",
       "      <td>True</td>\n",
       "      <td>[]</td>\n",
       "    </tr>\n",
       "    <tr>\n",
       "      <th>3</th>\n",
       "      <td>hsa-let-7b</td>\n",
       "      <td>0.000037</td>\n",
       "      <td>True</td>\n",
       "      <td>[]</td>\n",
       "    </tr>\n",
       "    <tr>\n",
       "      <th>0</th>\n",
       "      <td>hsa-let-7a-1</td>\n",
       "      <td>-0.000034</td>\n",
       "      <td>False</td>\n",
       "      <td>[]</td>\n",
       "    </tr>\n",
       "    <tr>\n",
       "      <th>2</th>\n",
       "      <td>hsa-let-7a-3</td>\n",
       "      <td>-0.000034</td>\n",
       "      <td>False</td>\n",
       "      <td>[]</td>\n",
       "    </tr>\n",
       "    <tr>\n",
       "      <th>172</th>\n",
       "      <td>hsa-mir-92a-1</td>\n",
       "      <td>-0.000032</td>\n",
       "      <td>False</td>\n",
       "      <td>[]</td>\n",
       "    </tr>\n",
       "    <tr>\n",
       "      <th>173</th>\n",
       "      <td>hsa-mir-92a-2</td>\n",
       "      <td>-0.000031</td>\n",
       "      <td>False</td>\n",
       "      <td>[]</td>\n",
       "    </tr>\n",
       "    <tr>\n",
       "      <th>147</th>\n",
       "      <td>hsa-mir-451a</td>\n",
       "      <td>-0.000030</td>\n",
       "      <td>True</td>\n",
       "      <td>[]</td>\n",
       "    </tr>\n",
       "  </tbody>\n",
       "</table>\n",
       "</div>"
      ]
     },
     "execution_count": 157,
     "metadata": {},
     "output_type": "execute_result"
    }
   ],
   "source": [
    "candidate_miRNAs = pandas.DataFrame([(tgca_luad.mirna_list[m], logistic_L1L2GL.beta[m][0]) for m in logistic_L1L2GL.beta.nonzero()[0]])\n",
    "candidate_miRNAs.columns = ['miRNA', 'coef']\n",
    "candidate_miRNAs['validated'] = candidate_miRNAs.apply(lambda row: row['miRNA'] in validating_miRNAs, axis=1)\n",
    "candidate_miRNAs['groups'] = candidate_miRNAs.apply(lambda row : network.find_miRNA_groups(row['miRNA']), axis=1)\n",
    "candidate_miRNAs.reindex(candidate_miRNAs.coef.abs().sort(inplace=False, ascending=False).index).head(20)"
   ]
  },
  {
   "cell_type": "markdown",
   "metadata": {},
   "source": [
    "### Recall & Precision of Top Ranked miRNAs"
   ]
  },
  {
   "cell_type": "code",
   "execution_count": 261,
   "metadata": {},
   "outputs": [
    {
     "name": "stderr",
     "output_type": "stream",
     "text": [
      "/opt/anaconda/lib/python2.7/site-packages/ipykernel/__main__.py:10: FutureWarning: sort is deprecated, use sort_values(inplace=True) for INPLACE sorting\n"
     ]
    },
    {
     "data": {
      "image/png": "[encoded data removed]",
      "text/plain": [
       "<matplotlib.figure.Figure at 0x7fa91cea8a90>"
      ]
     },
     "metadata": {},
     "output_type": "display_data"
    }
   ],
   "source": [
    "top_k_s = [10, 30, 60, 90, 120, 160, 200, 250]\n",
    "\n",
    "candidate_miRNAs = pandas.DataFrame()\n",
    "candidate_miRNAs['miRNAs'] = tgca_luad.mirna_list\n",
    "candidate_miRNAs['coef'] = logistic_L1L2GL.beta\n",
    "\n",
    "recall_rates = []\n",
    "precision_rates = []\n",
    "for top_k in top_k_s:\n",
    "    top_k_miRNAs = candidate_miRNAs.reindex(candidate_miRNAs.coef.abs().sort(inplace=False, ascending=False).index).head(top_k)['miRNAs'].tolist()\n",
    "\n",
    "    recall_rates.append(recall_rate(candidate_miRNAs=top_k_miRNAs, validated_miRNAs=validating_miRNAs))\n",
    "    precision_rates.append(precision_rate(candidate_miRNAs=top_k_miRNAs, validated_miRNAs=validating_miRNAs))\n",
    "    \n",
    "# plt.figure()\n",
    "fig, ax = plt.subplots(figsize=(8, 6), dpi=80)\n",
    "width = 0.3\n",
    "font_size = 14\n",
    "\n",
    "rects1 = ax.bar(range(len(top_k_s)), precision_rates, width, color='black')\n",
    "ax.set_ylabel('Precision rate of known LUAD miRNAs (%)', fontsize=font_size)\n",
    "\n",
    "ax2 = ax.twinx()\n",
    "rects2 = ax2.bar([width+k for k in range(len(top_k_s))], recall_rates, width, color='gray')\n",
    "# ax2.set_ylim((0, max(precision_rates)))\n",
    "ax2.set_ylabel('Recall rate of known LUAD miRNAs (%)', fontsize=font_size)\n",
    "\n",
    "ax.legend((rects1[0], rects2[0]), ('Precision Rate', 'Recall rate'), loc=(0.5, 0.88), fontsize=11)\n",
    "ax.set_xlabel('# of top-ranked miRNAs', fontsize=font_size)\n",
    "ax.set_xticks([width/2+k for k in range(len(top_k_s))])\n",
    "ax.set_xticklabels(['Top '+str(top_k) for top_k in top_k_s], fontsize=10)\n",
    "plt.show()"
   ]
  },
  {
   "cell_type": "code",
   "execution_count": 14,
   "metadata": {
    "collapsed": true
   },
   "outputs": [
    {
     "name": "stdout",
     "output_type": "stream",
     "text": [
      "\nLogistic L1L2GL\n             precision    recall  f1-score   support\n\n       -1.0       1.00      1.00      1.00        37\n        1.0       1.00      1.00      1.00       404\n\navg / total       1.00      1.00      1.00       441\n\n             precision    recall  f1-score   support\n\n         -1       0.64      1.00      0.78         9\n          1       1.00      0.95      0.97       102\n\navg / total       0.97      0.95      0.96       111\n\n\nmulti-task l1l2\n             precision    recall  f1-score   support\n\n        0.0       0.97      1.00      0.99        37\n        1.0       0.68      0.76      0.72       221\n        2.0       0.66      0.57      0.62       183\n\navg / total       0.70      0.70      0.70       441\n\n             precision    recall  f1-score   support\n\n          0       0.89      0.89      0.89         9\n          1       0.62      0.66      0.64        56\n          2       0.55      0.50      0.52        46\n\navg / total       0.61      0.61      0.61       111\n\n\nl1_lasso\n             precision    recall  f1-score   support\n\n       -1.0       1.00      1.00      1.00        37\n        1.0       1.00      1.00      1.00       404\n\navg / total       1.00      1.00      1.00       441\n\n             precision    recall  f1-score   support\n\n         -1       0.64      1.00      0.78         9\n          1       1.00      0.95      0.97       102\n\navg / total       0.97      0.95      0.96       111\n\n\nelastic_net\n             precision    recall  f1-score   support\n\n       -1.0       1.00      1.00      1.00        37\n        1.0       1.00      1.00      1.00       404\n\navg / total       1.00      1.00      1.00       441\n\n             precision    recall  f1-score   support\n\n         -1       0.64      1.00      0.78         9\n          1       1.00      0.95      0.97       102\n\navg / total       0.97      0.95      0.96       111\n\n\nsparse-group_small\n             precision    recall  f1-score   support\n\n       -1.0       1.00      0.97      0.99        37\n        1.0       1.00      1.00      1.00       404\n\navg / total       1.00      1.00      1.00       441\n\n             precision    recall  f1-score   support\n\n         -1       0.82      1.00      0.90         9\n          1       1.00      0.98      0.99       102\n\navg / total       0.99      0.98      0.98       111\n\n"
     ]
    }
   ],
   "source": [
    ""
   ]
  },
  {
   "cell_type": "code",
   "execution_count": 14,
   "metadata": {
    "collapsed": true
   },
   "outputs": [
    {
     "name": "stdout",
     "output_type": "stream",
     "text": [
      "\nLogistic L1L2GL\n             precision    recall  f1-score   support\n\n       -1.0       1.00      1.00      1.00        37\n        1.0       1.00      1.00      1.00       404\n\navg / total       1.00      1.00      1.00       441\n\n             precision    recall  f1-score   support\n\n         -1       0.64      1.00      0.78         9\n          1       1.00      0.95      0.97       102\n\navg / total       0.97      0.95      0.96       111\n\n\nmulti-task l1l2\n             precision    recall  f1-score   support\n\n        0.0       0.97      1.00      0.99        37\n        1.0       0.68      0.76      0.72       221\n        2.0       0.66      0.57      0.62       183\n\navg / total       0.70      0.70      0.70       441\n\n             precision    recall  f1-score   support\n\n          0       0.89      0.89      0.89         9\n          1       0.62      0.66      0.64        56\n          2       0.55      0.50      0.52        46\n\navg / total       0.61      0.61      0.61       111\n\n\nl1_lasso\n             precision    recall  f1-score   support\n\n       -1.0       1.00      1.00      1.00        37\n        1.0       1.00      1.00      1.00       404\n\navg / total       1.00      1.00      1.00       441\n\n             precision    recall  f1-score   support\n\n         -1       0.64      1.00      0.78         9\n          1       1.00      0.95      0.97       102\n\navg / total       0.97      0.95      0.96       111\n\n\nelastic_net\n             precision    recall  f1-score   support\n\n       -1.0       1.00      1.00      1.00        37\n        1.0       1.00      1.00      1.00       404\n\navg / total       1.00      1.00      1.00       441\n\n             precision    recall  f1-score   support\n\n         -1       0.64      1.00      0.78         9\n          1       1.00      0.95      0.97       102\n\navg / total       0.97      0.95      0.96       111\n\n\nsparse-group_small\n             precision    recall  f1-score   support\n\n       -1.0       1.00      0.97      0.99        37\n        1.0       1.00      1.00      1.00       404\n\navg / total       1.00      1.00      1.00       441\n\n             precision    recall  f1-score   support\n\n         -1       0.82      1.00      0.90         9\n          1       1.00      0.98      0.99       102\n\navg / total       0.99      0.98      0.98       111\n\n"
     ]
    }
   ],
   "source": [
    ""
   ]
  },
  {
   "cell_type": "code",
   "execution_count": null,
   "metadata": {},
   "outputs": [],
   "source": [
    ""
   ]
  }
 ],
 "metadata": {
  "kernelspec": {
   "display_name": "Python 2",
   "language": "python",
   "name": "python2"
  },
  "language_info": {
   "codemirror_mode": {
    "name": "ipython",
    "version": 2.0
   },
   "file_extension": ".py",
   "mimetype": "text/x-python",
   "name": "python",
   "nbconvert_exporter": "python",
   "pygments_lexer": "ipython2",
   "version": "2.7.6"
  }
 },
 "nbformat": 4,
 "nbformat_minor": 0
}