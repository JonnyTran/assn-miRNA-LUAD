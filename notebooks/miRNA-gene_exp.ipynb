{
 "cells": [
  {
   "cell_type": "markdown",
   "metadata": {
    "collapsed": true
   },
   "source": [
    "## Finding differentialy expressed miRNA's between LUAD stages I, II, III, IV vs normal using Logit regression\n",
    "### Utilize Group Lasso with MISIM miRNA similarity data"
   ]
  },
  {
   "cell_type": "code",
   "execution_count": 1,
   "metadata": {},
   "outputs": [],
   "source": [
    "# Necessary imports\n",
    "import os\n",
    "import pandas\n",
    "import numpy as np\n",
    "\n",
    "from definitions import ROOT_DIR"
   ]
  },
  {
   "cell_type": "markdown",
   "metadata": {},
   "source": [
    "## Load normal and cancer miRNA expression data"
   ]
  },
  {
   "cell_type": "code",
   "execution_count": 2,
   "metadata": {},
   "outputs": [
    {
     "name": "stdout",
     "output_type": "stream",
     "text": [
      "mirna_tumor_df.shape (513, 1882) , nulls: 0\nmirna_normal_df.shape (46, 1882) , nulls: 0\nvalidated_miRNAs.shape (34, 2)\nnormal    46\nName: pathologic_stage, dtype: int64\nStage I      277\nStage II     121\nStage III     84\nStage IV      24\nName: pathologic_stage, dtype: int64\n"
     ]
    }
   ],
   "source": [
    "from definitions import ROOT_DIR\n",
    "\n",
    "# Load files into pandas data frames\n",
    "mirna_tumor_df = pandas.read_csv(os.path.join(ROOT_DIR, \"data/processed/miRNA/tumor_miRNA.csv\"))\n",
    "mirna_normal_df = pandas.read_csv(os.path.join(ROOT_DIR, \"data/processed/miRNA/normal_miRNA.csv\"))\n",
    "clinical_df = pandas.read_csv(os.path.join(ROOT_DIR, \"data/processed/clinical/clinical.csv\"))\n",
    "validated_miRNA_csv = pandas.read_csv(os.path.join(ROOT_DIR, 'data/external/validated_luad_miRNAs_miRCancer.csv'))\n",
    "\n",
    "# Print data frame shapes\n",
    "print \"mirna_tumor_df.shape\", mirna_tumor_df.shape, ', nulls:', mirna_tumor_df.isnull().sum().sum()\n",
    "print \"mirna_normal_df.shape\", mirna_normal_df.shape, ', nulls:', mirna_normal_df.isnull().sum().sum()\n",
    "print 'validated_miRNAs.shape', validated_miRNA_csv.shape\n",
    "\n",
    "# Merge normal and tumor miRNA expression profiles with clinical cancer stage data\n",
    "mirna_normal = pandas.merge(clinical_df[['patient_barcode', 'pathologic_stage']], mirna_normal_df, on='patient_barcode')\n",
    "mirna_normal['pathologic_stage'] = 'normal'\n",
    "mirna_tumor = pandas.merge(clinical_df[['patient_barcode', 'pathologic_stage']], mirna_tumor_df, on='patient_barcode')\n",
    "\n",
    "# Map stage IA to stage I, IB to I, etc. ...\n",
    "pathologic_stage_map = {'Stage IA': 'Stage I', 'Stage IB': 'Stage I', \n",
    "                        'Stage IIA': 'Stage II', 'Stage IIB': 'Stage II', \n",
    "                        'Stage IIIA': 'Stage III', 'Stage IIIB': 'Stage III'}\n",
    "mirna_tumor.replace({'pathologic_stage': pathologic_stage_map}, inplace=True)\n",
    "\n",
    "# Store list of all miRNA's in miRNA expression data\n",
    "mirna_list = list(mirna_tumor.columns)[2:]\n",
    "\n",
    "# Print quick overview of data\n",
    "print mirna_normal['pathologic_stage'].value_counts().sort_index(axis=0)\n",
    "print mirna_tumor['pathologic_stage'].value_counts().sort_index(axis=0)"
   ]
  },
  {
   "cell_type": "markdown",
   "metadata": {},
   "source": [
    "## Load normal & cancer Gene Expression data"
   ]
  },
  {
   "cell_type": "code",
   "execution_count": 3,
   "metadata": {},
   "outputs": [
    {
     "name": "stdout",
     "output_type": "stream",
     "text": [
      "(20530, 517)\n(20530, 61)\n"
     ]
    }
   ],
   "source": [
    "gene_exp_tumor_df = pandas.read_table(os.path.join(ROOT_DIR, 'data/processed/gene_expression/tumor/READ__illuminahiseq_rnaseqv2__GeneExp.txt'), \n",
    "                                      header=0, delimiter='\\t')\n",
    "gene_exp_normal_df = pandas.read_table(os.path.join(ROOT_DIR, 'data/processed/gene_expression/normal/READ__illuminahiseq_rnaseqv2__GeneExp.txt'), \n",
    "                                      header=0, delimiter='\\t')\n",
    "\n",
    "gene_exp_tumor_df.rename(columns=lambda x: x[:12], inplace=True)\n",
    "gene_exp_normal_df.rename(columns=lambda x: x[:12], inplace=True)\n",
    "\n",
    "print gene_exp_tumor_df.shape\n",
    "print gene_exp_normal_df.shape"
   ]
  },
  {
   "cell_type": "markdown",
   "metadata": {},
   "source": [
    "## Reshape gene expression data frames to have shape (patients x gene expression) "
   ]
  },
  {
   "cell_type": "code",
   "execution_count": 4,
   "metadata": {
    "collapsed": false
   },
   "outputs": [
    {
     "name": "stdout",
     "output_type": "stream",
     "text": [
      "515\n59\ngene_symbols 20502\ngene_exp_tumor_patients 515\ngene_exp_normal_patients 59\n(515, 20503)\n(59, 20503)\n"
     ]
    }
   ],
   "source": [
    "print len(list(gene_exp_tumor_df.columns))-2\n",
    "print len(list(gene_exp_normal_df.columns))-2\n",
    "\n",
    "# Remove entries with unknown Gene Symbol\n",
    "gene_exp_tumor_df = gene_exp_tumor_df[gene_exp_tumor_df.GeneSymbol != '?']\n",
    "gene_exp_normal_df = gene_exp_normal_df[gene_exp_normal_df.GeneSymbol != '?']\n",
    "\n",
    "# Get list of all gene_symbols\n",
    "gene_symbols = list(gene_exp_tumor_df['GeneSymbol'])\n",
    "# Get list of tumor and normal patient_barcode\n",
    "gene_exp_tumor_patient_barcodes = list(gene_exp_tumor_df.columns)[2:]\n",
    "gene_exp_normal_patient_barcodes = list(gene_exp_normal_df.columns)[2:]\n",
    "\n",
    "# Drop EntrezID column\n",
    "gene_exp_tumor = gene_exp_tumor_df.drop(['EntrezID', 'GeneSymbol'], axis=1)\n",
    "gene_exp_normal = gene_exp_normal_df.drop(['EntrezID', 'GeneSymbol'], axis=1)\n",
    "\n",
    "# Reshaping data frame to have columns for GeneSymbols, and rows of patients\n",
    "gene_exp_tumor = gene_exp_tumor.T\n",
    "gene_exp_normal = gene_exp_normal.T\n",
    "gene_exp_tumor.columns = gene_symbols\n",
    "gene_exp_normal.columns = gene_symbols\n",
    "\n",
    "# Add column for patients barcode\n",
    "gene_exp_tumor['patient_barcode'] = gene_exp_tumor.index\n",
    "gene_exp_normal['patient_barcode'] = gene_exp_normal.index\n",
    "\n",
    "print \"gene_symbols\", len(gene_symbols)\n",
    "print \"gene_exp_tumor_patients\", len(gene_exp_tumor_patient_barcodes)\n",
    "print \"gene_exp_normal_patients\", len(gene_exp_normal_patient_barcodes)\n",
    "\n",
    "print gene_exp_tumor.shape\n",
    "print gene_exp_normal.shape"
   ]
  },
  {
   "cell_type": "markdown",
   "metadata": {},
   "source": [
    "## Filter samples with matched Gene Expression data and miRNA data"
   ]
  },
  {
   "cell_type": "code",
   "execution_count": 5,
   "metadata": {},
   "outputs": [
    {
     "name": "stdout",
     "output_type": "stream",
     "text": [
      "Stage I      275\nStage II     120\nStage III     84\nStage IV      24\nName: pathologic_stage, dtype: int64\nnormal    20\nName: pathologic_stage, dtype: int64\nmirna_tumor (510, 1881) 0\ngene_exp_tumor (510, 20503)"
     ]
    },
    {
     "name": "stdout",
     "output_type": "stream",
     "text": [
      " 0\nmirna_normal (20, 1881) 0\ngene_exp_normal (20, 20503) 0\n"
     ]
    }
   ],
   "source": [
    "# Merge normal and tumor miRNA expression profiles with clinical cancer stage data\n",
    "merged_normal_patients = pandas.merge(gene_exp_normal[['patient_barcode']], mirna_normal, on='patient_barcode')\n",
    "merged_tumor_patients = pandas.merge(gene_exp_tumor[['patient_barcode']], mirna_tumor, on='patient_barcode')\n",
    "\n",
    "# Handle null values\n",
    "merged_normal_patients = merged_normal_patients[['patient_barcode', 'pathologic_stage']]\n",
    "merged_tumor_patients = merged_tumor_patients[['patient_barcode', 'pathologic_stage']]\n",
    "\n",
    "# Print quick overview of data\n",
    "print merged_tumor_patients['pathologic_stage'].value_counts().sort_index(axis=0)\n",
    "print merged_normal_patients['pathologic_stage'].value_counts().sort_index(axis=0)\n",
    "\n",
    "# Filter samples\n",
    "mirna_tumor = mirna_tumor[mirna_tumor['patient_barcode'].isin(merged_tumor_patients['patient_barcode'])]\n",
    "gene_exp_tumor = gene_exp_tumor[gene_exp_tumor['patient_barcode'].isin(merged_tumor_patients['patient_barcode'])]\n",
    "mirna_normal = mirna_normal[mirna_normal['patient_barcode'].isin(merged_normal_patients['patient_barcode'])]\n",
    "gene_exp_normal = gene_exp_normal[gene_exp_normal['patient_barcode'].isin(merged_normal_patients['patient_barcode'])]\n",
    "\n",
    "# Drop categorical columns\n",
    "mirna_tumor.drop(['patient_barcode', 'pathologic_stage'], 1, inplace=True)\n",
    "mirna_normal.drop(['patient_barcode', 'pathologic_stage'], 1, inplace=Tru e)\n",
    "gene_exp_tumor.drop(['patient_barcode'], 1,inplace=True)\n",
    "gene_exp_normal.drop(['patient_barcode'], 1, inplace=True)\n",
    "\n",
    "print \"mirna_tumor\", mirna_tumor.shape, mirna_tumor.isnull().sum().sum()\n",
    "print \"gene_exp_tumor\", gene_exp_tumor.shape, gene_exp_tumor.isnull().sum().sum()\n",
    "print \"mirna_normal\", mirna_normal.shape, mirna_normal.isnull().sum().sum()\n",
    "print \"gene_exp_normal\", gene_exp_normal.shape, gene_exp_normal.isnull().sum().sum()"
   ]
  },
  {
   "cell_type": "code",
   "execution_count": 6,
   "metadata": {
    "collapsed": false
   },
   "outputs": [],
   "source": [
    ""
   ]
  },
  {
   "cell_type": "markdown",
   "metadata": {},
   "source": [
    "## Build miRNA-target relationship network to identify \n",
    "## Xu et al. (xu2011prioritizing)"
   ]
  },
  {
   "cell_type": "code",
   "execution_count": 6,
   "metadata": {
    "collapsed": true
   },
   "outputs": [
    {
     "name": "stdout",
     "output_type": "stream",
     "text": [
      "n_A 510\nn_B 20\n\ndys 0.168492661018\nmiRNA_target_A_corr 0.00238350082732\nmiRNA_target_B_corr -0.166109160191\nmiRNAs_A[m] 0      12541.869202\n1       8830.010787\n2       6512.213576\n3      12324.962158\n4      21732.109211\n5       8895.227327\n6       8839.502742\n7       1728.425227\n8      10202.760446\n9      19475.224228\n10     25968.683021\n11      7075.564089\n12      9523.395378\n13     18544.544227\n14     22929.348174\n15     15358.773525\n16     13535.818806\n17      5812.939708\n18      9837.453749\n19     24354.650816\n20     13313.094561\n21      5541.208494\n22     12477.235225\n23     12828.385202\n24     13826.035907\n25      6374.656726\n26      8897.474596\n27      6257.317269\n28     13720.287579\n29      7281.157118\n           ...     \n482    18762.654771\n483     3780.775685\n484     4918.435677\n485    25091.071233\n486     6109.822306\n487     8826.482832\n488    11053.225877\n489     6706.631744\n490    12570.264724\n491    10340.496943\n492    33021.833074\n493     5790.758701\n494     5727.837007\n495     5816.001343\n496     6389.050987\n497    12730.592620\n498     5783.272086\n499    18482.186960\n500     5867.060262\n501    11360.388128\n502    15594.533456\n503    12245.938210\n505     9151.974908\n506    16880.146738\n507    12532.288656\n508    12716.868598\n509    16988.669294\n510     8268.029671\n511     5921.947586\n512     5885.854549\nName: hsa-let-7a-1, dtype: float64\nmiRNAs_B[m] 0     23289.979656\n3     27330.549928\n6     25306.026141\n8     25822.972623\n9     22051.194146\n13    16618.080781\n14    19471.359069\n16    17806.720160\n21    20542.448984\n22    30918.492234\n23    30521.656596\n27    19782.476364\n30    34960.629921\n32    37628.487846\n34    22626.290458\n35    15266.159485\n38    22046.228558\n39    15543.864677\n40    26391.023210\n41    21141.764754\nName: hsa-let-7a-1, dtype: float64\ntargets_B[t] TCGA-44-2655     86.1017\nTCGA-44-2657    138.7365\nTCGA-44-2661     74.2530\nTCGA-44-2665    103.7700\nTCGA-44-2668     99.6544\nTCGA-44-3396    104.7258\nTCGA-44-3398     72.7725\nTCGA-44-6144    105.3009\nTCGA-44-6776     47.3475\nTCGA-44-6777    103.5626\nTCGA-44-6778     55.0000\nTCGA-49-6742     72.5908\nTCGA-49-6743     80.2591\nTCGA-49-6744     34.3276\nTCGA-49-6745    146.8635\nTCGA-50-5930     84.4799\nTCGA-50-5932     48.7013\nTCGA-50-5933     65.7423\nTCGA-91-6835     76.7722\nTCGA-91-6836     79.8192\nName: A1BG, dtype: float64\ntargets_A[t] TCGA-05-4244     26.0302\nTCGA-05-4249    120.1349\nTCGA-05-4250     50.8597\nTCGA-05-4382    145.9037\nTCGA-05-4384    127.3671\nTCGA-05-4389     67.1409\nTCGA-05-4390    164.7134\nTCGA-05-4395     21.9745\nTCGA-05-4396     17.4375\nTCGA-05-4397    126.5687\nTCGA-05-4398    258.0731\nTCGA-05-4402     48.4589\nTCGA-05-4403     64.1674\nTCGA-05-4405    146.1301\nTCGA-05-4410     79.4037\nTCGA-05-4415     31.9422\nTCGA-05-4417     85.3059\nTCGA-05-4418    161.1566\nTCGA-05-4420    404.3334\nTCGA-05-4422    129.0715\nTCGA-05-4424    257.9695\nTCGA-05-4425     47.1125\nTCGA-05-4426    307.7644\nTCGA-05-4427     96.4783\nTCGA-05-4430    403.9809\nTCGA-05-4432    136.0485\nTCGA-05-4433     27.9669\nTCGA-05-4434    101.3226\nTCGA-05-5420    303.9139\nTCGA-05-5423    709.7143\n                  ...   \nTCGA-MN-A4N5    353.1575\nTCGA-MP-A4SV     64.5661\nTCGA-MP-A4SW    144.6220\nTCGA-MP-A4SY     58.8219\nTCGA-MP-A4T4    213.0691\nTCGA-MP-A4T6    371.1107\nTCGA-MP-A4T7     50.6928\nTCGA-MP-A4T8     25.5538\nTCGA-MP-A4T9     55.7547\nTCGA-MP-A4TA     87.6606\nTCGA-MP-A4TC    466.1692\nTCGA-MP-A4TD    104.5934\nTCGA-MP-A4TE    531.3260\nTCGA-MP-A4TF     36.7047\nTCGA-MP-A4TH     71.9188\nTCGA-MP-A4TI     65.1710\nTCGA-MP-A4TJ    104.6463\nTCGA-MP-A4TK    180.6389\nTCGA-MP-A5C7    117.0370\nTCGA-NJ-A4YF    395.5043\nTCGA-NJ-A4YG    190.3868\nTCGA-NJ-A4YI    345.6395\nTCGA-NJ-A4YP     72.5330\nTCGA-NJ-A4YQ    165.6874\nTCGA-NJ-A55A     99.4055\nTCGA-NJ-A55O     42.0070\nTCGA-NJ-A55R    273.9088\nTCGA-NJ-A7XG    245.9714\nTCGA-O1-A52J    209.4211\nTCGA-S2-AA1A    114.5543\nName: A1BG, dtype: float64\n"
     ]
    }
   ],
   "source": [
    "from src.models.miRNA_target_network import miRNATargetNetwork\n",
    "import networkx as nx\n",
    "\n",
    "network = miRNATargetNetwork(threshold=0.6)\n",
    "network.train(miRNAs_A=mirna_tumor, targets_A=gene_exp_tumor, miRNAs_B=mirna_normal, targets_B=gene_exp_normal)\n",
    "# print nx.bipartite.sets(network.B)"
   ]
  },
  {
   "cell_type": "code",
   "execution_count": 10,
   "metadata": {},
   "outputs": [
    {
     "data": {
      "text/plain": [
       "Index([u'A1BG', u'A1CF', u'RBFOX1', u'GGACT', u'A2M', u'A2ML1', u'A4GALT',\n       u'A4GNT', u'NPSR1-AS1', u'AAAS',\n       ...\n       u'ZWINT', u'ZXDA', u'ZXDB', u'ZXDC', u'ZYG11A', u'ZYG11B', u'ZYX',\n       u'ZZEF1', u'ZZZ3', u'patient_barcode'],\n      dtype='object', length=20503)"
      ]
     },
     "execution_count": 10,
     "metadata": {},
     "output_type": "execute_result"
    }
   ],
   "source": [
    ""
   ]
  },
  {
   "cell_type": "markdown",
   "metadata": {},
   "source": [
    "## Loading miRecords experimentally validated miRNA-targets interactions"
   ]
  },
  {
   "cell_type": "code",
   "execution_count": 7,
   "metadata": {
    "collapsed": false
   },
   "outputs": [],
   "source": [
    "# Load data frame from file\n",
    "miRecords_df = pandas.read_table(os.path.join(ROOT_DIR, 'data/external/miRecords_version4.tsv'), delimiter='\\t')\n",
    "\n",
    "# Select only homo sapiens miRNA-target pairs\n",
    "miRecords_df = miRecords_df[(miRecords_df[\"miRNA_species\"] == \"Homo sapiens\") &\n",
    "                            (miRecords_df[\"Target gene_species_scientific\"] == \"Homo sapiens\")]\n",
    "miRecords_df = miRecords_df[[\"miRNA_mature_ID\", \"Target gene_name\"]]\n",
    "\n",
    "# Standardize miRNA and gene symbols\n",
    "miRecords_df['miRNA_mature_ID'] = miRecords_df['miRNA_mature_ID'].str.lower()\n",
    "miRecords_df['miRNA_mature_ID'] = miRecords_df['miRNA_mature_ID'].str.replace('*', '')\n",
    "miRecords_df['Target gene_name'] = miRecords_df['Target gene_name'].str.upper()\n",
    "\n",
    "# Filter miRNA-target pairs to only miRNA's included in miRNA expression data, same for gene targets \n",
    "miRecords_df = miRecords_df[miRecords_df[\"miRNA_mature_ID\"].isin(mirna_list) &\n",
    "                            miRecords_df[\"Target gene_name\"].isin(gene_symbols)]\n",
    "\n",
    "# miRecords_df"
   ]
  },
  {
   "cell_type": "code",
   "execution_count": 140,
   "metadata": {},
   "outputs": [],
   "source": [
    ""
   ]
  },
  {
   "cell_type": "code",
   "execution_count": 1,
   "metadata": {
    "collapsed": false
   },
   "outputs": [],
   "source": [
    ""
   ]
  },
  {
   "cell_type": "code",
   "execution_count": null,
   "metadata": {},
   "outputs": [],
   "source": [
    ""
   ]
  }
 ],
 "metadata": {
  "kernelspec": {
   "display_name": "Python 2",
   "language": "python",
   "name": "python2"
  },
  "language_info": {
   "codemirror_mode": {
    "name": "ipython",
    "version": 2.0
   },
   "file_extension": ".py",
   "mimetype": "text/x-python",
   "name": "python",
   "nbconvert_exporter": "python",
   "pygments_lexer": "ipython2",
   "version": "2.7.6"
  }
 },
 "nbformat": 4,
 "nbformat_minor": 0
}