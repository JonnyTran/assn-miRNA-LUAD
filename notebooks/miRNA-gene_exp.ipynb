{
 "cells": [
  {
   "cell_type": "markdown",
   "metadata": {
    "collapsed": true
   },
   "source": [
    "## Finding differentialy expressed miRNA's between LUAD stages I, II, III, IV vs normal using Logit regression\n",
    "### Utilize Group Lasso with MISIM miRNA similarity data"
   ]
  },
  {
   "cell_type": "code",
   "execution_count": 1,
   "metadata": {},
   "outputs": [
    {
     "name": "stdout",
     "output_type": "stream",
     "text": [
      "The autoreload extension is already loaded. To reload it, use:\n  %reload_ext autoreload\n"
     ]
    }
   ],
   "source": [
    "# Necessary imports\n",
    "%load_ext autoreload\n",
    "%autoreload 2\\\n",
    "    \n",
    "import os\n",
    "import pandas\n",
    "import numpy as np\n",
    "import matplotlib.pyplot as plt\n",
    "\n",
    "from definitions import ROOT_DIR"
   ]
  },
  {
   "cell_type": "code",
   "execution_count": 2,
   "metadata": {
    "collapsed": true
   },
   "outputs": [
    {
     "name": "stdout",
     "output_type": "stream",
     "text": [
      "mirna_tumor (506, 1883)\nmirna_normal (46, 1883)\ngene_tumor (515, 20486)\ngene_normal (59, 20486)\n"
     ]
    }
   ],
   "source": [
    "from src.data.make_dataset import TCGA_LUAD\n",
    "tgca_luad = TCGA_LUAD()\n",
    "# tgca_luad.gene_univariate_feature_selection(alpha=0.001)"
   ]
  },
  {
   "cell_type": "markdown",
   "metadata": {},
   "source": [
    "## Build all miRNA-gene associations"
   ]
  },
  {
   "cell_type": "code",
   "execution_count": 3,
   "metadata": {
    "collapsed": true
   },
   "outputs": [
    {
     "name": "stdout",
     "output_type": "stream",
     "text": [
      "3481731\n(3481731, 2)\n"
     ]
    }
   ],
   "source": [
    "all_mirna_gene_assc = []\n",
    "for m in tgca_luad.mirna_list:\n",
    "    for t in tgca_luad.gene_symbols:\n",
    "        all_mirna_gene_assc.append((m, t))\n",
    "print len(all_mirna_gene_assc)\n",
    "all_mirna_gene_assc = pandas.DataFrame(all_mirna_gene_assc, columns=[\"MiRBase ID\", \"Gene Symbol\"])\n",
    "print all_mirna_gene_assc.shape"
   ]
  },
  {
   "cell_type": "markdown",
   "metadata": {},
   "source": [
    "## Loading TargetScan database for predicted miRNA-targets interactions"
   ]
  },
  {
   "cell_type": "code",
   "execution_count": 3,
   "metadata": {},
   "outputs": [
    {
     "name": "stdout",
     "output_type": "stream",
     "text": [
      "(185330, 2)\n"
     ]
    }
   ],
   "source": [
    "# Load data frame from file\n",
    "targetScan_df = pandas.read_table(os.path.join(ROOT_DIR, 'data/external/TargetScan_Predicted_Targets_Info_default_predictions.tsv'), delimiter='\\t')\n",
    "targetScan_family_df = pandas.read_table(os.path.join(ROOT_DIR, 'data/external/TargetScan_miR_Family_Info.txt'), delimiter='\\t')\n",
    "\n",
    "# Select only homo sapiens miRNA-target pairs\n",
    "targetScan_df = targetScan_df[targetScan_df[\"Species ID\"] == 9606][[\"miR Family\", \"Gene Symbol\"]]\n",
    "targetScan_family_df = targetScan_family_df[targetScan_family_df['Species ID'] == 9606][['miR family', 'MiRBase ID']]\n",
    "\n",
    "# Use miRBase ID names\n",
    "targetScan_family_df.rename(columns={'miR family': 'miR Family'}, inplace=True)\n",
    "targetScan_df = pandas.merge(targetScan_df, targetScan_family_df, how='inner', on=\"miR Family\")\n",
    "targetScan_df = targetScan_df[[\"MiRBase ID\", \"Gene Symbol\"]]\n",
    "\n",
    "# Standardize miRNA names\n",
    "targetScan_df['MiRBase ID'] = targetScan_df['MiRBase ID'].str.lower()\n",
    "targetScan_df['MiRBase ID'] = targetScan_df['MiRBase ID'].str.replace(\"-3p.*|-5p.*\", \"\")\n",
    "targetScan_df.drop_duplicates(inplace=True)\n",
    "\n",
    "# Filter miRNA-target pairs to only miRNA's included in miRNA expression data, same for gene targets\n",
    "targetScan_df = targetScan_df[targetScan_df['MiRBase ID'].isin(tgca_luad.mirna_list) & targetScan_df['Gene Symbol'].isin(tgca_luad.gene_symbols)]\n",
    "print targetScan_df.shape"
   ]
  },
  {
   "cell_type": "markdown",
   "metadata": {},
   "source": [
    "## Loading miRanda database for predicted miRNA-targets interactions"
   ]
  },
  {
   "cell_type": "code",
   "execution_count": 4,
   "metadata": {},
   "outputs": [
    {
     "name": "stdout",
     "output_type": "stream",
     "text": [
      "(1097064, 2)\n"
     ]
    },
    {
     "name": "stdout",
     "output_type": "stream",
     "text": [
      "(544648, 2)\n"
     ]
    },
    {
     "name": "stdout",
     "output_type": "stream",
     "text": [
      "(640757, 2)\n"
     ]
    }
   ],
   "source": [
    "miRanda_df = pandas.read_table(os.path.join(ROOT_DIR, 'data/external/miRanda_hg19_predictions_S_C_aug2010.txt'), delimiter='\\t')\n",
    "miRanda_df = miRanda_df[['mirna_name',  'gene_symbol']]\n",
    "\n",
    "miRanda_df['mirna_name'] = miRanda_df['mirna_name'].str.lower()\n",
    "miRanda_df['mirna_name'] = miRanda_df['mirna_name'].str.replace(\"*\", \"\")\n",
    "miRanda_df['mirna_name'] = miRanda_df['mirna_name'].str.replace(\"-3p.*|-5p.*\", \"\")\n",
    "print miRanda_df.shape\n",
    "\n",
    "miRanda_df.columns = [\"MiRBase ID\", \"Gene Symbol\"]\n",
    "miRanda_df = miRanda_df[miRanda_df['MiRBase ID'].isin(tgca_luad.mirna_list) & miRanda_df['Gene Symbol'].isin(tgca_luad.gene_symbols)].dropna().drop_duplicates()\n",
    "print miRanda_df.shape\n",
    "putative_assocs = pandas.concat([targetScan_df, miRanda_df]).dropna().drop_duplicates()\n",
    "print putative_assocs.shape"
   ]
  },
  {
   "cell_type": "markdown",
   "metadata": {},
   "source": [
    "## Build miRNA-target relationship network to from putative predicted miRNA-target pairs\n",
    "## Assign miRNA's to groups from the miRNA-target bipartite graph obtained above\n",
    "The assumption used is that two miRNA's are in the same group, if they share the same target"
   ]
  },
  {
   "cell_type": "code",
   "execution_count": 6,
   "metadata": {
    "collapsed": true
   },
   "outputs": [
    {
     "name": "stdout",
     "output_type": "stream",
     "text": [
      "n_A 20\nn_B 275\n"
     ]
    },
    {
     "name": "stderr",
     "output_type": "stream",
     "text": [
      "<string>:52: RuntimeWarning: invalid value encountered in double_scalars\n"
     ]
    },
    {
     "name": "stderr",
     "output_type": "stream",
     "text": [
      "<string>:52: RuntimeWarning: invalid value encountered in double_scalars\n"
     ]
    },
    {
     "name": "stderr",
     "output_type": "stream",
     "text": [
      "<string>:52: RuntimeWarning: invalid value encountered in double_scalars\n"
     ]
    },
    {
     "name": "stderr",
     "output_type": "stream",
     "text": [
      "<string>:55: RuntimeWarning: invalid value encountered in double_scalars\n"
     ]
    },
    {
     "name": "stderr",
     "output_type": "stream",
     "text": [
      "<string>:55: RuntimeWarning: invalid value encountered in double_scalars\n"
     ]
    },
    {
     "name": "stderr",
     "output_type": "stream",
     "text": [
      "<string>:55: RuntimeWarning: invalid value encountered in double_scalars\n"
     ]
    },
    {
     "name": "stderr",
     "output_type": "stream",
     "text": [
      "<string>:52: RuntimeWarning: invalid value encountered in double_scalars\n"
     ]
    },
    {
     "name": "stderr",
     "output_type": "stream",
     "text": [
      "<string>:55: RuntimeWarning: invalid value encountered in double_scalars\n"
     ]
    },
    {
     "name": "stderr",
     "output_type": "stream",
     "text": [
      "<string>:52: RuntimeWarning: invalid value encountered in double_scalars\n"
     ]
    },
    {
     "name": "stderr",
     "output_type": "stream",
     "text": [
      "<string>:55: RuntimeWarning: invalid value encountered in double_scalars\n"
     ]
    },
    {
     "name": "stderr",
     "output_type": "stream",
     "text": [
      "<string>:52: RuntimeWarning: invalid value encountered in double_scalars\n"
     ]
    },
    {
     "name": "stderr",
     "output_type": "stream",
     "text": [
      "<string>:55: RuntimeWarning: invalid value encountered in double_scalars\n"
     ]
    },
    {
     "name": "stderr",
     "output_type": "stream",
     "text": [
      "<string>:52: RuntimeWarning: invalid value encountered in double_scalars\n"
     ]
    },
    {
     "name": "stderr",
     "output_type": "stream",
     "text": [
      "<string>:55: RuntimeWarning: invalid value encountered in double_scalars\n"
     ]
    },
    {
     "name": "stderr",
     "output_type": "stream",
     "text": [
      "src/models/miRNA_target_network.py:100: RuntimeWarning: invalid value encountered in log\n  z_B = (np.log(r_B_plus) - np.log(r_B_minus)) / 2.0\n"
     ]
    },
    {
     "name": "stderr",
     "output_type": "stream",
     "text": [
      "src/models/miRNA_target_network.py:99: RuntimeWarning: invalid value encountered in log\n  z_A = (np.log(r_A_plus) - np.log(r_A_minus)) / 2.0\n"
     ]
    },
    {
     "name": "stderr",
     "output_type": "stream",
     "text": [
      "src/models/miRNA_target_network.py:99: RuntimeWarning: invalid value encountered in log\n  z_A = (np.log(r_A_plus) - np.log(r_A_minus)) / 2.0\n"
     ]
    },
    {
     "name": "stderr",
     "output_type": "stream",
     "text": [
      "src/models/miRNA_target_network.py:99: RuntimeWarning: invalid value encountered in log\n  z_A = (np.log(r_A_plus) - np.log(r_A_minus)) / 2.0\n"
     ]
    },
    {
     "name": "stderr",
     "output_type": "stream",
     "text": [
      "src/models/miRNA_target_network.py:99: RuntimeWarning: invalid value encountered in log\n  z_A = (np.log(r_A_plus) - np.log(r_A_minus)) / 2.0\n"
     ]
    },
    {
     "name": "stderr",
     "output_type": "stream",
     "text": [
      "src/models/miRNA_target_network.py:100: RuntimeWarning: invalid value encountered in log\n  z_B = (np.log(r_B_plus) - np.log(r_B_minus)) / 2.0\n"
     ]
    },
    {
     "name": "stderr",
     "output_type": "stream",
     "text": [
      "src/models/miRNA_target_network.py:100: RuntimeWarning: invalid value encountered in log\n  z_B = (np.log(r_B_plus) - np.log(r_B_minus)) / 2.0\n"
     ]
    },
    {
     "data": {
      "text/plain": [
       "7641"
      ]
     },
     "execution_count": 5,
     "metadata": {},
     "output_type": "execute_result"
    }
   ],
   "source": [
    "from src.models.miRNA_target_network import miRNATargetNetwork as miRNATargetNet\n",
    "import networkx as nx\n",
    "\n",
    "network = miRNATargetNet(miRNAs=tgca_luad.mirna_list, targets=tgca_luad.gene_symbols)\n",
    "\n",
    "network.fit(tag=\"normal-StgI\", p_threshold=0.001, n_jobs=7,\n",
    "            miRNA_A=tgca_luad.make_dataset(dataset='miRNA', normal_tumor='normal',\n",
    "                                           normal_matched=False, mirna_gene_matched=True)[0],\n",
    "            gene_A=tgca_luad.make_dataset(dataset='gene', normal_tumor='normal',\n",
    "                                          normal_matched=False, mirna_gene_matched=True)[0],\n",
    "            miRNA_B=tgca_luad.make_dataset(dataset='miRNA', normal_tumor='tumor', pathologic_stages=['Stage I'],\n",
    "                                           normal_matched=False, mirna_gene_matched=True)[0],\n",
    "            gene_B=tgca_luad.make_dataset(dataset='gene', normal_tumor='tumor', pathologic_stages=['Stage I'],\n",
    "                                          normal_matched=False, mirna_gene_matched=True)[0],\n",
    "            putative_assocs=putative_assocs)"
   ]
  },
  {
   "cell_type": "code",
   "execution_count": 8,
   "metadata": {
    "collapsed": true
   },
   "outputs": [
    {
     "name": "stdout",
     "output_type": "stream",
     "text": [
      "n_A 275\nn_B 120\n"
     ]
    },
    {
     "name": "stderr",
     "output_type": "stream",
     "text": [
      "<string>:52: RuntimeWarning: invalid value encountered in double_scalars\n"
     ]
    },
    {
     "name": "stderr",
     "output_type": "stream",
     "text": [
      "<string>:55: RuntimeWarning: invalid value encountered in double_scalars\n"
     ]
    },
    {
     "name": "stderr",
     "output_type": "stream",
     "text": [
      "<string>:55: RuntimeWarning: invalid value encountered in double_scalars\n"
     ]
    },
    {
     "name": "stderr",
     "output_type": "stream",
     "text": [
      "<string>:52: RuntimeWarning: invalid value encountered in double_scalars\n"
     ]
    },
    {
     "name": "stderr",
     "output_type": "stream",
     "text": [
      "<string>:52: RuntimeWarning: invalid value encountered in double_scalars\n"
     ]
    },
    {
     "name": "stderr",
     "output_type": "stream",
     "text": [
      "<string>:55: RuntimeWarning: invalid value encountered in double_scalars\n"
     ]
    },
    {
     "name": "stderr",
     "output_type": "stream",
     "text": [
      "<string>:52: RuntimeWarning: invalid value encountered in double_scalars\n"
     ]
    },
    {
     "name": "stderr",
     "output_type": "stream",
     "text": [
      "<string>:55: RuntimeWarning: invalid value encountered in double_scalars\n"
     ]
    },
    {
     "name": "stderr",
     "output_type": "stream",
     "text": [
      "<string>:52: RuntimeWarning: invalid value encountered in double_scalars\n"
     ]
    },
    {
     "name": "stderr",
     "output_type": "stream",
     "text": [
      "<string>:55: RuntimeWarning: invalid value encountered in double_scalars\n"
     ]
    },
    {
     "name": "stderr",
     "output_type": "stream",
     "text": [
      "<string>:52: RuntimeWarning: invalid value encountered in double_scalars\n"
     ]
    },
    {
     "name": "stderr",
     "output_type": "stream",
     "text": [
      "<string>:55: RuntimeWarning: invalid value encountered in double_scalars\n"
     ]
    },
    {
     "name": "stderr",
     "output_type": "stream",
     "text": [
      "<string>:52: RuntimeWarning: invalid value encountered in double_scalars\n"
     ]
    },
    {
     "name": "stderr",
     "output_type": "stream",
     "text": [
      "<string>:55: RuntimeWarning: invalid value encountered in double_scalars\n"
     ]
    },
    {
     "name": "stderr",
     "output_type": "stream",
     "text": [
      "src/models/miRNA_target_network.py:99: RuntimeWarning: invalid value encountered in log\n  z_A = (np.log(r_A_plus) - np.log(r_A_minus)) / 2.0\n"
     ]
    },
    {
     "name": "stderr",
     "output_type": "stream",
     "text": [
      "src/models/miRNA_target_network.py:100: RuntimeWarning: invalid value encountered in log\n  z_B = (np.log(r_B_plus) - np.log(r_B_minus)) / 2.0\n"
     ]
    },
    {
     "name": "stderr",
     "output_type": "stream",
     "text": [
      "src/models/miRNA_target_network.py:100: RuntimeWarning: invalid value encountered in log\n  z_B = (np.log(r_B_plus) - np.log(r_B_minus)) / 2.0\n"
     ]
    },
    {
     "name": "stderr",
     "output_type": "stream",
     "text": [
      "src/models/miRNA_target_network.py:99: RuntimeWarning: invalid value encountered in log\n  z_A = (np.log(r_A_plus) - np.log(r_A_minus)) / 2.0\n"
     ]
    },
    {
     "name": "stderr",
     "output_type": "stream",
     "text": [
      "src/models/miRNA_target_network.py:99: RuntimeWarning: invalid value encountered in log\n  z_A = (np.log(r_A_plus) - np.log(r_A_minus)) / 2.0\n"
     ]
    },
    {
     "data": {
      "text/plain": [
       "6479"
      ]
     },
     "execution_count": 7,
     "metadata": {},
     "output_type": "execute_result"
    }
   ],
   "source": [
    "network.fit(tag=\"StgI-StgII\", p_threshold=0.001, n_jobs=7,\n",
    "            miRNA_A=tgca_luad.make_dataset(dataset='miRNA', normal_tumor='tumor', pathologic_stages=['Stage I'],\n",
    "                                           normal_matched=False, mirna_gene_matched=True)[0],\n",
    "            gene_A=tgca_luad.make_dataset(dataset='gene', normal_tumor='tumor', pathologic_stages=['Stage I'],\n",
    "                                          normal_matched=False, mirna_gene_matched=True)[0],\n",
    "            miRNA_B=tgca_luad.make_dataset(dataset='miRNA', normal_tumor='tumor', pathologic_stages=['Stage II'],\n",
    "                                           normal_matched=False, mirna_gene_matched=True)[0],\n",
    "            gene_B=tgca_luad.make_dataset(dataset='gene', normal_tumor='tumor', pathologic_stages=['Stage II'],\n",
    "                                          normal_matched=False, mirna_gene_matched=True)[0],\n",
    "            putative_assocs=putative_assocs)"
   ]
  },
  {
   "cell_type": "code",
   "execution_count": 10,
   "metadata": {
    "collapsed": true
   },
   "outputs": [
    {
     "name": "stdout",
     "output_type": "stream",
     "text": [
      "n_A 120\nn_B 84\n"
     ]
    },
    {
     "name": "stderr",
     "output_type": "stream",
     "text": [
      "<string>:52: RuntimeWarning: invalid value encountered in double_scalars\n"
     ]
    },
    {
     "name": "stderr",
     "output_type": "stream",
     "text": [
      "<string>:55: RuntimeWarning: invalid value encountered in double_scalars\n"
     ]
    },
    {
     "name": "stderr",
     "output_type": "stream",
     "text": [
      "<string>:52: RuntimeWarning: invalid value encountered in double_scalars\n"
     ]
    },
    {
     "name": "stderr",
     "output_type": "stream",
     "text": [
      "<string>:55: RuntimeWarning: invalid value encountered in double_scalars\n"
     ]
    },
    {
     "name": "stderr",
     "output_type": "stream",
     "text": [
      "<string>:52: RuntimeWarning: invalid value encountered in double_scalars\n"
     ]
    },
    {
     "name": "stderr",
     "output_type": "stream",
     "text": [
      "<string>:55: RuntimeWarning: invalid value encountered in double_scalars\n"
     ]
    },
    {
     "name": "stderr",
     "output_type": "stream",
     "text": [
      "<string>:55: RuntimeWarning: invalid value encountered in double_scalars\n"
     ]
    },
    {
     "name": "stderr",
     "output_type": "stream",
     "text": [
      "<string>:52: RuntimeWarning: invalid value encountered in double_scalars\n"
     ]
    },
    {
     "name": "stderr",
     "output_type": "stream",
     "text": [
      "<string>:55: RuntimeWarning: invalid value encountered in double_scalars\n"
     ]
    },
    {
     "name": "stderr",
     "output_type": "stream",
     "text": [
      "<string>:52: RuntimeWarning: invalid value encountered in double_scalars\n"
     ]
    },
    {
     "name": "stderr",
     "output_type": "stream",
     "text": [
      "<string>:52: RuntimeWarning: invalid value encountered in double_scalars\n"
     ]
    },
    {
     "name": "stderr",
     "output_type": "stream",
     "text": [
      "<string>:55: RuntimeWarning: invalid value encountered in double_scalars\n"
     ]
    },
    {
     "name": "stderr",
     "output_type": "stream",
     "text": [
      "<string>:55: RuntimeWarning: invalid value encountered in double_scalars\n"
     ]
    },
    {
     "name": "stderr",
     "output_type": "stream",
     "text": [
      "<string>:52: RuntimeWarning: invalid value encountered in double_scalars\n"
     ]
    },
    {
     "name": "stderr",
     "output_type": "stream",
     "text": [
      "src/models/miRNA_target_network.py:100: RuntimeWarning: invalid value encountered in log\n  z_B = (np.log(r_B_plus) - np.log(r_B_minus)) / 2.0\n"
     ]
    },
    {
     "name": "stderr",
     "output_type": "stream",
     "text": [
      "src/models/miRNA_target_network.py:100: RuntimeWarning: invalid value encountered in log\n  z_B = (np.log(r_B_plus) - np.log(r_B_minus)) / 2.0\n"
     ]
    },
    {
     "name": "stderr",
     "output_type": "stream",
     "text": [
      "src/models/miRNA_target_network.py:100: RuntimeWarning: invalid value encountered in log\n  z_B = (np.log(r_B_plus) - np.log(r_B_minus)) / 2.0\n"
     ]
    },
    {
     "name": "stderr",
     "output_type": "stream",
     "text": [
      "src/models/miRNA_target_network.py:99: RuntimeWarning: invalid value encountered in log\n  z_A = (np.log(r_A_plus) - np.log(r_A_minus)) / 2.0\n"
     ]
    },
    {
     "name": "stderr",
     "output_type": "stream",
     "text": [
      "src/models/miRNA_target_network.py:100: RuntimeWarning: invalid value encountered in log\n  z_B = (np.log(r_B_plus) - np.log(r_B_minus)) / 2.0\n"
     ]
    },
    {
     "name": "stderr",
     "output_type": "stream",
     "text": [
      "src/models/miRNA_target_network.py:99: RuntimeWarning: invalid value encountered in log\n  z_A = (np.log(r_A_plus) - np.log(r_A_minus)) / 2.0\n"
     ]
    },
    {
     "data": {
      "text/plain": [
       "5988"
      ]
     },
     "execution_count": 9,
     "metadata": {},
     "output_type": "execute_result"
    }
   ],
   "source": [
    "network.fit(tag=\"StgII-StgIII\", p_threshold=0.001, n_jobs=7,\n",
    "            miRNA_A=tgca_luad.make_dataset(dataset='miRNA', normal_tumor='tumor', pathologic_stages=['Stage II'],\n",
    "                                           normal_matched=False, mirna_gene_matched=True)[0],\n",
    "            gene_A=tgca_luad.make_dataset(dataset='gene', normal_tumor='tumor', pathologic_stages=['Stage II'],\n",
    "                                          normal_matched=False, mirna_gene_matched=True)[0],\n",
    "            miRNA_B=tgca_luad.make_dataset(dataset='miRNA', normal_tumor='tumor', pathologic_stages=['Stage III'],\n",
    "                                           normal_matched=False, mirna_gene_matched=True)[0],\n",
    "            gene_B=tgca_luad.make_dataset(dataset='gene', normal_tumor='tumor', pathologic_stages=['Stage III'],\n",
    "                                          normal_matched=False, mirna_gene_matched=True)[0],\n",
    "            putative_assocs=putative_assocs)"
   ]
  },
  {
   "cell_type": "code",
   "execution_count": 12,
   "metadata": {
    "collapsed": true
   },
   "outputs": [
    {
     "name": "stdout",
     "output_type": "stream",
     "text": [
      "n_A 84\nn_B 24\n"
     ]
    },
    {
     "name": "stderr",
     "output_type": "stream",
     "text": [
      "src/models/miRNA_target_network.py:100: RuntimeWarning: invalid value encountered in log\n  z_B = (np.log(r_B_plus) - np.log(r_B_minus)) / 2.0\n"
     ]
    },
    {
     "name": "stderr",
     "output_type": "stream",
     "text": [
      "<string>:55: RuntimeWarning: invalid value encountered in double_scalars\n"
     ]
    },
    {
     "name": "stderr",
     "output_type": "stream",
     "text": [
      "<string>:52: RuntimeWarning: invalid value encountered in double_scalars\n"
     ]
    },
    {
     "name": "stderr",
     "output_type": "stream",
     "text": [
      "<string>:55: RuntimeWarning: invalid value encountered in double_scalars\n"
     ]
    },
    {
     "name": "stderr",
     "output_type": "stream",
     "text": [
      "<string>:52: RuntimeWarning: invalid value encountered in double_scalars\n"
     ]
    },
    {
     "name": "stderr",
     "output_type": "stream",
     "text": [
      "<string>:52: RuntimeWarning: invalid value encountered in double_scalars\n"
     ]
    },
    {
     "name": "stderr",
     "output_type": "stream",
     "text": [
      "<string>:55: RuntimeWarning: invalid value encountered in double_scalars\n"
     ]
    },
    {
     "name": "stderr",
     "output_type": "stream",
     "text": [
      "src/models/miRNA_target_network.py:100: RuntimeWarning: invalid value encountered in log\n  z_B = (np.log(r_B_plus) - np.log(r_B_minus)) / 2.0\n"
     ]
    },
    {
     "name": "stderr",
     "output_type": "stream",
     "text": [
      "<string>:52: RuntimeWarning: invalid value encountered in double_scalars\n"
     ]
    },
    {
     "name": "stderr",
     "output_type": "stream",
     "text": [
      "<string>:55: RuntimeWarning: invalid value encountered in double_scalars\n"
     ]
    },
    {
     "name": "stderr",
     "output_type": "stream",
     "text": [
      "src/models/miRNA_target_network.py:100: RuntimeWarning: invalid value encountered in log\n  z_B = (np.log(r_B_plus) - np.log(r_B_minus)) / 2.0\n"
     ]
    },
    {
     "name": "stderr",
     "output_type": "stream",
     "text": [
      "<string>:52: RuntimeWarning: invalid value encountered in double_scalars\n"
     ]
    },
    {
     "name": "stderr",
     "output_type": "stream",
     "text": [
      "<string>:55: RuntimeWarning: invalid value encountered in double_scalars\n"
     ]
    },
    {
     "name": "stderr",
     "output_type": "stream",
     "text": [
      "<string>:52: RuntimeWarning: invalid value encountered in double_scalars\n"
     ]
    },
    {
     "name": "stderr",
     "output_type": "stream",
     "text": [
      "<string>:55: RuntimeWarning: invalid value encountered in double_scalars\n"
     ]
    },
    {
     "name": "stderr",
     "output_type": "stream",
     "text": [
      "src/models/miRNA_target_network.py:100: RuntimeWarning: invalid value encountered in log\n  z_B = (np.log(r_B_plus) - np.log(r_B_minus)) / 2.0\n"
     ]
    },
    {
     "name": "stderr",
     "output_type": "stream",
     "text": [
      "<string>:52: RuntimeWarning: invalid value encountered in double_scalars\n"
     ]
    },
    {
     "name": "stderr",
     "output_type": "stream",
     "text": [
      "src/models/miRNA_target_network.py:100: RuntimeWarning: invalid value encountered in log\n  z_B = (np.log(r_B_plus) - np.log(r_B_minus)) / 2.0\n"
     ]
    },
    {
     "name": "stderr",
     "output_type": "stream",
     "text": [
      "<string>:55: RuntimeWarning: invalid value encountered in double_scalars\n"
     ]
    },
    {
     "name": "stderr",
     "output_type": "stream",
     "text": [
      "src/models/miRNA_target_network.py:100: RuntimeWarning: invalid value encountered in log\n  z_B = (np.log(r_B_plus) - np.log(r_B_minus)) / 2.0\n"
     ]
    },
    {
     "name": "stderr",
     "output_type": "stream",
     "text": [
      "src/models/miRNA_target_network.py:99: RuntimeWarning: invalid value encountered in log\n  z_A = (np.log(r_A_plus) - np.log(r_A_minus)) / 2.0\n"
     ]
    },
    {
     "name": "stderr",
     "output_type": "stream",
     "text": [
      "src/models/miRNA_target_network.py:99: RuntimeWarning: invalid value encountered in log\n  z_A = (np.log(r_A_plus) - np.log(r_A_minus)) / 2.0\n"
     ]
    },
    {
     "name": "stderr",
     "output_type": "stream",
     "text": [
      "src/models/miRNA_target_network.py:99: RuntimeWarning: invalid value encountered in log\n  z_A = (np.log(r_A_plus) - np.log(r_A_minus)) / 2.0\n"
     ]
    },
    {
     "name": "stderr",
     "output_type": "stream",
     "text": [
      "src/models/miRNA_target_network.py:100: RuntimeWarning: invalid value encountered in log\n  z_B = (np.log(r_B_plus) - np.log(r_B_minus)) / 2.0\n"
     ]
    },
    {
     "name": "stderr",
     "output_type": "stream",
     "text": [
      "src/models/miRNA_target_network.py:99: RuntimeWarning: invalid value encountered in log\n  z_A = (np.log(r_A_plus) - np.log(r_A_minus)) / 2.0\n"
     ]
    },
    {
     "data": {
      "text/plain": [
       "11506"
      ]
     },
     "execution_count": 11,
     "metadata": {},
     "output_type": "execute_result"
    }
   ],
   "source": [
    "network.fit(tag=\"StgIII-StgIV\", p_threshold=0.001, n_jobs=7,\n",
    "            miRNA_A=tgca_luad.make_dataset(dataset='miRNA', normal_tumor='tumor', pathologic_stages=['Stage III'],\n",
    "                                           normal_matched=False, mirna_gene_matched=True)[0],\n",
    "            gene_A=tgca_luad.make_dataset(dataset='gene', normal_tumor='tumor', pathologic_stages=['Stage III'],\n",
    "                                          normal_matched=False, mirna_gene_matched=True)[0],\n",
    "            miRNA_B=tgca_luad.make_dataset(dataset='miRNA', normal_tumor='tumor', pathologic_stages=['Stage IV'],\n",
    "                                           normal_matched=False, mirna_gene_matched=True)[0],\n",
    "            gene_B=tgca_luad.make_dataset(dataset='gene', normal_tumor='tumor', pathologic_stages=['Stage IV'],\n",
    "                                          normal_matched=False, mirna_gene_matched=True)[0],\n",
    "            putative_assocs=putative_assocs)"
   ]
  },
  {
   "cell_type": "code",
   "execution_count": 14,
   "metadata": {},
   "outputs": [
    {
     "name": "stdout",
     "output_type": "stream",
     "text": [
      "miRNAs_in_MTDN 274\nnormal_stgI_genes 3320\nstgI_StgII_genes"
     ]
    },
    {
     "name": "stdout",
     "output_type": "stream",
     "text": [
      " 2909\nstgII_StgIII_genes 3335\nstgIII_StgIV_genes 3955\n"
     ]
    }
   ],
   "source": [
    "network.build_miRNA_features()"
   ]
  },
  {
   "cell_type": "code",
   "execution_count": 13,
   "metadata": {
    "collapsed": false
   },
   "outputs": [
    {
     "name": "stdout",
     "output_type": "stream",
     "text": [
      "1881\n"
     ]
    },
    {
     "data": {
      "image/png": "[encoded data removed]",
      "text/plain": [
       "<matplotlib.figure.Figure at 0x7f1dd408aed0>"
      ]
     },
     "metadata": {},
     "output_type": "display_data"
    }
   ],
   "source": [
    "miRNAs_nodes = set(n for n, d in network.B.nodes(data=True) if d['bipartite'] == 0)\n",
    "targets_nodes = set(network.B) - miRNAs_nodes\n",
    "\n",
    "miRNA_nodes_degrees = nx.bipartite.degrees(network.B, miRNAs_nodes)[1]\n",
    "print len(miRNA_nodes_degrees)\n",
    "\n",
    "plt.figure()\n",
    "plt.hist(miRNA_nodes_degrees.values(), bins=100)\n",
    "plt.title('Distribution of miRNA out-degree')\n",
    "plt.xlim((0,20))\n",
    "plt.ylabel('number of targets')\n",
    "plt.xlabel('number of miRNAs')\n",
    "plt.show()"
   ]
  },
  {
   "cell_type": "code",
   "execution_count": 14,
   "metadata": {
    "collapsed": true
   },
   "outputs": [
    {
     "name": "stdout",
     "output_type": "stream",
     "text": [
      "20484\n"
     ]
    },
    {
     "data": {
      "image/png": "[encoded data removed]",
      "text/plain": [
       "<matplotlib.figure.Figure at 0x7f1dc5995190>"
      ]
     },
     "metadata": {},
     "output_type": "display_data"
    }
   ],
   "source": [
    "targets_nodes_degrees = nx.bipartite.degrees(network.B, targets_nodes)[1]\n",
    "print len(targets_nodes_degrees)\n",
    "\n",
    "plt.figure()\n",
    "plt.hist(targets_nodes_degrees.values(), bins=40)\n",
    "plt.title('Distribution of gene in-degree')\n",
    "plt.ylabel('number of miRNAs')\n",
    "plt.xlabel('number of targets')\n",
    "plt.show()"
   ]
  },
  {
   "cell_type": "code",
   "execution_count": 15,
   "metadata": {
    "collapsed": true
   },
   "outputs": [
    {
     "name": "stdout",
     "output_type": "stream",
     "text": [
      "[1210, 148, 75, 22, 19]\n"
     ]
    },
    {
     "name": "stdout",
     "output_type": "stream",
     "text": [
      "[1155, 148, 73, 55, 22, 19, 2]\n"
     ]
    },
    {
     "name": "stdout",
     "output_type": "stream",
     "text": [
      "[1005, 143, 92, 73, 58, 55, 22, 19, 5, 2]\n"
     ]
    },
    {
     "name": "stdout",
     "output_type": "stream",
     "text": [
      "[1005, 143, 92, 73, 58, 55, 19, 16, 5, 3, 3, 2]\n"
     ]
    },
    {
     "name": "stdout",
     "output_type": "stream",
     "text": [
      "[954, 143, 92, 60, 58, 55, 34, 19, 17, 16, 13, 5, 3, 3, 2]\n"
     ]
    },
    {
     "name": "stdout",
     "output_type": "stream",
     "text": [
      "[954, 131, 92, 60, 58, 55, 34, 17, 16, 13, 12, 10, 9, 5, 3, 3, 2]\n"
     ]
    },
    {
     "name": "stdout",
     "output_type": "stream",
     "text": [
      "[888, 131, 92, 60, 55, 47, 45, 34, 21, 17, 16, 13, 12, 11, 10, 9, 5, 3, 3, 2]\n"
     ]
    },
    {
     "data": {
      "image/png": "[encoded data removed]",
      "text/plain": [
       "<matplotlib.figure.Figure at 0x7fb7e828f050>"
      ]
     },
     "metadata": {},
     "output_type": "display_data"
    }
   ],
   "source": [
    "n_clusters = [5, 7, 10, 12, 15, 17, 20]\n",
    "\n",
    "plt.figure()\n",
    "for n_cluster in n_clusters:\n",
    "    bin_count = network.run_miRNA_clustering(n_cluster=n_cluster, linkage='complete')\n",
    "    print sorted(bin_count, reverse=True)\n",
    "    plt.plot(range(1, len(bin_count)+1), sorted(bin_count, reverse=True))\n",
    "plt.ylabel('frequency')\n",
    "plt.xlabel('number of degrees')\n",
    "plt.show()"
   ]
  },
  {
   "cell_type": "code",
   "execution_count": 185,
   "metadata": {},
   "outputs": [
    {
     "data": {
      "text/plain": [
       "array([  3, 249,   2,  10,   3,   1,   1,   2,   1,   2])"
      ]
     },
     "execution_count": 185,
     "metadata": {},
     "output_type": "execute_result"
    }
   ],
   "source": [
    "network.run_miRNA_clustering(n_cluster=10, linkage='complete')"
   ]
  },
  {
   "cell_type": "markdown",
   "metadata": {},
   "source": [
    "## TarBase: Validated miRNA-target interactions"
   ]
  },
  {
   "cell_type": "code",
   "execution_count": 186,
   "metadata": {
    "collapsed": true
   },
   "outputs": [
    {
     "data": {
      "text/html": [
       "<div>\n",
       "<table border=\"1\" class=\"dataframe\">\n",
       "  <thead>\n",
       "    <tr style=\"text-align: right;\">\n",
       "      <th></th>\n",
       "      <th>MiRBase ID</th>\n",
       "      <th>Gene Symbol</th>\n",
       "    </tr>\n",
       "  </thead>\n",
       "  <tbody>\n",
       "    <tr>\n",
       "      <th>3607</th>\n",
       "      <td>LAMP2</td>\n",
       "      <td>hsa-mir-16</td>\n",
       "    </tr>\n",
       "    <tr>\n",
       "      <th>9183</th>\n",
       "      <td>ANLN</td>\n",
       "      <td>hsa-mir-16</td>\n",
       "    </tr>\n",
       "    <tr>\n",
       "      <th>16320</th>\n",
       "      <td>CDH1</td>\n",
       "      <td>hsa-mir-200c</td>\n",
       "    </tr>\n",
       "    <tr>\n",
       "      <th>23639</th>\n",
       "      <td>MTA3</td>\n",
       "      <td>hsa-mir-495</td>\n",
       "    </tr>\n",
       "    <tr>\n",
       "      <th>23640</th>\n",
       "      <td>MTA3</td>\n",
       "      <td>hsa-mir-495</td>\n",
       "    </tr>\n",
       "    <tr>\n",
       "      <th>23641</th>\n",
       "      <td>MTA3</td>\n",
       "      <td>hsa-mir-495</td>\n",
       "    </tr>\n",
       "    <tr>\n",
       "      <th>31153</th>\n",
       "      <td>RHOA</td>\n",
       "      <td>hsa-mir-125a</td>\n",
       "    </tr>\n",
       "    <tr>\n",
       "      <th>31154</th>\n",
       "      <td>RHOA</td>\n",
       "      <td>hsa-mir-125a</td>\n",
       "    </tr>\n",
       "    <tr>\n",
       "      <th>31155</th>\n",
       "      <td>RHOA</td>\n",
       "      <td>hsa-mir-125a</td>\n",
       "    </tr>\n",
       "    <tr>\n",
       "      <th>39266</th>\n",
       "      <td>TSG101</td>\n",
       "      <td>hsa-mir-20a</td>\n",
       "    </tr>\n",
       "    <tr>\n",
       "      <th>47754</th>\n",
       "      <td>ARG2</td>\n",
       "      <td>hsa-mir-16</td>\n",
       "    </tr>\n",
       "    <tr>\n",
       "      <th>52574</th>\n",
       "      <td>ABCB1</td>\n",
       "      <td>hsa-mir-326</td>\n",
       "    </tr>\n",
       "    <tr>\n",
       "      <th>52575</th>\n",
       "      <td>ABCB1</td>\n",
       "      <td>hsa-mir-326</td>\n",
       "    </tr>\n",
       "    <tr>\n",
       "      <th>54848</th>\n",
       "      <td>MMP2</td>\n",
       "      <td>hsa-mir-29c</td>\n",
       "    </tr>\n",
       "    <tr>\n",
       "      <th>54849</th>\n",
       "      <td>MMP2</td>\n",
       "      <td>hsa-mir-29c</td>\n",
       "    </tr>\n",
       "    <tr>\n",
       "      <th>54853</th>\n",
       "      <td>MMP2</td>\n",
       "      <td>hsa-mir-326</td>\n",
       "    </tr>\n",
       "    <tr>\n",
       "      <th>57575</th>\n",
       "      <td>BIRC5</td>\n",
       "      <td>hsa-mir-1</td>\n",
       "    </tr>\n",
       "    <tr>\n",
       "      <th>57602</th>\n",
       "      <td>BIRC5</td>\n",
       "      <td>hsa-mir-203a</td>\n",
       "    </tr>\n",
       "    <tr>\n",
       "      <th>57603</th>\n",
       "      <td>BIRC5</td>\n",
       "      <td>hsa-mir-203a</td>\n",
       "    </tr>\n",
       "    <tr>\n",
       "      <th>62143</th>\n",
       "      <td>DPYSL2</td>\n",
       "      <td>hsa-mir-19a</td>\n",
       "    </tr>\n",
       "    <tr>\n",
       "      <th>68372</th>\n",
       "      <td>TIMP3</td>\n",
       "      <td>hsa-mir-222</td>\n",
       "    </tr>\n",
       "    <tr>\n",
       "      <th>68373</th>\n",
       "      <td>TIMP3</td>\n",
       "      <td>hsa-mir-222</td>\n",
       "    </tr>\n",
       "    <tr>\n",
       "      <th>68374</th>\n",
       "      <td>TIMP3</td>\n",
       "      <td>hsa-mir-222</td>\n",
       "    </tr>\n",
       "    <tr>\n",
       "      <th>68375</th>\n",
       "      <td>TIMP3</td>\n",
       "      <td>hsa-mir-222</td>\n",
       "    </tr>\n",
       "    <tr>\n",
       "      <th>75717</th>\n",
       "      <td>DNAJC5</td>\n",
       "      <td>hsa-mir-16</td>\n",
       "    </tr>\n",
       "    <tr>\n",
       "      <th>76525</th>\n",
       "      <td>CDS2</td>\n",
       "      <td>hsa-mir-16</td>\n",
       "    </tr>\n",
       "    <tr>\n",
       "      <th>76526</th>\n",
       "      <td>CDS2</td>\n",
       "      <td>hsa-mir-16</td>\n",
       "    </tr>\n",
       "    <tr>\n",
       "      <th>76805</th>\n",
       "      <td>KIF3B</td>\n",
       "      <td>hsa-mir-16</td>\n",
       "    </tr>\n",
       "    <tr>\n",
       "      <th>79015</th>\n",
       "      <td>XIAP</td>\n",
       "      <td>hsa-mir-200b</td>\n",
       "    </tr>\n",
       "    <tr>\n",
       "      <th>79016</th>\n",
       "      <td>XIAP</td>\n",
       "      <td>hsa-mir-200b</td>\n",
       "    </tr>\n",
       "    <tr>\n",
       "      <th>...</th>\n",
       "      <td>...</td>\n",
       "      <td>...</td>\n",
       "    </tr>\n",
       "    <tr>\n",
       "      <th>344789</th>\n",
       "      <td>BCL2</td>\n",
       "      <td>hsa-mir-200c</td>\n",
       "    </tr>\n",
       "    <tr>\n",
       "      <th>344790</th>\n",
       "      <td>BCL2</td>\n",
       "      <td>hsa-mir-200c</td>\n",
       "    </tr>\n",
       "    <tr>\n",
       "      <th>344855</th>\n",
       "      <td>BCL2</td>\n",
       "      <td>hsa-mir-429</td>\n",
       "    </tr>\n",
       "    <tr>\n",
       "      <th>344856</th>\n",
       "      <td>BCL2</td>\n",
       "      <td>hsa-mir-429</td>\n",
       "    </tr>\n",
       "    <tr>\n",
       "      <th>345423</th>\n",
       "      <td>PTEN</td>\n",
       "      <td>hsa-mir-221</td>\n",
       "    </tr>\n",
       "    <tr>\n",
       "      <th>345424</th>\n",
       "      <td>PTEN</td>\n",
       "      <td>hsa-mir-221</td>\n",
       "    </tr>\n",
       "    <tr>\n",
       "      <th>345425</th>\n",
       "      <td>PTEN</td>\n",
       "      <td>hsa-mir-221</td>\n",
       "    </tr>\n",
       "    <tr>\n",
       "      <th>345426</th>\n",
       "      <td>PTEN</td>\n",
       "      <td>hsa-mir-221</td>\n",
       "    </tr>\n",
       "    <tr>\n",
       "      <th>351883</th>\n",
       "      <td>ZNF622</td>\n",
       "      <td>hsa-mir-16</td>\n",
       "    </tr>\n",
       "    <tr>\n",
       "      <th>360265</th>\n",
       "      <td>SLC35A4</td>\n",
       "      <td>hsa-mir-16</td>\n",
       "    </tr>\n",
       "    <tr>\n",
       "      <th>363107</th>\n",
       "      <td>RPS6KA3</td>\n",
       "      <td>hsa-mir-16</td>\n",
       "    </tr>\n",
       "    <tr>\n",
       "      <th>370808</th>\n",
       "      <td>SOCS4</td>\n",
       "      <td>hsa-mir-98</td>\n",
       "    </tr>\n",
       "    <tr>\n",
       "      <th>381762</th>\n",
       "      <td>VPS33B</td>\n",
       "      <td>hsa-mir-16</td>\n",
       "    </tr>\n",
       "    <tr>\n",
       "      <th>383094</th>\n",
       "      <td>DDX53</td>\n",
       "      <td>hsa-mir-326</td>\n",
       "    </tr>\n",
       "    <tr>\n",
       "      <th>383095</th>\n",
       "      <td>DDX53</td>\n",
       "      <td>hsa-mir-326</td>\n",
       "    </tr>\n",
       "    <tr>\n",
       "      <th>383096</th>\n",
       "      <td>DDX53</td>\n",
       "      <td>hsa-mir-326</td>\n",
       "    </tr>\n",
       "    <tr>\n",
       "      <th>383097</th>\n",
       "      <td>DDX53</td>\n",
       "      <td>hsa-mir-326</td>\n",
       "    </tr>\n",
       "    <tr>\n",
       "      <th>385651</th>\n",
       "      <td>SP1</td>\n",
       "      <td>hsa-mir-335</td>\n",
       "    </tr>\n",
       "    <tr>\n",
       "      <th>385652</th>\n",
       "      <td>SP1</td>\n",
       "      <td>hsa-mir-335</td>\n",
       "    </tr>\n",
       "    <tr>\n",
       "      <th>385653</th>\n",
       "      <td>SP1</td>\n",
       "      <td>hsa-mir-335</td>\n",
       "    </tr>\n",
       "    <tr>\n",
       "      <th>385654</th>\n",
       "      <td>SP1</td>\n",
       "      <td>hsa-mir-335</td>\n",
       "    </tr>\n",
       "    <tr>\n",
       "      <th>390080</th>\n",
       "      <td>BCR</td>\n",
       "      <td>hsa-mir-16</td>\n",
       "    </tr>\n",
       "    <tr>\n",
       "      <th>398637</th>\n",
       "      <td>NCOR2</td>\n",
       "      <td>hsa-mir-16</td>\n",
       "    </tr>\n",
       "    <tr>\n",
       "      <th>398638</th>\n",
       "      <td>NCOR2</td>\n",
       "      <td>hsa-mir-16</td>\n",
       "    </tr>\n",
       "    <tr>\n",
       "      <th>404802</th>\n",
       "      <td>ENTPD6</td>\n",
       "      <td>hsa-mir-16</td>\n",
       "    </tr>\n",
       "    <tr>\n",
       "      <th>411937</th>\n",
       "      <td>MTOR</td>\n",
       "      <td>hsa-mir-144</td>\n",
       "    </tr>\n",
       "    <tr>\n",
       "      <th>412307</th>\n",
       "      <td>FOXJ3</td>\n",
       "      <td>hsa-mir-517a</td>\n",
       "    </tr>\n",
       "    <tr>\n",
       "      <th>412308</th>\n",
       "      <td>FOXJ3</td>\n",
       "      <td>hsa-mir-517a</td>\n",
       "    </tr>\n",
       "    <tr>\n",
       "      <th>417238</th>\n",
       "      <td>PPP1R11</td>\n",
       "      <td>hsa-mir-16</td>\n",
       "    </tr>\n",
       "    <tr>\n",
       "      <th>421625</th>\n",
       "      <td>ARL2</td>\n",
       "      <td>hsa-mir-16</td>\n",
       "    </tr>\n",
       "  </tbody>\n",
       "</table>\n",
       "<p>216 rows × 2 columns</p>\n",
       "</div>"
      ],
      "text/plain": [
       "<div>\n",
       "<table border=\"1\" class=\"dataframe\">\n",
       "  <thead>\n",
       "    <tr style=\"text-align: right;\">\n",
       "      <th></th>\n",
       "      <th>MiRBase ID</th>\n",
       "      <th>Gene Symbol</th>\n",
       "    </tr>\n",
       "  </thead>\n",
       "  <tbody>\n",
       "    <tr>\n",
       "      <th>3607</th>\n",
       "      <td>LAMP2</td>\n",
       "      <td>hsa-mir-16</td>\n",
       "    </tr>\n",
       "    <tr>\n",
       "      <th>9183</th>\n",
       "      <td>ANLN</td>\n",
       "      <td>hsa-mir-16</td>\n",
       "    </tr>\n",
       "    <tr>\n",
       "      <th>16320</th>\n",
       "      <td>CDH1</td>\n",
       "      <td>hsa-mir-200c</td>\n",
       "    </tr>\n",
       "    <tr>\n",
       "      <th>23639</th>\n",
       "      <td>MTA3</td>\n",
       "      <td>hsa-mir-495</td>\n",
       "    </tr>\n",
       "    <tr>\n",
       "      <th>23640</th>\n",
       "      <td>MTA3</td>\n",
       "      <td>hsa-mir-495</td>\n",
       "    </tr>\n",
       "    <tr>\n",
       "      <th>23641</th>\n",
       "      <td>MTA3</td>\n",
       "      <td>hsa-mir-495</td>\n",
       "    </tr>\n",
       "    <tr>\n",
       "      <th>31153</th>\n",
       "      <td>RHOA</td>\n",
       "      <td>hsa-mir-125a</td>\n",
       "    </tr>\n",
       "    <tr>\n",
       "      <th>31154</th>\n",
       "      <td>RHOA</td>\n",
       "      <td>hsa-mir-125a</td>\n",
       "    </tr>\n",
       "    <tr>\n",
       "      <th>31155</th>\n",
       "      <td>RHOA</td>\n",
       "      <td>hsa-mir-125a</td>\n",
       "    </tr>\n",
       "    <tr>\n",
       "      <th>39266</th>\n",
       "      <td>TSG101</td>\n",
       "      <td>hsa-mir-20a</td>\n",
       "    </tr>\n",
       "    <tr>\n",
       "      <th>47754</th>\n",
       "      <td>ARG2</td>\n",
       "      <td>hsa-mir-16</td>\n",
       "    </tr>\n",
       "    <tr>\n",
       "      <th>52574</th>\n",
       "      <td>ABCB1</td>\n",
       "      <td>hsa-mir-326</td>\n",
       "    </tr>\n",
       "    <tr>\n",
       "      <th>52575</th>\n",
       "      <td>ABCB1</td>\n",
       "      <td>hsa-mir-326</td>\n",
       "    </tr>\n",
       "    <tr>\n",
       "      <th>54848</th>\n",
       "      <td>MMP2</td>\n",
       "      <td>hsa-mir-29c</td>\n",
       "    </tr>\n",
       "    <tr>\n",
       "      <th>54849</th>\n",
       "      <td>MMP2</td>\n",
       "      <td>hsa-mir-29c</td>\n",
       "    </tr>\n",
       "    <tr>\n",
       "      <th>54853</th>\n",
       "      <td>MMP2</td>\n",
       "      <td>hsa-mir-326</td>\n",
       "    </tr>\n",
       "    <tr>\n",
       "      <th>57575</th>\n",
       "      <td>BIRC5</td>\n",
       "      <td>hsa-mir-1</td>\n",
       "    </tr>\n",
       "    <tr>\n",
       "      <th>57602</th>\n",
       "      <td>BIRC5</td>\n",
       "      <td>hsa-mir-203a</td>\n",
       "    </tr>\n",
       "    <tr>\n",
       "      <th>57603</th>\n",
       "      <td>BIRC5</td>\n",
       "      <td>hsa-mir-203a</td>\n",
       "    </tr>\n",
       "    <tr>\n",
       "      <th>62143</th>\n",
       "      <td>DPYSL2</td>\n",
       "      <td>hsa-mir-19a</td>\n",
       "    </tr>\n",
       "    <tr>\n",
       "      <th>68372</th>\n",
       "      <td>TIMP3</td>\n",
       "      <td>hsa-mir-222</td>\n",
       "    </tr>\n",
       "    <tr>\n",
       "      <th>68373</th>\n",
       "      <td>TIMP3</td>\n",
       "      <td>hsa-mir-222</td>\n",
       "    </tr>\n",
       "    <tr>\n",
       "      <th>68374</th>\n",
       "      <td>TIMP3</td>\n",
       "      <td>hsa-mir-222</td>\n",
       "    </tr>\n",
       "    <tr>\n",
       "      <th>68375</th>\n",
       "      <td>TIMP3</td>\n",
       "      <td>hsa-mir-222</td>\n",
       "    </tr>\n",
       "    <tr>\n",
       "      <th>75717</th>\n",
       "      <td>DNAJC5</td>\n",
       "      <td>hsa-mir-16</td>\n",
       "    </tr>\n",
       "    <tr>\n",
       "      <th>76525</th>\n",
       "      <td>CDS2</td>\n",
       "      <td>hsa-mir-16</td>\n",
       "    </tr>\n",
       "    <tr>\n",
       "      <th>76526</th>\n",
       "      <td>CDS2</td>\n",
       "      <td>hsa-mir-16</td>\n",
       "    </tr>\n",
       "    <tr>\n",
       "      <th>76805</th>\n",
       "      <td>KIF3B</td>\n",
       "      <td>hsa-mir-16</td>\n",
       "    </tr>\n",
       "    <tr>\n",
       "      <th>79015</th>\n",
       "      <td>XIAP</td>\n",
       "      <td>hsa-mir-200b</td>\n",
       "    </tr>\n",
       "    <tr>\n",
       "      <th>79016</th>\n",
       "      <td>XIAP</td>\n",
       "      <td>hsa-mir-200b</td>\n",
       "    </tr>\n",
       "    <tr>\n",
       "      <th>...</th>\n",
       "      <td>...</td>\n",
       "      <td>...</td>\n",
       "    </tr>\n",
       "    <tr>\n",
       "      <th>344789</th>\n",
       "      <td>BCL2</td>\n",
       "      <td>hsa-mir-200c</td>\n",
       "    </tr>\n",
       "    <tr>\n",
       "      <th>344790</th>\n",
       "      <td>BCL2</td>\n",
       "      <td>hsa-mir-200c</td>\n",
       "    </tr>\n",
       "    <tr>\n",
       "      <th>344855</th>\n",
       "      <td>BCL2</td>\n",
       "      <td>hsa-mir-429</td>\n",
       "    </tr>\n",
       "    <tr>\n",
       "      <th>344856</th>\n",
       "      <td>BCL2</td>\n",
       "      <td>hsa-mir-429</td>\n",
       "    </tr>\n",
       "    <tr>\n",
       "      <th>345423</th>\n",
       "      <td>PTEN</td>\n",
       "      <td>hsa-mir-221</td>\n",
       "    </tr>\n",
       "    <tr>\n",
       "      <th>345424</th>\n",
       "      <td>PTEN</td>\n",
       "      <td>hsa-mir-221</td>\n",
       "    </tr>\n",
       "    <tr>\n",
       "      <th>345425</th>\n",
       "      <td>PTEN</td>\n",
       "      <td>hsa-mir-221</td>\n",
       "    </tr>\n",
       "    <tr>\n",
       "      <th>345426</th>\n",
       "      <td>PTEN</td>\n",
       "      <td>hsa-mir-221</td>\n",
       "    </tr>\n",
       "    <tr>\n",
       "      <th>351883</th>\n",
       "      <td>ZNF622</td>\n",
       "      <td>hsa-mir-16</td>\n",
       "    </tr>\n",
       "    <tr>\n",
       "      <th>360265</th>\n",
       "      <td>SLC35A4</td>\n",
       "      <td>hsa-mir-16</td>\n",
       "    </tr>\n",
       "    <tr>\n",
       "      <th>363107</th>\n",
       "      <td>RPS6KA3</td>\n",
       "      <td>hsa-mir-16</td>\n",
       "    </tr>\n",
       "    <tr>\n",
       "      <th>370808</th>\n",
       "      <td>SOCS4</td>\n",
       "      <td>hsa-mir-98</td>\n",
       "    </tr>\n",
       "    <tr>\n",
       "      <th>381762</th>\n",
       "      <td>VPS33B</td>\n",
       "      <td>hsa-mir-16</td>\n",
       "    </tr>\n",
       "    <tr>\n",
       "      <th>383094</th>\n",
       "      <td>DDX53</td>\n",
       "      <td>hsa-mir-326</td>\n",
       "    </tr>\n",
       "    <tr>\n",
       "      <th>383095</th>\n",
       "      <td>DDX53</td>\n",
       "      <td>hsa-mir-326</td>\n",
       "    </tr>\n",
       "    <tr>\n",
       "      <th>383096</th>\n",
       "      <td>DDX53</td>\n",
       "      <td>hsa-mir-326</td>\n",
       "    </tr>\n",
       "    <tr>\n",
       "      <th>383097</th>\n",
       "      <td>DDX53</td>\n",
       "      <td>hsa-mir-326</td>\n",
       "    </tr>\n",
       "    <tr>\n",
       "      <th>385651</th>\n",
       "      <td>SP1</td>\n",
       "      <td>hsa-mir-335</td>\n",
       "    </tr>\n",
       "    <tr>\n",
       "      <th>385652</th>\n",
       "      <td>SP1</td>\n",
       "      <td>hsa-mir-335</td>\n",
       "    </tr>\n",
       "    <tr>\n",
       "      <th>385653</th>\n",
       "      <td>SP1</td>\n",
       "      <td>hsa-mir-335</td>\n",
       "    </tr>\n",
       "    <tr>\n",
       "      <th>385654</th>\n",
       "      <td>SP1</td>\n",
       "      <td>hsa-mir-335</td>\n",
       "    </tr>\n",
       "    <tr>\n",
       "      <th>390080</th>\n",
       "      <td>BCR</td>\n",
       "      <td>hsa-mir-16</td>\n",
       "    </tr>\n",
       "    <tr>\n",
       "      <th>398637</th>\n",
       "      <td>NCOR2</td>\n",
       "      <td>hsa-mir-16</td>\n",
       "    </tr>\n",
       "    <tr>\n",
       "      <th>398638</th>\n",
       "      <td>NCOR2</td>\n",
       "      <td>hsa-mir-16</td>\n",
       "    </tr>\n",
       "    <tr>\n",
       "      <th>404802</th>\n",
       "      <td>ENTPD6</td>\n",
       "      <td>hsa-mir-16</td>\n",
       "    </tr>\n",
       "    <tr>\n",
       "      <th>411937</th>\n",
       "      <td>MTOR</td>\n",
       "      <td>hsa-mir-144</td>\n",
       "    </tr>\n",
       "    <tr>\n",
       "      <th>412307</th>\n",
       "      <td>FOXJ3</td>\n",
       "      <td>hsa-mir-517a</td>\n",
       "    </tr>\n",
       "    <tr>\n",
       "      <th>412308</th>\n",
       "      <td>FOXJ3</td>\n",
       "      <td>hsa-mir-517a</td>\n",
       "    </tr>\n",
       "    <tr>\n",
       "      <th>417238</th>\n",
       "      <td>PPP1R11</td>\n",
       "      <td>hsa-mir-16</td>\n",
       "    </tr>\n",
       "    <tr>\n",
       "      <th>421625</th>\n",
       "      <td>ARL2</td>\n",
       "      <td>hsa-mir-16</td>\n",
       "    </tr>\n",
       "  </tbody>\n",
       "</table>\n",
       "<p>216 rows × 2 columns</p>\n",
       "</div>"
      ]
     },
     "execution_count": 186,
     "metadata": {},
     "output_type": "execute_result"
    }
   ],
   "source": [
    "TarBase_df = pandas.read_table(os.path.join(ROOT_DIR, 'data/external/TarBase_Experiment_Valid_miRNA-Targets.csv'), delimiter='\\t')\n",
    "TarBase_df = TarBase_df[TarBase_df['species'] == 'Homo sapiens']\n",
    "TarBase_df = TarBase_df[TarBase_df['tissue'].isin(['Lung Cancerous Tissues', 'Lung'])]\n",
    "TarBase_df = TarBase_df[TarBase_df['category'] == 'Cancer/Malignant']\n",
    "TarBase_df['mirna'] = TarBase_df['mirna'].str.lower()\n",
    "TarBase_df['mirna'] = TarBase_df['mirna'].str.replace(\"-3p.*|-5p.*\", \"\")\n",
    "TarBase_df.drop_duplicates(inplace=True)\n",
    "\n",
    "TarBase_df = TarBase_df[['geneName', 'mirna']]\n",
    "TarBase_df.columns = [\"Gene Symbol\", \"MiRBase ID\"]\n",
    "TarBase_df"
   ]
  },
  {
   "cell_type": "code",
   "execution_count": 48,
   "metadata": {
    "collapsed": true
   },
   "outputs": [],
   "source": [
    "for row in TarBase_df.iterrows():\n",
    "    if network.B.get_edge_data(row[1]['mirna'], row[1]['geneName']):\n",
    "        print row[1]['mirna'], row[1]['geneName'], network.B.get_edge_data(row[1]['mirna'], row[1]['geneName'])"
   ]
  },
  {
   "cell_type": "markdown",
   "metadata": {},
   "source": [
    "### Prepare samples for Classification task"
   ]
  },
  {
   "cell_type": "code",
   "execution_count": 15,
   "metadata": {
    "collapsed": true
   },
   "outputs": [
    {
     "name": "stdout",
     "output_type": "stream",
     "text": [
      "X (92, 1881)\ny (92,)\n 1    46\n-1    46\nName: pathologic_stage, dtype: int64\n1    277\n2    121\n3     84\n0     46\n4     24\nName: pathologic_stage, dtype: int64\n"
     ]
    }
   ],
   "source": [
    "from sklearn.model_selection import train_test_split\n",
    "\n",
    "X, y = tgca_luad.make_dataset(dataset='miRNA', normal_tumor='both', normal_matched=True, mirna_gene_matched=False,\n",
    "                              pathologic_stages=['normal', 'Stage I', 'Stage II', 'Stage III', 'Stage IV'], \n",
    "                              label_mapping={'normal': -1, 'Stage I': 1, 'Stage II': 1, 'Stage III': 1, 'Stage IV': 1})\n",
    "\n",
    "X_multi, y_multi = tgca_luad.make_dataset(dataset='miRNA', normal_tumor='both', normal_matched=False, mirna_gene_matched=False, normalize=False,\n",
    "                                          pathologic_stages=['normal', 'Stage I', 'Stage II', 'Stage III', 'Stage IV'],\n",
    "                                          label_mapping={'normal': 0, 'Stage I': 1, 'Stage II': 2, 'Stage III': 3, 'Stage IV': 4})\n",
    "\n",
    "X_train, X_test, Y_train, Y_test = \\\n",
    "    train_test_split(X, y, test_size=0.2, random_state=np.random.randint(0, 10000), stratify=y)\n",
    "\n",
    "X_multi_train, X_multi_test, Y_multi_train, Y_multi_test = \\\n",
    "    train_test_split(X_multi, y_multi, test_size=0.2, random_state=np.random.randint(0, 10000), stratify=y_multi)\n",
    "\n",
    "print \"X\", X.shape\n",
    "print \"y\", y.shape\n",
    "\n",
    "print y.value_counts()\n",
    "print y_multi.value_counts()"
   ]
  },
  {
   "cell_type": "markdown",
   "metadata": {
    "collapsed": true
   },
   "source": [
    "## Create Classifiers"
   ]
  },
  {
   "cell_type": "code",
   "execution_count": 16,
   "metadata": {
    "collapsed": true
   },
   "outputs": [
    {
     "name": "stderr",
     "output_type": "stream",
     "text": [
      "/opt/anaconda/lib/python2.7/site-packages/parsimony/config.py:51: RuntimeWarning: Could not locate the config file.\n  warnings.warn(\"Could not locate the config file.\", RuntimeWarning)\n/opt/anaconda/lib/python2.7/site-packages/spams.py:1112: FutureWarning: comparison to `None` will result in an elementwise object comparison in the future.\n  if groups == None:\n"
     ]
    },
    {
     "name": "stdout",
     "output_type": "stream",
     "text": [
      "FISTA Flat: {'loss': 'weighted-logistic', 'regul': 'l1', 'verbose': True, 'numThreads': -1, 'max_it': 1000, 'pos': False, 'intercept': False, 'it0': 10, 'L0': 0.1, 'tol': 0.001, 'lambda1': 0.5, 'lambda2': 0.5, 'lambda3': 0.5}\nFISTA Flat: {'loss': 'weighted-logistic', 'regul': 'elastic-net', 'verbose': True, 'numThreads': -1, 'max_it': 1000, 'pos': False, 'intercept': False, 'it0': 10, 'L0': 0.1, 'tol': 0.001, 'lambda1': 0.5, 'lambda2': 0.5, 'lambda3': 0.5}\nFISTA Flat: {'loss': 'logistic', 'regul': 'sparse-group-lasso-l2', 'verbose': True, 'numThreads': -1, 'max_it': 1000, 'pos': False, 'intercept': False, 'it0': 10, 'L0': 0.1, 'tol': 0.001, 'lambda1': 0.2, 'lambda2': 0.5, 'lambda3': 0.5}\n"
     ]
    },
    {
     "name": "stdout",
     "output_type": "stream",
     "text": [
      "FISTA Flat: {'loss': 'multi-logistic', 'regul': 'l1l2', 'verbose': True, 'numThreads': -1, 'max_it': 200, 'pos': False, 'intercept': False, 'it0': 10, 'L0': 0.1, 'tol': 0.001, 'lambda1': 0.5, 'lambda2': 0.5, 'lambda3': 0.5}\n"
     ]
    },
    {
     "data": {
      "text/plain": [
       "array([[  9.44428391e-01],\n       [  1.60319304e-02],\n       [  9.83024726e-01],\n       [  2.01000000e+02]])"
      ]
     },
     "execution_count": 16,
     "metadata": {},
     "output_type": "execute_result"
    }
   ],
   "source": [
    "from src.models.group_lasso_spams import SPAMSClassifier\n",
    "import spams\n",
    "\n",
    "myfloat = np.float\n",
    "param = {'numThreads': -1, 'verbose': True,\n",
    "         'it0': 10, 'max_it': 1000,\n",
    "         'L0': 0.1, 'tol': 1e-3, 'intercept': False,\n",
    "         'pos': False}\n",
    "param['lambda1'] = 0.5\n",
    "param['lambda2'] = 0.5\n",
    "param['lambda3'] = 0.5\n",
    "\n",
    "X_train = np.asfortranarray(X_train, dtype=myfloat)\n",
    "Y_train = np.asfortranarray(Y_train, dtype=myfloat)\n",
    "Y_train = np.reshape(Y_train, [Y_train.shape[0], 1])\n",
    "X_multi_train = np.asfortranarray(X_multi_train, dtype=myfloat)\n",
    "Y_multi_train = np.asfortranarray(Y_multi_train, dtype=myfloat)\n",
    "Y_multi_train = np.reshape(Y_multi_train, [Y_multi_train.shape[0], 1])\n",
    "\n",
    "# L1 Lasso\n",
    "l1_lasso_param = param.copy()\n",
    "l1_lasso_param['loss'] = 'weighted-logistic'\n",
    "l1_lasso_param['regul'] = 'l1'\n",
    "l1_lasso = SPAMSClassifier()\n",
    "l1_lasso.fit(X_train, Y_train, groups=None, params=l1_lasso_param)\n",
    "\n",
    "# Group Lasso L2\n",
    "# group_l2_param = param.copy()\n",
    "# group_l2_param['loss'] = 'weighted-logistic'\n",
    "# group_l2_param['regul'] = 'group-lasso-l2'\n",
    "# group_l2 = SPAMSClassifier()\n",
    "# group_l2.fit(X_train, Y_train, groups=network.get_miRNA_cluster_assgn(), params=group_l2_param)\n",
    "\n",
    "# Elastic Net\n",
    "elastic_net_param = param.copy()\n",
    "elastic_net_param['loss'] = 'weighted-logistic'\n",
    "elastic_net_param['regul'] = 'elastic-net'\n",
    "elastic_net = SPAMSClassifier()\n",
    "elastic_net.fit(X_train, Y_train, groups=None, params=elastic_net_param)\n",
    "\n",
    "# Sparse Group Lasso\n",
    "sparse_group_l2_param = param.copy()\n",
    "sparse_group_l2_param['loss'] = 'logistic'\n",
    "sparse_group_l2_param['regul'] = 'sparse-group-lasso-l2'\n",
    "sparse_group_l2_param['lambda1'] = 0.2\n",
    "sparse_group_l2 = SPAMSClassifier()\n",
    "sparse_group_l2.fit(X_train, Y_train, groups=network.get_miRNA_group_assgn(), params=sparse_group_l2_param)\n",
    "\n",
    "# Multi Logistic\n",
    "multi_task_l1l2_param = param.copy()\n",
    "multi_task_l1l2_param['loss'] = 'multi-logistic'\n",
    "multi_task_l1l2_param['regul'] = 'l1l2'\n",
    "multi_task_l1l2_param['max_it'] = 200\n",
    "multi_task_l1l2_param['lambda1'] = 0.5\n",
    "multi_task_l1l2 = SPAMSClassifier()\n",
    "multi_task_l1l2.fit(X_multi_train, Y_multi_train, groups=None, params=multi_task_l1l2_param)"
   ]
  },
  {
   "cell_type": "markdown",
   "metadata": {},
   "source": [
    "## Logistic Regression with L1L2 & Overlapping Group LASSO regularizer"
   ]
  },
  {
   "cell_type": "code",
   "execution_count": 17,
   "metadata": {
    "collapsed": true
   },
   "outputs": [
    {
     "name": "stdout",
     "output_type": "stream",
     "text": [
      "Non-zero: 410\n"
     ]
    }
   ],
   "source": [
    "import parsimony.estimators as estimators\n",
    "import parsimony.algorithms as algorithms\n",
    "import parsimony.functions.nesterov.gl as gl\n",
    "import parsimony.utils.start_vectors as start_vectors\n",
    "# \n",
    "# X_train, X_test, Y_train, Y_test = \\\n",
    "#     train_test_split(X, y, test_size=0.2, random_state=np.random.randint(0, 10000), stratify=y)\n",
    "\n",
    "A = gl.linear_operator_from_groups(X_train.shape[1],\n",
    "                                   network.miRNA_clusters_int\n",
    "                                   # weights=[2*1./len(g) for g in network.miRNA_groups_int]\n",
    "                                   )\n",
    "beta = start_vectors.ZerosStartVector().get_vector(X_train.shape[1])\n",
    "\n",
    "logistic_L1L2GL = estimators.LogisticRegressionL1L2GL(l1=0.5, l2=0.0, gl=0.5, A=A,\n",
    "                                                      algorithm=algorithms.proximal.FISTA(),\n",
    "                                                      class_weight='auto',\n",
    "                                                      algorithm_params=dict(max_iter=1000),\n",
    "                                                      mean=False)\n",
    "logistic_L1L2GL.fit(X=X_train, y=Y_train, beta=beta)\n",
    "\n",
    "print 'Non-zero:', len(logistic_L1L2GL.beta.nonzero()[0])"
   ]
  },
  {
   "cell_type": "markdown",
   "metadata": {},
   "source": [
    "## OneVsRestClassifier"
   ]
  },
  {
   "cell_type": "code",
   "execution_count": 125,
   "metadata": {
    "collapsed": true
   },
   "outputs": [
    {
     "data": {
      "text/plain": [
       "OneVsRestClassifier(estimator=LRSGLWrapper(A=None, gl=0, l1=2.5, l2=0.0, max_iter=1000),\n          n_jobs=1)"
      ]
     },
     "execution_count": 125,
     "metadata": {},
     "output_type": "execute_result"
    }
   ],
   "source": [
    "from sklearn.multiclass import OneVsRestClassifier\n",
    "from src.models.group_lasso_spams import LRSGLWrapper\n",
    "\n",
    "lrsgl_one_vs_rest = OneVsRestClassifier(LRSGLWrapper(l1=2.5, l2=0.0, gl=5, A=A, max_iter=500))\n",
    "lrsgl_one_vs_rest.fit(X=X_multi_train, y=Y_multi_train)\n",
    "\n",
    "lr_one_vs_rest = OneVsRestClassifier(LRSGLWrapper(l1=2.5, l2=0.0, gl=0, max_iter=1000))\n",
    "lr_one_vs_rest.fit(X=X_multi_train, y=Y_multi_train)"
   ]
  },
  {
   "cell_type": "markdown",
   "metadata": {},
   "source": [
    "## Cross Validation for LRSGL"
   ]
  },
  {
   "cell_type": "code",
   "execution_count": 179,
   "metadata": {},
   "outputs": [
    {
     "data": {
      "image/png": "[encoded data removed]",
      "text/plain": [
       "<matplotlib.figure.Figure at 0x7f9a27b34050>"
      ]
     },
     "metadata": {},
     "output_type": "display_data"
    }
   ],
   "source": [
    "from sklearn import metrics\n",
    "from sklearn.metrics import roc_curve, auc\n",
    "from scipy import interp\n",
    "from itertools import cycle\n",
    "from sklearn.multiclass import OneVsRestClassifier\n",
    "\n",
    "X0, y0 = tgca_luad.make_dataset(dataset='miRNA', normal_tumor='both', normal_matched=False, mirna_gene_matched=False,\n",
    "                              pathologic_stages=['normal', 'Stage I', 'Stage II', 'Stage III', 'Stage IV'],\n",
    "                              label_mapping={'normal': 0, 'Stage I': 1, 'Stage II': 1, 'Stage III': 1, 'Stage IV': 1})\n",
    "X1, y1 = tgca_luad.make_dataset(dataset='miRNA', normal_tumor='both', normal_matched=False, mirna_gene_matched=False,\n",
    "                              pathologic_stages=['normal', 'Stage I', 'Stage II', 'Stage III', 'Stage IV'],\n",
    "                              label_mapping={'normal': 1, 'Stage I': 0, 'Stage II': 1, 'Stage III': 1, 'Stage IV': 1})\n",
    "X2, y2 = tgca_luad.make_dataset(dataset='miRNA', normal_tumor='both', normal_matched=False, mirna_gene_matched=False,\n",
    "                              pathologic_stages=['normal', 'Stage I', 'Stage II', 'Stage III', 'Stage IV'],\n",
    "                              label_mapping={'normal': 1, 'Stage I': 1, 'Stage II': 0, 'Stage III': 1, 'Stage IV': 1})\n",
    "X3, y3 = tgca_luad.make_dataset(dataset='miRNA', normal_tumor='both', normal_matched=False, mirna_gene_matched=False,\n",
    "                              pathologic_stages=['normal', 'Stage I', 'Stage II', 'Stage III', 'Stage IV'],\n",
    "                              label_mapping={'normal': 1, 'Stage I': 1, 'Stage II': 1, 'Stage III': 0, 'Stage IV': 1})\n",
    "X4, y4 = tgca_luad.make_dataset(dataset='miRNA', normal_tumor='both', normal_matched=False, mirna_gene_matched=False,\n",
    "                              pathologic_stages=['normal', 'Stage I', 'Stage II', 'Stage III', 'Stage IV'],\n",
    "                              label_mapping={'normal': 1, 'Stage I': 1, 'Stage II': 1, 'Stage III': 1, 'Stage IV': 0})\n",
    "\n",
    "cv = StratifiedKFold(n_splits=10, shuffle=True)\n",
    "# classifier = OneVsRestClassifier(LRSGLWrapper(l1=2.5, l2=0.0, gl=5, A=A, max_iter=500))\n",
    "\n",
    "colors = cycle(['darkorange', 'indigo', 'seagreen', 'gray', 'red', 'cyan'])\n",
    "linestyles = cycle(['solid', 'dashed', 'dashdot', 'dotted'])\n",
    "lw = 2\n",
    "\n",
    "j = 0\n",
    "for X, y, color, linestyle in zip([X0, X1, X2, X3, X4], [y0, y1, y2, y3, y4], colors, linestyles):\n",
    "    classifier = OneVsRestClassifier(LRSGLWrapper(l1=2.5, l2=0.0, gl=5, A=A, max_iter=1000))\n",
    "    X = X.values\n",
    "    y = y.values\n",
    "\n",
    "    mean_tpr = 0.0\n",
    "    mean_fpr = np.linspace(0, 1, 100)\n",
    "    i = 0\n",
    "    for (train, test) in cv.split(X, y):\n",
    "        print len(train), len(test)\n",
    "        probas_ = classifier.fit(X[train], y[train]).predict_proba(X[test])\n",
    "        # Compute ROC curve and area the curve\n",
    "        fpr, tpr, thresholds = roc_curve(y[test], probas_[:, 1])\n",
    "        mean_tpr += interp(mean_fpr, fpr, tpr)\n",
    "        mean_tpr[0] = 0.0\n",
    "        roc_auc = auc(fpr, tpr)\n",
    "        # plt.plot(fpr, tpr, lw=lw, color=color,\n",
    "        #          label='ROC fold %d (area = %0.2f)' % (i, roc_auc))\n",
    "\n",
    "        i += 1\n",
    "    mean_tpr /= cv.get_n_splits(X, y)\n",
    "    mean_tpr[-1] = 1.0\n",
    "    mean_auc = auc(mean_fpr, mean_tpr)\n",
    "\n",
    "    if j == 0:\n",
    "        label = 'normal ROC (area = %0.2f)'\n",
    "    else:\n",
    "        label = 'Stage '+str(j)+' ROC (area=%0.2f)'\n",
    "    plt.plot(mean_fpr, mean_tpr, color=color, linestyle=linestyle,\n",
    "             label=label % mean_auc, lw=lw)\n",
    "    j += 1\n",
    "\n",
    "plt.plot([0, 1], [0, 1], linestyle='--', lw=1, color='k',\n",
    "         label='Luck')\n",
    "plt.xlim([-0.05, 1.05]) miRNA\n",
    "plt.ylim([-0.05, 1.05])\n",
    "plt.xlabel('False Positive Rate')\n",
    "plt.ylabel('True Positive Rate')\n",
    "plt.legend(loc=\"lower right\")\n",
    "plt.show()"
   ]
  },
  {
   "cell_type": "markdown",
   "metadata": {},
   "source": [
    "## Cross Validation for LR WITHOUT SGL"
   ]
  },
  {
   "cell_type": "code",
   "execution_count": 180,
   "metadata": {
    "collapsed": true
   },
   "outputs": [
    {
     "data": {
      "image/png": "[encoded data removed]",
      "text/plain": [
       "<matplotlib.figure.Figure at 0x7f9a27a525d0>"
      ]
     },
     "metadata": {},
     "output_type": "display_data"
    }
   ],
   "source": [
    "from sklearn.metrics import roc_curve, auc\n",
    "from sklearn.model_selection import train_test_split\n",
    "from scipy import interp\n",
    "from sklearn.preprocessing import label_binarize\n",
    "from itertools import cycle\n",
    "from sklearn.multiclass import OneVsRestClassifier\n",
    "\n",
    "X0, y0 = tgca_luad.make_dataset(dataset='miRNA', normal_tumor='both', normal_matched=False, mirna_gene_matched=False,\n",
    "                              pathologic_stages=['normal', 'Stage I', 'Stage II', 'Stage III', 'Stage IV'],\n",
    "                              label_mapping={'normal': 0, 'Stage I': 1, 'Stage II': 1, 'Stage III': 1, 'Stage IV': 1})\n",
    "X1, y1 = tgca_luad.make_dataset(dataset='miRNA', normal_tumor='both', normal_matched=False, mirna_gene_matched=False,\n",
    "                              pathologic_stages=['normal', 'Stage I', 'Stage II', 'Stage III', 'Stage IV'],\n",
    "                              label_mapping={'normal': 1, 'Stage I': 0, 'Stage II': 1, 'Stage III': 1, 'Stage IV': 1})\n",
    "X2, y2 = tgca_luad.make_dataset(dataset='miRNA', normal_tumor='both', normal_matched=False, mirna_gene_matched=False,\n",
    "                              pathologic_stages=['normal', 'Stage I', 'Stage II', 'Stage III', 'Stage IV'],\n",
    "                              label_mapping={'normal': 1, 'Stage I': 1, 'Stage II': 0, 'Stage III': 1, 'Stage IV': 1})\n",
    "X3, y3 = tgca_luad.make_dataset(dataset='miRNA', normal_tumor='both', normal_matched=False, mirna_gene_matched=False,\n",
    "                              pathologic_stages=['normal', 'Stage I', 'Stage II', 'Stage III', 'Stage IV'],\n",
    "                              label_mapping={'normal': 1, 'Stage I': 1, 'Stage II': 1, 'Stage III': 0, 'Stage IV': 1})\n",
    "X4, y4 = tgca_luad.make_dataset(dataset='miRNA', normal_tumor='both', normal_matched=False, mirna_gene_matched=False,\n",
    "                              pathologic_stages=['normal', 'Stage I', 'Stage II', 'Stage III', 'Stage IV'],\n",
    "                              label_mapping={'normal': 1, 'Stage I': 1, 'Stage II': 1, 'Stage III': 1, 'Stage IV': 0})\n",
    "\n",
    "\n",
    "cv = StratifiedKFold(n_splits=10, shuffle=False)\n",
    "# classifier = OneVsRestClassifier(LRSGLWrapper(l1=2.5, l2=0.0, gl=5, A=A, max_iter=500))\n",
    "\n",
    "colors = cycle(['darkorange', 'indigo', 'seagreen', 'gray', 'red', 'cyan'])\n",
    "linestyles = cycle(['solid', 'dashed', 'dashdot', 'dotted'])\n",
    "lw = 2\n",
    "\n",
    "j = 0\n",
    "for X, y, color, linestyle in zip([X0, X1, X2, X3, X4], [y0, y1, y2, y3, y4], colors, linestyles):\n",
    "    classifier = OneVsRestClassifier(LRSGLWrapper(l1=2.5, max_iter=1000))\n",
    "    X = X.values\n",
    "    y = y.values\n",
    "\n",
    "    mean_tpr = 0.0\n",
    "    mean_fpr = np.linspace(0, 1, 100)\n",
    "    i = 0\n",
    "    for (train, test) in cv.split(X, y):\n",
    "        probas_ = classifier.fit(X[train], y[train]).predict_proba(X[test])\n",
    "        # Compute ROC curve and area the curve\n",
    "        fpr, tpr, thresholds = roc_curve(y[test], probas_[:, 1])\n",
    "        mean_tpr += interp(mean_fpr, fpr, tpr)\n",
    "        mean_tpr[0] = 0.0\n",
    "        roc_auc = auc(fpr, tpr)\n",
    "\n",
    "        i += 1\n",
    "    mean_tpr /= cv.get_n_splits(X, y)\n",
    "    mean_tpr[-1] = 1.0\n",
    "    mean_auc = auc(mean_fpr, mean_tpr)\n",
    "\n",
    "    if j == 0:\n",
    "        label = 'normal ROC (area = %0.2f)'\n",
    "    else:\n",
    "        label = 'Stage '+str(j)+' ROC (area=%0.2f)'\n",
    "    plt.plot(mean_fpr, mean_tpr, color=color, linestyle=linestyle,\n",
    "             label=label % mean_auc, lw=lw)\n",
    "    j += 1\n",
    "\n",
    "plt.plot([0, 1], [0, 1], linestyle='--', lw=1, color='k',\n",
    "         label='Luck')\n",
    "plt.xlim([-0.05, 1.05])\n",
    "plt.ylim([-0.05, 1.05])\n",
    "plt.xlabel('False Positive Rate')\n",
    "plt.ylabel('True Positive Rate')\n",
    "plt.legend(loc=\"lower right\")\n",
    "plt.show()"
   ]
  },
  {
   "cell_type": "markdown",
   "metadata": {},
   "source": [
    "## Parameter selection"
   ]
  },
  {
   "cell_type": "code",
   "execution_count": 183,
   "metadata": {
    "collapsed": true
   },
   "outputs": [
    {
     "ename": "ValueError",
     "evalue": "operands could not be broadcast together with shapes (103,) (206,) (103,) ",
     "traceback": [
      "\u001b[0;31m\u001b[0m",
      "\u001b[0;31mValueError\u001b[0mTraceback (most recent call last)",
      "\u001b[0;32m<ipython-input-183-80efe25730cf>\u001b[0m in \u001b[0;36m<module>\u001b[0;34m()\u001b[0m\n\u001b[1;32m     19\u001b[0m     \u001b[0;32mfor\u001b[0m \u001b[0mtrain\u001b[0m\u001b[0;34m,\u001b[0m \u001b[0mtest\u001b[0m \u001b[0;32min\u001b[0m \u001b[0mkf\u001b[0m\u001b[0;34m.\u001b[0m\u001b[0msplit\u001b[0m\u001b[0;34m(\u001b[0m\u001b[0mX\u001b[0m\u001b[0;34m,\u001b[0m \u001b[0my\u001b[0m\u001b[0;34m)\u001b[0m\u001b[0;34m:\u001b[0m\u001b[0;34m\u001b[0m\u001b[0m\n\u001b[1;32m     20\u001b[0m         \u001b[0mclf\u001b[0m\u001b[0;34m.\u001b[0m\u001b[0mfit\u001b[0m\u001b[0;34m(\u001b[0m\u001b[0mX\u001b[0m\u001b[0;34m[\u001b[0m\u001b[0mtrain\u001b[0m\u001b[0;34m]\u001b[0m\u001b[0;34m,\u001b[0m \u001b[0my\u001b[0m\u001b[0;34m[\u001b[0m\u001b[0mtrain\u001b[0m\u001b[0;34m]\u001b[0m\u001b[0;34m)\u001b[0m\u001b[0;34m\u001b[0m\u001b[0m\n\u001b[0;32m---> 21\u001b[0;31m         \u001b[0mscore\u001b[0m \u001b[0;34m=\u001b[0m \u001b[0mmetrics\u001b[0m\u001b[0;34m.\u001b[0m\u001b[0mf1_score\u001b[0m\u001b[0;34m(\u001b[0m\u001b[0my_true\u001b[0m\u001b[0;34m=\u001b[0m\u001b[0my\u001b[0m\u001b[0;34m[\u001b[0m\u001b[0mtest\u001b[0m\u001b[0;34m]\u001b[0m\u001b[0;34m,\u001b[0m \u001b[0my_pred\u001b[0m\u001b[0;34m=\u001b[0m\u001b[0mclf\u001b[0m\u001b[0;34m.\u001b[0m\u001b[0mpredict\u001b[0m\u001b[0;34m(\u001b[0m\u001b[0mX\u001b[0m\u001b[0;34m[\u001b[0m\u001b[0mtest\u001b[0m\u001b[0;34m]\u001b[0m\u001b[0;34m)\u001b[0m\u001b[0;34m,\u001b[0m \u001b[0maverage\u001b[0m\u001b[0;34m=\u001b[0m\u001b[0;34m'weighted'\u001b[0m\u001b[0;34m)\u001b[0m\u001b[0;34m\u001b[0m\u001b[0m\n\u001b[0m\u001b[1;32m     22\u001b[0m         \u001b[0mcv_mean\u001b[0m\u001b[0;34m.\u001b[0m\u001b[0mappend\u001b[0m\u001b[0;34m(\u001b[0m\u001b[0mscore\u001b[0m\u001b[0;34m)\u001b[0m\u001b[0;34m\u001b[0m\u001b[0m\n\u001b[1;32m     23\u001b[0m \u001b[0;34m\u001b[0m\u001b[0m\n",
      "\u001b[0;32m/opt/anaconda/lib/python2.7/site-packages/sklearn/multiclass.pyc\u001b[0m in \u001b[0;36mpredict\u001b[0;34m(self, X)\u001b[0m\n\u001b[1;32m    301\u001b[0m             \u001b[0;32mfor\u001b[0m \u001b[0mi\u001b[0m\u001b[0;34m,\u001b[0m \u001b[0me\u001b[0m \u001b[0;32min\u001b[0m \u001b[0menumerate\u001b[0m\u001b[0;34m(\u001b[0m\u001b[0mself\u001b[0m\u001b[0;34m.\u001b[0m\u001b[0mestimators_\u001b[0m\u001b[0;34m)\u001b[0m\u001b[0;34m:\u001b[0m\u001b[0;34m\u001b[0m\u001b[0m\n\u001b[1;32m    302\u001b[0m                 \u001b[0mpred\u001b[0m \u001b[0;34m=\u001b[0m \u001b[0m_predict_binary\u001b[0m\u001b[0;34m(\u001b[0m\u001b[0me\u001b[0m\u001b[0;34m,\u001b[0m \u001b[0mX\u001b[0m\u001b[0;34m)\u001b[0m\u001b[0;34m\u001b[0m\u001b[0m\n\u001b[0;32m--> 303\u001b[0;31m                 \u001b[0mnp\u001b[0m\u001b[0;34m.\u001b[0m\u001b[0mmaximum\u001b[0m\u001b[0;34m(\u001b[0m\u001b[0mmaxima\u001b[0m\u001b[0;34m,\u001b[0m \u001b[0mpred\u001b[0m\u001b[0;34m,\u001b[0m \u001b[0mout\u001b[0m\u001b[0;34m=\u001b[0m\u001b[0mmaxima\u001b[0m\u001b[0;34m)\u001b[0m\u001b[0;34m\u001b[0m\u001b[0m\n\u001b[0m\u001b[1;32m    304\u001b[0m                 \u001b[0margmaxima\u001b[0m\u001b[0;34m[\u001b[0m\u001b[0mmaxima\u001b[0m \u001b[0;34m==\u001b[0m \u001b[0mpred\u001b[0m\u001b[0;34m]\u001b[0m \u001b[0;34m=\u001b[0m \u001b[0mi\u001b[0m\u001b[0;34m\u001b[0m\u001b[0m\n\u001b[1;32m    305\u001b[0m             \u001b[0;32mreturn\u001b[0m \u001b[0mself\u001b[0m\u001b[0;34m.\u001b[0m\u001b[0mclasses_\u001b[0m\u001b[0;34m[\u001b[0m\u001b[0mnp\u001b[0m\u001b[0;34m.\u001b[0m\u001b[0marray\u001b[0m\u001b[0;34m(\u001b[0m\u001b[0margmaxima\u001b[0m\u001b[0;34m.\u001b[0m\u001b[0mT\u001b[0m\u001b[0;34m)\u001b[0m\u001b[0;34m]\u001b[0m\u001b[0;34m\u001b[0m\u001b[0m\n",
      "\u001b[0;31mValueError\u001b[0m: operands could not be broadcast together with shapes (103,) (206,) (103,) "
     ],
     "output_type": "error"
    }
   ],
   "source": [
    "from sklearn.model_selection import StratifiedKFold\n",
    "X, y = tgca_luad.make_dataset(dataset='miRNA', normal_tumor='both', normal_matched=False, mirna_gene_matched=False,\n",
    "                              pathologic_stages=['norma', 'Stage I', 'Stage II', 'Stage III', 'Stage IV'],\n",
    "                              label_mapping={'normal': 0, 'Stage I': 1, 'Stage II': 2, 'Stage III': 3, 'Stage IV': 4})\n",
    "X = X.values\n",
    "y = y.values\n",
    "\n",
    "parameters = {'alpha': [0, 0.15, 0.35, 0.5, 0.65, 0.85, 1.0],\n",
    "              'lambda': [0, 0.5, 0.75, 1.0, 4., 8., 10.]}\n",
    "\n",
    "kf = StratifiedKFold(n_splits=5, shuffle=True)\n",
    "\n",
    "l1_scores = []\n",
    "for alpha in parameters['alpha']:\n",
    "    clf = OneVsRestClassifier(LRSGLWrapper(l1=5*alpha, l2=0.0, gl=10.0*(1-alpha), A=A))\n",
    "    \n",
    "    cv_mean = []\n",
    "    for train, test in kf.split(X, y):\n",
    "        clf.fit(X[train], y[train])\n",
    "        score = metrics.f1_score(y_true=y[test], y_pred=clf.predict(X[test]), average='weighted')\n",
    "        cv_mean.append(score)\n",
    "        \n",
    "    l1_scores.append(np.mean(cv_mean))\n",
    "\n",
    "gl_scores = []\n",
    "for lambd in parameters['lambda']:\n",
    "    clf = OneVsRestClassifier(LRSGLWrapper(l1=5*lambd, l2=0.0, gl=10*lambd, A=A))\n",
    "\n",
    "    cv_mean = []\n",
    "    for train, test in kf.split(X, y):\n",
    "        clf.fit(X[train], y[train])\n",
    "        score = metrics.f1_score(y_true=y[test], y_pred=clf.predict(X[test]), average='weighted')\n",
    "        cv_mean.append(score)\n",
    "\n",
    "    gl_scores.append(np.mean(cv_mean))"
   ]
  },
  {
   "cell_type": "code",
   "execution_count": 181,
   "metadata": {
    "collapsed": false
   },
   "outputs": [
    {
     "data": {
      "image/png": "[encoded data removed]",
      "text/plain": [
       "<matplotlib.figure.Figure at 0x7f9a27ccc610>"
      ]
     },
     "metadata": {},
     "output_type": "display_data"
    }
   ],
   "source": [
    "from matplotlib import pyplot as plt\n",
    "\n",
    "plt.figure(figsize=(8, 6), dpi=80)\n",
    "plt.plot(parameters['alpha'], l1_scores, 'o-')\n",
    "\n",
    "plt.xlabel('alpha')\n",
    "plt.ylabel('f1-score, averaged on 5-fold cross validation')\n",
    "plt.title('')\n",
    "# plt.ylim(0, 1)\n",
    "plt.show()"
   ]
  },
  {
   "cell_type": "code",
   "execution_count": 115,
   "metadata": {
    "collapsed": false
   },
   "outputs": [
    {
     "data": {
      "image/png": "[encoded data removed]",
      "text/plain": [
       "<matplotlib.figure.Figure at 0x7f9a09fdc9d0>"
      ]
     },
     "metadata": {},
     "output_type": "display_data"
    }
   ],
   "source": [
    "from matplotlib import pyplot as plt\n",
    "\n",
    "plt.figure(figsize=(8, 6), dpi=80)\n",
    "plt.plot(parameters['lambda'], gl_scores, 'o-')\n",
    "\n",
    "plt.xlabel('gl')\n",
    "plt.ylabel('f1-score, averaged on 5-fold cross validation')\n",
    "plt.title('')\n",
    "# plt.ylim(0,1)\n",
    "plt.show()"
   ]
  },
  {
   "cell_type": "markdown",
   "metadata": {},
   "source": [
    "\n",
    "## Classification Report"
   ]
  },
  {
   "cell_type": "code",
   "execution_count": 124,
   "metadata": {
    "collapsed": true
   },
   "outputs": [
    {
     "name": "stdout",
     "output_type": "stream",
     "text": [
      "\nLogistic L1L2GL\n             precision    recall  f1-score   support\n\n       -1.0       1.00      1.00      1.00        37\n        1.0       1.00      1.00      1.00        36\n\navg / total       1.00      1.00      1.00        73\n\n             precision    recall  f1-score   support\n\n         -1       0.90      1.00      0.95         9\n          1       1.00      0.90      0.95        10\n\navg / total       0.95      0.95      0.95        19\n\n\nlrsgl_one_vs_rest\n             precision    recall  f1-score   support\n\n        0.0       0.95      1.00      0.97        37\n        1.0       0.70      0.51      0.59       221\n        2.0       0.42      0.45      0.43        97\n        3.0       0.34      0.43      0.38        67\n        4.0       0.25      0.68      0.37        19\n\navg / total       0.58      0.53      0.55       441\n\n             precision    recall  f1-score   support\n\n          0       0.90      1.00      0.95         9\n          1       0.63      0.48      0.55        56\n          2       0.29      0.38      0.33        24\n          3       0.33      0.41      0.37        17\n          4       0.00      0.00      0.00         5\n\navg / total       0.50      0.47      0.48       111\n\n\nlr_one_vs_rest\n             precision    recall  f1-score   support\n\n        0.0       0.97      1.00      0.99        37\n        1.0       0.74      0.56      0.63       221\n        2.0       0.47      0.48      0.48        97\n        3.0       0.38      0.49      0.43        67\n        4.0       0.29      0.74      0.41        19\n\navg / total       0.62      0.58      0.59       441\n\n             precision    recall  f1-score   support\n\n          0       0.90      1.00      0.95         9\n          1       0.62      0.46      0.53        56\n          2       0.27      0.38      0.32        24\n          3       0.33      0.35      0.34        17\n          4       0.00      0.00      0.00         5\n\navg / total       0.50      0.45      0.47       111\n\n\nmulti-task l1l2\n             precision    recall  f1-score   support\n\n        0.0       0.97      0.97      0.97        37\n        1.0       0.59      0.94      0.73       221\n        2.0       0.55      0.16      0.25        97\n        3.0       0.61      0.16      0.26        67\n        4.0       0.50      0.16      0.24        19\n\navg / total       0.61      0.62      0.55       441\n\n             precision    recall  f1-score   support\n\n          0       1.00      0.89      0.94         9\n          1       0.56      0.98      0.71        56\n          2       0.50      0.04      0.08        24\n          3       0.00      0.00      0.00        17\n          4       0.00      0.00      0.00         5\n\navg / total       0.47      0.58      0.45       111\n\n\nl1_lasso\n             precision    recall  f1-score   support\n\n       -1.0       1.00      1.00      1.00        37\n        1.0       1.00      1.00      1.00        36\n\navg / total       1.00      1.00      1.00        73\n\n             precision    recall  f1-score   support\n\n         -1       0.90      1.00      0.95         9\n          1       1.00      0.90      0.95        10\n\navg / total       0.95      0.95      0.95        19\n\n\nelastic_net\n             precision    recall  f1-score   support\n\n       -1.0       1.00      1.00      1.00        37\n        1.0       1.00      1.00      1.00        36\n\navg / total       1.00      1.00      1.00        73\n\n             precision    recall  f1-score   support\n\n         -1       0.90      1.00      0.95         9\n          1       1.00      0.90      0.95        10\n\navg / total       0.95      0.95      0.95        19\n\n\nsparse-group_small\n             precision    recall  f1-score   support\n\n       -1.0       1.00      1.00      1.00        37\n        1.0       1.00      1.00      1.00        36\n\navg / total       1.00      1.00      1.00        73\n\n             precision    recall  f1-score   support\n\n         -1       0.90      1.00      0.95         9\n          1       1.00      0.90      0.95        10\n\navg / total       0.95      0.95      0.95        19\n\n"
     ]
    }
   ],
   "source": [
    "from sklearn import metrics\n",
    "\n",
    "for model, name in [\n",
    "                    (logistic_L1L2GL, 'Logistic L1L2GL'),\n",
    "                    (lrsgl_one_vs_rest, 'lrsgl_one_vs_rest'),\n",
    "                    (lr_one_vs_rest, 'lr_one_vs_rest'),\n",
    "                    (multi_task_l1l2, 'multi-task l1l2'),\n",
    "                    # (multi_task_l1l2_cluster, 'multi_task_l1l2_cluster'),\n",
    "                    # (group_l2, 'group_small'),\n",
    "                    (l1_lasso, 'l1_lasso'),\n",
    "                    (elastic_net, 'elastic_net'),\n",
    "                    (sparse_group_l2, 'sparse-group_small')\n",
    "                    ]:\n",
    "    print '\\n', name\n",
    "    if model is logistic_L1L2GL:\n",
    "        predicted = logistic_L1L2GL.predict(X_train)\n",
    "        np.place(predicted, predicted == 0., [-1])\n",
    "        print metrics.classification_report(Y_train, predicted)\n",
    "        predicted = logistic_L1L2GL.predict(X_test)\n",
    "        np.place(predicted, predicted == 0., [-1])\n",
    "        print metrics.classification_report(Y_test, predicted)\n",
    "    elif model is multi_task_l1l2 or model is lrsgl_one_vs_rest or model is lr_one_vs_rest:\n",
    "        print metrics.classification_report(Y_multi_train, model.predict(X_multi_train))\n",
    "        print metrics.classification_report(Y_multi_test, model.predict(X_multi_test))\n",
    "    # elif model is multi_task_l1l2_cluster:\n",
    "    #     print metrics.classification_report(Y_multi_train, model.predict(X_multi_train.T[clustered_miRNA_indices].T))\n",
    "        # print metrics.classification_report(Y_multi_test, model.predict(X_multi_test.T[clustered_miRNA_indices].T))\n",
    "    else:\n",
    "        print metrics.classification_report(Y_train, model.predict(X_train))\n",
    "        print metrics.classification_report(Y_test, model.predict(X_test))"
   ]
  },
  {
   "cell_type": "markdown",
   "metadata": {},
   "source": [
    "## Leave-One-Out Cross validation metric"
   ]
  },
  {
   "cell_type": "code",
   "execution_count": 127,
   "metadata": {
    "collapsed": true
   },
   "outputs": [
    {
     "ename": "ValueError",
     "evalue": "Found input variables with inconsistent numbers of samples: [111, 222]",
     "traceback": [
      "\u001b[0;31m\u001b[0m",
      "\u001b[0;31mValueError\u001b[0mTraceback (most recent call last)",
      "\u001b[0;32m<ipython-input-127-8a27ecb51ac7>\u001b[0m in \u001b[0;36m<module>\u001b[0;34m()\u001b[0m\n\u001b[1;32m     25\u001b[0m \u001b[0mroc_auc\u001b[0m \u001b[0;34m=\u001b[0m \u001b[0mdict\u001b[0m\u001b[0;34m(\u001b[0m\u001b[0;34m)\u001b[0m\u001b[0;34m\u001b[0m\u001b[0m\n\u001b[1;32m     26\u001b[0m \u001b[0;32mfor\u001b[0m \u001b[0mi\u001b[0m \u001b[0;32min\u001b[0m \u001b[0mrange\u001b[0m\u001b[0;34m(\u001b[0m\u001b[0mn_classes\u001b[0m\u001b[0;34m)\u001b[0m\u001b[0;34m:\u001b[0m\u001b[0;34m\u001b[0m\u001b[0m\n\u001b[0;32m---> 27\u001b[0;31m     \u001b[0mfpr\u001b[0m\u001b[0;34m[\u001b[0m\u001b[0mi\u001b[0m\u001b[0;34m]\u001b[0m\u001b[0;34m,\u001b[0m \u001b[0mtpr\u001b[0m\u001b[0;34m[\u001b[0m\u001b[0mi\u001b[0m\u001b[0;34m]\u001b[0m\u001b[0;34m,\u001b[0m \u001b[0m_\u001b[0m \u001b[0;34m=\u001b[0m \u001b[0mroc_curve\u001b[0m\u001b[0;34m(\u001b[0m\u001b[0my_test\u001b[0m\u001b[0;34m[\u001b[0m\u001b[0;34m:\u001b[0m\u001b[0;34m,\u001b[0m \u001b[0mi\u001b[0m\u001b[0;34m]\u001b[0m\u001b[0;34m,\u001b[0m \u001b[0my_score\u001b[0m\u001b[0;34m[\u001b[0m\u001b[0;34m:\u001b[0m\u001b[0;34m,\u001b[0m \u001b[0mi\u001b[0m\u001b[0;34m]\u001b[0m\u001b[0;34m)\u001b[0m\u001b[0;34m\u001b[0m\u001b[0m\n\u001b[0m\u001b[1;32m     28\u001b[0m     \u001b[0mroc_auc\u001b[0m\u001b[0;34m[\u001b[0m\u001b[0mi\u001b[0m\u001b[0;34m]\u001b[0m \u001b[0;34m=\u001b[0m \u001b[0mauc\u001b[0m\u001b[0;34m(\u001b[0m\u001b[0mfpr\u001b[0m\u001b[0;34m[\u001b[0m\u001b[0mi\u001b[0m\u001b[0;34m]\u001b[0m\u001b[0;34m,\u001b[0m \u001b[0mtpr\u001b[0m\u001b[0;34m[\u001b[0m\u001b[0mi\u001b[0m\u001b[0;34m]\u001b[0m\u001b[0;34m)\u001b[0m\u001b[0;34m\u001b[0m\u001b[0m\n\u001b[1;32m     29\u001b[0m \u001b[0;34m\u001b[0m\u001b[0m\n",
      "\u001b[0;32m/opt/anaconda/lib/python2.7/site-packages/sklearn/metrics/ranking.pyc\u001b[0m in \u001b[0;36mroc_curve\u001b[0;34m(y_true, y_score, pos_label, sample_weight, drop_intermediate)\u001b[0m\n\u001b[1;32m    503\u001b[0m     \"\"\"\n\u001b[1;32m    504\u001b[0m     fps, tps, thresholds = _binary_clf_curve(\n\u001b[0;32m--> 505\u001b[0;31m         y_true, y_score, pos_label=pos_label, sample_weight=sample_weight)\n\u001b[0m\u001b[1;32m    506\u001b[0m \u001b[0;34m\u001b[0m\u001b[0m\n\u001b[1;32m    507\u001b[0m     \u001b[0;31m# Attempt to drop thresholds corresponding to points in between and\u001b[0m\u001b[0;34m\u001b[0m\u001b[0;34m\u001b[0m\u001b[0m\n",
      "\u001b[0;32m/opt/anaconda/lib/python2.7/site-packages/sklearn/metrics/ranking.pyc\u001b[0m in \u001b[0;36m_binary_clf_curve\u001b[0;34m(y_true, y_score, pos_label, sample_weight)\u001b[0m\n\u001b[1;32m    295\u001b[0m         \u001b[0mDecreasing\u001b[0m \u001b[0mscore\u001b[0m \u001b[0mvalues\u001b[0m\u001b[0;34m.\u001b[0m\u001b[0;34m\u001b[0m\u001b[0m\n\u001b[1;32m    296\u001b[0m     \"\"\"\n\u001b[0;32m--> 297\u001b[0;31m     \u001b[0mcheck_consistent_length\u001b[0m\u001b[0;34m(\u001b[0m\u001b[0my_true\u001b[0m\u001b[0;34m,\u001b[0m \u001b[0my_score\u001b[0m\u001b[0;34m)\u001b[0m\u001b[0;34m\u001b[0m\u001b[0m\n\u001b[0m\u001b[1;32m    298\u001b[0m     \u001b[0my_true\u001b[0m \u001b[0;34m=\u001b[0m \u001b[0mcolumn_or_1d\u001b[0m\u001b[0;34m(\u001b[0m\u001b[0my_true\u001b[0m\u001b[0;34m)\u001b[0m\u001b[0;34m\u001b[0m\u001b[0m\n\u001b[1;32m    299\u001b[0m     \u001b[0my_score\u001b[0m \u001b[0;34m=\u001b[0m \u001b[0mcolumn_or_1d\u001b[0m\u001b[0;34m(\u001b[0m\u001b[0my_score\u001b[0m\u001b[0;34m)\u001b[0m\u001b[0;34m\u001b[0m\u001b[0m\n",
      "\u001b[0;32m/opt/anaconda/lib/python2.7/site-packages/sklearn/utils/validation.pyc\u001b[0m in \u001b[0;36mcheck_consistent_length\u001b[0;34m(*arrays)\u001b[0m\n\u001b[1;32m    179\u001b[0m     \u001b[0;32mif\u001b[0m \u001b[0mlen\u001b[0m\u001b[0;34m(\u001b[0m\u001b[0muniques\u001b[0m\u001b[0;34m)\u001b[0m \u001b[0;34m>\u001b[0m \u001b[0;36m1\u001b[0m\u001b[0;34m:\u001b[0m\u001b[0;34m\u001b[0m\u001b[0m\n\u001b[1;32m    180\u001b[0m         raise ValueError(\"Found input variables with inconsistent numbers of\"\n\u001b[0;32m--> 181\u001b[0;31m                          \" samples: %r\" % [int(l) for l in lengths])\n\u001b[0m\u001b[1;32m    182\u001b[0m \u001b[0;34m\u001b[0m\u001b[0m\n\u001b[1;32m    183\u001b[0m \u001b[0;34m\u001b[0m\u001b[0m\n",
      "\u001b[0;31mValueError\u001b[0m: Found input variables with inconsistent numbers of samples: [111, 222]"
     ],
     "output_type": "error"
    }
   ],
   "source": [
    ""
   ]
  },
  {
   "cell_type": "code",
   "execution_count": 22,
   "metadata": {
    "collapsed": true
   },
   "outputs": [
    {
     "data": {
      "text/plain": [
       "OneVsRestClassifier(estimator=LRSGLWrapper(A=[<3x1881 sparse matrix of type '<type 'numpy.float64'>'\n\twith 3 stored elements in Compressed Sparse Row format>, <249x1881 sparse matrix of type '<type 'numpy.float64'>'\n\twith 249 stored elements in Compressed Sparse Row format>, <2x1881 sparse matrix of type '<type 'numpy.float64'>'\n\twith 2 stor...se matrix of type '<type 'numpy.float64'>'\n\twith 2 stored elements in Compressed Sparse Row format>],\n       gl=2.5, l1=1.5, l2=0.0, max_iter=1000),\n          n_jobs=1)"
      ]
     },
     "execution_count": 22,
     "metadata": {},
     "output_type": "execute_result"
    }
   ],
   "source": [
    ""
   ]
  },
  {
   "cell_type": "markdown",
   "metadata": {},
   "source": [
    "## Loading HMDD database for experimentally validated NSCLC miRNA"
   ]
  },
  {
   "cell_type": "code",
   "execution_count": 152,
   "metadata": {
    "collapsed": false
   },
   "outputs": [
    {
     "name": "stdout",
     "output_type": "stream",
     "text": [
      "HMDD_lung_neoplasm_miRNAs (157,)\nmiRCancer_luad_miRNAs 27\nmir2disease_nsclc_miRNAs (24,)\n"
     ]
    },
    {
     "name": "stdout",
     "output_type": "stream",
     "text": [
      "dbDEMC_luad_miRNAs 545\n"
     ]
    }
   ],
   "source": [
    "HMDD_df = pandas.read_table(os.path.join(ROOT_DIR, 'data/external/HMDD_miRNA-disease.txt'), delimiter='\\t', header=-1)\n",
    "HMDD_df = HMDD_df[HMDD_df[2] == \"Lung Neoplasms\"]\n",
    "HMDD_lung_neoplasm_miRNAs = HMDD_df[1].unique()\n",
    "print \"HMDD_lung_neoplasm_miRNAs\", HMDD_lung_neoplasm_miRNAs.shape\n",
    "\n",
    "miRCancer_luad_miRNA_df = pandas.read_csv(os.path.join(ROOT_DIR, 'data/external/validated_luad_miRNAs_miRCancer.csv'))\n",
    "miRCancer_luad_miRNAs = set(miRCancer_luad_miRNA_df['miRNA'].tolist())\n",
    "print \"miRCancer_luad_miRNAs\", len(miRCancer_luad_miRNAs)\n",
    "\n",
    "\n",
    "mir2disease_nsclc_miRNA_df = pandas.read_table(os.path.join(ROOT_DIR, 'data/external/mir2Disease_miRNA-Disease.txt'), delimiter='\\t', header=-1) \n",
    "mir2disease_nsclc_miRNA_df.columns = ['miRNA', 'disease', 'up_down', 'method', 'year', 'description'] \n",
    "mir2disease_nsclc_miRNA_df = mir2disease_nsclc_miRNA_df[(mir2disease_nsclc_miRNA_df['disease'] == 'non-small cell lung cancer (NSCLC)')]\n",
    "mir2disease_nsclc_miRNA_df['miRNA'] = mir2disease_nsclc_miRNA_df['miRNA'].str.lower()\n",
    "mir2disease_nsclc_miRNA_df['miRNA'] = mir2disease_nsclc_miRNA_df['miRNA'].str.replace(\"*\", \"\")\n",
    "mir2disease_nsclc_miRNA_df['miRNA'] = mir2disease_nsclc_miRNA_df['miRNA'].str.replace(\"-3p.*|-5p.*\", \"\")\n",
    "mir2disease_nsclc_miRNA_df.drop_duplicates(inplace=True)\n",
    "mir2disease_nsclc_miRNAs = mir2disease_nsclc_miRNA_df['miRNA'].unique()\n",
    "print \"mir2disease_nsclc_miRNAs\", mir2disease_nsclc_miRNAs.shape\n",
    "\n",
    "dbDEMC_df = pandas.read_table(os.path.join(ROOT_DIR, 'data/external/dbDEMC.txt'), delimiter='\\t')\n",
    "dbDEMC_df = dbDEMC_df[dbDEMC_df['Cancer Type'] == 'lung cancer']\n",
    "dbDEMC_df = dbDEMC_df[dbDEMC_df['Cancer Subtype'] == 'lung adenocarcinoma']\n",
    "dbDEMC_df['miRNA ID'] = dbDEMC_df['miRNA ID'].str.lower()\n",
    "dbDEMC_df['miRNA ID'] = dbDEMC_df['miRNA ID'].str.replace(\"*\", \"\")\n",
    "dbDEMC_df['miRNA ID'] = dbDEMC_df['miRNA ID'].str.replace(\"-3p.*|-5p.*\", \"\")\n",
    "dbDEMC_luad_miRNAs = dbDEMC_df['miRNA ID'].unique()\n",
    "print 'dbDEMC_luad_miRNAs', len(dbDEMC_df['miRNA ID'].unique())\n",
    "\n",
    "validating_miRNAs = dbDEMC_luad_miRNAs"
   ]
  },
  {
   "cell_type": "markdown",
   "metadata": {},
   "source": [
    "## Compare models by recall rate"
   ]
  },
  {
   "cell_type": "code",
   "execution_count": 153,
   "metadata": {
    "collapsed": false
   },
   "outputs": [
    {
     "name": "stderr",
     "output_type": "stream",
     "text": [
      "src/models/group_lasso_spams.py:95: FutureWarning: sort is deprecated, use sort_values(inplace=True) for INPLACE sorting\n"
     ]
    },
    {
     "data": {
      "text/html": [
       "<div>\n",
       "<table border=\"1\" class=\"dataframe\">\n",
       "  <thead>\n",
       "    <tr style=\"text-align: right;\">\n",
       "      <th></th>\n",
       "      <th>method</th>\n",
       "      <th>no_selected</th>\n",
       "      <th>recall_rate</th>\n",
       "      <th>precision_rate</th>\n",
       "    </tr>\n",
       "  </thead>\n",
       "  <tbody>\n",
       "    <tr>\n",
       "      <th>1</th>\n",
       "      <td>multi-task l1l2</td>\n",
       "      <td>280</td>\n",
       "      <td>0.377982</td>\n",
       "      <td>0.735714</td>\n",
       "    </tr>\n",
       "    <tr>\n",
       "      <th>0</th>\n",
       "      <td>Logistic L1L2GL</td>\n",
       "      <td>410</td>\n",
       "      <td>0.366972</td>\n",
       "      <td>0.727273</td>\n",
       "    </tr>\n",
       "    <tr>\n",
       "      <th>2</th>\n",
       "      <td>l1_lasso</td>\n",
       "      <td>161</td>\n",
       "      <td>0.231193</td>\n",
       "      <td>0.782609</td>\n",
       "    </tr>\n",
       "    <tr>\n",
       "      <th>3</th>\n",
       "      <td>elastic_net</td>\n",
       "      <td>161</td>\n",
       "      <td>0.231193</td>\n",
       "      <td>0.782609</td>\n",
       "    </tr>\n",
       "    <tr>\n",
       "      <th>4</th>\n",
       "      <td>sparse-group_small</td>\n",
       "      <td>112</td>\n",
       "      <td>0.165138</td>\n",
       "      <td>0.803571</td>\n",
       "    </tr>\n",
       "  </tbody>\n",
       "</table>\n",
       "</div>"
      ],
      "text/plain": [
       "<div>\n",
       "<table border=\"1\" class=\"dataframe\">\n",
       "  <thead>\n",
       "    <tr style=\"text-align: right;\">\n",
       "      <th></th>\n",
       "      <th>method</th>\n",
       "      <th>no_selected</th>\n",
       "      <th>recall_rate</th>\n",
       "      <th>precision_rate</th>\n",
       "    </tr>\n",
       "  </thead>\n",
       "  <tbody>\n",
       "    <tr>\n",
       "      <th>1</th>\n",
       "      <td>multi-task l1l2</td>\n",
       "      <td>280</td>\n",
       "      <td>0.377982</td>\n",
       "      <td>0.735714</td>\n",
       "    </tr>\n",
       "    <tr>\n",
       "      <th>0</th>\n",
       "      <td>Logistic L1L2GL</td>\n",
       "      <td>410</td>\n",
       "      <td>0.366972</td>\n",
       "      <td>0.727273</td>\n",
       "    </tr>\n",
       "    <tr>\n",
       "      <th>2</th>\n",
       "      <td>l1_lasso</td>\n",
       "      <td>161</td>\n",
       "      <td>0.231193</td>\n",
       "      <td>0.782609</td>\n",
       "    </tr>\n",
       "    <tr>\n",
       "      <th>3</th>\n",
       "      <td>elastic_net</td>\n",
       "      <td>161</td>\n",
       "      <td>0.231193</td>\n",
       "      <td>0.782609</td>\n",
       "    </tr>\n",
       "    <tr>\n",
       "      <th>4</th>\n",
       "      <td>sparse-group_small</td>\n",
       "      <td>112</td>\n",
       "      <td>0.165138</td>\n",
       "      <td>0.803571</td>\n",
       "    </tr>\n",
       "  </tbody>\n",
       "</table>\n",
       "</div>"
      ]
     },
     "execution_count": 153,
     "metadata": {},
     "output_type": "execute_result"
    }
   ],
   "source": [
    "from src.utils.validate_candidate_miRNAs import recall_rate, precision_rate, get_miRNA_names\n",
    "\n",
    "models = []\n",
    "for model, name in [\n",
    "                    (logistic_L1L2GL, 'Logistic L1L2GL'),\n",
    "                    (multi_task_l1l2, 'multi-task l1l2'),\n",
    "                    # (multi_task_l1l2_cluster, 'multi_task_l1l2_cluster'),\n",
    "                    # (group_l2, 'group_small'),\n",
    "                    (l1_lasso, 'l1_lasso'),\n",
    "                    (elastic_net, 'elastic_net'),\n",
    "                    (sparse_group_l2, 'sparse-group_small')\n",
    "                    ]:\n",
    "    if model is logistic_L1L2GL:\n",
    "        models.append([name,\n",
    "                   len(model.beta.nonzero()[0]),\n",
    "                   recall_rate(candidate_miRNAs=get_miRNA_names(model.beta.nonzero()[0][:275], tgca_luad.mirna_list),\n",
    "                               validated_miRNAs=validating_miRNAs),\n",
    "                   precision_rate(candidate_miRNAs=get_miRNA_names(model.beta.nonzero()[0][:275], tgca_luad.mirna_list),\n",
    "                                  validated_miRNAs=validating_miRNAs) ])\n",
    "    else:\n",
    "        models.append([name,\n",
    "                   model.get_selected_miRNAs(tgca_luad.mirna_list)['miRNA'].shape[0],\n",
    "                   recall_rate(candidate_miRNAs=model.get_selected_miRNAs(tgca_luad.mirna_list)['miRNA'].tolist(),\n",
    "                               validated_miRNAs=validating_miRNAs),\n",
    "                   precision_rate(candidate_miRNAs=model.get_selected_miRNAs(tgca_luad.mirna_list)['miRNA'].tolist(),\n",
    "                                  validated_miRNAs=validating_miRNAs) ])\n",
    "\n",
    "pandas.DataFrame(models, columns=['method', 'no_selected', 'recall_rate', 'precision_rate']).sort_values(by='recall_rate', ascending=False)\n",
    "# (group_l2_large_groups, 'group_l2_large_groups'),\n",
    "# (l1_lasso, 'l1_lasso'),\n",
    "# (elastic_net, 'elastic_net'),\n",
    "# (sparse_group_l2, 'sparse-group-lasso-l2'),\n",
    "# (sparse_group_l2_large_groups, 'sparse_group_l2_large_groups')"
   ]
  },
  {
   "cell_type": "markdown",
   "metadata": {},
   "source": [
    "## Check each candidate miRNA's if validated"
   ]
  },
  {
   "cell_type": "code",
   "execution_count": 38,
   "metadata": {
    "collapsed": true
   },
   "outputs": [
    {
     "data": {
      "text/html": [
       "<div>\n",
       "<table border=\"1\" class=\"dataframe\">\n",
       "  <thead>\n",
       "    <tr style=\"text-align: right;\">\n",
       "      <th></th>\n",
       "      <th>miRNA</th>\n",
       "      <th>coef</th>\n",
       "      <th>validated</th>\n",
       "    </tr>\n",
       "  </thead>\n",
       "  <tbody>\n",
       "    <tr>\n",
       "      <th>50</th>\n",
       "      <td>hsa-mir-148a</td>\n",
       "      <td>-0.000126</td>\n",
       "      <td>True</td>\n",
       "    </tr>\n",
       "    <tr>\n",
       "      <th>180</th>\n",
       "      <td>hsa-mir-451a</td>\n",
       "      <td>-0.000102</td>\n",
       "      <td>True</td>\n",
       "    </tr>\n",
       "    <tr>\n",
       "      <th>69</th>\n",
       "      <td>hsa-mir-182</td>\n",
       "      <td>-0.000089</td>\n",
       "      <td>True</td>\n",
       "    </tr>\n",
       "    <tr>\n",
       "      <th>160</th>\n",
       "      <td>hsa-mir-372</td>\n",
       "      <td>0.000086</td>\n",
       "      <td>False</td>\n",
       "    </tr>\n",
       "    <tr>\n",
       "      <th>27</th>\n",
       "      <td>hsa-mir-126</td>\n",
       "      <td>-0.000084</td>\n",
       "      <td>True</td>\n",
       "    </tr>\n",
       "    <tr>\n",
       "      <th>225</th>\n",
       "      <td>hsa-mir-582</td>\n",
       "      <td>0.000080</td>\n",
       "      <td>True</td>\n",
       "    </tr>\n",
       "    <tr>\n",
       "      <th>131</th>\n",
       "      <td>hsa-mir-30d</td>\n",
       "      <td>-0.000078</td>\n",
       "      <td>True</td>\n",
       "    </tr>\n",
       "    <tr>\n",
       "      <th>115</th>\n",
       "      <td>hsa-mir-25</td>\n",
       "      <td>-0.000078</td>\n",
       "      <td>True</td>\n",
       "    </tr>\n",
       "    <tr>\n",
       "      <th>92</th>\n",
       "      <td>hsa-mir-200a</td>\n",
       "      <td>-0.000078</td>\n",
       "      <td>True</td>\n",
       "    </tr>\n",
       "    <tr>\n",
       "      <th>44</th>\n",
       "      <td>hsa-mir-142</td>\n",
       "      <td>0.000076</td>\n",
       "      <td>True</td>\n",
       "    </tr>\n",
       "    <tr>\n",
       "      <th>127</th>\n",
       "      <td>hsa-mir-30a</td>\n",
       "      <td>0.000074</td>\n",
       "      <td>True</td>\n",
       "    </tr>\n",
       "    <tr>\n",
       "      <th>97</th>\n",
       "      <td>hsa-mir-205</td>\n",
       "      <td>0.000072</td>\n",
       "      <td>True</td>\n",
       "    </tr>\n",
       "    <tr>\n",
       "      <th>105</th>\n",
       "      <td>hsa-mir-22</td>\n",
       "      <td>-0.000065</td>\n",
       "      <td>True</td>\n",
       "    </tr>\n",
       "    <tr>\n",
       "      <th>70</th>\n",
       "      <td>hsa-mir-183</td>\n",
       "      <td>0.000063</td>\n",
       "      <td>True</td>\n",
       "    </tr>\n",
       "    <tr>\n",
       "      <th>144</th>\n",
       "      <td>hsa-mir-338</td>\n",
       "      <td>0.000060</td>\n",
       "      <td>True</td>\n",
       "    </tr>\n",
       "    <tr>\n",
       "      <th>121</th>\n",
       "      <td>hsa-mir-28</td>\n",
       "      <td>0.000056</td>\n",
       "      <td>True</td>\n",
       "    </tr>\n",
       "    <tr>\n",
       "      <th>54</th>\n",
       "      <td>hsa-mir-151a</td>\n",
       "      <td>-0.000054</td>\n",
       "      <td>True</td>\n",
       "    </tr>\n",
       "    <tr>\n",
       "      <th>8</th>\n",
       "      <td>hsa-let-7f-2</td>\n",
       "      <td>-0.000053</td>\n",
       "      <td>True</td>\n",
       "    </tr>\n",
       "    <tr>\n",
       "      <th>101</th>\n",
       "      <td>hsa-mir-210</td>\n",
       "      <td>0.000053</td>\n",
       "      <td>True</td>\n",
       "    </tr>\n",
       "    <tr>\n",
       "      <th>94</th>\n",
       "      <td>hsa-mir-200c</td>\n",
       "      <td>-0.000052</td>\n",
       "      <td>True</td>\n",
       "    </tr>\n",
       "  </tbody>\n",
       "</table>\n",
       "</div>"
      ],
      "text/plain": [
       "<div>\n",
       "<table border=\"1\" class=\"dataframe\">\n",
       "  <thead>\n",
       "    <tr style=\"text-align: right;\">\n",
       "      <th></th>\n",
       "      <th>miRNA</th>\n",
       "      <th>coef</th>\n",
       "      <th>validated</th>\n",
       "    </tr>\n",
       "  </thead>\n",
       "  <tbody>\n",
       "    <tr>\n",
       "      <th>50</th>\n",
       "      <td>hsa-mir-148a</td>\n",
       "      <td>-0.000126</td>\n",
       "      <td>True</td>\n",
       "    </tr>\n",
       "    <tr>\n",
       "      <th>180</th>\n",
       "      <td>hsa-mir-451a</td>\n",
       "      <td>-0.000102</td>\n",
       "      <td>True</td>\n",
       "    </tr>\n",
       "    <tr>\n",
       "      <th>69</th>\n",
       "      <td>hsa-mir-182</td>\n",
       "      <td>-0.000089</td>\n",
       "      <td>True</td>\n",
       "    </tr>\n",
       "    <tr>\n",
       "      <th>160</th>\n",
       "      <td>hsa-mir-372</td>\n",
       "      <td>0.000086</td>\n",
       "      <td>False</td>\n",
       "    </tr>\n",
       "    <tr>\n",
       "      <th>27</th>\n",
       "      <td>hsa-mir-126</td>\n",
       "      <td>-0.000084</td>\n",
       "      <td>True</td>\n",
       "    </tr>\n",
       "    <tr>\n",
       "      <th>225</th>\n",
       "      <td>hsa-mir-582</td>\n",
       "      <td>0.000080</td>\n",
       "      <td>True</td>\n",
       "    </tr>\n",
       "    <tr>\n",
       "      <th>131</th>\n",
       "      <td>hsa-mir-30d</td>\n",
       "      <td>-0.000078</td>\n",
       "      <td>True</td>\n",
       "    </tr>\n",
       "    <tr>\n",
       "      <th>115</th>\n",
       "      <td>hsa-mir-25</td>\n",
       "      <td>-0.000078</td>\n",
       "      <td>True</td>\n",
       "    </tr>\n",
       "    <tr>\n",
       "      <th>92</th>\n",
       "      <td>hsa-mir-200a</td>\n",
       "      <td>-0.000078</td>\n",
       "      <td>True</td>\n",
       "    </tr>\n",
       "    <tr>\n",
       "      <th>44</th>\n",
       "      <td>hsa-mir-142</td>\n",
       "      <td>0.000076</td>\n",
       "      <td>True</td>\n",
       "    </tr>\n",
       "    <tr>\n",
       "      <th>127</th>\n",
       "      <td>hsa-mir-30a</td>\n",
       "      <td>0.000074</td>\n",
       "      <td>True</td>\n",
       "    </tr>\n",
       "    <tr>\n",
       "      <th>97</th>\n",
       "      <td>hsa-mir-205</td>\n",
       "      <td>0.000072</td>\n",
       "      <td>True</td>\n",
       "    </tr>\n",
       "    <tr>\n",
       "      <th>105</th>\n",
       "      <td>hsa-mir-22</td>\n",
       "      <td>-0.000065</td>\n",
       "      <td>True</td>\n",
       "    </tr>\n",
       "    <tr>\n",
       "      <th>70</th>\n",
       "      <td>hsa-mir-183</td>\n",
       "      <td>0.000063</td>\n",
       "      <td>True</td>\n",
       "    </tr>\n",
       "    <tr>\n",
       "      <th>144</th>\n",
       "      <td>hsa-mir-338</td>\n",
       "      <td>0.000060</td>\n",
       "      <td>True</td>\n",
       "    </tr>\n",
       "    <tr>\n",
       "      <th>121</th>\n",
       "      <td>hsa-mir-28</td>\n",
       "      <td>0.000056</td>\n",
       "      <td>True</td>\n",
       "    </tr>\n",
       "    <tr>\n",
       "      <th>54</th>\n",
       "      <td>hsa-mir-151a</td>\n",
       "      <td>-0.000054</td>\n",
       "      <td>True</td>\n",
       "    </tr>\n",
       "    <tr>\n",
       "      <th>8</th>\n",
       "      <td>hsa-let-7f-2</td>\n",
       "      <td>-0.000053</td>\n",
       "      <td>True</td>\n",
       "    </tr>\n",
       "    <tr>\n",
       "      <th>101</th>\n",
       "      <td>hsa-mir-210</td>\n",
       "      <td>0.000053</td>\n",
       "      <td>True</td>\n",
       "    </tr>\n",
       "    <tr>\n",
       "      <th>94</th>\n",
       "      <td>hsa-mir-200c</td>\n",
       "      <td>-0.000052</td>\n",
       "      <td>True</td>\n",
       "    </tr>\n",
       "  </tbody>\n",
       "</table>\n",
       "</div>"
      ]
     },
     "execution_count": 38,
     "metadata": {},
     "output_type": "execute_result"
    }
   ],
   "source": [
    "candidate_miRNAs = multi_task_l1l2.get_selected_miRNAs(tgca_luad.mirna_list)\n",
    "candidate_miRNAs['validated'] = candidate_miRNAs.apply(lambda row: row['miRNA'] in validating_miRNAs, axis=1)\n",
    "# candidate_miRNAs['groups'] = candidate_miRNAs.apply(lambda row: network.find_miRNA_groups(row['miRNA']), axis=1)\n",
    "candidate_miRNAs.head(20)"
   ]
  },
  {
   "cell_type": "code",
   "execution_count": 157,
   "metadata": {
    "collapsed": true
   },
   "outputs": [
    {
     "name": "stderr",
     "output_type": "stream",
     "text": [
      "/opt/anaconda/lib/python2.7/site-packages/ipykernel/__main__.py:5: FutureWarning: sort is deprecated, use sort_values(inplace=True) for INPLACE sorting\n"
     ]
    },
    {
     "data": {
      "text/html": [
       "<div>\n",
       "<table border=\"1\" class=\"dataframe\">\n",
       "  <thead>\n",
       "    <tr style=\"text-align: right;\">\n",
       "      <th></th>\n",
       "      <th>miRNA</th>\n",
       "      <th>coef</th>\n",
       "      <th>validated</th>\n",
       "      <th>groups</th>\n",
       "    </tr>\n",
       "  </thead>\n",
       "  <tbody>\n",
       "    <tr>\n",
       "      <th>87</th>\n",
       "      <td>hsa-mir-203a</td>\n",
       "      <td>0.000195</td>\n",
       "      <td>True</td>\n",
       "      <td>[]</td>\n",
       "    </tr>\n",
       "    <tr>\n",
       "      <th>64</th>\n",
       "      <td>hsa-mir-182</td>\n",
       "      <td>0.000082</td>\n",
       "      <td>True</td>\n",
       "      <td>[]</td>\n",
       "    </tr>\n",
       "    <tr>\n",
       "      <th>48</th>\n",
       "      <td>hsa-mir-148a</td>\n",
       "      <td>0.000081</td>\n",
       "      <td>True</td>\n",
       "      <td>[]</td>\n",
       "    </tr>\n",
       "    <tr>\n",
       "      <th>15</th>\n",
       "      <td>hsa-mir-103a-2</td>\n",
       "      <td>-0.000070</td>\n",
       "      <td>True</td>\n",
       "      <td>[]</td>\n",
       "    </tr>\n",
       "    <tr>\n",
       "      <th>14</th>\n",
       "      <td>hsa-mir-103a-1</td>\n",
       "      <td>-0.000069</td>\n",
       "      <td>False</td>\n",
       "      <td>[]</td>\n",
       "    </tr>\n",
       "    <tr>\n",
       "      <th>90</th>\n",
       "      <td>hsa-mir-21</td>\n",
       "      <td>0.000065</td>\n",
       "      <td>True</td>\n",
       "      <td>[]</td>\n",
       "    </tr>\n",
       "    <tr>\n",
       "      <th>115</th>\n",
       "      <td>hsa-mir-29c</td>\n",
       "      <td>0.000061</td>\n",
       "      <td>True</td>\n",
       "      <td>[]</td>\n",
       "    </tr>\n",
       "    <tr>\n",
       "      <th>179</th>\n",
       "      <td>hsa-mir-99b</td>\n",
       "      <td>-0.000054</td>\n",
       "      <td>True</td>\n",
       "      <td>[]</td>\n",
       "    </tr>\n",
       "    <tr>\n",
       "      <th>122</th>\n",
       "      <td>hsa-mir-30e</td>\n",
       "      <td>0.000053</td>\n",
       "      <td>True</td>\n",
       "      <td>[]</td>\n",
       "    </tr>\n",
       "    <tr>\n",
       "      <th>65</th>\n",
       "      <td>hsa-mir-183</td>\n",
       "      <td>0.000050</td>\n",
       "      <td>True</td>\n",
       "      <td>[]</td>\n",
       "    </tr>\n",
       "    <tr>\n",
       "      <th>8</th>\n",
       "      <td>hsa-let-7f-2</td>\n",
       "      <td>-0.000045</td>\n",
       "      <td>True</td>\n",
       "      <td>[]</td>\n",
       "    </tr>\n",
       "    <tr>\n",
       "      <th>7</th>\n",
       "      <td>hsa-let-7f-1</td>\n",
       "      <td>-0.000044</td>\n",
       "      <td>True</td>\n",
       "      <td>[]</td>\n",
       "    </tr>\n",
       "    <tr>\n",
       "      <th>117</th>\n",
       "      <td>hsa-mir-30a</td>\n",
       "      <td>-0.000042</td>\n",
       "      <td>True</td>\n",
       "      <td>[]</td>\n",
       "    </tr>\n",
       "    <tr>\n",
       "      <th>43</th>\n",
       "      <td>hsa-mir-143</td>\n",
       "      <td>-0.000041</td>\n",
       "      <td>True</td>\n",
       "      <td>[]</td>\n",
       "    </tr>\n",
       "    <tr>\n",
       "      <th>3</th>\n",
       "      <td>hsa-let-7b</td>\n",
       "      <td>0.000037</td>\n",
       "      <td>True</td>\n",
       "      <td>[]</td>\n",
       "    </tr>\n",
       "    <tr>\n",
       "      <th>0</th>\n",
       "      <td>hsa-let-7a-1</td>\n",
       "      <td>-0.000034</td>\n",
       "      <td>False</td>\n",
       "      <td>[]</td>\n",
       "    </tr>\n",
       "    <tr>\n",
       "      <th>2</th>\n",
       "      <td>hsa-let-7a-3</td>\n",
       "      <td>-0.000034</td>\n",
       "      <td>False</td>\n",
       "      <td>[]</td>\n",
       "    </tr>\n",
       "    <tr>\n",
       "      <th>172</th>\n",
       "      <td>hsa-mir-92a-1</td>\n",
       "      <td>-0.000032</td>\n",
       "      <td>False</td>\n",
       "      <td>[]</td>\n",
       "    </tr>\n",
       "    <tr>\n",
       "      <th>173</th>\n",
       "      <td>hsa-mir-92a-2</td>\n",
       "      <td>-0.000031</td>\n",
       "      <td>False</td>\n",
       "      <td>[]</td>\n",
       "    </tr>\n",
       "    <tr>\n",
       "      <th>147</th>\n",
       "      <td>hsa-mir-451a</td>\n",
       "      <td>-0.000030</td>\n",
       "      <td>True</td>\n",
       "      <td>[]</td>\n",
       "    </tr>\n",
       "  </tbody>\n",
       "</table>\n",
       "</div>"
      ],
      "text/plain": [
       "<div>\n",
       "<table border=\"1\" class=\"dataframe\">\n",
       "  <thead>\n",
       "    <tr style=\"text-align: right;\">\n",
       "      <th></th>\n",
       "      <th>miRNA</th>\n",
       "      <th>coef</th>\n",
       "      <th>validated</th>\n",
       "      <th>groups</th>\n",
       "    </tr>\n",
       "  </thead>\n",
       "  <tbody>\n",
       "    <tr>\n",
       "      <th>87</th>\n",
       "      <td>hsa-mir-203a</td>\n",
       "      <td>0.000195</td>\n",
       "      <td>True</td>\n",
       "      <td>[]</td>\n",
       "    </tr>\n",
       "    <tr>\n",
       "      <th>64</th>\n",
       "      <td>hsa-mir-182</td>\n",
       "      <td>0.000082</td>\n",
       "      <td>True</td>\n",
       "      <td>[]</td>\n",
       "    </tr>\n",
       "    <tr>\n",
       "      <th>48</th>\n",
       "      <td>hsa-mir-148a</td>\n",
       "      <td>0.000081</td>\n",
       "      <td>True</td>\n",
       "      <td>[]</td>\n",
       "    </tr>\n",
       "    <tr>\n",
       "      <th>15</th>\n",
       "      <td>hsa-mir-103a-2</td>\n",
       "      <td>-0.000070</td>\n",
       "      <td>True</td>\n",
       "      <td>[]</td>\n",
       "    </tr>\n",
       "    <tr>\n",
       "      <th>14</th>\n",
       "      <td>hsa-mir-103a-1</td>\n",
       "      <td>-0.000069</td>\n",
       "      <td>False</td>\n",
       "      <td>[]</td>\n",
       "    </tr>\n",
       "    <tr>\n",
       "      <th>90</th>\n",
       "      <td>hsa-mir-21</td>\n",
       "      <td>0.000065</td>\n",
       "      <td>True</td>\n",
       "      <td>[]</td>\n",
       "    </tr>\n",
       "    <tr>\n",
       "      <th>115</th>\n",
       "      <td>hsa-mir-29c</td>\n",
       "      <td>0.000061</td>\n",
       "      <td>True</td>\n",
       "      <td>[]</td>\n",
       "    </tr>\n",
       "    <tr>\n",
       "      <th>179</th>\n",
       "      <td>hsa-mir-99b</td>\n",
       "      <td>-0.000054</td>\n",
       "      <td>True</td>\n",
       "      <td>[]</td>\n",
       "    </tr>\n",
       "    <tr>\n",
       "      <th>122</th>\n",
       "      <td>hsa-mir-30e</td>\n",
       "      <td>0.000053</td>\n",
       "      <td>True</td>\n",
       "      <td>[]</td>\n",
       "    </tr>\n",
       "    <tr>\n",
       "      <th>65</th>\n",
       "      <td>hsa-mir-183</td>\n",
       "      <td>0.000050</td>\n",
       "      <td>True</td>\n",
       "      <td>[]</td>\n",
       "    </tr>\n",
       "    <tr>\n",
       "      <th>8</th>\n",
       "      <td>hsa-let-7f-2</td>\n",
       "      <td>-0.000045</td>\n",
       "      <td>True</td>\n",
       "      <td>[]</td>\n",
       "    </tr>\n",
       "    <tr>\n",
       "      <th>7</th>\n",
       "      <td>hsa-let-7f-1</td>\n",
       "      <td>-0.000044</td>\n",
       "      <td>True</td>\n",
       "      <td>[]</td>\n",
       "    </tr>\n",
       "    <tr>\n",
       "      <th>117</th>\n",
       "      <td>hsa-mir-30a</td>\n",
       "      <td>-0.000042</td>\n",
       "      <td>True</td>\n",
       "      <td>[]</td>\n",
       "    </tr>\n",
       "    <tr>\n",
       "      <th>43</th>\n",
       "      <td>hsa-mir-143</td>\n",
       "      <td>-0.000041</td>\n",
       "      <td>True</td>\n",
       "      <td>[]</td>\n",
       "    </tr>\n",
       "    <tr>\n",
       "      <th>3</th>\n",
       "      <td>hsa-let-7b</td>\n",
       "      <td>0.000037</td>\n",
       "      <td>True</td>\n",
       "      <td>[]</td>\n",
       "    </tr>\n",
       "    <tr>\n",
       "      <th>0</th>\n",
       "      <td>hsa-let-7a-1</td>\n",
       "      <td>-0.000034</td>\n",
       "      <td>False</td>\n",
       "      <td>[]</td>\n",
       "    </tr>\n",
       "    <tr>\n",
       "      <th>2</th>\n",
       "      <td>hsa-let-7a-3</td>\n",
       "      <td>-0.000034</td>\n",
       "      <td>False</td>\n",
       "      <td>[]</td>\n",
       "    </tr>\n",
       "    <tr>\n",
       "      <th>172</th>\n",
       "      <td>hsa-mir-92a-1</td>\n",
       "      <td>-0.000032</td>\n",
       "      <td>False</td>\n",
       "      <td>[]</td>\n",
       "    </tr>\n",
       "    <tr>\n",
       "      <th>173</th>\n",
       "      <td>hsa-mir-92a-2</td>\n",
       "      <td>-0.000031</td>\n",
       "      <td>False</td>\n",
       "      <td>[]</td>\n",
       "    </tr>\n",
       "    <tr>\n",
       "      <th>147</th>\n",
       "      <td>hsa-mir-451a</td>\n",
       "      <td>-0.000030</td>\n",
       "      <td>True</td>\n",
       "      <td>[]</td>\n",
       "    </tr>\n",
       "  </tbody>\n",
       "</table>\n",
       "</div>"
      ]
     },
     "execution_count": 157,
     "metadata": {},
     "output_type": "execute_result"
    }
   ],
   "source": [
    "candidate_miRNAs = pandas.DataFrame([(tgca_luad.mirna_list[m], logistic_L1L2GL.beta[m][0]) for m in logistic_L1L2GL.beta.nonzero()[0]])\n",
    "candidate_miRNAs.columns = ['miRNA', 'coef']\n",
    "candidate_miRNAs['validated'] = candidate_miRNAs.apply(lambda row: row['miRNA'] in validating_miRNAs, axis=1)\n",
    "candidate_miRNAs['groups'] = candidate_miRNAs.apply(lambda row: network.find_miRNA_groups(row['miRNA']), axis=1)\n",
    "candidate_miRNAs.reindex(candidate_miRNAs.coef.abs().sort(inplace=False, ascending=False).index).head(20)"
   ]
  },
  {
   "cell_type": "markdown",
   "metadata": {},
   "source": [
    "### Recall & Precision of Top Ranked miRNAs"
   ]
  },
  {
   "cell_type": "code",
   "execution_count": 154,
   "metadata": {
    "collapsed": false
   },
   "outputs": [
    {
     "name": "stderr",
     "output_type": "stream",
     "text": [
      "/opt/anaconda/lib/python2.7/site-packages/ipykernel/__main__.py:10: FutureWarning: sort is deprecated, use sort_values(inplace=True) for INPLACE sorting\n"
     ]
    },
    {
     "data": {
      "image/png": "[encoded data removed]",
      "text/plain": [
       "<matplotlib.figure.Figure at 0x7f9a26a44450>"
      ]
     },
     "metadata": {},
     "output_type": "display_data"
    }
   ],
   "source": [
    "top_k_s = [10, 30, 60, 90, 120, 160, 200, 250]\n",
    "\n",
    "candidate_miRNAs = pandas.DataFrame()\n",
    "candidate_miRNAs['miRNAs'] = tgca_luad.mirna_list\n",
    "candidate_miRNAs['coef'] = logistic_L1L2GL.beta\n",
    "\n",
    "recall_rates = []\n",
    "precision_rates = []\n",
    "for top_k in top_k_s:\n",
    "    top_k_miRNAs = candidate_miRNAs.reindex(candidate_miRNAs.coef.abs().sort(inplace=False, ascending=False).index).head(top_k)['miRNAs'].tolist()\n",
    "\n",
    "    recall_rates.append(recall_rate(candidate_miRNAs=top_k_miRNAs, validated_miRNAs=dbDEMC_luad_miRNAs))\n",
    "    precision_rates.append(precision_rate(candidate_miRNAs=top_k_miRNAs, validated_miRNAs=dbDEMC_luad_miRNAs))\n",
    "    \n",
    "# plt.figure()\n",
    "fig, ax = plt.subplots(figsize=(8, 6), dpi=150)\n",
    "width = 0.3\n",
    "font_size = 14\n",
    "\n",
    "rects1 = ax.bar(range(len(top_k_s)), precision_rates, width, color='black')\n",
    "ax.set_ylabel('Precision rate of known LUAD miRNAs (%)', fontsize=font_size)\n",
    "ax.set_yticks([i/10. for i in range(10)])\n",
    "# ax.set_ylim((0, 1))\n",
    "\n",
    "ax2 = ax.twinx()\n",
    "rects2 = ax2.bar([width+k for k in range(len(top_k_s))], recall_rates, width, color='gray')\n",
    "# ax2.set_ylim(ax.get_ylim())\n",
    "ax2.set_ylabel('Recall rate of known LUAD miRNAs (%)', fontsize=font_size)\n",
    "\n",
    "ax.legend((rects1[0], rects2[0]), ('Precision Rate', 'Recall rate'), loc=(0.5, 0.88), fontsize=11)\n",
    "ax.set_xlabel('# of top-ranked miRNAs', fontsize=font_size)\n",
    "ax.set_xticks([width/2+k for k in range(len(top_k_s))])\n",
    "ax.set_xticklabels(['Top '+str(top_k) for top_k in top_k_s], fontsize=10)\n",
    "plt.show()"
   ]
  },
  {
   "cell_type": "markdown",
   "metadata": {
    "collapsed": true
   },
   "source": [
    "## Precision for each miRNA groups"
   ]
  },
  {
   "cell_type": "code",
   "execution_count": 155,
   "metadata": {
    "collapsed": true
   },
   "outputs": [
    {
     "data": {
      "text/html": [
       "<div>\n",
       "<table border=\"1\" class=\"dataframe\">\n",
       "  <thead>\n",
       "    <tr style=\"text-align: right;\">\n",
       "      <th></th>\n",
       "      <th>Size of cluster</th>\n",
       "      <th>miRNA</th>\n",
       "      <th>precision to LUAD</th>\n",
       "      <th># selected in model</th>\n",
       "      <th>selected in model and in LUAD</th>\n",
       "    </tr>\n",
       "  </thead>\n",
       "  <tbody>\n",
       "    <tr>\n",
       "      <th>1</th>\n",
       "      <td>249</td>\n",
       "      <td>[let-7b, let-7c, let-7d, let-7e, let-7g, let-7...</td>\n",
       "      <td>0.742972</td>\n",
       "      <td>182</td>\n",
       "      <td>0.917582</td>\n",
       "    </tr>\n",
       "    <tr>\n",
       "      <th>3</th>\n",
       "      <td>10</td>\n",
       "      <td>[mir-302a, mir-372, mir-373, mir-519d, mir-520...</td>\n",
       "      <td>0.700000</td>\n",
       "      <td>3</td>\n",
       "      <td>0.666667</td>\n",
       "    </tr>\n",
       "    <tr>\n",
       "      <th>0</th>\n",
       "      <td>3</td>\n",
       "      <td>[mir-381, mir-410, mir-539]</td>\n",
       "      <td>1.000000</td>\n",
       "      <td>3</td>\n",
       "      <td>1.000000</td>\n",
       "    </tr>\n",
       "    <tr>\n",
       "      <th>4</th>\n",
       "      <td>3</td>\n",
       "      <td>[mir-494, mir-495, mir-543]</td>\n",
       "      <td>0.666667</td>\n",
       "      <td>2</td>\n",
       "      <td>0.500000</td>\n",
       "    </tr>\n",
       "    <tr>\n",
       "      <th>2</th>\n",
       "      <td>2</td>\n",
       "      <td>[mir-136, mir-204]</td>\n",
       "      <td>1.000000</td>\n",
       "      <td>1</td>\n",
       "      <td>1.000000</td>\n",
       "    </tr>\n",
       "    <tr>\n",
       "      <th>7</th>\n",
       "      <td>2</td>\n",
       "      <td>[mir-873, mir-876]</td>\n",
       "      <td>0.000000</td>\n",
       "      <td>0</td>\n",
       "      <td>NaN</td>\n",
       "    </tr>\n",
       "    <tr>\n",
       "      <th>9</th>\n",
       "      <td>2</td>\n",
       "      <td>[mir-34c, mir-449a]</td>\n",
       "      <td>0.500000</td>\n",
       "      <td>2</td>\n",
       "      <td>0.500000</td>\n",
       "    </tr>\n",
       "    <tr>\n",
       "      <th>5</th>\n",
       "      <td>1</td>\n",
       "      <td>[h, s, a, -, m, i, r, -, 4, 8, 8]</td>\n",
       "      <td>0.000000</td>\n",
       "      <td>0</td>\n",
       "      <td>NaN</td>\n",
       "    </tr>\n",
       "    <tr>\n",
       "      <th>6</th>\n",
       "      <td>1</td>\n",
       "      <td>[h, s, a, -, m, i, r, -, 3, 4, 0]</td>\n",
       "      <td>0.000000</td>\n",
       "      <td>0</td>\n",
       "      <td>NaN</td>\n",
       "    </tr>\n",
       "    <tr>\n",
       "      <th>8</th>\n",
       "      <td>1</td>\n",
       "      <td>[h, s, a, -, m, i, r, -, 2, 1, 4]</td>\n",
       "      <td>0.000000</td>\n",
       "      <td>0</td>\n",
       "      <td>NaN</td>\n",
       "    </tr>\n",
       "  </tbody>\n",
       "</table>\n",
       "</div>"
      ],
      "text/plain": [
       "<div>\n",
       "<table border=\"1\" class=\"dataframe\">\n",
       "  <thead>\n",
       "    <tr style=\"text-align: right;\">\n",
       "      <th></th>\n",
       "      <th>Size of cluster</th>\n",
       "      <th>miRNA</th>\n",
       "      <th>precision to LUAD</th>\n",
       "      <th># selected in model</th>\n",
       "      <th>selected in model and in LUAD</th>\n",
       "    </tr>\n",
       "  </thead>\n",
       "  <tbody>\n",
       "    <tr>\n",
       "      <th>1</th>\n",
       "      <td>249</td>\n",
       "      <td>[let-7b, let-7c, let-7d, let-7e, let-7g, let-7...</td>\n",
       "      <td>0.742972</td>\n",
       "      <td>182</td>\n",
       "      <td>0.917582</td>\n",
       "    </tr>\n",
       "    <tr>\n",
       "      <th>3</th>\n",
       "      <td>10</td>\n",
       "      <td>[mir-302a, mir-372, mir-373, mir-519d, mir-520...</td>\n",
       "      <td>0.700000</td>\n",
       "      <td>3</td>\n",
       "      <td>0.666667</td>\n",
       "    </tr>\n",
       "    <tr>\n",
       "      <th>0</th>\n",
       "      <td>3</td>\n",
       "      <td>[mir-381, mir-410, mir-539]</td>\n",
       "      <td>1.000000</td>\n",
       "      <td>3</td>\n",
       "      <td>1.000000</td>\n",
       "    </tr>\n",
       "    <tr>\n",
       "      <th>4</th>\n",
       "      <td>3</td>\n",
       "      <td>[mir-494, mir-495, mir-543]</td>\n",
       "      <td>0.666667</td>\n",
       "      <td>2</td>\n",
       "      <td>0.500000</td>\n",
       "    </tr>\n",
       "    <tr>\n",
       "      <th>2</th>\n",
       "      <td>2</td>\n",
       "      <td>[mir-136, mir-204]</td>\n",
       "      <td>1.000000</td>\n",
       "      <td>1</td>\n",
       "      <td>1.000000</td>\n",
       "    </tr>\n",
       "    <tr>\n",
       "      <th>7</th>\n",
       "      <td>2</td>\n",
       "      <td>[mir-873, mir-876]</td>\n",
       "      <td>0.000000</td>\n",
       "      <td>0</td>\n",
       "      <td>NaN</td>\n",
       "    </tr>\n",
       "    <tr>\n",
       "      <th>9</th>\n",
       "      <td>2</td>\n",
       "      <td>[mir-34c, mir-449a]</td>\n",
       "      <td>0.500000</td>\n",
       "      <td>2</td>\n",
       "      <td>0.500000</td>\n",
       "    </tr>\n",
       "    <tr>\n",
       "      <th>5</th>\n",
       "      <td>1</td>\n",
       "      <td>[h, s, a, -, m, i, r, -, 4, 8, 8]</td>\n",
       "      <td>0.000000</td>\n",
       "      <td>0</td>\n",
       "      <td>NaN</td>\n",
       "    </tr>\n",
       "    <tr>\n",
       "      <th>6</th>\n",
       "      <td>1</td>\n",
       "      <td>[h, s, a, -, m, i, r, -, 3, 4, 0]</td>\n",
       "      <td>0.000000</td>\n",
       "      <td>0</td>\n",
       "      <td>NaN</td>\n",
       "    </tr>\n",
       "    <tr>\n",
       "      <th>8</th>\n",
       "      <td>1</td>\n",
       "      <td>[h, s, a, -, m, i, r, -, 2, 1, 4]</td>\n",
       "      <td>0.000000</td>\n",
       "      <td>0</td>\n",
       "      <td>NaN</td>\n",
       "    </tr>\n",
       "  </tbody>\n",
       "</table>\n",
       "</div>"
      ]
     },
     "execution_count": 155,
     "metadata": {},
     "output_type": "execute_result"
    }
   ],
   "source": [
    "miRNA_groups_precision = []\n",
    "miRNA_groups_precision \n",
    "for cluster in network.miRNA_clusters_int:\n",
    "    miRNA_groups_precision.append((len(cluster), \n",
    "                                   get_miRNA_names(cluster, tgca_luad.mirna_list, miR_name=True),\n",
    "                                   precision_rate(candidate_miRNAs=get_miRNA_names(cluster, tgca_luad.mirna_list), \n",
    "                                                  validated_miRNAs=dbDEMC_luad_miRNAs),\n",
    "                                   len(set(get_miRNA_names(cluster, tgca_luad.mirna_list)).intersection(\n",
    "                                       get_miRNA_names(logistic_L1L2GL.beta.nonzero()[0], tgca_luad.mirna_list))),\n",
    "                                   precision_rate(candidate_miRNAs=set(get_miRNA_names(cluster, tgca_luad.mirna_list)).intersection(\n",
    "                                       get_miRNA_names(logistic_L1L2GL.beta.nonzero()[0], tgca_luad.mirna_list)), \n",
    "                                                  validated_miRNAs=dbDEMC_luad_miRNAs)\n",
    "                                   ))\n",
    "\n",
    "pandas.DataFrame(miRNA_groups_precision, columns=['Size of cluster', 'miRNA', 'precision to LUAD', '# selected in model', 'selected in model and in LUAD']).sort_values(by='Size of cluster', ascending=False)"
   ]
  },
  {
   "cell_type": "code",
   "execution_count": null,
   "metadata": {},
   "outputs": [],
   "source": [
    ""
   ]
  }
 ],
 "metadata": {
  "kernelspec": {
   "display_name": "Python 2",
   "language": "python",
   "name": "python2"
  },
  "language_info": {
   "codemirror_mode": {
    "name": "ipython",
    "version": 2.0
   },
   "file_extension": ".py",
   "mimetype": "text/x-python",
   "name": "python",
   "nbconvert_exporter": "python",
   "pygments_lexer": "ipython2",
   "version": "2.7.6"
  }
 },
 "nbformat": 4,
 "nbformat_minor": 0
}