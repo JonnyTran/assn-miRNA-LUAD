{
 "cells": [
  {
   "cell_type": "markdown",
   "metadata": {
    "collapsed": true
   },
   "source": [
    "## Finding differentialy expressed miRNA's between LUAD stages I, II, III, IV vs normal using Logit regression\n",
    "### Utilize Group Lasso with MISIM miRNA similarity data"
   ]
  },
  {
   "cell_type": "code",
   "execution_count": 2,
   "metadata": {},
   "outputs": [
    {
     "name": "stdout",
     "output_type": "stream",
     "text": [
      "The autoreload extension is already loaded. To reload it, use:\n  %reload_ext autoreload\n"
     ]
    }
   ],
   "source": [
    "# Necessary imports\n",
    "%load_ext autoreload\n",
    "%autoreload 2\\\n",
    "    \n",
    "import os\n",
    "import pandas\n",
    "import numpy as np\n",
    "import matplotlib.pyplot as plt\n",
    "\n",
    "from definitions import ROOT_DIR"
   ]
  },
  {
   "cell_type": "markdown",
   "metadata": {},
   "source": [
    "## Load normal and cancer miRNA expression data"
   ]
  },
  {
   "cell_type": "code",
   "execution_count": 3,
   "metadata": {},
   "outputs": [
    {
     "name": "stdout",
     "output_type": "stream",
     "text": [
      "mirna_tumor_df.shape (513, 1882) , nulls: 0\nmirna_normal_df.shape (46, 1882) , nulls: 0\nvalidated_miRNAs.shape (34, 2)\nnormal    46\nName: pathologic_stage, dtype: int64\nStage I      277\nStage II     121\nStage III     84\nStage IV      24\nName: pathologic_stage, dtype: int64\n"
     ]
    }
   ],
   "source": [
    "from definitions import ROOT_DIR\n",
    "\n",
    "# Load files into pandas data frames\n",
    "mirna_tumor_df = pandas.read_csv(os.path.join(ROOT_DIR, \"data/processed/miRNA/tumor_miRNA.csv\"))\n",
    "mirna_normal_df = pandas.read_csv(os.path.join(ROOT_DIR, \"data/processed/miRNA/normal_miRNA.csv\"))\n",
    "clinical_df = pandas.read_csv(os.path.join(ROOT_DIR, \"data/processed/clinical/clinical.csv\"))\n",
    "validated_miRNA_csv = pandas.read_csv(os.path.join(ROOT_DIR, 'data/external/validated_luad_miRNAs_miRCancer.csv'))\n",
    "\n",
    "# Print data frame shapes\n",
    "print \"mirna_tumor_df.shape\", mirna_tumor_df.shape, ', nulls:', mirna_tumor_df.isnull().sum().sum()\n",
    "print \"mirna_normal_df.shape\", mirna_normal_df.shape, ', nulls:', mirna_normal_df.isnull().sum().sum()\n",
    "print 'validated_miRNAs.shape', validated_miRNA_csv.shape\n",
    "\n",
    "# Merge normal and tumor miRNA expression profiles with clinical cancer stage data\n",
    "mirna_normal = pandas.merge(clinical_df[['patient_barcode', 'pathologic_stage']], mirna_normal_df, on='patient_barcode')\n",
    "mirna_normal['pathologic_stage'] = 'normal'\n",
    "mirna_tumor = pandas.merge(clinical_df[['patient_barcode', 'pathologic_stage']], mirna_tumor_df, on='patient_barcode')\n",
    "\n",
    "# Map stage IA to stage I, IB to I, etc. ...\n",
    "pathologic_stage_map = {'Stage IA': 'Stage I', 'Stage IB': 'Stage I', \n",
    "                        'Stage IIA': 'Stage II', 'Stage IIB': 'Stage II', \n",
    "                        'Stage IIIA': 'Stage III', 'Stage IIIB': 'Stage III'}\n",
    "mirna_tumor.replace({'pathologic_stage': pathologic_stage_map}, inplace=True)\n",
    "\n",
    "# Store list of all miRNA's in miRNA expression data\n",
    "mirna_list = list(mirna_tumor.columns)[2:]\n",
    "\n",
    "# Print quick overview of data\n",
    "print mirna_normal['pathologic_stage'].value_counts().sort_index(axis=0)\n",
    "print mirna_tumor['pathologic_stage'].value_counts().sort_index(axis=0)"
   ]
  },
  {
   "cell_type": "markdown",
   "metadata": {},
   "source": [
    "## Load normal & cancer Gene Expression data"
   ]
  },
  {
   "cell_type": "code",
   "execution_count": 4,
   "metadata": {},
   "outputs": [
    {
     "name": "stdout",
     "output_type": "stream",
     "text": [
      "(20530, 517)\n(20530, 61)\n"
     ]
    }
   ],
   "source": [
    "gene_exp_tumor_df = pandas.read_table(os.path.join(ROOT_DIR, 'data/processed/gene_expression/tumor/READ__illuminahiseq_rnaseqv2__GeneExp.txt'), \n",
    "                                      header=0, delimiter='\\t')\n",
    "gene_exp_normal_df = pandas.read_table(os.path.join(ROOT_DIR, 'data/processed/gene_expression/normal/READ__illuminahiseq_rnaseqv2__GeneExp.txt'), \n",
    "                                      header=0, delimiter='\\t')\n",
    "\n",
    "gene_exp_tumor_df.rename(columns=lambda x: x[:12], inplace=True)\n",
    "gene_exp_normal_df.rename(columns=lambda x: x[:12], inplace=True)\n",
    "\n",
    "print gene_exp_tumor_df.shape\n",
    "print gene_exp_normal_df.shape"
   ]
  },
  {
   "cell_type": "markdown",
   "metadata": {},
   "source": [
    "## Reshape gene expression data frames to have shape (patients x gene expression) "
   ]
  },
  {
   "cell_type": "code",
   "execution_count": 5,
   "metadata": {
    "collapsed": false
   },
   "outputs": [
    {
     "name": "stdout",
     "output_type": "stream",
     "text": [
      "gene_symbols 20502\ngene_exp_tumor_patients 515\ngene_exp_normal_patients 59\n(515, 20503)\n(59, 20503)\n"
     ]
    }
   ],
   "source": [
    "# Remove entries with unknown Gene Symbol\n",
    "gene_exp_tumor_df = gene_exp_tumor_df[gene_exp_tumor_df.GeneSymbol != '?']\n",
    "gene_exp_normal_df = gene_exp_normal_df[gene_exp_normal_df.GeneSymbol != '?']\n",
    "\n",
    "# Get list of all gene_symbols\n",
    "gene_symbols = list(gene_exp_tumor_df['GeneSymbol'])\n",
    "# Get list of tumor and normal patient_barcode\n",
    "gene_exp_tumor_patient_barcodes = list(gene_exp_tumor_df.columns)[2:]\n",
    "gene_exp_normal_patient_barcodes = list(gene_exp_normal_df.columns)[2:]\n",
    "\n",
    "# Drop EntrezID column\n",
    "gene_exp_tumor = gene_exp_tumor_df.drop(['EntrezID', 'GeneSymbol'], axis=1)\n",
    "gene_exp_normal = gene_exp_normal_df.drop(['EntrezID', 'GeneSymbol'], axis=1)\n",
    "\n",
    "# Reshaping data frame to have columns for GeneSymbols, and rows of patients\n",
    "gene_exp_tumor = gene_exp_tumor.T\n",
    "gene_exp_normal = gene_exp_normal.T\n",
    "gene_exp_tumor.columns = gene_symbols\n",
    "gene_exp_normal.columns = gene_symbols\n",
    "\n",
    "# Add column for patients barcode\n",
    "gene_exp_tumor['patient_barcode'] = gene_exp_tumor.index\n",
    "gene_exp_normal['patient_barcode'] = gene_exp_normal.index\n",
    "\n",
    "print \"gene_symbols\", len(gene_symbols)\n",
    "print \"gene_exp_tumor_patients\", len(gene_exp_tumor_patient_barcodes)\n",
    "print \"gene_exp_normal_patients\", len(gene_exp_normal_patient_barcodes)\n",
    "\n",
    "print gene_exp_tumor.shape\n",
    "print gene_exp_normal.shape"
   ]
  },
  {
   "cell_type": "markdown",
   "metadata": {},
   "source": [
    "## Filter samples with matched Gene Expression data and miRNA data\n",
    "## More data preprocessing"
   ]
  },
  {
   "cell_type": "code",
   "execution_count": 6,
   "metadata": {},
   "outputs": [
    {
     "name": "stdout",
     "output_type": "stream",
     "text": [
      "NaN            7\nStage I      275\nStage II     120\nStage III     84\nStage IV      24\nName: pathologic_stage, dtype: int64\nnormal    20\nName: pathologic_stage, dtype: int64\n"
     ]
    },
    {
     "name": "stdout",
     "output_type": "stream",
     "text": [
      "mirna_tumor (503, 1881) nulls: 0\ngene_exp_tumor (503, 20484) nulls: 0\nmirna_normal (20, 1881) nulls: 0\ngene_exp_normal (20, 20484) nulls: 0\n"
     ]
    }
   ],
   "source": [
    "# Merge normal and tumor miRNA expression profiles with clinical cancer stage data\n",
    "merged_tumor_patients = pandas.merge(gene_exp_tumor[['patient_barcode']], mirna_tumor, on='patient_barcode')[['patient_barcode', 'pathologic_stage']]\n",
    "merged_normal_patients = pandas.merge(gene_exp_normal[['patient_barcode']], mirna_normal, on='patient_barcode')[['patient_barcode', 'pathologic_stage']]\n",
    "\n",
    "# Print quick overview of data\n",
    "print merged_tumor_patients['pathologic_stage'].value_counts(dropna=False).sort_index(axis=0)\n",
    "print merged_normal_patients['pathologic_stage'].value_counts(dropna=False).sort_index(axis=0)\n",
    "\n",
    "# Drop NA\n",
    "merged_tumor_patients.dropna(inplace=True)\n",
    "merged_normal_patients.dropna(inplace=True)\n",
    "\n",
    "# Filter samples\n",
    "mirna_tumor = mirna_tumor[mirna_tumor['patient_barcode'].isin(merged_tumor_patients['patient_barcode'])]\n",
    "gene_exp_tumor = gene_exp_tumor[gene_exp_tumor['patient_barcode'].isin(merged_tumor_patients['patient_barcode'])]\n",
    "mirna_normal = mirna_normal[mirna_normal['patient_barcode'].isin(merged_normal_patients['patient_barcode'])]\n",
    "gene_exp_normal = gene_exp_normal[gene_exp_normal['patient_barcode'].isin(merged_normal_patients['patient_barcode'])]\n",
    "\n",
    "# Create label vector\n",
    "Y = pandas.concat([mirna_tumor, mirna_normal])['pathologic_stage']\n",
    "Y.replace({'pathologic_stage': {'Stage I': 'tumor', 'Stage II': 'tumor', 'Stage III': 'tumor', 'Stage IV': 'tumor'}}, inplace=True)\n",
    "n_tumor = mirna_tumor.shape[0]\n",
    "n_normal = mirna_normal.shape[0]\n",
    "\n",
    "# Drop categorical columns\n",
    "mirna_tumor.drop(['patient_barcode', 'pathologic_stage'], 1, inplace=True)\n",
    "gene_exp_tumor.drop(['patient_barcode'], 1, inplace=True)\n",
    "mirna_normal.drop(['patient_barcode', 'pathologic_stage'], 1, inplace=True)\n",
    "gene_exp_normal.drop(['patient_barcode'], 1, inplace=True)\n",
    "\n",
    "# Drop duplicate columns names (Gene symbols with same name)\n",
    "_, i = np.unique(gene_exp_tumor.columns, return_index=True)\n",
    "gene_exp_tumor = gene_exp_tumor.iloc[:, i]\n",
    "gene_exp_normal = gene_exp_normal.iloc[:, i]\n",
    "\n",
    "print \"mirna_tumor\", mirna_tumor.shape, 'nulls:', mirna_tumor.isnull().sum().sum()\n",
    "print \"gene_exp_tumor\", gene_exp_tumor.shape, 'nulls:', gene_exp_tumor.isnull().sum().sum()\n",
    "print \"mirna_normal\", mirna_normal.shape, 'nulls:', mirna_normal.isnull().sum().sum()\n",
    "print \"gene_exp_normal\", gene_exp_normal.shape, 'nulls:', gene_exp_normal.isnull().sum().sum()"
   ]
  },
  {
   "cell_type": "markdown",
   "metadata": {},
   "source": [
    "## Univariate feature selection via FDR"
   ]
  },
  {
   "cell_type": "code",
   "execution_count": 7,
   "metadata": {
    "collapsed": false
   },
   "outputs": [
    {
     "ename": "NameError",
     "evalue": "name 'mirna_new' is not defined",
     "traceback": [
      "\u001b[0;31m\u001b[0m",
      "\u001b[0;31mNameError\u001b[0mTraceback (most recent call last)",
      "\u001b[0;32m<ipython-input-7-27301e62954b>\u001b[0m in \u001b[0;36m<module>\u001b[0;34m()\u001b[0m\n\u001b[1;32m      9\u001b[0m \u001b[0mgen_exp_new\u001b[0m \u001b[0;34m=\u001b[0m \u001b[0mgene_exp_filter\u001b[0m\u001b[0;34m.\u001b[0m\u001b[0mfit_transform\u001b[0m\u001b[0;34m(\u001b[0m\u001b[0mX\u001b[0m\u001b[0;34m=\u001b[0m\u001b[0mpandas\u001b[0m\u001b[0;34m.\u001b[0m\u001b[0mconcat\u001b[0m\u001b[0;34m(\u001b[0m\u001b[0;34m[\u001b[0m\u001b[0mgene_exp_tumor\u001b[0m\u001b[0;34m,\u001b[0m \u001b[0mgene_exp_normal\u001b[0m\u001b[0;34m]\u001b[0m\u001b[0;34m)\u001b[0m\u001b[0;34m,\u001b[0m \u001b[0my\u001b[0m\u001b[0;34m=\u001b[0m\u001b[0mY\u001b[0m\u001b[0;34m)\u001b[0m\u001b[0;34m\u001b[0m\u001b[0m\n\u001b[1;32m     10\u001b[0m \u001b[0;34m\u001b[0m\u001b[0m\n\u001b[0;32m---> 11\u001b[0;31m \u001b[0;32mprint\u001b[0m \u001b[0mmirna_new\u001b[0m\u001b[0;34m.\u001b[0m\u001b[0mshape\u001b[0m\u001b[0;34m\u001b[0m\u001b[0m\n\u001b[0m\u001b[1;32m     12\u001b[0m \u001b[0;32mprint\u001b[0m \u001b[0mgen_exp_new\u001b[0m\u001b[0;34m.\u001b[0m\u001b[0mshape\u001b[0m\u001b[0;34m\u001b[0m\u001b[0m\n\u001b[1;32m     13\u001b[0m \u001b[0;31m# mirna_tumor = mirna_tumor[mirna_tumor.columns[mirna_filter.get_support(indices=True)]]\u001b[0m\u001b[0;34m\u001b[0m\u001b[0;34m\u001b[0m\u001b[0m\n",
      "\u001b[0;31mNameError\u001b[0m: name 'mirna_new' is not defined"
     ],
     "output_type": "error"
    }
   ],
   "source": [
    "from sklearn.feature_selection import SelectFdr, f_classif\n",
    "\n",
    "# Select the p-values for an estimated false discovery rate\n",
    "# FDR \n",
    "# mirna_filter = SelectFdr(f_classif, alpha=0.01)\n",
    "# mirna_new = mirna_filter.fit_transform(X=pandas.concat([mirna_tumor, mirna_normal]), y=Y)\n",
    "\n",
    "gene_exp_filter = SelectFdr(f_classif, alpha=0.01)\n",
    "gen_exp_new = gene_exp_filter.fit_transform(X=pandas.concat([gene_exp_tumor, gene_exp_normal]), y=Y)\n",
    "\n",
    "print mirna_new.shape\n",
    "print gen_exp_new.shape\n",
    "# mirna_tumor = mirna_tumor[mirna_tumor.columns[mirna_filter.get_support(indices=True)]]\n",
    "# mirna_normal = mirna_normal[mirna_normal.columns[mirna_filter.get_support(indices=True)]]\n",
    "gene_exp_tumor = gene_exp_tumor[gene_exp_tumor.columns[gene_exp_filter.get_support(indices=True)]]\n",
    "gene_exp_normal = gene_exp_normal[gene_exp_normal.columns[gene_exp_filter.get_support(indices=True)]]"
   ]
  },
  {
   "cell_type": "markdown",
   "metadata": {},
   "source": [
    "## Loading TargetScan database for predicted miRNA-targets interactions"
   ]
  },
  {
   "cell_type": "code",
   "execution_count": 7,
   "metadata": {},
   "outputs": [
    {
     "name": "stdout",
     "output_type": "stream",
     "text": [
      "(185330, 2)\n"
     ]
    }
   ],
   "source": [
    "# Load data frame from file\n",
    "targetScan_df = pandas.read_table(os.path.join(ROOT_DIR, 'data/external/TargetScan_Predicted_Targets_Info_default_predictions.tsv'), delimiter='\\t')\n",
    "targetScan_family_df = pandas.read_table(os.path.join(ROOT_DIR, 'data/external/TargetScan_miR_Family_Info.txt'), delimiter='\\t')\n",
    "\n",
    "# Select only homo sapiens miRNA-target pairs\n",
    "targetScan_df = targetScan_df[targetScan_df[\"Species ID\"] == 9606][[\"miR Family\", \"Gene Symbol\"]]\n",
    "targetScan_family_df = targetScan_family_df[targetScan_family_df['Species ID'] == 9606][['miR family', 'MiRBase ID']]\n",
    "\n",
    "# Use miRBase ID names\n",
    "targetScan_family_df.rename(columns={'miR family': 'miR Family'}, inplace=True)\n",
    "targetScan_df = pandas.merge(targetScan_df, targetScan_family_df, how='inner', on=\"miR Family\")\n",
    "targetScan_df = targetScan_df[[\"MiRBase ID\", \"Gene Symbol\"]]\n",
    "\n",
    "# Standardize miRNA names\n",
    "targetScan_df['MiRBase ID'] = targetScan_df['MiRBase ID'].str.lower()\n",
    "targetScan_df['MiRBase ID'] = targetScan_df['MiRBase ID'].str.replace(\"-3p.*|-5p.*\", \"\")\n",
    "targetScan_df.drop_duplicates(inplace=True)\n",
    "\n",
    "# Filter miRNA-target pairs to only miRNA's included in miRNA expression data, same for gene targets\n",
    "targetScan_df = targetScan_df[targetScan_df['MiRBase ID'].isin(mirna_list) & targetScan_df['Gene Symbol'].isin(gene_symbols)]\n",
    "print targetScan_df.shape"
   ]
  },
  {
   "cell_type": "markdown",
   "metadata": {},
   "source": [
    "## Build miRNA-target relationship network to from putative predicted miRNA-target pairs"
   ]
  },
  {
   "cell_type": "code",
   "execution_count": 8,
   "metadata": {
    "collapsed": true
   },
   "outputs": [
    {
     "name": "stdout",
     "output_type": "stream",
     "text": [
      "n_A 503\nn_B 20\n"
     ]
    },
    {
     "name": "stderr",
     "output_type": "stream",
     "text": [
      "src/models/miRNA_target_network.py:48: RuntimeWarning: invalid value encountered in double_scalars\n  ((n_B - 1) * np.std(miRNAs_normal[m]) * np.std(targets_normal[t]))\n"
     ]
    },
    {
     "name": "stderr",
     "output_type": "stream",
     "text": [
      "src/models/miRNA_target_network.py:44: RuntimeWarning: invalid value encountered in double_scalars\n  ((n_A - 1) * np.std(miRNAs_tumor[m]) * np.std(targets_tumor[t]))\n"
     ]
    }
   ],
   "source": [
    "from src.models.miRNA_target_network import miRNATargetNetwork as miRNATargetNet\n",
    "import networkx as nx\n",
    "\n",
    "network = miRNATargetNet(dys_threshold=0.6)\n",
    "network.train(miRNAs_tumor=mirna_tumor, targets_tumor=gene_exp_tumor,\n",
    "              miRNAs_normal=mirna_normal, targets_normal=gene_exp_normal,\n",
    "              putative_assocs=targetScan_df)\n",
    "# print nx.bipartite.sets(network.B)"
   ]
  },
  {
   "cell_type": "code",
   "execution_count": 9,
   "metadata": {
    "collapsed": true
   },
   "outputs": [
    {
     "name": "stdout",
     "output_type": "stream",
     "text": [
      "1881\n20484\nedges 2301\n"
     ]
    },
    {
     "name": "stderr",
     "output_type": "stream",
     "text": [
      "/opt/anaconda/lib/python2.7/site-packages/networkx/drawing/nx_pylab.py:126: MatplotlibDeprecationWarning: pyplot.hold is deprecated.\n    Future behavior will be consistent with the long-time default:\n    plot commands add elements without first clearing the\n    Axes and/or Figure.\n  b = plt.ishold()\n/opt/anaconda/lib/python2.7/site-packages/networkx/drawing/nx_pylab.py:138: MatplotlibDeprecationWarning: pyplot.hold is deprecated.\n    Future behavior will be consistent with the long-time default:\n    plot commands add elements without first clearing the\n    Axes and/or Figure.\n  plt.hold(b)\n/opt/anaconda/lib/python2.7/site-packages/matplotlib/__init__.py:917: UserWarning: axes.hold is deprecated. Please remove it from your matplotlibrc and/or style files.\n  warnings.warn(self.msg_depr_set % key)\n/opt/anaconda/lib/python2.7/site-packages/matplotlib/rcsetup.py:152: UserWarning: axes.hold is deprecated, will be removed in 3.0\n  warnings.warn(\"axes.hold is deprecated, will be removed in 3.0\")\n"
     ]
    },
    {
     "data": {
      "image/png": "[encoded data removed]",
      "text/plain": [
       "<matplotlib.figure.Figure at 0x7f4a43fe8610>"
      ]
     },
     "metadata": {},
     "output_type": "display_data"
    }
   ],
   "source": [
    "# miRNAs_nodes, targets_nodes = nx.bipartite.sets(network.B)\n",
    "miRNAs_nodes = set(n for n, d in network.B.nodes(data=True) if d['bipartite']==0)\n",
    "targets_nodes = set(network.B) - miRNAs_nodes\n",
    "print miRNAs_nodes.__len__()\n",
    "print targets_nodes.__len__()\n",
    "\n",
    "edges = network.B.edges()\n",
    "miRNAs_nodes_degrees = nx.bipartite.degrees(network.B, miRNAs_nodes)[1]\n",
    "targets_nodes_degrees = nx.bipartite.degrees(network.B, targets_nodes)[1]\n",
    "\n",
    "print \"edges\", len(edges)\n",
    "# print \"miRNAs_nodes_degrees\", miRNAs_nodes_degrees\n",
    "# print \"targets_nodes_degrees\", targets_nodes_degrees\n",
    "\n",
    "pos = dict()\n",
    "pos.update((n, (1, i)) for i, n in enumerate(miRNAs_nodes))  # put nodes from X at x=1\n",
    "pos.update((n, (2, i)) for i, n in enumerate(targets_nodes))  # put nodes from Y at x=2\n",
    "nx.draw(network.B, pos=pos)\n",
    "plt.figure(figsize=(10, 100))\n",
    "plt.show()"
   ]
  },
  {
   "cell_type": "markdown",
   "metadata": {},
   "source": [
    "## Assign miRNA's to groups from the miRNA-target bipartite graph obtained above\n",
    "The assumption used is that two miRNA's are in the same group, if they share the same target"
   ]
  },
  {
   "cell_type": "code",
   "execution_count": 10,
   "metadata": {
    "collapsed": true
   },
   "outputs": [
    {
     "name": "stdout",
     "output_type": "stream",
     "text": [
      "1881\n20484\n[1, 2, 3, 426, 426, 426, 237, 4, 5, 412, 6, 7, 9, 11, 12, 13, 14, 15, 16, 17, 422, 385, 428, 406, 19, 20, 21, 22, 23, 24, 25, 26, 27, 28, 29, 30, 31, 32, 33, 34, 35, 36, 37, 38, 39, 40, 41, 43, 44, 45, 420, 46, 47, 48, 49, 50, 51, 52, 53, 54, 55, 56, 57, 58, 59, 60, 61, 63, 64, 66, 67, 68, 69, 70, 71, 72, 73, 74, 42, 75, 76, 77, 78, 79, 80, 81, 82, 83, 84, 409, 86, 87, 88, 89, 90, 91, 92, 93, 94, 95, 96, 97, 98, 99, 100, 101, 102, 103, 407, 104, 105, 106, 107, 108, 109, 110, 111, 112, 113, 114, 115, 117, 118, 119, 120, 121, 122, 123, 125, 126, 127, 128, 129, 131, 132, 133, 134, 136, 137, 138, 139, 140, 141, 142, 143, 144, 145, 146, 147, 148, 149, 150, 151, 152, 153, 154, 155, 156, 157, 158, 159, 160, 161, 162, 163, 165, 430, 355, 166, 167, 168, 169, 170, 171, 172, 394, 173, 174, 175, 176, 405, 18, 380, 178, 179, 406, 180, 414, 428, 181, 427, 313, 182, 183, 407, 184, 185, 187, 188, 189, 190, 424, 409, 324, 191, 192, 424, 193, 194, 195, 196, 197, 198, 62, 199, 430, 130, 200, 201, 422, 203, 204, 205, 206, 419, 356, 430, 207, 208, 385, 209, 428, 210, 211, 8, 422, 267, 212, 213, 374, 214, 345, 215, 216, 217, 218, 219, 220, 420, 406, 18, 221, 222, 223, 224, 225, 355, 226, 227, 228, 230, 231, 232, 233, 234, 415, 428, 235, 236, 329, 420, 429, 238, 239, 240, 135, 241, 242, 243, 244, 85, 245, 247, 427, 427, 430, 248, 85, 249, 250, 251, 254, 255, 256, 10, 319, 420, 246, 354, 337, 257, 258, 259, 260, 261, 425, 419, 426, 413, 262, 263, 264, 266, 268, 269, 430, 334, 276, 270, 273, 275, 361, 277, 278, 279, 280, 427, 430, 405, 164, 281, 282, 283, 285, 287, 344, 414, 288, 289, 290, 291, 430, 384, 292, 293, 295, 296, 297, 298, 272, 299, 300, 429, 430, 301, 302, 409, 429, 337, 303, 304, 305, 306, 307, 308, 310, 312, 314, 315, 316, 317, 320, 321, 323, 325, 326, 328, 330, 363, 331, 333, 336, 338, 339, 340, 341, 342, 343, 347, 348, 311, 349, 350, 352, 353, 357, 359, 362, 365, 366, 367, 368, 369, 370, 372, 373, 375, 376, 377, 378, 379, 382, 383, 386, 387, 388, 389, 390, 392, 395, 396, 398, 399, 400, 401, 402, 403, 404, 408, 410, 411, 416, 417, 421, 431, 432, 433, 434, 435, 436, 437, 438, 439, 440, 441, 442, 443, 444, 445, 446, 447, 448, 449, 450, 451, 452, 453, 454, 455, 456, 457, 458, 459, 460, 461, 430, 462, 463, 464, 465, 466, 467, 468, 469, 470, 471, 472, 473, 474, 475, 476, 477, 478, 479, 480, 481, 124, 482, 483, 484, 274, 485, 486, 355, 429, 487, 488, 116, 407, 489, 286, 490, 491, 492, 493, 494, 495, 496, 497, 498, 499, 500, 501, 502, 503, 504, 505, 506, 351, 507, 508, 509, 510, 428, 511, 512, 513, 514, 515, 516, 517, 518, 519, 520, 521, 522, 523, 524, 525, 526, 527, 528, 529, 530, 531, 532, 533, 534, 535, 536, 537, 538, 539, 540, 541, 542, 543, 544, 545, 546, 547, 548, 549, 550, 551, 552, 553, 554, 555, 556, 557, 558, 559, 560, 561, 562, 563, 564, 565, 566, 405, 567, 568, 569, 570, 355, 571, 572, 271, 573, 426, 423, 574, 418, 371, 407, 575, 576, 358, 577, 322, 384, 578, 384, 579, 580, 581, 177, 582, 583, 584, 585, 186, 586, 405, 253, 8, 587, 588, 589, 590, 591, 592, 593, 594, 595, 596, 597, 598, 599, 600, 601, 602, 603, 604, 605, 606, 607, 608, 609, 610, 611, 612, 613, 614, 615, 616, 617, 618, 619, 620, 621, 622, 623, 624, 625, 626, 627, 628, 629, 630, 631, 632, 633, 634, 253, 327, 229, 635, 346, 636, 391, 393, 429, 637, 638, 639, 640, 641, 642, 643, 644, 645, 646, 647, 648, 649, 650, 651, 652, 653, 654, 655, 656, 657, 658, 659, 660, 661, 662, 663, 664, 665, 666, 667, 668, 669, 670, 671, 672, 673, 674, 675, 676, 363, 677, 678, 679, 680, 681, 682, 683, 684, 685, 686, 687, 688, 689, 690, 691, 692, 309, 693, 694, 695, 425, 696, 697, 698, 699, 700, 701, 702, 703, 704, 705, 706, 707, 708, 709, 710, 711, 712, 713, 714, 715, 716, 717, 718, 719, 720, 721, 722, 723, 724, 725, 726, 727, 728, 729, 730, 731, 732, 733, 734, 735, 736, 737, 738, 739, 740, 741, 742, 743, 744, 745, 746, 747, 748, 749, 750, 751, 752, 753, 754, 755, 756, 757, 758, 759, 760, 761, 762, 763, 764, 765, 766, 767, 768, 769, 770, 771, 772, 773, 774, 775, 776, 777, 778, 779, 780, 781, 782, 783, 784, 785, 786, 787, 788, 789, 790, 791, 792, 793, 794, 795, 796, 797, 798, 799, 800, 801, 802, 803, 804, 805, 806, 807, 808, 809, 810, 811, 337, 812, 813, 814, 815, 816, 817, 818, 819, 820, 821, 822, 823, 824, 825, 826, 827, 828, 829, 830, 831, 832, 833, 834, 835, 836, 837, 838, 265, 839, 840, 841, 842, 843, 844, 845, 846, 847, 848, 849, 850, 851, 852, 853, 854, 855, 856, 857, 858, 859, 860, 861, 862, 863, 430, 864, 414, 865, 866, 867, 868, 869, 870, 871, 872, 873, 874, 875, 876, 877, 878, 879, 880, 881, 882, 883, 884, 885, 886, 887, 888, 889, 890, 891, 892, 893, 894, 895, 896, 897, 898, 899, 900, 901, 902, 903, 904, 905, 906, 907, 908, 909, 910, 911, 912, 913, 397, 914, 915, 916, 917, 918, 919, 920, 921, 922, 923, 924, 925, 926, 927, 928, 929, 930, 931, 932, 933, 934, 935, 936, 937, 938, 939, 940, 941, 942, 943, 944, 945, 946, 947, 948, 949, 950, 951, 952, 953, 954, 955, 956, 957, 958, 959, 960, 961, 962, 963, 964, 965, 966, 967, 968, 969, 970, 971, 972, 973, 974, 975, 976, 977, 978, 979, 980, 981, 982, 983, 984, 985, 986, 987, 988, 989, 990, 991, 992, 993, 994, 995, 996, 997, 998, 999, 1000, 1001, 1002, 1003, 1004, 1005, 1006, 1007, 1008, 1009, 1010, 1011, 1012, 1013, 1014, 1015, 1016, 1017, 1018, 1019, 1020, 1021, 1022, 1023, 1024, 1025, 1026, 1027, 1028, 1029, 1030, 1031, 1032, 1033, 1034, 1035, 1036, 1037, 1038, 1039, 1040, 1041, 1042, 1043, 1044, 332, 1045, 1046, 1047, 1048, 1049, 65, 1050, 1051, 429, 415, 1052, 1053, 284, 1054, 1055, 381, 1056, 1057, 42, 1058, 1059, 1060, 1061, 1062, 1063, 1064, 1065, 1066, 1067, 1068, 1069, 391, 1070, 1071, 319, 1072, 1073, 1074, 426, 1075, 1076, 1077, 1078, 1079, 1080, 1081, 1082, 1083, 1084, 1085, 1086, 1087, 1088, 1089, 1090, 1091, 1092, 1093, 1094, 1095, 1096, 1097, 1098, 1099, 1100, 1101, 1102, 1103, 1104, 1105, 1106, 1107, 1108, 1109, 1110, 1111, 1112, 1113, 1114, 1115, 1116, 1117, 1118, 1119, 1120, 1121, 1122, 1123, 1124, 1125, 1126, 1127, 1128, 1129, 1130, 1131, 1132, 1133, 1134, 1135, 429, 1136, 429, 424, 335, 424, 424, 426, 1137, 1138, 1139, 1140, 1141, 1142, 1143, 1144, 1145, 1146, 426, 1147, 1148, 1149, 1150, 252, 1151, 1152, 1153, 1154, 1155, 1156, 1157, 1158, 1159, 1160, 1161, 1162, 1163, 1164, 1165, 1166, 1167, 1168, 1169, 1170, 1171, 1172, 1173, 1174, 1175, 1176, 1177, 1178, 1179, 1180, 1181, 1182, 1183, 1184, 1185, 1186, 1187, 1188, 1189, 1190, 1191, 1192, 1193, 1194, 1195, 1196, 1197, 1198, 1199, 1200, 1201, 1202, 1203, 1204, 1205, 1206, 1207, 1208, 1209, 1210, 1211, 1212, 1213, 1214, 1215, 1216, 1217, 1218, 1219, 1220, 1221, 1222, 1223, 1224, 1225, 1226, 1227, 1228, 1229, 1230, 1231, 1232, 1233, 1234, 1235, 1236, 1237, 1238, 1239, 1240, 1241, 1242, 1243, 1244, 1245, 1246, 1247, 1248, 1249, 1250, 1251, 1252, 1253, 1254, 1255, 1256, 1257, 1258, 1259, 1260, 1261, 1262, 1263, 1264, 1265, 1266, 1267, 1268, 1269, 1270, 1271, 1272, 1273, 1274, 1275, 1276, 1277, 1278, 1279, 1280, 1281, 1282, 1283, 1284, 1285, 1286, 1287, 1288, 1289, 1290, 1291, 1292, 1293, 1294, 1295, 1296, 1297, 1298, 1299, 1300, 1301, 1302, 1303, 1304, 1305, 1306, 1307, 1308, 1309, 1310, 1311, 1312, 1313, 1314, 1315, 1316, 1317, 1318, 1319, 1320, 1321, 1322, 1323, 430, 1324, 1325, 1326, 1327, 1328, 1329, 1330, 1331, 1332, 1333, 1334, 1335, 1336, 1337, 1338, 1339, 1340, 1341, 1342, 1343, 1344, 1345, 1346, 1347, 1348, 1349, 1350, 1351, 1352, 1353, 1354, 1355, 1356, 1357, 1358, 1359, 1360, 1361, 1362, 1363, 1364, 1365, 1366, 1367, 1368, 1369, 1370, 1371, 1372, 1373, 1374, 1375, 1376, 1377, 1378, 1379, 1380, 1381, 1382, 1383, 1384, 1385, 1386, 1387, 1388, 1389, 1390, 1391, 1392, 1393, 1394, 1395, 1396, 1397, 1398, 1399, 1400, 1401, 1402, 1403, 1404, 1405, 1406, 1407, 1408, 1409, 1410, 1411, 1412, 1413, 1414, 1415, 1416, 1417, 1418, 1419, 1420, 1421, 1422, 1423, 1424, 202, 1425, 1426, 1427, 1428, 1429, 1430, 1431, 1432, 1433, 1434, 1435, 1436, 1437, 1438, 1439, 1440, 1441, 1442, 1443, 1444, 1445, 405, 1446, 1447, 1448, 1449, 1450, 1451, 1452, 1453, 1454, 1455, 1456, 318, 1457, 360, 1458, 1459, 1460, 1461, 1462, 1463, 1464, 1465, 1466, 1467, 1468, 1469, 1470, 1471, 1472, 1473, 1474, 1475, 1476, 1477, 1478, 1479, 1480, 1481, 1482, 1483, 1484, 1485, 1486, 1487, 1488, 1489, 1490, 1491, 1492, 1493, 1494, 1495, 1496, 1497, 1498, 1499, 1500, 1501, 1502, 1503, 1504, 1505, 1506, 1507, 1508, 1509, 1510, 1511, 1512, 1513, 1514, 364, 1515, 1516, 1517, 1518, 1519, 1520, 1521, 1522, 1523, 1524, 1525, 1526, 1527, 1528, 1529, 1530, 1531, 1532, 1533, 1534, 1535, 1536, 1537, 1538, 1539, 1540, 1541, 1542, 1543, 1544, 1545, 1546, 1547, 1548, 1549, 1550, 1551, 1552, 1553, 1554, 1555, 1556, 1557, 1558, 397, 1559, 1560, 1561, 1562, 1563, 1564, 1565, 1566, 1567, 1568, 1569, 1570, 1571, 1572, 1573, 1574, 1575, 1576, 1577, 1578, 1579, 1580, 1581, 1582, 1583, 1584, 1585, 1586, 1587, 1588, 428, 1589, 1590, 1591, 1592, 1593, 1594, 1595, 1596, 1597, 1598, 1599, 1600, 1601, 1602, 1603, 1604, 1605, 1606, 1607, 1608, 1609, 1610, 1611, 1612, 1613, 1614, 1615, 1616, 1617, 1618, 1619, 1620, 1621, 1622, 1623, 1624, 1625, 1626, 1627, 1628, 1629, 1630, 1631, 1632, 1633, 1634, 1635, 1636, 1637, 1638, 1639, 1640, 1641, 1642, 1643, 1644, 1645, 1646, 1647, 1648, 1649, 1650, 1651, 1652, 1653, 1654, 1655, 1656, 1657, 1658, 1659, 1660, 1661, 1662, 1663, 1664, 1665, 1666, 1667, 1668, 1669, 1670, 1671, 1672, 1673, 1674, 1675, 1676, 1677, 1678, 1679, 1680, 1681, 124, 1682, 1683, 1684, 1685, 1686, 1687, 1688, 1689, 1690, 1691, 1692, 1693, 1694, 1695, 1696, 1697, 1698, 1699, 1700, 1701, 1702, 1703, 1704, 1705, 1706, 1707, 1708, 1709, 1710, 1711, 1712, 1713, 1714, 1715, 1716, 1717, 1718, 1719, 1720, 1721, 1722, 1723, 1724, 1725, 1726, 1727, 1728, 1729, 1730, 1731, 1732, 1733, 1734, 1735, 1736, 1737, 1738, 1739, 1740, 1741, 1742, 1743, 1744, 1745, 1746, 1747, 1748, 1749, 1750, 1751, 1752, 1753, 1754, 1755, 1756, 1757, 1758, 1759, 294, 1760, 1761, 1762, 429, 1763, 1764, 1765, 1766, 1767, 1768, 1769, 1770, 1771, 1772, 1773, 1774, 1775, 1776, 1777, 1778, 1779, 1780, 1781, 429, 1782, 1783, 1784, 1785, 1786, 1787, 1788, 1789, 1790, 1791, 1792, 1793, 1794, 1795, 1796, 1797, 1798, 1799, 1800, 430, 429, 1801, 1802]\n"
     ]
    }
   ],
   "source": [
    "from collections import OrderedDict\n",
    "print len(miRNAs_nodes_degrees)\n",
    "print len(targets_nodes_degrees)\n",
    "\n",
    "import operator\n",
    "sorted_miRNAs_nodes_degrees = sorted(miRNAs_nodes_degrees.items(), key=operator.itemgetter(1), reverse=False)\n",
    "sorted_targets_nodes_degrees = sorted(targets_nodes_degrees.items(), key=operator.itemgetter(1), reverse=False)\n",
    "\n",
    "mirna_groups = OrderedDict((miRNA, -1) for miRNA in mirna_list)\n",
    "\n",
    "group_number = 1\n",
    "# For every target, find its neighbor miRNA's, which forms a group.\n",
    "# The miRNA's in a groups are then assigned a corresponding number\n",
    "for (target, n_neighbors) in sorted_targets_nodes_degrees:\n",
    "    if n_neighbors > 1:\n",
    "        miRNA_group = network.B.neighbors(target)\n",
    "        for miRNA in miRNA_group:\n",
    "            mirna_groups[miRNA] = group_number\n",
    "        group_number += 1\n",
    "\n",
    "groups_unique = np.unique(mirna_groups.values())\n",
    "group_number = 1\n",
    "\n",
    "# Ensure the rest of the miRNAs not in groups to have unique group number, starting from 1\n",
    "for miRNA, group_assg in mirna_groups.iteritems():\n",
    "    if group_assg == -1:\n",
    "        while group_number in groups_unique:\n",
    "            group_number += 1\n",
    "        mirna_groups[miRNA] = group_number\n",
    "        group_number += 1\n",
    "    \n",
    "print mirna_groups.values()\n",
    "# print group_number\n",
    "\n",
    "# print map(network.B.neighbors, network.B.neighbors(sorted_miRNAs_nodes_degrees[0][0]))"
   ]
  },
  {
   "cell_type": "code",
   "execution_count": 11,
   "metadata": {
    "collapsed": true
   },
   "outputs": [
    {
     "data": {
      "text/plain": [
       "0      1\n1      1\n2      1\n3      1\n4      1\n5      1\n7      1\n8      1\n9      1\n10     1\n11     1\n12     1\n13     1\n14     1\n15     1\n16     1\n17     1\n18     1\n19     1\n20     1\n21     1\n22     1\n23     1\n24     1\n25     1\n26     1\n27     1\n28     1\n29     1\n30     1\n      ..\n502    1\n503    1\n505    1\n506    1\n507    1\n508    1\n509    1\n510    1\n511    1\n512    1\n0     -1\n3     -1\n6     -1\n8     -1\n9     -1\n13    -1\n14    -1\n16    -1\n21    -1\n22    -1\n23    -1\n27    -1\n30    -1\n32    -1\n34    -1\n35    -1\n38    -1\n39    -1\n40    -1\n41    -1\nName: pathologic_stage, dtype: int64"
      ]
     },
     "execution_count": 11,
     "metadata": {},
     "output_type": "execute_result"
    }
   ],
   "source": [
    "pathologic_stage_map = {'normal': -1,'Stage I': 1, 'Stage IA': 1, 'Stage IB': 1,\n",
    "                        'Stage II': 1, 'Stage IIA': 1, 'Stage IIB': 1,\n",
    "                        'Stage III': 1, 'Stage IIIA': 1, 'Stage IIIB': 1,\n",
    "                        'Stage IV': 1}\n",
    "y = Y.replace(pathologic_stage_map)\n",
    "y"
   ]
  },
  {
   "cell_type": "markdown",
   "metadata": {
    "collapsed": true
   },
   "source": [
    "## Run Group LASSO"
   ]
  },
  {
   "cell_type": "code",
   "execution_count": 61,
   "metadata": {
    "collapsed": false
   },
   "outputs": [
    {
     "name": "stdout",
     "output_type": "stream",
     "text": [
      "<type 'numpy.ndarray'> (523, 1881)\n<type 'numpy.ndarray'> (523, 1)\n<type 'numpy.ndarray'> (1881, 1)\n\nMulti-logistic + Group Lasso L2 with variable size of groups\n{'groups': array([   1,    2,    3, ...,  429, 1801, 1802], dtype=int32), 'loss': 'weighted-logistic', 'regul': 'group-lasso-l2', 'verbose': True, 'numThreads': -1, 'max_it': 500, 'pos': False, 'intercept': False, 'L0': 0.1, 'tol': 0.001, 'lambda1': 0.01, 'it0': 10}\n"
     ]
    }
   ],
   "source": [
    "from src.models.GroupLasso import group_lasso\n",
    "import spams\n",
    "# coefs = group_lasso(pandas.concat([mirna_tumor, mirna_normal]), Y, alpha=0.5, groups=np.array(mirna_groups.values()), max_iter=100)\n",
    "# pandas.concat([mirna_tumor, mirna_normal]).shape\n",
    "# Y.shape\n",
    "# np.array(mirna_groups.values()).shape\n",
    "\n",
    "myfloat = np.float\n",
    "param = {'numThreads': -1, 'verbose': True,\n",
    "         'lambda1': 0.05, 'it0': 10, 'max_it': 500,\n",
    "         'L0': 0.1, 'tol': 1e-3, 'intercept': False,\n",
    "         'pos': False}\n",
    "\n",
    "X = np.asanyarray(pandas.concat([mirna_tumor, mirna_normal]), dtype=myfloat)\n",
    "X = spams.normalize(X)\n",
    "y = np.array(y, dtype=myfloat)\n",
    "y = np.reshape(y, [y.shape[0], 1])\n",
    "W0 = np.zeros((X.shape[1], y.shape[1]), dtype=myfloat, order=\"F\")\n",
    "\n",
    "print type(X), X.shape\n",
    "print type(y), y.shape\n",
    "print type(W0), W0.shape\n",
    "\n",
    "print '\\nMulti-logistic + Group Lasso L2 with variable size of groups'\n",
    "param['loss'] = 'weighted-logistic'\n",
    "param['regul'] = 'group-lasso-l2'\n",
    "param2 = param.copy()\n",
    "param2['groups'] = np.array(mirna_groups.values(), dtype=np.int32)\n",
    "# param2['groups'] = np.array(np.arange(1881)+1, dtype=np.int32)\n",
    "param2['lambda1'] = 0.01\n",
    "print param2\n",
    "W, optim_info = spams.fistaFlat(y, X, W0, True, **param2)"
   ]
  },
  {
   "cell_type": "code",
   "execution_count": 62,
   "metadata": {
    "collapsed": true
   },
   "outputs": [
    {
     "name": "stdout",
     "output_type": "stream",
     "text": [
      "non-zero 29\nloss 32.5259167415\n[('hsa-let-7b', array([-2.85801005])), ('hsa-let-7c', array([-4.15097564])), ('hsa-let-7d', array([-4.43714661])), ('hsa-mir-130a', array([ 4.30781942])), ('hsa-mir-133b', array([-1.86054289])), ('hsa-mir-143', array([-7.35699753])), ('hsa-mir-144', array([-3.50174513])), ('hsa-mir-15a', array([ 5.83918782])), ('hsa-mir-182', array([ 8.97865781])), ('hsa-mir-20a', array([ 1.29759129])), ('hsa-mir-20b', array([ 0.52202859])), ('hsa-mir-21', array([ 11.96702164])), ('hsa-mir-222', array([ 1.23359424])), ('hsa-mir-23a', array([ 3.26879656])), ('hsa-mir-2681', array([-0.00026513])), ('hsa-mir-26b', array([ 0.66500432])), ('hsa-mir-27a', array([ 3.67367661])), ('hsa-mir-301a', array([ 5.2468422])), ('hsa-mir-30b', array([ 1.55551959])), ('hsa-mir-32', array([ 2.05013425])), ('hsa-mir-372', array([ 0.20475158])), ('hsa-mir-422a', array([-0.0005757])), ('hsa-mir-4529', array([-2.21025485])), ('hsa-mir-454', array([ 6.48633642])), ('hsa-mir-505', array([-0.21997852])), ('hsa-mir-520f', array([ 0.00131112])), ('hsa-mir-526b', array([-0.18413026])), ('hsa-mir-590', array([ 6.50454754])), ('hsa-mir-96', array([ 6.81382042]))]\n"
     ]
    }
   ],
   "source": [
    "print 'non-zero', len(W.nonzero()[0])\n",
    "print 'loss', np.sqrt(np.sum(np.square(np.dot(X, W) - y)))\n",
    "print [(mirna_list[i], W[i]) for i in W.nonzero()[0]]"
   ]
  },
  {
   "cell_type": "code",
   "execution_count": 56,
   "metadata": {},
   "outputs": [
    {
     "name": "stdout",
     "output_type": "stream",
     "text": [
      "non-zero 16\nloss 88.2261185107\n[('hsa-mir-10a', array([ 0.00100229])), ('hsa-mir-130a', array([ 5.56136891])), ('hsa-mir-15a', array([ 8.85844108])), ('hsa-mir-182', array([ 20.92991451])), ('hsa-mir-20a', array([ 0.00302463])), ('hsa-mir-20b', array([ 0.00081239])), ('hsa-mir-21', array([ 33.68589129])), ('hsa-mir-27a', array([ 1.62334161])), ('hsa-mir-301a', array([ 11.51897146])), ('hsa-mir-301b', array([ 0.00093449])), ('hsa-mir-372', array([ 0.00087512])), ('hsa-mir-425', array([ 0.00137275])), ('hsa-mir-454', array([ 11.16583146])), ('hsa-mir-590', array([ 14.86128546])), ('hsa-mir-93', array([ 0.00207631])), ('hsa-mir-96', array([ 14.41086729]))]\n"
     ]
    }
   ],
   "source": [
    "print 'non-zero', len(W.nonzero()[0])\n",
    "print 'loss', np.sqrt(np.sum(np.square(np.dot(X, W) - y)))\n",
    "print [(mirna_list[i], W[i]) for i in W.nonzero()[0]]"
   ]
  },
  {
   "cell_type": "markdown",
   "metadata": {},
   "source": [
    "## Loading DIANA-TarBase database for experimentally validated miRNA-targets interactions"
   ]
  },
  {
   "cell_type": "code",
   "execution_count": 53,
   "metadata": {
    "collapsed": true
   },
   "outputs": [
    {
     "data": {
      "text/plain": [
       "array(['hsa-let-7a-1', 'hsa-let-7a-2', 'hsa-let-7a-3', 'hsa-let-7b',\n       'hsa-let-7c', 'hsa-let-7d', 'hsa-let-7e', 'hsa-let-7f-1',\n       'hsa-let-7f-2', 'hsa-let-7g', 'hsa-let-7i', 'hsa-mir-101-1',\n       'hsa-mir-106a', 'hsa-mir-124-1', 'hsa-mir-124-2', 'hsa-mir-124-3',\n       'hsa-mir-125a', 'hsa-mir-125b-1', 'hsa-mir-126', 'hsa-mir-128-2',\n       'hsa-mir-132', 'hsa-mir-140', 'hsa-mir-143', 'hsa-mir-145',\n       'hsa-mir-146a', 'hsa-mir-146b', 'hsa-mir-150', 'hsa-mir-155',\n       'hsa-mir-17', 'hsa-mir-181c', 'hsa-mir-183', 'hsa-mir-18a',\n       'hsa-mir-191', 'hsa-mir-192', 'hsa-mir-197', 'hsa-mir-198',\n       'hsa-mir-199a-1', 'hsa-mir-199b', 'hsa-mir-19a', 'hsa-mir-19b-1',\n       'hsa-mir-203', 'hsa-mir-205', 'hsa-mir-20a', 'hsa-mir-21',\n       'hsa-mir-210', 'hsa-mir-212', 'hsa-mir-214', 'hsa-mir-216a',\n       'hsa-mir-216b', 'hsa-mir-218-2', 'hsa-mir-219-1', 'hsa-mir-223',\n       'hsa-mir-224', 'hsa-mir-24-2', 'hsa-mir-26a-1', 'hsa-mir-27b',\n       'hsa-mir-29a', 'hsa-mir-29b-1', 'hsa-mir-29b-2', 'hsa-mir-29c',\n       'hsa-mir-30a', 'hsa-mir-30b', 'hsa-mir-30c-1', 'hsa-mir-30c-2',\n       'hsa-mir-30d', 'hsa-mir-30e', 'hsa-mir-32', 'hsa-mir-33a',\n       'hsa-mir-33b', 'hsa-mir-34a', 'hsa-mir-34b', 'hsa-mir-34c',\n       'hsa-mir-9-1', 'hsa-mir-9-2', 'hsa-mir-92a-1', 'hsa-mir-9-3',\n       'hsa-mir-95', 'hsa-mir-1-1', 'hsa-mir-1-2', 'hsa-mir-196a-2',\n       'hsa-mir-142', 'hsa-mir-181a-1', 'hsa-mir-181a-2', 'hsa-mir-136',\n       'hsa-mir-376a-1', 'hsa-mir-376a-2', 'hsa-mir-31', 'hsa-mir-486',\n       'hsa-mir-499a', 'hsa-mir-185', 'hsa-mir-98', 'hsa-mir-93',\n       'hsa-mir-18b', 'hsa-mir-103a-1', 'hsa-mir-103a-2', 'hsa-mir-107',\n       'hsa-mir-148a', 'hsa-mir-133b', 'hsa-mir-629', 'hsa-mir-181b-1',\n       'hsa-mir-181b-2', 'hsa-mir-182', 'hsa-mir-301a', 'hsa-mir-338',\n       'hsa-mir-186', 'hsa-mir-206', 'hsa-mir-497', 'hsa-mir-638',\n       'hsa-mir-200a', 'hsa-mir-200b', 'hsa-mir-200c', 'hsa-mir-222',\n       'hsa-mir-101-2', 'hsa-mir-375', 'hsa-mir-26b', 'hsa-mir-96',\n       'hsa-mir-133a-1', 'hsa-mir-100', 'hsa-mir-330', 'hsa-mir-494',\n       'hsa-mir-221', 'hsa-mir-103b-1', 'hsa-mir-103b-2', 'hsa-mir-365a',\n       'hsa-mir-365b', 'hsa-mir-134', 'hsa-mir-193a', 'hsa-mir-127',\n       'hsa-mir-25', 'hsa-mir-520h', 'hsa-mir-542', 'hsa-mir-26a-2',\n       'hsa-mir-22', 'hsa-mir-10b', 'hsa-mir-381', 'hsa-mir-513a-1',\n       'hsa-mir-513a-2', 'hsa-mir-23a', 'hsa-mir-1297', 'hsa-mir-511-1',\n       'hsa-mir-511-2', 'hsa-mir-27a', 'hsa-mir-574', 'hsa-mir-7-1',\n       'hsa-mir-7-2', 'hsa-mir-7-3', 'hsa-mir-326', 'hsa-mir-196a-1',\n       'hsa-mir-137', 'hsa-mir-335', 'hsa-mir-138-1', 'hsa-mir-138-2',\n       'hsa-mir-487b', 'hsa-mir-135a-1', 'hsa-mir-135a-2', 'hsa-mir-135b',\n       'hsa-mir-29b'], dtype=object)"
      ]
     },
     "execution_count": 53,
     "metadata": {},
     "output_type": "execute_result"
    }
   ],
   "source": [
    "# Load data frame from file\n",
    "HMDD_df = pandas.read_table(os.path.join(ROOT_DIR, 'data/external/HMDD_miRNA-disease.txt'), delimiter='\\t', header=-1)\n",
    "\n",
    "# # Select only homo sapiens miRNA-target pairs\n",
    "HMDD_df = HMDD_df[HMDD_df[2] == \"Lung Neoplasms\"]\n",
    "\n",
    "lung_neoplasm_miRNAs = HMDD_df[1].unique()\n",
    "lung_neoplasm_miRNAs"
   ]
  },
  {
   "cell_type": "code",
   "execution_count": 153,
   "metadata": {},
   "outputs": [
    {
     "data": {
      "text/plain": [
       "1881"
      ]
     },
     "execution_count": 153,
     "metadata": {},
     "output_type": "execute_result"
    }
   ],
   "source": [
    "len(mirna_list)"
   ]
  },
  {
   "cell_type": "code",
   "execution_count": 212,
   "metadata": {},
   "outputs": [
    {
     "name": "stdout",
     "output_type": "stream",
     "text": [
      "SPPL3 hsa-mir-369\n"
     ]
    },
    {
     "name": "stderr",
     "output_type": "stream",
     "text": [
      "[autoreload of _pytest.assertion failed: Traceback (most recent call last):\n  File \"/opt/anaconda/lib/python2.7/site-packages/IPython/extensions/autoreload.py\", line 247, in check\n    superreload(m, reload, self.old_objects)\nImportError: cannot import name util\n]\n[autoreload of py.test.cmdline failed: Traceback (most recent call last):\n  File \"/opt/anaconda/lib/python2.7/site-packages/IPython/extensions/autoreload.py\", line 247, in check\n    superreload(m, reload, self.old_objects)\nImportError: No module named cmdline\n]\n"
     ]
    },
    {
     "ename": "NameError",
     "evalue": "name 'miRecords_df' is not defined",
     "traceback": [
      "\u001b[0;31m\u001b[0m",
      "\u001b[0;31mNameError\u001b[0mTraceback (most recent call last)",
      "\u001b[0;32m<ipython-input-212-73141c8de670>\u001b[0m in \u001b[0;36m<module>\u001b[0;34m()\u001b[0m\n\u001b[1;32m      8\u001b[0m     \u001b[0;32melse\u001b[0m\u001b[0;34m:\u001b[0m\u001b[0;34m\u001b[0m\u001b[0m\n\u001b[1;32m      9\u001b[0m         validated_edges = pandas.concat([validated_edges,\n\u001b[0;32m---> 10\u001b[0;31m                                          miRecords_df[(miRecords_df[\"miRNA_mature_ID\"] == v2) &\n\u001b[0m\u001b[1;32m     11\u001b[0m                                                       (miRecords_df[\"Target gene_name\"] == v1)]])\n\u001b[1;32m     12\u001b[0m \u001b[0;34m\u001b[0m\u001b[0m\n",
      "\u001b[0;31mNameError\u001b[0m: name 'miRecords_df' is not defined"
     ],
     "output_type": "error"
    }
   ],
   "source": [
    "validated_edges = pandas.DataFrame()\n",
    "for (v1, v2) in edges:\n",
    "    print v1, v2\n",
    "    if network.B.node[v1]['bipartite'] == 0:  # if v1 is miRNA\n",
    "        validated_edges = pandas.concat([validated_edges,\n",
    "                                         miRecords_df[(miRecords_df[\"miRNA_mature_ID\"] == v1) &\n",
    "                                                      (miRecords_df[\"Target gene_name\"] == v2)]])\n",
    "    else:\n",
    "        validated_edges = pandas.concat([validated_edges,\n",
    "                                         miRecords_df[(miRecords_df[\"miRNA_mature_ID\"] == v2) &\n",
    "                                                      (miRecords_df[\"Target gene_name\"] == v1)]])\n",
    "\n",
    "print float(len(validated_edges))/float(len(edges))"
   ]
  },
  {
   "cell_type": "code",
   "execution_count": 114,
   "metadata": {
    "collapsed": true
   },
   "outputs": [
    {
     "data": {
      "image/png": "[encoded data removed]",
      "text/plain": [
       "<matplotlib.figure.Figure at 0x7fba80320290>"
      ]
     },
     "metadata": {},
     "output_type": "display_data"
    }
   ],
   "source": [
    "# plt.hist(miRNAs_nodes_degrees[1].values())\n",
    "plt.hist(targets_nodes_degrees[0].values(), bins=30)\n",
    "plt.ylabel('counts of nodes')\n",
    "plt.xlabel('number of degrees')\n",
    "plt.show()"
   ]
  },
  {
   "cell_type": "code",
   "execution_count": 106,
   "metadata": {
    "collapsed": true
   },
   "outputs": [
    {
     "data": {
      "text/plain": [
       "[0,\n 0,\n 0,\n 0,\n 0,\n 0,\n 0,\n 0,\n 0,\n 0,\n 0,\n 0,\n 0,\n 2,\n 2,\n 0,\n 0,\n 9,\n 0,\n 0,\n 0,\n 0,\n 0,\n 0,\n 0,\n 0,\n 0,\n 0,\n 0,\n 0,\n 0,\n 0,\n 0,\n 0,\n 0,\n 0,\n 0,\n 0,\n 0,\n 0,\n 0,\n 0,\n 0,\n 0,\n 0,\n 0,\n 0,\n 0,\n 0,\n 0,\n 0,\n 0,\n 0,\n 0,\n 0,\n 0,\n 0,\n 0,\n 0,\n 0,\n 0,\n 0,\n 0,\n 0,\n 2,\n 1,\n 0,\n 0,\n 0,\n 0,\n 0,\n 0,\n 0,\n 0,\n 0,\n 0,\n 0,\n 0,\n 0,\n 0,\n 0,\n 0,\n 0,\n 0,\n 0,\n 0,\n 0,\n 0,\n 0,\n 1,\n 1,\n 0,\n 0,\n 0,\n 22,\n 1,\n 0,\n 0,\n 22,\n 0,\n 0,\n 0,\n 0,\n 0,\n 0,\n 0,\n 0,\n 0,\n 7,\n 0,\n 4,\n 16,\n 17,\n 0,\n 0,\n 0,\n 0,\n 0,\n 0,\n 16,\n 0,\n 0,\n 0,\n 0,\n 0,\n 0,\n 0,\n 0,\n 4,\n 0,\n 0,\n 0,\n 0,\n 0,\n 0,\n 5,\n 0,\n 0,\n 0,\n 0,\n 0,\n 0,\n 0,\n 0,\n 2,\n 0,\n 48,\n 2,\n 0,\n 0,\n 0,\n 0,\n 0,\n 0,\n 0,\n 0,\n 0,\n 0,\n 0,\n 0,\n 0,\n 0,\n 0,\n 0,\n 0,\n 0,\n 0,\n 0,\n 0,\n 0,\n 0,\n 0,\n 5,\n 0,\n 0,\n 0,\n 7,\n 1,\n 3,\n 0,\n 0,\n 0,\n 1,\n 1,\n 0,\n 0,\n 37,\n 2,\n 0,\n 1,\n 0,\n 0,\n 0,\n 0,\n 0,\n 0,\n 0,\n 0,\n 0,\n 0,\n 0,\n 0,\n 0,\n 0,\n 0,\n 0,\n 0,\n 0,\n 0,\n 0,\n 0,\n 0,\n 0,\n 0,\n 11,\n 0,\n 1,\n 19,\n 0,\n 0,\n 0,\n 0,\n 0,\n 0,\n 0,\n 0,\n 0,\n 0,\n 0,\n 0,\n 0,\n 0,\n 0,\n 0,\n 0,\n 0,\n 0,\n 0,\n 4,\n 0,\n 0,\n 0,\n 0,\n 0,\n 0,\n 0,\n 0,\n 0,\n 0,\n 0,\n 0,\n 0,\n 0,\n 0,\n 0,\n 0,\n 0,\n 0,\n 0,\n 0,\n 0,\n 0,\n 0,\n 0,\n 0,\n 0,\n 0,\n 0,\n 0,\n 0,\n 0,\n 0,\n 5,\n 0,\n 0,\n 0,\n 0,\n 0,\n 0,\n 0,\n 0,\n 0,\n 0,\n 0,\n 0,\n 0,\n 0,\n 0,\n 0,\n 0,\n 0,\n 0,\n 0,\n 0,\n 0,\n 0,\n 0,\n 0,\n 0,\n 0,\n 0,\n 0,\n 0,\n 0,\n 0,\n 0,\n 0,\n 1,\n 0,\n 0,\n 0,\n 0,\n 0,\n 0,\n 0,\n 0,\n 0,\n 0,\n 0,\n 0,\n 0,\n 0,\n 0,\n 0,\n 0,\n 0,\n 0,\n 0,\n 0,\n 0,\n 0,\n 0,\n 0,\n 0,\n 0,\n 0,\n 0,\n 6,\n 0,\n 0,\n 0,\n 0,\n 0,\n 0,\n 0,\n 0,\n 0,\n 0,\n 0,\n 0,\n 0,\n 0,\n 0,\n 0,\n 0,\n 0,\n 0,\n 0,\n 0,\n 0,\n 0,\n 0,\n 0,\n 0,\n 0,\n 0,\n 0,\n 0,\n 0,\n 0,\n 4,\n 0,\n 1,\n 0,\n 19,\n 18,\n 0,\n 0,\n 0,\n 0,\n 0,\n 0,\n 0,\n 0,\n 0,\n 0,\n 0,\n 0,\n 0,\n 0,\n 0,\n 0,\n 0,\n 0,\n 0,\n 0,\n 0,\n 1,\n 0,\n 0,\n 1,\n 1,\n 0,\n 0,\n 0,\n 0,\n 0,\n 0,\n 0,\n 0,\n 0,\n 0,\n 0,\n 0,\n 0,\n 1,\n 0,\n 0,\n 0,\n 0,\n 0,\n 2,\n 0,\n 0,\n 2,\n 0,\n 0,\n 0,\n 0,\n 0,\n 0,\n 0,\n 0,\n 0,\n 0,\n 0,\n 0,\n 0,\n 0,\n 0,\n 30,\n 4,\n 0,\n 0,\n 0,\n 0,\n 0,\n 0,\n 0,\n 0,\n 0,\n 0,\n 0,\n 0,\n 0,\n 0,\n 0,\n 0,\n 0,\n 0,\n 0,\n 0,\n 18,\n 0,\n 0,\n 0,\n 2,\n 0,\n 1,\n 6,\n 0,\n 0,\n 0,\n 40,\n 0,\n 0,\n 27,\n 0,\n 0,\n 0,\n 0,\n 0,\n 0,\n 0,\n 0,\n 0,\n 0,\n 0,\n 6,\n 0,\n 0,\n 0,\n 0,\n 0,\n 0,\n 0,\n 0,\n 0,\n 0,\n 0,\n 0,\n 0,\n 57,\n 0,\n 0,\n 0,\n 0,\n 0,\n 0,\n 0,\n 0,\n 0,\n 0,\n 0,\n 0,\n 0,\n 0,\n 0,\n 0,\n 0,\n 0,\n 0,\n 0,\n 0,\n 0,\n 0,\n 0,\n 0,\n 0,\n 0,\n 0,\n 0,\n 0,\n 0,\n 0,\n 0,\n 0,\n 0,\n 0,\n 0,\n 0,\n 0,\n 0,\n 0,\n 0,\n 0,\n 0,\n 0,\n 0,\n 40,\n 5,\n 0,\n 0,\n 0,\n 0,\n 0,\n 0,\n 0,\n 0,\n 0,\n 0,\n 0,\n 0,\n 0,\n 0,\n 0,\n 0,\n 0,\n 0,\n 0,\n 0,\n 17,\n 0,\n 0,\n 0,\n 0,\n 0,\n 0,\n 0,\n 0,\n 0,\n 0,\n 0,\n 0,\n 0,\n 0,\n 0,\n 0,\n 0,\n 0,\n 0,\n 0,\n 0,\n 0,\n 0,\n 0,\n 21,\n 8,\n 0,\n 1,\n 0,\n 0,\n 18,\n 3,\n 0,\n 10,\n 0,\n 9,\n 0,\n 0,\n 1,\n 0,\n 0,\n 30,\n 0,\n 0,\n 0,\n 0,\n 0,\n 3,\n 1,\n 0,\n 0,\n 5,\n 0,\n 0,\n 0,\n 0,\n 0,\n 0,\n 0,\n 0,\n 0,\n 0,\n 0,\n 0,\n 0,\n 0,\n 0,\n 0,\n 6,\n 0,\n 0,\n 0,\n 0,\n 0,\n 0,\n 0,\n 0,\n 0,\n 0,\n 0,\n 0,\n 7,\n 0,\n 0,\n 0,\n 0,\n 0,\n 0,\n 66,\n 0,\n 0,\n 0,\n 0,\n 0,\n 5,\n 0,\n 0,\n 0,\n 0,\n 0,\n 0,\n 0,\n 0,\n 0,\n 0,\n 0,\n 0,\n 0,\n 0,\n 0,\n 0,\n 0,\n 0,\n 0,\n 0,\n 0,\n 0,\n 0,\n 0,\n 0,\n 0,\n 0,\n 1,\n 0,\n 0,\n 0,\n 0,\n 0,\n 0,\n 0,\n 0,\n 0,\n 0,\n 0,\n 0,\n 0,\n 0,\n 0,\n 0,\n 0,\n 0,\n 0,\n 0,\n 0,\n 0,\n 0,\n 0,\n 0,\n 0,\n 0,\n 0,\n 0,\n 0,\n 0,\n 0,\n 5,\n 0,\n 0,\n 0,\n 0,\n 0,\n 0,\n 0,\n 0,\n 0,\n 0,\n 0,\n 0,\n 0,\n 0,\n 0,\n 0,\n 0,\n 0,\n 0,\n 0,\n 0,\n 0,\n 0,\n 0,\n 0,\n 0,\n 0,\n 0,\n 0,\n 0,\n 0,\n 0,\n 0,\n 0,\n 0,\n 0,\n 0,\n 0,\n 0,\n 0,\n 12,\n 0,\n 0,\n 0,\n 0,\n 0,\n 0,\n 0,\n 0,\n 0,\n 0,\n 0,\n 0,\n 0,\n 0,\n 0,\n 0,\n 0,\n 0,\n 0,\n 0,\n 0,\n 0,\n 0,\n 0,\n 0,\n 0,\n 0,\n 0,\n 0,\n 0,\n 0,\n 0,\n 0,\n 0,\n 2,\n 0,\n 0,\n 0,\n 0,\n 0,\n 0,\n 0,\n 0,\n 0,\n 0,\n 0,\n 0,\n 0,\n 0,\n 0,\n 0,\n 0,\n 0,\n 0,\n 0,\n 0,\n 0,\n 25,\n 0,\n 0,\n 0,\n 0,\n 0,\n 0,\n 0,\n 6,\n 0,\n 0,\n 0,\n 0,\n 0,\n 0,\n 0,\n 1,\n 0,\n 0,\n 0,\n 0,\n 0,\n 0,\n 0,\n 0,\n 0,\n 0,\n 0,\n 0,\n 0,\n 0,\n 0,\n 0,\n 0,\n 0,\n 0,\n 0,\n 0,\n 0,\n 0,\n 0,\n 1,\n 4,\n 0,\n 8,\n 3,\n 0,\n 0,\n 0,\n 0,\n 0,\n 0,\n 9,\n 0,\n 0,\n 0,\n 0,\n 0,\n 0,\n 0,\n 0,\n 0,\n 0,\n 0,\n 0,\n 0,\n 0,\n 0,\n 0,\n 0,\n 0,\n 2,\n 0,\n 0,\n 0,\n 0,\n 0,\n 0,\n 0,\n 0,\n 0,\n 0,\n 0,\n 0,\n 0,\n 0,\n 0,\n 0,\n 0,\n 0,\n 0,\n 0,\n 34,\n 0,\n 0,\n 0,\n 0,\n 0,\n 31,\n 0,\n 45,\n 0,\n 0,\n 0,\n 0,\n 1,\n 2,\n 9,\n 0,\n 0,\n 0,\n 0,\n 0,\n 0,\n 0,\n 0,\n 0,\n 0,\n 0,\n 0,\n 0,\n 0,\n 0,\n 0,\n 0,\n 0,\n 0,\n 0,\n 0,\n 0,\n 0,\n 0,\n 0,\n 0,\n 0,\n 0,\n 0,\n 0,\n 0,\n 0,\n 0,\n 0,\n 0,\n 0,\n 0,\n 0,\n 0,\n 0,\n 0,\n 34,\n 0,\n 0,\n 0,\n 0,\n 0,\n 0,\n 0,\n 0,\n 0,\n 2,\n 0,\n 0,\n 0,\n 0,\n 0,\n 0,\n 0,\n 8,\n 3,\n 43,\n 44,\n 7,\n 0,\n 1,\n ...]"
      ]
     },
     "execution_count": 106,
     "metadata": {},
     "output_type": "execute_result"
    }
   ],
   "source": [
    ""
   ]
  },
  {
   "cell_type": "code",
   "execution_count": 1,
   "metadata": {
    "collapsed": false
   },
   "outputs": [],
   "source": [
    ""
   ]
  },
  {
   "cell_type": "code",
   "execution_count": null,
   "metadata": {},
   "outputs": [],
   "source": [
    ""
   ]
  }
 ],
 "metadata": {
  "kernelspec": {
   "display_name": "Python 2",
   "language": "python",
   "name": "python2"
  },
  "language_info": {
   "codemirror_mode": {
    "name": "ipython",
    "version": 2.0
   },
   "file_extension": ".py",
   "mimetype": "text/x-python",
   "name": "python",
   "nbconvert_exporter": "python",
   "pygments_lexer": "ipython2",
   "version": "2.7.6"
  }
 },
 "nbformat": 4,
 "nbformat_minor": 0
}