{
 "cells": [
  {
   "cell_type": "markdown",
   "metadata": {
    "collapsed": true
   },
   "source": [
    "## Finding differentialy expressed miRNA's between LUAD stages I, II, III, IV vs normal using Logit regression\n",
    "### Utilize Group Lasso with MISIM miRNA similarity data"
   ]
  },
  {
   "cell_type": "code",
   "execution_count": 1,
   "metadata": {
    "collapsed": true
   },
   "outputs": [
    {
     "name": "stdout",
     "output_type": "stream",
     "text": [
      "The autoreload extension is already loaded. To reload it, use:\n  %reload_ext autoreload\n"
     ]
    }
   ],
   "source": [
    "# Necessary imports\n",
    "%load_ext autoreload\n",
    "%autoreload 2\\\n",
    "    \n",
    "import os\n",
    "import pandas\n",
    "import numpy as np\n",
    "import matplotlib.pyplot as plt\n",
    "\n",
    "from definitions import ROOT_DIR"
   ]
  },
  {
   "cell_type": "code",
   "execution_count": 2,
   "metadata": {
    "collapsed": true
   },
   "outputs": [
    {
     "name": "stdout",
     "output_type": "stream",
     "text": [
      "mirna_tumor (506, 1883)\nmirna_normal (46, 1883)\ngene_tumor (515, 20486)\ngene_normal (59, 20486)\n"
     ]
    }
   ],
   "source": [
    "from src.data.make_dataset import TCGA_LUAD\n",
    "tgca_luad = TCGA_LUAD()\n",
    "# tgca_luad.gene_univariate_feature_selection(alpha=0.001)"
   ]
  },
  {
   "cell_type": "markdown",
   "metadata": {},
   "source": [
    "## Build all miRNA-gene associations"
   ]
  },
  {
   "cell_type": "code",
   "execution_count": 3,
   "metadata": {
    "collapsed": true
   },
   "outputs": [
    {
     "ename": "KeyboardInterrupt",
     "evalue": "",
     "traceback": [
      "\u001b[0;31m\u001b[0m",
      "\u001b[0;31mKeyboardInterrupt\u001b[0mTraceback (most recent call last)",
      "\u001b[0;32m<ipython-input-3-b51c6a7d5813>\u001b[0m in \u001b[0;36m<module>\u001b[0;34m()\u001b[0m\n\u001b[1;32m      2\u001b[0m \u001b[0;32mfor\u001b[0m \u001b[0mm\u001b[0m \u001b[0;32min\u001b[0m \u001b[0mtgca_luad\u001b[0m\u001b[0;34m.\u001b[0m\u001b[0mmirna_list\u001b[0m\u001b[0;34m:\u001b[0m\u001b[0;34m\u001b[0m\u001b[0m\n\u001b[1;32m      3\u001b[0m     \u001b[0;32mfor\u001b[0m \u001b[0mt\u001b[0m \u001b[0;32min\u001b[0m \u001b[0mtgca_luad\u001b[0m\u001b[0;34m.\u001b[0m\u001b[0mgene_symbols\u001b[0m\u001b[0;34m:\u001b[0m\u001b[0;34m\u001b[0m\u001b[0m\n\u001b[0;32m----> 4\u001b[0;31m         \u001b[0mall_mirna_gene_assc\u001b[0m\u001b[0;34m.\u001b[0m\u001b[0mappend\u001b[0m\u001b[0;34m(\u001b[0m\u001b[0;34m(\u001b[0m\u001b[0mm\u001b[0m\u001b[0;34m,\u001b[0m \u001b[0mt\u001b[0m\u001b[0;34m)\u001b[0m\u001b[0;34m)\u001b[0m\u001b[0;34m\u001b[0m\u001b[0m\n\u001b[0m\u001b[1;32m      5\u001b[0m \u001b[0;32mprint\u001b[0m \u001b[0mlen\u001b[0m\u001b[0;34m(\u001b[0m\u001b[0mall_mirna_gene_assc\u001b[0m\u001b[0;34m)\u001b[0m\u001b[0;34m\u001b[0m\u001b[0m\n\u001b[1;32m      6\u001b[0m \u001b[0mall_mirna_gene_assc\u001b[0m \u001b[0;34m=\u001b[0m \u001b[0mpandas\u001b[0m\u001b[0;34m.\u001b[0m\u001b[0mDataFrame\u001b[0m\u001b[0;34m(\u001b[0m\u001b[0mall_mirna_gene_assc\u001b[0m\u001b[0;34m,\u001b[0m \u001b[0mcolumns\u001b[0m\u001b[0;34m=\u001b[0m\u001b[0;34m[\u001b[0m\u001b[0;34m\"MiRBase ID\"\u001b[0m\u001b[0;34m,\u001b[0m \u001b[0;34m\"Gene Symbol\"\u001b[0m\u001b[0;34m]\u001b[0m\u001b[0;34m)\u001b[0m\u001b[0;34m\u001b[0m\u001b[0m\n",
      "\u001b[0;31mKeyboardInterrupt\u001b[0m: "
     ],
     "output_type": "error"
    }
   ],
   "source": [
    "all_mirna_gene_assc = []\n",
    "for m in tgca_luad.mirna_list:\n",
    "    for t in tgca_luad.gene_symbols:\n",
    "        all_mirna_gene_assc.append((m, t))\n",
    "print len(all_mirna_gene_assc)\n",
    "all_mirna_gene_assc = pandas.DataFrame(all_mirna_gene_assc, columns=[\"MiRBase ID\", \"Gene Symbol\"])\n",
    "print all_mirna_gene_assc.shape"
   ]
  },
  {
   "cell_type": "markdown",
   "metadata": {},
   "source": [
    "## Loading TargetScan database for predicted miRNA-targets interactions"
   ]
  },
  {
   "cell_type": "code",
   "execution_count": 4,
   "metadata": {},
   "outputs": [
    {
     "name": "stdout",
     "output_type": "stream",
     "text": [
      "(185330, 2)\n"
     ]
    }
   ],
   "source": [
    "# Load data frame from file\n",
    "targetScan_df = pandas.read_table(os.path.join(ROOT_DIR, 'data/external/TargetScan_Predicted_Targets_Info_default_predictions.tsv'), delimiter='\\t')\n",
    "targetScan_family_df = pandas.read_table(os.path.join(ROOT_DIR, 'data/external/TargetScan_miR_Family_Info.txt'), delimiter='\\t')\n",
    "\n",
    "# Select only homo sapiens miRNA-target pairs\n",
    "targetScan_df = targetScan_df[targetScan_df[\"Species ID\"] == 9606][[\"miR Family\", \"Gene Symbol\"]]\n",
    "targetScan_family_df = targetScan_family_df[targetScan_family_df['Species ID'] == 9606][['miR family', 'MiRBase ID']]\n",
    "\n",
    "# Use miRBase ID names\n",
    "targetScan_family_df.rename(columns={'miR family': 'miR Family'}, inplace=True)\n",
    "targetScan_df = pandas.merge(targetScan_df, targetScan_family_df, how='inner', on=\"miR Family\")\n",
    "targetScan_df = targetScan_df[[\"MiRBase ID\", \"Gene Symbol\"]]\n",
    "\n",
    "# Standardize miRNA names\n",
    "targetScan_df['MiRBase ID'] = targetScan_df['MiRBase ID'].str.lower()\n",
    "targetScan_df['MiRBase ID'] = targetScan_df['MiRBase ID'].str.replace(\"-3p.*|-5p.*\", \"\")\n",
    "targetScan_df.drop_duplicates(inplace=True)\n",
    "\n",
    "# Filter miRNA-target pairs to only miRNA's included in miRNA expression data, same for gene targets\n",
    "targetScan_df = targetScan_df[targetScan_df['MiRBase ID'].isin(tgca_luad.mirna_list) & targetScan_df['Gene Symbol'].isin(tgca_luad.gene_symbols)]\n",
    "print targetScan_df.shape"
   ]
  },
  {
   "cell_type": "markdown",
   "metadata": {},
   "source": [
    "## Loading miRanda database for predicted miRNA-targets interactions"
   ]
  },
  {
   "cell_type": "code",
   "execution_count": 5,
   "metadata": {},
   "outputs": [
    {
     "name": "stdout",
     "output_type": "stream",
     "text": [
      "(1097064, 2)\n"
     ]
    },
    {
     "name": "stdout",
     "output_type": "stream",
     "text": [
      "(544648, 2)\n"
     ]
    },
    {
     "name": "stdout",
     "output_type": "stream",
     "text": [
      "(640757, 2)\n"
     ]
    }
   ],
   "source": [
    "miRanda_df = pandas.read_table(os.path.join(ROOT_DIR, 'data/external/miRanda_hg19_predictions_S_C_aug2010.txt'), delimiter='\\t')\n",
    "miRanda_df = miRanda_df[['mirna_name',  'gene_symbol']]\n",
    "\n",
    "miRanda_df['mirna_name'] = miRanda_df['mirna_name'].str.lower()\n",
    "miRanda_df['mirna_name'] = miRanda_df['mirna_name'].str.replace(\"*\", \"\")\n",
    "miRanda_df['mirna_name'] = miRanda_df['mirna_name'].str.replace(\"-3p.*|-5p.*\", \"\")\n",
    "print miRanda_df.shape\n",
    "\n",
    "miRanda_df.columns = [\"MiRBase ID\", \"Gene Symbol\"]\n",
    "miRanda_df = miRanda_df[miRanda_df['MiRBase ID'].isin(tgca_luad.mirna_list) & miRanda_df['Gene Symbol'].isin(tgca_luad.gene_symbols)].dropna().drop_duplicates()\n",
    "print miRanda_df.shape\n",
    "putative_assocs = pandas.concat([targetScan_df, miRanda_df]).dropna().drop_duplicates()\n",
    "print putative_assocs.shape"
   ]
  },
  {
   "cell_type": "markdown",
   "metadata": {},
   "source": [
    "## Build miRNA-target relationship network to from putative predicted miRNA-target pairs\n",
    "## Assign miRNA's to groups from the miRNA-target bipartite graph obtained above\n",
    "The assumption used is that two miRNA's are in the same group, if they share the same target"
   ]
  },
  {
   "cell_type": "code",
   "execution_count": 6,
   "metadata": {
    "collapsed": true
   },
   "outputs": [
    {
     "name": "stdout",
     "output_type": "stream",
     "text": [
      "n_A 20\nn_B 275\n"
     ]
    },
    {
     "name": "stderr",
     "output_type": "stream",
     "text": [
      "<string>:52: RuntimeWarning: invalid value encountered in double_scalars\n"
     ]
    },
    {
     "name": "stderr",
     "output_type": "stream",
     "text": [
      "<string>:52: RuntimeWarning: invalid value encountered in double_scalars\n"
     ]
    },
    {
     "name": "stderr",
     "output_type": "stream",
     "text": [
      "<string>:55: RuntimeWarning: invalid value encountered in double_scalars\n"
     ]
    },
    {
     "name": "stderr",
     "output_type": "stream",
     "text": [
      "<string>:55: RuntimeWarning: invalid value encountered in double_scalars\n"
     ]
    },
    {
     "name": "stderr",
     "output_type": "stream",
     "text": [
      "<string>:52: RuntimeWarning: invalid value encountered in double_scalars\n"
     ]
    },
    {
     "name": "stderr",
     "output_type": "stream",
     "text": [
      "<string>:55: RuntimeWarning: invalid value encountered in double_scalars\n"
     ]
    },
    {
     "name": "stderr",
     "output_type": "stream",
     "text": [
      "<string>:52: RuntimeWarning: invalid value encountered in double_scalars\n"
     ]
    },
    {
     "name": "stderr",
     "output_type": "stream",
     "text": [
      "<string>:55: RuntimeWarning: invalid value encountered in double_scalars\n"
     ]
    },
    {
     "name": "stderr",
     "output_type": "stream",
     "text": [
      "<string>:52: RuntimeWarning: invalid value encountered in double_scalars\n"
     ]
    },
    {
     "name": "stderr",
     "output_type": "stream",
     "text": [
      "<string>:55: RuntimeWarning: invalid value encountered in double_scalars\n"
     ]
    },
    {
     "name": "stderr",
     "output_type": "stream",
     "text": [
      "<string>:52: RuntimeWarning: invalid value encountered in double_scalars\n"
     ]
    },
    {
     "name": "stderr",
     "output_type": "stream",
     "text": [
      "<string>:55: RuntimeWarning: invalid value encountered in double_scalars\n"
     ]
    },
    {
     "name": "stderr",
     "output_type": "stream",
     "text": [
      "<string>:52: RuntimeWarning: invalid value encountered in double_scalars\n"
     ]
    },
    {
     "name": "stderr",
     "output_type": "stream",
     "text": [
      "<string>:55: RuntimeWarning: invalid value encountered in double_scalars\n"
     ]
    },
    {
     "name": "stderr",
     "output_type": "stream",
     "text": [
      "src/models/miRNA_target_network.py:100: RuntimeWarning: invalid value encountered in log\n  z_B = (np.log(r_B_plus) - np.log(r_B_minus)) / 2.0\n"
     ]
    },
    {
     "name": "stderr",
     "output_type": "stream",
     "text": [
      "src/models/miRNA_target_network.py:99: RuntimeWarning: invalid value encountered in log\n  z_A = (np.log(r_A_plus) - np.log(r_A_minus)) / 2.0\n"
     ]
    },
    {
     "name": "stderr",
     "output_type": "stream",
     "text": [
      "src/models/miRNA_target_network.py:99: RuntimeWarning: invalid value encountered in log\n  z_A = (np.log(r_A_plus) - np.log(r_A_minus)) / 2.0\n"
     ]
    },
    {
     "name": "stderr",
     "output_type": "stream",
     "text": [
      "src/models/miRNA_target_network.py:99: RuntimeWarning: invalid value encountered in log\n  z_A = (np.log(r_A_plus) - np.log(r_A_minus)) / 2.0\n"
     ]
    },
    {
     "name": "stderr",
     "output_type": "stream",
     "text": [
      "src/models/miRNA_target_network.py:99: RuntimeWarning: invalid value encountered in log\n  z_A = (np.log(r_A_plus) - np.log(r_A_minus)) / 2.0\n"
     ]
    },
    {
     "name": "stderr",
     "output_type": "stream",
     "text": [
      "src/models/miRNA_target_network.py:100: RuntimeWarning: invalid value encountered in log\n  z_B = (np.log(r_B_plus) - np.log(r_B_minus)) / 2.0\n"
     ]
    },
    {
     "name": "stderr",
     "output_type": "stream",
     "text": [
      "src/models/miRNA_target_network.py:100: RuntimeWarning: invalid value encountered in log\n  z_B = (np.log(r_B_plus) - np.log(r_B_minus)) / 2.0\n"
     ]
    },
    {
     "data": {
      "text/plain": [
       "7641"
      ]
     },
     "execution_count": 6,
     "metadata": {},
     "output_type": "execute_result"
    }
   ],
   "source": [
    "from src.models.miRNA_target_network import miRNATargetNetwork as miRNATargetNet\n",
    "import networkx as nx\n",
    "\n",
    "network = miRNATargetNet(miRNAs=tgca_luad.mirna_list, targets=tgca_luad.gene_symbols)\n",
    "\n",
    "network.fit(tag=\"normal-StgI\", p_threshold=0.001, n_jobs=7,\n",
    "            miRNA_A=tgca_luad.make_dataset(dataset='miRNA', normal_tumor='normal',\n",
    "                                           normal_matched=False, mirna_gene_matched=True)[0],\n",
    "            gene_A=tgca_luad.make_dataset(dataset='gene', normal_tumor='normal',\n",
    "                                          normal_matched=False, mirna_gene_matched=True)[0],\n",
    "            miRNA_B=tgca_luad.make_dataset(dataset='miRNA', normal_tumor='tumor', pathologic_stages=['Stage I'],\n",
    "                                           normal_matched=False, mirna_gene_matched=True)[0],\n",
    "            gene_B=tgca_luad.make_dataset(dataset='gene', normal_tumor='tumor', pathologic_stages=['Stage I'],\n",
    "                                          normal_matched=False, mirna_gene_matched=True)[0],\n",
    "            putative_assocs=putative_assocs)"
   ]
  },
  {
   "cell_type": "code",
   "execution_count": 7,
   "metadata": {
    "collapsed": true
   },
   "outputs": [
    {
     "name": "stdout",
     "output_type": "stream",
     "text": [
      "n_A 275\nn_B 120\n"
     ]
    },
    {
     "name": "stderr",
     "output_type": "stream",
     "text": [
      "<string>:52: RuntimeWarning: invalid value encountered in double_scalars\n"
     ]
    },
    {
     "name": "stderr",
     "output_type": "stream",
     "text": [
      "<string>:55: RuntimeWarning: invalid value encountered in double_scalars\n"
     ]
    },
    {
     "name": "stderr",
     "output_type": "stream",
     "text": [
      "<string>:52: RuntimeWarning: invalid value encountered in double_scalars\n"
     ]
    },
    {
     "name": "stderr",
     "output_type": "stream",
     "text": [
      "<string>:55: RuntimeWarning: invalid value encountered in double_scalars\n"
     ]
    },
    {
     "name": "stderr",
     "output_type": "stream",
     "text": [
      "<string>:55: RuntimeWarning: invalid value encountered in double_scalars\n"
     ]
    },
    {
     "name": "stderr",
     "output_type": "stream",
     "text": [
      "<string>:52: RuntimeWarning: invalid value encountered in double_scalars\n"
     ]
    },
    {
     "name": "stderr",
     "output_type": "stream",
     "text": [
      "<string>:52: RuntimeWarning: invalid value encountered in double_scalars\n"
     ]
    },
    {
     "name": "stderr",
     "output_type": "stream",
     "text": [
      "<string>:55: RuntimeWarning: invalid value encountered in double_scalars\n"
     ]
    },
    {
     "name": "stderr",
     "output_type": "stream",
     "text": [
      "<string>:52: RuntimeWarning: invalid value encountered in double_scalars\n"
     ]
    },
    {
     "name": "stderr",
     "output_type": "stream",
     "text": [
      "<string>:55: RuntimeWarning: invalid value encountered in double_scalars\n"
     ]
    },
    {
     "name": "stderr",
     "output_type": "stream",
     "text": [
      "<string>:52: RuntimeWarning: invalid value encountered in double_scalars\n"
     ]
    },
    {
     "name": "stderr",
     "output_type": "stream",
     "text": [
      "<string>:55: RuntimeWarning: invalid value encountered in double_scalars\n"
     ]
    },
    {
     "name": "stderr",
     "output_type": "stream",
     "text": [
      "<string>:52: RuntimeWarning: invalid value encountered in double_scalars\n"
     ]
    },
    {
     "name": "stderr",
     "output_type": "stream",
     "text": [
      "<string>:55: RuntimeWarning: invalid value encountered in double_scalars\n"
     ]
    },
    {
     "name": "stderr",
     "output_type": "stream",
     "text": [
      "src/models/miRNA_target_network.py:99: RuntimeWarning: invalid value encountered in log\n  z_A = (np.log(r_A_plus) - np.log(r_A_minus)) / 2.0\n"
     ]
    },
    {
     "name": "stderr",
     "output_type": "stream",
     "text": [
      "src/models/miRNA_target_network.py:100: RuntimeWarning: invalid value encountered in log\n  z_B = (np.log(r_B_plus) - np.log(r_B_minus)) / 2.0\n"
     ]
    },
    {
     "name": "stderr",
     "output_type": "stream",
     "text": [
      "src/models/miRNA_target_network.py:100: RuntimeWarning: invalid value encountered in log\n  z_B = (np.log(r_B_plus) - np.log(r_B_minus)) / 2.0\n"
     ]
    },
    {
     "name": "stderr",
     "output_type": "stream",
     "text": [
      "src/models/miRNA_target_network.py:99: RuntimeWarning: invalid value encountered in log\n  z_A = (np.log(r_A_plus) - np.log(r_A_minus)) / 2.0\n"
     ]
    },
    {
     "name": "stderr",
     "output_type": "stream",
     "text": [
      "src/models/miRNA_target_network.py:99: RuntimeWarning: invalid value encountered in log\n  z_A = (np.log(r_A_plus) - np.log(r_A_minus)) / 2.0\n"
     ]
    },
    {
     "data": {
      "text/plain": [
       "6479"
      ]
     },
     "execution_count": 7,
     "metadata": {},
     "output_type": "execute_result"
    }
   ],
   "source": [
    "network.fit(tag=\"StgI-StgII\", p_threshold=0.001, n_jobs=7,\n",
    "            miRNA_A=tgca_luad.make_dataset(dataset='miRNA', normal_tumor='tumor', pathologic_stages=['Stage I'],\n",
    "                                           normal_matched=False, mirna_gene_matched=True)[0],\n",
    "            gene_A=tgca_luad.make_dataset(dataset='gene', normal_tumor='tumor', pathologic_stages=['Stage I'],\n",
    "                                          normal_matched=False, mirna_gene_matched=True)[0],\n",
    "            miRNA_B=tgca_luad.make_dataset(dataset='miRNA', normal_tumor='tumor', pathologic_stages=['Stage II'],\n",
    "                                           normal_matched=False, mirna_gene_matched=True)[0],\n",
    "            gene_B=tgca_luad.make_dataset(dataset='gene', normal_tumor='tumor', pathologic_stages=['Stage II'],\n",
    "                                          normal_matched=False, mirna_gene_matched=True)[0],\n",
    "            putative_assocs=putative_assocs)"
   ]
  },
  {
   "cell_type": "code",
   "execution_count": 10,
   "metadata": {
    "collapsed": true
   },
   "outputs": [
    {
     "name": "stdout",
     "output_type": "stream",
     "text": [
      "n_A 120\nn_B 84\n"
     ]
    },
    {
     "name": "stderr",
     "output_type": "stream",
     "text": [
      "<string>:52: RuntimeWarning: invalid value encountered in double_scalars\n"
     ]
    },
    {
     "name": "stderr",
     "output_type": "stream",
     "text": [
      "<string>:55: RuntimeWarning: invalid value encountered in double_scalars\n"
     ]
    },
    {
     "name": "stderr",
     "output_type": "stream",
     "text": [
      "<string>:52: RuntimeWarning: invalid value encountered in double_scalars\n"
     ]
    },
    {
     "name": "stderr",
     "output_type": "stream",
     "text": [
      "<string>:55: RuntimeWarning: invalid value encountered in double_scalars\n"
     ]
    },
    {
     "name": "stderr",
     "output_type": "stream",
     "text": [
      "<string>:52: RuntimeWarning: invalid value encountered in double_scalars\n"
     ]
    },
    {
     "name": "stderr",
     "output_type": "stream",
     "text": [
      "<string>:55: RuntimeWarning: invalid value encountered in double_scalars\n"
     ]
    },
    {
     "name": "stderr",
     "output_type": "stream",
     "text": [
      "<string>:55: RuntimeWarning: invalid value encountered in double_scalars\n"
     ]
    },
    {
     "name": "stderr",
     "output_type": "stream",
     "text": [
      "<string>:52: RuntimeWarning: invalid value encountered in double_scalars\n"
     ]
    },
    {
     "name": "stderr",
     "output_type": "stream",
     "text": [
      "<string>:55: RuntimeWarning: invalid value encountered in double_scalars\n"
     ]
    },
    {
     "name": "stderr",
     "output_type": "stream",
     "text": [
      "<string>:52: RuntimeWarning: invalid value encountered in double_scalars\n"
     ]
    },
    {
     "name": "stderr",
     "output_type": "stream",
     "text": [
      "<string>:52: RuntimeWarning: invalid value encountered in double_scalars\n"
     ]
    },
    {
     "name": "stderr",
     "output_type": "stream",
     "text": [
      "<string>:55: RuntimeWarning: invalid value encountered in double_scalars\n"
     ]
    },
    {
     "name": "stderr",
     "output_type": "stream",
     "text": [
      "<string>:55: RuntimeWarning: invalid value encountered in double_scalars\n"
     ]
    },
    {
     "name": "stderr",
     "output_type": "stream",
     "text": [
      "<string>:52: RuntimeWarning: invalid value encountered in double_scalars\n"
     ]
    },
    {
     "name": "stderr",
     "output_type": "stream",
     "text": [
      "src/models/miRNA_target_network.py:100: RuntimeWarning: invalid value encountered in log\n  z_B = (np.log(r_B_plus) - np.log(r_B_minus)) / 2.0\n"
     ]
    },
    {
     "name": "stderr",
     "output_type": "stream",
     "text": [
      "src/models/miRNA_target_network.py:100: RuntimeWarning: invalid value encountered in log\n  z_B = (np.log(r_B_plus) - np.log(r_B_minus)) / 2.0\n"
     ]
    },
    {
     "name": "stderr",
     "output_type": "stream",
     "text": [
      "src/models/miRNA_target_network.py:100: RuntimeWarning: invalid value encountered in log\n  z_B = (np.log(r_B_plus) - np.log(r_B_minus)) / 2.0\n"
     ]
    },
    {
     "name": "stderr",
     "output_type": "stream",
     "text": [
      "src/models/miRNA_target_network.py:99: RuntimeWarning: invalid value encountered in log\n  z_A = (np.log(r_A_plus) - np.log(r_A_minus)) / 2.0\n"
     ]
    },
    {
     "name": "stderr",
     "output_type": "stream",
     "text": [
      "src/models/miRNA_target_network.py:100: RuntimeWarning: invalid value encountered in log\n  z_B = (np.log(r_B_plus) - np.log(r_B_minus)) / 2.0\n"
     ]
    },
    {
     "name": "stderr",
     "output_type": "stream",
     "text": [
      "src/models/miRNA_target_network.py:99: RuntimeWarning: invalid value encountered in log\n  z_A = (np.log(r_A_plus) - np.log(r_A_minus)) / 2.0\n"
     ]
    },
    {
     "data": {
      "text/plain": [
       "5988"
      ]
     },
     "execution_count": 9,
     "metadata": {},
     "output_type": "execute_result"
    }
   ],
   "source": [
    "network.fit(tag=\"StgII-StgIII\", p_threshold=0.001, n_jobs=7,\n",
    "            miRNA_A=tgca_luad.make_dataset(dataset='miRNA', normal_tumor='tumor', pathologic_stages=['Stage II'],\n",
    "                                           normal_matched=False, mirna_gene_matched=True)[0],\n",
    "            gene_A=tgca_luad.make_dataset(dataset='gene', normal_tumor='tumor', pathologic_stages=['Stage II'],\n",
    "                                          normal_matched=False, mirna_gene_matched=True)[0],\n",
    "            miRNA_B=tgca_luad.make_dataset(dataset='miRNA', normal_tumor='tumor', pathologic_stages=['Stage III'],\n",
    "                                           normal_matched=False, mirna_gene_matched=True)[0],\n",
    "            gene_B=tgca_luad.make_dataset(dataset='gene', normal_tumor='tumor', pathologic_stages=['Stage III'],\n",
    "                                          normal_matched=False, mirna_gene_matched=True)[0],\n",
    "            putative_assocs=putative_assocs)"
   ]
  },
  {
   "cell_type": "code",
   "execution_count": 11,
   "metadata": {
    "collapsed": true
   },
   "outputs": [
    {
     "name": "stdout",
     "output_type": "stream",
     "text": [
      "n_A 84\nn_B 24\n"
     ]
    },
    {
     "name": "stderr",
     "output_type": "stream",
     "text": [
      "<string>:55: RuntimeWarning: invalid value encountered in double_scalars\n"
     ]
    },
    {
     "name": "stderr",
     "output_type": "stream",
     "text": [
      "src/models/miRNA_target_network.py:100: RuntimeWarning: invalid value encountered in log\n  z_B = (np.log(r_B_plus) - np.log(r_B_minus)) / 2.0\n"
     ]
    },
    {
     "name": "stderr",
     "output_type": "stream",
     "text": [
      "<string>:52: RuntimeWarning: invalid value encountered in double_scalars\n"
     ]
    },
    {
     "name": "stderr",
     "output_type": "stream",
     "text": [
      "<string>:55: RuntimeWarning: invalid value encountered in double_scalars\n"
     ]
    },
    {
     "name": "stderr",
     "output_type": "stream",
     "text": [
      "<string>:52: RuntimeWarning: invalid value encountered in double_scalars\n"
     ]
    },
    {
     "name": "stderr",
     "output_type": "stream",
     "text": [
      "<string>:52: RuntimeWarning: invalid value encountered in double_scalars\n"
     ]
    },
    {
     "name": "stderr",
     "output_type": "stream",
     "text": [
      "<string>:55: RuntimeWarning: invalid value encountered in double_scalars\n"
     ]
    },
    {
     "name": "stderr",
     "output_type": "stream",
     "text": [
      "src/models/miRNA_target_network.py:100: RuntimeWarning: invalid value encountered in log\n  z_B = (np.log(r_B_plus) - np.log(r_B_minus)) / 2.0\n"
     ]
    },
    {
     "name": "stderr",
     "output_type": "stream",
     "text": [
      "<string>:52: RuntimeWarning: invalid value encountered in double_scalars\n"
     ]
    },
    {
     "name": "stderr",
     "output_type": "stream",
     "text": [
      "<string>:55: RuntimeWarning: invalid value encountered in double_scalars\n"
     ]
    },
    {
     "name": "stderr",
     "output_type": "stream",
     "text": [
      "src/models/miRNA_target_network.py:100: RuntimeWarning: invalid value encountered in log\n  z_B = (np.log(r_B_plus) - np.log(r_B_minus)) / 2.0\n"
     ]
    },
    {
     "name": "stderr",
     "output_type": "stream",
     "text": [
      "<string>:52: RuntimeWarning: invalid value encountered in double_scalars\n"
     ]
    },
    {
     "name": "stderr",
     "output_type": "stream",
     "text": [
      "<string>:55: RuntimeWarning: invalid value encountered in double_scalars\n"
     ]
    },
    {
     "name": "stderr",
     "output_type": "stream",
     "text": [
      "src/models/miRNA_target_network.py:100: RuntimeWarning: invalid value encountered in log\n  z_B = (np.log(r_B_plus) - np.log(r_B_minus)) / 2.0\n"
     ]
    },
    {
     "name": "stderr",
     "output_type": "stream",
     "text": [
      "<string>:52: RuntimeWarning: invalid value encountered in double_scalars\n"
     ]
    },
    {
     "name": "stderr",
     "output_type": "stream",
     "text": [
      "<string>:55: RuntimeWarning: invalid value encountered in double_scalars\n"
     ]
    },
    {
     "name": "stderr",
     "output_type": "stream",
     "text": [
      "src/models/miRNA_target_network.py:100: RuntimeWarning: invalid value encountered in log\n  z_B = (np.log(r_B_plus) - np.log(r_B_minus)) / 2.0\n"
     ]
    },
    {
     "name": "stderr",
     "output_type": "stream",
     "text": [
      "src/models/miRNA_target_network.py:99: RuntimeWarning: invalid value encountered in log\n  z_A = (np.log(r_A_plus) - np.log(r_A_minus)) / 2.0\n"
     ]
    },
    {
     "name": "stderr",
     "output_type": "stream",
     "text": [
      "<string>:52: RuntimeWarning: invalid value encountered in double_scalars\n"
     ]
    },
    {
     "name": "stderr",
     "output_type": "stream",
     "text": [
      "<string>:55: RuntimeWarning: invalid value encountered in double_scalars\n"
     ]
    },
    {
     "name": "stderr",
     "output_type": "stream",
     "text": [
      "src/models/miRNA_target_network.py:100: RuntimeWarning: invalid value encountered in log\n  z_B = (np.log(r_B_plus) - np.log(r_B_minus)) / 2.0\n"
     ]
    },
    {
     "name": "stderr",
     "output_type": "stream",
     "text": [
      "src/models/miRNA_target_network.py:99: RuntimeWarning: invalid value encountered in log\n  z_A = (np.log(r_A_plus) - np.log(r_A_minus)) / 2.0\n"
     ]
    },
    {
     "name": "stderr",
     "output_type": "stream",
     "text": [
      "src/models/miRNA_target_network.py:99: RuntimeWarning: invalid value encountered in log\n  z_A = (np.log(r_A_plus) - np.log(r_A_minus)) / 2.0\n"
     ]
    },
    {
     "name": "stderr",
     "output_type": "stream",
     "text": [
      "src/models/miRNA_target_network.py:100: RuntimeWarning: invalid value encountered in log\n  z_B = (np.log(r_B_plus) - np.log(r_B_minus)) / 2.0\n"
     ]
    },
    {
     "name": "stderr",
     "output_type": "stream",
     "text": [
      "src/models/miRNA_target_network.py:99: RuntimeWarning: invalid value encountered in log\n  z_A = (np.log(r_A_plus) - np.log(r_A_minus)) / 2.0\n"
     ]
    },
    {
     "data": {
      "text/plain": [
       "11506"
      ]
     },
     "execution_count": 11,
     "metadata": {},
     "output_type": "execute_result"
    }
   ],
   "source": [
    "network.fit(tag=\"StgIII-StgIV\", p_threshold=0.001, n_jobs=7,\n",
    "            miRNA_A=tgca_luad.make_dataset(dataset='miRNA', normal_tumor='tumor', pathologic_stages=['Stage III'],\n",
    "                                           normal_matched=False, mirna_gene_matched=True)[0],\n",
    "            gene_A=tgca_luad.make_dataset(dataset='gene', normal_tumor='tumor', pathologic_stages=['Stage III'],\n",
    "                                          normal_matched=False, mirna_gene_matched=True)[0],\n",
    "            miRNA_B=tgca_luad.make_dataset(dataset='miRNA', normal_tumor='tumor', pathologic_stages=['Stage IV'],\n",
    "                                           normal_matched=False, mirna_gene_matched=True)[0],\n",
    "            gene_B=tgca_luad.make_dataset(dataset='gene', normal_tumor='tumor', pathologic_stages=['Stage IV'],\n",
    "                                          normal_matched=False, mirna_gene_matched=True)[0],\n",
    "            putative_assocs=putative_assocs)"
   ]
  },
  {
   "cell_type": "code",
   "execution_count": 13,
   "metadata": {},
   "outputs": [
    {
     "name": "stdout",
     "output_type": "stream",
     "text": [
      "miRNAs_in_MTDN 274\nnormal_stgI_genes 3320\nstgI_StgII_genes 2909\nstgII_StgIII_genes 3335\nstgIII_StgIV_genes 3955"
     ]
    },
    {
     "name": "stdout",
     "output_type": "stream",
     "text": [
      "\n"
     ]
    }
   ],
   "source": [
    "network.build_miRNA_features()"
   ]
  },
  {
   "cell_type": "code",
   "execution_count": 14,
   "metadata": {
    "collapsed": false
   },
   "outputs": [
    {
     "name": "stdout",
     "output_type": "stream",
     "text": [
      "1881\n"
     ]
    },
    {
     "data": {
      "image/png": "[encoded data removed]",
      "text/plain": [
       "<matplotlib.figure.Figure at 0x7f5b7838aa10>"
      ]
     },
     "metadata": {},
     "output_type": "display_data"
    }
   ],
   "source": [
    "miRNAs_nodes = set(n for n, d in network.B.nodes(data=True) if d['bipartite'] == 0)\n",
    "targets_nodes = set(network.B) - miRNAs_nodes\n",
    "\n",
    "miRNA_nodes_degrees = nx.bipartite.degrees(network.B, miRNAs_nodes)[1]\n",
    "print len(miRNA_nodes_degrees)\n",
    "\n",
    "plt.figure()\n",
    "plt.hist(miRNA_nodes_degrees.values(), bins=100)\n",
    "plt.title('Distribution of miRNA out-degree')\n",
    "plt.xlim((0,20))\n",
    "plt.ylabel('number of targets')\n",
    "plt.xlabel('number of miRNAs')\n",
    "plt.show()"
   ]
  },
  {
   "cell_type": "code",
   "execution_count": 15,
   "metadata": {
    "collapsed": true
   },
   "outputs": [
    {
     "name": "stdout",
     "output_type": "stream",
     "text": [
      "20484\n"
     ]
    },
    {
     "data": {
      "image/png": "[encoded data removed]",
      "text/plain": [
       "<matplotlib.figure.Figure at 0x7f5a9b3e0250>"
      ]
     },
     "metadata": {},
     "output_type": "display_data"
    }
   ],
   "source": [
    "targets_nodes_degrees = nx.bipartite.degrees(network.B, targets_nodes)[1]\n",
    "print len(targets_nodes_degrees)\n",
    "\n",
    "plt.figure()\n",
    "plt.hist(targets_nodes_degrees.values(), bins=40)\n",
    "plt.title('Distribution of gene in-degree')\n",
    "plt.ylabel('number of miRNAs')\n",
    "plt.xlabel('number of targets')\n",
    "plt.show()"
   ]
  },
  {
   "cell_type": "code",
   "execution_count": 16,
   "metadata": {
    "collapsed": true
   },
   "outputs": [
    {
     "name": "stdout",
     "output_type": "stream",
     "text": [
      "[253, 10, 7, 3, 1]\n"
     ]
    },
    {
     "name": "stdout",
     "output_type": "stream",
     "text": [
      "[253, 10, 3, 3, 3, 1, 1]\n"
     ]
    },
    {
     "name": "stdout",
     "output_type": "stream",
     "text": [
      "[249, 10, 3, 3, 2, 2, 2, 1, 1, 1]\n"
     ]
    },
    {
     "name": "stdout",
     "output_type": "stream",
     "text": [
      "[249, 10, 3, 2, 2, 2, 1, 1, 1, 1, 1, 1]\n"
     ]
    },
    {
     "name": "stdout",
     "output_type": "stream",
     "text": [
      "[244, 10, 3, 3, 2, 2, 2, 1, 1, 1, 1, 1, 1, 1, 1]\n"
     ]
    },
    {
     "name": "stdout",
     "output_type": "stream",
     "text": [
      "[244, 8, 3, 3, 2, 2, 2, 1, 1, 1, 1, 1, 1, 1, 1, 1, 1]\n"
     ]
    },
    {
     "name": "stdout",
     "output_type": "stream",
     "text": [
      "[240, 8, 3, 3, 3, 2, 2, 1, 1, 1, 1, 1, 1, 1, 1, 1, 1, 1, 1, 1]\n"
     ]
    },
    {
     "data": {
      "image/png": "[encoded data removed]",
      "text/plain": [
       "<matplotlib.figure.Figure at 0x7f5b73ba0a10>"
      ]
     },
     "metadata": {},
     "output_type": "display_data"
    }
   ],
   "source": [
    "n_clusters = [5, 7, 10, 12, 15, 17, 20]\n",
    "\n",
    "plt.figure()\n",
    "for n_cluster in n_clusters:\n",
    "    bin_count = network.run_miRNA_clustering(n_cluster=n_cluster, linkage='complete')\n",
    "    print sorted(bin_count, reverse=True)\n",
    "    plt.plot(range(1, len(bin_count)+1), sorted(bin_count, reverse=True))\n",
    "plt.ylabel('frequency')\n",
    "plt.xlabel('number of degrees')\n",
    "plt.show()"
   ]
  },
  {
   "cell_type": "code",
   "execution_count": 17,
   "metadata": {},
   "outputs": [
    {
     "data": {
      "text/plain": [
       "array([  3, 249,   2,  10,   3,   1,   1,   2,   1,   2])"
      ]
     },
     "execution_count": 17,
     "metadata": {},
     "output_type": "execute_result"
    }
   ],
   "source": [
    "network.run_miRNA_clustering(n_cluster=10, linkage='complete')"
   ]
  },
  {
   "cell_type": "markdown",
   "metadata": {},
   "source": [
    "## TarBase: Validated miRNA-target interactions"
   ]
  },
  {
   "cell_type": "code",
   "execution_count": 257,
   "metadata": {
    "collapsed": true
   },
   "outputs": [],
   "source": [
    "TarBase_df = pandas.read_table(os.path.join(ROOT_DIR, 'data/external/TarBase_Experiment_Valid_miRNA-Targets.csv'), delimiter='\\t')\n",
    "TarBase_df = TarBase_df[TarBase_df['species'] == 'Homo sapiens']\n",
    "TarBase_df = TarBase_df[TarBase_df['tissue'].isin(['Lung Cancerous Tissues', 'Lung'])]\n",
    "TarBase_df = TarBase_df[TarBase_df['category'] == 'Cancer/Malignant']\n",
    "TarBase_df['mirna'] = TarBase_df['mirna'].str.lower()\n",
    "TarBase_df['mirna'] = TarBase_df['mirna'].str.replace(\"-3p.*|-5p.*\", \"\")\n",
    "TarBase_df.drop_duplicates(inplace=True)\n",
    "\n",
    "TarBase_df = TarBase_df[['geneName', 'mirna']]\n",
    "TarBase_df.columns = [\"Gene Symbol\", \"MiRBase ID\"]\n",
    "# TarBase_df"
   ]
  },
  {
   "cell_type": "code",
   "execution_count": 259,
   "metadata": {
    "collapsed": true
   },
   "outputs": [],
   "source": [
    "for row in TarBase_df.iterrows():\n",
    "    if network.B.get_edge_data(row[1]['MiRBase ID'], row[1]['Gene Symbol']):\n",
    "        print row[1]['mirna'], row[1]['Gene Symbol'], network.B.get_edge_data(row[1]['MiRBase ID'], row[1]['Gene Symbol'])"
   ]
  },
  {
   "cell_type": "markdown",
   "metadata": {},
   "source": [
    "### Prepare samples for Classification task"
   ]
  },
  {
   "cell_type": "code",
   "execution_count": 24,
   "metadata": {
    "collapsed": true
   },
   "outputs": [
    {
     "name": "stdout",
     "output_type": "stream",
     "text": [
      "X (92, 1881)\ny (92,)\nnormal       46\nStage I      29\nStage II     11\nStage III     6\nName: pathologic_stage, dtype: int64\nStage I      277\nStage II     121\nStage III     84\nnormal        46\nStage IV      24\nName: pathologic_stage, dtype: int64\n"
     ]
    }
   ],
   "source": [
    "from sklearn.model_selection import train_test_split\n",
    "\n",
    "X, y = tgca_luad.make_dataset(dataset='miRNA', normal_tumor='both', normal_matched=True, mirna_gene_matched=False,\n",
    "                              pathologic_stages=['normal', 'Stage I', 'Stage II', 'Stage III', 'Stage IV'], \n",
    "                              label_mapping={'normal': -1, 'Stage I': 1, 'Stage II': 1, 'Stage III': 1, 'Stage IV': 1})\n",
    "\n",
    "X_multi, y_multi = tgca_luad.make_dataset(dataset='miRNA', normal_tumor='both', normal_matched=False, mirna_gene_matched=False, normalize=False,\n",
    "                                          pathologic_stages=['normal', 'Stage I', 'Stage II', 'Stage III', 'Stage IV'],\n",
    "                                          label_mapping={'normal': 0, 'Stage I': 1, 'Stage II': 2, 'Stage III': 3, 'Stage IV': 4})\n",
    "\n",
    "X_train, X_test, Y_train, Y_test = \\\n",
    "    train_test_split(X, y, test_size=0.2, random_state=np.random.randint(0, 10000), stratify=y)\n",
    "\n",
    "X_multi_train, X_multi_test, Y_multi_train, Y_multi_test = \\\n",
    "    train_test_split(X_multi, y_multi, test_size=0.2, random_state=np.random.randint(0, 10000), stratify=y_multi)\n",
    "\n",
    "print \"X\", X.shape\n",
    "print \"y\", y.shape\n",
    "\n",
    "print y.value_counts()\n",
    "print y_multi.value_counts()"
   ]
  },
  {
   "cell_type": "markdown",
   "metadata": {
    "collapsed": true
   },
   "source": [
    "## Create Classifiers"
   ]
  },
  {
   "cell_type": "code",
   "execution_count": 19,
   "metadata": {
    "collapsed": true
   },
   "outputs": [
    {
     "name": "stderr",
     "output_type": "stream",
     "text": [
      "/opt/anaconda/lib/python2.7/site-packages/parsimony/config.py:51: RuntimeWarning: Could not locate the config file.\n  warnings.warn(\"Could not locate the config file.\", RuntimeWarning)\n"
     ]
    },
    {
     "ename": "ValueError",
     "evalue": "could not convert string to float: normal",
     "traceback": [
      "\u001b[0;31m\u001b[0m",
      "\u001b[0;31mValueError\u001b[0mTraceback (most recent call last)",
      "\u001b[0;32m<ipython-input-19-169e897a8de3>\u001b[0m in \u001b[0;36m<module>\u001b[0;34m()\u001b[0m\n\u001b[1;32m     12\u001b[0m \u001b[0;34m\u001b[0m\u001b[0m\n\u001b[1;32m     13\u001b[0m \u001b[0mX_train\u001b[0m \u001b[0;34m=\u001b[0m \u001b[0mnp\u001b[0m\u001b[0;34m.\u001b[0m\u001b[0masfortranarray\u001b[0m\u001b[0;34m(\u001b[0m\u001b[0mX_train\u001b[0m\u001b[0;34m,\u001b[0m \u001b[0mdtype\u001b[0m\u001b[0;34m=\u001b[0m\u001b[0mmyfloat\u001b[0m\u001b[0;34m)\u001b[0m\u001b[0;34m\u001b[0m\u001b[0m\n\u001b[0;32m---> 14\u001b[0;31m \u001b[0mY_train\u001b[0m \u001b[0;34m=\u001b[0m \u001b[0mnp\u001b[0m\u001b[0;34m.\u001b[0m\u001b[0masfortranarray\u001b[0m\u001b[0;34m(\u001b[0m\u001b[0mY_train\u001b[0m\u001b[0;34m,\u001b[0m \u001b[0mdtype\u001b[0m\u001b[0;34m=\u001b[0m\u001b[0mmyfloat\u001b[0m\u001b[0;34m)\u001b[0m\u001b[0;34m\u001b[0m\u001b[0m\n\u001b[0m\u001b[1;32m     15\u001b[0m \u001b[0mY_train\u001b[0m \u001b[0;34m=\u001b[0m \u001b[0mnp\u001b[0m\u001b[0;34m.\u001b[0m\u001b[0mreshape\u001b[0m\u001b[0;34m(\u001b[0m\u001b[0mY_train\u001b[0m\u001b[0;34m,\u001b[0m \u001b[0;34m[\u001b[0m\u001b[0mY_train\u001b[0m\u001b[0;34m.\u001b[0m\u001b[0mshape\u001b[0m\u001b[0;34m[\u001b[0m\u001b[0;36m0\u001b[0m\u001b[0;34m]\u001b[0m\u001b[0;34m,\u001b[0m \u001b[0;36m1\u001b[0m\u001b[0;34m]\u001b[0m\u001b[0;34m)\u001b[0m\u001b[0;34m\u001b[0m\u001b[0m\n\u001b[1;32m     16\u001b[0m \u001b[0mX_multi_train\u001b[0m \u001b[0;34m=\u001b[0m \u001b[0mnp\u001b[0m\u001b[0;34m.\u001b[0m\u001b[0masfortranarray\u001b[0m\u001b[0;34m(\u001b[0m\u001b[0mX_multi_train\u001b[0m\u001b[0;34m,\u001b[0m \u001b[0mdtype\u001b[0m\u001b[0;34m=\u001b[0m\u001b[0mmyfloat\u001b[0m\u001b[0;34m)\u001b[0m\u001b[0;34m\u001b[0m\u001b[0m\n",
      "\u001b[0;32m/opt/anaconda/lib/python2.7/site-packages/numpy/core/numeric.pyc\u001b[0m in \u001b[0;36masfortranarray\u001b[0;34m(a, dtype)\u001b[0m\n\u001b[1;32m    655\u001b[0m \u001b[0;34m\u001b[0m\u001b[0m\n\u001b[1;32m    656\u001b[0m     \"\"\"\n\u001b[0;32m--> 657\u001b[0;31m     \u001b[0;32mreturn\u001b[0m \u001b[0marray\u001b[0m\u001b[0;34m(\u001b[0m\u001b[0ma\u001b[0m\u001b[0;34m,\u001b[0m \u001b[0mdtype\u001b[0m\u001b[0;34m,\u001b[0m \u001b[0mcopy\u001b[0m\u001b[0;34m=\u001b[0m\u001b[0mFalse\u001b[0m\u001b[0;34m,\u001b[0m \u001b[0morder\u001b[0m\u001b[0;34m=\u001b[0m\u001b[0;34m'F'\u001b[0m\u001b[0;34m,\u001b[0m \u001b[0mndmin\u001b[0m\u001b[0;34m=\u001b[0m\u001b[0;36m1\u001b[0m\u001b[0;34m)\u001b[0m\u001b[0;34m\u001b[0m\u001b[0m\n\u001b[0m\u001b[1;32m    658\u001b[0m \u001b[0;34m\u001b[0m\u001b[0m\n\u001b[1;32m    659\u001b[0m \u001b[0;34m\u001b[0m\u001b[0m\n",
      "\u001b[0;31mValueError\u001b[0m: could not convert string to float: normal"
     ],
     "output_type": "error"
    }
   ],
   "source": [
    "from src.models.group_lasso_spams import SPAMSClassifier\n",
    "import spams\n",
    "\n",
    "myfloat = np.float\n",
    "param = {'numThreads': -1, 'verbose': True,\n",
    "         'it0': 10, 'max_it': 1000,\n",
    "         'L0': 0.1, 'tol': 1e-3, 'intercept': False,\n",
    "         'pos': False}\n",
    "param['lambda1'] = 0.5\n",
    "param['lambda2'] = 0.5\n",
    "param['lambda3'] = 0.5\n",
    "\n",
    "X_train = np.asfortranarray(X_train, dtype=myfloat)\n",
    "Y_train = np.asfortranarray(Y_train, dtype=myfloat)\n",
    "Y_train = np.reshape(Y_train, [Y_train.shape[0], 1])\n",
    "X_multi_train = np.asfortranarray(X_multi_train, dtype=myfloat)\n",
    "Y_multi_train = np.asfortranarray(Y_multi_train, dtype=myfloat)\n",
    "Y_multi_train = np.reshape(Y_multi_train, [Y_multi_train.shape[0], 1])\n",
    "\n",
    "# L1 Lasso\n",
    "l1_lasso_param = param.copy()\n",
    "l1_lasso_param['loss'] = 'weighted-logistic'\n",
    "l1_lasso_param['regul'] = 'l1'\n",
    "l1_lasso = SPAMSClassifier()\n",
    "l1_lasso.fit(X_train, Y_train, groups=None, params=l1_lasso_param)\n",
    "\n",
    "# Group Lasso L2\n",
    "# group_l2_param = param.copy()\n",
    "# group_l2_param['loss'] = 'weighted-logistic'\n",
    "# group_l2_param['regul'] = 'group-lasso-l2'\n",
    "# group_l2 = SPAMSClassifier()\n",
    "# group_l2.fit(X_train, Y_train, groups=network.get_miRNA_cluster_assgn(), params=group_l2_param)\n",
    "\n",
    "# Elastic Net\n",
    "elastic_net_param = param.copy()\n",
    "elastic_net_param['loss'] = 'weighted-logistic'\n",
    "elastic_net_param['regul'] = 'elastic-net'\n",
    "elastic_net = SPAMSClassifier()\n",
    "elastic_net.fit(X_train, Y_train, groups=None, params=elastic_net_param)\n",
    "\n",
    "# Sparse Group Lasso\n",
    "sparse_group_l2_param = param.copy()\n",
    "sparse_group_l2_param['loss'] = 'logistic'\n",
    "sparse_group_l2_param['regul'] = 'sparse-group-lasso-l2'\n",
    "sparse_group_l2_param['lambda1'] = 0.2\n",
    "sparse_group_l2 = SPAMSClassifier()\n",
    "sparse_group_l2.fit(X_train, Y_train, groups=network.get_miRNA_group_assgn(), params=sparse_group_l2_param)\n",
    "\n",
    "# Multi Logistic\n",
    "multi_task_l1l2_param = param.copy()\n",
    "multi_task_l1l2_param['loss'] = 'multi-logistic'\n",
    "multi_task_l1l2_param['regul'] = 'l1l2'\n",
    "multi_task_l1l2_param['max_it'] = 200\n",
    "multi_task_l1l2_param['lambda1'] = 0.5\n",
    "multi_task_l1l2 = SPAMSClassifier()\n",
    "multi_task_l1l2.fit(X_multi_train, Y_multi_train, groups=None, params=multi_task_l1l2_param)"
   ]
  },
  {
   "cell_type": "markdown",
   "metadata": {},
   "source": [
    "## Logistic Regression with L1L2 & Overlapping Group LASSO regularizer"
   ]
  },
  {
   "cell_type": "code",
   "execution_count": 25,
   "metadata": {
    "collapsed": true
   },
   "outputs": [
    {
     "ename": "ValueError",
     "evalue": "Multinomial classification with more than 2 labels is not possible",
     "traceback": [
      "\u001b[0;31m\u001b[0m",
      "\u001b[0;31mValueError\u001b[0mTraceback (most recent call last)",
      "\u001b[0;32m<ipython-input-25-295f21c5b7bf>\u001b[0m in \u001b[0;36m<module>\u001b[0;34m()\u001b[0m\n\u001b[1;32m     22\u001b[0m                                                       \u001b[0malgorithm_params\u001b[0m\u001b[0;34m=\u001b[0m\u001b[0mdict\u001b[0m\u001b[0;34m(\u001b[0m\u001b[0mmax_iter\u001b[0m\u001b[0;34m=\u001b[0m\u001b[0;36m1000\u001b[0m\u001b[0;34m)\u001b[0m\u001b[0;34m,\u001b[0m\u001b[0;34m\u001b[0m\u001b[0m\n\u001b[1;32m     23\u001b[0m                                                       mean=False)\n\u001b[0;32m---> 24\u001b[0;31m \u001b[0mlogistic_L1L2GL\u001b[0m\u001b[0;34m.\u001b[0m\u001b[0mfit\u001b[0m\u001b[0;34m(\u001b[0m\u001b[0mX\u001b[0m\u001b[0;34m=\u001b[0m\u001b[0mX_train\u001b[0m\u001b[0;34m,\u001b[0m \u001b[0my\u001b[0m\u001b[0;34m=\u001b[0m\u001b[0mY_train\u001b[0m\u001b[0;34m,\u001b[0m \u001b[0mbeta\u001b[0m\u001b[0;34m=\u001b[0m\u001b[0mbeta\u001b[0m\u001b[0;34m)\u001b[0m\u001b[0;34m\u001b[0m\u001b[0m\n\u001b[0m\u001b[1;32m     25\u001b[0m \u001b[0;34m\u001b[0m\u001b[0m\n\u001b[1;32m     26\u001b[0m \u001b[0;32mprint\u001b[0m \u001b[0;34m'Non-zero:'\u001b[0m\u001b[0;34m,\u001b[0m \u001b[0mlen\u001b[0m\u001b[0;34m(\u001b[0m\u001b[0mlogistic_L1L2GL\u001b[0m\u001b[0;34m.\u001b[0m\u001b[0mbeta\u001b[0m\u001b[0;34m.\u001b[0m\u001b[0mnonzero\u001b[0m\u001b[0;34m(\u001b[0m\u001b[0;34m)\u001b[0m\u001b[0;34m[\u001b[0m\u001b[0;36m0\u001b[0m\u001b[0;34m]\u001b[0m\u001b[0;34m)\u001b[0m\u001b[0;34m\u001b[0m\u001b[0m\n",
      "\u001b[0;32m/opt/anaconda/lib/python2.7/site-packages/parsimony/estimators.pyc\u001b[0m in \u001b[0;36mfit\u001b[0;34m(self, X, y, beta, sample_weight)\u001b[0m\n\u001b[1;32m   2194\u001b[0m         \"\"\"Fit the estimator to the data.\n\u001b[1;32m   2195\u001b[0m         \"\"\"\n\u001b[0;32m-> 2196\u001b[0;31m         \u001b[0mX\u001b[0m\u001b[0;34m,\u001b[0m \u001b[0my\u001b[0m \u001b[0;34m=\u001b[0m \u001b[0mcheck_arrays\u001b[0m\u001b[0;34m(\u001b[0m\u001b[0mX\u001b[0m\u001b[0;34m,\u001b[0m \u001b[0mcheck_labels\u001b[0m\u001b[0;34m(\u001b[0m\u001b[0my\u001b[0m\u001b[0;34m)\u001b[0m\u001b[0;34m)\u001b[0m\u001b[0;34m\u001b[0m\u001b[0m\n\u001b[0m\u001b[1;32m   2197\u001b[0m         \u001b[0;32mif\u001b[0m \u001b[0msample_weight\u001b[0m \u001b[0;32mis\u001b[0m \u001b[0mNone\u001b[0m\u001b[0;34m:\u001b[0m\u001b[0;34m\u001b[0m\u001b[0m\n\u001b[1;32m   2198\u001b[0m             \u001b[0msample_weight\u001b[0m \u001b[0;34m=\u001b[0m \u001b[0mclass_weight_to_sample_weight\u001b[0m\u001b[0;34m(\u001b[0m\u001b[0mself\u001b[0m\u001b[0;34m.\u001b[0m\u001b[0mclass_weight\u001b[0m\u001b[0;34m,\u001b[0m \u001b[0my\u001b[0m\u001b[0;34m)\u001b[0m\u001b[0;34m\u001b[0m\u001b[0m\n",
      "\u001b[0;32m/opt/anaconda/lib/python2.7/site-packages/parsimony/utils/classif_label.pyc\u001b[0m in \u001b[0;36mcheck_labels\u001b[0;34m(y)\u001b[0m\n\u001b[1;32m     74\u001b[0m     \u001b[0;32mif\u001b[0m \u001b[0mlen\u001b[0m\u001b[0;34m(\u001b[0m\u001b[0mclasses\u001b[0m\u001b[0;34m)\u001b[0m \u001b[0;34m>\u001b[0m \u001b[0mnlevels\u001b[0m\u001b[0;34m:\u001b[0m\u001b[0;34m\u001b[0m\u001b[0m\n\u001b[1;32m     75\u001b[0m         raise ValueError(\"Multinomial classification with more \" \\\n\u001b[0;32m---> 76\u001b[0;31m                         \"than %i labels is not possible\" % nlevels)\n\u001b[0m\u001b[1;32m     77\u001b[0m     \u001b[0mclasses_recoded\u001b[0m \u001b[0;34m=\u001b[0m \u001b[0mnp\u001b[0m\u001b[0;34m.\u001b[0m\u001b[0marange\u001b[0m\u001b[0;34m(\u001b[0m\u001b[0mlen\u001b[0m\u001b[0;34m(\u001b[0m\u001b[0mclasses\u001b[0m\u001b[0;34m)\u001b[0m\u001b[0;34m)\u001b[0m\u001b[0;34m\u001b[0m\u001b[0m\n\u001b[1;32m     78\u001b[0m     \u001b[0;32mif\u001b[0m \u001b[0mnp\u001b[0m\u001b[0;34m.\u001b[0m\u001b[0mall\u001b[0m\u001b[0;34m(\u001b[0m\u001b[0mclasses_recoded\u001b[0m \u001b[0;34m==\u001b[0m \u001b[0mclasses\u001b[0m\u001b[0;34m)\u001b[0m\u001b[0;34m:\u001b[0m\u001b[0;34m\u001b[0m\u001b[0m\n",
      "\u001b[0;31mValueError\u001b[0m: Multinomial classification with more than 2 labels is not possible"
     ],
     "output_type": "error"
    }
   ],
   "source": [
    "import parsimony.estimators as estimators\n",
    "import parsimony.algorithms as algorithms\n",
    "import parsimony.functions.nesterov.gl as gl\n",
    "import parsimony.utils.start_vectors as start_vectors\n",
    "\n",
    "\n",
    "X, y = tgca_luad.make_dataset(dataset='miRNA', normal_tumor='both', normal_matched=True, mirna_gene_matched=False,\n",
    "                              pathologic_stages=['normal', 'Stage I', 'Stage II', 'Stage III', 'Stage IV'], \n",
    "                              label_mapping={'normal': -1, 'Stage I': 1, 'Stage II': 1, 'Stage III': 1, 'Stage IV': 1})\n",
    "\n",
    "X_train, X_test, Y_train, Y_test = \\\n",
    "    train_test_split(X, y, test_size=0.2, random_state=np.random.randint(0, 10000), stratify=y)\n",
    "\n",
    "A = gl.linear_operator_from_groups(X_train.shape[1],\n",
    "                                   network.miRNA_clusters_int\n",
    "                                   # weights=[2*1./len(g) for g in network.miRNA_groups_int]\n",
    "                                   )\n",
    "beta = start_vectors.ZerosStartVector().get_vector(X_train.shape[1])\n",
    "\n",
    "logistic_L1L2GL = estimators.LogisticRegressionL1L2GL(l1=2.5, l2=0.0, gl=3.5, A=A,\n",
    "                                                      algorithm=algorithms.proximal.FISTA(),\n",
    "                                                      class_weight='auto',\n",
    "                                                      algorithm_params=dict(max_iter=1000),\n",
    "                                                      mean=False)\n",
    "logistic_L1L2GL.fit(X=X_train, y=Y_train, beta=beta)\n",
    "\n",
    "print 'Non-zero:', len(logistic_L1L2GL.beta.nonzero()[0])"
   ]
  },
  {
   "cell_type": "markdown",
   "metadata": {},
   "source": [
    "## OneVsRestClassifier"
   ]
  },
  {
   "cell_type": "code",
   "execution_count": 21,
   "metadata": {
    "collapsed": true
   },
   "outputs": [
    {
     "data": {
      "text/plain": [
       "OneVsRestClassifier(estimator=LRSGLWrapper(A=None, gl=0, l1=2.5, l2=0.0, max_iter=1000),\n          n_jobs=1)"
      ]
     },
     "execution_count": 21,
     "metadata": {},
     "output_type": "execute_result"
    }
   ],
   "source": [
    "from sklearn.multiclass import OneVsRestClassifier\n",
    "from src.models.group_lasso_spams import LRSGLWrapper\n",
    "\n",
    "lrsgl_one_vs_rest = OneVsRestClassifier(LRSGLWrapper(l1=2.5, l2=0.0, gl=5, A=A, max_iter=500))\n",
    "lrsgl_one_vs_rest.fit(X=X_multi_train, y=Y_multi_train)\n",
    "\n",
    "lr_one_vs_rest = OneVsRestClassifier(LRSGLWrapper(l1=2.5, l2=0.0, gl=0, max_iter=1000))\n",
    "lr_one_vs_rest.fit(X=X_multi_train, y=Y_multi_train)"
   ]
  },
  {
   "cell_type": "markdown",
   "metadata": {},
   "source": [
    "## ROC Curve Cross Validation for LRSGL"
   ]
  },
  {
   "cell_type": "code",
   "execution_count": 26,
   "metadata": {},
   "outputs": [
    {
     "name": "stdout",
     "output_type": "stream",
     "text": [
      "ROC micro nan\nROC macro nan\n"
     ]
    },
    {
     "data": {
      "image/png": "[encoded data removed]",
      "text/plain": [
       "<matplotlib.figure.Figure at 0x7f5b73886390>"
      ]
     },
     "metadata": {},
     "output_type": "display_data"
    }
   ],
   "source": [
    "from sklearn import metrics\n",
    "from sklearn.metrics import roc_curve, auc\n",
    "from sklearn.preprocessing import label_binarize\n",
    "from scipy import interp\n",
    "from itertools import cycle\n",
    "from sklearn.multiclass import OneVsRestClassifier\n",
    "\n",
    "X, y = tgca_luad.make_dataset(dataset='miRNA', normal_tumor='both', normal_matched=False, mirna_gene_matched=False,\n",
    "                              pathologic_stages=['normal', 'Stage I', 'Stage II', 'Stage III', 'Stage IV'],\n",
    "                              label_mapping={'normal': 0, 'Stage I': 1, 'Stage II': 2, 'Stage III': 3, 'Stage IV': 4})\n",
    "y = label_binarize(y, classes=[0, 1, 2, 3, 4])\n",
    "n_classes = y.shape[1]\n",
    "n_samples, n_features = X.shape\n",
    "X_train, X_test, y_train, y_test = train_test_split(X, y, test_size=.2, stratify=y,\n",
    "                                                    random_state=0)\n",
    "\n",
    "colors = cycle(['darkorange', 'indigo', 'seagreen', 'gray', 'red', 'cyan'])\n",
    "linestyles = cycle(['solid', 'dashed', 'dashdot', 'dotted'])\n",
    "lw = 2\n",
    "\n",
    "lr_ovr_with_sgl = OneVsRestClassifier(LRSGLWrapper(l1=2.5, l2=0.0, gl=3.5, A=A, max_iter=1000))\n",
    "y_score = lr_ovr_with_sgl.fit(X_train, y_train).predict_proba(X_test)\n",
    "\n",
    "j = 0\n",
    "\n",
    "fpr = dict()\n",
    "tpr = dict()\n",
    "roc_auc = dict()\n",
    "for i in range(n_classes):\n",
    "    fpr[i], tpr[i], _ = roc_curve(y_test[:, i], y_score[:, i])\n",
    "    roc_auc[i] = auc(fpr[i], tpr[i])\n",
    "\n",
    "# Compute micro-average ROC curve and ROC area\n",
    "fpr[\"micro\"], tpr[\"micro\"], _ = roc_curve(y_test.ravel(), y_score.ravel())\n",
    "roc_auc[\"micro\"] = auc(fpr[\"micro\"], tpr[\"micro\"])\n",
    "\n",
    "\n",
    "# Compute macro-average ROC curve and ROC area\n",
    "\n",
    "# First aggregate all false positive rates\n",
    "all_fpr = np.unique(np.concatenate([fpr[i] for i in range(n_classes)]))\n",
    "\n",
    "# Then interpolate all ROC curves at this points\n",
    "mean_tpr = np.zeros_like(all_fpr)\n",
    "for i in range(n_classes):\n",
    "    mean_tpr += interp(all_fpr, fpr[i], tpr[i])\n",
    "\n",
    "# Finally average it and compute AUC\n",
    "mean_tpr /= n_classes\n",
    "\n",
    "fpr[\"macro\"] = all_fpr\n",
    "tpr[\"macro\"] = mean_tpr\n",
    "roc_auc[\"macro\"] = auc(fpr[\"macro\"], tpr[\"macro\"])\n",
    "\n",
    "# Plot all ROC curves\n",
    "plt.figure(dpi=150)\n",
    "print 'ROC micro', roc_auc[\"micro\"]\n",
    "print 'ROC macro', roc_auc[\"macro\"]\n",
    "\n",
    "# colors = cycle(['aqua', 'darkorange', 'cornflowerblue'])\n",
    "colors = cycle(['deeppink', 'darkorange', 'indigo', 'seagreen', 'gray', 'red', 'cyan'])\n",
    "linestyles = cycle(['solid', 'dashdot', '--', 'dotted', ':'])\n",
    "for i, color, linestyle in zip(range(n_classes), colors, linestyles):\n",
    "    if i == 0:\n",
    "        label = 'normal'\n",
    "    elif i==1:\n",
    "        label = 'stage I'\n",
    "    elif i==2:\n",
    "        label = 'stage II'\n",
    "    elif i==3:\n",
    "        label = 'stage III'\n",
    "    elif i==4:\n",
    "        label = 'stage IV'\n",
    "        \n",
    "    plt.plot(fpr[i], tpr[i], color=color, lw=lw, linestyle=linestyle,\n",
    "             label='{0} ROC (area={1:0.2f})'\n",
    "             ''.format(label, roc_auc[i]))\n",
    "\n",
    "plt.plot([0, 1], [0, 1], 'k--', lw=0.5)\n",
    "plt.xlim([-0.02, 1.02])\n",
    "plt.ylim([-0.02, 1.02])\n",
    "plt.xlabel('False Positive Rate')\n",
    "plt.ylabel('True Positive Rate')\n",
    "# plt.title('Some extension of Receiver operating characteristic to multi-class')\n",
    "plt.legend(loc=\"lower right\")\n",
    "plt.show()"
   ]
  },
  {
   "cell_type": "markdown",
   "metadata": {},
   "source": [
    "## Cross Validation for LR WITHOUT SGL"
   ]
  },
  {
   "cell_type": "code",
   "execution_count": 27,
   "metadata": {
    "collapsed": true
   },
   "outputs": [
    {
     "name": "stdout",
     "output_type": "stream",
     "text": [
      "ROC micro nan\nROC macro nan\n"
     ]
    },
    {
     "data": {
      "image/png": "[encoded data removed]",
      "text/plain": [
       "<matplotlib.figure.Figure at 0x7f5b73ddad10>"
      ]
     },
     "metadata": {},
     "output_type": "display_data"
    }
   ],
   "source": [
    "from sklearn import metrics\n",
    "from sklearn.metrics import roc_curve, auc\n",
    "from scipy import interp\n",
    "from itertools import cycle\n",
    "from sklearn.multiclass import OneVsRestClassifier\n",
    "\n",
    "X, y = tgca_luad.make_dataset(dataset='miRNA', normal_tumor='both', normal_matched=False, mirna_gene_matched=False,\n",
    "                              pathologic_stages=['normal', 'Stage I', 'Stage II', 'Stage III', 'Stage IV'],\n",
    "                              label_mapping={'normal': 0, 'Stage I': 1, 'Stage II': 2, 'Stage III': 3, 'Stage IV': 4})\n",
    "y = label_binarize(y, classes=[0, 1, 2, 3, 4])\n",
    "n_classes = y.shape[1]\n",
    "n_samples, n_features = X.shape\n",
    "X_train, X_test, y_train, y_test = train_test_split(X, y, test_size=.2, stratify=y,\n",
    "                                                    random_state=2)\n",
    "lw = 2\n",
    "\n",
    "lr_ovr_wo_sgl = OneVsRestClassifier(LRSGLWrapper(l1=5.5, max_iter=1000))\n",
    "y_score = lr_ovr_wo_sgl.fit(X_train, y_train).predict_proba(X_test)\n",
    "\n",
    "fpr = dict()\n",
    "tpr = dict()\n",
    "roc_auc = dict()\n",
    "for i in range(n_classes):\n",
    "    fpr[i], tpr[i], _ = roc_curve(y_test[:, i], y_score[:, i])\n",
    "    roc_auc[i] = auc(fpr[i], tpr[i])\n",
    "\n",
    "# Compute micro-average ROC curve and ROC area\n",
    "fpr[\"micro\"], tpr[\"micro\"], _ = roc_curve(y_test.ravel(), y_score.ravel())\n",
    "roc_auc[\"micro\"] = auc(fpr[\"micro\"], tpr[\"micro\"])\n",
    "\n",
    "# Compute macro-average ROC curve and ROC area\n",
    "\n",
    "# First aggregate all false positive rates\n",
    "all_fpr = np.unique(np.concatenate([fpr[i] for i in range(n_classes)]))\n",
    "\n",
    "# Then interpolate all ROC curves at this points\n",
    "mean_tpr = np.zeros_like(all_fpr)\n",
    "for i in range(n_classes):\n",
    "    mean_tpr += interp(all_fpr, fpr[i], tpr[i])\n",
    "\n",
    "# Finally average it and compute AUC\n",
    "mean_tpr /= n_classes\n",
    "\n",
    "fpr[\"macro\"] = all_fpr\n",
    "tpr[\"macro\"] = mean_tpr\n",
    "roc_auc[\"macro\"] = auc(fpr[\"macro\"], tpr[\"macro\"])\n",
    "\n",
    "# Plot all ROC curves\n",
    "plt.figure(dpi=150)\n",
    "\n",
    "print 'ROC micro', roc_auc[\"micro\"]\n",
    "print 'ROC macro', roc_auc[\"macro\"]\n",
    "\n",
    "colors = cycle(['deeppink', 'darkorange', 'indigo', 'seagreen', 'gray', 'red', 'cyan'])\n",
    "linestyles = cycle(['solid', 'dashdot', '--', 'dotted', ':'])\n",
    "for i, color, linestyle in zip(range(n_classes), colors, linestyles):\n",
    "    if i == 0:\n",
    "        label = 'normal'\n",
    "    elif i==1:\n",
    "        label = 'stage I'\n",
    "    elif i==2:\n",
    "        label = 'stage II'\n",
    "    elif i==3:\n",
    "        label = 'stage III'\n",
    "    elif i==4:\n",
    "        label = 'stage IV'\n",
    "        \n",
    "    plt.plot(fpr[i], tpr[i], color=color, lw=lw, linestyle=linestyle,\n",
    "             label='{0} ROC (area={1:0.2f})'\n",
    "             ''.format(label, roc_auc[i]))\n",
    "\n",
    "plt.plot([0, 1], [0, 1], 'k--', lw=0.5)\n",
    "plt.xlim([-0.02, 1.02])\n",
    "plt.ylim([-0.02, 1.02])\n",
    "plt.xlabel('False Positive Rate')\n",
    "plt.ylabel('True Positive Rate')\n",
    "# plt.title('Some extension of Receiver operating characteristic to multi-class')\n",
    "plt.legend(loc=\"lower right\")\n",
    "plt.show()"
   ]
  },
  {
   "cell_type": "markdown",
   "metadata": {},
   "source": [
    "## Parameter selection"
   ]
  },
  {
   "cell_type": "code",
   "execution_count": 181,
   "metadata": {
    "collapsed": true
   },
   "outputs": [
    {
     "data": {
      "image/png": "[encoded data removed]",
      "text/plain": [
       "<matplotlib.figure.Figure at 0x7f9a27ccc610>"
      ]
     },
     "metadata": {},
     "output_type": "display_data"
    }
   ],
   "source": [
    "from matplotlib import pyplot as plt\n",
    "\n",
    "plt.figure(figsize=(8, 6), dpi=80)\n",
    "plt.plot(parameters['alpha'], l1_scores, 'o-')\n",
    "\n",
    "plt.xlabel('alpha')\n",
    "plt.ylabel('f1-score, averaged on 5-fold cross validation')\n",
    "plt.title('')\n",
    "# plt.ylim(0, 1)\n",
    "plt.show()"
   ]
  },
  {
   "cell_type": "code",
   "execution_count": 115,
   "metadata": {
    "collapsed": true
   },
   "outputs": [
    {
     "data": {
      "image/png": "[encoded data removed]",
      "text/plain": [
       "<matplotlib.figure.Figure at 0x7f9a09fdc9d0>"
      ]
     },
     "metadata": {},
     "output_type": "display_data"
    }
   ],
   "source": [
    "from matplotlib import pyplot as plt\n",
    "\n",
    "plt.figure(figsize=(8, 6), dpi=80)\n",
    "plt.plot(parameters['lambda'], gl_scores, 'o-')\n",
    "\n",
    "plt.xlabel('gl')\n",
    "plt.ylabel('f1-score, averaged on 5-fold cross validation')\n",
    "plt.title('')\n",
    "# plt.ylim(0,1)\n",
    "plt.show()"
   ]
  },
  {
   "cell_type": "markdown",
   "metadata": {},
   "source": [
    "\n",
    "## Classification Report"
   ]
  },
  {
   "cell_type": "code",
   "execution_count": 298,
   "metadata": {
    "collapsed": true
   },
   "outputs": [
    {
     "name": "stdout",
     "output_type": "stream",
     "text": [
      "\nlr_ovr_wo_sgl\n"
     ]
    },
    {
     "ename": "ValueError",
     "evalue": "row index exceeds matrix dimensions",
     "traceback": [
      "\u001b[0;31m\u001b[0m",
      "\u001b[0;31mValueError\u001b[0mTraceback (most recent call last)",
      "\u001b[0;32m<ipython-input-298-1dfb61c7a654>\u001b[0m in \u001b[0;36m<module>\u001b[0;34m()\u001b[0m\n\u001b[1;32m     21\u001b[0m         \u001b[0;32mprint\u001b[0m \u001b[0mmetrics\u001b[0m\u001b[0;34m.\u001b[0m\u001b[0mclassification_report\u001b[0m\u001b[0;34m(\u001b[0m\u001b[0mY_test\u001b[0m\u001b[0;34m,\u001b[0m \u001b[0mpredicted\u001b[0m\u001b[0;34m)\u001b[0m\u001b[0;34m\u001b[0m\u001b[0m\n\u001b[1;32m     22\u001b[0m     \u001b[0;32melif\u001b[0m \u001b[0mmodel\u001b[0m \u001b[0;32mis\u001b[0m \u001b[0mmulti_task_l1l2\u001b[0m \u001b[0;32mor\u001b[0m \u001b[0mmodel\u001b[0m \u001b[0;32mis\u001b[0m \u001b[0mlr_ovr_wo_sgl\u001b[0m \u001b[0;32mor\u001b[0m \u001b[0mmodel\u001b[0m \u001b[0;32mis\u001b[0m \u001b[0mlr_ovr_with_sgl\u001b[0m\u001b[0;34m:\u001b[0m\u001b[0;34m\u001b[0m\u001b[0m\n\u001b[0;32m---> 23\u001b[0;31m         \u001b[0;32mprint\u001b[0m \u001b[0mmetrics\u001b[0m\u001b[0;34m.\u001b[0m\u001b[0mclassification_report\u001b[0m\u001b[0;34m(\u001b[0m\u001b[0mY_multi_train\u001b[0m\u001b[0;34m,\u001b[0m \u001b[0mmodel\u001b[0m\u001b[0;34m.\u001b[0m\u001b[0mpredict\u001b[0m\u001b[0;34m(\u001b[0m\u001b[0mX_multi_train\u001b[0m\u001b[0;34m)\u001b[0m\u001b[0;34m)\u001b[0m\u001b[0;34m\u001b[0m\u001b[0m\n\u001b[0m\u001b[1;32m     24\u001b[0m         \u001b[0;32mprint\u001b[0m \u001b[0mmetrics\u001b[0m\u001b[0;34m.\u001b[0m\u001b[0mclassification_report\u001b[0m\u001b[0;34m(\u001b[0m\u001b[0mY_multi_test\u001b[0m\u001b[0;34m,\u001b[0m \u001b[0mmodel\u001b[0m\u001b[0;34m.\u001b[0m\u001b[0mpredict\u001b[0m\u001b[0;34m(\u001b[0m\u001b[0mX_multi_test\u001b[0m\u001b[0;34m)\u001b[0m\u001b[0;34m)\u001b[0m\u001b[0;34m\u001b[0m\u001b[0m\n\u001b[1;32m     25\u001b[0m     \u001b[0;31m# elif model is multi_task_l1l2_cluster:\u001b[0m\u001b[0;34m\u001b[0m\u001b[0;34m\u001b[0m\u001b[0m\n",
      "\u001b[0;32m/opt/anaconda/lib/python2.7/site-packages/sklearn/multiclass.pyc\u001b[0m in \u001b[0;36mpredict\u001b[0;34m(self, X)\u001b[0m\n\u001b[1;32m    313\u001b[0m             indicator = sp.csc_matrix((data, indices, indptr),\n\u001b[1;32m    314\u001b[0m                                       shape=(n_samples, len(self.estimators_)))\n\u001b[0;32m--> 315\u001b[0;31m             \u001b[0;32mreturn\u001b[0m \u001b[0mself\u001b[0m\u001b[0;34m.\u001b[0m\u001b[0mlabel_binarizer_\u001b[0m\u001b[0;34m.\u001b[0m\u001b[0minverse_transform\u001b[0m\u001b[0;34m(\u001b[0m\u001b[0mindicator\u001b[0m\u001b[0;34m)\u001b[0m\u001b[0;34m\u001b[0m\u001b[0m\n\u001b[0m\u001b[1;32m    316\u001b[0m \u001b[0;34m\u001b[0m\u001b[0m\n\u001b[1;32m    317\u001b[0m     \u001b[0;32mdef\u001b[0m \u001b[0mpredict_proba\u001b[0m\u001b[0;34m(\u001b[0m\u001b[0mself\u001b[0m\u001b[0;34m,\u001b[0m \u001b[0mX\u001b[0m\u001b[0;34m)\u001b[0m\u001b[0;34m:\u001b[0m\u001b[0;34m\u001b[0m\u001b[0m\n",
      "\u001b[0;32m/opt/anaconda/lib/python2.7/site-packages/sklearn/preprocessing/label.pyc\u001b[0m in \u001b[0;36minverse_transform\u001b[0;34m(self, Y, threshold)\u001b[0m\n\u001b[1;32m    381\u001b[0m             \u001b[0my_inv\u001b[0m \u001b[0;34m=\u001b[0m \u001b[0msp\u001b[0m\u001b[0;34m.\u001b[0m\u001b[0mcsr_matrix\u001b[0m\u001b[0;34m(\u001b[0m\u001b[0my_inv\u001b[0m\u001b[0;34m)\u001b[0m\u001b[0;34m\u001b[0m\u001b[0m\n\u001b[1;32m    382\u001b[0m         \u001b[0;32melif\u001b[0m \u001b[0msp\u001b[0m\u001b[0;34m.\u001b[0m\u001b[0missparse\u001b[0m\u001b[0;34m(\u001b[0m\u001b[0my_inv\u001b[0m\u001b[0;34m)\u001b[0m\u001b[0;34m:\u001b[0m\u001b[0;34m\u001b[0m\u001b[0m\n\u001b[0;32m--> 383\u001b[0;31m             \u001b[0my_inv\u001b[0m \u001b[0;34m=\u001b[0m \u001b[0my_inv\u001b[0m\u001b[0;34m.\u001b[0m\u001b[0mtoarray\u001b[0m\u001b[0;34m(\u001b[0m\u001b[0;34m)\u001b[0m\u001b[0;34m\u001b[0m\u001b[0m\n\u001b[0m\u001b[1;32m    384\u001b[0m \u001b[0;34m\u001b[0m\u001b[0m\n\u001b[1;32m    385\u001b[0m         \u001b[0;32mreturn\u001b[0m \u001b[0my_inv\u001b[0m\u001b[0;34m\u001b[0m\u001b[0m\n",
      "\u001b[0;32m/opt/anaconda/lib/python2.7/site-packages/scipy/sparse/compressed.pyc\u001b[0m in \u001b[0;36mtoarray\u001b[0;34m(self, order, out)\u001b[0m\n\u001b[1;32m    918\u001b[0m     \u001b[0;32mdef\u001b[0m \u001b[0mtoarray\u001b[0m\u001b[0;34m(\u001b[0m\u001b[0mself\u001b[0m\u001b[0;34m,\u001b[0m \u001b[0morder\u001b[0m\u001b[0;34m=\u001b[0m\u001b[0mNone\u001b[0m\u001b[0;34m,\u001b[0m \u001b[0mout\u001b[0m\u001b[0;34m=\u001b[0m\u001b[0mNone\u001b[0m\u001b[0;34m)\u001b[0m\u001b[0;34m:\u001b[0m\u001b[0;34m\u001b[0m\u001b[0m\n\u001b[1;32m    919\u001b[0m         \u001b[0;34m\"\"\"See the docstring for `spmatrix.toarray`.\"\"\"\u001b[0m\u001b[0;34m\u001b[0m\u001b[0m\n\u001b[0;32m--> 920\u001b[0;31m         \u001b[0;32mreturn\u001b[0m \u001b[0mself\u001b[0m\u001b[0;34m.\u001b[0m\u001b[0mtocoo\u001b[0m\u001b[0;34m(\u001b[0m\u001b[0mcopy\u001b[0m\u001b[0;34m=\u001b[0m\u001b[0mFalse\u001b[0m\u001b[0;34m)\u001b[0m\u001b[0;34m.\u001b[0m\u001b[0mtoarray\u001b[0m\u001b[0;34m(\u001b[0m\u001b[0morder\u001b[0m\u001b[0;34m=\u001b[0m\u001b[0morder\u001b[0m\u001b[0;34m,\u001b[0m \u001b[0mout\u001b[0m\u001b[0;34m=\u001b[0m\u001b[0mout\u001b[0m\u001b[0;34m)\u001b[0m\u001b[0;34m\u001b[0m\u001b[0m\n\u001b[0m\u001b[1;32m    921\u001b[0m \u001b[0;34m\u001b[0m\u001b[0m\n\u001b[1;32m    922\u001b[0m     \u001b[0;31m##############################################################\u001b[0m\u001b[0;34m\u001b[0m\u001b[0;34m\u001b[0m\u001b[0m\n",
      "\u001b[0;32m/opt/anaconda/lib/python2.7/site-packages/scipy/sparse/compressed.pyc\u001b[0m in \u001b[0;36mtocoo\u001b[0;34m(self, copy)\u001b[0m\n\u001b[1;32m    912\u001b[0m         \u001b[0;32mfrom\u001b[0m \u001b[0;34m.\u001b[0m\u001b[0mcoo\u001b[0m \u001b[0;32mimport\u001b[0m \u001b[0mcoo_matrix\u001b[0m\u001b[0;34m\u001b[0m\u001b[0m\n\u001b[1;32m    913\u001b[0m         return coo_matrix((self.data, (row, col)), self.shape, copy=copy,\n\u001b[0;32m--> 914\u001b[0;31m                           dtype=self.dtype)\n\u001b[0m\u001b[1;32m    915\u001b[0m \u001b[0;34m\u001b[0m\u001b[0m\n\u001b[1;32m    916\u001b[0m     \u001b[0mtocoo\u001b[0m\u001b[0;34m.\u001b[0m\u001b[0m__doc__\u001b[0m \u001b[0;34m=\u001b[0m \u001b[0mspmatrix\u001b[0m\u001b[0;34m.\u001b[0m\u001b[0mtocoo\u001b[0m\u001b[0;34m.\u001b[0m\u001b[0m__doc__\u001b[0m\u001b[0;34m\u001b[0m\u001b[0m\n",
      "\u001b[0;32m/opt/anaconda/lib/python2.7/site-packages/scipy/sparse/coo.pyc\u001b[0m in \u001b[0;36m__init__\u001b[0;34m(self, arg1, shape, dtype, copy)\u001b[0m\n\u001b[1;32m    182\u001b[0m             \u001b[0mself\u001b[0m\u001b[0;34m.\u001b[0m\u001b[0mdata\u001b[0m \u001b[0;34m=\u001b[0m \u001b[0mself\u001b[0m\u001b[0;34m.\u001b[0m\u001b[0mdata\u001b[0m\u001b[0;34m.\u001b[0m\u001b[0mastype\u001b[0m\u001b[0;34m(\u001b[0m\u001b[0mdtype\u001b[0m\u001b[0;34m,\u001b[0m \u001b[0mcopy\u001b[0m\u001b[0;34m=\u001b[0m\u001b[0mFalse\u001b[0m\u001b[0;34m)\u001b[0m\u001b[0;34m\u001b[0m\u001b[0m\n\u001b[1;32m    183\u001b[0m \u001b[0;34m\u001b[0m\u001b[0m\n\u001b[0;32m--> 184\u001b[0;31m         \u001b[0mself\u001b[0m\u001b[0;34m.\u001b[0m\u001b[0m_check\u001b[0m\u001b[0;34m(\u001b[0m\u001b[0;34m)\u001b[0m\u001b[0;34m\u001b[0m\u001b[0m\n\u001b[0m\u001b[1;32m    185\u001b[0m \u001b[0;34m\u001b[0m\u001b[0m\n\u001b[1;32m    186\u001b[0m     \u001b[0;32mdef\u001b[0m \u001b[0mgetnnz\u001b[0m\u001b[0;34m(\u001b[0m\u001b[0mself\u001b[0m\u001b[0;34m,\u001b[0m \u001b[0maxis\u001b[0m\u001b[0;34m=\u001b[0m\u001b[0mNone\u001b[0m\u001b[0;34m)\u001b[0m\u001b[0;34m:\u001b[0m\u001b[0;34m\u001b[0m\u001b[0m\n",
      "\u001b[0;32m/opt/anaconda/lib/python2.7/site-packages/scipy/sparse/coo.pyc\u001b[0m in \u001b[0;36m_check\u001b[0;34m(self)\u001b[0m\n\u001b[1;32m    228\u001b[0m         \u001b[0;32mif\u001b[0m \u001b[0mself\u001b[0m\u001b[0;34m.\u001b[0m\u001b[0mnnz\u001b[0m \u001b[0;34m>\u001b[0m \u001b[0;36m0\u001b[0m\u001b[0;34m:\u001b[0m\u001b[0;34m\u001b[0m\u001b[0m\n\u001b[1;32m    229\u001b[0m             \u001b[0;32mif\u001b[0m \u001b[0mself\u001b[0m\u001b[0;34m.\u001b[0m\u001b[0mrow\u001b[0m\u001b[0;34m.\u001b[0m\u001b[0mmax\u001b[0m\u001b[0;34m(\u001b[0m\u001b[0;34m)\u001b[0m \u001b[0;34m>=\u001b[0m \u001b[0mself\u001b[0m\u001b[0;34m.\u001b[0m\u001b[0mshape\u001b[0m\u001b[0;34m[\u001b[0m\u001b[0;36m0\u001b[0m\u001b[0;34m]\u001b[0m\u001b[0;34m:\u001b[0m\u001b[0;34m\u001b[0m\u001b[0m\n\u001b[0;32m--> 230\u001b[0;31m                 \u001b[0;32mraise\u001b[0m \u001b[0mValueError\u001b[0m\u001b[0;34m(\u001b[0m\u001b[0;34m'row index exceeds matrix dimensions'\u001b[0m\u001b[0;34m)\u001b[0m\u001b[0;34m\u001b[0m\u001b[0m\n\u001b[0m\u001b[1;32m    231\u001b[0m             \u001b[0;32mif\u001b[0m \u001b[0mself\u001b[0m\u001b[0;34m.\u001b[0m\u001b[0mcol\u001b[0m\u001b[0;34m.\u001b[0m\u001b[0mmax\u001b[0m\u001b[0;34m(\u001b[0m\u001b[0;34m)\u001b[0m \u001b[0;34m>=\u001b[0m \u001b[0mself\u001b[0m\u001b[0;34m.\u001b[0m\u001b[0mshape\u001b[0m\u001b[0;34m[\u001b[0m\u001b[0;36m1\u001b[0m\u001b[0;34m]\u001b[0m\u001b[0;34m:\u001b[0m\u001b[0;34m\u001b[0m\u001b[0m\n\u001b[1;32m    232\u001b[0m                 \u001b[0;32mraise\u001b[0m \u001b[0mValueError\u001b[0m\u001b[0;34m(\u001b[0m\u001b[0;34m'column index exceeds matrix dimensions'\u001b[0m\u001b[0;34m)\u001b[0m\u001b[0;34m\u001b[0m\u001b[0m\n",
      "\u001b[0;31mValueError\u001b[0m: row index exceeds matrix dimensions"
     ],
     "output_type": "error"
    }
   ],
   "source": [
    "from sklearn import metrics\n",
    "\n",
    "for model, name in [\n",
    "                    # (logistic_L1L2GL, 'Logistic L1L2GL'),\n",
    "                    (lr_ovr_wo_sgl, 'lr_ovr_wo_sgl'),\n",
    "                    (lr_ovr_with_sgl, 'lr_ovr_with_sgl'),\n",
    "                    # (multi_task_l1l2, 'multi-task l1l2'),\n",
    "                    # (multi_task_l1l2_cluster, 'multi_task_l1l2_cluster'),\n",
    "                    # (group_l2, 'group_small'),\n",
    "                    # (l1_lasso, 'l1_lasso'),\n",
    "                    # (elastic_net, 'elastic_net'),\n",
    "                    # (sparse_group_l2, 'sparse-group_small')\n",
    "                    ]:\n",
    "    print '\\n', name\n",
    "    if model is logistic_L1L2GL:\n",
    "        predicted = logistic_L1L2GL.predict(X_train)\n",
    "        np.place(predicted, predicted == 0., [-1])\n",
    "        print metrics.classification_report(Y_train, predicted)\n",
    "        predicted = logistic_L1L2GL.predict(X_test)\n",
    "        np.place(predicted, predicted == 0., [-1])\n",
    "        print metrics.classification_report(Y_test, predicted)\n",
    "    elif model is multi_task_l1l2 or model is lr_ovr_wo_sgl or model is lr_ovr_with_sgl:\n",
    "        print metrics.classification_report(Y_multi_train, model.predict(X_multi_train))\n",
    "        print metrics.classification_report(Y_multi_test, model.predict(X_multi_test))\n",
    "    # elif model is multi_task_l1l2_cluster:\n",
    "    #     print metrics.classification_report(Y_multi_train, model.predict(X_multi_train.T[clustered_miRNA_indices].T))\n",
    "        # print metrics.classification_report(Y_multi_test, model.predict(X_multi_test.T[clustered_miRNA_indices].T))\n",
    "    else:\n",
    "        print metrics.classification_report(Y_train, model.predict(X_train))\n",
    "        print metrics.classification_report(Y_test, model.predict(X_test))"
   ]
  },
  {
   "cell_type": "markdown",
   "metadata": {},
   "source": [
    "## Loading HMDD database for experimentally validated NSCLC miRNA"
   ]
  },
  {
   "cell_type": "code",
   "execution_count": 278,
   "metadata": {
    "collapsed": false
   },
   "outputs": [
    {
     "name": "stdout",
     "output_type": "stream",
     "text": [
      "HMDD_lung_neoplasm_miRNAs (157,)\nmiRCancer_luad_miRNAs 27\nmir2disease_nsclc_miRNAs (24,)\n"
     ]
    },
    {
     "name": "stdout",
     "output_type": "stream",
     "text": [
      "dbDEMC_luad_miRNAs 545\n"
     ]
    }
   ],
   "source": [
    "HMDD_df = pandas.read_table(os.path.join(ROOT_DIR, 'data/external/HMDD_miRNA-disease.txt'), delimiter='\\t', header=-1)\n",
    "HMDD_df = HMDD_df[HMDD_df[2] == \"Lung Neoplasms\"]\n",
    "HMDD_lung_neoplasm_miRNAs = HMDD_df[1].unique()\n",
    "print \"HMDD_lung_neoplasm_miRNAs\", HMDD_lung_neoplasm_miRNAs.shape\n",
    "\n",
    "miRCancer_luad_miRNA_df = pandas.read_csv(os.path.join(ROOT_DIR, 'data/external/validated_luad_miRNAs_miRCancer.csv'))\n",
    "miRCancer_luad_miRNAs = set(miRCancer_luad_miRNA_df['miRNA'].tolist())\n",
    "print \"miRCancer_luad_miRNAs\", len(miRCancer_luad_miRNAs)\n",
    "\n",
    "\n",
    "mir2disease_nsclc_miRNA_df = pandas.read_table(os.path.join(ROOT_DIR, 'data/external/mir2Disease_miRNA-Disease.txt'), delimiter='\\t', header=-1) \n",
    "mir2disease_nsclc_miRNA_df.columns = ['miRNA', 'disease', 'up_down', 'method', 'year', 'description'] \n",
    "mir2disease_nsclc_miRNA_df = mir2disease_nsclc_miRNA_df[(mir2disease_nsclc_miRNA_df['disease'] == 'non-small cell lung cancer (NSCLC)')]\n",
    "mir2disease_nsclc_miRNA_df['miRNA'] = mir2disease_nsclc_miRNA_df['miRNA'].str.lower()\n",
    "mir2disease_nsclc_miRNA_df['miRNA'] = mir2disease_nsclc_miRNA_df['miRNA'].str.replace(\"*\", \"\")\n",
    "mir2disease_nsclc_miRNA_df['miRNA'] = mir2disease_nsclc_miRNA_df['miRNA'].str.replace(\"-3p.*|-5p.*\", \"\")\n",
    "mir2disease_nsclc_miRNA_df.drop_duplicates(inplace=True)\n",
    "mir2disease_nsclc_miRNAs = mir2disease_nsclc_miRNA_df['miRNA'].unique()\n",
    "print \"mir2disease_nsclc_miRNAs\", mir2disease_nsclc_miRNAs.shape\n",
    "\n",
    "dbDEMC_df = pandas.read_table(os.path.join(ROOT_DIR, 'data/external/dbDEMC.txt'), delimiter='\\t')\n",
    "dbDEMC_df = dbDEMC_df[dbDEMC_df['Cancer Type'] == 'lung cancer']\n",
    "dbDEMC_df = dbDEMC_df[dbDEMC_df['Cancer Subtype'] == 'lung adenocarcinoma']\n",
    "dbDEMC_df['miRNA ID'] = dbDEMC_df['miRNA ID'].str.lower()\n",
    "dbDEMC_df['miRNA ID'] = dbDEMC_df['miRNA ID'].str.replace(\"*\", \"\")\n",
    "dbDEMC_df['miRNA ID'] = dbDEMC_df['miRNA ID'].str.replace(\"-3p.*|-5p.*\", \"\")\n",
    "dbDEMC_luad_miRNAs = dbDEMC_df['miRNA ID'].unique()\n",
    "print 'dbDEMC_luad_miRNAs', len(dbDEMC_df['miRNA ID'].unique())\n",
    "\n",
    "validating_miRNAs = dbDEMC_luad_miRNAs"
   ]
  },
  {
   "cell_type": "markdown",
   "metadata": {},
   "source": [
    "## Compare models by recall rate"
   ]
  },
  {
   "cell_type": "code",
   "execution_count": 299,
   "metadata": {
    "collapsed": false
   },
   "outputs": [
    {
     "data": {
      "text/html": [
       "<div>\n",
       "<table border=\"1\" class=\"dataframe\">\n",
       "  <thead>\n",
       "    <tr style=\"text-align: right;\">\n",
       "      <th></th>\n",
       "      <th>method</th>\n",
       "      <th>no_selected</th>\n",
       "      <th>recall_rate</th>\n",
       "      <th>precision_rate</th>\n",
       "    </tr>\n",
       "  </thead>\n",
       "  <tbody>\n",
       "    <tr>\n",
       "      <th>0</th>\n",
       "      <td>lr_ovr_with_sgl</td>\n",
       "      <td>1023</td>\n",
       "      <td>0.715596</td>\n",
       "      <td>0.381232</td>\n",
       "    </tr>\n",
       "    <tr>\n",
       "      <th>1</th>\n",
       "      <td>lr_ovr_wo_sgl</td>\n",
       "      <td>731</td>\n",
       "      <td>0.673394</td>\n",
       "      <td>0.502052</td>\n",
       "    </tr>\n",
       "  </tbody>\n",
       "</table>\n",
       "</div>"
      ],
      "text/plain": [
       "<div>\n",
       "<table border=\"1\" class=\"dataframe\">\n",
       "  <thead>\n",
       "    <tr style=\"text-align: right;\">\n",
       "      <th></th>\n",
       "      <th>method</th>\n",
       "      <th>no_selected</th>\n",
       "      <th>recall_rate</th>\n",
       "      <th>precision_rate</th>\n",
       "    </tr>\n",
       "  </thead>\n",
       "  <tbody>\n",
       "    <tr>\n",
       "      <th>0</th>\n",
       "      <td>lr_ovr_with_sgl</td>\n",
       "      <td>1023</td>\n",
       "      <td>0.715596</td>\n",
       "      <td>0.381232</td>\n",
       "    </tr>\n",
       "    <tr>\n",
       "      <th>1</th>\n",
       "      <td>lr_ovr_wo_sgl</td>\n",
       "      <td>731</td>\n",
       "      <td>0.673394</td>\n",
       "      <td>0.502052</td>\n",
       "    </tr>\n",
       "  </tbody>\n",
       "</table>\n",
       "</div>"
      ]
     },
     "execution_count": 299,
     "metadata": {},
     "output_type": "execute_result"
    }
   ],
   "source": [
    "from src.utils.validate_candidate_miRNAs import recall_rate, precision_rate, get_miRNA_names\n",
    "from src.models.group_lasso_spams import LRSGLWrapper\n",
    "\n",
    "models = []\n",
    "for model, name in [\n",
    "                    (lr_ovr_with_sgl, 'lr_ovr_with_sgl'),\n",
    "                    (lr_ovr_wo_sgl, 'lr_ovr_wo_sgl')\n",
    "                    # (logistic_L1L2GL, 'Logistic L1L2GL'),\n",
    "                    # (multi_task_l1l2, 'multi-task l1l2'),\n",
    "                    # (multi_task_l1l2_cluster, 'multi_task_l1l2_cluster'),\n",
    "                    # (group_l2, 'group_small'),\n",
    "                    # (l1_lasso, 'l1_lasso'),\n",
    "                    # (elastic_net, 'elastic_net'),\n",
    "                    # (sparse_group_l2, 'sparse-group_small')\n",
    "                    ]:\n",
    "    if model is logistic_L1L2GL:\n",
    "        models.append([name,\n",
    "                   len(model.beta.nonzero()[0]),\n",
    "                   recall_rate(candidate_miRNAs=get_miRNA_names(model.beta.nonzero()[0][:275], tgca_luad.mirna_list),\n",
    "                               validated_miRNAs=validating_miRNAs),\n",
    "                    (lr_ovr_with_sgl, 'lr_ovr_with_sgl'),\n",
    "                    (lr_ovr_wo_sgl, 'lr_ovr_wo_sgl')\n",
    "                    # (logistic_L1L2GL, 'Logistic L1L2GL'),\n",
    "                    # (multi_task_l1l2, 'multi-task l1l2'),\n",
    "                    # (multi_task_l1l2_cluster, 'multi_task_l1l2_cluster'),\n",
    "                    # (group_l2, 'group_small'),\n",
    "                    # (l1_lasso, 'l1_lasso'),\n",
    "                    # (elastic_net, 'elastic_net'),\n",
    "                    # (sparse_group_l2, 'sparse-group_small')\n",
    "                    \n",
    "                   precision_rate(candidate_miRNAs=get_miRNA_names(model.beta.nonzero()[0][:275], tgca_luad.mirna_list),\n",
    "                                  validated_miRNAs=validating_miRNAs) ])\n",
    "    elif model is lr_ovr_with_sgl:\n",
    "        models.append([name,\n",
    "                   LRSGLWrapper.get_selected_miRNAs(lr_ovr_with_sgl.estimators_, tgca_luad.mirna_list)['miRNA'].shape[0],\n",
    "                   recall_rate(candidate_miRNAs=LRSGLWrapper.get_selected_miRNAs(lr_ovr_with_sgl.estimators_, tgca_luad.mirna_list)['miRNA'].tolist(),\n",
    "                               validated_miRNAs=validating_miRNAs),\n",
    "                   precision_rate(candidate_miRNAs=LRSGLWrapper.get_selected_miRNAs(lr_ovr_with_sgl.estimators_, tgca_luad.mirna_list)['miRNA'].tolist(),\n",
    "                                  validated_miRNAs=validating_miRNAs) ])\n",
    "    elif model is lr_ovr_wo_sgl:\n",
    "        models.append([name,\n",
    "                   LRSGLWrapper.get_selected_miRNAs(lr_ovr_wo_sgl.estimators_, tgca_luad.mirna_list)['miRNA'].shape[0],\n",
    "                   recall_rate(candidate_miRNAs=LRSGLWrapper.get_selected_miRNAs(lr_ovr_wo_sgl.estimators_, tgca_luad.mirna_list)['miRNA'].tolist(),\n",
    "                               validated_miRNAs=validating_miRNAs),\n",
    "                   precision_rate(candidate_miRNAs=LRSGLWrapper.get_selected_miRNAs(lr_ovr_wo_sgl.estimators_, tgca_luad.mirna_list)['miRNA'].tolist(),\n",
    "                                  validated_miRNAs=validating_miRNAs) ])\n",
    "    else:\n",
    "        models.append([name,\n",
    "                   model.get_selected_miRNAs(tgca_luad.mirna_list)['miRNA'].shape[0],\n",
    "                   recall_rate(candidate_miRNAs=model.get_selected_miRNAs(tgca_luad.mirna_list)['miRNA'].tolist(),\n",
    "                               validated_miRNAs=validating_miRNAs),\n",
    "                   precision_rate(candidate_miRNAs=model.get_selected_miRNAs(tgca_luad.mirna_list)['miRNA'].tolist(),\n",
    "                                  validated_miRNAs=validating_miRNAs) ])\n",
    "\n",
    "pandas.DataFrame(models, columns=['method', 'no_selected', 'recall_rate', 'precision_rate']).sort_values(by='recall_rate', ascending=False)\n",
    "# (group_l2_large_groups, 'group_l2_large_groups'),\n",
    "# (l1_lasso, 'l1_lasso'),\n",
    "# (elastic_net, 'elastic_net'),\n",
    "# (sparse_group_l2, 'sparse-group-lasso-l2'),\n",
    "# (sparse_group_l2_large_groups, 'sparse_group_l2_large_groups')"
   ]
  },
  {
   "cell_type": "markdown",
   "metadata": {},
   "source": [
    "## Check each candidate miRNA's if validated"
   ]
  },
  {
   "cell_type": "code",
   "execution_count": 38,
   "metadata": {
    "collapsed": true
   },
   "outputs": [
    {
     "data": {
      "text/html": [
       "<div>\n",
       "<table border=\"1\" class=\"dataframe\">\n",
       "  <thead>\n",
       "    <tr style=\"text-align: right;\">\n",
       "      <th></th>\n",
       "      <th>miRNA</th>\n",
       "      <th>coef</th>\n",
       "      <th>validated</th>\n",
       "    </tr>\n",
       "  </thead>\n",
       "  <tbody>\n",
       "    <tr>\n",
       "      <th>50</th>\n",
       "      <td>hsa-mir-148a</td>\n",
       "      <td>-0.000126</td>\n",
       "      <td>True</td>\n",
       "    </tr>\n",
       "    <tr>\n",
       "      <th>180</th>\n",
       "      <td>hsa-mir-451a</td>\n",
       "      <td>-0.000102</td>\n",
       "      <td>True</td>\n",
       "    </tr>\n",
       "    <tr>\n",
       "      <th>69</th>\n",
       "      <td>hsa-mir-182</td>\n",
       "      <td>-0.000089</td>\n",
       "      <td>True</td>\n",
       "    </tr>\n",
       "    <tr>\n",
       "      <th>160</th>\n",
       "      <td>hsa-mir-372</td>\n",
       "      <td>0.000086</td>\n",
       "      <td>False</td>\n",
       "    </tr>\n",
       "    <tr>\n",
       "      <th>27</th>\n",
       "      <td>hsa-mir-126</td>\n",
       "      <td>-0.000084</td>\n",
       "      <td>True</td>\n",
       "    </tr>\n",
       "    <tr>\n",
       "      <th>225</th>\n",
       "      <td>hsa-mir-582</td>\n",
       "      <td>0.000080</td>\n",
       "      <td>True</td>\n",
       "    </tr>\n",
       "    <tr>\n",
       "      <th>131</th>\n",
       "      <td>hsa-mir-30d</td>\n",
       "      <td>-0.000078</td>\n",
       "      <td>True</td>\n",
       "    </tr>\n",
       "    <tr>\n",
       "      <th>115</th>\n",
       "      <td>hsa-mir-25</td>\n",
       "      <td>-0.000078</td>\n",
       "      <td>True</td>\n",
       "    </tr>\n",
       "    <tr>\n",
       "      <th>92</th>\n",
       "      <td>hsa-mir-200a</td>\n",
       "      <td>-0.000078</td>\n",
       "      <td>True</td>\n",
       "    </tr>\n",
       "    <tr>\n",
       "      <th>44</th>\n",
       "      <td>hsa-mir-142</td>\n",
       "      <td>0.000076</td>\n",
       "      <td>True</td>\n",
       "    </tr>\n",
       "    <tr>\n",
       "      <th>127</th>\n",
       "      <td>hsa-mir-30a</td>\n",
       "      <td>0.000074</td>\n",
       "      <td>True</td>\n",
       "    </tr>\n",
       "    <tr>\n",
       "      <th>97</th>\n",
       "      <td>hsa-mir-205</td>\n",
       "      <td>0.000072</td>\n",
       "      <td>True</td>\n",
       "    </tr>\n",
       "    <tr>\n",
       "      <th>105</th>\n",
       "      <td>hsa-mir-22</td>\n",
       "      <td>-0.000065</td>\n",
       "      <td>True</td>\n",
       "    </tr>\n",
       "    <tr>\n",
       "      <th>70</th>\n",
       "      <td>hsa-mir-183</td>\n",
       "      <td>0.000063</td>\n",
       "      <td>True</td>\n",
       "    </tr>\n",
       "    <tr>\n",
       "      <th>144</th>\n",
       "      <td>hsa-mir-338</td>\n",
       "      <td>0.000060</td>\n",
       "      <td>True</td>\n",
       "    </tr>\n",
       "    <tr>\n",
       "      <th>121</th>\n",
       "      <td>hsa-mir-28</td>\n",
       "      <td>0.000056</td>\n",
       "      <td>True</td>\n",
       "    </tr>\n",
       "    <tr>\n",
       "      <th>54</th>\n",
       "      <td>hsa-mir-151a</td>\n",
       "      <td>-0.000054</td>\n",
       "      <td>True</td>\n",
       "    </tr>\n",
       "    <tr>\n",
       "      <th>8</th>\n",
       "      <td>hsa-let-7f-2</td>\n",
       "      <td>-0.000053</td>\n",
       "      <td>True</td>\n",
       "    </tr>\n",
       "    <tr>\n",
       "      <th>101</th>\n",
       "      <td>hsa-mir-210</td>\n",
       "      <td>0.000053</td>\n",
       "      <td>True</td>\n",
       "    </tr>\n",
       "    <tr>\n",
       "      <th>94</th>\n",
       "      <td>hsa-mir-200c</td>\n",
       "      <td>-0.000052</td>\n",
       "      <td>True</td>\n",
       "    </tr>\n",
       "  </tbody>\n",
       "</table>\n",
       "</div>"
      ],
      "text/plain": [
       "<div>\n",
       "<table border=\"1\" class=\"dataframe\">\n",
       "  <thead>\n",
       "    <tr style=\"text-align: right;\">\n",
       "      <th></th>\n",
       "      <th>miRNA</th>\n",
       "      <th>coef</th>\n",
       "      <th>validated</th>\n",
       "    </tr>\n",
       "  </thead>\n",
       "  <tbody>\n",
       "    <tr>\n",
       "      <th>50</th>\n",
       "      <td>hsa-mir-148a</td>\n",
       "      <td>-0.000126</td>\n",
       "      <td>True</td>\n",
       "    </tr>\n",
       "    <tr>\n",
       "      <th>180</th>\n",
       "      <td>hsa-mir-451a</td>\n",
       "      <td>-0.000102</td>\n",
       "      <td>True</td>\n",
       "    </tr>\n",
       "    <tr>\n",
       "      <th>69</th>\n",
       "      <td>hsa-mir-182</td>\n",
       "      <td>-0.000089</td>\n",
       "      <td>True</td>\n",
       "    </tr>\n",
       "    <tr>\n",
       "      <th>160</th>\n",
       "      <td>hsa-mir-372</td>\n",
       "      <td>0.000086</td>\n",
       "      <td>False</td>\n",
       "    </tr>\n",
       "    <tr>\n",
       "      <th>27</th>\n",
       "      <td>hsa-mir-126</td>\n",
       "      <td>-0.000084</td>\n",
       "      <td>True</td>\n",
       "    </tr>\n",
       "    <tr>\n",
       "      <th>225</th>\n",
       "      <td>hsa-mir-582</td>\n",
       "      <td>0.000080</td>\n",
       "      <td>True</td>\n",
       "    </tr>\n",
       "    <tr>\n",
       "      <th>131</th>\n",
       "      <td>hsa-mir-30d</td>\n",
       "      <td>-0.000078</td>\n",
       "      <td>True</td>\n",
       "    </tr>\n",
       "    <tr>\n",
       "      <th>115</th>\n",
       "      <td>hsa-mir-25</td>\n",
       "      <td>-0.000078</td>\n",
       "      <td>True</td>\n",
       "    </tr>\n",
       "    <tr>\n",
       "      <th>92</th>\n",
       "      <td>hsa-mir-200a</td>\n",
       "      <td>-0.000078</td>\n",
       "      <td>True</td>\n",
       "    </tr>\n",
       "    <tr>\n",
       "      <th>44</th>\n",
       "      <td>hsa-mir-142</td>\n",
       "      <td>0.000076</td>\n",
       "      <td>True</td>\n",
       "    </tr>\n",
       "    <tr>\n",
       "      <th>127</th>\n",
       "      <td>hsa-mir-30a</td>\n",
       "      <td>0.000074</td>\n",
       "      <td>True</td>\n",
       "    </tr>\n",
       "    <tr>\n",
       "      <th>97</th>\n",
       "      <td>hsa-mir-205</td>\n",
       "      <td>0.000072</td>\n",
       "      <td>True</td>\n",
       "    </tr>\n",
       "    <tr>\n",
       "      <th>105</th>\n",
       "      <td>hsa-mir-22</td>\n",
       "      <td>-0.000065</td>\n",
       "      <td>True</td>\n",
       "    </tr>\n",
       "    <tr>\n",
       "      <th>70</th>\n",
       "      <td>hsa-mir-183</td>\n",
       "      <td>0.000063</td>\n",
       "      <td>True</td>\n",
       "    </tr>\n",
       "    <tr>\n",
       "      <th>144</th>\n",
       "      <td>hsa-mir-338</td>\n",
       "      <td>0.000060</td>\n",
       "      <td>True</td>\n",
       "    </tr>\n",
       "    <tr>\n",
       "      <th>121</th>\n",
       "      <td>hsa-mir-28</td>\n",
       "      <td>0.000056</td>\n",
       "      <td>True</td>\n",
       "    </tr>\n",
       "    <tr>\n",
       "      <th>54</th>\n",
       "      <td>hsa-mir-151a</td>\n",
       "      <td>-0.000054</td>\n",
       "      <td>True</td>\n",
       "    </tr>\n",
       "    <tr>\n",
       "      <th>8</th>\n",
       "      <td>hsa-let-7f-2</td>\n",
       "      <td>-0.000053</td>\n",
       "      <td>True</td>\n",
       "    </tr>\n",
       "    <tr>\n",
       "      <th>101</th>\n",
       "      <td>hsa-mir-210</td>\n",
       "      <td>0.000053</td>\n",
       "      <td>True</td>\n",
       "    </tr>\n",
       "    <tr>\n",
       "      <th>94</th>\n",
       "      <td>hsa-mir-200c</td>\n",
       "      <td>-0.000052</td>\n",
       "      <td>True</td>\n",
       "    </tr>\n",
       "  </tbody>\n",
       "</table>\n",
       "</div>"
      ]
     },
     "execution_count": 38,
     "metadata": {},
     "output_type": "execute_result"
    }
   ],
   "source": [
    "candidate_miRNAs = multi_task_l1l2.get_selected_miRNAs(tgca_luad.mirna_list)\n",
    "candidate_miRNAs['validated'] = candidate_miRNAs.apply(lambda row: row['miRNA'] in validating_miRNAs, axis=1)\n",
    "# candidate_miRNAs['groups'] = candidate_miRNAs.apply(lambda row: network.find_miRNA_groups(row['miRNA']), axis=1)\n",
    "candidate_miRNAs.head(20)"
   ]
  },
  {
   "cell_type": "code",
   "execution_count": 157,
   "metadata": {
    "collapsed": true
   },
   "outputs": [
    {
     "name": "stderr",
     "output_type": "stream",
     "text": [
      "/opt/anaconda/lib/python2.7/site-packages/ipykernel/__main__.py:5: FutureWarning: sort is deprecated, use sort_values(inplace=True) for INPLACE sorting\n"
     ]
    },
    {
     "data": {
      "text/html": [
       "<div>\n",
       "<table border=\"1\" class=\"dataframe\">\n",
       "  <thead>\n",
       "    <tr style=\"text-align: right;\">\n",
       "      <th></th>\n",
       "      <th>miRNA</th>\n",
       "      <th>coef</th>\n",
       "      <th>validated</th>\n",
       "      <th>groups</th>\n",
       "    </tr>\n",
       "  </thead>\n",
       "  <tbody>\n",
       "    <tr>\n",
       "      <th>87</th>\n",
       "      <td>hsa-mir-203a</td>\n",
       "      <td>0.000195</td>\n",
       "      <td>True</td>\n",
       "      <td>[]</td>\n",
       "    </tr>\n",
       "    <tr>\n",
       "      <th>64</th>\n",
       "      <td>hsa-mir-182</td>\n",
       "      <td>0.000082</td>\n",
       "      <td>True</td>\n",
       "      <td>[]</td>\n",
       "    </tr>\n",
       "    <tr>\n",
       "      <th>48</th>\n",
       "      <td>hsa-mir-148a</td>\n",
       "      <td>0.000081</td>\n",
       "      <td>True</td>\n",
       "      <td>[]</td>\n",
       "    </tr>\n",
       "    <tr>\n",
       "      <th>15</th>\n",
       "      <td>hsa-mir-103a-2</td>\n",
       "      <td>-0.000070</td>\n",
       "      <td>True</td>\n",
       "      <td>[]</td>\n",
       "    </tr>\n",
       "    <tr>\n",
       "      <th>14</th>\n",
       "      <td>hsa-mir-103a-1</td>\n",
       "      <td>-0.000069</td>\n",
       "      <td>False</td>\n",
       "      <td>[]</td>\n",
       "    </tr>\n",
       "    <tr>\n",
       "      <th>90</th>\n",
       "      <td>hsa-mir-21</td>\n",
       "      <td>0.000065</td>\n",
       "      <td>True</td>\n",
       "      <td>[]</td>\n",
       "    </tr>\n",
       "    <tr>\n",
       "      <th>115</th>\n",
       "      <td>hsa-mir-29c</td>\n",
       "      <td>0.000061</td>\n",
       "      <td>True</td>\n",
       "      <td>[]</td>\n",
       "    </tr>\n",
       "    <tr>\n",
       "      <th>179</th>\n",
       "      <td>hsa-mir-99b</td>\n",
       "      <td>-0.000054</td>\n",
       "      <td>True</td>\n",
       "      <td>[]</td>\n",
       "    </tr>\n",
       "    <tr>\n",
       "      <th>122</th>\n",
       "      <td>hsa-mir-30e</td>\n",
       "      <td>0.000053</td>\n",
       "      <td>True</td>\n",
       "      <td>[]</td>\n",
       "    </tr>\n",
       "    <tr>\n",
       "      <th>65</th>\n",
       "      <td>hsa-mir-183</td>\n",
       "      <td>0.000050</td>\n",
       "      <td>True</td>\n",
       "      <td>[]</td>\n",
       "    </tr>\n",
       "    <tr>\n",
       "      <th>8</th>\n",
       "      <td>hsa-let-7f-2</td>\n",
       "      <td>-0.000045</td>\n",
       "      <td>True</td>\n",
       "      <td>[]</td>\n",
       "    </tr>\n",
       "    <tr>\n",
       "      <th>7</th>\n",
       "      <td>hsa-let-7f-1</td>\n",
       "      <td>-0.000044</td>\n",
       "      <td>True</td>\n",
       "      <td>[]</td>\n",
       "    </tr>\n",
       "    <tr>\n",
       "      <th>117</th>\n",
       "      <td>hsa-mir-30a</td>\n",
       "      <td>-0.000042</td>\n",
       "      <td>True</td>\n",
       "      <td>[]</td>\n",
       "    </tr>\n",
       "    <tr>\n",
       "      <th>43</th>\n",
       "      <td>hsa-mir-143</td>\n",
       "      <td>-0.000041</td>\n",
       "      <td>True</td>\n",
       "      <td>[]</td>\n",
       "    </tr>\n",
       "    <tr>\n",
       "      <th>3</th>\n",
       "      <td>hsa-let-7b</td>\n",
       "      <td>0.000037</td>\n",
       "      <td>True</td>\n",
       "      <td>[]</td>\n",
       "    </tr>\n",
       "    <tr>\n",
       "      <th>0</th>\n",
       "      <td>hsa-let-7a-1</td>\n",
       "      <td>-0.000034</td>\n",
       "      <td>False</td>\n",
       "      <td>[]</td>\n",
       "    </tr>\n",
       "    <tr>\n",
       "      <th>2</th>\n",
       "      <td>hsa-let-7a-3</td>\n",
       "      <td>-0.000034</td>\n",
       "      <td>False</td>\n",
       "      <td>[]</td>\n",
       "    </tr>\n",
       "    <tr>\n",
       "      <th>172</th>\n",
       "      <td>hsa-mir-92a-1</td>\n",
       "      <td>-0.000032</td>\n",
       "      <td>False</td>\n",
       "      <td>[]</td>\n",
       "    </tr>\n",
       "    <tr>\n",
       "      <th>173</th>\n",
       "      <td>hsa-mir-92a-2</td>\n",
       "      <td>-0.000031</td>\n",
       "      <td>False</td>\n",
       "      <td>[]</td>\n",
       "    </tr>\n",
       "    <tr>\n",
       "      <th>147</th>\n",
       "      <td>hsa-mir-451a</td>\n",
       "      <td>-0.000030</td>\n",
       "      <td>True</td>\n",
       "      <td>[]</td>\n",
       "    </tr>\n",
       "  </tbody>\n",
       "</table>\n",
       "</div>"
      ],
      "text/plain": [
       "<div>\n",
       "<table border=\"1\" class=\"dataframe\">\n",
       "  <thead>\n",
       "    <tr style=\"text-align: right;\">\n",
       "      <th></th>\n",
       "      <th>miRNA</th>\n",
       "      <th>coef</th>\n",
       "      <th>validated</th>\n",
       "      <th>groups</th>\n",
       "    </tr>\n",
       "  </thead>\n",
       "  <tbody>\n",
       "    <tr>\n",
       "      <th>87</th>\n",
       "      <td>hsa-mir-203a</td>\n",
       "      <td>0.000195</td>\n",
       "      <td>True</td>\n",
       "      <td>[]</td>\n",
       "    </tr>\n",
       "    <tr>\n",
       "      <th>64</th>\n",
       "      <td>hsa-mir-182</td>\n",
       "      <td>0.000082</td>\n",
       "      <td>True</td>\n",
       "      <td>[]</td>\n",
       "    </tr>\n",
       "    <tr>\n",
       "      <th>48</th>\n",
       "      <td>hsa-mir-148a</td>\n",
       "      <td>0.000081</td>\n",
       "      <td>True</td>\n",
       "      <td>[]</td>\n",
       "    </tr>\n",
       "    <tr>\n",
       "      <th>15</th>\n",
       "      <td>hsa-mir-103a-2</td>\n",
       "      <td>-0.000070</td>\n",
       "      <td>True</td>\n",
       "      <td>[]</td>\n",
       "    </tr>\n",
       "    <tr>\n",
       "      <th>14</th>\n",
       "      <td>hsa-mir-103a-1</td>\n",
       "      <td>-0.000069</td>\n",
       "      <td>False</td>\n",
       "      <td>[]</td>\n",
       "    </tr>\n",
       "    <tr>\n",
       "      <th>90</th>\n",
       "      <td>hsa-mir-21</td>\n",
       "      <td>0.000065</td>\n",
       "      <td>True</td>\n",
       "      <td>[]</td>\n",
       "    </tr>\n",
       "    <tr>\n",
       "      <th>115</th>\n",
       "      <td>hsa-mir-29c</td>\n",
       "      <td>0.000061</td>\n",
       "      <td>True</td>\n",
       "      <td>[]</td>\n",
       "    </tr>\n",
       "    <tr>\n",
       "      <th>179</th>\n",
       "      <td>hsa-mir-99b</td>\n",
       "      <td>-0.000054</td>\n",
       "      <td>True</td>\n",
       "      <td>[]</td>\n",
       "    </tr>\n",
       "    <tr>\n",
       "      <th>122</th>\n",
       "      <td>hsa-mir-30e</td>\n",
       "      <td>0.000053</td>\n",
       "      <td>True</td>\n",
       "      <td>[]</td>\n",
       "    </tr>\n",
       "    <tr>\n",
       "      <th>65</th>\n",
       "      <td>hsa-mir-183</td>\n",
       "      <td>0.000050</td>\n",
       "      <td>True</td>\n",
       "      <td>[]</td>\n",
       "    </tr>\n",
       "    <tr>\n",
       "      <th>8</th>\n",
       "      <td>hsa-let-7f-2</td>\n",
       "      <td>-0.000045</td>\n",
       "      <td>True</td>\n",
       "      <td>[]</td>\n",
       "    </tr>\n",
       "    <tr>\n",
       "      <th>7</th>\n",
       "      <td>hsa-let-7f-1</td>\n",
       "      <td>-0.000044</td>\n",
       "      <td>True</td>\n",
       "      <td>[]</td>\n",
       "    </tr>\n",
       "    <tr>\n",
       "      <th>117</th>\n",
       "      <td>hsa-mir-30a</td>\n",
       "      <td>-0.000042</td>\n",
       "      <td>True</td>\n",
       "      <td>[]</td>\n",
       "    </tr>\n",
       "    <tr>\n",
       "      <th>43</th>\n",
       "      <td>hsa-mir-143</td>\n",
       "      <td>-0.000041</td>\n",
       "      <td>True</td>\n",
       "      <td>[]</td>\n",
       "    </tr>\n",
       "    <tr>\n",
       "      <th>3</th>\n",
       "      <td>hsa-let-7b</td>\n",
       "      <td>0.000037</td>\n",
       "      <td>True</td>\n",
       "      <td>[]</td>\n",
       "    </tr>\n",
       "    <tr>\n",
       "      <th>0</th>\n",
       "      <td>hsa-let-7a-1</td>\n",
       "      <td>-0.000034</td>\n",
       "      <td>False</td>\n",
       "      <td>[]</td>\n",
       "    </tr>\n",
       "    <tr>\n",
       "      <th>2</th>\n",
       "      <td>hsa-let-7a-3</td>\n",
       "      <td>-0.000034</td>\n",
       "      <td>False</td>\n",
       "      <td>[]</td>\n",
       "    </tr>\n",
       "    <tr>\n",
       "      <th>172</th>\n",
       "      <td>hsa-mir-92a-1</td>\n",
       "      <td>-0.000032</td>\n",
       "      <td>False</td>\n",
       "      <td>[]</td>\n",
       "    </tr>\n",
       "    <tr>\n",
       "      <th>173</th>\n",
       "      <td>hsa-mir-92a-2</td>\n",
       "      <td>-0.000031</td>\n",
       "      <td>False</td>\n",
       "      <td>[]</td>\n",
       "    </tr>\n",
       "    <tr>\n",
       "      <th>147</th>\n",
       "      <td>hsa-mir-451a</td>\n",
       "      <td>-0.000030</td>\n",
       "      <td>True</td>\n",
       "      <td>[]</td>\n",
       "    </tr>\n",
       "  </tbody>\n",
       "</table>\n",
       "</div>"
      ]
     },
     "execution_count": 157,
     "metadata": {},
     "output_type": "execute_result"
    }
   ],
   "source": [
    "candidate_miRNAs = pandas.DataFrame([(tgca_luad.mirna_list[m], logistic_L1L2GL.beta[m][0]) for m in logistic_L1L2GL.beta.nonzero()[0]])\n",
    "candidate_miRNAs.columns = ['miRNA', 'coef']\n",
    "candidate_miRNAs['validated'] = candidate_miRNAs.apply(lambda row: row['miRNA'] in validating_miRNAs, axis=1)\n",
    "candidate_miRNAs['groups'] = candidate_miRNAs.apply(lambda row: network.find_miRNA_groups(row['miRNA']), axis=1)\n",
    "candidate_miRNAs.reindex(candidate_miRNAs.coef.abs().sort(inplace=False, ascending=False).index).head(20)"
   ]
  },
  {
   "cell_type": "markdown",
   "metadata": {},
   "source": [
    "### Recall & Precision of Top Ranked miRNAs"
   ]
  },
  {
   "cell_type": "code",
   "execution_count": 154,
   "metadata": {
    "collapsed": false
   },
   "outputs": [
    {
     "name": "stderr",
     "output_type": "stream",
     "text": [
      "/opt/anaconda/lib/python2.7/site-packages/ipykernel/__main__.py:10: FutureWarning: sort is deprecated, use sort_values(inplace=True) for INPLACE sorting\n"
     ]
    },
    {
     "data": {
      "image/png": "[encoded data removed]",
      "text/plain": [
       "<matplotlib.figure.Figure at 0x7f9a26a44450>"
      ]
     },
     "metadata": {},
     "output_type": "display_data"
    }
   ],
   "source": [
    "top_k_s = [10, 30, 60, 90, 120, 160, 200, 250]\n",
    "\n",
    "candidate_miRNAs = pandas.DataFrame()\n",
    "candidate_miRNAs['miRNAs'] = tgca_luad.mirna_list\n",
    "candidate_miRNAs['coef'] = logistic_L1L2GL.beta\n",
    "\n",
    "recall_rates = []\n",
    "precision_rates = []\n",
    "for top_k in top_k_s:\n",
    "    top_k_miRNAs = candidate_miRNAs.reindex(candidate_miRNAs.coef.abs().sort(inplace=False, ascending=False).index).head(top_k)['miRNAs'].tolist()\n",
    "\n",
    "    recall_rates.append(recall_rate(candidate_miRNAs=top_k_miRNAs, validated_miRNAs=dbDEMC_luad_miRNAs))\n",
    "    precision_rates.append(precision_rate(candidate_miRNAs=top_k_miRNAs, validated_miRNAs=dbDEMC_luad_miRNAs))\n",
    "    \n",
    "# plt.figure()\n",
    "fig, ax = plt.subplots(figsize=(8, 6), dpi=150)\n",
    "width = 0.3\n",
    "font_size = 14\n",
    "\n",
    "rects1 = ax.bar(range(len(top_k_s)), precision_rates, width, color='black')\n",
    "ax.set_ylabel('Precision rate of known LUAD miRNAs (%)', fontsize=font_size)\n",
    "ax.set_yticks([i/10. for i in range(10)])\n",
    "# ax.set_ylim((0, 1))\n",
    "\n",
    "ax2 = ax.twinx()\n",
    "rects2 = ax2.bar([width+k for k in range(len(top_k_s))], recall_rates, width, color='gray')\n",
    "# ax2.set_ylim(ax.get_ylim())\n",
    "ax2.set_ylabel('Recall rate of known LUAD miRNAs (%)', fontsize=font_size)\n",
    "\n",
    "ax.legend((rects1[0], rects2[0]), ('Precision Rate', 'Recall rate'), loc=(0.5, 0.88), fontsize=11)\n",
    "ax.set_xlabel('# of top-ranked miRNAs', fontsize=font_size)\n",
    "ax.set_xticks([width/2+k for k in range(len(top_k_s))])\n",
    "ax.set_xticklabels(['Top '+str(top_k) for top_k in top_k_s], fontsize=10)\n",
    "plt.show()"
   ]
  },
  {
   "cell_type": "markdown",
   "metadata": {
    "collapsed": true
   },
   "source": [
    "## Precision for each miRNA groups"
   ]
  },
  {
   "cell_type": "code",
   "execution_count": 292,
   "metadata": {
    "collapsed": true
   },
   "outputs": [
    {
     "name": "stdout",
     "output_type": "stream",
     "text": [
      "['mir-381', 'mir-410', 'mir-539']\n['let-7b', 'let-7c', 'let-7d', 'let-7e', 'let-7g', 'let-7i', 'mir-100', 'mir-106a', 'mir-106b', 'mir-107', 'mir-10a', 'mir-10b', 'mir-1193', 'mir-1197', 'mir-122', 'mir-1224', 'mir-1251', 'mir-125a', 'mir-126', 'mir-127', 'mir-1271', 'mir-1297', 'mir-1298', 'mir-1306', 'mir-130a', 'mir-130b', 'mir-132', 'mir-133b', 'mir-134', 'mir-135b', 'mir-137', 'mir-139', 'mir-140', 'mir-141', 'mir-142', 'mir-143', 'mir-144', 'mir-145', 'mir-146a', 'mir-146b', 'mir-148a', 'mir-148b', 'mir-149', 'mir-150', 'mir-151a', 'mir-152', 'mir-154', 'mir-155', 'mir-15a', 'mir-15b', 'mir-17', 'mir-181c', 'mir-181d', 'mir-182', 'mir-183', 'mir-184', 'mir-185', 'mir-186', 'mir-187', 'mir-188', 'mir-18a', 'mir-18b', 'mir-190a', 'mir-190b', 'mir-191', 'mir-192', 'mir-193a', 'mir-193b', 'mir-195', 'mir-196b', 'mir-197', 'mir-199b', 'mir-19a', 'mir-200a', 'mir-200b', 'mir-200c', 'mir-202', 'mir-203a', 'mir-205', 'mir-206', 'mir-208a', 'mir-208b', 'mir-20a', 'mir-20b', 'mir-21', 'mir-210', 'mir-211', 'mir-212', 'mir-215', 'mir-216a', 'mir-216b', 'mir-217', 'mir-219a-2', 'mir-22', 'mir-221', 'mir-222', 'mir-223', 'mir-224', 'mir-23a', 'mir-23b', 'mir-23c', 'mir-25', 'mir-26b', 'mir-27a', 'mir-27b', 'mir-28', 'mir-296', 'mir-299', 'mir-29a', 'mir-29c', 'mir-301a', 'mir-301b', 'mir-302b', 'mir-3064', 'mir-30a', 'mir-30b', 'mir-30d', 'mir-30e', 'mir-31', 'mir-3129', 'mir-3139', 'mir-3167', 'mir-3184', 'mir-32', 'mir-320a', 'mir-323a', 'mir-324', 'mir-326', 'mir-328', 'mir-330', 'mir-331', 'mir-335', 'mir-338', 'mir-339', 'mir-33a', 'mir-33b', 'mir-342', 'mir-346', 'mir-34a', 'mir-3529', 'mir-361', 'mir-362', 'mir-363', 'mir-365a', 'mir-365b', 'mir-3681', 'mir-369', 'mir-370', 'mir-371a', 'mir-374a', 'mir-374b', 'mir-374c', 'mir-375', 'mir-376b', 'mir-376c', 'mir-377', 'mir-378a', 'mir-378b', 'mir-378c', 'mir-378f', 'mir-378h', 'mir-378i', 'mir-379', 'mir-382', 'mir-383', 'mir-409', 'mir-411', 'mir-421', 'mir-422a', 'mir-423', 'mir-424', 'mir-425', 'mir-429', 'mir-4306', 'mir-431', 'mir-433', 'mir-4429', 'mir-4458', 'mir-4465', 'mir-448', 'mir-449b', 'mir-452', 'mir-454', 'mir-455', 'mir-4644', 'mir-4676', 'mir-4735', 'mir-4770', 'mir-4782', 'mir-483', 'mir-485', 'mir-487a', 'mir-487b', 'mir-489', 'mir-490', 'mir-491', 'mir-493', 'mir-496', 'mir-497', 'mir-499a', 'mir-500b', 'mir-501', 'mir-502', 'mir-503', 'mir-504', 'mir-505', 'mir-506', 'mir-5195', 'mir-520f', 'mir-532', 'mir-542', 'mir-551a', 'mir-551b', 'mir-5590', 'mir-582', 'mir-590', 'mir-599', 'mir-6088', 'mir-613', 'mir-615', 'mir-6504', 'mir-652', 'mir-653', 'mir-655', 'mir-665', 'mir-668', 'mir-670', 'mir-6766', 'mir-6807', 'mir-6835', 'mir-6838', 'mir-6866', 'mir-6884', 'mir-6893', 'mir-708', 'mir-744', 'mir-758', 'mir-760', 'mir-802', 'mir-874', 'mir-875', 'mir-877', 'mir-892c', 'mir-92b', 'mir-93', 'mir-96', 'mir-98', 'mir-99a', 'mir-99b']\n['mir-136', 'mir-204']\n['mir-302a', 'mir-372', 'mir-373', 'mir-519d', 'mir-520a', 'mir-520b', 'mir-520c', 'mir-520d', 'mir-520e', 'mir-526b']\n['mir-494', 'mir-495', 'mir-543']\n['h', 's', 'a', '-', 'm', 'i', 'r', '-', '4', '8', '8']\n['h', 's', 'a', '-', 'm', 'i', 'r', '-', '3', '4', '0']\n['mir-873', 'mir-876']\n['h', 's', 'a', '-', 'm', 'i', 'r', '-', '2', '1', '4']\n['mir-34c', 'mir-449a']\n"
     ]
    },
    {
     "data": {
      "text/html": [
       "<div>\n",
       "<table border=\"1\" class=\"dataframe\">\n",
       "  <thead>\n",
       "    <tr style=\"text-align: right;\">\n",
       "      <th></th>\n",
       "      <th>Size of cluster</th>\n",
       "      <th>miRNA</th>\n",
       "      <th>precision to LUAD</th>\n",
       "      <th># selected in model</th>\n",
       "      <th>selected in model and in LUAD</th>\n",
       "    </tr>\n",
       "  </thead>\n",
       "  <tbody>\n",
       "    <tr>\n",
       "      <th>1</th>\n",
       "      <td>249</td>\n",
       "      <td>[let-7b, let-7c, let-7d, let-7e, let-7g, let-7...</td>\n",
       "      <td>0.742972</td>\n",
       "      <td>121</td>\n",
       "      <td>0.942149</td>\n",
       "    </tr>\n",
       "    <tr>\n",
       "      <th>3</th>\n",
       "      <td>10</td>\n",
       "      <td>[mir-302a, mir-372, mir-373, mir-519d, mir-520...</td>\n",
       "      <td>0.700000</td>\n",
       "      <td>0</td>\n",
       "      <td>NaN</td>\n",
       "    </tr>\n",
       "    <tr>\n",
       "      <th>0</th>\n",
       "      <td>3</td>\n",
       "      <td>[mir-381, mir-410, mir-539]</td>\n",
       "      <td>1.000000</td>\n",
       "      <td>3</td>\n",
       "      <td>1.000000</td>\n",
       "    </tr>\n",
       "    <tr>\n",
       "      <th>4</th>\n",
       "      <td>3</td>\n",
       "      <td>[mir-494, mir-495, mir-543]</td>\n",
       "      <td>0.666667</td>\n",
       "      <td>0</td>\n",
       "      <td>NaN</td>\n",
       "    </tr>\n",
       "    <tr>\n",
       "      <th>2</th>\n",
       "      <td>2</td>\n",
       "      <td>[mir-136, mir-204]</td>\n",
       "      <td>1.000000</td>\n",
       "      <td>0</td>\n",
       "      <td>NaN</td>\n",
       "    </tr>\n",
       "    <tr>\n",
       "      <th>7</th>\n",
       "      <td>2</td>\n",
       "      <td>[mir-873, mir-876]</td>\n",
       "      <td>0.000000</td>\n",
       "      <td>0</td>\n",
       "      <td>NaN</td>\n",
       "    </tr>\n",
       "    <tr>\n",
       "      <th>9</th>\n",
       "      <td>2</td>\n",
       "      <td>[mir-34c, mir-449a]</td>\n",
       "      <td>0.500000</td>\n",
       "      <td>2</td>\n",
       "      <td>0.500000</td>\n",
       "    </tr>\n",
       "    <tr>\n",
       "      <th>5</th>\n",
       "      <td>1</td>\n",
       "      <td>[h, s, a, -, m, i, r, -, 4, 8, 8]</td>\n",
       "      <td>0.000000</td>\n",
       "      <td>0</td>\n",
       "      <td>NaN</td>\n",
       "    </tr>\n",
       "    <tr>\n",
       "      <th>6</th>\n",
       "      <td>1</td>\n",
       "      <td>[h, s, a, -, m, i, r, -, 3, 4, 0]</td>\n",
       "      <td>0.000000</td>\n",
       "      <td>0</td>\n",
       "      <td>NaN</td>\n",
       "    </tr>\n",
       "    <tr>\n",
       "      <th>8</th>\n",
       "      <td>1</td>\n",
       "      <td>[h, s, a, -, m, i, r, -, 2, 1, 4]</td>\n",
       "      <td>0.000000</td>\n",
       "      <td>0</td>\n",
       "      <td>NaN</td>\n",
       "    </tr>\n",
       "  </tbody>\n",
       "</table>\n",
       "</div>"
      ],
      "text/plain": [
       "<div>\n",
       "<table border=\"1\" class=\"dataframe\">\n",
       "  <thead>\n",
       "    <tr style=\"text-align: right;\">\n",
       "      <th></th>\n",
       "      <th>Size of cluster</th>\n",
       "      <th>miRNA</th>\n",
       "      <th>precision to LUAD</th>\n",
       "      <th># selected in model</th>\n",
       "      <th>selected in model and in LUAD</th>\n",
       "    </tr>\n",
       "  </thead>\n",
       "  <tbody>\n",
       "    <tr>\n",
       "      <th>1</th>\n",
       "      <td>249</td>\n",
       "      <td>[let-7b, let-7c, let-7d, let-7e, let-7g, let-7...</td>\n",
       "      <td>0.742972</td>\n",
       "      <td>121</td>\n",
       "      <td>0.942149</td>\n",
       "    </tr>\n",
       "    <tr>\n",
       "      <th>3</th>\n",
       "      <td>10</td>\n",
       "      <td>[mir-302a, mir-372, mir-373, mir-519d, mir-520...</td>\n",
       "      <td>0.700000</td>\n",
       "      <td>0</td>\n",
       "      <td>NaN</td>\n",
       "    </tr>\n",
       "    <tr>\n",
       "      <th>0</th>\n",
       "      <td>3</td>\n",
       "      <td>[mir-381, mir-410, mir-539]</td>\n",
       "      <td>1.000000</td>\n",
       "      <td>3</td>\n",
       "      <td>1.000000</td>\n",
       "    </tr>\n",
       "    <tr>\n",
       "      <th>4</th>\n",
       "      <td>3</td>\n",
       "      <td>[mir-494, mir-495, mir-543]</td>\n",
       "      <td>0.666667</td>\n",
       "      <td>0</td>\n",
       "      <td>NaN</td>\n",
       "    </tr>\n",
       "    <tr>\n",
       "      <th>2</th>\n",
       "      <td>2</td>\n",
       "      <td>[mir-136, mir-204]</td>\n",
       "      <td>1.000000</td>\n",
       "      <td>0</td>\n",
       "      <td>NaN</td>\n",
       "    </tr>\n",
       "    <tr>\n",
       "      <th>7</th>\n",
       "      <td>2</td>\n",
       "      <td>[mir-873, mir-876]</td>\n",
       "      <td>0.000000</td>\n",
       "      <td>0</td>\n",
       "      <td>NaN</td>\n",
       "    </tr>\n",
       "    <tr>\n",
       "      <th>9</th>\n",
       "      <td>2</td>\n",
       "      <td>[mir-34c, mir-449a]</td>\n",
       "      <td>0.500000</td>\n",
       "      <td>2</td>\n",
       "      <td>0.500000</td>\n",
       "    </tr>\n",
       "    <tr>\n",
       "      <th>5</th>\n",
       "      <td>1</td>\n",
       "      <td>[h, s, a, -, m, i, r, -, 4, 8, 8]</td>\n",
       "      <td>0.000000</td>\n",
       "      <td>0</td>\n",
       "      <td>NaN</td>\n",
       "    </tr>\n",
       "    <tr>\n",
       "      <th>6</th>\n",
       "      <td>1</td>\n",
       "      <td>[h, s, a, -, m, i, r, -, 3, 4, 0]</td>\n",
       "      <td>0.000000</td>\n",
       "      <td>0</td>\n",
       "      <td>NaN</td>\n",
       "    </tr>\n",
       "    <tr>\n",
       "      <th>8</th>\n",
       "      <td>1</td>\n",
       "      <td>[h, s, a, -, m, i, r, -, 2, 1, 4]</td>\n",
       "      <td>0.000000</td>\n",
       "      <td>0</td>\n",
       "      <td>NaN</td>\n",
       "    </tr>\n",
       "  </tbody>\n",
       "</table>\n",
       "</div>"
      ]
     },
     "execution_count": 292,
     "metadata": {},
     "output_type": "execute_result"
    }
   ],
   "source": [
    "miRNA_groups_precision = []\n",
    "miRNA_groups_precision \n",
    "for cluster in network.miRNA_clusters_int:\n",
    "    print get_miRNA_names(cluster, tgca_luad.mirna_list, miR_name=True) \n",
    "    miRNA_groups_precision.append((len(cluster), \n",
    "                                   get_miRNA_names(cluster, tgca_luad.mirna_list, miR_name=True),\n",
    "                                   precision_rate(candidate_miRNAs=get_miRNA_names(cluster, tgca_luad.mirna_list), \n",
    "                                                  validated_miRNAs=dbDEMC_luad_miRNAs),\n",
    "                                   len(set(get_miRNA_names(cluster, tgca_luad.mirna_list)).intersection(\n",
    "                                       get_miRNA_names(logistic_L1L2GL.beta.nonzero()[0], tgca_luad.mirna_list))),\n",
    "                                   precision_rate(candidate_miRNAs=set(get_miRNA_names(cluster, tgca_luad.mirna_list)).intersection(\n",
    "                                       get_miRNA_names(logistic_L1L2GL.beta.nonzero()[0], tgca_luad.mirna_list)), \n",
    "                                                  validated_miRNAs=dbDEMC_luad_miRNAs)\n",
    "                                   ))\n",
    "\n",
    "pandas.DataFrame(miRNA_groups_precision, columns=['Size of cluster', 'miRNA', 'precision to LUAD', '# selected in model', 'selected in model and in LUAD']).sort_values(by='Size of cluster', ascending=False)"
   ]
  },
  {
   "cell_type": "code",
   "execution_count": null,
   "metadata": {},
   "outputs": [],
   "source": [
    ""
   ]
  }
 ],
 "metadata": {
  "kernelspec": {
   "display_name": "Python 2",
   "language": "python",
   "name": "python2"
  },
  "language_info": {
   "codemirror_mode": {
    "name": "ipython",
    "version": 2.0
   },
   "file_extension": ".py",
   "mimetype": "text/x-python",
   "name": "python",
   "nbconvert_exporter": "python",
   "pygments_lexer": "ipython2",
   "version": "2.7.6"
  }
 },
 "nbformat": 4,
 "nbformat_minor": 0
}