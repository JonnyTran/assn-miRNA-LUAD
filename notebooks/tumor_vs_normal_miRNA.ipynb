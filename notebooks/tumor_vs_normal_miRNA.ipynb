{
 "cells": [
  {
   "cell_type": "code",
   "execution_count": 6,
   "metadata": {
    "collapsed": true
   },
   "outputs": [
    {
     "name": "stdout",
     "output_type": "stream",
     "text": [
      "mirna_tumor_df.shape (513, 1882)\nmirna_normal_df.shape (46, 1882)\nmatched_samples (513,)\n"
     ]
    }
   ],
   "source": [
    "import os\n",
    "import pandas\n",
    "\n",
    "mirna_src_dir = os.getcwd() + \"/assn-mirna-luad/data/processed/miRNA/\"\n",
    "clinical_src_dir = os.getcwd() + \"/assn-mirna-luad/data/processed/clinical/\"\n",
    "\n",
    "mirna_tumor_df = pandas.read_csv(mirna_src_dir+'tumor_miRNA.csv')\n",
    "mirna_normal_df = pandas.read_csv(mirna_src_dir+'normal_miRNA.csv')\n",
    "clinical_df = pandas.read_csv(clinical_src_dir+'clinical.csv')\n",
    "\n",
    "print \"mirna_tumor_df.shape\", mirna_tumor_df.shape\n",
    "print \"mirna_normal_df.shape\", mirna_normal_df.shape\n",
    "\n",
    "\"\"\"\n",
    "Here we select samples to use for our regression analysis\n",
    "\"\"\"\n",
    "matched_samples = pandas.merge(clinical_df, mirna_tumor_df, on='patient_barcode')['patient_barcode']\n",
    "print \"matched_samples\", matched_samples.shape\n",
    "# merged = pandas.merge(clinical_df, mirna_normal_df, on='patient_barcode')\n",
    "# print merged.shape\n",
    "# print\n",
    "# print merged['histological_type'].value_counts().sort_index(axis=0)\n",
    "# print\n",
    "# print merged['pathologic_stage'].value_counts().sort_index(axis=0)\n",
    "# print\n",
    "# print merged['pathologic_T'].value_counts().sort_index(axis=0)\n",
    "# print\n",
    "# print merged['pathologic_N'].value_counts().sort_index(axis=0)\n",
    "# print\n",
    "# print merged['pathologic_M'].value_counts().sort_index(axis=0)\n",
    "# print"
   ]
  },
  {
   "cell_type": "markdown",
   "metadata": {},
   "source": [
    "## We now create data matrixes from tumor vs normal samples"
   ]
  },
  {
   "cell_type": "code",
   "execution_count": null,
   "metadata": {},
   "outputs": [],
   "source": [
    "from sklearn import preprocessing\n",
    "\n",
    "X = mirna_df[mirna_df['patient_barcode'].isin(matched_samples)]\n",
    "X.__delitem__('patient_barcode')\n",
    "Y = clinical_df[clinical_df['patient_barcode'].isin(matched_samples)]['pathologic_stage']\n",
    "print 'miRNA null values', X.isnull().sum().sum()\n",
    "print 'pathologic null values', Y.isnull().sum()\n",
    "print 'X.shape', X.shape\n",
    "print 'Y.shape', Y.shape\n",
    "mirna_list = X.columns.values\n",
    "\n",
    "X_scaler = preprocessing.StandardScaler(with_mean=False).fit(X)\n",
    "X = X_scaler.transform(X)\n",
    "# Y_scaler = preprocessing.StandardScaler().fit(Y)\n",
    "# Y = Y_scaler.transform(Y)"
   ]
  },
  {
   "cell_type": "markdown",
   "metadata": {},
   "source": [
    "## Perform classification with LASSO"
   ]
  },
  {
   "cell_type": "code",
   "execution_count": null,
   "metadata": {},
   "outputs": [],
   "source": [
    "from sklearn.discriminant_analysis import LinearDiscriminantAnalysis\n",
    "from sklearn.model_selection import train_test_split\n",
    "from sklearn import linear_model\n",
    "\n",
    "X_train, X_test, y_train, y_test = train_test_split(X, Y.as_matrix(), test_size=0.1, random_state=np.random.randint(0, 10000))\n",
    "print 'X_train', X_train.shape, ', y_train', y_train.shape\n",
    "print 'X_test', X_test.shape, ', y_test', y_test.shape\n",
    "\n",
    "lda = LinearDiscriminantAnalysis(solver=\"svd\", store_covariance=True)"
   ]
  },
  {
   "cell_type": "markdown",
   "metadata": {},
   "source": [
    ""
   ]
  }
 ],
 "metadata": {
  "kernelspec": {
   "display_name": "Python 2",
   "language": "python",
   "name": "python2"
  },
  "language_info": {
   "codemirror_mode": {
    "name": "ipython",
    "version": 2.0
   },
   "file_extension": ".py",
   "mimetype": "text/x-python",
   "name": "python",
   "nbconvert_exporter": "python",
   "pygments_lexer": "ipython2",
   "version": "2.7.6"
  }
 },
 "nbformat": 4,
 "nbformat_minor": 0
}