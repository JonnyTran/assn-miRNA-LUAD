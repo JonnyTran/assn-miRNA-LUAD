{
 "cells": [
  {
   "cell_type": "code",
   "execution_count": 75,
   "metadata": {
    "collapsed": true
   },
   "outputs": [
    {
     "name": "stdout",
     "output_type": "stream",
     "text": [
      "mirna_tumor_df.shape (513, 1882)\nmirna_normal_df.shape (46, 1882)\nmatched_samples (46,)\n"
     ]
    }
   ],
   "source": [
    "import os\n",
    "import pandas\n",
    "\n",
    "mirna_src_dir = os.getcwd() + \"/assn-mirna-luad/data/processed/miRNA/\"\n",
    "clinical_src_dir = os.getcwd() + \"/assn-mirna-luad/data/processed/clinical/\"\n",
    "\n",
    "mirna_tumor_df = pandas.read_csv(mirna_src_dir+'tumor_miRNA.csv')\n",
    "mirna_normal_df = pandas.read_csv(mirna_src_dir+'normal_miRNA.csv')\n",
    "clinical_df = pandas.read_csv(clinical_src_dir+'clinical.csv')\n",
    "\n",
    "print \"mirna_tumor_df.shape\", mirna_tumor_df.shape\n",
    "print \"mirna_normal_df.shape\", mirna_normal_df.shape\n",
    "\n",
    "\"\"\"\n",
    "Here we select samples to use for our regression analysis\n",
    "\"\"\"\n",
    "matched_samples = pandas.merge(clinical_df, mirna_normal_df, on='patient_barcode')['patient_barcode']\n",
    "print \"matched_samples\", matched_samples.shape\n",
    "# merged = pandas.merge(clinical_df, mirna_normal_df, on='patient_barcode')\n",
    "# print merged.shape\n",
    "# print\n",
    "# print merged['histological_type'].value_counts().sort_index(axis=0)\n",
    "# print\n",
    "# print merged['pathologic_stage'].value_counts().sort_index(axis=0)\n",
    "# print\n",
    "# print merged['pathologic_T'].value_counts().sort_index(axis=0)\n",
    "# print\n",
    "# print merged['pathologic_N'].value_counts().sort_index(axis=0)\n",
    "# print\n",
    "# print merged['pathologic_M'].value_counts().sort_index(axis=0)\n",
    "# print"
   ]
  },
  {
   "cell_type": "markdown",
   "metadata": {},
   "source": [
    "## We now create data matrixes from tumor vs normal samples"
   ]
  },
  {
   "cell_type": "code",
   "execution_count": 77,
   "metadata": {},
   "outputs": [
    {
     "name": "stdout",
     "output_type": "stream",
     "text": [
      "X_normal.shape (46, 1881)\nX_tumor.shape (46, 1881)\nY.shape (92,)\n"
     ]
    }
   ],
   "source": [
    "from sklearn import preprocessing\n",
    "import numpy as np\n",
    "X_normal = mirna_normal_df[mirna_normal_df['patient_barcode'].isin(matched_samples)]\n",
    "X_tumor = mirna_tumor_df[mirna_tumor_df['patient_barcode'].isin(matched_samples)]\n",
    "X_normal.__delitem__('patient_barcode')\n",
    "X_tumor.__delitem__('patient_barcode')\n",
    "\n",
    "X = pandas.concat([X_normal, X_tumor])\n",
    "# Create labels for 92 samples, first 46 labeled 0 indicating normal tissues, and last 46 labeled 1 for tumor tissues\n",
    "Y = np.concatenate((np.zeros(46), np.ones(46)), axis=0)\n",
    "\n",
    "# print 'miRNA null values', X.isnull().sum().sum()\n",
    "# print 'Y null values', Y.isnull().sum()\n",
    "\n",
    "print \"X_normal.shape\", X_normal.shape\n",
    "print \"X_tumor.shape\", X_tumor.shape\n",
    "print \"Y.shape\", Y.shape\n",
    "\n",
    "mirna_list = X.columns.values\n",
    "# \n",
    "X_scaler = preprocessing.StandardScaler(with_mean=False).fit(X)\n",
    "X = X_scaler.transform(X)"
   ]
  },
  {
   "cell_type": "markdown",
   "metadata": {},
   "source": [
    "## Perform classification with an L1-regularized Logistic Regression"
   ]
  },
  {
   "cell_type": "code",
   "execution_count": 114,
   "metadata": {},
   "outputs": [
    {
     "name": "stdout",
     "output_type": "stream",
     "text": [
      "X_train (73, 1881) , y_train (73,)\nX_test (19, 1881) , y_test (19,)\nLogisticRegression(C=1.0, class_weight=None, dual=False, fit_intercept=False,\n          intercept_scaling=1, max_iter=100, multi_class='ovr', n_jobs=1,\n          penalty='l1', random_state=None, solver='liblinear', tol=0.0001,\n          verbose=0, warm_start=False)\n\nNon-zero coef: 30\nmiRNA's selected:\n['hsa-mir-129-2' 'hsa-mir-133a-1' 'hsa-mir-133b' 'hsa-mir-138-2'\n 'hsa-mir-139' 'hsa-mir-140' 'hsa-mir-147b' 'hsa-mir-148a' 'hsa-mir-21'\n 'hsa-mir-218-1' 'hsa-mir-30a' 'hsa-mir-3122' 'hsa-mir-3161' 'hsa-mir-3652'\n 'hsa-mir-4465' 'hsa-mir-4510' 'hsa-mir-4791' 'hsa-mir-548ag-2'\n 'hsa-mir-548ak' 'hsa-mir-548an' 'hsa-mir-5579' 'hsa-mir-599' 'hsa-mir-615'\n 'hsa-mir-6777' 'hsa-mir-6832' 'hsa-mir-6892' 'hsa-mir-708' 'hsa-mir-7-1'\n 'hsa-mir-7-2' 'hsa-mir-96']\nmiRNA's corresponding coefficients:\n[ 0.0760485  -0.32607011 -0.0202594  -0.08760938 -0.50101293 -0.10367723\n  0.22178164  0.25418546  1.14050731 -0.22016574 -1.12782902 -0.00128133\n  0.03999048  0.01585939 -0.19053961 -0.07266261  0.21478542  0.06251664\n -0.04210919 -0.05358602  0.1159135  -0.00597936  0.11992357  0.06987199\n -0.04410162 -0.58785773  0.48506912  0.14593957  0.36476715  0.32934025]\n\nClassification_report on training\n             precision    recall  f1-score   support\n\n     normal       1.00      1.00      1.00        36\n      tumor       1.00      1.00      1.00        37\n\navg / total       1.00      1.00      1.00        73\n\nclassification_report on testing\n             precision    recall  f1-score   support\n\n     normal       1.00      0.90      0.95        10\n      tumor       0.90      1.00      0.95         9\n\navg / total       0.95      0.95      0.95        19\n\n[[9 1]\n [0 9]]\n"
     ]
    }
   ],
   "source": [
    "from sklearn.model_selection import train_test_split\n",
    "from sklearn import linear_model\n",
    "from sklearn import metrics\n",
    "\n",
    "X_train, X_test, y_train, y_test = train_test_split(X, Y, test_size=0.2, random_state=np.random.randint(0, 10000))\n",
    "print 'X_train', X_train.shape, ', y_train', y_train.shape\n",
    "print 'X_test', X_test.shape, ', y_test', y_test.shape\n",
    "\n",
    "model = linear_model.LogisticRegression(penalty=\"l1\", fit_intercept=False)\n",
    "print model.fit(X_train, y_train)\n",
    "\n",
    "print \"\\nNon-zero coef:\", np.nonzero(model.coef_.ravel())[0].size\n",
    "print \"miRNA's selected:\\n\", mirna_list[np.nonzero(model.coef_.ravel())[0]]\n",
    "print \"miRNA's corresponding coefficients:\\n\", model.coef_.ravel()[np.nonzero(model.coef_.ravel())[0]]\n",
    "\n",
    "print \"\\nClassification_report on training\"\n",
    "print metrics.classification_report(y_train, model.predict(X_train), labels=[0, 1], target_names=[\"normal\", \"tumor\"])\n",
    "print \"classification_report on testing\"\n",
    "print metrics.classification_report(y_test, model.predict(X_test), labels=[0, 1], target_names=[\"normal\", \"tumor\"])\n",
    "print metrics.confusion_matrix(y_test, model.predict(X_test), labels=[0, 1])"
   ]
  },
  {
   "cell_type": "code",
   "execution_count": 115,
   "metadata": {},
   "outputs": [
    {
     "name": "stdout",
     "output_type": "stream",
     "text": [
      "classification_report on rest of tumor patients\n(512, 1881)\n             precision    recall  f1-score   support\n\n     normal       0.00      0.00      0.00         0\n     target       1.00      0.96      0.98       512\n\navg / total       1.00      0.96      0.98       512\n\n[[  0   0]\n [ 22 490]]\n"
     ]
    }
   ],
   "source": [
    "print \"classification_report on rest of tumor patients\"\n",
    "X_tumor_unmatched = mirna_tumor_df.dropna(subset=['hsa-mir-96']).copy()\n",
    "X_tumor_unmatched.__delitem__('patient_barcode')\n",
    "X_tumor_unmatched = X_scaler.transform(X_tumor_unmatched)\n",
    "print X_tumor_unmatched.shape\n",
    "\n",
    "Y_tumor_unmatched = np.array([1,]*X_tumor_unmatched.shape[0], dtype=int)\n",
    "\n",
    "print metrics.classification_report(Y_tumor_unmatched, model.predict(X_tumor_unmatched), labels=[0, 1], target_names=[\"normal\", \"target\"])\n",
    "print metrics.confusion_matrix(Y_tumor_unmatched, model.predict(X_tumor_unmatched), labels=[0, 1])"
   ]
  },
  {
   "cell_type": "code",
   "execution_count": 80,
   "metadata": {},
   "outputs": [
    {
     "ename": "AttributeError",
     "evalue": "'LogisticRegressionCV' object has no attribute 'alphas_'",
     "traceback": [
      "\u001b[0;31m\u001b[0m",
      "\u001b[0;31mAttributeError\u001b[0mTraceback (most recent call last)",
      "\u001b[0;32m<ipython-input-80-c550dae1519b>\u001b[0m in \u001b[0;36m<module>\u001b[0;34m()\u001b[0m\n\u001b[1;32m      1\u001b[0m \u001b[0;32mfrom\u001b[0m \u001b[0mmatplotlib\u001b[0m \u001b[0;32mimport\u001b[0m \u001b[0mpyplot\u001b[0m \u001b[0;32mas\u001b[0m \u001b[0mplt\u001b[0m\u001b[0;34m\u001b[0m\u001b[0m\n\u001b[1;32m      2\u001b[0m \u001b[0;31m# Display results\u001b[0m\u001b[0;34m\u001b[0m\u001b[0;34m\u001b[0m\u001b[0m\n\u001b[0;32m----> 3\u001b[0;31m \u001b[0mm_log_alphas\u001b[0m \u001b[0;34m=\u001b[0m \u001b[0;34m-\u001b[0m\u001b[0mnp\u001b[0m\u001b[0;34m.\u001b[0m\u001b[0mlog10\u001b[0m\u001b[0;34m(\u001b[0m\u001b[0mmodel\u001b[0m\u001b[0;34m.\u001b[0m\u001b[0malphas_\u001b[0m\u001b[0;34m)\u001b[0m\u001b[0;34m\u001b[0m\u001b[0m\n\u001b[0m\u001b[1;32m      4\u001b[0m \u001b[0;34m\u001b[0m\u001b[0m\n\u001b[1;32m      5\u001b[0m \u001b[0mplt\u001b[0m\u001b[0;34m.\u001b[0m\u001b[0mfigure\u001b[0m\u001b[0;34m(\u001b[0m\u001b[0;34m)\u001b[0m\u001b[0;34m\u001b[0m\u001b[0m\n",
      "\u001b[0;31mAttributeError\u001b[0m: 'LogisticRegressionCV' object has no attribute 'alphas_'"
     ],
     "output_type": "error"
    }
   ],
   "source": [
    "from matplotlib import pyplot as plt\n",
    "# Display results\n",
    "m_log_alphas = -np.log10(model.alphas_)\n",
    "\n",
    "plt.figure()\n",
    "plt.plot(m_log_alphas, model.mse_path_, ':')\n",
    "plt.plot(m_log_alphas, model.mse_path_.mean(axis=-1), 'k',\n",
    "         label='Average across the folds', linewidth=2)\n",
    "plt.axvline(-np.log10(model.alpha_), linestyle='--', color='k',\n",
    "            label='alpha: CV estimate')\n",
    "\n",
    "plt.legend()\n",
    "\n",
    "plt.xlabel('-log(alpha)')\n",
    "plt.ylabel('Mean square error')\n",
    "plt.title('Mean square error on each fold: coordinate descent ')\n",
    "plt.axis('tight')\n",
    "plt.show()"
   ]
  },
  {
   "cell_type": "markdown",
   "metadata": {},
   "source": [
    "\n",
    "\n",
    "\n",
    "\n",
    "\n",
    "\n",
    "\n",
    "\n",
    "\n",
    "\n"
   ]
  }
 ],
 "metadata": {
  "kernelspec": {
   "display_name": "Python 2",
   "language": "python",
   "name": "python2"
  },
  "language_info": {
   "codemirror_mode": {
    "name": "ipython",
    "version": 2.0
   },
   "file_extension": ".py",
   "mimetype": "text/x-python",
   "name": "python",
   "nbconvert_exporter": "python",
   "pygments_lexer": "ipython2",
   "version": "2.7.6"
  }
 },
 "nbformat": 4,
 "nbformat_minor": 0
}