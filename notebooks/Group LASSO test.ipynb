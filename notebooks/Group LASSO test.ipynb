{
 "cells": [
  {
   "cell_type": "code",
   "execution_count": 5,
   "metadata": {
    "collapsed": true
   },
   "outputs": [],
   "source": [
    "import numpy as np\n",
    "from scipy import linalg, optimize\n",
    "\n",
    "MAX_ITER = 100\n",
    "\n",
    "\n",
    "def group_lasso(X, y, alpha, groups, max_iter=MAX_ITER, rtol=1e-6,\n",
    "             verbose=False):\n",
    "    \"\"\"\n",
    "    Linear least-squares with l2/l1 regularization solver.\n",
    "    Solves problem of the form:\n",
    "               .5 * |Xb - y| + n_samples * alpha * Sum(w_j * |b_j|)\n",
    "    where |.| is the l2-norm and b_j is the coefficients of b in the\n",
    "    j-th group. This is commonly known as the `group lasso`.\n",
    "    Parameters\n",
    "    ----------\n",
    "    X : array of shape (n_samples, n_features)\n",
    "        Design Matrix.\n",
    "    y : array of shape (n_samples,)\n",
    "    alpha : float or array\n",
    "        Amount of penalization to use.\n",
    "    groups : array of shape (n_features,)\n",
    "        Group label. For each column, it indicates\n",
    "        its group apertenance.\n",
    "    rtol : float\n",
    "        Relative tolerance. ensures ||(x - x_) / x_|| < rtol,\n",
    "        where x_ is the approximate solution and x is the\n",
    "        true solution.\n",
    "    Returns\n",
    "    -------\n",
    "    x : array\n",
    "        vector of coefficients\n",
    "    References\n",
    "    ----------\n",
    "    \"Efficient Block-coordinate Descent Algorithms for the Group Lasso\",\n",
    "    Qin, Scheninberg, Goldfarb\n",
    "    \"\"\"\n",
    "\n",
    "    # .. local variables ..\n",
    "    X, y, groups, alpha = map(np.asanyarray, (X, y, groups, alpha))\n",
    "    if len(groups) != X.shape[1]:\n",
    "        raise ValueError(\"Incorrect shape for groups\")\n",
    "    w_new = np.zeros(X.shape[1], dtype=X.dtype)\n",
    "    alpha = alpha * X.shape[0]\n",
    "\n",
    "    # .. use integer indices for groups ..\n",
    "    group_labels = [np.where(groups == i)[0] for i in np.unique(groups)]\n",
    "    H_groups = [np.dot(X[:, g].T, X[:, g]) for g in group_labels]\n",
    "    eig = map(linalg.eigh, H_groups)\n",
    "    Xy = np.dot(X.T, y)\n",
    "    initial_guess = np.zeros(len(group_labels))\n",
    "\n",
    "    def f(x, qp2, eigvals, alpha):\n",
    "        return 1 - np.sum( qp2 / ((x * eigvals + alpha) ** 2))\n",
    "    def df(x, qp2, eigvals, penalty):\n",
    "        # .. first derivative ..\n",
    "        return np.sum((2 * qp2 * eigvals) / ((penalty + x * eigvals) ** 3))\n",
    "\n",
    "    if X.shape[0] > X.shape[1]:\n",
    "        H = np.dot(X.T, X)\n",
    "    else:\n",
    "        H = None\n",
    "\n",
    "    for n_iter in range(max_iter):\n",
    "        w_old = w_new.copy()\n",
    "        for i, g in enumerate(group_labels):\n",
    "            # .. shrinkage operator ..\n",
    "            eigvals, eigvects = eig[i]\n",
    "            w_i = w_new.copy()\n",
    "            w_i[g] = 0.\n",
    "            if H is not None:\n",
    "                X_residual = np.dot(H[g], w_i) - Xy[g]\n",
    "            else:\n",
    "                X_residual = np.dot(X.T, np.dot(X[:, g], w_i)) - Xy[g]\n",
    "            qp = np.dot(eigvects.T, X_residual)\n",
    "            if len(g) < 2:\n",
    "                # for single groups we know a closed form solution\n",
    "                w_new[g] = - np.sign(X_residual) * max(abs(X_residual) - alpha, 0)\n",
    "            else:\n",
    "                if alpha < linalg.norm(X_residual, 2):\n",
    "                    initial_guess[i] = optimize.newton(f, initial_guess[i], df, tol=.5,\n",
    "                                args=(qp ** 2, eigvals, alpha))\n",
    "                    w_new[g] = - initial_guess[i] * np.dot(eigvects /  (eigvals * initial_guess[i] + alpha), qp)\n",
    "                else:\n",
    "                    w_new[g] = 0.\n",
    "\n",
    "\n",
    "        # .. dual gap ..\n",
    "        max_inc = linalg.norm(w_old - w_new, np.inf)\n",
    "        if True: #max_inc < rtol * np.amax(w_new):\n",
    "            residual = np.dot(X, w_new) - y\n",
    "            group_norm = alpha * np.sum([linalg.norm(w_new[g], 2)\n",
    "                         for g in group_labels])\n",
    "            if H is not None:\n",
    "                norm_Anu = [linalg.norm(np.dot(H[g], w_new) - Xy[g]) \\\n",
    "                           for g in group_labels]\n",
    "            else:\n",
    "                norm_Anu = [linalg.norm(np.dot(H[g], residual)) \\\n",
    "                           for g in group_labels]\n",
    "            if np.any(norm_Anu > alpha):\n",
    "                nnu = residual * np.min(alpha / norm_Anu)\n",
    "            else:\n",
    "                nnu = residual\n",
    "            primal_obj =  .5 * np.dot(residual, residual) + group_norm\n",
    "            dual_obj   = -.5 * np.dot(nnu, nnu) - np.dot(nnu, y)\n",
    "            dual_gap = primal_obj - dual_obj\n",
    "            if verbose:\n",
    "                print 'Relative error: %s' % (dual_gap / dual_obj)\n",
    "            if np.abs(dual_gap / dual_obj) < rtol:\n",
    "                break\n",
    "\n",
    "    return w_new\n",
    "\n",
    "\n",
    "def check_kkt(A, b, x, penalty, groups):\n",
    "    \"\"\"Check KKT conditions for the group lasso\n",
    "    Returns True if conditions are satisfied, False otherwise\n",
    "    \"\"\"\n",
    "    group_labels = [groups == i for i in np.unique(groups)]\n",
    "    penalty = penalty * A.shape[0]\n",
    "    z = np.dot(A.T, np.dot(A, x) - b)\n",
    "    safety_net = 1e-1 # sort of tolerance\n",
    "    for g in group_labels:\n",
    "        if linalg.norm(x[g]) == 0:\n",
    "            if not linalg.norm(z[g]) < penalty + safety_net:\n",
    "                return False\n",
    "        else:\n",
    "            w = - penalty * x[g] / linalg.norm(x[g], 2)\n",
    "            if not np.allclose(z[g], w, safety_net):\n",
    "                return False\n",
    "    return True"
   ]
  },
  {
   "cell_type": "code",
   "execution_count": 6,
   "metadata": {},
   "outputs": [
    {
     "name": "stdout",
     "output_type": "stream",
     "text": [
      "Relative error: 3.62054055906\nRelative error: 0.511282938973\nRelative error: 0.109013879149\nRelative error: 0.01603796372\nRelative error: 0.0136889847303\nRelative error: 0.00614418970989\nRelative error: 0.00675690708351\nRelative error: 0.00750779696224\nRelative error: 0.00780316299601\nRelative error: 0.00768996169054\nRelative error: 0.00741115453611\nRelative error: 0.00711452875109\nRelative error: 0.00684642643144\nRelative error: 0.006607312106\nRelative error: 0.00435464981519\nRelative error: 0.000846797763839\nRelative error: 0.000244923820609\nRelative error: 6.24024549896e-05\nRelative error: 1.65245658846e-05\nRelative error: 6.43138545037e-06\nRelative error: 2.34947595596e-06\nRelative error: 8.95223223968e-07\nKKT conditions verified: True\n"
     ]
    }
   ],
   "source": [
    "from sklearn import datasets\n",
    "diabetes = datasets.load_diabetes()\n",
    "X = diabetes.data\n",
    "y = diabetes.target\n",
    "alpha = .1\n",
    "groups = np.r_[[0, 0], np.arange(X.shape[1] - 2)]\n",
    "coefs = group_lasso(X, y, alpha, groups, verbose=True)\n",
    "print 'KKT conditions verified:', check_kkt(X, y, coefs, alpha, groups)"
   ]
  },
  {
   "cell_type": "code",
   "execution_count": 7,
   "metadata": {},
   "outputs": [
    {
     "name": "stdout",
     "output_type": "stream",
     "text": [
      "(442, 10)\n(442,)\n(10,)\n"
     ]
    }
   ],
   "source": [
    "print X.shape\n",
    "print y.shape\n",
    "print coefs.shape"
   ]
  },
  {
   "cell_type": "code",
   "execution_count": 8,
   "metadata": {},
   "outputs": [
    {
     "data": {
      "text/plain": [
       "array([0, 0, 0, 1, 2, 3, 4, 5, 6, 7])"
      ]
     },
     "execution_count": 8,
     "metadata": {},
     "output_type": "execute_result"
    }
   ],
   "source": [
    "groups"
   ]
  },
  {
   "cell_type": "code",
   "execution_count": null,
   "metadata": {},
   "outputs": [],
   "source": [
    ""
   ]
  }
 ],
 "metadata": {
  "kernelspec": {
   "display_name": "Python 2",
   "language": "python",
   "name": "python2"
  },
  "language_info": {
   "codemirror_mode": {
    "name": "ipython",
    "version": 2.0
   },
   "file_extension": ".py",
   "mimetype": "text/x-python",
   "name": "python",
   "nbconvert_exporter": "python",
   "pygments_lexer": "ipython2",
   "version": "2.7.6"
  }
 },
 "nbformat": 4,
 "nbformat_minor": 0
}