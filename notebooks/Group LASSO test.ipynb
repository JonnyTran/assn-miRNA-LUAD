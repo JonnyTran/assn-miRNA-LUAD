{
 "cells": [
  {
   "cell_type": "code",
   "execution_count": 4,
   "metadata": {
    "collapsed": true
   },
   "outputs": [],
   "source": [
    "import numpy as np\n",
    "from scipy import linalg, optimize\n",
    "\n",
    "MAX_ITER = 100\n",
    "\n",
    "\n",
    "def group_lasso(X, y, alpha, groups, max_iter=MAX_ITER, rtol=1e-6,\n",
    "             verbose=False):\n",
    "    \"\"\"\n",
    "    Linear least-squares with l2/l1 regularization solver.\n",
    "    Solves problem of the form:\n",
    "               .5 * |Xb - y| + n_samples * alpha * Sum(w_j * |b_j|)\n",
    "    where |.| is the l2-norm and b_j is the coefficients of b in the\n",
    "    j-th group. This is commonly known as the `group lasso`.\n",
    "    Parameters\n",
    "    ----------\n",
    "    X : array of shape (n_samples, n_features)\n",
    "        Design Matrix.\n",
    "    y : array of shape (n_samples,)\n",
    "    alpha : float or array\n",
    "        Amount of penalization to use.\n",
    "    groups : array of shape (n_features,)\n",
    "        Group label. For each column, it indicates\n",
    "        its group apertenance.\n",
    "    rtol : float\n",
    "        Relative tolerance. ensures ||(x - x_) / x_|| < rtol,\n",
    "        where x_ is the approximate solution and x is the\n",
    "        true solution.\n",
    "    Returns\n",
    "    -------\n",
    "    x : array\n",
    "        vector of coefficients\n",
    "    References\n",
    "    ----------\n",
    "    \"Efficient Block-coordinate Descent Algorithms for the Group Lasso\",\n",
    "    Qin, Scheninberg, Goldfarb\n",
    "    \"\"\"\n",
    "\n",
    "    # .. local variables ..\n",
    "    X, y, groups, alpha = map(np.asanyarray, (X, y, groups, alpha))\n",
    "    if len(groups) != X.shape[1]:\n",
    "        raise ValueError(\"Incorrect shape for groups\")\n",
    "    w_new = np.zeros(X.shape[1], dtype=X.dtype)\n",
    "    alpha = alpha * X.shape[0]\n",
    "\n",
    "    # .. use integer indices for groups ..\n",
    "    group_labels = [np.where(groups == i)[0] for i in np.unique(groups)]\n",
    "    print group_labels\n",
    "    H_groups = [np.dot(X[:, g].T, X[:, g]) for g in group_labels]\n",
    "    print H_groups.__sizeof__(), H_groups\n",
    "    eig = map(linalg.eigh, H_groups)\n",
    "    Xy = np.dot(X.T, y)\n",
    "    initial_guess = np.zeros(len(group_labels))\n",
    "\n",
    "    def f(x, qp2, eigvals, alpha):\n",
    "        return 1 - np.sum( qp2 / ((x * eigvals + alpha) ** 2))\n",
    "    def df(x, qp2, eigvals, penalty):\n",
    "        # .. first derivative ..\n",
    "        return np.sum((2 * qp2 * eigvals) / ((penalty + x * eigvals) ** 3))\n",
    "\n",
    "    if X.shape[0] > X.shape[1]:\n",
    "        H = np.dot(X.T, X)\n",
    "    else:\n",
    "        H = None\n",
    "\n",
    "    for n_iter in range(max_iter):\n",
    "        w_old = w_new.copy()\n",
    "        for i, g in enumerate(group_labels):\n",
    "            # .. shrinkage operator ..\n",
    "            eigvals, eigvects = eig[i]\n",
    "            w_i = w_new.copy()\n",
    "            w_i[g] = 0.\n",
    "            if H is not None:\n",
    "                X_residual = np.dot(H[g], w_i) - Xy[g]\n",
    "            else:\n",
    "                X_residual = np.dot(X.T, np.dot(X[:, g], w_i)) - Xy[g]\n",
    "            qp = np.dot(eigvects.T, X_residual)\n",
    "            if len(g) < 2:\n",
    "                # for single groups we know a closed form solution\n",
    "                w_new[g] = - np.sign(X_residual) * max(abs(X_residual) - alpha, 0)\n",
    "            else:\n",
    "                if alpha < linalg.norm(X_residual, 2):\n",
    "                    initial_guess[i] = optimize.newton(f, initial_guess[i], df, tol=.5,\n",
    "                                args=(qp ** 2, eigvals, alpha))\n",
    "                    w_new[g] = - initial_guess[i] * np.dot(eigvects /  (eigvals * initial_guess[i] + alpha), qp)\n",
    "                else:\n",
    "                    w_new[g] = 0.\n",
    "\n",
    "\n",
    "        # .. dual gap ..\n",
    "        max_inc = linalg.norm(w_old - w_new, np.inf)\n",
    "        if True: #max_inc < rtol * np.amax(w_new):\n",
    "            residual = np.dot(X, w_new) - y\n",
    "            group_norm = alpha * np.sum([linalg.norm(w_new[g], 2)\n",
    "                         for g in group_labels])\n",
    "            if H is not None:\n",
    "                norm_Anu = [linalg.norm(np.dot(H[g], w_new) - Xy[g]) \\\n",
    "                           for g in group_labels]\n",
    "            else:\n",
    "                norm_Anu = [linalg.norm(np.dot(H[g], residual)) \\\n",
    "                           for g in group_labels]\n",
    "            if np.any(norm_Anu > alpha):\n",
    "                nnu = residual * np.min(alpha / norm_Anu)\n",
    "            else:\n",
    "                nnu = residual\n",
    "            primal_obj =  .5 * np.dot(residual, residual) + group_norm\n",
    "            dual_obj   = -.5 * np.dot(nnu, nnu) - np.dot(nnu, y)\n",
    "            dual_gap = primal_obj - dual_obj\n",
    "            if verbose:\n",
    "                print 'Relative error: %s' % (dual_gap / dual_obj)\n",
    "            if np.abs(dual_gap / dual_obj) < rtol:\n",
    "                break\n",
    "\n",
    "    return w_new\n",
    "\n",
    "\n",
    "def check_kkt(A, b, x, penalty, groups):\n",
    "    \"\"\"Check KKT conditions for the group lasso\n",
    "    Returns True if conditions are satisfied, False otherwise\n",
    "    \"\"\"\n",
    "    group_labels = [groups == i for i in np.unique(groups)]\n",
    "    penalty = penalty * A.shape[0]\n",
    "    z = np.dot(A.T, np.dot(A, x) - b)\n",
    "    safety_net = 1e-1 # sort of tolerance\n",
    "    for g in group_labels:\n",
    "        if linalg.norm(x[g]) == 0:\n",
    "            if not linalg.norm(z[g]) < penalty + safety_net:\n",
    "                return False\n",
    "        else:\n",
    "            w = - penalty * x[g] / linalg.norm(x[g], 2)\n",
    "            if not np.allclose(z[g], w, safety_net):\n",
    "                return False\n",
    "    return True"
   ]
  },
  {
   "cell_type": "code",
   "execution_count": 28,
   "metadata": {},
   "outputs": [
    {
     "name": "stdout",
     "output_type": "stream",
     "text": [
      "\nFISTA + Group Lasso L2 with variable size of groups\nmean loss: 0.475944, mean relative duality_gap: 0.000113, number of iterations: 20.000000\n"
     ]
    }
   ],
   "source": [
    ""
   ]
  },
  {
   "cell_type": "code",
   "execution_count": 20,
   "metadata": {},
   "outputs": [
    {
     "name": "stdout",
     "output_type": "stream",
     "text": [
      "[array([2]), array([3]), array([4]), array([5]), array([6]), array([7]), array([8]), array([9]), array([0, 1])]\n168 [array([[ 1.]]), array([[ 1.]]), array([[ 1.]]), array([[ 1.]]), array([[ 1.]]), array([[ 1.]]), array([[ 1.]]), array([[ 1.]]), array([[ 1.       ,  0.1737371],\n       [ 0.1737371,  1.       ]])]\nRelative error: 2.33177606485\nRelative error: 0.473190450119\nRelative error: 0.126825121057\nRelative error: 0.0217456557803\nRelative error: 0.0321324913375\nRelative error: 0.00770328777563\nRelative error: 0.00530338779656\nRelative error: 0.00678894481934\nRelative error: 0.00744198839788\nRelative error: 0.00737399150524\nRelative error: 0.00703761753172\nRelative error: 0.00669235328303\nRelative error: 0.00640758310735\nRelative error: 0.00569487768198\nRelative error: 0.00112936068656\nRelative error: 0.000335788264732\nRelative error: 9.35987100447e-05\nRelative error: 3.81131188497e-05\nRelative error: 1.59188155948e-05\nRelative error: 5.42017651034e-06\nRelative error: 1.3519845247e-06\nRelative error: 3.5369116917e-07\nKKT conditions verified: True\n"
     ]
    }
   ],
   "source": [
    "from sklearn import datasets\n",
    "diabetes = datasets.load_diabetes()\n",
    "X = diabetes.data\n",
    "y = diabetes.target\n",
    "alpha = .1\n",
    "groups = np.r_[[11, 11], np.arange(X.shape[1] - 2)]\n",
    "coefs = group_lasso(X, y, alpha, groups, verbose=True)\n",
    "print 'KKT conditions verified:', check_kkt(X, y, coefs, alpha, groups)"
   ]
  },
  {
   "cell_type": "code",
   "execution_count": 13,
   "metadata": {},
   "outputs": [
    {
     "name": "stdout",
     "output_type": "stream",
     "text": [
      "(442, 10)\n(442,)\n(10,)\n"
     ]
    }
   ],
   "source": [
    "print X.shape\n",
    "print y.shape\n",
    "print coefs.shape"
   ]
  },
  {
   "cell_type": "code",
   "execution_count": 16,
   "metadata": {},
   "outputs": [
    {
     "data": {
      "text/plain": [
       "array([11, 11,  0,  1,  2,  3,  4,  5,  6,  7])"
      ]
     },
     "execution_count": 16,
     "metadata": {},
     "output_type": "execute_result"
    }
   ],
   "source": [
    "groups"
   ]
  },
  {
   "cell_type": "code",
   "execution_count": 8,
   "metadata": {
    "collapsed": true
   },
   "outputs": [
    {
     "name": "stdout",
     "output_type": "stream",
     "text": [
      "<type 'numpy.ndarray'> (100, 10)\n<type 'numpy.ndarray'> (100, 1000) [[ 3.  2.  2. ...,  1.  1.  4.]\n [ 0.  2.  1. ...,  0.  4.  3.]\n [ 2.  3.  2. ...,  3.  4.  1.]\n ..., \n [ 1.  0.  0. ...,  0.  1.  1.]\n [ 4.  1.  4. ...,  4.  2.  4.]\n [ 1.  3.  0. ...,  2.  2.  1.]]\n<type 'numpy.ndarray'> (10, 1000)\n\nMulti-logistic + Group Lasso L2 with variable size of groups\n{'groups': array([1, 1, 5, 2, 5, 4, 2, 4, 3, 2], dtype=int32), 'loss': 'multi-logistic', 'regul': 'group-lasso-l2', 'verbose': True, 'numThreads': -1, 'max_it': 500, 'pos': False, 'intercept': False, 'L0': 0.1, 'tol': 0.001, 'lambda1': 0.01, 'it0': 10}\n"
     ]
    },
    {
     "name": "stderr",
     "output_type": "stream",
     "text": [
      "/opt/anaconda/lib/python2.7/site-packages/ipykernel/__main__.py:28: DeprecationWarning: This function is deprecated. Please call randint(1, 5 + 1) instead\n"
     ]
    },
    {
     "ename": "RuntimeError",
     "evalue": "fistaFlat : Argument sizes are not consistent",
     "traceback": [
      "\u001b[0;31m\u001b[0m",
      "\u001b[0;31mRuntimeError\u001b[0mTraceback (most recent call last)",
      "\u001b[0;32m<ipython-input-8-12f64e40a765>\u001b[0m in \u001b[0;36m<module>\u001b[0;34m()\u001b[0m\n\u001b[1;32m     30\u001b[0m \u001b[0mparam2\u001b[0m\u001b[0;34m[\u001b[0m\u001b[0;34m'lambda1'\u001b[0m\u001b[0;34m]\u001b[0m \u001b[0;34m=\u001b[0m \u001b[0;36m0.01\u001b[0m\u001b[0;34m\u001b[0m\u001b[0m\n\u001b[1;32m     31\u001b[0m \u001b[0;32mprint\u001b[0m \u001b[0mparam2\u001b[0m\u001b[0;34m\u001b[0m\u001b[0m\n\u001b[0;32m---> 32\u001b[0;31m \u001b[0mW\u001b[0m\u001b[0;34m,\u001b[0m \u001b[0moptim_info\u001b[0m \u001b[0;34m=\u001b[0m \u001b[0mspams\u001b[0m\u001b[0;34m.\u001b[0m\u001b[0mfistaFlat\u001b[0m\u001b[0;34m(\u001b[0m\u001b[0mY\u001b[0m\u001b[0;34m,\u001b[0m \u001b[0mX\u001b[0m\u001b[0;34m,\u001b[0m \u001b[0mW0\u001b[0m\u001b[0;34m,\u001b[0m \u001b[0mTrue\u001b[0m\u001b[0;34m,\u001b[0m \u001b[0;34m**\u001b[0m\u001b[0mparam2\u001b[0m\u001b[0;34m)\u001b[0m\u001b[0;34m\u001b[0m\u001b[0m\n\u001b[0m",
      "\u001b[0;32m/opt/anaconda/lib/python2.7/site-packages/spams.pyc\u001b[0m in \u001b[0;36mfistaFlat\u001b[0;34m(Y, X, W0, return_optim_info, numThreads, max_it, L0, fixed_step, gamma, lambda1, delta, lambda2, lambda3, a, b, c, tol, it0, max_iter_backtracking, compute_gram, lin_admm, admm, intercept, resetflow, regul, loss, verbose, pos, clever, log, ista, subgrad, logName, is_inner_weights, inner_weights, size_group, groups, sqrt_step, transpose, linesearch_mode)\u001b[0m\n\u001b[1;32m   1115\u001b[0m         \u001b[0minner_weights\u001b[0m \u001b[0;34m=\u001b[0m \u001b[0mnp\u001b[0m\u001b[0;34m.\u001b[0m\u001b[0marray\u001b[0m\u001b[0;34m(\u001b[0m\u001b[0;34m[\u001b[0m\u001b[0;36m0.\u001b[0m\u001b[0;34m]\u001b[0m\u001b[0;34m,\u001b[0m\u001b[0mdtype\u001b[0m\u001b[0;34m=\u001b[0m\u001b[0mX\u001b[0m\u001b[0;34m.\u001b[0m\u001b[0mdtype\u001b[0m\u001b[0;34m)\u001b[0m\u001b[0;34m\u001b[0m\u001b[0m\n\u001b[1;32m   1116\u001b[0m     \u001b[0mW\u001b[0m \u001b[0;34m=\u001b[0m \u001b[0mnp\u001b[0m\u001b[0;34m.\u001b[0m\u001b[0mzeros\u001b[0m\u001b[0;34m(\u001b[0m\u001b[0;34m(\u001b[0m\u001b[0mW0\u001b[0m\u001b[0;34m.\u001b[0m\u001b[0mshape\u001b[0m\u001b[0;34m[\u001b[0m\u001b[0;36m0\u001b[0m\u001b[0;34m]\u001b[0m\u001b[0;34m,\u001b[0m\u001b[0mW0\u001b[0m\u001b[0;34m.\u001b[0m\u001b[0mshape\u001b[0m\u001b[0;34m[\u001b[0m\u001b[0;36m1\u001b[0m\u001b[0;34m]\u001b[0m\u001b[0;34m)\u001b[0m\u001b[0;34m,\u001b[0m\u001b[0mdtype\u001b[0m\u001b[0;34m=\u001b[0m\u001b[0mW0\u001b[0m\u001b[0;34m.\u001b[0m\u001b[0mdtype\u001b[0m\u001b[0;34m,\u001b[0m\u001b[0morder\u001b[0m\u001b[0;34m=\u001b[0m\u001b[0;34m\"FORTRAN\"\u001b[0m\u001b[0;34m)\u001b[0m\u001b[0;34m\u001b[0m\u001b[0m\n\u001b[0;32m-> 1117\u001b[0;31m     \u001b[0moptim_info\u001b[0m \u001b[0;34m=\u001b[0m \u001b[0mspams_wrap\u001b[0m\u001b[0;34m.\u001b[0m\u001b[0mfistaFlat\u001b[0m\u001b[0;34m(\u001b[0m\u001b[0mY\u001b[0m\u001b[0;34m,\u001b[0m\u001b[0mX\u001b[0m\u001b[0;34m,\u001b[0m\u001b[0mW0\u001b[0m\u001b[0;34m,\u001b[0m\u001b[0mW\u001b[0m\u001b[0;34m,\u001b[0m\u001b[0mgroups\u001b[0m\u001b[0;34m,\u001b[0m\u001b[0mnumThreads\u001b[0m \u001b[0;34m,\u001b[0m\u001b[0mmax_it\u001b[0m \u001b[0;34m,\u001b[0m\u001b[0mL0\u001b[0m\u001b[0;34m,\u001b[0m\u001b[0mfixed_step\u001b[0m\u001b[0;34m,\u001b[0m\u001b[0mgamma\u001b[0m\u001b[0;34m,\u001b[0m\u001b[0mlambda1\u001b[0m\u001b[0;34m,\u001b[0m\u001b[0mdelta\u001b[0m\u001b[0;34m,\u001b[0m\u001b[0mlambda2\u001b[0m\u001b[0;34m,\u001b[0m\u001b[0mlambda3\u001b[0m\u001b[0;34m,\u001b[0m\u001b[0ma\u001b[0m\u001b[0;34m,\u001b[0m\u001b[0mb\u001b[0m\u001b[0;34m,\u001b[0m\u001b[0mc\u001b[0m\u001b[0;34m,\u001b[0m\u001b[0mtol\u001b[0m\u001b[0;34m,\u001b[0m\u001b[0mit0\u001b[0m\u001b[0;34m,\u001b[0m\u001b[0mmax_iter_backtracking\u001b[0m\u001b[0;34m,\u001b[0m\u001b[0mcompute_gram\u001b[0m\u001b[0;34m,\u001b[0m\u001b[0mlin_admm\u001b[0m\u001b[0;34m,\u001b[0m\u001b[0madmm\u001b[0m\u001b[0;34m,\u001b[0m\u001b[0mintercept\u001b[0m\u001b[0;34m,\u001b[0m\u001b[0mresetflow\u001b[0m\u001b[0;34m,\u001b[0m\u001b[0mregul\u001b[0m\u001b[0;34m,\u001b[0m\u001b[0mloss\u001b[0m\u001b[0;34m,\u001b[0m\u001b[0mverbose\u001b[0m\u001b[0;34m,\u001b[0m\u001b[0mpos\u001b[0m\u001b[0;34m,\u001b[0m\u001b[0mclever\u001b[0m\u001b[0;34m,\u001b[0m\u001b[0mlog\u001b[0m\u001b[0;34m,\u001b[0m\u001b[0mista\u001b[0m\u001b[0;34m,\u001b[0m\u001b[0msubgrad\u001b[0m\u001b[0;34m,\u001b[0m\u001b[0mlogName\u001b[0m\u001b[0;34m,\u001b[0m\u001b[0mis_inner_weights\u001b[0m\u001b[0;34m,\u001b[0m\u001b[0minner_weights\u001b[0m\u001b[0;34m,\u001b[0m\u001b[0msize_group\u001b[0m\u001b[0;34m,\u001b[0m\u001b[0msqrt_step\u001b[0m\u001b[0;34m,\u001b[0m\u001b[0mtranspose\u001b[0m\u001b[0;34m,\u001b[0m\u001b[0mlinesearch_mode\u001b[0m\u001b[0;34m)\u001b[0m\u001b[0;34m\u001b[0m\u001b[0m\n\u001b[0m\u001b[1;32m   1118\u001b[0m     \u001b[0;32mif\u001b[0m \u001b[0mreturn_optim_info\u001b[0m\u001b[0;34m:\u001b[0m\u001b[0;34m\u001b[0m\u001b[0m\n\u001b[1;32m   1119\u001b[0m         \u001b[0;32mreturn\u001b[0m\u001b[0;34m(\u001b[0m\u001b[0mW\u001b[0m\u001b[0;34m,\u001b[0m\u001b[0moptim_info\u001b[0m\u001b[0;34m)\u001b[0m\u001b[0;34m\u001b[0m\u001b[0m\n",
      "\u001b[0;32m/opt/anaconda/lib/python2.7/site-packages/spams_wrap.pyc\u001b[0m in \u001b[0;36mfistaFlat\u001b[0;34m(*args)\u001b[0m\n\u001b[1;32m    398\u001b[0m         bool transpose, int linesearch_mode) -> Matrix<(float)>\n\u001b[1;32m    399\u001b[0m     \"\"\"\n\u001b[0;32m--> 400\u001b[0;31m   \u001b[0;32mreturn\u001b[0m \u001b[0m_spams_wrap\u001b[0m\u001b[0;34m.\u001b[0m\u001b[0mfistaFlat\u001b[0m\u001b[0;34m(\u001b[0m\u001b[0;34m*\u001b[0m\u001b[0margs\u001b[0m\u001b[0;34m)\u001b[0m\u001b[0;34m\u001b[0m\u001b[0m\n\u001b[0m\u001b[1;32m    401\u001b[0m \u001b[0;34m\u001b[0m\u001b[0m\n\u001b[1;32m    402\u001b[0m \u001b[0;32mdef\u001b[0m \u001b[0mfistaTree\u001b[0m\u001b[0;34m(\u001b[0m\u001b[0;34m*\u001b[0m\u001b[0margs\u001b[0m\u001b[0;34m)\u001b[0m\u001b[0;34m:\u001b[0m\u001b[0;34m\u001b[0m\u001b[0m\n",
      "\u001b[0;31mRuntimeError\u001b[0m: fistaFlat : Argument sizes are not consistent"
     ],
     "output_type": "error"
    }
   ],
   "source": [
    "from src.models.GroupLasso import group_lasso\n",
    "import spams\n",
    "import numpy as np\n",
    "# coefs = group_lasso(pandas.concat([mirna_tumor, mirna_normal]), Y, alpha=0.5, groups=np.array(mirna_groups.values()), max_iter=100)\n",
    "# pandas.concat([mirna_tumor, mirna_normal]).shape\n",
    "# Y.shape\n",
    "# np.array(mirna_groups.values()).shape\n",
    "\n",
    "myfloat = np.float\n",
    "param = {'numThreads': -1, 'verbose': True,\n",
    "         'lambda1': 0.05, 'it0': 10, 'max_it': 500,\n",
    "         'L0': 0.1, 'tol': 1e-3, 'intercept': False,\n",
    "         'pos': False}\n",
    "X = np.asfortranarray(np.random.normal(size = (100,10)))\n",
    "X = np.asfortranarray(X - np.tile(np.mean(X,0),(X.shape[0],1)),dtype=myfloat)\n",
    "X = spams.normalize(X)\n",
    "Y = np.asfortranarray(np.ceil(5 * np.random.random(size = (100,1000))) - 1,dtype=myfloat)\n",
    "W0 = np.zeros((X.shape[1], Y.shape[1]), dtype=myfloat, order=\"F\")\n",
    "\n",
    "print type(X), X.shape\n",
    "print type(Y), Y.shape, Y\n",
    "print type(W0), W0.shape\n",
    "\n",
    "print '\\nMulti-logistic + Group Lasso L2 with variable size of groups'\n",
    "param['loss'] = 'multi-logistic'\n",
    "param['regul'] = 'group-lasso-l2'\n",
    "param2 = param.copy()\n",
    "param2['groups'] = np.array(np.random.random_integers(1,5,X.shape[1]),dtype = np.int32)\n",
    "# param2['groups'] = np.array(np.arange(1881)+1, dtype=np.int32)\n",
    "param2['lambda1'] = 0.01\n",
    "print param2\n",
    "W, optim_info = spams.fistaFlat(Y, X, W0, True, **param2)"
   ]
  },
  {
   "cell_type": "code",
   "execution_count": 8,
   "metadata": {},
   "outputs": [
    {
     "data": {
      "text/plain": [
       "128"
      ]
     },
     "execution_count": 8,
     "metadata": {},
     "output_type": "execute_result"
    }
   ],
   "source": [
    "len(W.nonzero()[0])"
   ]
  },
  {
   "cell_type": "code",
   "execution_count": null,
   "metadata": {},
   "outputs": [],
   "source": [
    ""
   ]
  }
 ],
 "metadata": {
  "kernelspec": {
   "display_name": "Python 2",
   "language": "python",
   "name": "python2"
  },
  "language_info": {
   "codemirror_mode": {
    "name": "ipython",
    "version": 2.0
   },
   "file_extension": ".py",
   "mimetype": "text/x-python",
   "name": "python",
   "nbconvert_exporter": "python",
   "pygments_lexer": "ipython2",
   "version": "2.7.6"
  }
 },
 "nbformat": 4,
 "nbformat_minor": 0
}