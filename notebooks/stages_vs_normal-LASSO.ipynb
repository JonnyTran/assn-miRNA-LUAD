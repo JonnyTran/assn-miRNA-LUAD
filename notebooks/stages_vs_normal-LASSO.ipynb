{
 "cells": [
  {
   "cell_type": "code",
   "execution_count": 11,
   "metadata": {
    "collapsed": false
   },
   "outputs": [
    {
     "name": "stdout",
     "output_type": "stream",
     "text": [
      "mirna_tumor_df.shape (513, 1882)\nmirna_normal_df.shape (46, 1882)\nvalidated_miRNAs.shape (110, 1)\nnormal    46\nName: pathologic_stage, dtype: int64\nStage I      277\nStage II     121\nStage III     84\nStage IV      24\nName: pathologic_stage, dtype: int64\n"
     ]
    }
   ],
   "source": [
    "import os\n",
    "import pandas\n",
    "from definitions import ROOT_DIR\n",
    "\n",
    "mirna_tumor_df = pandas.read_csv(os.path.join(ROOT_DIR, \"data/processed/miRNA/tumor_miRNA.csv\"))\n",
    "mirna_normal_df = pandas.read_csv(os.path.join(ROOT_DIR, \"data/processed/miRNA/normal_miRNA.csv\"))\n",
    "clinical_df = pandas.read_csv(os.path.join(ROOT_DIR, \"data/processed/clinical/clinical.csv\"))\n",
    "validated_miRNAs = pandas.read_csv(os.path.join(ROOT_DIR, 'data/external/validated_miRNAs_nsclc.csv'))\n",
    "\n",
    "print \"mirna_tumor_df.shape\", mirna_tumor_df.shape\n",
    "print \"mirna_normal_df.shape\", mirna_normal_df.shape\n",
    "print 'validated_miRNAs.shape', validated_miRNAs.shape\n",
    "\n",
    "X_normal = pandas.merge(clinical_df[['patient_barcode', 'pathologic_stage']], mirna_normal_df, on='patient_barcode')\n",
    "X_normal['pathologic_stage'] = 'normal'\n",
    "X_tumor = pandas.merge(clinical_df[['patient_barcode', 'pathologic_stage']], mirna_tumor_df, on='patient_barcode')\n",
    "\n",
    "pathologic_stage_map = {'Stage IA': 'Stage I', 'Stage IB': 'Stage I', \n",
    "                        'Stage IIA': 'Stage II', 'Stage IIB': 'Stage II', \n",
    "                        'Stage IIIA': 'Stage III', 'Stage IIIB': 'Stage III'}\n",
    "\n",
    "X_tumor.replace({'pathologic_stage': pathologic_stage_map}, inplace=True)\n",
    "\n",
    "print X_normal['pathologic_stage'].value_counts().sort_index(axis=0)\n",
    "print X_tumor['pathologic_stage'].value_counts().sort_index(axis=0)"
   ]
  },
  {
   "cell_type": "markdown",
   "metadata": {},
   "source": [
    "## We now create data matrixes from tumor vs normal samples"
   ]
  },
  {
   "cell_type": "code",
   "execution_count": 23,
   "metadata": {},
   "outputs": [
    {
     "name": "stdout",
     "output_type": "stream",
     "text": [
      "miRNA null values 0\nY null values 0\nX.shape (552, 1881)\nY.shape (552,)\n"
     ]
    }
   ],
   "source": [
    "from sklearn import preprocessing\n",
    "\n",
    "X = pandas.concat([X_normal, X_tumor]).dropna(subset=['pathologic_stage'])\n",
    "Y = X['pathologic_stage']\n",
    "\n",
    "X_normal_vs_I = X[X['pathologic_stage'].isin(['normal', 'Stage I'])]\n",
    "X_normal_vs_II = X[X['pathologic_stage'].isin(['normal', 'Stage II'])]\n",
    "X_normal_vs_III = X[X['pathologic_stage'].isin(['normal', 'Stage III'])]\n",
    "X_normal_vs_IV = X[X['pathologic_stage'].isin(['normal', 'Stage IV'])]\n",
    "\n",
    "Y_normal_vs_I = X_normal_vs_I['pathologic_stage']\n",
    "Y_normal_vs_II = X_normal_vs_II['pathologic_stage']\n",
    "Y_normal_vs_III = X_normal_vs_III['pathologic_stage']\n",
    "Y_normal_vs_IV = X_normal_vs_IV['pathologic_stage']\n",
    "\n",
    "X_normal_vs_I.__delitem__('patient_barcode')\n",
    "X_normal_vs_I.__delitem__('pathologic_stage')\n",
    "X_normal_vs_II.__delitem__('patient_barcode')\n",
    "X_normal_vs_II.__delitem__('pathologic_stage')\n",
    "X_normal_vs_III.__delitem__('patient_barcode')\n",
    "X_normal_vs_III.__delitem__('pathologic_stage')\n",
    "X_normal_vs_IV.__delitem__('patient_barcode')\n",
    "X_normal_vs_IV.__delitem__('pathologic_stage')\n",
    "\n",
    "X.__delitem__('patient_barcode')\n",
    "X.__delitem__('pathologic_stage')\n",
    "\n",
    "print 'miRNA null values', X.isnull().sum().sum()\n",
    "print 'Y null values', Y.isnull().sum()\n",
    "\n",
    "print \"X.shape\", X.shape\n",
    "print \"Y.shape\", Y.shape\n",
    "\n",
    "mirna_list = X.columns.values\n",
    "validated_miRNAs = set(validated_miRNAs['miRNA'].tolist())\n",
    "\n",
    "X_scaler = preprocessing.StandardScaler(with_mean=False).fit(X)\n",
    "X_normal_vs_I = X_scaler.transform(X_normal_vs_I)\n",
    "X_normal_vs_II = X_scaler.transform(X_normal_vs_II)\n",
    "X_normal_vs_III = X_scaler.transform(X_normal_vs_III)\n",
    "X_normal_vs_IV = X_scaler.transform(X_normal_vs_IV)"
   ]
  },
  {
   "cell_type": "code",
   "execution_count": 29,
   "metadata": {
    "collapsed": false
   },
   "outputs": [
    {
     "name": "stdout",
     "output_type": "stream",
     "text": [
      "mirna_list 1881\nvalidated_miRNAs 110\n109\n"
     ]
    }
   ],
   "source": [
    "print \"mirna_list\", len(mirna_list)\n",
    "print 'validated_miRNAs', len(validated_miRNAs)\n",
    "\n",
    "print len(validated_miRNAs & set(mirna_list))"
   ]
  },
  {
   "cell_type": "markdown",
   "metadata": {},
   "source": [
    "## Perform classification"
   ]
  },
  {
   "cell_type": "code",
   "execution_count": 45,
   "metadata": {},
   "outputs": [
    {
     "name": "stdout",
     "output_type": "stream",
     "text": [
      "[LibLinear]LogisticRegression(C=9.9, class_weight=None, dual=False, fit_intercept=False,\n          intercept_scaling=1, max_iter=100, multi_class='ovr', n_jobs=1,\n          penalty='l1', random_state=None, solver='liblinear', tol=0.0001,\n          verbose=1, warm_start=False)\n[LibLinear]LogisticRegression(C=9.9, class_weight=None, dual=False, fit_intercept=False,\n          intercept_scaling=1, max_iter=100, multi_class='ovr', n_jobs=1,\n          penalty='l1', random_state=None, solver='liblinear', tol=0.0001,\n          verbose=1, warm_start=False)\n[LibLinear]LogisticRegression(C=9.9, class_weight=None, dual=False, fit_intercept=False,\n          intercept_scaling=1, max_iter=100, multi_class='ovr', n_jobs=1,\n          penalty='l1', random_state=None, solver='liblinear', tol=0.0001,\n          verbose=1, warm_start=False)\n[LibLinear]LogisticRegression(C=9.9, class_weight=None, dual=False, fit_intercept=False,\n          intercept_scaling=1, max_iter=100, multi_class='ovr', n_jobs=1,\n          penalty='l1', random_state=None, solver='liblinear', tol=0.0001,\n          verbose=1, warm_start=False)\n"
     ]
    }
   ],
   "source": [
    "from sklearn.model_selection import train_test_split\n",
    "from sklearn import linear_model\n",
    "from sklearn import metrics\n",
    "import numpy as np\n",
    "\n",
    "# X_train, X_test, y_train, y_test = train_test_split(X, Y, test_size=0.2, random_state=np.random.randint(0, 10000))\n",
    "# print 'X_train', X_train.shape, ', y_train', y_train.shape\n",
    "# print 'X_test', X_test.shape, ', y_test', y_test.shape\n",
    "\n",
    "normal_vs_I = linear_model.LogisticRegression(C=9.9, penalty=\"l1\", fit_intercept=False, verbose=1)\n",
    "normal_vs_II = linear_model.LogisticRegression(C=9.9, penalty=\"l1\", fit_intercept=False, verbose=1)\n",
    "normal_vs_III = linear_model.LogisticRegression(C=9.9, penalty=\"l1\", fit_intercept=False, verbose=1)\n",
    "normal_vs_IV = linear_model.LogisticRegression(C=9.9, penalty=\"l1\", fit_intercept=False, verbose=1)\n",
    "print normal_vs_I.fit(X_normal_vs_I, Y_normal_vs_I)\n",
    "print normal_vs_II.fit(X_normal_vs_II, Y_normal_vs_II)\n",
    "print normal_vs_III.fit(X_normal_vs_III, Y_normal_vs_III)\n",
    "print normal_vs_IV.fit(X_normal_vs_IV, Y_normal_vs_IV)\n",
    "\n",
    "# print \"\\nClassification_report on training\"\n",
    "# print metrics.classification_report(y_train, model.predict(X_train), \n",
    "#                                     labels=['normal', 'Stage I', 'Stage II', 'Stage III', 'Stage IV'], \n",
    "#                                     target_names=['normal', 'Stage I', 'Stage II', 'Stage III', 'Stage IV'])\n",
    "# print \"classification_report on testing\"\n",
    "# print metrics.classification_report(y_test, model.predict(X_test), \n",
    "#                                     labels=['normal', 'Stage I', 'Stage II', 'Stage III', 'Stage IV'], \n",
    "#                                     target_names=['normal', 'Stage I', 'Stage II', 'Stage III', 'Stage IV'])\n",
    "# print metrics.confusion_matrix(y_test, model.predict(X_test), \n",
    "#                                labels=['normal', 'Stage I', 'Stage II', 'Stage III', 'Stage IV'])"
   ]
  },
  {
   "cell_type": "code",
   "execution_count": 60,
   "metadata": {
    "collapsed": true
   },
   "outputs": [
    {
     "name": "stdout",
     "output_type": "stream",
     "text": [
      "\nnormal_vs_I\nNon-zero coef: 101\n    coefficient         mirna\n97     0.911670  hsa-mir-7108\n13     0.653433   hsa-mir-143\n42     0.613127  hsa-mir-378a\n58     0.517361  hsa-mir-4529\n14     0.507204   hsa-mir-144\n65     0.461374  hsa-mir-4732\n    coefficient         mirna\n90    -0.999950  hsa-mir-6787\n80    -0.973630   hsa-mir-628\n96    -0.937108   hsa-mir-7-1\n25    -0.740619    hsa-mir-21\n53    -0.732466  hsa-mir-4443\n82    -0.664495   hsa-mir-639\nPercentage of known NSCLC miRNAs: 0.190909090909\nset(['hsa-mir-378a', 'hsa-mir-199a-1', 'hsa-mir-21', 'hsa-mir-106a', 'hsa-mir-34a', 'hsa-mir-218-1', 'hsa-mir-146a', 'hsa-mir-29c', 'hsa-mir-182', 'hsa-mir-148a', 'hsa-mir-199b', 'hsa-mir-186', 'hsa-mir-143', 'hsa-mir-625', 'hsa-mir-1-1', 'hsa-mir-30a', 'hsa-mir-7-1', 'hsa-let-7a-1', 'hsa-let-7a-2', 'hsa-let-7a-3', 'hsa-mir-361'])\n\nnormal_vs_II\nNon-zero coef: 74\n    coefficient         mirna\n11     0.953946   hsa-mir-143\n68     0.627343  hsa-mir-7108\n26     0.470207  hsa-mir-378a\n40     0.451043  hsa-mir-4732\n66     0.379608  hsa-mir-6892\n2      0.293636  hsa-let-7f-1\n    coefficient           mirna\n29    -1.186610    hsa-mir-4443\n10    -1.005954     hsa-mir-141\n18    -0.919346      hsa-mir-21\n57    -0.776872     hsa-mir-628\n25    -0.727509  hsa-mir-3680-2\n4     -0.487426    hsa-mir-106a\nPercentage of known NSCLC miRNAs: 0.109090909091\nset(['hsa-mir-378a', 'hsa-mir-21', 'hsa-mir-106a', 'hsa-let-7a-1', 'hsa-mir-148a', 'hsa-mir-186', 'hsa-mir-34a', 'hsa-mir-625', 'hsa-mir-7-1', 'hsa-mir-361', 'hsa-let-7a-3', 'hsa-mir-143'])\n\nnormal_vs_III\nNon-zero coef: 81\n    coefficient         mirna\n14     0.591699   hsa-mir-143\n74     0.437827  hsa-mir-7704\n64     0.415284  hsa-mir-6717\n73     0.386202  hsa-mir-7108\n15     0.379429   hsa-mir-144\n51     0.360621  hsa-mir-4740\n    coefficient         mirna\n21    -1.228388    hsa-mir-21\n16    -1.199473   hsa-mir-182\n63    -0.742576   hsa-mir-639\n37    -0.736079  hsa-mir-4426\n17    -0.602018   hsa-mir-186\n4     -0.540546  hsa-mir-106a\nPercentage of known NSCLC miRNAs: 0.154545454545\nset(['hsa-mir-96', 'hsa-mir-378a', 'hsa-mir-708', 'hsa-mir-21', 'hsa-mir-106a', 'hsa-mir-218-1', 'hsa-let-7a-1', 'hsa-mir-424', 'hsa-mir-182', 'hsa-let-7a-3', 'hsa-mir-186', 'hsa-mir-143', 'hsa-mir-30a', 'hsa-mir-93', 'hsa-mir-1-2', 'hsa-mir-7-1', 'hsa-mir-34a'])\n\nnormal_vs_IV\nNon-zero coef: 54\n    coefficient         mirna\n4      0.869335   hsa-mir-143\n47     0.571206  hsa-mir-6892\n17     0.428098  hsa-mir-378a\n44     0.304101  hsa-mir-6788\n30     0.282634  hsa-mir-4732\n1      0.248113  hsa-let-7f-2\n    coefficient          mirna\n50    -0.654199   hsa-mir-7158\n2     -0.649182   hsa-mir-106a\n25    -0.643770   hsa-mir-4661\n26    -0.627533   hsa-mir-4668\n34    -0.527691  hsa-mir-548au\n38    -0.494048    hsa-mir-623\nPercentage of known NSCLC miRNAs: 0.0454545454545\nset(['hsa-mir-106a', 'hsa-mir-30a', 'hsa-mir-7-1', 'hsa-mir-378a', 'hsa-mir-143'])\n"
     ]
    }
   ],
   "source": [
    "from src.utils.validate_candidate_miRNAs import percent_candidate_in_validated as pciv\n",
    "results = []\n",
    "\n",
    "for model, name in zip([normal_vs_I, normal_vs_II, normal_vs_III, normal_vs_IV], ['normal_vs_I', 'normal_vs_II', 'normal_vs_III', 'normal_vs_IV']):\n",
    "    print '\\n', name \n",
    "    non_zero_idx = np.nonzero(model.coef_.ravel())[0]\n",
    "    print \"Non-zero coef:\", non_zero_idx.size\n",
    "    df = pandas.DataFrame({\"mirna\": mirna_list[non_zero_idx],\n",
    "                           \"coefficient\": model.coef_.ravel()[non_zero_idx]})\n",
    "    print df.sort_values(by='coefficient', ascending=False).head(6)\n",
    "    print df.sort_values(by='coefficient', ascending=True).head(6)\n",
    "    print \"Percentage of known NSCLC miRNAs:\", pciv(df['mirna'].tolist(), validated_miRNAs)\n",
    "    print set(df['mirna'].tolist()) & validated_miRNAs\n",
    "    results.append(df)"
   ]
  },
  {
   "cell_type": "code",
   "execution_count": 35,
   "metadata": {},
   "outputs": [
    {
     "data": {
      "text/plain": [
       "86"
      ]
     },
     "execution_count": 35,
     "metadata": {},
     "output_type": "execute_result"
    }
   ],
   "source": [
    ""
   ]
  },
  {
   "cell_type": "code",
   "execution_count": null,
   "metadata": {},
   "outputs": [],
   "source": [
    ""
   ]
  },
  {
   "cell_type": "code",
   "execution_count": null,
   "metadata": {},
   "outputs": [],
   "source": [
    ""
   ]
  }
 ],
 "metadata": {
  "kernelspec": {
   "display_name": "Python 2",
   "language": "python",
   "name": "python2"
  },
  "language_info": {
   "codemirror_mode": {
    "name": "ipython",
    "version": 2.0
   },
   "file_extension": ".py",
   "mimetype": "text/x-python",
   "name": "python",
   "nbconvert_exporter": "python",
   "pygments_lexer": "ipython2",
   "version": "2.7.6"
  }
 },
 "nbformat": 4,
 "nbformat_minor": 0
}