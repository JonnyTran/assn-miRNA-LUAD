{
 "cells": [
  {
   "cell_type": "code",
   "execution_count": 69,
   "metadata": {
    "collapsed": false
   },
   "outputs": [
    {
     "name": "stdout",
     "output_type": "stream",
     "text": [
      "mirna_tumor_df.shape (513, 1882)\nmirna_normal_df.shape (46, 1882)\nvalidated_miRNAs.shape (110, 1)\nnormal    46\nName: pathologic_stage, dtype: int64\nStage I      277\nStage II     121\nStage III     84\nStage IV      24\nName: pathologic_stage, dtype: int64\n"
     ]
    }
   ],
   "source": [
    "import os\n",
    "import pandas\n",
    "from definitions import ROOT_DIR\n",
    "\n",
    "mirna_tumor_df = pandas.read_csv(os.path.join(ROOT_DIR, \"data/processed/miRNA/tumor_miRNA.csv\"))\n",
    "mirna_normal_df = pandas.read_csv(os.path.join(ROOT_DIR, \"data/processed/miRNA/normal_miRNA.csv\"))\n",
    "clinical_df = pandas.read_csv(os.path.join(ROOT_DIR, \"data/processed/clinical/clinical.csv\"))\n",
    "validated_miRNAs = pandas.read_csv(os.path.join(ROOT_DIR, 'data/external/validated_nsclc_miRNAs.csv'))\n",
    "\n",
    "print \"mirna_tumor_df.shape\", mirna_tumor_df.shape\n",
    "print \"mirna_normal_df.shape\", mirna_normal_df.shape\n",
    "print 'validated_miRNAs.shape', validated_miRNAs.shape\n",
    "\n",
    "X_normal = pandas.merge(clinical_df[['patient_barcode', 'pathologic_stage']], mirna_normal_df, on='patient_barcode')\n",
    "X_normal['pathologic_stage'] = 'normal'\n",
    "X_tumor = pandas.merge(clinical_df[['patient_barcode', 'pathologic_stage']], mirna_tumor_df, on='patient_barcode')\n",
    "\n",
    "# Map stage IA to stage I, IB to I, etc. ...\n",
    "pathologic_stage_map = {'Stage IA': 'Stage I', 'Stage IB': 'Stage I', \n",
    "                        'Stage IIA': 'Stage II', 'Stage IIB': 'Stage II', \n",
    "                        'Stage IIIA': 'Stage III', 'Stage IIIB': 'Stage III'}\n",
    "\n",
    "X_tumor.replace({'pathologic_stage': pathologic_stage_map}, inplace=True)\n",
    "\n",
    "print X_normal['pathologic_stage'].value_counts().sort_index(axis=0)\n",
    "print X_tumor['pathologic_stage'].value_counts().sort_index(axis=0)"
   ]
  },
  {
   "cell_type": "markdown",
   "metadata": {},
   "source": [
    "## We now create data matrixes from tumor vs normal samples"
   ]
  },
  {
   "cell_type": "code",
   "execution_count": 70,
   "metadata": {},
   "outputs": [
    {
     "name": "stdout",
     "output_type": "stream",
     "text": [
      "miRNA null values 0\nY null values 0\nX.shape (552, 1881)\nY.shape (552,)\n"
     ]
    }
   ],
   "source": [
    "from sklearn import preprocessing\n",
    "\n",
    "X = pandas.concat([X_normal, X_tumor]).dropna(subset=['pathologic_stage'])\n",
    "Y = X['pathologic_stage']\n",
    "\n",
    "X_normal_vs_I = X[X['pathologic_stage'].isin(['normal', 'Stage I'])]\n",
    "X_normal_vs_II = X[X['pathologic_stage'].isin(['normal', 'Stage II'])]\n",
    "X_normal_vs_III = X[X['pathologic_stage'].isin(['normal', 'Stage III'])]\n",
    "X_normal_vs_IV = X[X['pathologic_stage'].isin(['normal', 'Stage IV'])]\n",
    "\n",
    "Y_normal_vs_I = X_normal_vs_I['pathologic_stage']\n",
    "Y_normal_vs_II = X_normal_vs_II['pathologic_stage']\n",
    "Y_normal_vs_III = X_normal_vs_III['pathologic_stage']\n",
    "Y_normal_vs_IV = X_normal_vs_IV['pathologic_stage']\n",
    "\n",
    "X_normal_vs_I.__delitem__('patient_barcode')\n",
    "X_normal_vs_I.__delitem__('pathologic_stage')\n",
    "X_normal_vs_II.__delitem__('patient_barcode')\n",
    "X_normal_vs_II.__delitem__('pathologic_stage')\n",
    "X_normal_vs_III.__delitem__('patient_barcode')\n",
    "X_normal_vs_III.__delitem__('pathologic_stage')\n",
    "X_normal_vs_IV.__delitem__('patient_barcode')\n",
    "X_normal_vs_IV.__delitem__('pathologic_stage')\n",
    "\n",
    "X.__delitem__('patient_barcode')\n",
    "X.__delitem__('pathologic_stage')\n",
    "\n",
    "print 'miRNA null values', X.isnull().sum().sum()\n",
    "print 'Y null values', Y.isnull().sum()\n",
    "\n",
    "print \"X.shape\", X.shape\n",
    "print \"Y.shape\", Y.shape\n",
    "\n",
    "mirna_list = X.columns.values\n",
    "validated_miRNAs = set(validated_miRNAs['miRNA'].tolist())\n",
    "\n",
    "# Scale miRNA expressions to unit variance\n",
    "X_scaler = preprocessing.StandardScaler(with_mean=False).fit(X)\n",
    "X_normal_vs_I = X_scaler.transform(X_normal_vs_I)\n",
    "X_normal_vs_II = X_scaler.transform(X_normal_vs_II)\n",
    "X_normal_vs_III = X_scaler.transform(X_normal_vs_III)\n",
    "X_normal_vs_IV = X_scaler.transform(X_normal_vs_IV)"
   ]
  },
  {
   "cell_type": "code",
   "execution_count": 71,
   "metadata": {
    "collapsed": false
   },
   "outputs": [
    {
     "name": "stdout",
     "output_type": "stream",
     "text": [
      "mirna_list 1881\nvalidated_miRNAs 110\nnumber of validated miRNAs in list of all miRNAs 109\n"
     ]
    }
   ],
   "source": [
    "print \"mirna_list\", len(mirna_list)\n",
    "print 'validated_miRNAs', len(validated_miRNAs)\n",
    "\n",
    "print \"number of validated miRNAs in list of all miRNAs\", len(validated_miRNAs & set(mirna_list))"
   ]
  },
  {
   "cell_type": "markdown",
   "metadata": {},
   "source": [
    "## Perform classification"
   ]
  },
  {
   "cell_type": "code",
   "execution_count": 72,
   "metadata": {},
   "outputs": [
    {
     "name": "stdout",
     "output_type": "stream",
     "text": [
      "[LibLinear][LibLinear][LibLinear][LibLinear][LibLinear][LibLinear][LibLinear][LibLinear][LibLinear][LibLinear][LibLinear][LibLinear][LibLinear][LibLinear][LibLinear][LibLinear][LibLinear][LibLinear][LibLinear][LibLinear][LibLinear][LibLinear][LibLinear][LibLinear][LibLinear][LibLinear][LibLinear]"
     ]
    },
    {
     "name": "stdout",
     "output_type": "stream",
     "text": [
      "[LibLinear][LibLinear][LibLinear]LogisticRegressionCV(Cs=10, class_weight=None, cv=None, dual=False,\n           fit_intercept=False, intercept_scaling=1.0, max_iter=100,\n           multi_class='ovr', n_jobs=1, penalty='l1', random_state=None,\n           refit=True, scoring=None, solver='liblinear', tol=0.0001,\n           verbose=1)\n[LibLinear]LogisticRegression(C=9.9, class_weight=None, dual=False, fit_intercept=False,\n          intercept_scaling=1, max_iter=100, multi_class='ovr', n_jobs=1,\n          penalty='l1', random_state=None, solver='liblinear', tol=0.0001,\n          verbose=1, warm_start=False)\n[LibLinear]LogisticRegression(C=9.9, class_weight=None, dual=False, fit_intercept=False,\n          intercept_scaling=1, max_iter=100, multi_class='ovr', n_jobs=1,\n          penalty='l1', random_state=None, solver='liblinear', tol=0.0001,\n          verbose=1, warm_start=False)\n[LibLinear]LogisticRegression(C=9.9, class_weight=None, dual=False, fit_intercept=False,\n          intercept_scaling=1, max_iter=100, multi_class='ovr', n_jobs=1,\n          penalty='l1', random_state=None, solver='liblinear', tol=0.0001,\n          verbose=1, warm_start=False)\n"
     ]
    },
    {
     "name": "stderr",
     "output_type": "stream",
     "text": [
      "[Parallel(n_jobs=1)]: Done   3 out of   3 | elapsed:    0.3s finished\n"
     ]
    }
   ],
   "source": [
    "from sklearn.model_selection import train_test_split\n",
    "from sklearn import linear_model\n",
    "from sklearn import metrics\n",
    "import numpy as np\n",
    "\n",
    "# X_train, X_test, y_train, y_test = train_test_split(X, Y, test_size=0.2, random_state=np.random.randint(0, 10000))\n",
    "# print 'X_train', X_train.shape, ', y_train', y_train.shape\n",
    "# print 'X_test', X_test.shape, ', y_test', y_test.shape\n",
    "\n",
    "normal_vs_I = linear_model.LogisticRegressionCV(Cs=10, penalty=\"l1\", solver='liblinear', fit_intercept=False, verbose=1)\n",
    "normal_vs_II = linear_model.LogisticRegression(C=9.9, penalty=\"l1\", fit_intercept=False, verbose=1)\n",
    "normal_vs_III = linear_model.LogisticRegression(C=9.9, penalty=\"l1\", fit_intercept=False, verbose=1)\n",
    "normal_vs_IV = linear_model.LogisticRegression(C=9.9, penalty=\"l1\", fit_intercept=False, verbose=1)\n",
    "print normal_vs_I.fit(X_normal_vs_I, Y_normal_vs_I)\n",
    "print normal_vs_II.fit(X_normal_vs_II, Y_normal_vs_II)\n",
    "print normal_vs_III.fit(X_normal_vs_III, Y_normal_vs_III)\n",
    "print normal_vs_IV.fit(X_normal_vs_IV, Y_normal_vs_IV)\n",
    "\n",
    "# print \"\\nClassification_report on training\"\n",
    "# print metrics.classification_report(y_train, model.predict(X_train), \n",
    "#                                     labels=['normal', 'Stage I', 'Stage II', 'Stage III', 'Stage IV'], \n",
    "#                                     target_names=['normal', 'Stage I', 'Stage II', 'Stage III', 'Stage IV'])\n",
    "# print \"classification_report on testing\"\n",
    "# print metrics.classification_report(y_test, model.predict(X_test), \n",
    "#                                     labels=['normal', 'Stage I', 'Stage II', 'Stage III', 'Stage IV'], \n",
    "#                                     target_names=['normal', 'Stage I', 'Stage II', 'Stage III', 'Stage IV'])\n",
    "# print metrics.confusion_matrix(y_test, model.predict(X_test), \n",
    "#                                labels=['normal', 'Stage I', 'Stage II', 'Stage III', 'Stage IV'])"
   ]
  },
  {
   "cell_type": "code",
   "execution_count": 73,
   "metadata": {
    "collapsed": true
   },
   "outputs": [
    {
     "name": "stdout",
     "output_type": "stream",
     "text": [
      "\nnormal_vs_I\nNon-zero coef: 129\n     coefficient          mirna\n125     0.922984   hsa-mir-7108\n79      0.649943   hsa-mir-4529\n92      0.495573  hsa-mir-486-1\n17      0.471296    hsa-mir-143\n115     0.450026   hsa-mir-6717\n55      0.434903   hsa-mir-378a\n     coefficient         mirna\n107    -1.118325   hsa-mir-628\n118    -1.065591  hsa-mir-6787\n124    -0.855748   hsa-mir-7-1\n20     -0.721411  hsa-mir-148a\n109    -0.629126   hsa-mir-639\n22     -0.602484   hsa-mir-182\nPercentage of known NSCLC miRNAs: 0.2\nset(['hsa-mir-21', 'hsa-mir-218-2', 'hsa-mir-218-1', 'hsa-mir-148a', 'hsa-mir-143', 'hsa-mir-200b', 'hsa-mir-378a', 'hsa-mir-182', 'hsa-mir-186', 'hsa-mir-34a', 'hsa-mir-1-1', 'hsa-mir-30a', 'hsa-mir-29c', 'hsa-mir-199b', 'hsa-mir-199a-1', 'hsa-mir-625', 'hsa-mir-199a-2', 'hsa-mir-7-1', 'hsa-mir-361', 'hsa-mir-106a', 'hsa-mir-146a', 'hsa-let-7a-3'])\n\nnormal_vs_II\nNon-zero coef: 64\n    coefficient         mirna\n10     1.138779   hsa-mir-143\n58     0.717100  hsa-mir-7108\n22     0.610784  hsa-mir-378a\n35     0.551603  hsa-mir-4732\n0      0.435657  hsa-let-7f-1\n56     0.282152  hsa-mir-6892\n    coefficient           mirna\n25    -1.229943    hsa-mir-4443\n15    -1.063870      hsa-mir-21\n9     -1.029090     hsa-mir-141\n49    -0.794806     hsa-mir-628\n21    -0.729091  hsa-mir-3680-2\n2     -0.572198    hsa-mir-106a\nPercentage of known NSCLC miRNAs: 0.0909090909091\nset(['hsa-mir-378a', 'hsa-mir-21', 'hsa-mir-106a', 'hsa-mir-148a', 'hsa-mir-186', 'hsa-mir-34a', 'hsa-mir-625', 'hsa-mir-1254-1', 'hsa-mir-7-1', 'hsa-mir-143'])\n\nnormal_vs_III\nNon-zero coef: 87\n    coefficient         mirna\n12     0.657353   hsa-mir-143\n68     0.438652  hsa-mir-6717\n80     0.370142  hsa-mir-7704\n32     0.354366  hsa-mir-378a\n53     0.313156  hsa-mir-4740\n13     0.308403   hsa-mir-144\n    coefficient         mirna\n14    -0.991862   hsa-mir-182\n20    -0.857187    hsa-mir-21\n39    -0.746676  hsa-mir-4426\n67    -0.568156   hsa-mir-639\n64    -0.510916   hsa-mir-628\n3     -0.426260  hsa-mir-106a\nPercentage of known NSCLC miRNAs: 0.118181818182\nset(['hsa-mir-378a', 'hsa-mir-708', 'hsa-mir-21', 'hsa-mir-106a', 'hsa-mir-34a', 'hsa-mir-424', 'hsa-mir-182', 'hsa-mir-186', 'hsa-mir-143', 'hsa-mir-30a', 'hsa-mir-7-1', 'hsa-let-7a-3', 'hsa-mir-96'])\n\nnormal_vs_IV\nNon-zero coef: 46\n    coefficient         mirna\n3      1.550935   hsa-mir-143\n41     0.768205  hsa-mir-6892\n15     0.449770  hsa-mir-378a\n39     0.317161  hsa-mir-6788\n42     0.290389  hsa-mir-7108\n21     0.195755  hsa-mir-4528\n    coefficient         mirna\n1     -1.045322  hsa-mir-106a\n23    -0.769600  hsa-mir-4661\n43    -0.716889  hsa-mir-7158\n24    -0.611714  hsa-mir-4668\n29    -0.608845  hsa-mir-548t\n33    -0.469471   hsa-mir-623\nPercentage of known NSCLC miRNAs: 0.0363636363636\nset(['hsa-mir-106a', 'hsa-mir-378a', 'hsa-mir-143', 'hsa-mir-34b'])\n"
     ]
    }
   ],
   "source": [
    "from src.utils.validate_candidate_miRNAs import percent_candidate_in_validated as pciv\n",
    "results = []\n",
    "\n",
    "for model, name in zip([normal_vs_I, normal_vs_II, normal_vs_III, normal_vs_IV], ['normal_vs_I', 'normal_vs_II', 'normal_vs_III', 'normal_vs_IV']):\n",
    "    print '\\n', name \n",
    "    non_zero_idx = np.nonzero(model.coef_.ravel())[0]\n",
    "    print \"Non-zero coef:\", non_zero_idx.size\n",
    "    df = pandas.DataFrame({\"mirna\": mirna_list[non_zero_idx],\n",
    "                           \"coefficient\": model.coef_.ravel()[non_zero_idx]})\n",
    "    print df.sort_values(by='coefficient', ascending=False).head(6)\n",
    "    print df.sort_values(by='coefficient', ascending=True).head(6)\n",
    "    print \"Percentage of known NSCLC miRNAs:\", pciv(df['mirna'].tolist(), validated_miRNAs)\n",
    "    print set(df['mirna'].tolist()) & validated_miRNAs\n",
    "    results.append(df)"
   ]
  },
  {
   "cell_type": "code",
   "execution_count": 35,
   "metadata": {},
   "outputs": [
    {
     "data": {
      "text/plain": [
       "86"
      ]
     },
     "execution_count": 35,
     "metadata": {},
     "output_type": "execute_result"
    }
   ],
   "source": [
    ""
   ]
  },
  {
   "cell_type": "code",
   "execution_count": null,
   "metadata": {},
   "outputs": [],
   "source": [
    ""
   ]
  },
  {
   "cell_type": "code",
   "execution_count": null,
   "metadata": {},
   "outputs": [],
   "source": [
    ""
   ]
  }
 ],
 "metadata": {
  "kernelspec": {
   "display_name": "Python 2",
   "language": "python",
   "name": "python2"
  },
  "language_info": {
   "codemirror_mode": {
    "name": "ipython",
    "version": 2.0
   },
   "file_extension": ".py",
   "mimetype": "text/x-python",
   "name": "python",
   "nbconvert_exporter": "python",
   "pygments_lexer": "ipython2",
   "version": "2.7.6"
  }
 },
 "nbformat": 4,
 "nbformat_minor": 0
}