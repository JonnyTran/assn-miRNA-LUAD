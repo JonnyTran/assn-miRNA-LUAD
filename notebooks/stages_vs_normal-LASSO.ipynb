{
 "cells": [
  {
   "cell_type": "code",
   "execution_count": 16,
   "metadata": {
    "collapsed": true
   },
   "outputs": [
    {
     "name": "stdout",
     "output_type": "stream",
     "text": [
      "mirna_tumor_df.shape (513, 1882)\nmirna_normal_df.shape (46, 1882)\nnormal    46\nName: pathologic_stage, dtype: int64\nStage I      277\nStage II     121\nStage III     84\nStage IV      24\nName: pathologic_stage, dtype: int64\n"
     ]
    }
   ],
   "source": [
    "import os\n",
    "import pandas\n",
    "\n",
    "mirna_src_dir = os.getcwd() + \"/assn-mirna-luad/data/processed/miRNA/\"\n",
    "clinical_src_dir = os.getcwd() + \"/assn-mirna-luad/data/processed/clinical/\"\n",
    "\n",
    "mirna_tumor_df = pandas.read_csv(mirna_src_dir+'tumor_miRNA.csv')\n",
    "mirna_normal_df = pandas.read_csv(mirna_src_dir+'normal_miRNA.csv')\n",
    "clinical_df = pandas.read_csv(clinical_src_dir+'clinical.csv')\n",
    "\n",
    "print \"mirna_tumor_df.shape\", mirna_tumor_df.shape\n",
    "print \"mirna_normal_df.shape\", mirna_normal_df.shape\n",
    "\n",
    "X_normal = pandas.merge(clinical_df[['patient_barcode', 'pathologic_stage']], mirna_normal_df, on='patient_barcode')\n",
    "X_normal['pathologic_stage'] = 'normal'\n",
    "X_tumor = pandas.merge(clinical_df[['patient_barcode', 'pathologic_stage']], mirna_tumor_df, on='patient_barcode')\n",
    "\n",
    "pathologic_stage_map = {'Stage IA': 'Stage I', 'Stage IB': 'Stage I', \n",
    "                        'Stage IIA': 'Stage II', 'Stage IIB': 'Stage II', \n",
    "                        'Stage IIIA': 'Stage III', 'Stage IIIB': 'Stage III'}\n",
    "\n",
    "X_tumor.replace({'pathologic_stage': pathologic_stage_map}, inplace=True)\n",
    "\n",
    "print X_normal['pathologic_stage'].value_counts().sort_index(axis=0)\n",
    "print X_tumor['pathologic_stage'].value_counts().sort_index(axis=0)"
   ]
  },
  {
   "cell_type": "markdown",
   "metadata": {},
   "source": [
    "## We now create data matrixes from tumor vs normal samples"
   ]
  },
  {
   "cell_type": "code",
   "execution_count": 56,
   "metadata": {},
   "outputs": [
    {
     "name": "stdout",
     "output_type": "stream",
     "text": [
      "miRNA null values 0\nY null values 0\nX.shape (552, 1881)\nY.shape (552,)\n['hsa-let-7a-1' 'hsa-let-7a-2' 'hsa-let-7a-3' ..., 'hsa-mir-98'\n 'hsa-mir-99a' 'hsa-mir-99b']\n"
     ]
    }
   ],
   "source": [
    "from sklearn import preprocessing\n",
    "\n",
    "X = pandas.concat([X_normal, X_tumor]).dropna(subset=['pathologic_stage'])\n",
    "Y = X['pathologic_stage']\n",
    "\n",
    "X_normal_vs_I = X[X['pathologic_stage'].isin(['normal', 'Stage I'])]\n",
    "X_normal_vs_II = X[X['pathologic_stage'].isin(['normal', 'Stage II'])]\n",
    "X_normal_vs_III = X[X['pathologic_stage'].isin(['normal', 'Stage III'])]\n",
    "X_normal_vs_IV = X[X['pathologic_stage'].isin(['normal', 'Stage IV'])]\n",
    "\n",
    "Y_normal_vs_I = X_normal_vs_I['pathologic_stage']\n",
    "Y_normal_vs_II = X_normal_vs_II['pathologic_stage']\n",
    "Y_normal_vs_III = X_normal_vs_III['pathologic_stage']\n",
    "Y_normal_vs_IV = X_normal_vs_IV['pathologic_stage']\n",
    "\n",
    "X_normal_vs_I.__delitem__('patient_barcode')\n",
    "X_normal_vs_I.__delitem__('pathologic_stage')\n",
    "X_normal_vs_II.__delitem__('patient_barcode')\n",
    "X_normal_vs_II.__delitem__('pathologic_stage')\n",
    "X_normal_vs_III.__delitem__('patient_barcode')\n",
    "X_normal_vs_III.__delitem__('pathologic_stage')\n",
    "X_normal_vs_IV.__delitem__('patient_barcode')\n",
    "X_normal_vs_IV.__delitem__('pathologic_stage')\n",
    "\n",
    "X.__delitem__('patient_barcode')\n",
    "X.__delitem__('pathologic_stage')\n",
    "\n",
    "print 'miRNA null values', X.isnull().sum().sum()\n",
    "print 'Y null values', Y.isnull().sum()\n",
    "\n",
    "print \"X.shape\", X.shape\n",
    "print \"Y.shape\", Y.shape\n",
    "\n",
    "mirna_list = X.columns.values\n",
    "print mirna_list\n",
    "\n",
    "X_scaler = preprocessing.StandardScaler(with_mean=False).fit(X)\n",
    "X_normal_vs_I = X_scaler.transform(X_normal_vs_I)\n",
    "X_normal_vs_II = X_scaler.transform(X_normal_vs_II)\n",
    "X_normal_vs_III = X_scaler.transform(X_normal_vs_III)\n",
    "X_normal_vs_IV = X_scaler.transform(X_normal_vs_IV)"
   ]
  },
  {
   "cell_type": "code",
   "execution_count": 62,
   "metadata": {},
   "outputs": [
    {
     "data": {
      "text/plain": [
       "(70,)"
      ]
     },
     "execution_count": 62,
     "metadata": {},
     "output_type": "execute_result"
    }
   ],
   "source": [
    "X_normal_vs_IV.shape\n",
    "Y_normal_vs_IV.shape"
   ]
  },
  {
   "cell_type": "markdown",
   "metadata": {},
   "source": [
    "## Perform classification"
   ]
  },
  {
   "cell_type": "code",
   "execution_count": 63,
   "metadata": {},
   "outputs": [
    {
     "name": "stdout",
     "output_type": "stream",
     "text": [
      "[LibLinear]LogisticRegression(C=0.5, class_weight=None, dual=False, fit_intercept=False,\n          intercept_scaling=1, max_iter=100, multi_class='ovr', n_jobs=1,\n          penalty='l1', random_state=None, solver='liblinear', tol=0.0001,\n          verbose=1, warm_start=False)\n[LibLinear]LogisticRegression(C=0.5, class_weight=None, dual=False, fit_intercept=False,\n          intercept_scaling=1, max_iter=100, multi_class='ovr', n_jobs=1,\n          penalty='l1', random_state=None, solver='liblinear', tol=0.0001,\n          verbose=1, warm_start=False)\n[LibLinear]LogisticRegression(C=0.5, class_weight=None, dual=False, fit_intercept=False,\n          intercept_scaling=1, max_iter=100, multi_class='ovr', n_jobs=1,\n          penalty='l1', random_state=None, solver='liblinear', tol=0.0001,\n          verbose=1, warm_start=False)\n[LibLinear]LogisticRegression(C=0.5, class_weight=None, dual=False, fit_intercept=False,\n          intercept_scaling=1, max_iter=100, multi_class='ovr', n_jobs=1,\n          penalty='l1', random_state=None, solver='liblinear', tol=0.0001,\n          verbose=1, warm_start=False)\n"
     ]
    }
   ],
   "source": [
    "from sklearn.model_selection import train_test_split\n",
    "from sklearn import linear_model\n",
    "from sklearn import metrics\n",
    "import numpy as np\n",
    "\n",
    "# X_train, X_test, y_train, y_test = train_test_split(X, Y, test_size=0.2, random_state=np.random.randint(0, 10000))\n",
    "# print 'X_train', X_train.shape, ', y_train', y_train.shape\n",
    "# print 'X_test', X_test.shape, ', y_test', y_test.shape\n",
    "\n",
    "normal_vs_I = linear_model.LogisticRegression(C=0.5, penalty=\"l1\", fit_intercept=False, verbose=1)\n",
    "normal_vs_II = linear_model.LogisticRegression(C=0.5, penalty=\"l1\", fit_intercept=False, verbose=1)\n",
    "normal_vs_III = linear_model.LogisticRegression(C=0.5, penalty=\"l1\", fit_intercept=False, verbose=1)\n",
    "normal_vs_IV = linear_model.LogisticRegression(C=0.5, penalty=\"l1\", fit_intercept=False, verbose=1)\n",
    "print normal_vs_I.fit(X_normal_vs_I, Y_normal_vs_I)\n",
    "print normal_vs_II.fit(X_normal_vs_II, Y_normal_vs_II)\n",
    "print normal_vs_III.fit(X_normal_vs_III, Y_normal_vs_III)\n",
    "print normal_vs_IV.fit(X_normal_vs_IV, Y_normal_vs_IV)\n",
    "\n",
    "# print \"\\nClassification_report on training\"\n",
    "# print metrics.classification_report(y_train, model.predict(X_train), \n",
    "#                                     labels=['normal', 'Stage I', 'Stage II', 'Stage III', 'Stage IV'], \n",
    "#                                     target_names=['normal', 'Stage I', 'Stage II', 'Stage III', 'Stage IV'])\n",
    "# print \"classification_report on testing\"\n",
    "# print metrics.classification_report(y_test, model.predict(X_test), \n",
    "#                                     labels=['normal', 'Stage I', 'Stage II', 'Stage III', 'Stage IV'], \n",
    "#                                     target_names=['normal', 'Stage I', 'Stage II', 'Stage III', 'Stage IV'])\n",
    "# print metrics.confusion_matrix(y_test, model.predict(X_test), \n",
    "#                                labels=['normal', 'Stage I', 'Stage II', 'Stage III', 'Stage IV'])"
   ]
  },
  {
   "cell_type": "code",
   "execution_count": 69,
   "metadata": {},
   "outputs": [
    {
     "name": "stdout",
     "output_type": "stream",
     "text": [
      "\nNon-zero coef: 37\n    coefficient         mirna\n3      0.836722   hsa-mir-143\n35     0.450923  hsa-mir-7108\n12     0.348345  hsa-mir-378a\n23     0.292981  hsa-mir-4732\n19     0.282872  hsa-mir-4529\n4      0.251154   hsa-mir-144\n    coefficient         mirna\n8     -1.503801    hsa-mir-21\n34    -0.900268   hsa-mir-7-1\n29    -0.588898   hsa-mir-628\n6     -0.486738   hsa-mir-186\n17    -0.323114  hsa-mir-4443\n10    -0.298164   hsa-mir-34a\n\nNon-zero coef: 34\n    coefficient         mirna\n7      1.144156   hsa-mir-143\n18     0.489228  hsa-mir-4732\n13     0.239837  hsa-mir-378a\n30     0.227972  hsa-mir-7108\n0      0.110596  hsa-let-7f-1\n1      0.076368  hsa-let-7f-2\n    coefficient           mirna\n9     -1.124908      hsa-mir-21\n6     -0.622543     hsa-mir-141\n15    -0.538955    hsa-mir-4443\n8     -0.525668     hsa-mir-186\n24    -0.415845     hsa-mir-628\n12    -0.188077  hsa-mir-3680-2\n\nNon-zero coef: 38\n    coefficient         mirna\n3      1.128488   hsa-mir-143\n29     0.485609  hsa-mir-4732\n17     0.188296  hsa-mir-378a\n34     0.178911  hsa-mir-6717\n36     0.147933  hsa-mir-7108\n37     0.110830  hsa-mir-7704\n    coefficient         mirna\n8     -1.369567    hsa-mir-21\n6     -0.732633   hsa-mir-186\n5     -0.391217   hsa-mir-182\n22    -0.281510  hsa-mir-4426\n23    -0.216640  hsa-mir-4443\n0     -0.213580  hsa-mir-106a\n\nNon-zero coef: 28\n    coefficient         mirna\n2      0.961539   hsa-mir-143\n26     0.294802  hsa-mir-6892\n10     0.168905  hsa-mir-378a\n25     0.166886  hsa-mir-6788\n17     0.145417  hsa-mir-4732\n11     0.049615  hsa-mir-378i\n    coefficient         mirna\n0     -0.429622  hsa-mir-106a\n16    -0.423162  hsa-mir-4661\n19    -0.422638  hsa-mir-548t\n27    -0.388025   hsa-mir-7-1\n15    -0.296766   hsa-mir-454\n22    -0.192785   hsa-mir-623\n"
     ]
    },
    {
     "name": "stderr",
     "output_type": "stream",
     "text": [
      "/opt/anaconda/lib/python2.7/site-packages/ipykernel/__main__.py:8: FutureWarning: sort(columns=....) is deprecated, use sort_values(by=.....)\n/opt/anaconda/lib/python2.7/site-packages/ipykernel/__main__.py:9: FutureWarning: sort(columns=....) is deprecated, use sort_values(by=.....)\n"
     ]
    }
   ],
   "source": [
    "dfs=[]\n",
    "\n",
    "for model in [normal_vs_I, normal_vs_II, normal_vs_III, normal_vs_IV]:\n",
    "    non_zero_idx = np.nonzero(model.coef_.ravel())[0]\n",
    "    print \"\\nNon-zero coef:\", non_zero_idx.size\n",
    "    df = pandas.DataFrame({\"mirna\": mirna_list[non_zero_idx],\n",
    "                           \"coefficient\": model.coef_.ravel()[non_zero_idx]})\n",
    "    print df.sort(columns='coefficient', ascending=False).head(6)\n",
    "    print df.sort(columns='coefficient', ascending=True).head(6)\n",
    "    dfs.append(df)"
   ]
  },
  {
   "cell_type": "code",
   "execution_count": 83,
   "metadata": {},
   "outputs": [
    {
     "data": {
      "text/plain": [
       "89"
      ]
     },
     "execution_count": 83,
     "metadata": {},
     "output_type": "execute_result"
    }
   ],
   "source": [
    "selected_miRs = sorted(set(dfs[0]['mirna'].tolist() + dfs[1]['mirna'].tolist() + dfs[2]['mirna'].tolist() + dfs[3]['mirna'].tolist()))\n",
    "len(selected_miRs)"
   ]
  },
  {
   "cell_type": "code",
   "execution_count": null,
   "metadata": {},
   "outputs": [],
   "source": [
    ""
   ]
  },
  {
   "cell_type": "code",
   "execution_count": null,
   "outputs": [],
   "source": [
    ""
   ]
  }
 ],
 "metadata": {
  "kernelspec": {
   "display_name": "Python 2",
   "language": "python",
   "name": "python2"
  },
  "language_info": {
   "codemirror_mode": {
    "name": "ipython",
    "version": 2.0
   },
   "file_extension": ".py",
   "mimetype": "text/x-python",
   "name": "python",
   "nbconvert_exporter": "python",
   "pygments_lexer": "ipython2",
   "version": "2.7.6"
  }
 },
 "nbformat": 4,
 "nbformat_minor": 0
}