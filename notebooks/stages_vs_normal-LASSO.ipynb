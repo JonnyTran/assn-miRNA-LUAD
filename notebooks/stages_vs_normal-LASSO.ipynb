{
 "cells": [
  {
   "cell_type": "code",
   "execution_count": 1,
   "metadata": {
    "collapsed": false
   },
   "outputs": [
    {
     "name": "stdout",
     "output_type": "stream",
     "text": [
      "mirna_tumor_df.shape (513, 1882)\nmirna_normal_df.shape (46, 1882)\nvalidated_miRNAs.shape (110, 1)\nnormal    46\nName: pathologic_stage, dtype: int64\nStage I      277\nStage II     121\nStage III     84\nStage IV      24\nName: pathologic_stage, dtype: int64\n"
     ]
    }
   ],
   "source": [
    "import os\n",
    "import pandas\n",
    "from definitions import ROOT_DIR\n",
    "\n",
    "mirna_tumor_df = pandas.read_csv(os.path.join(ROOT_DIR, \"data/processed/miRNA/tumor_miRNA.csv\"))\n",
    "mirna_normal_df = pandas.read_csv(os.path.join(ROOT_DIR, \"data/processed/miRNA/normal_miRNA.csv\"))\n",
    "clinical_df = pandas.read_csv(os.path.join(ROOT_DIR, \"data/processed/clinical/clinical.csv\"))\n",
    "validated_miRNAs = pandas.read_csv(os.path.join(ROOT_DIR, 'data/external/validated_nsclc_miRNAs.csv'))\n",
    "\n",
    "print \"mirna_tumor_df.shape\", mirna_tumor_df.shape\n",
    "print \"mirna_normal_df.shape\", mirna_normal_df.shape\n",
    "print 'validated_miRNAs.shape', validated_miRNAs.shape\n",
    "\n",
    "X_normal = pandas.merge(clinical_df[['patient_barcode', 'pathologic_stage']], mirna_normal_df, on='patient_barcode')\n",
    "X_normal['pathologic_stage'] = 'normal'\n",
    "X_tumor = pandas.merge(clinical_df[['patient_barcode', 'pathologic_stage']], mirna_tumor_df, on='patient_barcode')\n",
    "\n",
    "# Map stage IA to stage I, IB to I, etc. ...\n",
    "pathologic_stage_map = {'Stage IA': 'Stage I', 'Stage IB': 'Stage I', \n",
    "                        'Stage IIA': 'Stage II', 'Stage IIB': 'Stage II', \n",
    "                        'Stage IIIA': 'Stage III', 'Stage IIIB': 'Stage III'}\n",
    "\n",
    "X_tumor.replace({'pathologic_stage': pathologic_stage_map}, inplace=True)\n",
    "\n",
    "print X_normal['pathologic_stage'].value_counts().sort_index(axis=0)\n",
    "print X_tumor['pathologic_stage'].value_counts().sort_index(axis=0)"
   ]
  },
  {
   "cell_type": "markdown",
   "metadata": {},
   "source": [
    "## We now create data matrixes from tumor vs normal samples"
   ]
  },
  {
   "cell_type": "code",
   "execution_count": 2,
   "metadata": {},
   "outputs": [
    {
     "name": "stdout",
     "output_type": "stream",
     "text": [
      "miRNA null values 0\nY null values 0\nX.shape (552, 1881)\nY.shape (552,)\n"
     ]
    }
   ],
   "source": [
    "from sklearn import preprocessing\n",
    "\n",
    "X = pandas.concat([X_normal, X_tumor]).dropna(subset=['pathologic_stage'])\n",
    "Y = X['pathologic_stage']\n",
    "\n",
    "X_normal_vs_I = X[X['pathologic_stage'].isin(['normal', 'Stage I'])]\n",
    "X_normal_vs_II = X[X['pathologic_stage'].isin(['normal', 'Stage II'])]\n",
    "X_normal_vs_III = X[X['pathologic_stage'].isin(['normal', 'Stage III'])]\n",
    "X_normal_vs_IV = X[X['pathologic_stage'].isin(['normal', 'Stage IV'])]\n",
    "\n",
    "Y_normal_vs_I = X_normal_vs_I['pathologic_stage']\n",
    "Y_normal_vs_II = X_normal_vs_II['pathologic_stage']\n",
    "Y_normal_vs_III = X_normal_vs_III['pathologic_stage']\n",
    "Y_normal_vs_IV = X_normal_vs_IV['pathologic_stage']\n",
    "\n",
    "X_normal_vs_I.__delitem__('patient_barcode')\n",
    "X_normal_vs_I.__delitem__('pathologic_stage')\n",
    "X_normal_vs_II.__delitem__('patient_barcode')\n",
    "X_normal_vs_II.__delitem__('pathologic_stage')\n",
    "X_normal_vs_III.__delitem__('patient_barcode')\n",
    "X_normal_vs_III.__delitem__('pathologic_stage')\n",
    "X_normal_vs_IV.__delitem__('patient_barcode')\n",
    "X_normal_vs_IV.__delitem__('pathologic_stage')\n",
    "\n",
    "X.__delitem__('patient_barcode')\n",
    "X.__delitem__('pathologic_stage')\n",
    "\n",
    "print 'miRNA null values', X.isnull().sum().sum()\n",
    "print 'Y null values', Y.isnull().sum()\n",
    "\n",
    "print \"X.shape\", X.shape\n",
    "print \"Y.shape\", Y.shape\n",
    "\n",
    "mirna_list = X.columns.values\n",
    "validated_miRNAs = set(validated_miRNAs['miRNA'].tolist())\n",
    "\n",
    "# Scale miRNA expressions to unit variance\n",
    "X_scaler = preprocessing.StandardScaler(with_mean=False).fit(X)\n",
    "X_normal_vs_I = X_scaler.transform(X_normal_vs_I)\n",
    "X_normal_vs_II = X_scaler.transform(X_normal_vs_II)\n",
    "X_normal_vs_III = X_scaler.transform(X_normal_vs_III)\n",
    "X_normal_vs_IV = X_scaler.transform(X_normal_vs_IV)"
   ]
  },
  {
   "cell_type": "code",
   "execution_count": 3,
   "metadata": {
    "collapsed": false
   },
   "outputs": [
    {
     "name": "stdout",
     "output_type": "stream",
     "text": [
      "mirna_list 1881\nvalidated_miRNAs 110\nnumber of validated miRNAs in list of all miRNAs 109\n"
     ]
    }
   ],
   "source": [
    "print \"mirna_list\", len(mirna_list)\n",
    "print 'validated_miRNAs', len(validated_miRNAs)\n",
    "\n",
    "print \"number of validated miRNAs in list of all miRNAs\", len(validated_miRNAs & set(mirna_list))"
   ]
  },
  {
   "cell_type": "markdown",
   "metadata": {},
   "source": [
    "## Perform classification"
   ]
  },
  {
   "cell_type": "code",
   "execution_count": 40,
   "metadata": {},
   "outputs": [
    {
     "name": "stdout",
     "output_type": "stream",
     "text": [
      "LogisticRegression(C=100.1, class_weight=None, dual=False,\n          fit_intercept=False, intercept_scaling=1, max_iter=100,\n          multi_class='ovr', n_jobs=1, penalty='l1', random_state=None,\n          solver='liblinear', tol=0.0001, verbose=0, warm_start=False)\nLogisticRegression(C=100.1, class_weight=None, dual=False,\n          fit_intercept=False, intercept_scaling=1, max_iter=100,\n          multi_class='ovr', n_jobs=1, penalty='l1', random_state=None,\n          solver='liblinear', tol=0.0001, verbose=0, warm_start=False)\nLogisticRegression(C=100.1, class_weight=None, dual=False,\n          fit_intercept=False, intercept_scaling=1, max_iter=100,\n          multi_class='ovr', n_jobs=1, penalty='l1', random_state=None,\n          solver='liblinear', tol=0.0001, verbose=0, warm_start=False)\nLogisticRegression(C=100.1, class_weight=None, dual=False,\n          fit_intercept=False, intercept_scaling=1, max_iter=100,\n          multi_class='ovr', n_jobs=1, penalty='l1', random_state=None,\n          solver='liblinear', tol=0.0001, verbose=0, warm_start=False)\n"
     ]
    }
   ],
   "source": [
    "from sklearn.model_selection import train_test_split\n",
    "from sklearn import linear_model\n",
    "from sklearn import metrics\n",
    "import numpy as np\n",
    "\n",
    "# X_train, X_test, y_train, y_test = train_test_split(X, Y, test_size=0.2, random_state=np.random.randint(0, 10000))\n",
    "# print 'X_train', X_train.shape, ', y_train', y_train.shape\n",
    "# print 'X_test', X_test.shape, ', y_test', y_test.shape\n",
    "\n",
    "normal_vs_I = linear_model.LogisticRegression(C=100.1, penalty='l1', fit_intercept=False)\n",
    "normal_vs_II = linear_model.LogisticRegression(C=100.1, penalty='l1', fit_intercept=False)\n",
    "normal_vs_III = linear_model.LogisticRegression(C=100.1, penalty='l1', fit_intercept=False)\n",
    "normal_vs_IV = linear_model.LogisticRegression(C=100.1, penalty='l1', fit_intercept=False)\n",
    "print normal_vs_I.fit(X_normal_vs_I, Y_normal_vs_I)\n",
    "print normal_vs_II.fit(X_normal_vs_II, Y_normal_vs_II)\n",
    "print normal_vs_III.fit(X_normal_vs_III, Y_normal_vs_III)\n",
    "print normal_vs_IV.fit(X_normal_vs_IV, Y_normal_vs_IV)\n",
    "\n",
    "# print \"\\nClassification_report on training\"\n",
    "# print metrics.classification_report(y_train, model.predict(X_train), \n",
    "#                                     labels=['normal', 'Stage I', 'Stage II', 'Stage III', 'Stage IV'], \n",
    "#                                     target_names=['normal', 'Stage I', 'Stage II', 'Stage III', 'Stage IV'])\n",
    "# print \"classification_report on testing\"\n",
    "# print metrics.classification_report(y_test, model.predict(X_test), \n",
    "#                                     labels=['normal', 'Stage I', 'Stage II', 'Stage III', 'Stage IV'], \n",
    "#                                     target_names=['normal', 'Stage I', 'Stage II', 'Stage III', 'Stage IV'])\n",
    "# print metrics.confusion_matrix(y_test, model.predict(X_test), \n",
    "#                                labels=['normal', 'Stage I', 'Stage II', 'Stage III', 'Stage IV'])"
   ]
  },
  {
   "cell_type": "code",
   "execution_count": 41,
   "metadata": {
    "collapsed": false
   },
   "outputs": [
    {
     "name": "stdout",
     "output_type": "stream",
     "text": [
      "\nnormal_vs_I\nNon-zero coef: 184\n     coefficient          mirna\n179     0.927528   hsa-mir-7108\n105     0.749796   hsa-mir-4529\n109     0.563179   hsa-mir-4655\n130     0.555693  hsa-mir-486-2\n27      0.547929    hsa-mir-144\n26      0.504786    hsa-mir-143\n     coefficient         mirna\n167    -1.085341  hsa-mir-6787\n7      -0.938149  hsa-mir-106a\n178    -0.674254   hsa-mir-7-1\n153    -0.668082   hsa-mir-628\n47     -0.657947    hsa-mir-21\n91     -0.640079  hsa-mir-4443\nPercentage of known NSCLC miRNAs: 0.290909090909\nset(['hsa-mir-15a', 'hsa-mir-21', 'hsa-mir-218-2', 'hsa-mir-218-1', 'hsa-mir-497', 'hsa-mir-148a', 'hsa-mir-143', 'hsa-mir-200b', 'hsa-mir-378a', 'hsa-mir-182', 'hsa-mir-186', 'hsa-mir-34a', 'hsa-mir-1-1', 'hsa-mir-30a', 'hsa-mir-1-2', 'hsa-mir-29c', 'hsa-mir-708', 'hsa-mir-17', 'hsa-mir-150', 'hsa-mir-199b', 'hsa-mir-155', 'hsa-mir-625', 'hsa-mir-199a-2', 'hsa-mir-7-1', 'hsa-mir-96', 'hsa-mir-106a', 'hsa-mir-135b', 'hsa-mir-133b', 'hsa-mir-199a-1', 'hsa-mir-146a', 'hsa-let-7a-3', 'hsa-let-7a-1']) 32\n\nnormal_vs_II\nNon-zero coef: 140\n     coefficient          mirna\n58      0.631836   hsa-mir-378a\n132     0.574007   hsa-mir-7108\n20      0.487348    hsa-mir-143\n105     0.334833    hsa-mir-598\n36      0.334097  hsa-mir-218-1\n78      0.333598   hsa-mir-4528\n     coefficient           mirna\n70     -0.799500    hsa-mir-4443\n115    -0.722528     hsa-mir-639\n56     -0.719348  hsa-mir-3680-2\n91     -0.688032    hsa-mir-4782\n35     -0.601023      hsa-mir-21\n18     -0.587651     hsa-mir-141\nPercentage of known NSCLC miRNAs: 0.2\nset(['hsa-mir-21', 'hsa-mir-218-2', 'hsa-mir-218-1', 'hsa-mir-148a', 'hsa-mir-143', 'hsa-mir-200b', 'hsa-mir-378a', 'hsa-mir-186', 'hsa-mir-34a', 'hsa-mir-1-1', 'hsa-mir-30a', 'hsa-mir-1254-1', 'hsa-mir-708', 'hsa-mir-199a-1', 'hsa-mir-625', 'hsa-mir-199a-2', 'hsa-mir-7-1', 'hsa-mir-361', 'hsa-mir-29b-1', 'hsa-mir-106a', 'hsa-let-7a-3', 'hsa-let-7a-1']) 22\n\nnormal_vs_III\nNon-zero coef: 147\n     coefficient          mirna\n137     0.529884   hsa-mir-7704\n136     0.524851   hsa-mir-7108\n97      0.502200  hsa-mir-486-1\n127     0.428905   hsa-mir-6813\n118     0.408406   hsa-mir-6717\n20      0.400009    hsa-mir-143\n     coefficient         mirna\n25     -1.064915   hsa-mir-182\n70     -0.898200  hsa-mir-4426\n134    -0.776759   hsa-mir-708\n35     -0.750288    hsa-mir-21\n116    -0.547975   hsa-mir-639\n146    -0.516174    hsa-mir-96\nPercentage of known NSCLC miRNAs: 0.218181818182\nset(['hsa-mir-21', 'hsa-mir-218-2', 'hsa-mir-218-1', 'hsa-mir-143', 'hsa-mir-222', 'hsa-mir-181a-2', 'hsa-mir-378a', 'hsa-mir-126', 'hsa-mir-182', 'hsa-mir-186', 'hsa-mir-34a', 'hsa-mir-1-1', 'hsa-mir-30a', 'hsa-mir-1254-1', 'hsa-mir-1-2', 'hsa-mir-708', 'hsa-mir-17', 'hsa-mir-199b', 'hsa-mir-199a-1', 'hsa-mir-7-1', 'hsa-mir-424', 'hsa-mir-96', 'hsa-mir-106a', 'hsa-mir-133b']) 24\n\nnormal_vs_IV\nNon-zero coef: 103\n    coefficient         mirna\n26     0.485278   hsa-mir-30a\n98     0.455710  hsa-mir-7704\n90     0.446324  hsa-mir-6788\n41     0.443320  hsa-mir-378a\n94     0.419677  hsa-mir-6892\n9      0.405531   hsa-mir-143\n    coefficient          mirna\n79    -0.697066    hsa-mir-623\n55    -0.629131   hsa-mir-4668\n8     -0.621398    hsa-mir-141\n30    -0.598709   hsa-mir-3178\n68    -0.589673  hsa-mir-548au\n54    -0.558514   hsa-mir-4661\nPercentage of known NSCLC miRNAs: 0.109090909091\nset(['hsa-mir-378a', 'hsa-mir-21', 'hsa-mir-106a', 'hsa-mir-182', 'hsa-mir-193b', 'hsa-mir-186', 'hsa-mir-143', 'hsa-mir-30a', 'hsa-mir-7-1', 'hsa-let-7a-2', 'hsa-let-7a-3', 'hsa-let-7a-1']) 12\n"
     ]
    }
   ],
   "source": [
    "from src.utils.validate_candidate_miRNAs import percent_candidate_in_validated as pciv\n",
    "results = []\n",
    "\n",
    "for model, name in zip([normal_vs_I, normal_vs_II, normal_vs_III, normal_vs_IV], ['normal_vs_I', 'normal_vs_II', 'normal_vs_III', 'normal_vs_IV']):\n",
    "    print '\\n', name \n",
    "    non_zero_idx = np.nonzero(model.coef_.ravel())[0]\n",
    "    print \"Non-zero coef:\", non_zero_idx.size\n",
    "    df = pandas.DataFrame({\"mirna\": mirna_list[non_zero_idx],\n",
    "                           \"coefficient\": model.coef_.ravel()[non_zero_idx]})\n",
    "    print df.sort_values(by='coefficient', ascending=False).head(6)\n",
    "    print df.sort_values(by='coefficient', ascending=True).head(6)\n",
    "    print \"Percentage of known NSCLC miRNAs:\", pciv(df['mirna'].tolist(), validated_miRNAs)\n",
    "    print set(df['mirna'].tolist()) & validated_miRNAs, len(set(df['mirna'].tolist()) & validated_miRNAs)\n",
    "    results.append(df)"
   ]
  },
  {
   "cell_type": "code",
   "execution_count": 32,
   "metadata": {},
   "outputs": [
    {
     "name": "stdout",
     "output_type": "stream",
     "text": [
      "[0.5, 0.5, 0.5, 0.90144927536231889, 0.96086956521739131, 0.9746376811594204, 0.98550724637681164, 0.98985507246376803, 0.98840579710144927]\n[0.5, 0.5, 0.5, 0.5, 0.96833333333333327, 0.98666666666666669, 0.9933333333333334, 0.99833333333333329, 0.99666666666666659]\n[0.5, 0.5, 0.5, 0.5, 0.94523809523809532, 0.94761904761904769, 0.95714285714285718, 0.98095238095238102, 0.99523809523809526]\n[0.5, 0.5, 0.5, 0.5, 0.95833333333333337, 0.95833333333333337, 0.93333333333333335, 0.95833333333333326, 1.0]\n"
     ]
    },
    {
     "data": {
      "image/png": "[encoded data removed]",
      "text/plain": [
       "<matplotlib.figure.Figure at 0x7fec0ce205d0>"
      ]
     },
     "metadata": {},
     "output_type": "display_data"
    }
   ],
   "source": [
    "from matplotlib import pyplot as plt\n",
    "\n",
    "for model, name in zip([normal_vs_I, normal_vs_II, normal_vs_III, normal_vs_IV], ['normal_vs_I', 'normal_vs_II', 'normal_vs_III', 'normal_vs_IV']):\n",
    "    print list(model.scores_['normal'][1])\n",
    "    plt.plot(list(model.scores_['normal'][1]), label=name)\n",
    "    \n",
    "plt.legend()\n",
    "plt.ylabel('ROC Area under curve')\n",
    "plt.xlabel('Sparsity level')\n",
    "plt.title('Performance of normal v.s. various stages classifier')\n",
    "plt.axis('tight')\n",
    "plt.show()"
   ]
  },
  {
   "cell_type": "code",
   "execution_count": 45,
   "metadata": {},
   "outputs": [
    {
     "name": "stdout",
     "output_type": "stream",
     "text": [
      "\nStage 1 - Stage 1  :  184\n\nStage 1 - Stage 2  :  75\n\nStage 1 - Stage 3  :  74\n\nStage 1 - Stage 4  :  47\n\nStage 2 - Stage 1  :  75\n\nStage 2 - Stage 2  :  140\n\nStage 2 - Stage 3  :  60\n\nStage 2 - Stage 4  :  44\n\nStage 3 - Stage 1  :  74\n\nStage 3 - Stage 2  :  60\n\nStage 3 - Stage 3  :  147\n\nStage 3 - Stage 4  :  43\n\nStage 4 - Stage 1  :  47\n\nStage 4 - Stage 2  :  44\n\nStage 4 - Stage 3  :  43\n\nStage 4 - Stage 4  :  103\n"
     ]
    }
   ],
   "source": [
    "for i in range(len(results)):\n",
    "    for j in range(len(results)):\n",
    "        print '\\n', \"Stage \"+str(i+1)+' - Stage '+str(j+1), ' : ',len(set(results[i]['mirna'].tolist()) & set(results[j]['mirna'].tolist()))\n",
    "        # print set(results[i]['mirna'].tolist()) & set(results[j]['mirna'].tolist())"
   ]
  },
  {
   "cell_type": "code",
   "execution_count": null,
   "metadata": {},
   "outputs": [],
   "source": [
    ""
   ]
  }
 ],
 "metadata": {
  "kernelspec": {
   "display_name": "Python 2",
   "language": "python",
   "name": "python2"
  },
  "language_info": {
   "codemirror_mode": {
    "name": "ipython",
    "version": 2.0
   },
   "file_extension": ".py",
   "mimetype": "text/x-python",
   "name": "python",
   "nbconvert_exporter": "python",
   "pygments_lexer": "ipython2",
   "version": "2.7.6"
  }
 },
 "nbformat": 4,
 "nbformat_minor": 0
}