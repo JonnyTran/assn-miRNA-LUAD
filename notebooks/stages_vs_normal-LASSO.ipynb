{
 "cells": [
  {
   "cell_type": "code",
   "execution_count": 13,
   "metadata": {
    "collapsed": false
   },
   "outputs": [
    {
     "name": "stdout",
     "output_type": "stream",
     "text": [
      "mirna_tumor_df.shape (513, 1882)\nmirna_normal_df.shape (46, 1882)\nvalidated_miRNAs.shape (110, 1)\nnormal    46\nName: pathologic_stage, dtype: int64\nStage I      277\nStage II     121\nStage III     84\nStage IV      24\nName: pathologic_stage, dtype: int64\n"
     ]
    }
   ],
   "source": [
    "import os\n",
    "import pandas\n",
    "from definitions import ROOT_DIR\n",
    "\n",
    "mirna_tumor_df = pandas.read_csv(os.path.join(ROOT_DIR, \"data/processed/miRNA/tumor_miRNA.csv\"))\n",
    "mirna_normal_df = pandas.read_csv(os.path.join(ROOT_DIR, \"data/processed/miRNA/normal_miRNA.csv\"))\n",
    "clinical_df = pandas.read_csv(os.path.join(ROOT_DIR, \"data/processed/clinical/clinical.csv\"))\n",
    "validated_miRNA_csv = pandas.read_csv(os.path.join(ROOT_DIR, 'data/external/validated_nsclc_miRNAs.csv'))\n",
    "\n",
    "print \"mirna_tumor_df.shape\", mirna_tumor_df.shape\n",
    "print \"mirna_normal_df.shape\", mirna_normal_df.shape\n",
    "print 'validated_miRNAs.shape', validated_miRNAs.shape\n",
    "\n",
    "X_normal = pandas.merge(clinical_df[['patient_barcode', 'pathologic_stage']], mirna_normal_df, on='patient_barcode')\n",
    "X_normal['pathologic_stage'] = 'normal'\n",
    "X_tumor = pandas.merge(clinical_df[['patient_barcode', 'pathologic_stage']], mirna_tumor_df, on='patient_barcode')\n",
    "\n",
    "# Map stage IA to stage I, IB to I, etc. ...\n",
    "pathologic_stage_map = {'Stage IA': 'Stage I', 'Stage IB': 'Stage I', \n",
    "                        'Stage IIA': 'Stage II', 'Stage IIB': 'Stage II', \n",
    "                        'Stage IIIA': 'Stage III', 'Stage IIIB': 'Stage III'}\n",
    "\n",
    "X_tumor.replace({'pathologic_stage': pathologic_stage_map}, inplace=True)\n",
    "\n",
    "print X_normal['pathologic_stage'].value_counts().sort_index(axis=0)\n",
    "print X_tumor['pathologic_stage'].value_counts().sort_index(axis=0)"
   ]
  },
  {
   "cell_type": "markdown",
   "metadata": {},
   "source": [
    "## We now create data matrixes from tumor vs normal samples"
   ]
  },
  {
   "cell_type": "code",
   "execution_count": 14,
   "metadata": {},
   "outputs": [
    {
     "name": "stdout",
     "output_type": "stream",
     "text": [
      "miRNA null values 0\nY null values 0\nX.shape (552, 1881)\nY.shape (552,)\n"
     ]
    }
   ],
   "source": [
    "from sklearn import preprocessing\n",
    "\n",
    "X = pandas.concat([X_normal, X_tumor]).dropna(subset=['pathologic_stage'])\n",
    "Y = X['pathologic_stage']\n",
    "\n",
    "X_normal_vs_I = X[X['pathologic_stage'].isin(['normal', 'Stage I'])]\n",
    "X_normal_vs_II = X[X['pathologic_stage'].isin(['normal', 'Stage II'])]\n",
    "X_normal_vs_III = X[X['pathologic_stage'].isin(['normal', 'Stage III'])]\n",
    "X_normal_vs_IV = X[X['pathologic_stage'].isin(['normal', 'Stage IV'])]\n",
    "\n",
    "Y_normal_vs_I = X_normal_vs_I['pathologic_stage']\n",
    "Y_normal_vs_II = X_normal_vs_II['pathologic_stage']\n",
    "Y_normal_vs_III = X_normal_vs_III['pathologic_stage']\n",
    "Y_normal_vs_IV = X_normal_vs_IV['pathologic_stage']\n",
    "\n",
    "X_normal_vs_I.__delitem__('patient_barcode')\n",
    "X_normal_vs_I.__delitem__('pathologic_stage')\n",
    "X_normal_vs_II.__delitem__('patient_barcode')\n",
    "X_normal_vs_II.__delitem__('pathologic_stage')\n",
    "X_normal_vs_III.__delitem__('patient_barcode')\n",
    "X_normal_vs_III.__delitem__('pathologic_stage')\n",
    "X_normal_vs_IV.__delitem__('patient_barcode')\n",
    "X_normal_vs_IV.__delitem__('pathologic_stage')\n",
    "\n",
    "X.__delitem__('patient_barcode')\n",
    "X.__delitem__('pathologic_stage')\n",
    "\n",
    "print 'miRNA null values', X.isnull().sum().sum()\n",
    "print 'Y null values', Y.isnull().sum()\n",
    "\n",
    "print \"X.shape\", X.shape\n",
    "print \"Y.shape\", Y.shape\n",
    "\n",
    "mirna_list = X.columns.values\n",
    "validated_miRNAs = set(validated_miRNA_csv['miRNA'].tolist())\n",
    "\n",
    "# Scale miRNA expressions to unit variance\n",
    "X_scaler = preprocessing.StandardScaler(with_mean=False).fit(X)\n",
    "X_normal_vs_I = X_scaler.transform(X_normal_vs_I)\n",
    "X_normal_vs_II = X_scaler.transform(X_normal_vs_II)\n",
    "X_normal_vs_III = X_scaler.transform(X_normal_vs_III)\n",
    "X_normal_vs_IV = X_scaler.transform(X_normal_vs_IV)\n",
    "X = X_scaler.transform(X)"
   ]
  },
  {
   "cell_type": "code",
   "execution_count": 37,
   "metadata": {
    "collapsed": false
   },
   "outputs": [
    {
     "name": "stdout",
     "output_type": "stream",
     "text": [
      "mirna_list 1881\nvalidated_miRNAs 110\nnumber of validated miRNAs in list of all miRNAs 109\nStage I    277\nnormal      46\nName: pathologic_stage, dtype: int64\nStage II    121\nnormal       46\nName: pathologic_stage, dtype: int64\nStage III    84\nnormal       46\nName: pathologic_stage, dtype: int64\nnormal      46\nStage IV    24\nName: pathologic_stage, dtype: int64\n"
     ]
    }
   ],
   "source": [
    "print \"mirna_list\", len(mirna_list)\n",
    "print 'validated_miRNAs', len(validated_miRNAs)\n",
    "\n",
    "print \"number of validated miRNAs in list of all miRNAs\", len(validated_miRNAs & set(mirna_list))\n",
    "\n",
    "print Y_normal_vs_I.value_counts()\n",
    "print Y_normal_vs_II.value_counts()\n",
    "print Y_normal_vs_III.value_counts()\n",
    "print Y_normal_vs_IV.value_counts()"
   ]
  },
  {
   "cell_type": "markdown",
   "metadata": {},
   "source": [
    "## Perform classification for normal vs Stage I, Stage II, Stage III, and Stage IV"
   ]
  },
  {
   "cell_type": "code",
   "execution_count": 38,
   "metadata": {},
   "outputs": [
    {
     "name": "stdout",
     "output_type": "stream",
     "text": [
      "LogisticRegression(C=100.1, class_weight=None, dual=False,\n          fit_intercept=False, intercept_scaling=1, max_iter=100,\n          multi_class='ovr', n_jobs=1, penalty='l1', random_state=None,\n          solver='liblinear', tol=0.0001, verbose=0, warm_start=False)\nLogisticRegression(C=100.1, class_weight=None, dual=False,\n          fit_intercept=False, intercept_scaling=1, max_iter=100,\n          multi_class='ovr', n_jobs=1, penalty='l1', random_state=None,\n          solver='liblinear', tol=0.0001, verbose=0, warm_start=False)\nLogisticRegression(C=100.1, class_weight=None, dual=False,\n          fit_intercept=False, intercept_scaling=1, max_iter=100,\n          multi_class='ovr', n_jobs=1, penalty='l1', random_state=None,\n          solver='liblinear', tol=0.0001, verbose=0, warm_start=False)\nLogisticRegression(C=100.1, class_weight=None, dual=False,\n          fit_intercept=False, intercept_scaling=1, max_iter=100,\n          multi_class='ovr', n_jobs=1, penalty='l1', random_state=None,\n          solver='liblinear', tol=0.0001, verbose=0, warm_start=False)\n"
     ]
    }
   ],
   "source": [
    "from sklearn.model_selection import train_test_split\n",
    "from sklearn import linear_model\n",
    "from sklearn import metrics\n",
    "import numpy as np\n",
    "\n",
    "X_normal_vs_I_train, X_normal_vs_I_test, Y_normal_vs_I_train, Y_normal_vs_I_test = \\\n",
    "    train_test_split(X_normal_vs_I, Y_normal_vs_I, test_size=0.2, random_state=np.random.randint(0, 10000))\n",
    "\n",
    "X_normal_vs_II_train, X_normal_vs_II_test, Y_normal_vs_II_train, Y_normal_vs_II_test = \\\n",
    "    train_test_split(X_normal_vs_II, Y_normal_vs_II, test_size=0.2, random_state=np.random.randint(0, 10000))\n",
    "\n",
    "X_normal_vs_III_train, X_normal_vs_III_test, Y_normal_vs_III_train, Y_normal_vs_III_test = \\\n",
    "    train_test_split(X_normal_vs_III, Y_normal_vs_III, test_size=0.2, random_state=np.random.randint(0, 10000))\n",
    "\n",
    "X_normal_vs_IV_train, X_normal_vs_IV_test, Y_normal_vs_IV_train, Y_normal_vs_IV_test = \\\n",
    "    train_test_split(X_normal_vs_IV, Y_normal_vs_IV, test_size=0.2, random_state=np.random.randint(0, 10000))\n",
    "\n",
    "\n",
    "normal_vs_I = linear_model.LogisticRegression(C=100.1, penalty='l1', fit_intercept=False)\n",
    "normal_vs_II = linear_model.LogisticRegression(C=100.1, penalty='l1', fit_intercept=False)\n",
    "normal_vs_III = linear_model.LogisticRegression(C=100.1, penalty='l1', fit_intercept=False)\n",
    "normal_vs_IV = linear_model.LogisticRegression(C=100.1, penalty='l1', fit_intercept=False)\n",
    "print normal_vs_I.fit(X_normal_vs_I_train, Y_normal_vs_I_train)\n",
    "print normal_vs_II.fit(X_normal_vs_II_train, Y_normal_vs_II_train)\n",
    "print normal_vs_III.fit(X_normal_vs_III_train, Y_normal_vs_III_train)\n",
    "print normal_vs_IV.fit(X_normal_vs_IV_train, Y_normal_vs_IV_train)\n",
    "\n",
    "# print \"\\nClassification_report on training\"\n",
    "# print metrics.classification_report(y_train, model.predict(X_train), \n",
    "#                                     labels=['normal', 'Stage I', 'Stage II', 'Stage III', 'Stage IV'], \n",
    "#                                     target_names=['normal', 'Stage I', 'Stage II', 'Stage III', 'Stage IV'])\n",
    "# print \"classification_report on testing\"\n",
    "# print metrics.classification_report(y_test, model.predict(X_test), \n",
    "#                                     labels=['normal', 'Stage I', 'Stage II', 'Stage III', 'Stage IV'], \n",
    "#                                     target_names=['normal', 'Stage I', 'Stage II', 'Stage III', 'Stage IV'])\n",
    "# print metrics.confusion_matrix(y_test, model.predict(X_test), \n",
    "#                                labels=['normal', 'Stage I', 'Stage II', 'Stage III', 'Stage IV'])"
   ]
  },
  {
   "cell_type": "markdown",
   "metadata": {},
   "source": [
    "## Show number of candidate miRNAs, top miRNAs based on coefficient, and percentage of known miRNA"
   ]
  },
  {
   "cell_type": "code",
   "execution_count": 39,
   "metadata": {
    "collapsed": false
   },
   "outputs": [
    {
     "name": "stdout",
     "output_type": "stream",
     "text": [
      "\nnormal_vs_I\nNon-zero coef: 129\n     coefficient          mirna\n93      1.133849  hsa-mir-486-2\n123     0.963129   hsa-mir-7108\n20      0.785689    hsa-mir-143\n75      0.717223   hsa-mir-4529\n55      0.501423   hsa-mir-3916\n124     0.501420   hsa-mir-7704\n     coefficient         mirna\n106    -0.899259   hsa-mir-628\n114    -0.862309  hsa-mir-6787\n7      -0.695066  hsa-mir-106a\n34     -0.681934    hsa-mir-21\n97     -0.678753  hsa-mir-5579\n23     -0.652492   hsa-mir-182\nPercentage of known NSCLC miRNAs: 0.181818181818\nset(['hsa-mir-200b', 'hsa-mir-378a', 'hsa-mir-21', 'hsa-mir-106a', 'hsa-mir-135b', 'hsa-mir-218-1', 'hsa-mir-34a', 'hsa-mir-182', 'hsa-mir-148a', 'hsa-mir-199b', 'hsa-mir-186', 'hsa-mir-143', 'hsa-mir-625', 'hsa-mir-199a-2', 'hsa-mir-1-1', 'hsa-mir-199a-1', 'hsa-mir-7-1', 'hsa-let-7a-2', 'hsa-let-7a-3', 'hsa-let-7a-1']) 20\n\nnormal_vs_II\nNon-zero coef: 126\n     coefficient          mirna\n73      0.693833   hsa-mir-4689\n122     0.660391   hsa-mir-7108\n79      0.658154  hsa-mir-486-1\n4       0.510214   hsa-let-7f-1\n19      0.496078    hsa-mir-143\n5       0.390494   hsa-let-7f-2\n    coefficient           mirna\n62    -0.826516    hsa-mir-4443\n36    -0.788086      hsa-mir-21\n51    -0.742969  hsa-mir-3680-2\n17    -0.600391     hsa-mir-141\n71    -0.595523    hsa-mir-4668\n46    -0.585539    hsa-mir-3174\nPercentage of known NSCLC miRNAs: 0.2\nset(['hsa-mir-21', 'hsa-mir-218-2', 'hsa-mir-218-1', 'hsa-mir-148a', 'hsa-mir-143', 'hsa-mir-378a', 'hsa-mir-182', 'hsa-mir-186', 'hsa-mir-34a', 'hsa-mir-1-1', 'hsa-mir-30a', 'hsa-mir-708', 'hsa-mir-199b', 'hsa-mir-199a-1', 'hsa-mir-625', 'hsa-mir-199a-2', 'hsa-mir-7-1', 'hsa-mir-361', 'hsa-mir-106a', 'hsa-mir-133b', 'hsa-let-7a-3', 'hsa-let-7a-1']) 22\n\nnormal_vs_III\nNon-zero coef: 128\n     coefficient         mirna\n119     0.753261  hsa-mir-7704\n83      0.469241  hsa-mir-4732\n20      0.413921   hsa-mir-143\n56      0.381304  hsa-mir-378a\n110     0.373045  hsa-mir-6788\n118     0.368682  hsa-mir-7108\n     coefficient         mirna\n34     -0.893500    hsa-mir-21\n25     -0.881440   hsa-mir-182\n65     -0.518670  hsa-mir-4426\n114    -0.467805  hsa-mir-6855\n63     -0.455418   hsa-mir-424\n55     -0.430922  hsa-mir-374c\nPercentage of known NSCLC miRNAs: 0.218181818182\nset(['hsa-mir-21', 'hsa-mir-218-2', 'hsa-mir-218-1', 'hsa-mir-143', 'hsa-mir-181a-1', 'hsa-mir-181a-2', 'hsa-mir-378a', 'hsa-mir-182', 'hsa-mir-186', 'hsa-mir-34a', 'hsa-mir-1-1', 'hsa-mir-30a', 'hsa-mir-1254-1', 'hsa-mir-1-2', 'hsa-mir-7-1', 'hsa-mir-708', 'hsa-mir-199b', 'hsa-mir-199a-1', 'hsa-mir-199a-2', 'hsa-mir-93', 'hsa-mir-424', 'hsa-mir-96', 'hsa-mir-106a', 'hsa-mir-212']) 24\n\nnormal_vs_IV\nNon-zero coef: 111\n     coefficient         mirna\n103     0.512884  hsa-mir-6892\n14      0.511851   hsa-mir-143\n107     0.484594  hsa-mir-7704\n64      0.410377  hsa-mir-4655\n100     0.392125  hsa-mir-6788\n105     0.369194  hsa-mir-7108\n     coefficient          mirna\n13     -0.863552    hsa-mir-141\n106    -0.832598   hsa-mir-7158\n65     -0.642127   hsa-mir-4661\n66     -0.521216   hsa-mir-4668\n79     -0.518402  hsa-mir-548au\n89     -0.515701    hsa-mir-623\nPercentage of known NSCLC miRNAs: 0.154545454545\nset(['hsa-mir-378a', 'hsa-mir-7-1', 'hsa-mir-106a', 'hsa-mir-218-2', 'hsa-let-7a-3', 'hsa-mir-193b', 'hsa-mir-199b', 'hsa-mir-186', 'hsa-mir-143', 'hsa-mir-34b', 'hsa-mir-1-1', 'hsa-mir-30a', 'hsa-mir-93', 'hsa-mir-1-2', 'hsa-let-7a-2', 'hsa-mir-1254-1', 'hsa-let-7a-1']) 17\n"
     ]
    }
   ],
   "source": [
    "from src.utils.validate_candidate_miRNAs import percent_candidate_in_validated as pciv\n",
    "results = []\n",
    "\n",
    "for model, name in zip([normal_vs_I, normal_vs_II, normal_vs_III, normal_vs_IV], \n",
    "                       ['normal_vs_I', 'normal_vs_II', 'normal_vs_III', 'normal_vs_IV']):\n",
    "    print '\\n', name \n",
    "    non_zero_idx = np.nonzero(model.coef_.ravel())[0]\n",
    "    print \"Non-zero coef:\", non_zero_idx.size\n",
    "    df = pandas.DataFrame({\"mirna\": mirna_list[non_zero_idx],\n",
    "                           \"coefficient\": model.coef_.ravel()[non_zero_idx]})\n",
    "    print df.sort_values(by='coefficient', ascending=False).head(6)\n",
    "    print df.sort_values(by='coefficient', ascending=True).head(6)\n",
    "    print \"Percentage of known NSCLC miRNAs:\", pciv(df['mirna'].tolist(), validated_miRNAs)\n",
    "    print set(df['mirna'].tolist()) & validated_miRNAs, len(set(df['mirna'].tolist()) & validated_miRNAs)\n",
    "    \n",
    "    results.append(df)"
   ]
  },
  {
   "cell_type": "code",
   "execution_count": 7,
   "metadata": {},
   "outputs": [
    {
     "ename": "AttributeError",
     "evalue": "'LogisticRegression' object has no attribute 'scores_'",
     "traceback": [
      "\u001b[0;31m\u001b[0m",
      "\u001b[0;31mAttributeError\u001b[0mTraceback (most recent call last)",
      "\u001b[0;32m<ipython-input-7-4279a139e60d>\u001b[0m in \u001b[0;36m<module>\u001b[0;34m()\u001b[0m\n\u001b[1;32m      2\u001b[0m \u001b[0;34m\u001b[0m\u001b[0m\n\u001b[1;32m      3\u001b[0m \u001b[0;32mfor\u001b[0m \u001b[0mmodel\u001b[0m\u001b[0;34m,\u001b[0m \u001b[0mname\u001b[0m \u001b[0;32min\u001b[0m \u001b[0mzip\u001b[0m\u001b[0;34m(\u001b[0m\u001b[0;34m[\u001b[0m\u001b[0mnormal_vs_I\u001b[0m\u001b[0;34m,\u001b[0m \u001b[0mnormal_vs_II\u001b[0m\u001b[0;34m,\u001b[0m \u001b[0mnormal_vs_III\u001b[0m\u001b[0;34m,\u001b[0m \u001b[0mnormal_vs_IV\u001b[0m\u001b[0;34m]\u001b[0m\u001b[0;34m,\u001b[0m \u001b[0;34m[\u001b[0m\u001b[0;34m'normal_vs_I'\u001b[0m\u001b[0;34m,\u001b[0m \u001b[0;34m'normal_vs_II'\u001b[0m\u001b[0;34m,\u001b[0m \u001b[0;34m'normal_vs_III'\u001b[0m\u001b[0;34m,\u001b[0m \u001b[0;34m'normal_vs_IV'\u001b[0m\u001b[0;34m]\u001b[0m\u001b[0;34m)\u001b[0m\u001b[0;34m:\u001b[0m\u001b[0;34m\u001b[0m\u001b[0m\n\u001b[0;32m----> 4\u001b[0;31m     \u001b[0;32mprint\u001b[0m \u001b[0mlist\u001b[0m\u001b[0;34m(\u001b[0m\u001b[0mmodel\u001b[0m\u001b[0;34m.\u001b[0m\u001b[0mscores_\u001b[0m\u001b[0;34m[\u001b[0m\u001b[0;34m'normal'\u001b[0m\u001b[0;34m]\u001b[0m\u001b[0;34m[\u001b[0m\u001b[0;36m1\u001b[0m\u001b[0;34m]\u001b[0m\u001b[0;34m)\u001b[0m\u001b[0;34m\u001b[0m\u001b[0m\n\u001b[0m\u001b[1;32m      5\u001b[0m     \u001b[0mplt\u001b[0m\u001b[0;34m.\u001b[0m\u001b[0mplot\u001b[0m\u001b[0;34m(\u001b[0m\u001b[0mlist\u001b[0m\u001b[0;34m(\u001b[0m\u001b[0mmodel\u001b[0m\u001b[0;34m.\u001b[0m\u001b[0mscores_\u001b[0m\u001b[0;34m[\u001b[0m\u001b[0;34m'normal'\u001b[0m\u001b[0;34m]\u001b[0m\u001b[0;34m[\u001b[0m\u001b[0;36m1\u001b[0m\u001b[0;34m]\u001b[0m\u001b[0;34m)\u001b[0m\u001b[0;34m,\u001b[0m \u001b[0mlabel\u001b[0m\u001b[0;34m=\u001b[0m\u001b[0mname\u001b[0m\u001b[0;34m)\u001b[0m\u001b[0;34m\u001b[0m\u001b[0m\n\u001b[1;32m      6\u001b[0m \u001b[0;34m\u001b[0m\u001b[0m\n",
      "\u001b[0;31mAttributeError\u001b[0m: 'LogisticRegression' object has no attribute 'scores_'"
     ],
     "output_type": "error"
    }
   ],
   "source": [
    "from matplotlib import pyplot as plt\n",
    "\n",
    "for model, name in zip([normal_vs_I, normal_vs_II, normal_vs_III, normal_vs_IV], ['normal_vs_I', 'normal_vs_II', 'normal_vs_III', 'normal_vs_IV']):\n",
    "    print list(model.scores_['normal'][1])\n",
    "    plt.plot(list(model.scores_['normal'][1]), label=name)\n",
    "    \n",
    "plt.legend()\n",
    "plt.ylabel('ROC Area under curve')\n",
    "plt.xlabel('Sparsity level')\n",
    "plt.title('Performance of normal v.s. various stages classifier')\n",
    "plt.axis('tight')\n",
    "plt.show()"
   ]
  },
  {
   "cell_type": "code",
   "execution_count": 40,
   "metadata": {},
   "outputs": [
    {
     "name": "stdout",
     "output_type": "stream",
     "text": [
      "\nStage 1 - Stage 1  :  129\n\nStage 1 - Stage 2  :  53\n\nStage 1 - Stage 3  :  55\n\nStage 1 - Stage 4  :  39\n\nStage 2 - Stage 1  :  53\n\nStage 2 - Stage 2  :  126\n\nStage 2 - Stage 3  :  60\n\nStage 2 - Stage 4  :  41\n\nStage 3 - Stage 1  :  55\n\nStage 3 - Stage 2  :  60\n\nStage 3 - Stage 3  :  128\n\nStage 3 - Stage 4  :  41\n\nStage 4 - Stage 1  :  39\n\nStage 4 - Stage 2  :  41\n\nStage 4 - Stage 3  :  41\n\nStage 4 - Stage 4  :  111\n"
     ]
    }
   ],
   "source": [
    "for i in range(len(results)):\n",
    "    for j in range(len(results)):\n",
    "        print '\\n', \"Stage \"+str(i+1)+' - Stage '+str(j+1), ' : ',len(set(results[i]['mirna'].tolist()) & set(results[j]['mirna'].tolist()))\n",
    "        # print set(results[i]['mirna'].tolist()) & set(results[j]['mirna'].tolist())"
   ]
  },
  {
   "cell_type": "code",
   "execution_count": 41,
   "metadata": {},
   "outputs": [
    {
     "name": "stdout",
     "output_type": "stream",
     "text": [
      "             precision    recall  f1-score   support\n\n     normal       1.00      1.00      1.00        10\n    Stage I       1.00      1.00      1.00        55\n\navg / total       1.00      1.00      1.00        65\n\n             precision    recall  f1-score   support\n\n     normal       1.00      1.00      1.00         6\n   Stage II       1.00      1.00      1.00        28\n\navg / total       1.00      1.00      1.00        34\n\n             precision    recall  f1-score   support\n\n     normal       0.88      0.88      0.88         8\n  Stage III       0.94      0.94      0.94        18\n\navg / total       0.92      0.92      0.92        26\n\n             precision    recall  f1-score   support\n\n     normal       1.00      1.00      1.00        12\n   Stage IV       1.00      1.00      1.00         2\n\navg / total       1.00      1.00      1.00        14\n\n"
     ]
    }
   ],
   "source": [
    "# print normal_vs_I.fit(X_normal_vs_I, Y_normal_vs_I)\n",
    "# print normal_vs_II.fit(X_normal_vs_II, Y_normal_vs_II)\n",
    "# print normal_vs_III.fit(X_normal_vs_III, Y_normal_vs_III)\n",
    "# print normal_vs_IV.fit(X_normal_vs_IV, Y_normal_vs_IV)\n",
    "\n",
    "print metrics.classification_report(Y_normal_vs_I_test, normal_vs_I.predict(X_normal_vs_I_test), \n",
    "                                    labels=['normal', 'Stage I'], \n",
    "                                    target_names=['normal', 'Stage I']) \n",
    "print metrics.classification_report(Y_normal_vs_II_test, normal_vs_II.predict(X_normal_vs_II_test), \n",
    "                                    labels=['normal', 'Stage II'], \n",
    "                                    target_names=['normal', 'Stage II']) \n",
    "print metrics.classification_report(Y_normal_vs_III_test, normal_vs_III.predict(X_normal_vs_III_test), \n",
    "                                    labels=['normal', 'Stage III'], \n",
    "                                    target_names=['normal', 'Stage III']) \n",
    "print metrics.classification_report(Y_normal_vs_IV_test, normal_vs_IV.predict(X_normal_vs_IV_test), \n",
    "                                    labels=['normal', 'Stage IV'], \n",
    "                                    target_names=['normal', 'Stage IV'])"
   ]
  },
  {
   "cell_type": "code",
   "execution_count": null,
   "metadata": {},
   "outputs": [],
   "source": [
    "for i in range(len(results)):\n",
    "    "
   ]
  },
  {
   "cell_type": "code",
   "execution_count": null,
   "metadata": {},
   "outputs": [],
   "source": [
    ""
   ]
  }
 ],
 "metadata": {
  "kernelspec": {
   "display_name": "Python 2",
   "language": "python",
   "name": "python2"
  },
  "language_info": {
   "codemirror_mode": {
    "name": "ipython",
    "version": 2.0
   },
   "file_extension": ".py",
   "mimetype": "text/x-python",
   "name": "python",
   "nbconvert_exporter": "python",
   "pygments_lexer": "ipython2",
   "version": "2.7.6"
  }
 },
 "nbformat": 4,
 "nbformat_minor": 0
}